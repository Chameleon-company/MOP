{
 "cells": [
  {
   "cell_type": "markdown",
   "metadata": {},
   "source": [
    "# Build Map"
   ]
  },
  {
   "cell_type": "markdown",
   "metadata": {},
   "source": [
    "## Map Show"
   ]
  },
  {
   "cell_type": "code",
   "execution_count": 1,
   "metadata": {},
   "outputs": [
    {
     "name": "stderr",
     "output_type": "stream",
     "text": [
      "WARNING:root:Requests made without an app_token will be subject to strict throttling limits.\n",
      "/home/honalbert/.local/lib/python3.7/site-packages/ipykernel_launcher.py:32: SettingWithCopyWarning: \n",
      "A value is trying to be set on a copy of a slice from a DataFrame.\n",
      "Try using .loc[row_indexer,col_indexer] = value instead\n",
      "\n",
      "See the caveats in the documentation: https://pandas.pydata.org/pandas-docs/stable/user_guide/indexing.html#returning-a-view-versus-a-copy\n"
     ]
    }
   ],
   "source": [
    "import pandas as pd\n",
    "from sodapy import Socrata\n",
    "import webbrowser\n",
    "import os\n",
    "import numpy as np\n",
    "import folium\n",
    "\n",
    "client = Socrata(\"data.melbourne.vic.gov.au\", None)\n",
    "\n",
    "\n",
    "CPBL = client.get(\"vh2v-4nfs\", limit=2000)  \n",
    "#On-street Parking Bay Sensors:\n",
    "#https://data.melbourne.vic.gov.au/Transport/On-street-Parking-Bay-Sensors/vh2v-4nfs\n",
    "\n",
    "CPBL_df = pd.DataFrame.from_records(CPBL)\n",
    "\n",
    "CPBR = client.get(\"ntht-5rk7\", limit=20000)\n",
    "#On-street Car Park Bay Restrictions:\n",
    "#https://data.melbourne.vic.gov.au/Transport/On-street-Car-Park-Bay-Restrictions/ntht-5rk7\n",
    "CPBR_df = pd.DataFrame.from_records(CPBR)\n",
    "\n",
    "\n",
    "#*****\n",
    "merge_df=pd.merge(CPBL_df,CPBR_df,left_on='bay_id',right_on='bayid', how='left')\n",
    "\n",
    "df=merge_df.iloc[:,[0,1,2,3,4,5,9,10,11,12,13,16,17,18]]\n",
    "\n",
    "d=dict(df['location'])\n",
    "for i in np.arange(0,len(d)):\n",
    "    del d[i]['human_address']\n",
    "dictdf=pd.DataFrame([d])\n",
    "df['location'] = pd.DataFrame(dictdf.values.T, index=dictdf.columns, columns=dictdf.index)\n"
   ]
  },
  {
   "cell_type": "code",
   "execution_count": 2,
   "metadata": {},
   "outputs": [
    {
     "ename": "ModuleNotFoundError",
     "evalue": "No module named 'map'",
     "output_type": "error",
     "traceback": [
      "\u001b[0;31m-------------------------------------------------------------------------\u001b[0m",
      "\u001b[0;31mModuleNotFoundError\u001b[0m                     Traceback (most recent call last)",
      "\u001b[0;32m<ipython-input-2-a3dcfdafd915>\u001b[0m in \u001b[0;36m<module>\u001b[0;34m\u001b[0m\n\u001b[0;32m----> 1\u001b[0;31m \u001b[0;32mfrom\u001b[0m \u001b[0mmap\u001b[0m \u001b[0;32mimport\u001b[0m \u001b[0mmark_map\u001b[0m\u001b[0;34m\u001b[0m\u001b[0;34m\u001b[0m\u001b[0m\n\u001b[0m\u001b[1;32m      2\u001b[0m \u001b[0mmyMap\u001b[0m \u001b[0;34m=\u001b[0m \u001b[0mfolium\u001b[0m\u001b[0;34m.\u001b[0m\u001b[0mMap\u001b[0m\u001b[0;34m(\u001b[0m\u001b[0mlocation\u001b[0m\u001b[0;34m=\u001b[0m\u001b[0;34m[\u001b[0m\u001b[0;34m-\u001b[0m\u001b[0;36m37.82\u001b[0m\u001b[0;34m,\u001b[0m \u001b[0;36m144.95\u001b[0m\u001b[0;34m]\u001b[0m\u001b[0;34m,\u001b[0m \u001b[0mzoom_start\u001b[0m\u001b[0;34m=\u001b[0m\u001b[0;36m14\u001b[0m\u001b[0;34m)\u001b[0m\u001b[0;34m\u001b[0m\u001b[0;34m\u001b[0m\u001b[0m\n\u001b[1;32m      3\u001b[0m \u001b[0;34m\u001b[0m\u001b[0m\n\u001b[1;32m      4\u001b[0m \u001b[0;32mfor\u001b[0m \u001b[0mi\u001b[0m \u001b[0;32min\u001b[0m \u001b[0mrange\u001b[0m\u001b[0;34m(\u001b[0m\u001b[0mlen\u001b[0m\u001b[0;34m(\u001b[0m\u001b[0mdf\u001b[0m\u001b[0;34m)\u001b[0m\u001b[0;34m)\u001b[0m\u001b[0;34m:\u001b[0m\u001b[0;34m\u001b[0m\u001b[0;34m\u001b[0m\u001b[0m\n\u001b[1;32m      5\u001b[0m         \u001b[0;31m# Customize popup content\u001b[0m\u001b[0;34m\u001b[0m\u001b[0;34m\u001b[0m\u001b[0;34m\u001b[0m\u001b[0m\n",
      "\u001b[0;31mModuleNotFoundError\u001b[0m: No module named 'map'"
     ]
    }
   ],
   "source": [
    "from map import mark_map\n",
    "myMap = folium.Map(location=[-37.82, 144.95], zoom_start=14)\n",
    "\n",
    "for i in range(len(df)):\n",
    "        # Customize popup content\n",
    "    test = folium.Html(\n",
    "            '<b>Bay_id:{}</b></br> <b>Statues:{}</b></br> <b>Description:{}</b></br> <b>Duration:{}</b></br> <b>Disability{}</b></br> '.format(data.iloc[i]['bay_id'], data.iloc[i]['status'], data.iloc[i]['description1'],data.iloc[i]['duration1'],data.iloc[i]['disabilityext1']),\n",
    "            script=True)\n",
    "        \n",
    "    popup = folium.Popup(test)\n",
    "        \n",
    "    if df.iloc[i]['status']=='Present':\n",
    "        icon=folium.Icon(color='red', icon='info-sign')\n",
    "    else:\n",
    "        icon=folium.Icon(color='blue', icon='ok-sign')\n",
    "        \n",
    "    folium.Marker([df.iloc[i]['lat'], df.iloc[i]['lon']], popup=popup,icon=icon).add_to(myMap)\n",
    "    myMap.add_child(folium.LatLngPopup())\n",
    "myMap\n",
    "# Save the map\n",
    "#geo_name = 'Geo_Map.html'\n",
    "#to save it in a file\n",
    "#mark_map.save('images/'+geo_name)\n",
    "#webbrowser.open('images/'+geo_name)\n",
    "\n",
    "#image_path = \"file://\"+os.getcwd()+ '/'+ 'images/'+geo_name\n",
    "#webbrowser.open(image_path)\n"
   ]
  },
  {
   "cell_type": "markdown",
   "metadata": {},
   "source": [
    "## Map Filter"
   ]
  },
  {
   "cell_type": "code",
   "execution_count": 3,
   "metadata": {},
   "outputs": [
    {
     "ename": "ModuleNotFoundError",
     "evalue": "No module named 'map'",
     "output_type": "error",
     "traceback": [
      "\u001b[0;31m-------------------------------------------------------------------------\u001b[0m",
      "\u001b[0;31mModuleNotFoundError\u001b[0m                     Traceback (most recent call last)",
      "\u001b[0;32m<ipython-input-3-25472748bc0b>\u001b[0m in \u001b[0;36m<module>\u001b[0;34m\u001b[0m\n\u001b[1;32m      1\u001b[0m \u001b[0;32mfrom\u001b[0m \u001b[0mgeopy\u001b[0m\u001b[0;34m.\u001b[0m\u001b[0mdistance\u001b[0m \u001b[0;32mimport\u001b[0m \u001b[0mgeodesic\u001b[0m\u001b[0;34m\u001b[0m\u001b[0;34m\u001b[0m\u001b[0m\n\u001b[0;32m----> 2\u001b[0;31m \u001b[0;32mfrom\u001b[0m \u001b[0mmap\u001b[0m \u001b[0;32mimport\u001b[0m \u001b[0mmark_map\u001b[0m\u001b[0;34m\u001b[0m\u001b[0;34m\u001b[0m\u001b[0m\n\u001b[0m\u001b[1;32m      3\u001b[0m \u001b[0;32mimport\u001b[0m \u001b[0mfolium\u001b[0m\u001b[0;34m\u001b[0m\u001b[0;34m\u001b[0m\u001b[0m\n\u001b[1;32m      4\u001b[0m \u001b[0;34m\u001b[0m\u001b[0m\n\u001b[1;32m      5\u001b[0m \u001b[0;32mdef\u001b[0m \u001b[0mgeofilter\u001b[0m\u001b[0;34m(\u001b[0m\u001b[0mdata\u001b[0m\u001b[0;34m,\u001b[0m\u001b[0mpin\u001b[0m\u001b[0;34m,\u001b[0m\u001b[0mn\u001b[0m\u001b[0;34m)\u001b[0m\u001b[0;34m:\u001b[0m\u001b[0;34m\u001b[0m\u001b[0;34m\u001b[0m\u001b[0m\n",
      "\u001b[0;31mModuleNotFoundError\u001b[0m: No module named 'map'"
     ]
    }
   ],
   "source": [
    "from geopy.distance import geodesic\n",
    "from map import mark_map\n",
    "import folium\n",
    "\n",
    "def geofilter(data,pin,n):\n",
    "    filter=pd.DataFrame(columns=data.columns.values)\n",
    "    j=0\n",
    "    for i in np.arange(0,data.shape[0]):\n",
    "        d = geodesic(pin[0],data.iloc[i]['location'].values()).km\n",
    "        if d<=n:\n",
    "            filter.loc[j]= data.iloc[i]\n",
    "            j=j+1\n",
    "        else:\n",
    "            continue\n",
    "    filter.to_csv('Geofilter_Pin[{}]_Distance[{}].csv'.\n",
    "                 format(pin, n))\n",
    "    filter_map=mark_map(filter)\n",
    "    folium.Marker(pin[0], popup='PIN', tooltip='PIN',icon=folium.Icon(color='black')).add_to(filter_map)\n",
    "    # Save the map\n",
    "    geo_name = 'filter_map_Pin[{}]_Distance[{}].html'. format(pin, n)\n",
    "    #to save it in a file\n",
    "    filter_map.save('images/'+geo_name)\n",
    "    #webbrowser.open('images/'+geo_name)\n",
    "    image_path = \"file://\"+os.getcwd()+ '/'+ 'images/'+geo_name\n",
    "    webbrowser.open(image_path)\n",
    "    return filter_map\n",
    "    \n",
    "data=df\n",
    "pin=[(-37.8090, 144.9562)]\n",
    "n=6.3\n",
    "geofilter(data,pin,n)\n",
    "\n",
    "\n"
   ]
  },
  {
   "cell_type": "code",
   "execution_count": null,
   "metadata": {},
   "outputs": [],
   "source": []
  },
  {
   "cell_type": "code",
   "execution_count": null,
   "metadata": {},
   "outputs": [],
   "source": [
    "myMap = folium.Map(location=[-37.82, 144.95], zoom_start=14)\n",
    "\n",
    "for i in range(len(data)):\n",
    "        # Customize popup content\n",
    "        test = folium.Html(\n",
    "            '<b>Bay_id:{}</b></br> <b>Statues:{}</b></br> <b>Description:{}</b></br> <b>Duration:{}</b></br> <b>Disability{}</b></br> '.format(data.iloc[i]['bay_id'], data.iloc[i]['status'], data.iloc[i]['description1'],data.iloc[i]['duration1'],data.iloc[i]['disabilityext1']),\n",
    "            script=True)\n",
    "        \n",
    "        popup = folium.Popup(test)\n",
    "        \n",
    "        if data.iloc[i]['status']=='Present':\n",
    "            icon=folium.Icon(color='red', icon='info-sign')\n",
    "        else:\n",
    "            icon=folium.Icon(color='blue', icon='ok-sign')\n",
    "        \n",
    "        folium.Marker([data.iloc[i]['lat'], data.iloc[i]['lon']], popup=popup,icon=icon).add_to(myMap)"
   ]
  },
  {
   "cell_type": "code",
   "execution_count": null,
   "metadata": {},
   "outputs": [],
   "source": []
  },
  {
   "cell_type": "code",
   "execution_count": null,
   "metadata": {},
   "outputs": [],
   "source": []
  }
 ],
 "metadata": {
  "interpreter": {
   "hash": "9387e9e37a0af8fff0fcbade4737076ebc87d0c8fec44545ee3d2fd05cdc73df"
  },
  "kernelspec": {
   "display_name": "Python 3",
   "language": "python",
   "name": "python3"
  },
  "language_info": {
   "codemirror_mode": {
    "name": "ipython",
    "version": 3
   },
   "file_extension": ".py",
   "mimetype": "text/x-python",
   "name": "python",
   "nbconvert_exporter": "python",
   "pygments_lexer": "ipython3",
   "version": "3.7.11"
  }
 },
 "nbformat": 4,
 "nbformat_minor": 2
}
