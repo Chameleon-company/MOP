{
  "nbformat": 4,
  "nbformat_minor": 2,
  "metadata": {
    "colab": {
      "name": "TP_model.ipynb",
      "provenance": [],
      "collapsed_sections": []
    },
    "kernelspec": {
      "name": "python3",
      "display_name": "Python 3"
    },
    "language_info": {
      "name": "python"
    }
  },
  "cells": [
    {
      "cell_type": "code",
      "execution_count": null,
      "source": [
        "from sodapy import Socrata\n",
        "import seaborn as sns \n",
        "import numpy as np\n",
        "import pandas as pd\n",
        "import re, nltk, spacy, gensim\n",
        "\n",
        "# Sklearn\n",
        "from sklearn.decomposition import LatentDirichletAllocation, TruncatedSVD\n",
        "from sklearn.feature_extraction.text import CountVectorizer, TfidfVectorizer\n",
        "from sklearn.model_selection import GridSearchCV\n",
        "from pprint import pprint\n",
        "\n",
        "# Plotting tools\n",
        "import pyLDAvis\n",
        "import pyLDAvis.sklearn\n",
        "import matplotlib.pyplot as plt"
      ],
      "outputs": [
        {
          "output_type": "stream",
          "name": "stderr",
          "text": [
            "/usr/local/lib/python3.7/dist-packages/past/types/oldstr.py:5: DeprecationWarning: Using or importing the ABCs from 'collections' instead of from 'collections.abc' is deprecated since Python 3.3,and in 3.9 it will stop working\n",
            "  from collections import Iterable\n"
          ]
        }
      ],
      "metadata": {
        "colab": {
          "base_uri": "https://localhost:8080/"
        },
        "id": "cTOHtH3r8VE-",
        "outputId": "9eb90d5c-88c8-436e-9916-b5d0a8236d49"
      }
    },
    {
      "cell_type": "code",
      "execution_count": null,
      "source": [
        "from sodapy import Socrata\n",
        "# get api token\n",
        "client = Socrata(\"data.melbourne.vic.gov.au\", #domain\n",
        "                'Fake',  #app token\n",
        "                username=\"Fake\", #api id\n",
        "                password=\"Fake\")"
      ],
      "outputs": [],
      "metadata": {
        "id": "AS1dKGRq75sJ"
      }
    },
    {
      "cell_type": "markdown",
      "source": [
        "## First step obtain datasets: \n",
        "  - dataset name \n",
        "  - id \n",
        "  - metadata"
      ],
      "metadata": {
        "id": "1QqPXhi28xpI"
      }
    },
    {
      "cell_type": "code",
      "execution_count": null,
      "source": [
        "content = []\n",
        "for a in client.datasets():\n",
        "\n",
        "  content.append([a['resource']['name'],\n",
        "\n",
        "  a['resource']['columns_name'],\n",
        "  #a['resource']['description'],\n",
        "  a['classification']['categories'],\n",
        "  a['classification']['domain_category'],\n",
        "  a['classification']['tags'],\n",
        "  a['classification']['domain_tags']])\n",
        "\n",
        "\n",
        "\n",
        "# remove '[]' and join string\n",
        "content_lst_inital = []\n",
        "for each_element in content:\n",
        "  each_element_list = []\n",
        "  for element in each_element:\n",
        "    if type(element) == list:\n",
        "      element = ' '.join(element)\n",
        "    else:\n",
        "      pass\n",
        "    each_element_list.append(element)\n",
        "  cont= (' ').join(each_element_list)\n",
        "  content_lst_inital.append(cont)"
      ],
      "outputs": [],
      "metadata": {
        "id": "elyHKgNhLR-R"
      }
    },
    {
      "cell_type": "code",
      "execution_count": null,
      "source": [
        "content[2]"
      ],
      "outputs": [
        {
          "output_type": "execute_result",
          "data": {
            "text/plain": [
              "['Trees, with species and dimensions (Urban Forest)',\n",
              " ['Common Name',\n",
              "  'Located in',\n",
              "  'CoordinateLocation',\n",
              "  'Age Description',\n",
              "  'CoordinateLocation (zip)',\n",
              "  'CoordinateLocation (city)',\n",
              "  'CoordinateLocation (state)',\n",
              "  'Useful Life Expectency',\n",
              "  'Precinct',\n",
              "  'CoordinateLocation (address)',\n",
              "  'Easting',\n",
              "  'Family',\n",
              "  'Year Planted',\n",
              "  'Scientific Name',\n",
              "  'Latitude',\n",
              "  'UploadDate',\n",
              "  'Diameter Breast Height',\n",
              "  'Useful Life Expectency Value',\n",
              "  'CoM ID',\n",
              "  'Longitude',\n",
              "  'Northing',\n",
              "  'Genus',\n",
              "  'Date Planted'],\n",
              " ['environment', 'demographics'],\n",
              " 'Environment',\n",
              " [],\n",
              " ['accessibility',\n",
              "  'changemaker',\n",
              "  'citizenreporter',\n",
              "  'forest',\n",
              "  'park',\n",
              "  'researcher',\n",
              "  'street',\n",
              "  'tree',\n",
              "  'trees',\n",
              "  'urbanforest',\n",
              "  '#urbanforest',\n",
              "  'urban forest']]"
            ]
          },
          "metadata": {},
          "execution_count": 8
        }
      ],
      "metadata": {
        "id": "OpFbUYYzLWkP",
        "colab": {
          "base_uri": "https://localhost:8080/"
        },
        "outputId": "be58c96d-d217-432f-bf1a-33351555d4a1"
      }
    },
    {
      "cell_type": "code",
      "execution_count": null,
      "source": [
        "content_lst_inital[2:10]"
      ],
      "outputs": [
        {
          "output_type": "execute_result",
          "data": {
            "text/plain": [
              "['Trees, with species and dimensions (Urban Forest) Common Name Located in CoordinateLocation Age Description CoordinateLocation (zip) CoordinateLocation (city) CoordinateLocation (state) Useful Life Expectency Precinct CoordinateLocation (address) Easting Family Year Planted Scientific Name Latitude UploadDate Diameter Breast Height Useful Life Expectency Value CoM ID Longitude Northing Genus Date Planted environment demographics Environment  accessibility changemaker citizenreporter forest park researcher street tree trees urbanforest #urbanforest urban forest',\n",
              " 'On-street Parking Bay Sensors bay_id st_marker_id status location location (address) location (city) location (state) location (zip) lat lon Municipal boundary transportation economy Transport  parking sensor near real-time vacancy transport travel disability accessibility sensors safemobility',\n",
              " 'Pay Stay zones linked to street segments between_street_2 pay_stay_zone street between_street_1 street_segment_id transportation Transport  parking paystay street travel',\n",
              " 'Median House Prices - By Type and Sale Year Median_Price Type Sale_Year Transaction_Count  Property  growth city house prices house sale property residence stats',\n",
              " 'On-street Parking Bays  transportation Transport  accessibility areas bays cars cityreactivation parking transport trucks',\n",
              " 'Cafes and restaurants, with seating capacity Base property ID Block ID Seating type Census year Location y coordinate x coordinate Number of seats Industry (ANZSIC4) description Industry (ANZSIC4) code Trading name CLUE small area Street address Property ID economy politics demographics Business  beverage business cafe census of land use and employment cityreactivation clue food industry restaurant',\n",
              " 'Development Activity Monitor data_format clue_block latitude office_flr serviced_apartments student_beds retail_flr industrial_flr education_flr hospital_flr recreation_flr longitude hostel_beds status development_key year_completed resi_dwellings town_planning_application_no property_id_5 floors_above studio_dwe car_spaces community_flr publicdispaly_flr storage_flr property_id property_id_3 property_id_4 hotels_serviced_apartments student_apartments three_bdrm_dwe two_bdrm_dwe property_id_2 Location 1 bike_spaces student accommodation units one_bdrm_dwe clue_small_area childcare_places hotel_rooms institutional_accom_beds street_address environment finance transportation Property  accessibility activity building cityreactivation covid-19 dam dev development dwellings monitor office property retail',\n",
              " 'Buildings with name, age, size, accessibility, and bicycle facilities Refurbished year Location Number of floors (above ground) Predominant space use Accessibility type description x coordinate y coordinate Bicycle spaces Building name Base property ID Property ID Block ID Census year Accessibility type Municipal boundary 2 Has showers Accessibility rating Street address CLUE small area Construction year housing & development demographics transportation Property  accessibility bicycle building census of land use and employment changemaker cityreactivation clue construction date entrepreneur floors people refurbish safemobility use']"
            ]
          },
          "metadata": {},
          "execution_count": 10
        }
      ],
      "metadata": {
        "colab": {
          "base_uri": "https://localhost:8080/"
        },
        "id": "BbP5R9OHLHC-",
        "outputId": "0505545c-09b5-478d-a4cd-a71c25a834dd"
      }
    },
    {
      "cell_type": "code",
      "execution_count": null,
      "source": [
        "content_lst = content_lst_inital\n",
        "\n",
        "# drop ()\n",
        "content_lst = [re.sub(r'\\(.*?\\)', '', sent) for sent in content_lst]\n",
        "\n",
        "#drop _ - \n",
        "content_lst = [re.sub('[_-]+', ' ', sent) for sent in content_lst]\n",
        "\n",
        "content_lst = [re.sub(r'[#&$`\\'\"]+', '', sent) for sent in content_lst]\n",
        "\n",
        "#only keep one whitespace \n",
        "\n",
        "content_lst = [' '.join(sent.split()) for sent in content_lst]\n",
        "\n",
        "# drop len(char) = 1 or 2\n",
        "content_lst = [re.sub(r\"((?<=^)|(?<= )).((?=$)|(?= ))\", '', sent) for sent in content_lst]\n",
        "\n",
        "# drop strip\n",
        "content_lst = [i.strip() for i in content_lst]\n",
        "\n",
        "content_lst = [re.sub(r'[/]', ' ', sent) for sent in content_lst]\n",
        "\n",
        "from collections import Counter\n",
        "def remov_duplicates(input):\n",
        " \n",
        "    # split input string separated by space\n",
        "    input = input.lower()\n",
        "    input = input.split(\" \")\n",
        "    input = input\n",
        " \n",
        "    # joins two adjacent elements in iterable way\n",
        "    for i in range(0, len(input)):\n",
        "        input[i] = \"\".join(input[i])\n",
        " \n",
        "    # now create dictionary using counter method\n",
        "    # which will have strings as key and their\n",
        "    # frequencies as value\n",
        "    UniqW = Counter(input)\n",
        " \n",
        "    # joins two adjacent elements in iterable way\n",
        "    s = \" \".join(UniqW.keys())\n",
        "    return s \n",
        "\n",
        "\n",
        "\n",
        "# drop duplicated words and convert string into lowercase\n",
        "content_lst = [remov_duplicates(i) for i in content_lst]\n",
        "content_lst = [re.sub(r',','', i) for i in content_lst]\n",
        "#time\n",
        "content_lst = [re.sub(r'(\\d+:\\d+:\\d+)','', i )for i in content_lst]\n",
        "\n",
        "# number  \n",
        "content_lst = [re.sub(r'\\d+\\.\\d+','', i )for i in content_lst]\n",
        "\n",
        "\n",
        "def remove_white_sapce(x):\n",
        "  content = x.split(' ')\n",
        "  content_list = []\n",
        "  for i in content:\n",
        "    if len(i) != 0:\n",
        "      content_list.append(i)\n",
        "  result = ' '.join(content) \n",
        "  return result \n",
        "\n",
        "content_lst = [remove_white_sapce(i) for i in content_lst]\n",
        "content_lst = [re.sub(r'[\\d:]+','', i )for i in content_lst]\n",
        "content_lst = [re.sub(r\"((?<=^)|(?<= )).((?=$)|(?= ))\", '', sent) for sent in content_lst]"
      ],
      "outputs": [],
      "metadata": {
        "id": "zag3fS9GNXts"
      }
    },
    {
      "cell_type": "code",
      "execution_count": null,
      "source": [
        "words = []\n",
        "for each_line in content_lst:\n",
        "  each_line_lst = []\n",
        "  for each_word in each_line.split(' '):\n",
        "    each_word = each_word.strip()\n",
        "    if len(each_word)!= 0:\n",
        "      each_line_lst.append(each_word)\n",
        "  words.append(' '.join(each_line_lst))\n"
      ],
      "outputs": [],
      "metadata": {
        "id": "avQIk4xjVVyx"
      }
    },
    {
      "cell_type": "code",
      "execution_count": null,
      "source": [
        "words[0:8]"
      ],
      "outputs": [
        {
          "output_type": "execute_result",
          "data": {
            "text/plain": [
              "['pedestrian counting system monthly year mdate time day sensor id name hourly counts date month finance transport accessibility cityreactivation covid foot traffic count sensors safemobility flow',\n",
              " 'tree canopies environment citizenreporter eventsplanner forest urbanforest urban',\n",
              " 'trees with species and dimensions common name located in coordinatelocation age description useful life expectency precinct easting family year planted scientific latitude uploaddate diameter breast height value com id longitude northing genus date environment demographics accessibility changemaker citizenreporter forest park researcher street tree trees urbanforest urban',\n",
              " 'on street parking bay sensors id st marker status location lat lon municipal boundary transportation economy transport sensor near real time vacancy travel disability accessibility safemobility',\n",
              " 'pay stay zones linked to street segments between zone segment id transportation transport parking paystay travel',\n",
              " 'median house prices by type and sale year price transaction count property growth city residence stats',\n",
              " 'on street parking bays transportation transport accessibility areas cars cityreactivation trucks',\n",
              " 'cafes and restaurants with seating capacity base property id block type census year location coordinate number of seats industry description code trading name clue small area street address economy politics demographics business beverage cafe land use employment cityreactivation food restaurant']"
            ]
          },
          "metadata": {},
          "execution_count": 14
        }
      ],
      "metadata": {
        "colab": {
          "base_uri": "https://localhost:8080/"
        },
        "id": "fpC6XtEdNZYo",
        "outputId": "fe5c1081-a8dc-40ec-d47a-f714a4eb6d86"
      }
    },
    {
      "cell_type": "markdown",
      "source": [
        "## Meta Data cleaning Done"
      ],
      "metadata": {
        "id": "j_OMYFVCeOVr"
      }
    },
    {
      "cell_type": "code",
      "execution_count": null,
      "source": [
        "words[0]"
      ],
      "outputs": [
        {
          "output_type": "execute_result",
          "data": {
            "application/vnd.google.colaboratory.intrinsic+json": {
              "type": "string"
            },
            "text/plain": [
              "'pedestrian counting system monthly date time sensor name hourly counts year month mdate id day finance transport accessibility cityreactivation covid foot traffic count sensors safemobility flow'"
            ]
          },
          "metadata": {},
          "execution_count": 139
        }
      ],
      "metadata": {
        "colab": {
          "base_uri": "https://localhost:8080/",
          "height": 52
        },
        "id": "7norQiFNWW1J",
        "outputId": "72bbbe1b-150b-429e-a826-3b637953d9c4"
      }
    },
    {
      "cell_type": "markdown",
      "source": [
        "## Table"
      ],
      "metadata": {
        "id": "MoG6LZohV8jC"
      }
    },
    {
      "cell_type": "code",
      "execution_count": null,
      "source": [
        "_name = []\n",
        "id_ = []\n",
        "_link = []\n",
        "for a in client.datasets(): #222\n",
        "    \n",
        "    _name.append(a['resource']['name'])\n",
        "    id_.append(a['resource']['id'])\n",
        "    _link.append(a['permalink'])\n",
        "df = pd.DataFrame({'Name':_name,\n",
        "                'id': id_,\n",
        "        #        \"link\": _link\n",
        "                })\n",
        "df.loc[:,'content'] = words"
      ],
      "outputs": [],
      "metadata": {
        "id": "SrWPj6SOVoAq"
      }
    },
    {
      "cell_type": "code",
      "execution_count": null,
      "source": [
        "df.head(5)"
      ],
      "outputs": [
        {
          "output_type": "execute_result",
          "data": {
            "text/html": [
              "<div>\n",
              "<style scoped>\n",
              "    .dataframe tbody tr th:only-of-type {\n",
              "        vertical-align: middle;\n",
              "    }\n",
              "\n",
              "    .dataframe tbody tr th {\n",
              "        vertical-align: top;\n",
              "    }\n",
              "\n",
              "    .dataframe thead th {\n",
              "        text-align: right;\n",
              "    }\n",
              "</style>\n",
              "<table border=\"1\" class=\"dataframe\">\n",
              "  <thead>\n",
              "    <tr style=\"text-align: right;\">\n",
              "      <th></th>\n",
              "      <th>Name</th>\n",
              "      <th>id</th>\n",
              "      <th>content</th>\n",
              "    </tr>\n",
              "  </thead>\n",
              "  <tbody>\n",
              "    <tr>\n",
              "      <th>0</th>\n",
              "      <td>Pedestrian Counting System - Monthly (counts p...</td>\n",
              "      <td>b2ak-trbp</td>\n",
              "      <td>pedestrian counting system monthly date time s...</td>\n",
              "    </tr>\n",
              "    <tr>\n",
              "      <th>1</th>\n",
              "      <td>Tree canopies 2011 (Urban Forest)</td>\n",
              "      <td>y79a-us3f</td>\n",
              "      <td>tree canopies environment citizenreporter even...</td>\n",
              "    </tr>\n",
              "    <tr>\n",
              "      <th>2</th>\n",
              "      <td>Trees, with species and dimensions (Urban Forest)</td>\n",
              "      <td>fp38-wiyy</td>\n",
              "      <td>trees with species and dimensions easting coor...</td>\n",
              "    </tr>\n",
              "    <tr>\n",
              "      <th>3</th>\n",
              "      <td>On-street Parking Bay Sensors</td>\n",
              "      <td>vh2v-4nfs</td>\n",
              "      <td>on street parking bay sensors id st marker sta...</td>\n",
              "    </tr>\n",
              "    <tr>\n",
              "      <th>4</th>\n",
              "      <td>Pay Stay zones linked to street segments</td>\n",
              "      <td>7q9g-yyvg</td>\n",
              "      <td>pay stay zones linked to street segments zone ...</td>\n",
              "    </tr>\n",
              "  </tbody>\n",
              "</table>\n",
              "</div>"
            ],
            "text/plain": [
              "                                                Name  ...                                            content\n",
              "0  Pedestrian Counting System - Monthly (counts p...  ...  pedestrian counting system monthly date time s...\n",
              "1                  Tree canopies 2011 (Urban Forest)  ...  tree canopies environment citizenreporter even...\n",
              "2  Trees, with species and dimensions (Urban Forest)  ...  trees with species and dimensions easting coor...\n",
              "3                      On-street Parking Bay Sensors  ...  on street parking bay sensors id st marker sta...\n",
              "4           Pay Stay zones linked to street segments  ...  pay stay zones linked to street segments zone ...\n",
              "\n",
              "[5 rows x 3 columns]"
            ]
          },
          "metadata": {},
          "execution_count": 141
        }
      ],
      "metadata": {
        "colab": {
          "base_uri": "https://localhost:8080/",
          "height": 204
        },
        "id": "TVAMGiXsWaDk",
        "outputId": "f175fac8-6e3c-45e3-94e4-ff2a4bdadc23"
      }
    },
    {
      "cell_type": "code",
      "execution_count": null,
      "source": [
        "!pip install nltk\n",
        "import nltk\n",
        "nltk.download('wordnet')\n",
        "# Install spaCy (run in terminal/prompt)\n",
        "import sys\n",
        "!{sys.executable} -m pip install spacy\n",
        "\n",
        "# Download spaCy's  'en' Model\n",
        "!{sys.executable} -m spacy download en"
      ],
      "outputs": [
        {
          "output_type": "stream",
          "name": "stdout",
          "text": [
            "Requirement already satisfied: nltk in /usr/local/lib/python3.7/dist-packages (3.6.2)\n",
            "Requirement already satisfied: tqdm in /usr/local/lib/python3.7/dist-packages (from nltk) (4.62.0)\n",
            "Requirement already satisfied: regex in /usr/local/lib/python3.7/dist-packages (from nltk) (2019.12.20)\n",
            "Requirement already satisfied: click in /usr/local/lib/python3.7/dist-packages (from nltk) (7.1.2)\n",
            "Requirement already satisfied: joblib in /usr/local/lib/python3.7/dist-packages (from nltk) (1.0.1)\n"
          ]
        },
        {
          "output_type": "stream",
          "name": "stderr",
          "text": [
            "[nltk_data] Downloading package wordnet to /root/nltk_data...\n",
            "[nltk_data]   Unzipping corpora/wordnet.zip.\n"
          ]
        },
        {
          "output_type": "execute_result",
          "data": {
            "text/plain": [
              "True"
            ]
          },
          "metadata": {},
          "execution_count": 14
        }
      ],
      "metadata": {
        "colab": {
          "base_uri": "https://localhost:8080/"
        },
        "id": "56cAMT2uOi20",
        "outputId": "0ed9c596-fc15-4ab1-a437-84b0f45d35db"
      }
    },
    {
      "cell_type": "code",
      "execution_count": null,
      "source": [
        "# Lemmatize with POS Tag\n",
        "from nltk.corpus import wordnet\n",
        "from nltk.stem import WordNetLemmatizer \n",
        "\n",
        "def get_wordnet_pos(word):\n",
        "    \"\"\"Map POS tag to first character lemmatize() accepts\"\"\"\n",
        "    tag = nltk.pos_tag([word])[0][1][0].upper()\n",
        "    tag_dict = {\"J\": wordnet.ADJ,\n",
        "                \"N\": wordnet.NOUN,\n",
        "                \"V\": wordnet.VERB,\n",
        "                \"R\": wordnet.ADV}\n",
        "\n",
        "    return tag_dict.get(tag, wordnet.NOUN)\n",
        "\n",
        "lemmatizer = WordNetLemmatizer()\n",
        "\n",
        "\n",
        "\n"
      ],
      "outputs": [],
      "metadata": {
        "id": "-kVGnFTCXHLi"
      }
    },
    {
      "cell_type": "code",
      "execution_count": null,
      "source": [
        "each_char = 'trees'\n",
        "\n",
        "lemmatizer.lemmatize(each_char, get_wordnet_pos(each_char))"
      ],
      "outputs": [
        {
          "output_type": "execute_result",
          "data": {
            "application/vnd.google.colaboratory.intrinsic+json": {
              "type": "string"
            },
            "text/plain": [
              "'tree'"
            ]
          },
          "metadata": {},
          "execution_count": 37
        }
      ],
      "metadata": {
        "colab": {
          "base_uri": "https://localhost:8080/",
          "height": 35
        },
        "id": "gv6tUle-Nug4",
        "outputId": "e6505c86-02e6-492a-bccf-4eb3d7cc3452"
      }
    },
    {
      "cell_type": "code",
      "execution_count": null,
      "source": [
        "nlp_content = []\n",
        "for each_sentence in words:\n",
        "  list_1 = []\n",
        "  for each_char in nltk.word_tokenize(each_sentence):\n",
        "    tk=lemmatizer.lemmatize(each_char, get_wordnet_pos(each_char))\n",
        "    list_1.append(tk)\n",
        "  nlp_content.append(list_1)"
      ],
      "outputs": [],
      "metadata": {
        "id": "GEJ0Be34Kmmz"
      }
    },
    {
      "cell_type": "code",
      "execution_count": null,
      "source": [
        "nlp_content[0]"
      ],
      "outputs": [
        {
          "output_type": "execute_result",
          "data": {
            "text/plain": [
              "['pedestrian',\n",
              " 'counting',\n",
              " 'system',\n",
              " 'monthly',\n",
              " 'year',\n",
              " 'mdate',\n",
              " 'time',\n",
              " 'day',\n",
              " 'sensor',\n",
              " 'id',\n",
              " 'name',\n",
              " 'hourly',\n",
              " 'count',\n",
              " 'date',\n",
              " 'month',\n",
              " 'finance',\n",
              " 'transport',\n",
              " 'accessibility',\n",
              " 'cityreactivation',\n",
              " 'covid',\n",
              " 'foot',\n",
              " 'traffic',\n",
              " 'count',\n",
              " 'sensor',\n",
              " 'safemobility',\n",
              " 'flow']"
            ]
          },
          "metadata": {},
          "execution_count": 39
        }
      ],
      "metadata": {
        "colab": {
          "base_uri": "https://localhost:8080/"
        },
        "id": "xSah2iTEhU1t",
        "outputId": "91845afc-3dcb-41cc-ba07-29f7cd53306a"
      }
    },
    {
      "cell_type": "code",
      "execution_count": null,
      "source": [
        "## check sparsicity \n",
        "\n",
        "# make it to sentence \n",
        "# nlp_content_string= sentence \n",
        "# nlp_content = nlp_content_string.split(' ')\n",
        "nlp_content_string = [' '.join(i) for i in nlp_content]\n",
        "\n",
        "\n",
        "#remove built-in english stopwords, convert all words to lowercase, \n",
        "#and a word can contain numbers and alphabets of at least length 3 in order to be qualified as a word.\n",
        "vectorizer = CountVectorizer(analyzer='word',       \n",
        "                             min_df=10,                        # minimum reqd occurences of a word \n",
        "                             stop_words='english',             # remove stop words\n",
        "                             lowercase=True,                   # convert all words to lowercase\n",
        "                             token_pattern='[a-zA-Z0-9]{3,}',  # num chars > 3\n",
        "                             # max_features=50000,             # max number of uniq words\n",
        "                            )\n"
      ],
      "outputs": [],
      "metadata": {
        "id": "tpDsNWcTRpCo"
      }
    },
    {
      "cell_type": "code",
      "execution_count": null,
      "source": [
        "data_vectorized = vectorizer.fit_transform(nlp_content_string)\n",
        "# Materialize the sparse data\n",
        "data_dense = data_vectorized.todense()\n",
        "\n",
        "# Compute Sparsicity = Percentage of Non-Zero cells\n",
        "print(\"Sparsicity: \", ((data_dense > 0).sum()/data_dense.size)*100, \"%\")"
      ],
      "outputs": [
        {
          "output_type": "stream",
          "name": "stdout",
          "text": [
            "Sparsicity:  10.23332399103139 %\n"
          ]
        }
      ],
      "metadata": {
        "colab": {
          "base_uri": "https://localhost:8080/"
        },
        "id": "MLVpBTAHRuma",
        "outputId": "c6c8b525-f916-4b74-a015-398bca367992"
      }
    },
    {
      "cell_type": "code",
      "execution_count": null,
      "source": [
        "data_vectorized.shape"
      ],
      "outputs": [
        {
          "output_type": "execute_result",
          "data": {
            "text/plain": [
              "(223, 128)"
            ]
          },
          "metadata": {},
          "execution_count": 47
        }
      ],
      "metadata": {
        "colab": {
          "base_uri": "https://localhost:8080/"
        },
        "id": "kvLEUY_ut693",
        "outputId": "80476c92-8b37-4094-e60c-05c3e2df1e04"
      }
    },
    {
      "cell_type": "code",
      "execution_count": null,
      "source": [
        "test_model_14 =LatentDirichletAllocation(batch_size=6, n_components = 14,\n",
        "                        random_state=0,\n",
        "                        learning_decay=0.7,\n",
        "                        max_iter= 10,\n",
        "                        max_doc_update_iter=100,\n",
        "                        learning_method='batch')\n",
        "test_model_14.fit(data_vectorized)"
      ],
      "outputs": [
        {
          "output_type": "execute_result",
          "data": {
            "text/plain": [
              "LatentDirichletAllocation(batch_size=6, doc_topic_prior=None, evaluate_every=-1,\n",
              "                          learning_decay=0.7, learning_method='batch',\n",
              "                          learning_offset=10.0, max_doc_update_iter=100,\n",
              "                          max_iter=10, mean_change_tol=0.001, n_components=14,\n",
              "                          n_jobs=None, perp_tol=0.1, random_state=0,\n",
              "                          topic_word_prior=None, total_samples=1000000.0,\n",
              "                          verbose=0)"
            ]
          },
          "metadata": {},
          "execution_count": 50
        }
      ],
      "metadata": {
        "colab": {
          "base_uri": "https://localhost:8080/"
        },
        "id": "-06sx2Ehiuyg",
        "outputId": "561cde0b-9681-4614-ee75-52a7c422e831"
      }
    },
    {
      "cell_type": "code",
      "execution_count": null,
      "source": [
        "test_model_6 =LatentDirichletAllocation(batch_size=6, n_components = 6,\n",
        "                        random_state=0,\n",
        "                        learning_decay=0.7,\n",
        "                        max_iter= 10,\n",
        "                        max_doc_update_iter=100,\n",
        "                        learning_method='batch')\n",
        "test_model_6.fit(data_vectorized)"
      ],
      "outputs": [
        {
          "output_type": "execute_result",
          "data": {
            "text/plain": [
              "LatentDirichletAllocation(batch_size=6, doc_topic_prior=None, evaluate_every=-1,\n",
              "                          learning_decay=0.7, learning_method='batch',\n",
              "                          learning_offset=10.0, max_doc_update_iter=100,\n",
              "                          max_iter=10, mean_change_tol=0.001, n_components=6,\n",
              "                          n_jobs=None, perp_tol=0.1, random_state=0,\n",
              "                          topic_word_prior=None, total_samples=1000000.0,\n",
              "                          verbose=0)"
            ]
          },
          "metadata": {},
          "execution_count": 51
        }
      ],
      "metadata": {
        "colab": {
          "base_uri": "https://localhost:8080/"
        },
        "id": "726ItfqAILKE",
        "outputId": "eb592589-9c53-42f0-e4bb-e4dac4a026d1"
      }
    },
    {
      "cell_type": "code",
      "execution_count": null,
      "source": [
        "\n",
        "\n",
        "#data is data_vectorized\n",
        "def return_topic_visual_pro_topic(model, data=data_vectorized):\n",
        "\n",
        "  # Create Document - Topic Matrix\n",
        "  lda_output = model.transform(data)\n",
        "  # column names\n",
        "  topicnames = [\"Topic\" + str(i) for i in range(model.n_components)]\n",
        "  # index names\n",
        "  docnames = [\"dataset\" + str(i) for i in range(data.shape[0])]\n",
        "\n",
        "  # Make the pandas dataframe\n",
        "  df_document_topic = pd.DataFrame(np.round(lda_output, 2), columns=topicnames, index=docnames)\n",
        "\n",
        "  # Get dominant topic for each document\n",
        "  dominant_topic = np.argmax(df_document_topic.values, axis=1)\n",
        "  df_document_topic['dominant_topic'] = dominant_topic\n",
        "\n",
        "  # Styling\n",
        "  def color_green(val):\n",
        "      color = 'green' if val > .1 else 'black'\n",
        "      return 'color: {col}'.format(col=color)\n",
        "\n",
        "  def make_bold(val):\n",
        "      weight = 700 if val > .1 else 400\n",
        "      return 'font-weight: {weight}'.format(weight=weight)\n",
        "\n",
        "\n",
        "  # Apply Style\n",
        "  df_document_topics = df_document_topic.head(15).style.applymap(color_green).applymap(make_bold)\n",
        "  \n",
        "\n",
        "  return  df_document_topics, dominant_topic\n"
      ],
      "outputs": [],
      "metadata": {
        "id": "3jtvO2-K9jTV"
      }
    },
    {
      "cell_type": "code",
      "execution_count": null,
      "source": [
        "# replace model to see difference \n",
        "df_document_topics, dominant_topic  = return_topic_visual_pro_topic(test_model_14, data_vectorized)\n",
        "df_document_topics\n"
      ],
      "outputs": [
        {
          "output_type": "execute_result",
          "data": {
            "text/html": [
              "<style type=\"text/css\">\n",
              "#T_944ad_row0_col0, #T_944ad_row0_col1, #T_944ad_row0_col4, #T_944ad_row0_col5, #T_944ad_row0_col6, #T_944ad_row0_col7, #T_944ad_row0_col8, #T_944ad_row0_col9, #T_944ad_row0_col11, #T_944ad_row0_col12, #T_944ad_row0_col13, #T_944ad_row1_col0, #T_944ad_row1_col1, #T_944ad_row1_col2, #T_944ad_row1_col3, #T_944ad_row1_col4, #T_944ad_row1_col5, #T_944ad_row1_col6, #T_944ad_row1_col8, #T_944ad_row1_col9, #T_944ad_row1_col10, #T_944ad_row1_col11, #T_944ad_row1_col12, #T_944ad_row1_col13, #T_944ad_row2_col1, #T_944ad_row2_col2, #T_944ad_row2_col3, #T_944ad_row2_col4, #T_944ad_row2_col5, #T_944ad_row2_col6, #T_944ad_row2_col8, #T_944ad_row2_col9, #T_944ad_row2_col11, #T_944ad_row2_col12, #T_944ad_row3_col0, #T_944ad_row3_col1, #T_944ad_row3_col3, #T_944ad_row3_col4, #T_944ad_row3_col5, #T_944ad_row3_col7, #T_944ad_row3_col8, #T_944ad_row3_col9, #T_944ad_row3_col11, #T_944ad_row3_col12, #T_944ad_row4_col0, #T_944ad_row4_col1, #T_944ad_row4_col2, #T_944ad_row4_col3, #T_944ad_row4_col4, #T_944ad_row4_col5, #T_944ad_row4_col6, #T_944ad_row4_col7, #T_944ad_row4_col8, #T_944ad_row4_col9, #T_944ad_row4_col10, #T_944ad_row4_col11, #T_944ad_row4_col12, #T_944ad_row5_col0, #T_944ad_row5_col1, #T_944ad_row5_col2, #T_944ad_row5_col3, #T_944ad_row5_col4, #T_944ad_row5_col5, #T_944ad_row5_col6, #T_944ad_row5_col7, #T_944ad_row5_col9, #T_944ad_row5_col10, #T_944ad_row5_col11, #T_944ad_row5_col12, #T_944ad_row5_col13, #T_944ad_row6_col0, #T_944ad_row6_col1, #T_944ad_row6_col2, #T_944ad_row6_col3, #T_944ad_row6_col4, #T_944ad_row6_col5, #T_944ad_row6_col6, #T_944ad_row6_col7, #T_944ad_row6_col8, #T_944ad_row6_col9, #T_944ad_row6_col10, #T_944ad_row6_col11, #T_944ad_row6_col12, #T_944ad_row7_col0, #T_944ad_row7_col2, #T_944ad_row7_col3, #T_944ad_row7_col4, #T_944ad_row7_col5, #T_944ad_row7_col6, #T_944ad_row7_col7, #T_944ad_row7_col8, #T_944ad_row7_col9, #T_944ad_row7_col10, #T_944ad_row7_col11, #T_944ad_row7_col12, #T_944ad_row7_col13, #T_944ad_row8_col0, #T_944ad_row8_col2, #T_944ad_row8_col3, #T_944ad_row8_col4, #T_944ad_row8_col5, #T_944ad_row8_col6, #T_944ad_row8_col7, #T_944ad_row8_col8, #T_944ad_row8_col9, #T_944ad_row8_col12, #T_944ad_row9_col0, #T_944ad_row9_col2, #T_944ad_row9_col3, #T_944ad_row9_col4, #T_944ad_row9_col5, #T_944ad_row9_col6, #T_944ad_row9_col7, #T_944ad_row9_col8, #T_944ad_row9_col9, #T_944ad_row9_col10, #T_944ad_row9_col12, #T_944ad_row10_col0, #T_944ad_row10_col1, #T_944ad_row10_col2, #T_944ad_row10_col3, #T_944ad_row10_col4, #T_944ad_row10_col5, #T_944ad_row10_col6, #T_944ad_row10_col7, #T_944ad_row10_col8, #T_944ad_row10_col10, #T_944ad_row10_col11, #T_944ad_row10_col12, #T_944ad_row11_col0, #T_944ad_row11_col1, #T_944ad_row11_col2, #T_944ad_row11_col3, #T_944ad_row11_col4, #T_944ad_row11_col5, #T_944ad_row11_col7, #T_944ad_row11_col8, #T_944ad_row11_col10, #T_944ad_row11_col11, #T_944ad_row11_col12, #T_944ad_row12_col0, #T_944ad_row12_col1, #T_944ad_row12_col2, #T_944ad_row12_col3, #T_944ad_row12_col4, #T_944ad_row12_col5, #T_944ad_row12_col6, #T_944ad_row12_col7, #T_944ad_row12_col8, #T_944ad_row12_col9, #T_944ad_row12_col10, #T_944ad_row12_col11, #T_944ad_row12_col12, #T_944ad_row13_col0, #T_944ad_row13_col1, #T_944ad_row13_col2, #T_944ad_row13_col3, #T_944ad_row13_col5, #T_944ad_row13_col6, #T_944ad_row13_col7, #T_944ad_row13_col8, #T_944ad_row13_col9, #T_944ad_row13_col11, #T_944ad_row13_col12, #T_944ad_row13_col13, #T_944ad_row14_col0, #T_944ad_row14_col1, #T_944ad_row14_col2, #T_944ad_row14_col3, #T_944ad_row14_col5, #T_944ad_row14_col6, #T_944ad_row14_col7, #T_944ad_row14_col8, #T_944ad_row14_col9, #T_944ad_row14_col10, #T_944ad_row14_col12 {\n",
              "  color: black;\n",
              "  font-weight: 400;\n",
              "}\n",
              "#T_944ad_row0_col2, #T_944ad_row0_col3, #T_944ad_row0_col10, #T_944ad_row0_col14, #T_944ad_row1_col7, #T_944ad_row1_col14, #T_944ad_row2_col0, #T_944ad_row2_col7, #T_944ad_row2_col10, #T_944ad_row2_col13, #T_944ad_row2_col14, #T_944ad_row3_col2, #T_944ad_row3_col6, #T_944ad_row3_col10, #T_944ad_row3_col13, #T_944ad_row3_col14, #T_944ad_row4_col13, #T_944ad_row4_col14, #T_944ad_row5_col8, #T_944ad_row5_col14, #T_944ad_row6_col13, #T_944ad_row6_col14, #T_944ad_row7_col1, #T_944ad_row7_col14, #T_944ad_row8_col1, #T_944ad_row8_col10, #T_944ad_row8_col11, #T_944ad_row8_col13, #T_944ad_row8_col14, #T_944ad_row9_col1, #T_944ad_row9_col11, #T_944ad_row9_col13, #T_944ad_row9_col14, #T_944ad_row10_col9, #T_944ad_row10_col13, #T_944ad_row10_col14, #T_944ad_row11_col6, #T_944ad_row11_col9, #T_944ad_row11_col13, #T_944ad_row11_col14, #T_944ad_row12_col13, #T_944ad_row12_col14, #T_944ad_row13_col4, #T_944ad_row13_col10, #T_944ad_row13_col14, #T_944ad_row14_col4, #T_944ad_row14_col11, #T_944ad_row14_col13, #T_944ad_row14_col14 {\n",
              "  color: green;\n",
              "  font-weight: 700;\n",
              "}\n",
              "</style>\n",
              "<table id=\"T_944ad_\">\n",
              "  <thead>\n",
              "    <tr>\n",
              "      <th class=\"blank level0\" >&nbsp;</th>\n",
              "      <th class=\"col_heading level0 col0\" >Topic0</th>\n",
              "      <th class=\"col_heading level0 col1\" >Topic1</th>\n",
              "      <th class=\"col_heading level0 col2\" >Topic2</th>\n",
              "      <th class=\"col_heading level0 col3\" >Topic3</th>\n",
              "      <th class=\"col_heading level0 col4\" >Topic4</th>\n",
              "      <th class=\"col_heading level0 col5\" >Topic5</th>\n",
              "      <th class=\"col_heading level0 col6\" >Topic6</th>\n",
              "      <th class=\"col_heading level0 col7\" >Topic7</th>\n",
              "      <th class=\"col_heading level0 col8\" >Topic8</th>\n",
              "      <th class=\"col_heading level0 col9\" >Topic9</th>\n",
              "      <th class=\"col_heading level0 col10\" >Topic10</th>\n",
              "      <th class=\"col_heading level0 col11\" >Topic11</th>\n",
              "      <th class=\"col_heading level0 col12\" >Topic12</th>\n",
              "      <th class=\"col_heading level0 col13\" >Topic13</th>\n",
              "      <th class=\"col_heading level0 col14\" >dominant_topic</th>\n",
              "    </tr>\n",
              "  </thead>\n",
              "  <tbody>\n",
              "    <tr>\n",
              "      <th id=\"T_944ad_level0_row0\" class=\"row_heading level0 row0\" >dataset0</th>\n",
              "      <td id=\"T_944ad_row0_col0\" class=\"data row0 col0\" >0.010000</td>\n",
              "      <td id=\"T_944ad_row0_col1\" class=\"data row0 col1\" >0.010000</td>\n",
              "      <td id=\"T_944ad_row0_col2\" class=\"data row0 col2\" >0.260000</td>\n",
              "      <td id=\"T_944ad_row0_col3\" class=\"data row0 col3\" >0.340000</td>\n",
              "      <td id=\"T_944ad_row0_col4\" class=\"data row0 col4\" >0.010000</td>\n",
              "      <td id=\"T_944ad_row0_col5\" class=\"data row0 col5\" >0.010000</td>\n",
              "      <td id=\"T_944ad_row0_col6\" class=\"data row0 col6\" >0.010000</td>\n",
              "      <td id=\"T_944ad_row0_col7\" class=\"data row0 col7\" >0.010000</td>\n",
              "      <td id=\"T_944ad_row0_col8\" class=\"data row0 col8\" >0.010000</td>\n",
              "      <td id=\"T_944ad_row0_col9\" class=\"data row0 col9\" >0.010000</td>\n",
              "      <td id=\"T_944ad_row0_col10\" class=\"data row0 col10\" >0.340000</td>\n",
              "      <td id=\"T_944ad_row0_col11\" class=\"data row0 col11\" >0.010000</td>\n",
              "      <td id=\"T_944ad_row0_col12\" class=\"data row0 col12\" >0.010000</td>\n",
              "      <td id=\"T_944ad_row0_col13\" class=\"data row0 col13\" >0.010000</td>\n",
              "      <td id=\"T_944ad_row0_col14\" class=\"data row0 col14\" >3</td>\n",
              "    </tr>\n",
              "    <tr>\n",
              "      <th id=\"T_944ad_level0_row1\" class=\"row_heading level0 row1\" >dataset1</th>\n",
              "      <td id=\"T_944ad_row1_col0\" class=\"data row1 col0\" >0.010000</td>\n",
              "      <td id=\"T_944ad_row1_col1\" class=\"data row1 col1\" >0.010000</td>\n",
              "      <td id=\"T_944ad_row1_col2\" class=\"data row1 col2\" >0.010000</td>\n",
              "      <td id=\"T_944ad_row1_col3\" class=\"data row1 col3\" >0.010000</td>\n",
              "      <td id=\"T_944ad_row1_col4\" class=\"data row1 col4\" >0.010000</td>\n",
              "      <td id=\"T_944ad_row1_col5\" class=\"data row1 col5\" >0.010000</td>\n",
              "      <td id=\"T_944ad_row1_col6\" class=\"data row1 col6\" >0.010000</td>\n",
              "      <td id=\"T_944ad_row1_col7\" class=\"data row1 col7\" >0.900000</td>\n",
              "      <td id=\"T_944ad_row1_col8\" class=\"data row1 col8\" >0.010000</td>\n",
              "      <td id=\"T_944ad_row1_col9\" class=\"data row1 col9\" >0.010000</td>\n",
              "      <td id=\"T_944ad_row1_col10\" class=\"data row1 col10\" >0.010000</td>\n",
              "      <td id=\"T_944ad_row1_col11\" class=\"data row1 col11\" >0.010000</td>\n",
              "      <td id=\"T_944ad_row1_col12\" class=\"data row1 col12\" >0.010000</td>\n",
              "      <td id=\"T_944ad_row1_col13\" class=\"data row1 col13\" >0.010000</td>\n",
              "      <td id=\"T_944ad_row1_col14\" class=\"data row1 col14\" >7</td>\n",
              "    </tr>\n",
              "    <tr>\n",
              "      <th id=\"T_944ad_level0_row2\" class=\"row_heading level0 row2\" >dataset2</th>\n",
              "      <td id=\"T_944ad_row2_col0\" class=\"data row2 col0\" >0.190000</td>\n",
              "      <td id=\"T_944ad_row2_col1\" class=\"data row2 col1\" >0.000000</td>\n",
              "      <td id=\"T_944ad_row2_col2\" class=\"data row2 col2\" >0.000000</td>\n",
              "      <td id=\"T_944ad_row2_col3\" class=\"data row2 col3\" >0.000000</td>\n",
              "      <td id=\"T_944ad_row2_col4\" class=\"data row2 col4\" >0.000000</td>\n",
              "      <td id=\"T_944ad_row2_col5\" class=\"data row2 col5\" >0.000000</td>\n",
              "      <td id=\"T_944ad_row2_col6\" class=\"data row2 col6\" >0.000000</td>\n",
              "      <td id=\"T_944ad_row2_col7\" class=\"data row2 col7\" >0.420000</td>\n",
              "      <td id=\"T_944ad_row2_col8\" class=\"data row2 col8\" >0.000000</td>\n",
              "      <td id=\"T_944ad_row2_col9\" class=\"data row2 col9\" >0.000000</td>\n",
              "      <td id=\"T_944ad_row2_col10\" class=\"data row2 col10\" >0.240000</td>\n",
              "      <td id=\"T_944ad_row2_col11\" class=\"data row2 col11\" >0.000000</td>\n",
              "      <td id=\"T_944ad_row2_col12\" class=\"data row2 col12\" >0.000000</td>\n",
              "      <td id=\"T_944ad_row2_col13\" class=\"data row2 col13\" >0.120000</td>\n",
              "      <td id=\"T_944ad_row2_col14\" class=\"data row2 col14\" >7</td>\n",
              "    </tr>\n",
              "    <tr>\n",
              "      <th id=\"T_944ad_level0_row3\" class=\"row_heading level0 row3\" >dataset3</th>\n",
              "      <td id=\"T_944ad_row3_col0\" class=\"data row3 col0\" >0.000000</td>\n",
              "      <td id=\"T_944ad_row3_col1\" class=\"data row3 col1\" >0.000000</td>\n",
              "      <td id=\"T_944ad_row3_col2\" class=\"data row3 col2\" >0.200000</td>\n",
              "      <td id=\"T_944ad_row3_col3\" class=\"data row3 col3\" >0.000000</td>\n",
              "      <td id=\"T_944ad_row3_col4\" class=\"data row3 col4\" >0.000000</td>\n",
              "      <td id=\"T_944ad_row3_col5\" class=\"data row3 col5\" >0.000000</td>\n",
              "      <td id=\"T_944ad_row3_col6\" class=\"data row3 col6\" >0.210000</td>\n",
              "      <td id=\"T_944ad_row3_col7\" class=\"data row3 col7\" >0.000000</td>\n",
              "      <td id=\"T_944ad_row3_col8\" class=\"data row3 col8\" >0.000000</td>\n",
              "      <td id=\"T_944ad_row3_col9\" class=\"data row3 col9\" >0.000000</td>\n",
              "      <td id=\"T_944ad_row3_col10\" class=\"data row3 col10\" >0.370000</td>\n",
              "      <td id=\"T_944ad_row3_col11\" class=\"data row3 col11\" >0.000000</td>\n",
              "      <td id=\"T_944ad_row3_col12\" class=\"data row3 col12\" >0.000000</td>\n",
              "      <td id=\"T_944ad_row3_col13\" class=\"data row3 col13\" >0.180000</td>\n",
              "      <td id=\"T_944ad_row3_col14\" class=\"data row3 col14\" >10</td>\n",
              "    </tr>\n",
              "    <tr>\n",
              "      <th id=\"T_944ad_level0_row4\" class=\"row_heading level0 row4\" >dataset4</th>\n",
              "      <td id=\"T_944ad_row4_col0\" class=\"data row4 col0\" >0.010000</td>\n",
              "      <td id=\"T_944ad_row4_col1\" class=\"data row4 col1\" >0.010000</td>\n",
              "      <td id=\"T_944ad_row4_col2\" class=\"data row4 col2\" >0.010000</td>\n",
              "      <td id=\"T_944ad_row4_col3\" class=\"data row4 col3\" >0.010000</td>\n",
              "      <td id=\"T_944ad_row4_col4\" class=\"data row4 col4\" >0.010000</td>\n",
              "      <td id=\"T_944ad_row4_col5\" class=\"data row4 col5\" >0.010000</td>\n",
              "      <td id=\"T_944ad_row4_col6\" class=\"data row4 col6\" >0.010000</td>\n",
              "      <td id=\"T_944ad_row4_col7\" class=\"data row4 col7\" >0.010000</td>\n",
              "      <td id=\"T_944ad_row4_col8\" class=\"data row4 col8\" >0.010000</td>\n",
              "      <td id=\"T_944ad_row4_col9\" class=\"data row4 col9\" >0.010000</td>\n",
              "      <td id=\"T_944ad_row4_col10\" class=\"data row4 col10\" >0.010000</td>\n",
              "      <td id=\"T_944ad_row4_col11\" class=\"data row4 col11\" >0.010000</td>\n",
              "      <td id=\"T_944ad_row4_col12\" class=\"data row4 col12\" >0.010000</td>\n",
              "      <td id=\"T_944ad_row4_col13\" class=\"data row4 col13\" >0.850000</td>\n",
              "      <td id=\"T_944ad_row4_col14\" class=\"data row4 col14\" >13</td>\n",
              "    </tr>\n",
              "    <tr>\n",
              "      <th id=\"T_944ad_level0_row5\" class=\"row_heading level0 row5\" >dataset5</th>\n",
              "      <td id=\"T_944ad_row5_col0\" class=\"data row5 col0\" >0.010000</td>\n",
              "      <td id=\"T_944ad_row5_col1\" class=\"data row5 col1\" >0.010000</td>\n",
              "      <td id=\"T_944ad_row5_col2\" class=\"data row5 col2\" >0.010000</td>\n",
              "      <td id=\"T_944ad_row5_col3\" class=\"data row5 col3\" >0.010000</td>\n",
              "      <td id=\"T_944ad_row5_col4\" class=\"data row5 col4\" >0.010000</td>\n",
              "      <td id=\"T_944ad_row5_col5\" class=\"data row5 col5\" >0.010000</td>\n",
              "      <td id=\"T_944ad_row5_col6\" class=\"data row5 col6\" >0.010000</td>\n",
              "      <td id=\"T_944ad_row5_col7\" class=\"data row5 col7\" >0.010000</td>\n",
              "      <td id=\"T_944ad_row5_col8\" class=\"data row5 col8\" >0.880000</td>\n",
              "      <td id=\"T_944ad_row5_col9\" class=\"data row5 col9\" >0.010000</td>\n",
              "      <td id=\"T_944ad_row5_col10\" class=\"data row5 col10\" >0.010000</td>\n",
              "      <td id=\"T_944ad_row5_col11\" class=\"data row5 col11\" >0.010000</td>\n",
              "      <td id=\"T_944ad_row5_col12\" class=\"data row5 col12\" >0.010000</td>\n",
              "      <td id=\"T_944ad_row5_col13\" class=\"data row5 col13\" >0.010000</td>\n",
              "      <td id=\"T_944ad_row5_col14\" class=\"data row5 col14\" >8</td>\n",
              "    </tr>\n",
              "    <tr>\n",
              "      <th id=\"T_944ad_level0_row6\" class=\"row_heading level0 row6\" >dataset6</th>\n",
              "      <td id=\"T_944ad_row6_col0\" class=\"data row6 col0\" >0.010000</td>\n",
              "      <td id=\"T_944ad_row6_col1\" class=\"data row6 col1\" >0.010000</td>\n",
              "      <td id=\"T_944ad_row6_col2\" class=\"data row6 col2\" >0.010000</td>\n",
              "      <td id=\"T_944ad_row6_col3\" class=\"data row6 col3\" >0.010000</td>\n",
              "      <td id=\"T_944ad_row6_col4\" class=\"data row6 col4\" >0.010000</td>\n",
              "      <td id=\"T_944ad_row6_col5\" class=\"data row6 col5\" >0.010000</td>\n",
              "      <td id=\"T_944ad_row6_col6\" class=\"data row6 col6\" >0.010000</td>\n",
              "      <td id=\"T_944ad_row6_col7\" class=\"data row6 col7\" >0.010000</td>\n",
              "      <td id=\"T_944ad_row6_col8\" class=\"data row6 col8\" >0.010000</td>\n",
              "      <td id=\"T_944ad_row6_col9\" class=\"data row6 col9\" >0.010000</td>\n",
              "      <td id=\"T_944ad_row6_col10\" class=\"data row6 col10\" >0.010000</td>\n",
              "      <td id=\"T_944ad_row6_col11\" class=\"data row6 col11\" >0.010000</td>\n",
              "      <td id=\"T_944ad_row6_col12\" class=\"data row6 col12\" >0.010000</td>\n",
              "      <td id=\"T_944ad_row6_col13\" class=\"data row6 col13\" >0.900000</td>\n",
              "      <td id=\"T_944ad_row6_col14\" class=\"data row6 col14\" >13</td>\n",
              "    </tr>\n",
              "    <tr>\n",
              "      <th id=\"T_944ad_level0_row7\" class=\"row_heading level0 row7\" >dataset7</th>\n",
              "      <td id=\"T_944ad_row7_col0\" class=\"data row7 col0\" >0.000000</td>\n",
              "      <td id=\"T_944ad_row7_col1\" class=\"data row7 col1\" >0.960000</td>\n",
              "      <td id=\"T_944ad_row7_col2\" class=\"data row7 col2\" >0.000000</td>\n",
              "      <td id=\"T_944ad_row7_col3\" class=\"data row7 col3\" >0.000000</td>\n",
              "      <td id=\"T_944ad_row7_col4\" class=\"data row7 col4\" >0.000000</td>\n",
              "      <td id=\"T_944ad_row7_col5\" class=\"data row7 col5\" >0.000000</td>\n",
              "      <td id=\"T_944ad_row7_col6\" class=\"data row7 col6\" >0.000000</td>\n",
              "      <td id=\"T_944ad_row7_col7\" class=\"data row7 col7\" >0.000000</td>\n",
              "      <td id=\"T_944ad_row7_col8\" class=\"data row7 col8\" >0.000000</td>\n",
              "      <td id=\"T_944ad_row7_col9\" class=\"data row7 col9\" >0.000000</td>\n",
              "      <td id=\"T_944ad_row7_col10\" class=\"data row7 col10\" >0.000000</td>\n",
              "      <td id=\"T_944ad_row7_col11\" class=\"data row7 col11\" >0.000000</td>\n",
              "      <td id=\"T_944ad_row7_col12\" class=\"data row7 col12\" >0.000000</td>\n",
              "      <td id=\"T_944ad_row7_col13\" class=\"data row7 col13\" >0.000000</td>\n",
              "      <td id=\"T_944ad_row7_col14\" class=\"data row7 col14\" >1</td>\n",
              "    </tr>\n",
              "    <tr>\n",
              "      <th id=\"T_944ad_level0_row8\" class=\"row_heading level0 row8\" >dataset8</th>\n",
              "      <td id=\"T_944ad_row8_col0\" class=\"data row8 col0\" >0.000000</td>\n",
              "      <td id=\"T_944ad_row8_col1\" class=\"data row8 col1\" >0.150000</td>\n",
              "      <td id=\"T_944ad_row8_col2\" class=\"data row8 col2\" >0.000000</td>\n",
              "      <td id=\"T_944ad_row8_col3\" class=\"data row8 col3\" >0.000000</td>\n",
              "      <td id=\"T_944ad_row8_col4\" class=\"data row8 col4\" >0.000000</td>\n",
              "      <td id=\"T_944ad_row8_col5\" class=\"data row8 col5\" >0.000000</td>\n",
              "      <td id=\"T_944ad_row8_col6\" class=\"data row8 col6\" >0.000000</td>\n",
              "      <td id=\"T_944ad_row8_col7\" class=\"data row8 col7\" >0.000000</td>\n",
              "      <td id=\"T_944ad_row8_col8\" class=\"data row8 col8\" >0.000000</td>\n",
              "      <td id=\"T_944ad_row8_col9\" class=\"data row8 col9\" >0.000000</td>\n",
              "      <td id=\"T_944ad_row8_col10\" class=\"data row8 col10\" >0.150000</td>\n",
              "      <td id=\"T_944ad_row8_col11\" class=\"data row8 col11\" >0.360000</td>\n",
              "      <td id=\"T_944ad_row8_col12\" class=\"data row8 col12\" >0.080000</td>\n",
              "      <td id=\"T_944ad_row8_col13\" class=\"data row8 col13\" >0.250000</td>\n",
              "      <td id=\"T_944ad_row8_col14\" class=\"data row8 col14\" >11</td>\n",
              "    </tr>\n",
              "    <tr>\n",
              "      <th id=\"T_944ad_level0_row9\" class=\"row_heading level0 row9\" >dataset9</th>\n",
              "      <td id=\"T_944ad_row9_col0\" class=\"data row9 col0\" >0.000000</td>\n",
              "      <td id=\"T_944ad_row9_col1\" class=\"data row9 col1\" >0.420000</td>\n",
              "      <td id=\"T_944ad_row9_col2\" class=\"data row9 col2\" >0.050000</td>\n",
              "      <td id=\"T_944ad_row9_col3\" class=\"data row9 col3\" >0.000000</td>\n",
              "      <td id=\"T_944ad_row9_col4\" class=\"data row9 col4\" >0.000000</td>\n",
              "      <td id=\"T_944ad_row9_col5\" class=\"data row9 col5\" >0.030000</td>\n",
              "      <td id=\"T_944ad_row9_col6\" class=\"data row9 col6\" >0.000000</td>\n",
              "      <td id=\"T_944ad_row9_col7\" class=\"data row9 col7\" >0.000000</td>\n",
              "      <td id=\"T_944ad_row9_col8\" class=\"data row9 col8\" >0.000000</td>\n",
              "      <td id=\"T_944ad_row9_col9\" class=\"data row9 col9\" >0.000000</td>\n",
              "      <td id=\"T_944ad_row9_col10\" class=\"data row9 col10\" >0.000000</td>\n",
              "      <td id=\"T_944ad_row9_col11\" class=\"data row9 col11\" >0.130000</td>\n",
              "      <td id=\"T_944ad_row9_col12\" class=\"data row9 col12\" >0.000000</td>\n",
              "      <td id=\"T_944ad_row9_col13\" class=\"data row9 col13\" >0.350000</td>\n",
              "      <td id=\"T_944ad_row9_col14\" class=\"data row9 col14\" >1</td>\n",
              "    </tr>\n",
              "    <tr>\n",
              "      <th id=\"T_944ad_level0_row10\" class=\"row_heading level0 row10\" >dataset10</th>\n",
              "      <td id=\"T_944ad_row10_col0\" class=\"data row10 col0\" >0.010000</td>\n",
              "      <td id=\"T_944ad_row10_col1\" class=\"data row10 col1\" >0.010000</td>\n",
              "      <td id=\"T_944ad_row10_col2\" class=\"data row10 col2\" >0.010000</td>\n",
              "      <td id=\"T_944ad_row10_col3\" class=\"data row10 col3\" >0.010000</td>\n",
              "      <td id=\"T_944ad_row10_col4\" class=\"data row10 col4\" >0.010000</td>\n",
              "      <td id=\"T_944ad_row10_col5\" class=\"data row10 col5\" >0.010000</td>\n",
              "      <td id=\"T_944ad_row10_col6\" class=\"data row10 col6\" >0.010000</td>\n",
              "      <td id=\"T_944ad_row10_col7\" class=\"data row10 col7\" >0.010000</td>\n",
              "      <td id=\"T_944ad_row10_col8\" class=\"data row10 col8\" >0.010000</td>\n",
              "      <td id=\"T_944ad_row10_col9\" class=\"data row10 col9\" >0.150000</td>\n",
              "      <td id=\"T_944ad_row10_col10\" class=\"data row10 col10\" >0.010000</td>\n",
              "      <td id=\"T_944ad_row10_col11\" class=\"data row10 col11\" >0.010000</td>\n",
              "      <td id=\"T_944ad_row10_col12\" class=\"data row10 col12\" >0.010000</td>\n",
              "      <td id=\"T_944ad_row10_col13\" class=\"data row10 col13\" >0.780000</td>\n",
              "      <td id=\"T_944ad_row10_col14\" class=\"data row10 col14\" >13</td>\n",
              "    </tr>\n",
              "    <tr>\n",
              "      <th id=\"T_944ad_level0_row11\" class=\"row_heading level0 row11\" >dataset11</th>\n",
              "      <td id=\"T_944ad_row11_col0\" class=\"data row11 col0\" >0.000000</td>\n",
              "      <td id=\"T_944ad_row11_col1\" class=\"data row11 col1\" >0.000000</td>\n",
              "      <td id=\"T_944ad_row11_col2\" class=\"data row11 col2\" >0.000000</td>\n",
              "      <td id=\"T_944ad_row11_col3\" class=\"data row11 col3\" >0.000000</td>\n",
              "      <td id=\"T_944ad_row11_col4\" class=\"data row11 col4\" >0.000000</td>\n",
              "      <td id=\"T_944ad_row11_col5\" class=\"data row11 col5\" >0.000000</td>\n",
              "      <td id=\"T_944ad_row11_col6\" class=\"data row11 col6\" >0.220000</td>\n",
              "      <td id=\"T_944ad_row11_col7\" class=\"data row11 col7\" >0.000000</td>\n",
              "      <td id=\"T_944ad_row11_col8\" class=\"data row11 col8\" >0.000000</td>\n",
              "      <td id=\"T_944ad_row11_col9\" class=\"data row11 col9\" >0.360000</td>\n",
              "      <td id=\"T_944ad_row11_col10\" class=\"data row11 col10\" >0.000000</td>\n",
              "      <td id=\"T_944ad_row11_col11\" class=\"data row11 col11\" >0.000000</td>\n",
              "      <td id=\"T_944ad_row11_col12\" class=\"data row11 col12\" >0.000000</td>\n",
              "      <td id=\"T_944ad_row11_col13\" class=\"data row11 col13\" >0.380000</td>\n",
              "      <td id=\"T_944ad_row11_col14\" class=\"data row11 col14\" >13</td>\n",
              "    </tr>\n",
              "    <tr>\n",
              "      <th id=\"T_944ad_level0_row12\" class=\"row_heading level0 row12\" >dataset12</th>\n",
              "      <td id=\"T_944ad_row12_col0\" class=\"data row12 col0\" >0.010000</td>\n",
              "      <td id=\"T_944ad_row12_col1\" class=\"data row12 col1\" >0.010000</td>\n",
              "      <td id=\"T_944ad_row12_col2\" class=\"data row12 col2\" >0.010000</td>\n",
              "      <td id=\"T_944ad_row12_col3\" class=\"data row12 col3\" >0.010000</td>\n",
              "      <td id=\"T_944ad_row12_col4\" class=\"data row12 col4\" >0.010000</td>\n",
              "      <td id=\"T_944ad_row12_col5\" class=\"data row12 col5\" >0.010000</td>\n",
              "      <td id=\"T_944ad_row12_col6\" class=\"data row12 col6\" >0.010000</td>\n",
              "      <td id=\"T_944ad_row12_col7\" class=\"data row12 col7\" >0.010000</td>\n",
              "      <td id=\"T_944ad_row12_col8\" class=\"data row12 col8\" >0.010000</td>\n",
              "      <td id=\"T_944ad_row12_col9\" class=\"data row12 col9\" >0.010000</td>\n",
              "      <td id=\"T_944ad_row12_col10\" class=\"data row12 col10\" >0.010000</td>\n",
              "      <td id=\"T_944ad_row12_col11\" class=\"data row12 col11\" >0.010000</td>\n",
              "      <td id=\"T_944ad_row12_col12\" class=\"data row12 col12\" >0.010000</td>\n",
              "      <td id=\"T_944ad_row12_col13\" class=\"data row12 col13\" >0.810000</td>\n",
              "      <td id=\"T_944ad_row12_col14\" class=\"data row12 col14\" >13</td>\n",
              "    </tr>\n",
              "    <tr>\n",
              "      <th id=\"T_944ad_level0_row13\" class=\"row_heading level0 row13\" >dataset13</th>\n",
              "      <td id=\"T_944ad_row13_col0\" class=\"data row13 col0\" >0.010000</td>\n",
              "      <td id=\"T_944ad_row13_col1\" class=\"data row13 col1\" >0.010000</td>\n",
              "      <td id=\"T_944ad_row13_col2\" class=\"data row13 col2\" >0.010000</td>\n",
              "      <td id=\"T_944ad_row13_col3\" class=\"data row13 col3\" >0.010000</td>\n",
              "      <td id=\"T_944ad_row13_col4\" class=\"data row13 col4\" >0.130000</td>\n",
              "      <td id=\"T_944ad_row13_col5\" class=\"data row13 col5\" >0.010000</td>\n",
              "      <td id=\"T_944ad_row13_col6\" class=\"data row13 col6\" >0.010000</td>\n",
              "      <td id=\"T_944ad_row13_col7\" class=\"data row13 col7\" >0.010000</td>\n",
              "      <td id=\"T_944ad_row13_col8\" class=\"data row13 col8\" >0.010000</td>\n",
              "      <td id=\"T_944ad_row13_col9\" class=\"data row13 col9\" >0.010000</td>\n",
              "      <td id=\"T_944ad_row13_col10\" class=\"data row13 col10\" >0.770000</td>\n",
              "      <td id=\"T_944ad_row13_col11\" class=\"data row13 col11\" >0.010000</td>\n",
              "      <td id=\"T_944ad_row13_col12\" class=\"data row13 col12\" >0.010000</td>\n",
              "      <td id=\"T_944ad_row13_col13\" class=\"data row13 col13\" >0.010000</td>\n",
              "      <td id=\"T_944ad_row13_col14\" class=\"data row13 col14\" >10</td>\n",
              "    </tr>\n",
              "    <tr>\n",
              "      <th id=\"T_944ad_level0_row14\" class=\"row_heading level0 row14\" >dataset14</th>\n",
              "      <td id=\"T_944ad_row14_col0\" class=\"data row14 col0\" >0.010000</td>\n",
              "      <td id=\"T_944ad_row14_col1\" class=\"data row14 col1\" >0.010000</td>\n",
              "      <td id=\"T_944ad_row14_col2\" class=\"data row14 col2\" >0.010000</td>\n",
              "      <td id=\"T_944ad_row14_col3\" class=\"data row14 col3\" >0.010000</td>\n",
              "      <td id=\"T_944ad_row14_col4\" class=\"data row14 col4\" >0.280000</td>\n",
              "      <td id=\"T_944ad_row14_col5\" class=\"data row14 col5\" >0.010000</td>\n",
              "      <td id=\"T_944ad_row14_col6\" class=\"data row14 col6\" >0.010000</td>\n",
              "      <td id=\"T_944ad_row14_col7\" class=\"data row14 col7\" >0.010000</td>\n",
              "      <td id=\"T_944ad_row14_col8\" class=\"data row14 col8\" >0.010000</td>\n",
              "      <td id=\"T_944ad_row14_col9\" class=\"data row14 col9\" >0.010000</td>\n",
              "      <td id=\"T_944ad_row14_col10\" class=\"data row14 col10\" >0.010000</td>\n",
              "      <td id=\"T_944ad_row14_col11\" class=\"data row14 col11\" >0.120000</td>\n",
              "      <td id=\"T_944ad_row14_col12\" class=\"data row14 col12\" >0.010000</td>\n",
              "      <td id=\"T_944ad_row14_col13\" class=\"data row14 col13\" >0.510000</td>\n",
              "      <td id=\"T_944ad_row14_col14\" class=\"data row14 col14\" >13</td>\n",
              "    </tr>\n",
              "  </tbody>\n",
              "</table>\n"
            ],
            "text/plain": [
              "<pandas.io.formats.style.Styler at 0x7f31ccc0f9d0>"
            ]
          },
          "metadata": {},
          "execution_count": 237
        }
      ],
      "metadata": {
        "colab": {
          "base_uri": "https://localhost:8080/",
          "height": 355
        },
        "id": "BXUCA8buHfb3",
        "outputId": "2523cd6a-f6ac-4419-d5be-e047c6eefbcb"
      }
    },
    {
      "cell_type": "code",
      "execution_count": null,
      "source": [
        "#topic_n = df_document_topic['dominant_topic']\n",
        "#df.loc[:,'topic_n'] = topic_n.values\n",
        "df['content'] = nlp_content_string\n",
        "df['topic_n'] = dominant_topic"
      ],
      "outputs": [],
      "metadata": {
        "id": "96wSM3QDIuwE"
      }
    },
    {
      "cell_type": "code",
      "execution_count": null,
      "source": [
        "df[df.loc[:,'topic_n'] == 13]"
      ],
      "outputs": [
        {
          "output_type": "execute_result",
          "data": {
            "text/html": [
              "<div>\n",
              "<style scoped>\n",
              "    .dataframe tbody tr th:only-of-type {\n",
              "        vertical-align: middle;\n",
              "    }\n",
              "\n",
              "    .dataframe tbody tr th {\n",
              "        vertical-align: top;\n",
              "    }\n",
              "\n",
              "    .dataframe thead th {\n",
              "        text-align: right;\n",
              "    }\n",
              "</style>\n",
              "<table border=\"1\" class=\"dataframe\">\n",
              "  <thead>\n",
              "    <tr style=\"text-align: right;\">\n",
              "      <th></th>\n",
              "      <th>Name</th>\n",
              "      <th>id</th>\n",
              "      <th>content</th>\n",
              "      <th>topic_n</th>\n",
              "    </tr>\n",
              "  </thead>\n",
              "  <tbody>\n",
              "    <tr>\n",
              "      <th>4</th>\n",
              "      <td>Pay Stay zones linked to street segments</td>\n",
              "      <td>7q9g-yyvg</td>\n",
              "      <td>pay stay zone link to street segment zone betw...</td>\n",
              "      <td>13</td>\n",
              "    </tr>\n",
              "    <tr>\n",
              "      <th>6</th>\n",
              "      <td>On-street Parking Bays</td>\n",
              "      <td>crvt-b4kt</td>\n",
              "      <td>on street parking bay transportation transport...</td>\n",
              "      <td>13</td>\n",
              "    </tr>\n",
              "    <tr>\n",
              "      <th>10</th>\n",
              "      <td>Building Permits</td>\n",
              "      <td>r5bg-2hj8</td>\n",
              "      <td>building permit issue date complete by desc of...</td>\n",
              "      <td>13</td>\n",
              "    </tr>\n",
              "    <tr>\n",
              "      <th>11</th>\n",
              "      <td>On-street Car Park Bay Restrictions</td>\n",
              "      <td>ntht-5rk7</td>\n",
              "      <td>on street car park bay restriction endtime des...</td>\n",
              "      <td>13</td>\n",
              "    </tr>\n",
              "    <tr>\n",
              "      <th>12</th>\n",
              "      <td>Building outlines 2014</td>\n",
              "      <td>qe9w-cym8</td>\n",
              "      <td>building outline housing development property ...</td>\n",
              "      <td>13</td>\n",
              "    </tr>\n",
              "    <tr>\n",
              "      <th>14</th>\n",
              "      <td>Development Activity Model Footprints</td>\n",
              "      <td>def8-4wbt</td>\n",
              "      <td>development activity model footprint housing p...</td>\n",
              "      <td>13</td>\n",
              "    </tr>\n",
              "    <tr>\n",
              "      <th>17</th>\n",
              "      <td>Street addresses</td>\n",
              "      <td>a7rp-xtya</td>\n",
              "      <td>street address property safe mobility</td>\n",
              "      <td>13</td>\n",
              "    </tr>\n",
              "    <tr>\n",
              "      <th>28</th>\n",
              "      <td>Building outlines 2015</td>\n",
              "      <td>pv8y-ihee</td>\n",
              "      <td>building outline housing development property ...</td>\n",
              "      <td>13</td>\n",
              "    </tr>\n",
              "    <tr>\n",
              "      <th>38</th>\n",
              "      <td>2018 Building Footprints</td>\n",
              "      <td>pq2z-35fu</td>\n",
              "      <td>building footprint the geom footprint max elev...</td>\n",
              "      <td>13</td>\n",
              "    </tr>\n",
              "    <tr>\n",
              "      <th>57</th>\n",
              "      <td>On-street Car Parking Meters with Location</td>\n",
              "      <td>vdsi-4gtj</td>\n",
              "      <td>on street car parking meter with location mete...</td>\n",
              "      <td>13</td>\n",
              "    </tr>\n",
              "    <tr>\n",
              "      <th>64</th>\n",
              "      <td>Municipal boundary</td>\n",
              "      <td>ck33-yh8z</td>\n",
              "      <td>municipal boundary property boundary entrepren...</td>\n",
              "      <td>13</td>\n",
              "    </tr>\n",
              "    <tr>\n",
              "      <th>75</th>\n",
              "      <td>Sign plates located in each Pay Stay zone</td>\n",
              "      <td>wwkr-v8s7</td>\n",
              "      <td>sign plate locate in each pay stay zone day of...</td>\n",
              "      <td>13</td>\n",
              "    </tr>\n",
              "    <tr>\n",
              "      <th>81</th>\n",
              "      <td>Customer service requests, with resolution time</td>\n",
              "      <td>ht4h-vqbu</td>\n",
              "      <td>customer service request with resolution time ...</td>\n",
              "      <td>13</td>\n",
              "    </tr>\n",
              "    <tr>\n",
              "      <th>105</th>\n",
              "      <td>Properties leased by City of Melbourne</td>\n",
              "      <td>3v7r-q3ds</td>\n",
              "      <td>property lease by city of melbourne financial ...</td>\n",
              "      <td>13</td>\n",
              "    </tr>\n",
              "    <tr>\n",
              "      <th>107</th>\n",
              "      <td>Pay Stay parking restrictions</td>\n",
              "      <td>ambt-72qg</td>\n",
              "      <td>pay stay parking restriction maximum start tim...</td>\n",
              "      <td>13</td>\n",
              "    </tr>\n",
              "    <tr>\n",
              "      <th>116</th>\n",
              "      <td>Live Music Venues</td>\n",
              "      <td>mgqj-necz</td>\n",
              "      <td>live music venue venue address location lon na...</td>\n",
              "      <td>13</td>\n",
              "    </tr>\n",
              "    <tr>\n",
              "      <th>120</th>\n",
              "      <td>Bus stops for Melbourne Visitor Shuttle</td>\n",
              "      <td>2x87-fe4u</td>\n",
              "      <td>bus stop for melbourne visitor shuttle name st...</td>\n",
              "      <td>13</td>\n",
              "    </tr>\n",
              "    <tr>\n",
              "      <th>124</th>\n",
              "      <td>Taxi Ranks</td>\n",
              "      <td>grmi-2ew3</td>\n",
              "      <td>taxi rank transportation public safety transpo...</td>\n",
              "      <td>13</td>\n",
              "    </tr>\n",
              "    <tr>\n",
              "      <th>139</th>\n",
              "      <td>Outdoor non-smoking zones</td>\n",
              "      <td>23k2-cnm2</td>\n",
              "      <td>outdoor non smoking zone property entrepreneur...</td>\n",
              "      <td>13</td>\n",
              "    </tr>\n",
              "    <tr>\n",
              "      <th>145</th>\n",
              "      <td>Parking restrictions (southeast CBD only) 2014</td>\n",
              "      <td>xgce-vkbh</td>\n",
              "      <td>parking restriction transportation transport c...</td>\n",
              "      <td>13</td>\n",
              "    </tr>\n",
              "    <tr>\n",
              "      <th>189</th>\n",
              "      <td>2020 Building Footprints</td>\n",
              "      <td>th7x-7gv7</td>\n",
              "      <td>building footprint roof type footprint min ele...</td>\n",
              "      <td>13</td>\n",
              "    </tr>\n",
              "  </tbody>\n",
              "</table>\n",
              "</div>"
            ],
            "text/plain": [
              "                                                Name  ... topic_n\n",
              "4           Pay Stay zones linked to street segments  ...      13\n",
              "6                             On-street Parking Bays  ...      13\n",
              "10                                  Building Permits  ...      13\n",
              "11               On-street Car Park Bay Restrictions  ...      13\n",
              "12                            Building outlines 2014  ...      13\n",
              "14             Development Activity Model Footprints  ...      13\n",
              "17                                  Street addresses  ...      13\n",
              "28                            Building outlines 2015  ...      13\n",
              "38                          2018 Building Footprints  ...      13\n",
              "57        On-street Car Parking Meters with Location  ...      13\n",
              "64                                Municipal boundary  ...      13\n",
              "75         Sign plates located in each Pay Stay zone  ...      13\n",
              "81   Customer service requests, with resolution time  ...      13\n",
              "105           Properties leased by City of Melbourne  ...      13\n",
              "107                    Pay Stay parking restrictions  ...      13\n",
              "116                                Live Music Venues  ...      13\n",
              "120          Bus stops for Melbourne Visitor Shuttle  ...      13\n",
              "124                                       Taxi Ranks  ...      13\n",
              "139                        Outdoor non-smoking zones  ...      13\n",
              "145   Parking restrictions (southeast CBD only) 2014  ...      13\n",
              "189                         2020 Building Footprints  ...      13\n",
              "\n",
              "[21 rows x 4 columns]"
            ]
          },
          "metadata": {},
          "execution_count": 240
        }
      ],
      "metadata": {
        "colab": {
          "base_uri": "https://localhost:8080/",
          "height": 700
        },
        "id": "YM2aaxvjCzaj",
        "outputId": "dd63ab3a-0f9b-4f72-d6ef-cd8bb414b97d"
      }
    },
    {
      "cell_type": "code",
      "execution_count": null,
      "source": [
        "pyLDAvis.enable_notebook()\n",
        "panel = pyLDAvis.sklearn.prepare(test_model_14, data_vectorized, vectorizer, mds='tsne')\n",
        "panel"
      ],
      "outputs": [
        {
          "output_type": "stream",
          "name": "stderr",
          "text": [
            "/usr/local/lib/python3.7/dist-packages/pyLDAvis/_prepare.py:247: FutureWarning: In a future version of pandas all arguments of DataFrame.drop except for the argument 'labels' will be keyword-only\n",
            "  by='saliency', ascending=False).head(R).drop('saliency', 1)\n",
            "/usr/local/lib/python3.7/dist-packages/sklearn/metrics/pairwise.py:56: DeprecationWarning: `np.float` is a deprecated alias for the builtin `float`. To silence this warning, use `float` by itself. Doing this will not modify any behavior and is safe. If you specifically wanted the numpy scalar type, use `np.float64` here.\n",
            "Deprecated in NumPy 1.20; for more details and guidance: https://numpy.org/devdocs/release/1.20.0-notes.html#deprecations\n",
            "  dtype = np.float\n",
            "/usr/local/lib/python3.7/dist-packages/sklearn/manifold/_t_sne.py:348: DeprecationWarning: `np.float` is a deprecated alias for the builtin `float`. To silence this warning, use `float` by itself. Doing this will not modify any behavior and is safe. If you specifically wanted the numpy scalar type, use `np.float64` here.\n",
            "Deprecated in NumPy 1.20; for more details and guidance: https://numpy.org/devdocs/release/1.20.0-notes.html#deprecations\n",
            "  error = np.finfo(np.float).max\n",
            "/usr/local/lib/python3.7/dist-packages/sklearn/manifold/_t_sne.py:349: DeprecationWarning: `np.float` is a deprecated alias for the builtin `float`. To silence this warning, use `float` by itself. Doing this will not modify any behavior and is safe. If you specifically wanted the numpy scalar type, use `np.float64` here.\n",
            "Deprecated in NumPy 1.20; for more details and guidance: https://numpy.org/devdocs/release/1.20.0-notes.html#deprecations\n",
            "  best_error = np.finfo(np.float).max\n",
            "/usr/local/lib/python3.7/dist-packages/sklearn/manifold/_t_sne.py:348: DeprecationWarning: `np.float` is a deprecated alias for the builtin `float`. To silence this warning, use `float` by itself. Doing this will not modify any behavior and is safe. If you specifically wanted the numpy scalar type, use `np.float64` here.\n",
            "Deprecated in NumPy 1.20; for more details and guidance: https://numpy.org/devdocs/release/1.20.0-notes.html#deprecations\n",
            "  error = np.finfo(np.float).max\n",
            "/usr/local/lib/python3.7/dist-packages/sklearn/manifold/_t_sne.py:349: DeprecationWarning: `np.float` is a deprecated alias for the builtin `float`. To silence this warning, use `float` by itself. Doing this will not modify any behavior and is safe. If you specifically wanted the numpy scalar type, use `np.float64` here.\n",
            "Deprecated in NumPy 1.20; for more details and guidance: https://numpy.org/devdocs/release/1.20.0-notes.html#deprecations\n",
            "  best_error = np.finfo(np.float).max\n"
          ]
        },
        {
          "output_type": "execute_result",
          "data": {
            "text/html": [
              "\n",
              "<link rel=\"stylesheet\" type=\"text/css\" href=\"https://cdn.jsdelivr.net/gh/bmabey/pyLDAvis@3.3.1/pyLDAvis/js/ldavis.v1.0.0.css\">\n",
              "\n",
              "\n",
              "<div id=\"ldavis_el22141398518509684002779742422\"></div>\n",
              "<script type=\"text/javascript\">\n",
              "\n",
              "var ldavis_el22141398518509684002779742422_data = {\"mdsDat\": {\"x\": [1.425140142440796, 93.69695281982422, 141.6940155029297, -126.23350524902344, -59.868133544921875, 151.9666290283203, 12.54269027709961, 49.37258529663086, 203.50599670410156, 119.92347717285156, -19.31559181213379, -95.84105682373047, 37.55474853515625, 243.64891052246094], \"y\": [-203.13143920898438, -55.01815414428711, 25.3204288482666, 5.739787578582764, 101.51930236816406, 133.119140625, -101.44165802001953, 57.773475646972656, -84.54183959960938, -166.0689697265625, -8.882428169250488, -109.37347412109375, 165.05709838867188, 32.73354721069336], \"topics\": [1, 2, 3, 4, 5, 6, 7, 8, 9, 10, 11, 12, 13, 14], \"cluster\": [1, 1, 1, 1, 1, 1, 1, 1, 1, 1, 1, 1, 1, 1], \"Freq\": [28.741696545034824, 14.280351296750846, 7.60736089149595, 7.152094568431753, 6.925457675775637, 6.744312464733536, 5.3080470080153175, 5.021416983177114, 4.200503300392856, 4.173801997788001, 3.655765899106081, 2.1339402940041334, 2.030417447954113, 2.024833627339847]}, \"tinfo\": {\"Term\": [\"environment\", \"transport\", \"year\", \"public\", \"sensor\", \"total\", \"waste\", \"date\", \"location\", \"tree\", \"accessibility\", \"building\", \"city\", \"safemobility\", \"safety\", \"property\", \"health\", \"transportation\", \"council\", \"demographic\", \"service\", \"finance\", \"gas\", \"asset\", \"green\", \"description\", \"cityreactivation\", \"clue\", \"infrastructure\", \"business\", \"betweenstreet\", \"care\", \"real\", \"rental\", \"administration\", \"estate\", \"hire\", \"insurance\", \"postal\", \"telecommunication\", \"trade\", \"training\", \"deviceid\", \"streetname\", \"arrivaltime\", \"departuretime\", \"streetid\", \"streetmarker\", \"agriculture\", \"mining\", \"assistance\", \"medium\", \"support\", \"information\", \"art\", \"wholesale\", \"education\", \"safety\", \"social\", \"accommodation\", \"recreation\", \"public\", \"sensor\", \"transport\", \"area\", \"block\", \"clue\", \"economy\", \"business\", \"environment\", \"water\", \"retail\", \"industry\", \"construction\", \"base\", \"coordinate\", \"land\", \"employment\", \"small\", \"use\", \"clue\", \"address\", \"census\", \"beverage\", \"area\", \"number\", \"property\", \"industry\", \"block\", \"housing\", \"type\", \"development\", \"economy\", \"street\", \"year\", \"cityreactivation\", \"business\", \"food\", \"house\", \"location\", \"description\", \"transportation\", \"demographic\", \"count\", \"finance\", \"environment\", \"stats\", \"population\", \"resident\", \"people\", \"community\", \"order\", \"melbourne\", \"value\", \"sub\", \"demographic\", \"category\", \"year\", \"finance\", \"city\", \"social\", \"type\", \"health\", \"house\", \"census\", \"count\", \"food\", \"safety\", \"description\", \"total\", \"property\", \"economy\", \"changemaker\", \"entrepreneur\", \"financial\", \"common\", \"environment\", \"area\", \"small\", \"education\", \"asset\", \"council\", \"lon\", \"lat\", \"city\", \"description\", \"number\", \"model\", \"eventsplanner\", \"changemaker\", \"location\", \"type\", \"house\", \"category\", \"infrastructure\", \"water\", \"accessibility\", \"service\", \"green\", \"date\", \"public\", \"housing\", \"development\", \"site\", \"construction\", \"address\", \"street\", \"demographic\", \"order\", \"entrepreneur\", \"financial\", \"information\", \"park\", \"floor\", \"storage\", \"space\", \"common\", \"community\", \"construction\", \"retail\", \"house\", \"park\", \"site\", \"changemaker\", \"manufacturing\", \"accommodation\", \"performance\", \"wholesale\", \"recreation\", \"economy\", \"car\", \"business\", \"employment\", \"parking\", \"block\", \"infrastructure\", \"total\", \"clue\", \"land\", \"use\", \"area\", \"entrepreneur\", \"small\", \"industry\", \"public\", \"year\", \"environment\", \"census\", \"transport\", \"entrepreneur\", \"development\", \"housing\", \"sign\", \"address\", \"parking\", \"space\", \"car\", \"transportation\", \"building\", \"street\", \"property\", \"accessibility\", \"time\", \"park\", \"travel\", \"transport\", \"type\", \"cityreactivation\", \"demographic\", \"art\", \"date\", \"people\", \"melbourne\", \"number\", \"eventsplanner\", \"area\", \"order\", \"changemaker\", \"financial\", \"information\", \"streetname\", \"time\", \"latitude\", \"longitude\", \"common\", \"sensor\", \"location\", \"site\", \"order\", \"lat\", \"data\", \"lon\", \"date\", \"park\", \"environment\", \"urban\", \"demographic\", \"melbourne\", \"cityreactivation\", \"climate\", \"count\", \"health\", \"description\", \"city\", \"transportation\", \"transport\", \"area\", \"changemaker\", \"entrepreneur\", \"financial\", \"facility\", \"total\", \"street\", \"rental\", \"streetname\", \"climate\", \"green\", \"building\", \"energy\", \"performance\", \"model\", \"electricity\", \"property\", \"cityreactivation\", \"demographic\", \"environment\", \"melbourne\", \"block\", \"business\", \"infrastructure\", \"recreation\", \"economy\", \"city\", \"order\", \"changemaker\", \"entrepreneur\", \"financial\", \"common\", \"facility\", \"resident\", \"plan\", \"arrivaltime\", \"departuretime\", \"streetid\", \"streetmarker\", \"retail\", \"urbanforest\", \"safety\", \"area\", \"health\", \"street\", \"location\", \"house\", \"council\", \"canopy\", \"tree\", \"urbanforest\", \"forest\", \"canopy\", \"urban\", \"changemaker\", \"environment\", \"park\", \"eventsplanner\", \"citizenreporter\", \"water\", \"melbourne\", \"area\", \"type\", \"order\", \"entrepreneur\", \"financial\", \"common\", \"facility\", \"climate\", \"resident\", \"plan\", \"arrivaltime\", \"departuretime\", \"streetid\", \"streetmarker\", \"population\", \"house\", \"budget\", \"beverage\", \"year\", \"green\", \"transportation\", \"health\", \"demographic\", \"street\", \"accessibility\", \"description\", \"land\", \"art\", \"infrastructure\", \"recreation\", \"value\", \"public\", \"date\", \"budget\", \"plan\", \"citizenreporter\", \"value\", \"sub\", \"category\", \"finance\", \"date\", \"business\", \"year\", \"description\", \"infrastructure\", \"type\", \"recreation\", \"asset\", \"order\", \"changemaker\", \"entrepreneur\", \"financial\", \"common\", \"facility\", \"climate\", \"resident\", \"arrivaltime\", \"departuretime\", \"streetid\", \"streetmarker\", \"population\", \"house\", \"beverage\", \"economy\", \"council\", \"total\", \"environment\", \"city\", \"service\", \"parking\", \"count\", \"melbourne\", \"public\", \"accessibility\", \"safemobility\", \"eventsplanner\", \"financial\", \"transport\", \"accessibility\", \"cityreactivation\", \"transportation\", \"facility\", \"council\", \"city\", \"street\", \"water\", \"model\", \"service\", \"order\", \"changemaker\", \"entrepreneur\", \"common\", \"climate\", \"resident\", \"plan\", \"arrivaltime\", \"departuretime\", \"streetid\", \"streetmarker\", \"population\", \"house\", \"budget\", \"beverage\", \"storage\", \"information\", \"rental\", \"recreation\", \"infrastructure\", \"location\", \"type\", \"date\", \"real\", \"sign\", \"economy\", \"area\", \"people\", \"property\", \"car\", \"travel\", \"facility\", \"waste\", \"energy\", \"gas\", \"date\", \"environment\", \"use\", \"order\", \"changemaker\", \"entrepreneur\", \"financial\", \"common\", \"climate\", \"resident\", \"plan\", \"arrivaltime\", \"departuretime\", \"streetid\", \"streetmarker\", \"population\", \"house\", \"budget\", \"beverage\", \"storage\", \"streetname\", \"deviceid\", \"administration\", \"estate\", \"hire\", \"insurance\", \"time\", \"total\", \"agriculture\", \"mining\", \"transportation\", \"green\", \"building\", \"address\", \"category\", \"number\", \"electricity\", \"travel\", \"street\", \"infrastructure\", \"water\", \"housing\", \"development\", \"city\", \"industry\", \"public\", \"service\", \"health\", \"education\", \"public\", \"safety\", \"performance\", \"food\", \"people\", \"latitude\", \"longitude\", \"assistance\", \"medium\", \"support\", \"social\", \"category\", \"address\", \"number\", \"parking\", \"location\", \"transport\", \"demographic\", \"order\", \"changemaker\", \"entrepreneur\", \"financial\", \"common\", \"facility\", \"climate\", \"resident\", \"plan\", \"economy\", \"recreation\", \"park\", \"infrastructure\", \"finance\", \"description\", \"green\", \"car\", \"count\", \"total\", \"infrastructure\", \"travel\", \"site\", \"latitude\", \"longitude\", \"safemobility\", \"finance\", \"art\", \"year\", \"description\", \"location\", \"transport\", \"people\", \"demographic\", \"order\", \"changemaker\", \"entrepreneur\", \"financial\", \"common\", \"facility\", \"climate\", \"resident\", \"plan\", \"arrivaltime\", \"departuretime\", \"streetid\", \"streetmarker\", \"population\", \"time\", \"business\", \"street\", \"model\", \"date\", \"electricity\", \"house\", \"green\", \"sensor\", \"public\"], \"Freq\": [79.0, 61.0, 74.0, 39.0, 40.0, 29.0, 24.0, 39.0, 48.0, 24.0, 44.0, 33.0, 50.0, 23.0, 31.0, 51.0, 26.0, 47.0, 30.0, 62.0, 24.0, 33.0, 19.0, 26.0, 23.0, 44.0, 38.0, 57.0, 29.0, 45.0, 21.622245612673098, 12.805407272733735, 12.805406834563694, 12.805404519824455, 11.82575897044562, 11.82575897044562, 11.82575897044562, 11.82575897044562, 11.82575897044562, 11.82575897044562, 11.82575897044562, 11.82575897044562, 11.825758243918004, 11.82575727556701, 10.846110206126903, 10.846110206126903, 10.846110206126903, 10.846110206126903, 11.825759135397028, 11.825759135397028, 11.825758919862006, 11.825758919862006, 11.825758919862006, 13.785051978259148, 11.81068067148314, 11.82575887104465, 11.825758724861393, 21.62224507102471, 11.825758919404889, 11.82575885003222, 14.692653422001078, 21.62224462330413, 20.88070846600169, 22.803586644079438, 19.547400459223287, 17.703650428089226, 16.724001699983663, 13.78505449534232, 12.805403782284438, 12.265875649755374, 11.825759437824958, 11.82575920459494, 11.825759031473215, 11.825758965566758, 17.38635907407081, 15.462176960987827, 23.62139911168502, 21.45754822188494, 25.291017464442675, 20.65627754265816, 31.29722830158781, 12.580489960448022, 21.426192180655214, 5.841267041681267, 29.511738111884213, 10.884987248513832, 19.37290110437611, 8.727540280611924, 17.50176438868049, 5.499218629612134, 12.661040839212925, 5.5018253427951, 9.298342775055119, 11.2031830001005, 20.02661491641237, 9.41312838431747, 11.116388320485118, 5.841266749577287, 2.9864171426833384, 10.795481520844998, 9.199049988481573, 8.652295325204518, 11.01473179554807, 1.9928993556978296, 4.471011546955281, 4.095832417318348, 20.8698740221377, 11.414267308276303, 10.468706961139263, 19.402817912149754, 7.6320250041999715, 5.740904035156352, 15.055474361237527, 9.523145857860273, 7.632024882397578, 21.573988332366813, 7.60898734451956, 20.141425632636366, 9.094361952879654, 13.424095197949278, 3.689481292636004, 8.274005387311162, 4.409900323983517, 1.958660847250899, 6.107224870003354, 2.0046375261551455, 3.2221589729500386, 3.756998316580138, 4.331931240177019, 1.9998726981780381, 3.129997909267742, 2.011653350340332, 0.06754004662866574, 0.06754020759747648, 0.06754004662863636, 0.0675400466285645, 0.2678524502679137, 0.06758290880238296, 0.06754059404648276, 0.06754057563798013, 24.312517879130127, 24.064642474294725, 12.11341855535052, 12.091419745971582, 22.52965220712834, 18.741877510822494, 10.50028676589404, 4.885441026972356, 4.685952902470891, 2.8740153612237362, 12.805858063002777, 10.407371273612622, 2.8740154632564616, 5.032576980661134, 6.1325608642700855, 3.809742882433282, 7.167744200123473, 3.8097409167330314, 3.1819560232597643, 4.616122807442845, 4.545767789037863, 1.9599251911100246, 1.9579519221314245, 1.0025629480160323, 1.0025633468063349, 1.166555502609831, 1.6188700275541625, 1.1348788511931227, 0.06683759892189495, 0.06683759892206925, 0.06683793206623037, 0.06683953434287485, 0.06683839458786438, 8.840658646147036, 5.916976483070063, 11.164980406303552, 3.967855076425015, 4.942415611652709, 7.866098153538869, 5.916975192924832, 3.9360248909527003, 3.967855876163762, 3.96785516187857, 2.993291663300508, 4.942415710943588, 4.942415650006524, 3.967854876358486, 3.967854996715466, 4.942416893726751, 7.148576238464072, 4.379858976248568, 8.369969701208356, 6.6658249136815675, 4.942415596528137, 8.723758370973513, 4.942416464917366, 4.94241504602413, 8.393341511306124, 5.448488460290728, 5.168432516212492, 8.712561202845361, 1.4255635387802288, 5.706351079914634, 2.9932933584378367, 4.48149285174443, 5.587288448988801, 5.585699853355767, 4.370909802015379, 3.967855156083596, 8.193794605991172, 10.76438842232819, 9.820978568011766, 7.796998311939204, 10.240733429754213, 11.439960880447702, 9.143771370172736, 7.9823258705910956, 15.708219207472137, 10.611049231244616, 12.6577545246884, 15.789304237239632, 12.832057438097133, 2.9676285116003784, 2.601479060373136, 3.349468948224389, 11.092588988310782, 5.429379523102539, 4.959855388372804, 7.974288226433863, 1.955379143520726, 4.40969622336606, 2.8993562046718404, 2.8993559926066084, 2.5287866205568585, 1.152082426092261, 1.286057294090955, 0.06742692406764571, 0.06742824248143818, 0.06742716912868345, 0.06742793430223962, 0.06742781538074064, 10.363576768668917, 10.35806589916446, 10.35806589916446, 5.720621443287733, 18.68268968083986, 20.961154223722552, 5.720622308586554, 3.8361819356468034, 5.86145341147896, 4.7784020500387, 4.897081759575408, 10.347683455817965, 3.1777257232627525, 11.654353715392048, 1.9961673770952812, 7.227605032934644, 2.8939617698253906, 3.435031482747751, 1.0095209282356703, 1.2691658055185768, 1.9517409417670213, 2.1744569840121972, 1.9758284370939465, 1.3191181049229264, 1.6918639175178194, 1.029885240569196, 0.067301560477269, 0.06730211308467059, 0.06730143872168978, 0.06730144213227045, 0.0872867747160819, 0.06748629782957155, 0.06730332845746495, 0.06730212868221688, 9.486507040891043, 19.537673912289016, 21.323100232139854, 7.720808948914543, 7.60266139733637, 6.464117930486596, 8.544583128029673, 12.351335556391444, 8.22075651746994, 10.798940425901538, 12.82312054862532, 3.9650880669372466, 6.660738853262983, 4.403446644272166, 2.2468316287305776, 1.1771266536256548, 1.0092021071405508, 1.1150705382283188, 0.0672801873530609, 0.06728024312208612, 0.0672801873533127, 0.06728018735316374, 0.06728018735305553, 0.06728024055908967, 0.06728018735303741, 0.06728030537171194, 0.06728018735305998, 0.06728018735305998, 0.06728018735305998, 0.06728018735305998, 0.06728056464948474, 0.06728044348282175, 0.06728038833137992, 0.067280268119624, 0.06728026748583894, 0.06728025458359317, 0.06728024555882707, 0.06728024312206848, 0.06728024226525293, 0.06728024102572389, 23.30968366037949, 15.87183587828443, 12.15291216135424, 12.152912006147812, 13.968537039178909, 3.7853321436405625, 20.78440394047941, 2.868980337650549, 3.0259986732502027, 3.3885284008536494, 2.8556028188069846, 1.9361137303806428, 3.1657856311652077, 1.0252814466004427, 0.06640935648197158, 0.06640942731176361, 0.06640935648209206, 0.06640967705688183, 0.06640935648200998, 0.06640938437633039, 0.06640935648194404, 0.0664093633914516, 0.06640938855068869, 0.06640938855068869, 0.06640938855068869, 0.06640938855068869, 0.06640936099854529, 0.06640935648212208, 0.06640936279470419, 0.06640935648195682, 0.06714900288723553, 0.0664106240368333, 0.06640992381734052, 0.0664098642093675, 0.06640975520121255, 0.06640964106622077, 0.06640961501183737, 0.06640955983037106, 0.06640954555087955, 0.0664095227622344, 0.06640949657151363, 0.06640949303700798, 0.06640948029038168, 0.0664094755965288, 0.06640946767564758, 11.655874613428121, 10.690299009652817, 13.03355313217931, 9.724724170273891, 7.793572979369983, 8.462881531925618, 10.514479230737502, 9.133104259297758, 8.176400626280826, 12.600146688135407, 7.574745622039783, 3.458020332594819, 3.4197483938348996, 1.8989923194069298, 1.1204046520852475, 0.06896967358874558, 0.06897082506053219, 0.068969889503654, 0.06897200741864042, 0.06896976392909517, 0.06896996022704173, 0.06896967358873939, 0.0689697126590823, 0.06896971034595675, 0.06896971034595675, 0.06896971034595675, 0.06896971034595675, 0.06896967358871088, 0.0689696735889098, 0.06896967358872946, 0.06897149020638703, 0.06897052199319055, 0.06897022894111128, 0.06897019677330644, 0.06897019034026768, 0.06897009406858802, 0.06897001916159694, 0.06896996838073792, 0.06896994357892311, 0.06896986422467016, 0.06896982392751314, 20.519134800054154, 5.234060016432331, 3.6724233511647335, 17.83875970472196, 12.239909606176466, 9.872910371214441, 9.45767784967462, 2.0506475502600288, 5.7955721740040484, 8.644927082628378, 4.701845538795886, 1.8684262730571215, 1.0197874931103124, 1.0205687782464443, 0.06442853790916608, 0.06442863920485924, 0.06442890927504277, 0.0644285379091594, 0.06442853790916006, 0.06442853790913687, 0.06442865084877102, 0.06442853790916495, 0.06442853790916495, 0.06442853790916495, 0.06442853790916495, 0.06442853790913235, 0.06442853790932576, 0.06442864554195726, 0.06442853790915043, 0.06442853790913278, 0.06443025636914809, 0.06442942058122893, 0.06442908039140857, 0.0644290632828159, 0.06442891662630257, 0.06442891400260296, 0.06442884494438396, 0.0644288076923909, 0.06442879415342856, 0.06442878782209711, 0.0644287832412566, 0.06442877027696875, 0.06442875022221234, 0.06442871506937736, 0.06442871390621106, 7.652983244740916, 11.739438924556708, 5.782467743168269, 6.876949164853222, 10.02799853646286, 12.098501457991203, 2.37362483298411, 0.06946412941691363, 0.06946525055863009, 0.06946414161036435, 0.06946412941717293, 0.06946412941690007, 0.0694641294169014, 0.06946412941685436, 0.06946412941684474, 0.06946412941691127, 0.06946412941691127, 0.06946412941691127, 0.06946412941691127, 0.06946437677224955, 0.06946514553408112, 0.06946412941680971, 0.06946412941688183, 0.06946424516496814, 0.06946412941725101, 0.06946412941698615, 0.06946412941679803, 0.06946412941679803, 0.06946412941679803, 0.06946412941679803, 0.06946585263255779, 0.06946526973364549, 0.06946515814064048, 0.06946515814064048, 0.06946504141469695, 0.06946502592415148, 0.0694648778288104, 0.06946483646131123, 0.0694647571515851, 0.06946472162087362, 0.06946471237580146, 0.06946467176060829, 0.06946466232807019, 0.06946462106551159, 0.06946453884329508, 0.06946451214367193, 0.0694645120862449, 0.06946443254843378, 0.06946437900768676, 0.06946437846782276, 7.053283938674624, 7.523733609818206, 4.095744900496446, 7.8041367973563265, 5.200431119904098, 2.0838000733839688, 2.751523338305608, 2.6386165093999305, 1.156467559017303, 1.1564675590173026, 1.077827922523965, 1.077827922523965, 1.077827922523965, 1.248370968902416, 1.102337593424005, 1.1209894049851366, 1.0778272044462751, 1.0778281242874024, 1.1094442906661197, 1.2943737624049463, 1.3010993291089494, 0.07185519137228934, 0.07185519137270475, 0.07185529265809275, 0.07185519137257984, 0.07185519137227413, 0.07185567309880794, 0.07185519137227564, 0.07185519137222295, 0.07185525704210165, 0.15928835656952062, 0.07185626021711064, 0.07185590762184614, 0.07185569779032358, 0.07185567439076027, 0.0718555550742111, 0.07185552247984933, 0.07185550179521126, 8.799133100032197, 10.252466321760862, 5.782441700681281, 3.0896503134755617, 2.083717568149583, 2.0837172868254523, 2.0837172868254523, 2.40856199854072, 3.2757139315882005, 1.0932679900106181, 3.5473844299600543, 2.116368001841178, 2.11386814005886, 2.5562150909152024, 1.077783337097747, 1.224464873813196, 0.07185230636313424, 0.07185251857697006, 0.07185297653570735, 0.07185249903386859, 0.0718523063631188, 0.07185232900344314, 0.07185230636312034, 0.07185250068731891, 0.07185232891030059, 0.07185230636313154, 0.07185230636313154, 0.07185230636313154, 0.07185230636313154, 0.07185230636305641, 0.07185272320821767, 0.07185269549039806, 0.07185266790808172, 0.07185262392266975, 0.07185260765062298, 0.07185253731349522, 0.07185251857692052, 0.07185249899111733, 0.07185249441980854, 0.07185249218273244], \"Total\": [79.0, 61.0, 74.0, 39.0, 40.0, 29.0, 24.0, 39.0, 48.0, 24.0, 44.0, 33.0, 50.0, 23.0, 31.0, 51.0, 26.0, 47.0, 30.0, 62.0, 24.0, 33.0, 19.0, 26.0, 23.0, 44.0, 38.0, 57.0, 29.0, 45.0, 22.509943379449588, 13.693105316307374, 13.69310528213141, 13.693105166508197, 12.713456651779202, 12.713456651779202, 12.713456651779202, 12.713456651779202, 12.713456651779202, 12.713456651779202, 12.713456651779202, 12.713456651779202, 12.713456622326774, 12.713456588293422, 11.7338079748658, 11.7338079748658, 11.7338079748658, 11.7338079748658, 13.688017498682532, 13.688017498682532, 13.719429332347538, 13.719429332347538, 13.719429332347538, 16.621875423030477, 15.607747389575122, 16.611700065853807, 16.737347303216946, 31.32797738284148, 17.51191362427681, 17.586260917203138, 23.39302856915463, 39.13303655415133, 40.383794862256735, 61.72046528370306, 63.80169913890974, 51.27199755552765, 57.16393722370175, 33.954810607014274, 45.484725962957725, 79.98701133891424, 21.04955432033455, 18.56082174095614, 24.295958516513974, 21.445669872879012, 18.275311194958373, 16.351129124928335, 37.7264174376765, 36.77990261970432, 43.57249363025178, 36.78540001177881, 57.16393722370175, 25.791601746033802, 44.41191093013873, 12.608110820952158, 63.80169913890974, 25.674721072040814, 51.33024430854383, 24.295958516513974, 51.27199755552765, 18.034810141896756, 41.76859627615815, 18.97885356060759, 33.954810607014274, 40.95187259137943, 74.20239927276558, 38.483498090873255, 45.484725962957725, 24.32028980759381, 12.440082340584883, 48.39691253864308, 44.684881573318236, 47.348798481160664, 62.658855811131865, 14.748094431323901, 33.79143510666121, 79.98701133891424, 21.760006949403056, 12.304400428009433, 11.358839767463621, 26.69757323318437, 13.394962076529813, 10.399917059245924, 27.371709808881672, 20.069033410694043, 16.246761245367026, 62.658855811131865, 22.889254630365517, 74.20239927276558, 33.79143510666121, 50.44777300536665, 17.51191362427681, 41.76859627615815, 26.392134982661084, 12.440082340584883, 44.41191093013873, 14.748094431323901, 24.32028980759381, 31.32797738284148, 44.684881573318236, 29.53759466782526, 51.33024430854383, 33.954810607014274, 10.407458295364256, 10.439994815410651, 10.443562964412667, 10.50923684326037, 79.98701133891424, 63.80169913890974, 43.57249363025178, 16.737347303216946, 26.254788217809427, 30.68662253855105, 17.83403422325979, 18.776407033654962, 50.44777300536665, 44.684881573318236, 25.674721072040814, 13.128473817809144, 14.790664716419409, 10.407458295364256, 48.39691253864308, 41.76859627615815, 12.440082340584883, 22.889254630365517, 29.069843139543842, 21.04955432033455, 44.13626119756431, 24.393929805312254, 23.5431877287235, 39.15227937396994, 39.13303655415133, 18.034810141896756, 18.97885356060759, 13.456827866305467, 21.445669872879012, 25.791601746033802, 40.95187259137943, 62.658855811131865, 10.399917059245924, 10.439994815410651, 10.443562964412667, 16.621875423030477, 13.302966201297254, 13.647314927767434, 12.68292973156248, 25.04798061193766, 10.50923684326037, 13.394962076529813, 21.445669872879012, 18.56082174095614, 12.440082340584883, 13.302966201297254, 13.456827866305467, 10.407458295364256, 17.5862609183621, 17.586260917203138, 14.403242300211895, 16.611700065853807, 23.39302856915463, 33.954810607014274, 23.167995472919394, 45.484725962957725, 36.77990261970432, 28.938614802853632, 51.27199755552765, 29.069843139543842, 29.53759466782526, 57.16393722370175, 37.7264174376765, 36.78540001177881, 63.80169913890974, 10.439994815410651, 43.57249363025178, 24.295958516513974, 39.13303655415133, 74.20239927276558, 79.98701133891424, 44.41191093013873, 61.72046528370306, 10.439994815410651, 18.97885356060759, 18.034810141896756, 19.27890625203725, 25.791601746033802, 28.938614802853632, 25.04798061193766, 23.167995472919394, 47.348798481160664, 33.9891715575033, 40.95187259137943, 51.33024430854383, 44.13626119756431, 14.15415207774047, 13.302966201297254, 17.56652649323508, 61.72046528370306, 41.76859627615815, 38.483498090873255, 62.658855811131865, 15.607747389575122, 39.15227937396994, 26.69757323318437, 27.371709808881672, 25.674721072040814, 14.790664716419409, 63.80169913890974, 10.399917059245924, 10.407458295364256, 10.443562964412667, 16.621875423030477, 12.713456588293422, 14.15415207774047, 14.344915140558102, 14.344915140558102, 10.50923684326037, 40.383794862256735, 48.39691253864308, 13.456827866305467, 10.399917059245924, 18.776407033654962, 15.465260015934456, 17.83403422325979, 39.15227937396994, 13.302966201297254, 79.98701133891424, 16.788666596860327, 62.658855811131865, 27.371709808881672, 38.483498090873255, 11.31911894473928, 14.748094431323901, 26.392134982661084, 44.684881573318236, 50.44777300536665, 47.348798481160664, 61.72046528370306, 63.80169913890974, 10.407458295364256, 10.439994815410651, 10.443562964412667, 10.527412223830343, 29.53759466782526, 40.95187259137943, 13.693105166508197, 12.713456588293422, 11.31911894473928, 23.5431877287235, 33.9891715575033, 14.324205296590312, 14.403242300211895, 13.128473817809144, 21.190760277224253, 51.33024430854383, 38.483498090873255, 62.658855811131865, 79.98701133891424, 27.371709808881672, 51.27199755552765, 45.484725962957725, 29.069843139543842, 23.39302856915463, 33.954810607014274, 50.44777300536665, 10.399917059245924, 10.407458295364256, 10.439994815410651, 10.443562964412667, 10.50923684326037, 10.527412223830343, 11.358839767463621, 11.579002298044765, 11.7338079748658, 11.7338079748658, 11.7338079748658, 11.7338079748658, 18.56082174095614, 16.763099423497746, 31.32797738284148, 63.80169913890974, 26.392134982661084, 40.95187259137943, 48.39691253864308, 12.440082340584883, 30.68662253855105, 13.044175468708968, 24.20094735631604, 16.763099423497746, 13.044175455860366, 13.044175468708968, 16.788666596860327, 10.407458295364256, 79.98701133891424, 13.302966201297254, 14.790664716419409, 17.244375363953388, 21.04955432033455, 27.371709808881672, 63.80169913890974, 41.76859627615815, 10.399917059245924, 10.439994815410651, 10.443562964412667, 10.50923684326037, 10.527412223830343, 11.31911894473928, 11.358839767463621, 11.579002298044765, 11.7338079748658, 11.7338079748658, 11.7338079748658, 11.7338079748658, 12.304400428009433, 12.440082340584883, 12.544577728174266, 12.608110820952158, 74.20239927276558, 23.5431877287235, 47.348798481160664, 26.392134982661084, 62.658855811131865, 40.95187259137943, 44.13626119756431, 44.684881573318236, 37.7264174376765, 15.607747389575122, 29.069843139543842, 23.39302856915463, 20.069033410694043, 39.13303655415133, 39.15227937396994, 12.544577728174266, 11.579002298044765, 17.244375363953388, 20.069033410694043, 16.246761245367026, 22.889254630365517, 33.79143510666121, 39.15227937396994, 45.484725962957725, 74.20239927276558, 44.684881573318236, 29.069843139543842, 41.76859627615815, 23.39302856915463, 26.254788217809427, 10.399917059245924, 10.407458295364256, 10.439994815410651, 10.443562964412667, 10.50923684326037, 10.527412223830343, 11.31911894473928, 11.358839767463621, 11.7338079748658, 11.7338079748658, 11.7338079748658, 11.7338079748658, 12.304400428009433, 12.440082340584883, 12.608110820952158, 33.954810607014274, 30.68662253855105, 29.53759466782526, 79.98701133891424, 50.44777300536665, 24.393929805312254, 28.938614802853632, 14.748094431323901, 27.371709808881672, 39.13303655415133, 44.13626119756431, 23.749089341691327, 14.790664716419409, 10.443562964412667, 61.72046528370306, 44.13626119756431, 38.483498090873255, 47.348798481160664, 10.527412223830343, 30.68662253855105, 50.44777300536665, 40.95187259137943, 21.04955432033455, 13.128473817809144, 24.393929805312254, 10.399917059245924, 10.407458295364256, 10.439994815410651, 10.50923684326037, 11.31911894473928, 11.358839767463621, 11.579002298044765, 11.7338079748658, 11.7338079748658, 11.7338079748658, 11.7338079748658, 12.304400428009433, 12.440082340584883, 12.544577728174266, 12.608110820952158, 12.68292973156248, 16.621875423030477, 13.693105166508197, 23.39302856915463, 29.069843139543842, 48.39691253864308, 41.76859627615815, 39.15227937396994, 13.69310528213141, 19.27890625203725, 33.954810607014274, 63.80169913890974, 26.69757323318437, 51.33024430854383, 23.167995472919394, 17.56652649323508, 10.527412223830343, 24.38343037856595, 14.324205296590312, 19.520941321896057, 39.15227937396994, 79.98701133891424, 36.78540001177881, 10.399917059245924, 10.407458295364256, 10.439994815410651, 10.443562964412667, 10.50923684326037, 11.31911894473928, 11.358839767463621, 11.579002298044765, 11.7338079748658, 11.7338079748658, 11.7338079748658, 11.7338079748658, 12.304400428009433, 12.440082340584883, 12.544577728174266, 12.608110820952158, 12.68292973156248, 12.713456588293422, 12.713456622326774, 12.713456651779202, 12.713456651779202, 12.713456651779202, 12.713456651779202, 14.15415207774047, 29.53759466782526, 13.688017498682532, 13.688017498682532, 47.348798481160664, 23.5431877287235, 33.9891715575033, 25.791601746033802, 22.889254630365517, 25.674721072040814, 21.190760277224253, 17.56652649323508, 40.95187259137943, 29.069843139543842, 21.04955432033455, 18.034810141896756, 18.97885356060759, 50.44777300536665, 24.295958516513974, 39.13303655415133, 24.393929805312254, 26.392134982661084, 16.737347303216946, 39.13303655415133, 31.32797738284148, 14.403242300211895, 24.32028980759381, 26.69757323318437, 14.344915140558102, 14.344915140558102, 13.719429332347538, 13.719429332347538, 13.719429332347538, 17.51191362427681, 22.889254630365517, 25.791601746033802, 25.674721072040814, 28.938614802853632, 48.39691253864308, 61.72046528370306, 62.658855811131865, 10.399917059245924, 10.407458295364256, 10.439994815410651, 10.443562964412667, 10.50923684326037, 10.527412223830343, 11.31911894473928, 11.358839767463621, 11.579002298044765, 33.954810607014274, 23.39302856915463, 13.302966201297254, 29.069843139543842, 33.79143510666121, 44.684881573318236, 23.5431877287235, 23.167995472919394, 14.748094431323901, 29.53759466782526, 29.069843139543842, 17.56652649323508, 13.456827866305467, 14.344915140558102, 14.344915140558102, 23.749089341691327, 33.79143510666121, 15.607747389575122, 74.20239927276558, 44.684881573318236, 48.39691253864308, 61.72046528370306, 26.69757323318437, 62.658855811131865, 10.399917059245924, 10.407458295364256, 10.439994815410651, 10.443562964412667, 10.50923684326037, 10.527412223830343, 11.31911894473928, 11.358839767463621, 11.579002298044765, 11.7338079748658, 11.7338079748658, 11.7338079748658, 11.7338079748658, 12.304400428009433, 14.15415207774047, 45.484725962957725, 40.95187259137943, 13.128473817809144, 39.15227937396994, 21.190760277224253, 12.440082340584883, 23.5431877287235, 40.383794862256735, 39.13303655415133], \"Category\": [\"Default\", \"Default\", \"Default\", \"Default\", \"Default\", \"Default\", \"Default\", \"Default\", \"Default\", \"Default\", \"Default\", \"Default\", \"Default\", \"Default\", \"Default\", \"Default\", \"Default\", \"Default\", \"Default\", \"Default\", \"Default\", \"Default\", \"Default\", \"Default\", \"Default\", \"Default\", \"Default\", \"Default\", \"Default\", \"Default\", \"Topic1\", \"Topic1\", \"Topic1\", \"Topic1\", \"Topic1\", \"Topic1\", \"Topic1\", \"Topic1\", \"Topic1\", \"Topic1\", \"Topic1\", \"Topic1\", \"Topic1\", \"Topic1\", \"Topic1\", \"Topic1\", \"Topic1\", \"Topic1\", \"Topic1\", \"Topic1\", \"Topic1\", \"Topic1\", \"Topic1\", \"Topic1\", \"Topic1\", \"Topic1\", \"Topic1\", \"Topic1\", \"Topic1\", \"Topic1\", \"Topic1\", \"Topic1\", \"Topic1\", \"Topic1\", \"Topic1\", \"Topic1\", \"Topic1\", \"Topic1\", \"Topic1\", \"Topic1\", \"Topic1\", \"Topic1\", \"Topic1\", \"Topic1\", \"Topic2\", \"Topic2\", \"Topic2\", \"Topic2\", \"Topic2\", \"Topic2\", \"Topic2\", \"Topic2\", \"Topic2\", \"Topic2\", \"Topic2\", \"Topic2\", \"Topic2\", \"Topic2\", \"Topic2\", \"Topic2\", \"Topic2\", \"Topic2\", \"Topic2\", \"Topic2\", \"Topic2\", \"Topic2\", \"Topic2\", \"Topic2\", \"Topic2\", \"Topic2\", \"Topic2\", \"Topic2\", \"Topic2\", \"Topic2\", \"Topic2\", \"Topic2\", \"Topic3\", \"Topic3\", \"Topic3\", \"Topic3\", \"Topic3\", \"Topic3\", \"Topic3\", \"Topic3\", \"Topic3\", \"Topic3\", \"Topic3\", \"Topic3\", \"Topic3\", \"Topic3\", \"Topic3\", \"Topic3\", \"Topic3\", \"Topic3\", \"Topic3\", \"Topic3\", \"Topic3\", \"Topic3\", \"Topic3\", \"Topic3\", \"Topic3\", \"Topic3\", \"Topic3\", \"Topic3\", \"Topic3\", \"Topic3\", \"Topic3\", \"Topic3\", \"Topic3\", \"Topic3\", \"Topic4\", \"Topic4\", \"Topic4\", \"Topic4\", \"Topic4\", \"Topic4\", \"Topic4\", \"Topic4\", \"Topic4\", \"Topic4\", \"Topic4\", \"Topic4\", \"Topic4\", \"Topic4\", \"Topic4\", \"Topic4\", \"Topic4\", \"Topic4\", \"Topic4\", \"Topic4\", \"Topic4\", \"Topic4\", \"Topic4\", \"Topic4\", \"Topic4\", \"Topic4\", \"Topic4\", \"Topic4\", \"Topic4\", \"Topic4\", \"Topic4\", \"Topic4\", \"Topic4\", \"Topic5\", \"Topic5\", \"Topic5\", \"Topic5\", \"Topic5\", \"Topic5\", \"Topic5\", \"Topic5\", \"Topic5\", \"Topic5\", \"Topic5\", \"Topic5\", \"Topic5\", \"Topic5\", \"Topic5\", \"Topic5\", \"Topic5\", \"Topic5\", \"Topic5\", \"Topic5\", \"Topic5\", \"Topic5\", \"Topic5\", \"Topic5\", \"Topic5\", \"Topic5\", \"Topic5\", \"Topic5\", \"Topic5\", \"Topic5\", \"Topic5\", \"Topic5\", \"Topic5\", \"Topic5\", \"Topic5\", \"Topic5\", \"Topic6\", \"Topic6\", \"Topic6\", \"Topic6\", \"Topic6\", \"Topic6\", \"Topic6\", \"Topic6\", \"Topic6\", \"Topic6\", \"Topic6\", \"Topic6\", \"Topic6\", \"Topic6\", \"Topic6\", \"Topic6\", \"Topic6\", \"Topic6\", \"Topic6\", \"Topic6\", \"Topic6\", \"Topic6\", \"Topic6\", \"Topic6\", \"Topic6\", \"Topic6\", \"Topic6\", \"Topic6\", \"Topic6\", \"Topic6\", \"Topic6\", \"Topic6\", \"Topic7\", \"Topic7\", \"Topic7\", \"Topic7\", \"Topic7\", \"Topic7\", \"Topic7\", \"Topic7\", \"Topic7\", \"Topic7\", \"Topic7\", \"Topic7\", \"Topic7\", \"Topic7\", \"Topic7\", \"Topic7\", \"Topic7\", \"Topic7\", \"Topic7\", \"Topic7\", \"Topic7\", \"Topic7\", \"Topic7\", \"Topic7\", \"Topic7\", \"Topic7\", \"Topic7\", \"Topic7\", \"Topic7\", \"Topic7\", \"Topic7\", \"Topic7\", \"Topic7\", \"Topic7\", \"Topic8\", \"Topic8\", \"Topic8\", \"Topic8\", \"Topic8\", \"Topic8\", \"Topic8\", \"Topic8\", \"Topic8\", \"Topic8\", \"Topic8\", \"Topic8\", \"Topic8\", \"Topic8\", \"Topic8\", \"Topic8\", \"Topic8\", \"Topic8\", \"Topic8\", \"Topic8\", \"Topic8\", \"Topic8\", \"Topic8\", \"Topic8\", \"Topic8\", \"Topic8\", \"Topic8\", \"Topic8\", \"Topic8\", \"Topic8\", \"Topic8\", \"Topic8\", \"Topic8\", \"Topic8\", \"Topic8\", \"Topic8\", \"Topic8\", \"Topic8\", \"Topic8\", \"Topic8\", \"Topic9\", \"Topic9\", \"Topic9\", \"Topic9\", \"Topic9\", \"Topic9\", \"Topic9\", \"Topic9\", \"Topic9\", \"Topic9\", \"Topic9\", \"Topic9\", \"Topic9\", \"Topic9\", \"Topic9\", \"Topic9\", \"Topic9\", \"Topic9\", \"Topic9\", \"Topic9\", \"Topic9\", \"Topic9\", \"Topic9\", \"Topic9\", \"Topic9\", \"Topic9\", \"Topic9\", \"Topic9\", \"Topic9\", \"Topic9\", \"Topic9\", \"Topic9\", \"Topic9\", \"Topic9\", \"Topic9\", \"Topic9\", \"Topic9\", \"Topic9\", \"Topic9\", \"Topic9\", \"Topic9\", \"Topic9\", \"Topic9\", \"Topic9\", \"Topic9\", \"Topic10\", \"Topic10\", \"Topic10\", \"Topic10\", \"Topic10\", \"Topic10\", \"Topic10\", \"Topic10\", \"Topic10\", \"Topic10\", \"Topic10\", \"Topic10\", \"Topic10\", \"Topic10\", \"Topic10\", \"Topic10\", \"Topic10\", \"Topic10\", \"Topic10\", \"Topic10\", \"Topic10\", \"Topic10\", \"Topic10\", \"Topic10\", \"Topic10\", \"Topic10\", \"Topic10\", \"Topic10\", \"Topic10\", \"Topic10\", \"Topic10\", \"Topic10\", \"Topic10\", \"Topic10\", \"Topic10\", \"Topic10\", \"Topic10\", \"Topic10\", \"Topic10\", \"Topic10\", \"Topic10\", \"Topic11\", \"Topic11\", \"Topic11\", \"Topic11\", \"Topic11\", \"Topic11\", \"Topic11\", \"Topic11\", \"Topic11\", \"Topic11\", \"Topic11\", \"Topic11\", \"Topic11\", \"Topic11\", \"Topic11\", \"Topic11\", \"Topic11\", \"Topic11\", \"Topic11\", \"Topic11\", \"Topic11\", \"Topic11\", \"Topic11\", \"Topic11\", \"Topic11\", \"Topic11\", \"Topic11\", \"Topic11\", \"Topic11\", \"Topic11\", \"Topic11\", \"Topic11\", \"Topic11\", \"Topic11\", \"Topic11\", \"Topic11\", \"Topic11\", \"Topic11\", \"Topic11\", \"Topic11\", \"Topic11\", \"Topic11\", \"Topic11\", \"Topic11\", \"Topic11\", \"Topic12\", \"Topic12\", \"Topic12\", \"Topic12\", \"Topic12\", \"Topic12\", \"Topic12\", \"Topic12\", \"Topic12\", \"Topic12\", \"Topic12\", \"Topic12\", \"Topic12\", \"Topic12\", \"Topic12\", \"Topic12\", \"Topic12\", \"Topic12\", \"Topic12\", \"Topic12\", \"Topic12\", \"Topic12\", \"Topic12\", \"Topic12\", \"Topic12\", \"Topic12\", \"Topic12\", \"Topic12\", \"Topic12\", \"Topic12\", \"Topic12\", \"Topic12\", \"Topic12\", \"Topic12\", \"Topic12\", \"Topic12\", \"Topic12\", \"Topic12\", \"Topic12\", \"Topic12\", \"Topic12\", \"Topic12\", \"Topic12\", \"Topic12\", \"Topic12\", \"Topic12\", \"Topic12\", \"Topic12\", \"Topic12\", \"Topic12\", \"Topic13\", \"Topic13\", \"Topic13\", \"Topic13\", \"Topic13\", \"Topic13\", \"Topic13\", \"Topic13\", \"Topic13\", \"Topic13\", \"Topic13\", \"Topic13\", \"Topic13\", \"Topic13\", \"Topic13\", \"Topic13\", \"Topic13\", \"Topic13\", \"Topic13\", \"Topic13\", \"Topic13\", \"Topic13\", \"Topic13\", \"Topic13\", \"Topic13\", \"Topic13\", \"Topic13\", \"Topic13\", \"Topic13\", \"Topic13\", \"Topic13\", \"Topic13\", \"Topic13\", \"Topic13\", \"Topic13\", \"Topic13\", \"Topic13\", \"Topic13\", \"Topic14\", \"Topic14\", \"Topic14\", \"Topic14\", \"Topic14\", \"Topic14\", \"Topic14\", \"Topic14\", \"Topic14\", \"Topic14\", \"Topic14\", \"Topic14\", \"Topic14\", \"Topic14\", \"Topic14\", \"Topic14\", \"Topic14\", \"Topic14\", \"Topic14\", \"Topic14\", \"Topic14\", \"Topic14\", \"Topic14\", \"Topic14\", \"Topic14\", \"Topic14\", \"Topic14\", \"Topic14\", \"Topic14\", \"Topic14\", \"Topic14\", \"Topic14\", \"Topic14\", \"Topic14\", \"Topic14\", \"Topic14\", \"Topic14\", \"Topic14\", \"Topic14\", \"Topic14\"], \"logprob\": [30.0, 29.0, 28.0, 27.0, 26.0, 25.0, 24.0, 23.0, 22.0, 21.0, 20.0, 19.0, 18.0, 17.0, 16.0, 15.0, 14.0, 13.0, 12.0, 11.0, 10.0, 9.0, 8.0, 7.0, 6.0, 5.0, 4.0, 3.0, 2.0, 1.0, -3.7004, -4.2242, -4.2242, -4.2242, -4.3038, -4.3038, -4.3038, -4.3038, -4.3038, -4.3038, -4.3038, -4.3038, -4.3038, -4.3038, -4.3903, -4.3903, -4.3903, -4.3903, -4.3038, -4.3038, -4.3038, -4.3038, -4.3038, -4.1505, -4.3051, -4.3038, -4.3038, -3.7004, -4.3038, -4.3038, -4.0868, -3.7004, -3.7353, -3.6472, -3.8013, -3.9003, -3.9573, -4.1505, -4.2242, -4.2673, -4.3038, -4.3038, -4.3038, -4.3038, -3.219, -3.3362, -2.9125, -3.0086, -2.8442, -3.0466, -2.6311, -3.5425, -3.01, -4.3097, -2.6899, -3.6873, -3.1108, -3.9082, -3.2123, -4.37, -3.5361, -4.3696, -3.8448, -3.6584, -3.0776, -3.8325, -3.6662, -4.3097, -4.9806, -3.6955, -3.8555, -3.9168, -3.6754, -5.3851, -4.577, -4.6647, -2.4066, -3.01, -3.0965, -2.4795, -3.4125, -3.6973, -2.7331, -3.1911, -3.4125, -2.3734, -3.4155, -2.4421, -3.2372, -2.8478, -4.1394, -3.3318, -3.961, -4.7726, -3.6354, -4.7494, -4.2748, -4.1213, -3.9789, -4.7518, -4.3038, -4.7459, -8.1399, -8.1399, -8.1399, -8.1399, -6.7622, -8.1393, -8.1399, -8.1399, -2.1922, -2.2024, -2.8888, -2.8907, -2.2683, -2.4524, -3.0318, -3.7969, -3.8386, -4.3275, -2.8333, -3.0406, -4.3275, -3.7672, -3.5696, -4.0456, -3.4136, -4.0456, -4.2257, -3.8536, -3.869, -4.7103, -4.7113, -5.3806, -5.3806, -5.2291, -4.9014, -5.2566, -8.0887, -8.0887, -8.0886, -8.0886, -8.0886, -3.1716, -3.5731, -2.9382, -3.9727, -3.7531, -3.2884, -3.5731, -3.9808, -3.9727, -3.9727, -4.2546, -3.7531, -3.7531, -3.9727, -3.9727, -3.7531, -3.384, -3.8739, -3.2263, -3.454, -3.7531, -3.1849, -3.7531, -3.7531, -3.2235, -3.6556, -3.7084, -3.1862, -4.9964, -3.6094, -4.2546, -3.851, -3.6305, -3.6308, -3.876, -3.9727, -3.2211, -2.9482, -3.0399, -3.2707, -2.9981, -2.8873, -3.1114, -3.2472, -2.5703, -2.9626, -2.7862, -2.5651, -2.7725, -4.2367, -4.3684, -4.1157, -2.9182, -3.6326, -3.7231, -3.2482, -4.6539, -3.8407, -4.26, -4.26, -4.3967, -5.1829, -5.0729, -8.0212, -8.0211, -8.0212, -8.0212, -8.0212, -2.7467, -2.7472, -2.7472, -3.3409, -2.1574, -2.0423, -3.3409, -3.7405, -3.3166, -3.5209, -3.4963, -2.7482, -3.9288, -2.6293, -4.3938, -3.1071, -4.0224, -3.851, -5.0755, -4.8466, -4.4163, -4.3082, -4.404, -4.808, -4.5592, -5.0555, -7.7836, -7.7835, -7.7836, -7.7836, -7.5235, -7.7808, -7.7835, -7.7835, -2.7796, -2.0571, -1.9697, -2.9856, -3.001, -3.1632, -2.8842, -2.5157, -2.9228, -2.65, -2.4782, -3.6519, -3.1332, -3.5471, -4.2199, -4.8664, -5.0203, -4.9206, -7.7284, -7.7284, -7.7284, -7.7284, -7.7284, -7.7284, -7.7284, -7.7284, -7.7284, -7.7284, -7.7284, -7.7284, -7.7284, -7.7284, -7.7284, -7.7284, -7.7284, -7.7284, -7.7284, -7.7284, -7.7284, -7.7284, -1.7021, -2.0864, -2.3534, -2.3534, -2.2142, -3.5198, -1.8168, -3.797, -3.7437, -3.6306, -3.8017, -4.1903, -3.6986, -4.826, -7.5629, -7.5629, -7.5629, -7.5629, -7.5629, -7.5629, -7.5629, -7.5629, -7.5629, -7.5629, -7.5629, -7.5629, -7.5629, -7.5629, -7.5629, -7.5629, -7.5518, -7.5629, -7.5629, -7.5629, -7.5629, -7.5629, -7.5629, -7.5629, -7.5629, -7.5629, -7.5629, -7.5629, -7.5629, -7.5629, -7.5629, -2.3888, -2.4752, -2.2771, -2.5699, -2.7913, -2.7089, -2.4918, -2.6327, -2.7433, -2.3109, -2.8198, -3.6039, -3.615, -4.2033, -4.7309, -7.5187, -7.5187, -7.5187, -7.5186, -7.5187, -7.5187, -7.5187, -7.5187, -7.5187, -7.5187, -7.5187, -7.5187, -7.5187, -7.5187, -7.5187, -7.5186, -7.5187, -7.5187, -7.5187, -7.5187, -7.5187, -7.5187, -7.5187, -7.5187, -7.5187, -7.5187, -1.6907, -3.0569, -3.4112, -1.8307, -2.2074, -2.4223, -2.4652, -3.9939, -2.955, -2.5551, -3.1641, -4.087, -4.6925, -4.6917, -7.4543, -7.4543, -7.4543, -7.4543, -7.4543, -7.4543, -7.4543, -7.4543, -7.4543, -7.4543, -7.4543, -7.4543, -7.4543, -7.4543, -7.4543, -7.4543, -7.4542, -7.4542, -7.4543, -7.4543, -7.4543, -7.4543, -7.4543, -7.4543, -7.4543, -7.4543, -7.4543, -7.4543, -7.4543, -7.4543, -7.4543, -2.1386, -1.7108, -2.4189, -2.2456, -1.8683, -1.6806, -3.3093, -6.8407, -6.8407, -6.8407, -6.8407, -6.8407, -6.8407, -6.8407, -6.8407, -6.8407, -6.8407, -6.8407, -6.8407, -6.8407, -6.8407, -6.8407, -6.8407, -6.8407, -6.8407, -6.8407, -6.8407, -6.8407, -6.8407, -6.8407, -6.8406, -6.8407, -6.8407, -6.8407, -6.8407, -6.8407, -6.8407, -6.8407, -6.8407, -6.8407, -6.8407, -6.8407, -6.8407, -6.8407, -6.8407, -6.8407, -6.8407, -6.8407, -6.8407, -6.8407, -2.1705, -2.1059, -2.7141, -2.0693, -2.4753, -3.3898, -3.1118, -3.1537, -3.9786, -3.9786, -4.0491, -4.0491, -4.0491, -3.9022, -4.0266, -4.0098, -4.0491, -4.0491, -4.0201, -3.866, -3.8608, -6.7571, -6.7571, -6.7571, -6.7571, -6.7571, -6.7571, -6.7571, -6.7571, -6.7571, -5.961, -6.7571, -6.7571, -6.7571, -6.7571, -6.7571, -6.7571, -6.7571, -1.9466, -1.7937, -2.3664, -2.9932, -3.3871, -3.3871, -3.3871, -3.2422, -2.9347, -4.0321, -2.855, -3.3715, -3.3727, -3.1827, -4.0463, -3.9187, -6.7544, -6.7544, -6.7544, -6.7544, -6.7544, -6.7544, -6.7544, -6.7544, -6.7544, -6.7544, -6.7544, -6.7544, -6.7544, -6.7544, -6.7544, -6.7544, -6.7544, -6.7544, -6.7544, -6.7544, -6.7544, -6.7544, -6.7544, -6.7544], \"loglift\": [30.0, 29.0, 28.0, 27.0, 26.0, 25.0, 24.0, 23.0, 22.0, 21.0, 20.0, 19.0, 18.0, 17.0, 16.0, 15.0, 14.0, 13.0, 12.0, 11.0, 10.0, 9.0, 8.0, 7.0, 6.0, 5.0, 4.0, 3.0, 2.0, 1.0, 1.2066, 1.1798, 1.1798, 1.1798, 1.1744, 1.1744, 1.1744, 1.1744, 1.1744, 1.1744, 1.1744, 1.1744, 1.1744, 1.1744, 1.1682, 1.1682, 1.1682, 1.1682, 1.1006, 1.1006, 1.0983, 1.0983, 1.0983, 1.0597, 0.9681, 0.907, 0.8995, 0.876, 0.8542, 0.85, 0.7817, 0.6536, 0.5872, 0.2511, 0.0639, 0.1834, 0.0177, 0.3454, -0.0207, -0.6282, 0.6702, 0.796, 0.5268, 0.6516, 1.8964, 1.8904, 1.4781, 1.4074, 1.4023, 1.3692, 1.3439, 1.2284, 1.2174, 1.1769, 1.1753, 1.0882, 0.9719, 0.9225, 0.8714, 0.7586, 0.7527, 0.708, 0.6511, 0.6501, 0.6366, 0.5382, 0.5373, 0.5199, 0.5194, 0.446, 0.3658, 0.2466, 0.2078, -0.0552, -0.0763, -1.0256, 2.5343, 2.501, 2.4944, 2.2569, 2.0135, 1.9819, 1.9783, 1.8306, 1.8205, 1.5098, 1.4747, 1.272, 1.2635, 1.2522, 1.0187, 0.957, 0.7868, 0.7274, 0.592, 0.5804, 0.5548, 0.4552, 0.2424, -0.1165, -0.2212, -0.25, -2.4615, -2.4646, -2.465, -2.4712, -3.1231, -4.2741, -3.8934, -2.9366, 2.5609, 2.3947, 2.251, 2.1977, 1.8317, 1.7689, 1.7437, 1.6492, 1.4883, 1.351, 1.3082, 1.2481, 1.1726, 1.123, 1.0817, 0.9284, 0.8201, 0.781, 0.6364, 0.4999, 0.485, 0.4184, 0.3663, 0.0408, -0.4252, -0.4582, -0.5929, -1.3734, -2.4095, -2.4134, -2.4137, -2.8784, -2.6557, 2.2358, 1.9075, 1.862, 1.6959, 1.6729, 1.667, 1.5267, 1.5192, 1.4602, 1.4487, 1.4238, 1.4007, 1.4007, 1.3807, 1.2381, 1.1154, 1.1118, 1.0042, 0.9772, 0.962, 0.9026, 0.8989, 0.8981, 0.8822, 0.7515, 0.7349, 0.7074, 0.679, 0.6789, 0.6371, 0.576, 0.503, 0.0837, 0.0083, 0.3514, -0.0744, 2.4542, 2.1294, 2.0887, 1.7912, 1.7728, 1.7684, 1.6888, 1.6309, 1.5931, 1.5323, 1.5223, 1.5175, 1.4611, 1.1342, 1.0646, 1.0393, 0.9801, 0.6562, 0.6476, 0.635, 0.6193, 0.5128, 0.4764, 0.4514, 0.3787, 0.144, -1.2077, -2.342, -2.3427, -2.3462, -2.8109, -2.5429, 2.6242, 2.6103, 2.6103, 2.3278, 2.1651, 2.0992, 2.0805, 1.9386, 1.7717, 1.7615, 1.6435, 1.6053, 1.5041, 1.0098, 0.8065, 0.7761, 0.6891, 0.5197, 0.5189, 0.4832, 0.3316, -0.0869, -0.304, -0.6446, -0.6608, -1.1904, -2.1051, -2.1083, -2.1086, -2.1166, -2.8883, -3.4723, -2.3795, -2.3053, 2.8148, 2.805, 2.5252, 2.3734, 2.3525, 2.2829, 2.0832, 1.5669, 1.4479, 1.2332, 1.1608, 1.0595, 0.9505, 0.6565, 0.4313, 0.0021, -0.5244, -0.8206, -2.0492, -2.05, -2.0531, -2.0534, -2.0597, -2.0614, -2.1374, -2.1566, -2.1699, -2.1699, -2.1699, -2.1699, -2.6285, -2.5266, -3.1519, -3.8632, -2.9805, -3.4198, -3.5869, -2.2284, -3.1313, -2.2758, 3.1324, 3.1153, 3.0992, 3.0992, 2.9861, 2.1586, 1.8223, 1.6359, 1.5832, 1.5429, 1.1724, 0.5211, 0.1666, -0.5372, -1.8837, -1.8876, -1.8879, -1.8942, -1.8959, -1.9684, -1.9719, -1.9911, -2.0044, -2.0044, -2.0044, -2.0044, -2.0519, -2.0629, -2.0712, -2.0763, -3.8377, -2.7008, -3.3995, -2.815, -3.6797, -3.2543, -3.3292, -3.3416, -3.1723, -2.2897, -2.9117, -2.6944, -2.5411, -3.2089, -3.2094, 3.1029, 3.0965, 2.8964, 2.4518, 2.4417, 2.1814, 2.0089, 1.7208, 1.4602, 1.4033, 1.4015, 1.0473, 0.6738, 0.6652, 0.0222, -1.8395, -1.8403, -1.8434, -1.8437, -1.85, -1.8517, -1.9242, -1.9277, -1.9602, -1.9602, -1.9602, -1.9602, -2.0077, -2.0187, -2.0321, -3.0227, -2.9216, -2.8834, -3.8796, -3.4187, -2.6921, -2.8629, -2.1889, -2.8073, -3.1647, -3.285, 3.1627, 2.2701, 2.2637, 2.0676, 2.0263, 1.9484, 1.6982, 1.673, 1.6421, 1.5449, 1.1444, 0.8871, 0.7537, 0.1349, -1.7751, -1.7759, -1.779, -1.7856, -1.8598, -1.8633, -1.8825, -1.8958, -1.8958, -1.8958, -1.8958, -1.9433, -1.9543, -1.9626, -1.9677, -1.9736, -2.244, -2.0502, -2.5858, -2.803, -3.3128, -3.1655, -3.1008, -2.0502, -2.3923, -2.9584, -3.5891, -2.7179, -3.3716, -2.5761, -2.2993, 3.5283, 3.1163, 2.9401, 2.8039, 2.4851, 1.9584, 1.1065, -1.1615, -1.1623, -1.1654, -1.1657, -1.172, -1.2462, -1.2497, -1.2689, -1.2822, -1.2822, -1.2822, -1.2822, -1.3297, -1.3407, -1.349, -1.3541, -1.36, -1.3624, -1.3624, -1.3624, -1.3624, -1.3624, -1.3624, -1.4697, -2.2054, -1.4363, -1.4363, -2.6773, -1.9786, -2.3458, -2.0698, -1.9504, -2.0652, -1.8733, -1.6857, -2.5321, -2.1894, -1.8666, -1.712, -1.7631, -2.7407, -2.0101, -2.4867, 2.6561, 2.6419, 2.4892, 2.2846, 2.1012, 1.9637, 1.7178, 1.5826, 1.3789, 1.3789, 1.3531, 1.3531, 1.3531, 1.2559, 0.8637, 0.7611, 0.7264, 0.6067, 0.1214, 0.0323, 0.0224, -1.078, -1.0787, -1.0818, -1.0822, -1.0884, -1.0901, -1.1627, -1.1662, -1.1854, -1.4651, -1.8886, -1.3242, -2.1059, -2.2564, -2.5358, -1.895, -1.8789, 3.3832, 2.8415, 2.2848, 2.1617, 2.0343, 1.9704, 1.9704, 1.6112, 1.566, 1.2411, 0.8591, 0.8497, 0.7688, 0.7156, 0.69, -0.0355, -1.0753, -1.076, -1.0791, -1.0794, -1.0857, -1.0874, -1.16, -1.1635, -1.1827, -1.1959, -1.1959, -1.1959, -1.1959, -1.2434, -1.3835, -2.5508, -2.4459, -1.3082, -2.4009, -1.787, -1.2544, -1.8923, -2.4319, -2.4004]}, \"token.table\": {\"Topic\": [1, 2, 4, 6, 11, 1, 5, 2, 4, 6, 13, 1, 1, 5, 1, 2, 5, 6, 7, 9, 1, 1, 6, 14, 4, 10, 1, 13, 2, 1, 1, 2, 1, 2, 5, 8, 10, 5, 6, 8, 1, 2, 5, 8, 10, 9, 1, 5, 6, 1, 3, 4, 10, 13, 1, 2, 3, 5, 4, 5, 9, 9, 10, 2, 3, 4, 7, 8, 11, 1, 2, 6, 7, 8, 11, 7, 8, 1, 2, 5, 5, 7, 3, 5, 1, 4, 5, 2, 4, 11, 2, 3, 7, 14, 1, 7, 4, 6, 7, 10, 12, 2, 3, 4, 6, 7, 8, 13, 14, 1, 2, 3, 4, 7, 10, 14, 2, 4, 6, 1, 1, 2, 3, 5, 8, 1, 13, 1, 8, 1, 2, 5, 8, 12, 5, 6, 1, 2, 5, 7, 8, 9, 12, 1, 4, 6, 9, 11, 11, 12, 1, 2, 3, 10, 14, 1, 11, 1, 5, 1, 2, 3, 13, 9, 1, 12, 4, 8, 1, 3, 7, 13, 1, 2, 3, 4, 5, 2, 4, 6, 1, 2, 5, 1, 5, 1, 4, 5, 8, 10, 14, 1, 1, 2, 5, 4, 7, 7, 13, 14, 2, 4, 7, 13, 14, 4, 7, 7, 13, 14, 1, 5, 1, 13, 3, 6, 7, 8, 9, 1, 5, 4, 8, 11, 2, 4, 6, 13, 3, 7, 5, 6, 7, 9, 1, 5, 6, 13, 3, 6, 13, 14, 5, 8, 13, 10, 3, 1, 2, 3, 6, 8, 1, 4, 5, 13, 1, 1, 5, 8, 10, 1, 3, 1, 5, 11, 14, 1, 3, 13, 1, 7, 1, 4, 11, 13, 1, 6, 4, 5, 7, 14, 1, 2, 5, 1, 3, 13, 1, 5, 6, 3, 1, 5, 1, 2, 4, 6, 11, 1, 1, 1, 3, 10, 1, 13, 1, 6, 7, 1, 3, 5, 14, 1, 1, 1, 5, 6, 7, 11, 13, 14, 1, 2, 5, 6, 7, 11, 1, 6, 14, 9, 2, 3, 4, 6, 9, 10, 7, 9, 9, 1, 2, 5, 12, 3, 10, 1, 12, 1, 4, 9, 11, 1, 5, 1, 2, 3, 5, 10, 14], \"Freq\": [0.22657107169176932, 0.022657107169176932, 0.15859975018423852, 0.29454239319930015, 0.2718852860301232, 0.6823508451567112, 0.28431285214862967, 0.5040400409408121, 0.03877231084160094, 0.3877231084160094, 0.03877231084160094, 0.9438817725721071, 0.8766791831728004, 0.07305659859773336, 0.313471275372397, 0.4702069130585955, 0.14106207391757866, 0.01567356376861985, 0.01567356376861985, 0.04702069130585955, 0.9374620774059333, 0.7688489376766282, 0.12814148961277136, 0.06407074480638568, 0.9141189714004269, 0.038088290475017786, 0.8746719494889278, 0.07288932912407732, 0.930216717988901, 0.9773458612998938, 0.4758841419786064, 0.4758841419786064, 0.35106882622441177, 0.35106882622441177, 0.17553441311220588, 0.1365267657539379, 0.9565885962864114, 0.02942113485491071, 0.3236324834040178, 0.6178438319531249, 0.2858102302427206, 0.24183942558999438, 0.175883218610905, 0.0879416093054525, 0.175883218610905, 0.9199508262355264, 0.4316299185956247, 0.1726519674382499, 0.3453039348764998, 0.9493828974292674, 0.349508978304037, 0.21844311144002312, 0.349508978304037, 0.043688622288004623, 0.27019778587947635, 0.4728461252890836, 0.13509889293973817, 0.09006592862649211, 0.288254818310084, 0.288254818310084, 0.38433975774677864, 0.17396976908024286, 0.7538689993477191, 0.03964496113212449, 0.2576922473588092, 0.45591705301943164, 0.03964496113212449, 0.019822480566062246, 0.17840232509456022, 0.051970327522651065, 0.2338664738519298, 0.12992581880662765, 0.0779554912839766, 0.20788131009060426, 0.2598516376132553, 0.08834609874514696, 0.7951148887063225, 0.29739029230042835, 0.542299944783134, 0.1399483728472604, 0.38061755193624947, 0.5709263279043741, 0.5972394661734296, 0.3732746663583935, 0.5595535169165149, 0.04662945974304291, 0.3730356779443433, 0.917367839578219, 0.7820997560044034, 0.19552493900110085, 0.13561074003921095, 0.13561074003921095, 0.06780537001960547, 0.6102483301764492, 0.6466105315847657, 0.32330526579238283, 0.12770648554689787, 0.1021651884375183, 0.25541297109379574, 0.22987167398441619, 0.25541297109379574, 0.17555379614904745, 0.3511075922980949, 0.015959436013549766, 0.12767548810839813, 0.11171605209484838, 0.17555379614904745, 0.015959436013549766, 0.015959436013549766, 0.9374620774059333, 0.20141040287267953, 0.08951573461007979, 0.42519973939787903, 0.044757867305039896, 0.17903146922015958, 0.044757867305039896, 0.31614132965615843, 0.10538044321871948, 0.5795924377029571, 0.9438817747587359, 0.4123127106209783, 0.26505817111348606, 0.058901815802996894, 0.20615635531048915, 0.029450907901498447, 0.7169594908085333, 0.23898649693617777, 0.5662845430278192, 0.42471340727086443, 0.21751009193031715, 0.5709639913170825, 0.19032133043902752, 0.5584952068443402, 0.41887140513325516, 0.09578548818088331, 0.7662839054470665, 0.15002435769420874, 0.05000811923140291, 0.07501217884710437, 0.15002435769420874, 0.16252638750205947, 0.2625426259648653, 0.15002435769420874, 0.9438817725721071, 0.33805106774203336, 0.06761021354840667, 0.20283064064522002, 0.33805106774203336, 0.18998021142106572, 0.7599208456842629, 0.17755978640922643, 0.11837319093948429, 0.26633967961383964, 0.3255262750835818, 0.08877989320461321, 0.574516572595532, 0.3830110483970214, 0.29309794792391153, 0.659470382828801, 0.4934151728838815, 0.24670758644194074, 0.12335379322097037, 0.12335379322097037, 0.9199508271416843, 0.6147244542218852, 0.3585892649627664, 0.1274253951744987, 0.8495026344966579, 0.45468091186573856, 0.1515603039552462, 0.0757801519776231, 0.3031206079104924, 0.9438817725721071, 0.24115596005443737, 0.1607706400362916, 0.24115596005443737, 0.3215412800725832, 0.2772416211016536, 0.11089664844066144, 0.5544832422033072, 0.4939093056091446, 0.37043197920685844, 0.12347732640228615, 0.8422635619445366, 0.12032336599207664, 0.20639946253573596, 0.20639946253573596, 0.1719995521131133, 0.06879982084524532, 0.10319973126786798, 0.20639946253573596, 0.9438817725721071, 0.21205300008186265, 0.6361590002455879, 0.13253312505116416, 0.6390999075856801, 0.31954995379284007, 0.6971111297637792, 0.06971111297637791, 0.13942222595275583, 0.22728722604395316, 0.2686121762337628, 0.4339119769930015, 0.020662475094904834, 0.04132495018980967, 0.6728707509347026, 0.2803628128894594, 0.6971111297637792, 0.06971111297637791, 0.13942222595275583, 0.6823508451117432, 0.284312852129893, 0.8746719494889278, 0.07288932912407732, 0.5480110707272202, 0.10960221414544404, 0.10960221414544404, 0.1461362855272587, 0.07306814276362936, 0.8766791831728004, 0.07305659859773336, 0.3808515802665013, 0.45702189631980156, 0.07617031605330025, 0.4284369816184196, 0.4284369816184196, 0.11684644953229625, 0.03894881651076541, 0.5769276779631402, 0.38461845197542677, 0.3006848201726571, 0.2255136151294928, 0.2255136151294928, 0.2255136151294928, 0.3801149458928246, 0.1727795208603748, 0.3801149458928246, 0.03455590417207496, 0.7116751711493952, 0.11236976386569399, 0.11236976386569399, 0.037456587955231324, 0.27771524748571047, 0.5554304949714209, 0.13885762374285524, 0.949995493295434, 0.8939891109980355, 0.9438817725721071, 0.3701521443340857, 0.05844507542117143, 0.31170706891291433, 0.23378030168468572, 0.5621848427110159, 0.12776928243432178, 0.10221542594745743, 0.20443085189491486, 0.9493828997987865, 0.6412166751157037, 0.21373889170523458, 0.04274777834104691, 0.08549555668209383, 0.949382907815281, 0.8803716052623706, 0.6465230994337341, 0.32326154971686705, 0.8842444313489812, 0.08421375536656965, 0.7022476979969199, 0.12768139963580363, 0.15960174954475453, 0.5200105654168449, 0.47048574966285966, 0.49192565920177267, 0.1639752197339242, 0.04099380493348105, 0.28695663453436737, 0.5705717874341343, 0.4149612999520977, 0.0743117181801737, 0.2972468727206948, 0.4458703090810422, 0.1486234363603474, 0.2754031041195349, 0.5737564669156976, 0.13770155205976745, 0.6852477837353177, 0.22841592791177256, 0.05710398197794314, 0.15969351230229048, 0.4391571588312988, 0.3593104026801536, 0.9650732212002393, 0.473076814820516, 0.473076814820516, 0.2441890777445193, 0.26860798551897125, 0.04883781554890386, 0.31744580106787507, 0.12209453887225966, 0.9374620774059333, 0.9374620774059333, 0.9438817772854651, 0.49240583271827815, 0.49240583271827815, 0.8746719494889278, 0.07288932912407732, 0.9438817725721071, 0.2119519405700007, 0.706506468566669, 0.4062619226429893, 0.06771032044049823, 0.16927580110124554, 0.3385516022024911, 0.9438817725721071, 0.9438817725721071, 0.37264787124138904, 0.06480832543328505, 0.1782228949415339, 0.03240416271664252, 0.2916374644497827, 0.01620208135832126, 0.04860624407496379, 0.23231846114060795, 0.1900787409332247, 0.021119860103691632, 0.3379177616590661, 0.021119860103691632, 0.1900787409332247, 0.5692645045024142, 0.17077935135072425, 0.17077935135072425, 0.9503760188130564, 0.31123861367159483, 0.19153145456713527, 0.2394143182089191, 0.11970715910445955, 0.02394143182089191, 0.07182429546267573, 0.11912798365857255, 0.8338958856100079, 0.9544774266250508, 0.2174775861466335, 0.570878663634913, 0.13592349134164594, 0.05436939653665838, 0.49828010125646466, 0.49828010125646466, 0.4921374808094475, 0.4921374808094475, 0.5700833289571177, 0.19002777631903925, 0.14252083223927942, 0.09501388815951962, 0.7223824143482225, 0.24079413811607417, 0.1617198381401172, 0.269533063566862, 0.269533063566862, 0.0808599190700586, 0.17519649131846032, 0.0539066127133724], \"Term\": [\"accessibility\", \"accessibility\", \"accessibility\", \"accessibility\", \"accessibility\", \"accommodation\", \"accommodation\", \"address\", \"address\", \"address\", \"address\", \"administration\", \"agriculture\", \"agriculture\", \"area\", \"area\", \"area\", \"area\", \"area\", \"area\", \"arrivaltime\", \"art\", \"art\", \"art\", \"asset\", \"asset\", \"assistance\", \"assistance\", \"base\", \"betweenstreet\", \"beverage\", \"beverage\", \"block\", \"block\", \"block\", \"block\", \"budget\", \"building\", \"building\", \"building\", \"business\", \"business\", \"business\", \"business\", \"business\", \"canopy\", \"car\", \"car\", \"car\", \"care\", \"category\", \"category\", \"category\", \"category\", \"census\", \"census\", \"census\", \"census\", \"changemaker\", \"changemaker\", \"changemaker\", \"citizenreporter\", \"citizenreporter\", \"city\", \"city\", \"city\", \"city\", \"city\", \"city\", \"cityreactivation\", \"cityreactivation\", \"cityreactivation\", \"cityreactivation\", \"cityreactivation\", \"cityreactivation\", \"climate\", \"climate\", \"clue\", \"clue\", \"clue\", \"common\", \"common\", \"community\", \"community\", \"construction\", \"construction\", \"construction\", \"coordinate\", \"council\", \"council\", \"count\", \"count\", \"count\", \"count\", \"data\", \"data\", \"date\", \"date\", \"date\", \"date\", \"date\", \"demographic\", \"demographic\", \"demographic\", \"demographic\", \"demographic\", \"demographic\", \"demographic\", \"demographic\", \"departuretime\", \"description\", \"description\", \"description\", \"description\", \"description\", \"description\", \"development\", \"development\", \"development\", \"deviceid\", \"economy\", \"economy\", \"economy\", \"economy\", \"economy\", \"education\", \"education\", \"electricity\", \"electricity\", \"employment\", \"employment\", \"employment\", \"energy\", \"energy\", \"entrepreneur\", \"entrepreneur\", \"environment\", \"environment\", \"environment\", \"environment\", \"environment\", \"environment\", \"environment\", \"estate\", \"eventsplanner\", \"eventsplanner\", \"eventsplanner\", \"eventsplanner\", \"facility\", \"facility\", \"finance\", \"finance\", \"finance\", \"finance\", \"finance\", \"financial\", \"financial\", \"floor\", \"floor\", \"food\", \"food\", \"food\", \"food\", \"forest\", \"gas\", \"gas\", \"green\", \"green\", \"health\", \"health\", \"health\", \"health\", \"hire\", \"house\", \"house\", \"house\", \"house\", \"housing\", \"housing\", \"housing\", \"industry\", \"industry\", \"industry\", \"information\", \"information\", \"infrastructure\", \"infrastructure\", \"infrastructure\", \"infrastructure\", \"infrastructure\", \"infrastructure\", \"insurance\", \"land\", \"land\", \"land\", \"lat\", \"lat\", \"latitude\", \"latitude\", \"latitude\", \"location\", \"location\", \"location\", \"location\", \"location\", \"lon\", \"lon\", \"longitude\", \"longitude\", \"longitude\", \"manufacturing\", \"manufacturing\", \"medium\", \"medium\", \"melbourne\", \"melbourne\", \"melbourne\", \"melbourne\", \"melbourne\", \"mining\", \"mining\", \"model\", \"model\", \"model\", \"number\", \"number\", \"number\", \"number\", \"order\", \"order\", \"park\", \"park\", \"park\", \"park\", \"parking\", \"parking\", \"parking\", \"parking\", \"people\", \"people\", \"people\", \"people\", \"performance\", \"performance\", \"performance\", \"plan\", \"population\", \"postal\", \"property\", \"property\", \"property\", \"property\", \"public\", \"public\", \"public\", \"public\", \"real\", \"recreation\", \"recreation\", \"recreation\", \"recreation\", \"rental\", \"resident\", \"retail\", \"retail\", \"safemobility\", \"safemobility\", \"safety\", \"safety\", \"safety\", \"sensor\", \"sensor\", \"service\", \"service\", \"service\", \"service\", \"sign\", \"sign\", \"site\", \"site\", \"site\", \"site\", \"small\", \"small\", \"small\", \"social\", \"social\", \"social\", \"space\", \"space\", \"space\", \"stats\", \"storage\", \"storage\", \"street\", \"street\", \"street\", \"street\", \"street\", \"streetid\", \"streetmarker\", \"streetname\", \"sub\", \"sub\", \"support\", \"support\", \"telecommunication\", \"time\", \"time\", \"total\", \"total\", \"total\", \"total\", \"trade\", \"training\", \"transport\", \"transport\", \"transport\", \"transport\", \"transport\", \"transport\", \"transport\", \"transportation\", \"transportation\", \"transportation\", \"transportation\", \"transportation\", \"transportation\", \"travel\", \"travel\", \"travel\", \"tree\", \"type\", \"type\", \"type\", \"type\", \"type\", \"type\", \"urban\", \"urban\", \"urbanforest\", \"use\", \"use\", \"use\", \"use\", \"value\", \"value\", \"waste\", \"waste\", \"water\", \"water\", \"water\", \"water\", \"wholesale\", \"wholesale\", \"year\", \"year\", \"year\", \"year\", \"year\", \"year\"]}, \"R\": 30, \"lambda.step\": 0.01, \"plot.opts\": {\"xlab\": \"PC1\", \"ylab\": \"PC2\"}, \"topic.order\": [7, 2, 9, 10, 12, 14, 11, 5, 8, 1, 3, 6, 13, 4]};\n",
              "\n",
              "function LDAvis_load_lib(url, callback){\n",
              "  var s = document.createElement('script');\n",
              "  s.src = url;\n",
              "  s.async = true;\n",
              "  s.onreadystatechange = s.onload = callback;\n",
              "  s.onerror = function(){console.warn(\"failed to load library \" + url);};\n",
              "  document.getElementsByTagName(\"head\")[0].appendChild(s);\n",
              "}\n",
              "\n",
              "if(typeof(LDAvis) !== \"undefined\"){\n",
              "   // already loaded: just create the visualization\n",
              "   !function(LDAvis){\n",
              "       new LDAvis(\"#\" + \"ldavis_el22141398518509684002779742422\", ldavis_el22141398518509684002779742422_data);\n",
              "   }(LDAvis);\n",
              "}else if(typeof define === \"function\" && define.amd){\n",
              "   // require.js is available: use it to load d3/LDAvis\n",
              "   require.config({paths: {d3: \"https://d3js.org/d3.v5\"}});\n",
              "   require([\"d3\"], function(d3){\n",
              "      window.d3 = d3;\n",
              "      LDAvis_load_lib(\"https://cdn.jsdelivr.net/gh/bmabey/pyLDAvis@3.3.1/pyLDAvis/js/ldavis.v3.0.0.js\", function(){\n",
              "        new LDAvis(\"#\" + \"ldavis_el22141398518509684002779742422\", ldavis_el22141398518509684002779742422_data);\n",
              "      });\n",
              "    });\n",
              "}else{\n",
              "    // require.js not available: dynamically load d3 & LDAvis\n",
              "    LDAvis_load_lib(\"https://d3js.org/d3.v5.js\", function(){\n",
              "         LDAvis_load_lib(\"https://cdn.jsdelivr.net/gh/bmabey/pyLDAvis@3.3.1/pyLDAvis/js/ldavis.v3.0.0.js\", function(){\n",
              "                 new LDAvis(\"#\" + \"ldavis_el22141398518509684002779742422\", ldavis_el22141398518509684002779742422_data);\n",
              "            })\n",
              "         });\n",
              "}\n",
              "</script>"
            ],
            "text/plain": [
              "PreparedData(topic_coordinates=                x           y  topics  cluster       Freq\n",
              "topic                                                    \n",
              "6        1.425140 -203.131439       1        1  28.741697\n",
              "1       93.696953  -55.018154       2        1  14.280351\n",
              "8      141.694016   25.320429       3        1   7.607361\n",
              "9     -126.233505    5.739788       4        1   7.152095\n",
              "11     -59.868134  101.519302       5        1   6.925458\n",
              "13     151.966629  133.119141       6        1   6.744312\n",
              "10      12.542690 -101.441658       7        1   5.308047\n",
              "4       49.372585   57.773476       8        1   5.021417\n",
              "7      203.505997  -84.541840       9        1   4.200503\n",
              "0      119.923477 -166.068970      10        1   4.173802\n",
              "2      -19.315592   -8.882428      11        1   3.655766\n",
              "5      -95.841057 -109.373474      12        1   2.133940\n",
              "12      37.554749  165.057098      13        1   2.030417\n",
              "3      243.648911   32.733547      14        1   2.024834, topic_info=            Term       Freq      Total Category  logprob  loglift\n",
              "47   environment  79.000000  79.000000  Default  30.0000  30.0000\n",
              "115    transport  61.000000  61.000000  Default  29.0000  29.0000\n",
              "127         year  74.000000  74.000000  Default  28.0000  28.0000\n",
              "87        public  39.000000  39.000000  Default  27.0000  27.0000\n",
              "95        sensor  40.000000  40.000000  Default  26.0000  26.0000\n",
              "..           ...        ...        ...      ...      ...      ...\n",
              "43   electricity   0.071853  21.190760  Topic14  -6.7544  -1.7870\n",
              "60         house   0.071853  12.440082  Topic14  -6.7544  -1.2544\n",
              "57         green   0.071852  23.543188  Topic14  -6.7544  -1.8923\n",
              "95        sensor   0.071852  40.383795  Topic14  -6.7544  -2.4319\n",
              "87        public   0.071852  39.133037  Topic14  -6.7544  -2.4004\n",
              "\n",
              "[574 rows x 6 columns], token_table=      Topic      Freq           Term\n",
              "term                                \n",
              "0         1  0.226571  accessibility\n",
              "0         2  0.022657  accessibility\n",
              "0         4  0.158600  accessibility\n",
              "0         6  0.294542  accessibility\n",
              "0        11  0.271885  accessibility\n",
              "...     ...       ...            ...\n",
              "127       2  0.269533           year\n",
              "127       3  0.269533           year\n",
              "127       5  0.080860           year\n",
              "127      10  0.175196           year\n",
              "127      14  0.053907           year\n",
              "\n",
              "[361 rows x 3 columns], R=30, lambda_step=0.01, plot_opts={'xlab': 'PC1', 'ylab': 'PC2'}, topic_order=[7, 2, 9, 10, 12, 14, 11, 5, 8, 1, 3, 6, 13, 4])"
            ]
          },
          "metadata": {},
          "execution_count": 242
        }
      ],
      "metadata": {
        "colab": {
          "base_uri": "https://localhost:8080/",
          "height": 1000
        },
        "id": "diL3GPBZD30Q",
        "outputId": "f58d284b-610e-4304-ede7-2fe8215147c0"
      }
    },
    {
      "cell_type": "code",
      "execution_count": null,
      "source": [],
      "outputs": [],
      "metadata": {
        "id": "SQS3iErJJAHb"
      }
    }
  ]
}