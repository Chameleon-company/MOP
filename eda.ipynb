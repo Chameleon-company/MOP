{
 "cells": [
  {
   "cell_type": "code",
   "execution_count": 23,
   "source": [
    "import pandas as pd\r\n",
    "from sodapy import Socrata\r\n",
    "\r\n",
    "\r\n",
    "client = Socrata(\"data.melbourne.vic.gov.au\", None)\r\n",
    "\r\n",
    "\r\n",
    "CPBL = client.get(\"vh2v-4nfs\", limit=2000)  #CPBL:CarParkBayLocation\r\n",
    "CPBL_df = pd.DataFrame.from_records(CPBL)\r\n",
    "\r\n",
    "CPBR = client.get(\"ntht-5rk7\", limit=20000)#CPBR:Car Park Bay Restrictions\r\n",
    "CPBR_df = pd.DataFrame.from_records(CPBR)\r\n",
    "\r\n",
    "\r\n",
    "#*****\r\n",
    "merge_df=pd.merge(CPBL_df,CPBR_df,left_on='bay_id',right_on='bayid', how='left')\r\n",
    "merge_df.isnull().any()\r\n",
    "#merge_df.info()\r\n",
    "df=merge_df.iloc[:,[0,1,2,4,5,9,10,11,12,13,16,17,18]]\r\n",
    "df[['lat','lon','disabilityext1','duration1']].apply(pd.to_numeric)\r\n",
    "#df.head(5)\r\n",
    "df.describe()\r\n",
    "#*******"
   ],
   "outputs": [
    {
     "output_type": "stream",
     "name": "stderr",
     "text": [
      "WARNING:root:Requests made without an app_token will be subject to strict throttling limits.\n"
     ]
    },
    {
     "output_type": "execute_result",
     "data": {
      "text/plain": [
       "       bay_id st_marker_id      status                 lat               lon  \\\n",
       "count     909          909         909                 909               909   \n",
       "unique    909          909           2                 909               909   \n",
       "top      2665         C670  Unoccupied  -37.80844946288812  144.952092831316   \n",
       "freq        1            1         716                   1                 1   \n",
       "\n",
       "                 description1 disabilityext1 duration1 effectiveonph1  \\\n",
       "count                     908            908       908            908   \n",
       "unique                     76              9        10              2   \n",
       "top     4P MTR M-F 7:30-18:30            480       240              0   \n",
       "freq                      166            313       316            880   \n",
       "\n",
       "        endtime1 starttime1 today1 typedesc1  \n",
       "count        908        908    908       908  \n",
       "unique        13          8      3        24  \n",
       "top     18:30:00   07:30:00      5  4P Meter  \n",
       "freq         622        860    465       244  "
      ],
      "text/html": [
       "<div>\n",
       "<style scoped>\n",
       "    .dataframe tbody tr th:only-of-type {\n",
       "        vertical-align: middle;\n",
       "    }\n",
       "\n",
       "    .dataframe tbody tr th {\n",
       "        vertical-align: top;\n",
       "    }\n",
       "\n",
       "    .dataframe thead th {\n",
       "        text-align: right;\n",
       "    }\n",
       "</style>\n",
       "<table border=\"1\" class=\"dataframe\">\n",
       "  <thead>\n",
       "    <tr style=\"text-align: right;\">\n",
       "      <th></th>\n",
       "      <th>bay_id</th>\n",
       "      <th>st_marker_id</th>\n",
       "      <th>status</th>\n",
       "      <th>lat</th>\n",
       "      <th>lon</th>\n",
       "      <th>description1</th>\n",
       "      <th>disabilityext1</th>\n",
       "      <th>duration1</th>\n",
       "      <th>effectiveonph1</th>\n",
       "      <th>endtime1</th>\n",
       "      <th>starttime1</th>\n",
       "      <th>today1</th>\n",
       "      <th>typedesc1</th>\n",
       "    </tr>\n",
       "  </thead>\n",
       "  <tbody>\n",
       "    <tr>\n",
       "      <th>count</th>\n",
       "      <td>909</td>\n",
       "      <td>909</td>\n",
       "      <td>909</td>\n",
       "      <td>909</td>\n",
       "      <td>909</td>\n",
       "      <td>908</td>\n",
       "      <td>908</td>\n",
       "      <td>908</td>\n",
       "      <td>908</td>\n",
       "      <td>908</td>\n",
       "      <td>908</td>\n",
       "      <td>908</td>\n",
       "      <td>908</td>\n",
       "    </tr>\n",
       "    <tr>\n",
       "      <th>unique</th>\n",
       "      <td>909</td>\n",
       "      <td>909</td>\n",
       "      <td>2</td>\n",
       "      <td>909</td>\n",
       "      <td>909</td>\n",
       "      <td>76</td>\n",
       "      <td>9</td>\n",
       "      <td>10</td>\n",
       "      <td>2</td>\n",
       "      <td>13</td>\n",
       "      <td>8</td>\n",
       "      <td>3</td>\n",
       "      <td>24</td>\n",
       "    </tr>\n",
       "    <tr>\n",
       "      <th>top</th>\n",
       "      <td>2665</td>\n",
       "      <td>C670</td>\n",
       "      <td>Unoccupied</td>\n",
       "      <td>-37.80844946288812</td>\n",
       "      <td>144.952092831316</td>\n",
       "      <td>4P MTR M-F 7:30-18:30</td>\n",
       "      <td>480</td>\n",
       "      <td>240</td>\n",
       "      <td>0</td>\n",
       "      <td>18:30:00</td>\n",
       "      <td>07:30:00</td>\n",
       "      <td>5</td>\n",
       "      <td>4P Meter</td>\n",
       "    </tr>\n",
       "    <tr>\n",
       "      <th>freq</th>\n",
       "      <td>1</td>\n",
       "      <td>1</td>\n",
       "      <td>716</td>\n",
       "      <td>1</td>\n",
       "      <td>1</td>\n",
       "      <td>166</td>\n",
       "      <td>313</td>\n",
       "      <td>316</td>\n",
       "      <td>880</td>\n",
       "      <td>622</td>\n",
       "      <td>860</td>\n",
       "      <td>465</td>\n",
       "      <td>244</td>\n",
       "    </tr>\n",
       "  </tbody>\n",
       "</table>\n",
       "</div>"
      ]
     },
     "metadata": {},
     "execution_count": 23
    }
   ],
   "metadata": {}
  },
  {
   "cell_type": "markdown",
   "source": [
    "# Build Map"
   ],
   "metadata": {}
  },
  {
   "cell_type": "code",
   "execution_count": 24,
   "source": [
    "import folium\r\n",
    "import webbrowser\r\n",
    "# add pop-up text to each marker on the map\r\n",
    "latitude = -37.82\r\n",
    "longitude = 144.95\r\n",
    "\r\n",
    "# Create map and display it\r\n",
    "map = folium.Map([latitude, longitude], zoom_start=14)\r\n",
    "\r\n",
    "# Display the map of Melbourne\r\n",
    "#map\r\n",
    "# Instantiate a feature group for the incidents in the dataframe\r\n",
    "latitudesU = list(df[df['status']=='Unoccupied'].lat)\r\n",
    "longitudesU = list(df[df['status']=='Unoccupied'].lon)\r\n",
    "#incidents = folium.map.FeatureGroup()\r\n",
    "labelsU = list(df[df['status']=='Unoccupied'].status)\r\n",
    "\r\n",
    "for lat, lng, label in zip(latitudesU, longitudesU, labelsU):\r\n",
    "    status_map=folium.Marker(\r\n",
    "    location=[lat, lng],\r\n",
    "    popup=label,\r\n",
    "    icon=folium.Icon(color='blue', icon='ok-sign'),\r\n",
    "    control_scale=True\r\n",
    "    ).add_to(map)    \r\n",
    "\r\n",
    "latitudesP = list(df[df['status']=='Present'].lat)\r\n",
    "longitudesP = list(df[df['status']=='Present'].lon)\r\n",
    "#incidents = folium.map.FeatureGroup()\r\n",
    "labelsP = list(df[df['status']=='Present'].status)\r\n",
    "\r\n",
    "for lat, lng, label in zip(latitudesP, longitudesP, labelsP):\r\n",
    "    status_map=folium.Marker(\r\n",
    "    location=[lat, lng],\r\n",
    "    popup=label,\r\n",
    "    icon=folium.Icon(color='Red', icon='info-sign'),\r\n",
    "    control_scale=True \r\n",
    "    ).add_to(map)    \r\n",
    "\r\n",
    "\r\n",
    "# add incidents to map\r\n",
    "#status_map=map.add_child(incidents)\r\n"
   ],
   "outputs": [
    {
     "output_type": "stream",
     "name": "stderr",
     "text": [
      "D:\\Program Files\\Anaconda3\\lib\\site-packages\\ipykernel_launcher.py:39: UserWarning: color argument of Icon should be one of: {'purple', 'cadetblue', 'darkred', 'darkpurple', 'red', 'beige', 'lightred', 'green', 'white', 'black', 'darkgreen', 'lightgreen', 'darkblue', 'gray', 'pink', 'orange', 'lightblue', 'blue', 'lightgray'}.\n"
     ]
    }
   ],
   "metadata": {}
  },
  {
   "cell_type": "markdown",
   "source": [
    "## Map Show"
   ],
   "metadata": {}
  },
  {
   "cell_type": "code",
   "execution_count": 25,
   "source": [
    "import os \r\n",
    "\r\n",
    "geo_name = 'Geo_Map.html'\r\n",
    "#to save it in a file\r\n",
    "status_map.save('images/'+geo_name)\r\n",
    "webbrowser.open('images/'+geo_name)\r\n",
    "\r\n",
    "image_path = \"file://\"+os.getcwd()+ '/'+ 'images/'+geo_name\r\n",
    "webbrowser.open(image_path)\r\n",
    "\r\n"
   ],
   "outputs": [
    {
     "output_type": "execute_result",
     "data": {
      "text/plain": [
       "True"
      ]
     },
     "metadata": {},
     "execution_count": 25
    }
   ],
   "metadata": {}
  },
  {
   "cell_type": "code",
   "execution_count": null,
   "source": [
    "\r\n"
   ],
   "outputs": [],
   "metadata": {}
  }
 ],
 "metadata": {
  "orig_nbformat": 4,
  "language_info": {
   "name": "python",
   "version": "3.7.4",
   "mimetype": "text/x-python",
   "codemirror_mode": {
    "name": "ipython",
    "version": 3
   },
   "pygments_lexer": "ipython3",
   "nbconvert_exporter": "python",
   "file_extension": ".py"
  },
  "kernelspec": {
   "name": "python3",
   "display_name": "Python 3.7.4 64-bit ('base': conda)"
  },
  "interpreter": {
   "hash": "9387e9e37a0af8fff0fcbade4737076ebc87d0c8fec44545ee3d2fd05cdc73df"
  }
 },
 "nbformat": 4,
 "nbformat_minor": 2
}