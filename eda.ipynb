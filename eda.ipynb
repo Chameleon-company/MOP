{
 "cells": [
  {
   "cell_type": "code",
   "execution_count": 1,
   "source": [
    "import pandas as pd\n",
    "from sodapy import Socrata\n",
    "\n",
    "\n",
    "client = Socrata(\"data.melbourne.vic.gov.au\", None)\n",
    "\n",
    "\n",
    "CPBL = client.get(\"vh2v-4nfs\", limit=2000)  #CPBL:CarParkBayLocation\n",
    "CPBL_df = pd.DataFrame.from_records(CPBL)\n",
    "CPBR = client.get(\"ntht-5rk7\", limit=20000)#CPBR:Car Park Bay Restrictions\n",
    "\n",
    "CPBR_df = pd.DataFrame.from_records(CPBR)\n",
    "\n",
    "\n",
    "#*****\n",
    "#CPBL_df=CPBL_df.rename(columns={'bay_id':'BayID'})\n",
    "merge_df=pd.merge(CPBL_df,CPBR_df,left_on='bay_id',right_on='bayid', how='left')\n",
    "merge_df.isnull().any()\n",
    "#merge_df.info()\n",
    "df=merge_df.iloc[:,[0,1,2,4,5,9,10,11,12,13,16,17,18]]\n",
    "df[['lat','lon','disabilityext1','duration1']].apply(pd.to_numeric)\n",
    "#df.head(5)\n",
    "#df.describe()\n",
    "#*******"
   ],
   "outputs": [
    {
     "output_type": "stream",
     "name": "stderr",
     "text": [
      "WARNING:root:Requests made without an app_token will be subject to strict throttling limits.\n"
     ]
    }
   ],
   "metadata": {}
  },
  {
   "cell_type": "markdown",
   "source": [
    "# Build Map"
   ],
   "metadata": {}
  },
  {
   "cell_type": "code",
   "execution_count": null,
   "source": [
    "import folium\n",
    "import webbrowser\n",
    "# add pop-up text to each marker on the map\n",
    "latitude = -37.82\n",
    "longitude = 144.95\n",
    "\n",
    "# Create map and display it\n",
    "map = folium.Map([latitude, longitude], zoom_start=14)\n",
    "\n",
    "# Display the map of Melbourne\n",
    "#map\n",
    "# Instantiate a feature group for the incidents in the dataframe\n",
    "latitudesU = list(df[df['status']=='Unoccupied'].lat)\n",
    "longitudesU = list(df[df['status']=='Unoccupied'].lon)\n",
    "#incidents = folium.map.FeatureGroup()\n",
    "labelsU = list(df[df['status']=='Unoccupied'].status)\n",
    "\n",
    "for lat, lng, label in zip(latitudesU, longitudesU, labelsU):\n",
    "    status_map=folium.Marker(\n",
    "    location=[lat, lng],\n",
    "    popup=label,\n",
    "    icon=folium.Icon(color='blue', icon='ok-sign') \n",
    "    ).add_to(map)    \n",
    "\n",
    "latitudesP = list(df[df['status']=='Present'].lat)\n",
    "longitudesP = list(df[df['status']=='Present'].lon)\n",
    "#incidents = folium.map.FeatureGroup()\n",
    "labelsP = list(df[df['status']=='Present'].status)\n",
    "\n",
    "for lat, lng, label in zip(latitudesP, longitudesP, labelsP):\n",
    "    status_map=folium.Marker(\n",
    "    location=[lat, lng],\n",
    "    popup=label,\n",
    "    icon=folium.Icon(color='Red', icon='info-sign') \n",
    "    ).add_to(map)    \n",
    "\n",
    "\n",
    "# add incidents to map\n",
    "#status_map=map.add_child(incidents)\n"
   ],
   "outputs": [
    {
     "output_type": "error",
     "ename": "NameError",
     "evalue": "name 'df' is not defined",
     "traceback": [
      "\u001b[0;31m---------------------------------------------------------------------------\u001b[0m",
      "\u001b[0;31mNameError\u001b[0m                                 Traceback (most recent call last)",
      "\u001b[0;32m/var/folders/tc/s1vsgctn4gn_n76ylgwmdwrw0000gn/T/ipykernel_8184/2348512833.py\u001b[0m in \u001b[0;36m<module>\u001b[0;34m\u001b[0m\n\u001b[1;32m     11\u001b[0m \u001b[0;31m#map\u001b[0m\u001b[0;34m\u001b[0m\u001b[0;34m\u001b[0m\u001b[0;34m\u001b[0m\u001b[0m\n\u001b[1;32m     12\u001b[0m \u001b[0;31m# Instantiate a feature group for the incidents in the dataframe\u001b[0m\u001b[0;34m\u001b[0m\u001b[0;34m\u001b[0m\u001b[0;34m\u001b[0m\u001b[0m\n\u001b[0;32m---> 13\u001b[0;31m \u001b[0mlatitudesU\u001b[0m \u001b[0;34m=\u001b[0m \u001b[0mlist\u001b[0m\u001b[0;34m(\u001b[0m\u001b[0mdf\u001b[0m\u001b[0;34m[\u001b[0m\u001b[0mdf\u001b[0m\u001b[0;34m[\u001b[0m\u001b[0;34m'status'\u001b[0m\u001b[0;34m]\u001b[0m\u001b[0;34m==\u001b[0m\u001b[0;34m'Unoccupied'\u001b[0m\u001b[0;34m]\u001b[0m\u001b[0;34m.\u001b[0m\u001b[0mlat\u001b[0m\u001b[0;34m)\u001b[0m\u001b[0;34m\u001b[0m\u001b[0;34m\u001b[0m\u001b[0m\n\u001b[0m\u001b[1;32m     14\u001b[0m \u001b[0mlongitudesU\u001b[0m \u001b[0;34m=\u001b[0m \u001b[0mlist\u001b[0m\u001b[0;34m(\u001b[0m\u001b[0mdf\u001b[0m\u001b[0;34m[\u001b[0m\u001b[0mdf\u001b[0m\u001b[0;34m[\u001b[0m\u001b[0;34m'status'\u001b[0m\u001b[0;34m]\u001b[0m\u001b[0;34m==\u001b[0m\u001b[0;34m'Unoccupied'\u001b[0m\u001b[0;34m]\u001b[0m\u001b[0;34m.\u001b[0m\u001b[0mlon\u001b[0m\u001b[0;34m)\u001b[0m\u001b[0;34m\u001b[0m\u001b[0;34m\u001b[0m\u001b[0m\n\u001b[1;32m     15\u001b[0m \u001b[0;31m#incidents = folium.map.FeatureGroup()\u001b[0m\u001b[0;34m\u001b[0m\u001b[0;34m\u001b[0m\u001b[0;34m\u001b[0m\u001b[0m\n",
      "\u001b[0;31mNameError\u001b[0m: name 'df' is not defined"
     ]
    }
   ],
   "metadata": {}
  },
  {
   "cell_type": "markdown",
   "source": [
    "## Map Show"
   ],
   "metadata": {}
  },
  {
   "cell_type": "code",
   "execution_count": null,
   "source": [
    "import os \n",
    "\n",
    "geo_name = 'Geo_Map.html'\n",
    "#to save it in a file\n",
    "status_map.save('images/'+geo_name)\n",
    "webbrowser.open('images/'+geo_name)\n",
    "\n",
    "image_path = \"file://\"+os.getcwd()+ '/'+ 'images/'+geo_name\n",
    "webbrowser.open(image_path)\n",
    "\n"
   ],
   "outputs": [
    {
     "output_type": "stream",
     "name": "stderr",
     "text": [
      "0:66: execution error: File some object wasn’t found. (-43)\n",
      "69:77: execution error: Can’t get application \"chrome\". (-1728)\n",
      "70:78: execution error: Can’t get application \"firefox\". (-1728)\n"
     ]
    },
    {
     "output_type": "execute_result",
     "data": {
      "text/plain": [
       "True"
      ]
     },
     "metadata": {},
     "execution_count": 51
    }
   ],
   "metadata": {}
  }
 ],
 "metadata": {
  "orig_nbformat": 4,
  "language_info": {
   "name": "python",
   "version": "3.8.6",
   "mimetype": "text/x-python",
   "codemirror_mode": {
    "name": "ipython",
    "version": 3
   },
   "pygments_lexer": "ipython3",
   "nbconvert_exporter": "python",
   "file_extension": ".py"
  },
  "kernelspec": {
   "name": "python3",
   "display_name": "Python 3.8.6 64-bit ('gleb': conda)"
  },
  "interpreter": {
   "hash": "2ccebbba47576261cc55cdb09f91049a3fd200111050fee253d99fc53ae7a6e0"
  }
 },
 "nbformat": 4,
 "nbformat_minor": 2
}