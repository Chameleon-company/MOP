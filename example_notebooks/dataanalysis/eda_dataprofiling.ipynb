{
 "cells": [
  {
   "cell_type": "markdown",
   "metadata": {},
   "source": [
    "![Image](https://raw.githubusercontent.com/D2I-Melbourne/MOP/master/images/mop-black-100px.png)\n",
    "# MELBOURNE CITY OPEN DATA PLAYGROUND\n",
    "---\n",
    "## Data Profiling using Pandas-Profiling\n",
    "## Example using Residential Dwelling Data\n",
    "---\n",
    "| Date | Author/Contributor | Change |\n",
    "| :- | :- | :- |\n",
    "| 9-Dec-2021 | Tithra Chap | Initial Draft |\n",
    "| 13-Dec-2021 | Steven Tuften | Formatted and published in GitHub |"
   ]
  },
  {
   "cell_type": "markdown",
   "metadata": {},
   "source": [
    "### Package/Library Imports"
   ]
  },
  {
   "cell_type": "code",
   "execution_count": null,
   "metadata": {
    "id": "LIEQNvGt1oPn",
    "scrolled": false
   },
   "outputs": [],
   "source": [
    "#Install pandas profile package\n",
    "! pip install pandas-profiling"
   ]
  },
  {
   "cell_type": "code",
   "execution_count": 8,
   "metadata": {},
   "outputs": [],
   "source": [
    "import os\n",
    "from sodapy import Socrata\n",
    "import pandas as pd\n",
    "import pandas_profiling"
   ]
  },
  {
   "cell_type": "markdown",
   "metadata": {},
   "source": [
    "### Constants"
   ]
  },
  {
   "cell_type": "code",
   "execution_count": 9,
   "metadata": {},
   "outputs": [
    {
     "name": "stderr",
     "output_type": "stream",
     "text": [
      "WARNING:root:Requests made without an app_token will be subject to strict throttling limits.\n"
     ]
    }
   ],
   "source": [
    "dataset_id = 'rm92-h5tq' # Melbourne CLUE Residential Dwellings\n",
    "\n",
    "apptoken = os.environ.get(\"SODAPY_APPTOKEN\") # Anonymous app token\n",
    "domain = \"data.melbourne.vic.gov.au\"\n",
    "client = Socrata(domain, apptoken) # Open Dataset connection"
   ]
  },
  {
   "cell_type": "markdown",
   "metadata": {},
   "source": [
    "### Read in dataset"
   ]
  },
  {
   "cell_type": "code",
   "execution_count": 10,
   "metadata": {},
   "outputs": [
    {
     "name": "stdout",
     "output_type": "stream",
     "text": [
      "<class 'pandas.core.frame.DataFrame'>\n",
      "RangeIndex: 10402 entries, 0 to 10401\n",
      "Data columns (total 10 columns):\n",
      " #   Column           Non-Null Count  Dtype \n",
      "---  ------           --------------  ----- \n",
      " 0   census_year      10402 non-null  object\n",
      " 1   block_id         10402 non-null  object\n",
      " 2   pbs_property_id  10402 non-null  object\n",
      " 3   bps_base_id      10402 non-null  object\n",
      " 4   street_name      10402 non-null  object\n",
      " 5   clue_small_area  10402 non-null  object\n",
      " 6   dwelling_type    10402 non-null  object\n",
      " 7   dwelling_number  10402 non-null  object\n",
      " 8   x_coordinate     10400 non-null  object\n",
      " 9   y_coordinate     10400 non-null  object\n",
      "dtypes: object(10)\n",
      "memory usage: 812.8+ KB\n"
     ]
    }
   ],
   "source": [
    "dataresource = client.get_all(dataset_id)\n",
    "dataset = pd.DataFrame.from_dict(dataresource)\n",
    "dataset.info()"
   ]
  },
  {
   "cell_type": "markdown",
   "metadata": {},
   "source": [
    "### Profile dataset"
   ]
  },
  {
   "cell_type": "code",
   "execution_count": null,
   "metadata": {
    "id": "stROK9yMyX34"
   },
   "outputs": [],
   "source": [
    "report = dataset.profile_report(\n",
    "    sort=None, html={\"style\": {\"full_width\": True}}, progress_bar=False\n",
    ")\n",
    "report.to_file('dataprofile_residentialdwellings.html')"
   ]
  }
 ],
 "metadata": {
  "colab": {
   "authorship_tag": "ABX9TyNVjagmRzMIAPIGXyL2dc1m",
   "mount_file_id": "1mDomDXmOhDYxFxnqNHCeu-wHaZJ41oWq",
   "name": "EDA.ipynb",
   "provenance": []
  },
  "kernelspec": {
   "display_name": "Python 3",
   "language": "python",
   "name": "python3"
  },
  "language_info": {
   "codemirror_mode": {
    "name": "ipython",
    "version": 3
   },
   "file_extension": ".py",
   "mimetype": "text/x-python",
   "name": "python",
   "nbconvert_exporter": "python",
   "pygments_lexer": "ipython3",
   "version": "3.8.5"
  }
 },
 "nbformat": 4,
 "nbformat_minor": 1
}
