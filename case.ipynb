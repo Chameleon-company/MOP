{
 "cells": [
  {
   "cell_type": "code",
   "execution_count": 23,
   "metadata": {},
   "outputs": [
    {
     "name": "stderr",
     "output_type": "stream",
     "text": [
      "WARNING:root:Requests made without an app_token will be subject to strict throttling limits.\n"
     ]
    },
    {
     "data": {
      "text/html": [
       "<div>\n",
       "<style scoped>\n",
       "    .dataframe tbody tr th:only-of-type {\n",
       "        vertical-align: middle;\n",
       "    }\n",
       "\n",
       "    .dataframe tbody tr th {\n",
       "        vertical-align: top;\n",
       "    }\n",
       "\n",
       "    .dataframe thead th {\n",
       "        text-align: right;\n",
       "    }\n",
       "</style>\n",
       "<table border=\"1\" class=\"dataframe\">\n",
       "  <thead>\n",
       "    <tr style=\"text-align: right;\">\n",
       "      <th></th>\n",
       "      <th>bay_id</th>\n",
       "      <th>st_marker_id</th>\n",
       "      <th>status</th>\n",
       "      <th>lat</th>\n",
       "      <th>lon</th>\n",
       "      <th>description1</th>\n",
       "      <th>disabilityext1</th>\n",
       "      <th>duration1</th>\n",
       "      <th>effectiveonph1</th>\n",
       "      <th>endtime1</th>\n",
       "      <th>starttime1</th>\n",
       "      <th>today1</th>\n",
       "      <th>typedesc1</th>\n",
       "    </tr>\n",
       "  </thead>\n",
       "  <tbody>\n",
       "    <tr>\n",
       "      <th>count</th>\n",
       "      <td>909</td>\n",
       "      <td>909</td>\n",
       "      <td>909</td>\n",
       "      <td>909</td>\n",
       "      <td>909</td>\n",
       "      <td>908</td>\n",
       "      <td>908</td>\n",
       "      <td>908</td>\n",
       "      <td>908</td>\n",
       "      <td>908</td>\n",
       "      <td>908</td>\n",
       "      <td>908</td>\n",
       "      <td>908</td>\n",
       "    </tr>\n",
       "    <tr>\n",
       "      <th>unique</th>\n",
       "      <td>909</td>\n",
       "      <td>909</td>\n",
       "      <td>2</td>\n",
       "      <td>909</td>\n",
       "      <td>909</td>\n",
       "      <td>76</td>\n",
       "      <td>9</td>\n",
       "      <td>10</td>\n",
       "      <td>2</td>\n",
       "      <td>13</td>\n",
       "      <td>8</td>\n",
       "      <td>3</td>\n",
       "      <td>24</td>\n",
       "    </tr>\n",
       "    <tr>\n",
       "      <th>top</th>\n",
       "      <td>2665</td>\n",
       "      <td>C670</td>\n",
       "      <td>Unoccupied</td>\n",
       "      <td>-37.80844946288812</td>\n",
       "      <td>144.952092831316</td>\n",
       "      <td>4P MTR M-F 7:30-18:30</td>\n",
       "      <td>480</td>\n",
       "      <td>240</td>\n",
       "      <td>0</td>\n",
       "      <td>18:30:00</td>\n",
       "      <td>07:30:00</td>\n",
       "      <td>5</td>\n",
       "      <td>4P Meter</td>\n",
       "    </tr>\n",
       "    <tr>\n",
       "      <th>freq</th>\n",
       "      <td>1</td>\n",
       "      <td>1</td>\n",
       "      <td>716</td>\n",
       "      <td>1</td>\n",
       "      <td>1</td>\n",
       "      <td>166</td>\n",
       "      <td>313</td>\n",
       "      <td>316</td>\n",
       "      <td>880</td>\n",
       "      <td>622</td>\n",
       "      <td>860</td>\n",
       "      <td>465</td>\n",
       "      <td>244</td>\n",
       "    </tr>\n",
       "  </tbody>\n",
       "</table>\n",
       "</div>"
      ],
      "text/plain": [
       "       bay_id st_marker_id      status                 lat               lon  \\\n",
       "count     909          909         909                 909               909   \n",
       "unique    909          909           2                 909               909   \n",
       "top      2665         C670  Unoccupied  -37.80844946288812  144.952092831316   \n",
       "freq        1            1         716                   1                 1   \n",
       "\n",
       "                 description1 disabilityext1 duration1 effectiveonph1  \\\n",
       "count                     908            908       908            908   \n",
       "unique                     76              9        10              2   \n",
       "top     4P MTR M-F 7:30-18:30            480       240              0   \n",
       "freq                      166            313       316            880   \n",
       "\n",
       "        endtime1 starttime1 today1 typedesc1  \n",
       "count        908        908    908       908  \n",
       "unique        13          8      3        24  \n",
       "top     18:30:00   07:30:00      5  4P Meter  \n",
       "freq         622        860    465       244  "
      ]
     },
     "execution_count": 23,
     "metadata": {},
     "output_type": "execute_result"
    }
   ],
   "source": [
    "import pandas as pd\n",
    "from sodapy import Socrata\n",
    "\n",
    "\n",
    "client = Socrata(\"data.melbourne.vic.gov.au\", None)\n",
    "\n",
    "\n",
    "CPBL = client.get(\"vh2v-4nfs\", limit=2000)  #CPBL:CarParkBayLocation\n",
    "CPBL_df = pd.DataFrame.from_records(CPBL)\n",
    "\n",
    "CPBR = client.get(\"ntht-5rk7\", limit=20000)#CPBR:Car Park Bay Restrictions\n",
    "CPBR_df = pd.DataFrame.from_records(CPBR)\n",
    "\n",
    "\n",
    "#*****\n",
    "merge_df=pd.merge(CPBL_df,CPBR_df,left_on='bay_id',right_on='bayid', how='left')\n",
    "merge_df.isnull().any()\n",
    "#merge_df.info()\n",
    "df=merge_df.iloc[:,[0,1,2,4,5,9,10,11,12,13,16,17,18]]\n",
    "df[['lat','lon','disabilityext1','duration1']].apply(pd.to_numeric)\n",
    "#df.head(5)\n",
    "df.describe()\n",
    "#*******"
   ]
  },
  {
   "cell_type": "markdown",
   "metadata": {},
   "source": [
    "# Build Map"
   ]
  },
  {
   "cell_type": "code",
   "execution_count": 24,
   "metadata": {},
   "outputs": [
    {
     "name": "stderr",
     "output_type": "stream",
     "text": [
      "D:\\Program Files\\Anaconda3\\lib\\site-packages\\ipykernel_launcher.py:39: UserWarning: color argument of Icon should be one of: {'purple', 'cadetblue', 'darkred', 'darkpurple', 'red', 'beige', 'lightred', 'green', 'white', 'black', 'darkgreen', 'lightgreen', 'darkblue', 'gray', 'pink', 'orange', 'lightblue', 'blue', 'lightgray'}.\n"
     ]
    }
   ],
   "source": [
    "import folium\n",
    "import webbrowser\n",
    "# add pop-up text to each marker on the map\n",
    "latitude = -37.82\n",
    "longitude = 144.95\n",
    "\n",
    "# Create map and display it\n",
    "map = folium.Map([latitude, longitude], zoom_start=14)\n",
    "\n",
    "# Display the map of Melbourne\n",
    "#map\n",
    "# Instantiate a feature group for the incidents in the dataframe\n",
    "latitudesU = list(df[df['status']=='Unoccupied'].lat)\n",
    "longitudesU = list(df[df['status']=='Unoccupied'].lon)\n",
    "#incidents = folium.map.FeatureGroup()\n",
    "labelsU = list(df[df['status']=='Unoccupied'].status)\n",
    "\n",
    "for lat, lng, label in zip(latitudesU, longitudesU, labelsU):\n",
    "    status_map=folium.Marker(\n",
    "    location=[lat, lng],\n",
    "    popup=label,\n",
    "    icon=folium.Icon(color='blue', icon='ok-sign'),\n",
    "    control_scale=True\n",
    "    ).add_to(map)    \n",
    "\n",
    "latitudesP = list(df[df['status']=='Present'].lat)\n",
    "longitudesP = list(df[df['status']=='Present'].lon)\n",
    "#incidents = folium.map.FeatureGroup()\n",
    "labelsP = list(df[df['status']=='Present'].status)\n",
    "\n",
    "for lat, lng, label in zip(latitudesP, longitudesP, labelsP):\n",
    "    status_map=folium.Marker(\n",
    "    location=[lat, lng],\n",
    "    popup=label,\n",
    "    icon=folium.Icon(color='Red', icon='info-sign'),\n",
    "    control_scale=True \n",
    "    ).add_to(map)    \n",
    "\n",
    "\n",
    "# add incidents to map\n",
    "#status_map=map.add_child(incidents)\n"
   ]
  },
  {
   "cell_type": "markdown",
   "metadata": {},
   "source": [
    "## Map Show"
   ]
  },
  {
   "cell_type": "code",
   "execution_count": 25,
   "metadata": {},
   "outputs": [
    {
     "data": {
      "text/plain": [
       "True"
      ]
     },
     "execution_count": 25,
     "metadata": {},
     "output_type": "execute_result"
    }
   ],
   "source": [
    "import os \n",
    "\n",
    "geo_name = 'Geo_Map.html'\n",
    "#to save it in a file\n",
    "status_map.save('images/'+geo_name)\n",
    "#webbrowser.open('images/'+geo_name)\n",
    "\n",
    "image_path = \"file://\"+os.getcwd()+ '/'+ 'images/'+geo_name\n",
    "webbrowser.open(image_path)\n",
    "\n"
   ]
  },
  {
   "cell_type": "code",
   "execution_count": 1,
   "metadata": {},
   "outputs": [
    {
     "name": "stderr",
     "output_type": "stream",
     "text": [
      "WARNING:root:Requests made without an app_token will be subject to strict throttling limits.\n"
     ]
    }
   ],
   "source": [
    "import pandas as pd\n",
    "from sodapy import Socrata\n",
    "\n",
    "\n",
    "client = Socrata(\"data.melbourne.vic.gov.au\", None)\n",
    "\n",
    "\n",
    "CPBL = client.get(\"vh2v-4nfs\", limit=2000)  \n",
    "#On-street Parking Bay Sensors:\n",
    "#https://data.melbourne.vic.gov.au/Transport/On-street-Parking-Bay-Sensors/vh2v-4nfs\n",
    "\n",
    "CPBL_df = pd.DataFrame.from_records(CPBL)\n",
    "\n",
    "CPBR = client.get(\"ntht-5rk7\", limit=20000)\n",
    "#On-street Car Park Bay Restrictions:\n",
    "#https://data.melbourne.vic.gov.au/Transport/On-street-Car-Park-Bay-Restrictions/ntht-5rk7\n",
    "CPBR_df = pd.DataFrame.from_records(CPBR)\n",
    "\n",
    "\n",
    "#*****\n",
    "merge_df=pd.merge(CPBL_df,CPBR_df,left_on='bay_id',right_on='bayid', how='left')\n",
    "\n",
    "df=merge_df.iloc[:,[0,1,2,4,5,9,10,11,12,13,16,17,18]]\n",
    "df[['lat','lon','disabilityext1','duration1']].apply(pd.to_numeric)\n",
    "\n",
    "from map import mark_map\n",
    "mark_map(df)"
   ]
  }
 ],
 "metadata": {
  "interpreter": {
   "hash": "9387e9e37a0af8fff0fcbade4737076ebc87d0c8fec44545ee3d2fd05cdc73df"
  },
  "kernelspec": {
   "display_name": "Python 3",
   "language": "python",
   "name": "python3"
  },
  "language_info": {
   "codemirror_mode": {
    "name": "ipython",
    "version": 3
   },
   "file_extension": ".py",
   "mimetype": "text/x-python",
   "name": "python",
   "nbconvert_exporter": "python",
   "pygments_lexer": "ipython3",
   "version": "3.7.11"
  }
 },
 "nbformat": 4,
 "nbformat_minor": 2
}
