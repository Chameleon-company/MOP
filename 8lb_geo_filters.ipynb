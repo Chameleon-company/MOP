{
 "cells": [
  {
   "cell_type": "code",
   "execution_count": 16,
   "id": "adjusted-brunei",
   "metadata": {},
   "outputs": [],
   "source": [
    "import math\n",
    "\n",
    "# use of Haversin formula from:\n",
    "# https://www.kite.com/python/answers/how-to-find-the-distance-between-two-lat-long-coordinates-in-python\n",
    "\n",
    "def geodist1(lat1,lon1,lat2,lon2):\n",
    "    R = 6373.0  # radius of the Earth (assume Earth spherical)\n",
    "\n",
    "    la1 = math.radians(lat1)\n",
    "    lo1 = math.radians(lon1)\n",
    "    la2 = math.radians(lat2)\n",
    "    lo2 = math.radians(lon2)\n",
    "\n",
    "    dlon = lo2 - lo1\n",
    "    dlat = la2 - la1\n",
    "\n",
    "    # Haversine formula\n",
    "    a = math.sin(dlat / 2)**2 + math.cos(la1) * math.cos(la2) * math.sin(dlon / 2)**2\n",
    "    c = 2 * math.atan2(math.sqrt(a), math.sqrt(1 - a))\n",
    "    d = R * c * 1000\n",
    "        \n",
    "#     return round(d,1)  # distance in metres\n",
    "    return d"
   ]
  },
  {
   "cell_type": "code",
   "execution_count": 17,
   "id": "educational-watson",
   "metadata": {},
   "outputs": [],
   "source": [
    "from geopy.distance import distance\n",
    "\n",
    "# use of geopy based on:\n",
    "# https://geopy.readthedocs.io/en/stable/#module-geopy.distance\n",
    "\n",
    "def geodist2(lat1,lon1,lat2,lon2):\n",
    "    coords_1 = (lat1,lon1)\n",
    "    coords_2 = (lat2,lon2)\n",
    "    d = distance(coords_1, coords_2).m\n",
    "    \n",
    "#     return round(d,1)  # distance in metres\n",
    "    return d"
   ]
  },
  {
   "cell_type": "code",
   "execution_count": 30,
   "id": "biological-roommate",
   "metadata": {},
   "outputs": [
    {
     "name": "stdout",
     "output_type": "stream",
     "text": [
      "geodist1 using haversine formula :  864515.8 m\n",
      "geodist1 using geopy library :  866486.7 m\n"
     ]
    }
   ],
   "source": [
    "lat1 = 41.49038\n",
    "lon1 = -71.312796\n",
    "lat2 = 41.499498\n",
    "lon2 = -81.695791\n",
    "\n",
    "print(\"geodist1 using haversine formula : \", geodist1(lat1,lon1,lat2,lon2),\"m\")\n",
    "print(\"geodist1 using geopy library : \", geodist2(lat1,lon1,lat2,lon2),\"m\")"
   ]
  },
  {
   "cell_type": "code",
   "execution_count": null,
   "id": "greek-robinson",
   "metadata": {},
   "outputs": [],
   "source": []
  }
 ],
 "metadata": {
  "kernelspec": {
   "display_name": "Python 3",
   "language": "python",
   "name": "python3"
  },
  "language_info": {
   "codemirror_mode": {
    "name": "ipython",
    "version": 3
   },
   "file_extension": ".py",
   "mimetype": "text/x-python",
   "name": "python",
   "nbconvert_exporter": "python",
   "pygments_lexer": "ipython3",
   "version": "3.7.11"
  }
 },
 "nbformat": 4,
 "nbformat_minor": 5
}
