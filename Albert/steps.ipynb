{
 "cells": [
  {
   "cell_type": "code",
   "execution_count": 1,
   "source": [
    "import numpy as np\n",
    "import pandas as pd\n",
    "\n",
    "df = pd.read_csv('datasets/parkingsensor.csv', parse_dates=True, infer_datetime_format=True)\n",
    "df['datetime'] = pd.to_datetime(df['datetime'], infer_datetime_format=True, utc=True)\n",
    "\n",
    "print(df.shape)\n",
    "print(df.nunique())\n",
    "df.head(2)"
   ],
   "outputs": [
    {
     "output_type": "stream",
     "name": "stdout",
     "text": [
      "(2633420, 4)\n",
      "bay_id          1420\n",
      "st_marker_id    1420\n",
      "status             2\n",
      "datetime        2356\n",
      "dtype: int64\n"
     ]
    },
    {
     "output_type": "execute_result",
     "data": {
      "text/html": [
       "<div>\n",
       "<style scoped>\n",
       "    .dataframe tbody tr th:only-of-type {\n",
       "        vertical-align: middle;\n",
       "    }\n",
       "\n",
       "    .dataframe tbody tr th {\n",
       "        vertical-align: top;\n",
       "    }\n",
       "\n",
       "    .dataframe thead th {\n",
       "        text-align: right;\n",
       "    }\n",
       "</style>\n",
       "<table border=\"1\" class=\"dataframe\">\n",
       "  <thead>\n",
       "    <tr style=\"text-align: right;\">\n",
       "      <th></th>\n",
       "      <th>bay_id</th>\n",
       "      <th>st_marker_id</th>\n",
       "      <th>status</th>\n",
       "      <th>datetime</th>\n",
       "    </tr>\n",
       "  </thead>\n",
       "  <tbody>\n",
       "    <tr>\n",
       "      <th>0</th>\n",
       "      <td>4044</td>\n",
       "      <td>C6126</td>\n",
       "      <td>Present</td>\n",
       "      <td>2021-08-13 12:30:39.749530+00:00</td>\n",
       "    </tr>\n",
       "    <tr>\n",
       "      <th>1</th>\n",
       "      <td>5361</td>\n",
       "      <td>8903W</td>\n",
       "      <td>Unoccupied</td>\n",
       "      <td>2021-08-13 12:30:39.749530+00:00</td>\n",
       "    </tr>\n",
       "  </tbody>\n",
       "</table>\n",
       "</div>"
      ],
      "text/plain": [
       "   bay_id st_marker_id      status                         datetime\n",
       "0    4044        C6126     Present 2021-08-13 12:30:39.749530+00:00\n",
       "1    5361        8903W  Unoccupied 2021-08-13 12:30:39.749530+00:00"
      ]
     },
     "metadata": {},
     "execution_count": 1
    }
   ],
   "metadata": {}
  },
  {
   "cell_type": "code",
   "execution_count": 3,
   "source": [
    "!geopy"
   ],
   "outputs": [
    {
     "output_type": "stream",
     "name": "stdout",
     "text": [
      "/bin/bash: geopy: command not found\n"
     ]
    }
   ],
   "metadata": {}
  },
  {
   "cell_type": "code",
   "execution_count": 2,
   "source": [
    "from geopy.distance import geodesic\n",
    "\n",
    "lat, lng = -37.80460962396392, 144.95469755661333\n",
    "radius = \"200\"\n",
    "\n",
    "### geo filtering based on lat,lng, radius parameters ###\n",
    "# lat, lng are floats, radius is string integer\n",
    "# read in base list of 5895 parking bays with marker id's and lati long\n",
    "df_baselist = pd.read_csv('datasets/ps_baselist.csv')\n",
    "# initialisation of filter loop\n",
    "pin = (lat,lng)\n",
    "r = int(radius)\n",
    "j = 0\n",
    "lst_marker_ids = []\n",
    "# filter loop\n",
    "for i in np.arange(0,df_baselist.shape[0]):\n",
    "    d =  geodesic(pin, (df_baselist.lati[i], df_baselist.long[i])).meters\n",
    "    if d<=r:\n",
    "        lst_marker_ids.append(df_baselist.st_marker_id[i])\n",
    "        j=j+1\n",
    "    else:\n",
    "        continue\n",
    "# df below is result of filter by circle\n",
    "df = df[df[\"st_marker_id\"].isin(lst_marker_ids)] \n",
    "\n",
    "print(df.shape)\n",
    "print(df.nunique())\n",
    "df.head(2)"
   ],
   "outputs": [
    {
     "output_type": "stream",
     "name": "stdout",
     "text": [
      "(263769, 4)\n",
      "bay_id           117\n",
      "st_marker_id     117\n",
      "status             2\n",
      "datetime        2349\n",
      "dtype: int64\n"
     ]
    },
    {
     "output_type": "execute_result",
     "data": {
      "text/html": [
       "<div>\n",
       "<style scoped>\n",
       "    .dataframe tbody tr th:only-of-type {\n",
       "        vertical-align: middle;\n",
       "    }\n",
       "\n",
       "    .dataframe tbody tr th {\n",
       "        vertical-align: top;\n",
       "    }\n",
       "\n",
       "    .dataframe thead th {\n",
       "        text-align: right;\n",
       "    }\n",
       "</style>\n",
       "<table border=\"1\" class=\"dataframe\">\n",
       "  <thead>\n",
       "    <tr style=\"text-align: right;\">\n",
       "      <th></th>\n",
       "      <th>bay_id</th>\n",
       "      <th>st_marker_id</th>\n",
       "      <th>status</th>\n",
       "      <th>datetime</th>\n",
       "    </tr>\n",
       "  </thead>\n",
       "  <tbody>\n",
       "    <tr>\n",
       "      <th>135</th>\n",
       "      <td>4422</td>\n",
       "      <td>C7684</td>\n",
       "      <td>Present</td>\n",
       "      <td>2021-08-13 12:30:39.749530+00:00</td>\n",
       "    </tr>\n",
       "    <tr>\n",
       "      <th>191</th>\n",
       "      <td>3993</td>\n",
       "      <td>C5954</td>\n",
       "      <td>Present</td>\n",
       "      <td>2021-08-13 12:30:39.749530+00:00</td>\n",
       "    </tr>\n",
       "  </tbody>\n",
       "</table>\n",
       "</div>"
      ],
      "text/plain": [
       "     bay_id st_marker_id   status                         datetime\n",
       "135    4422        C7684  Present 2021-08-13 12:30:39.749530+00:00\n",
       "191    3993        C5954  Present 2021-08-13 12:30:39.749530+00:00"
      ]
     },
     "metadata": {},
     "execution_count": 2
    }
   ],
   "metadata": {}
  },
  {
   "cell_type": "code",
   "execution_count": 6,
   "source": [
    "print(df.shape)\n",
    "df.head(3)"
   ],
   "outputs": [
    {
     "output_type": "stream",
     "name": "stdout",
     "text": [
      "(2633420, 4)\n"
     ]
    },
    {
     "output_type": "execute_result",
     "data": {
      "text/html": [
       "<div>\n",
       "<style scoped>\n",
       "    .dataframe tbody tr th:only-of-type {\n",
       "        vertical-align: middle;\n",
       "    }\n",
       "\n",
       "    .dataframe tbody tr th {\n",
       "        vertical-align: top;\n",
       "    }\n",
       "\n",
       "    .dataframe thead th {\n",
       "        text-align: right;\n",
       "    }\n",
       "</style>\n",
       "<table border=\"1\" class=\"dataframe\">\n",
       "  <thead>\n",
       "    <tr style=\"text-align: right;\">\n",
       "      <th></th>\n",
       "      <th>bay_id</th>\n",
       "      <th>st_marker_id</th>\n",
       "      <th>status</th>\n",
       "      <th>datetime</th>\n",
       "    </tr>\n",
       "  </thead>\n",
       "  <tbody>\n",
       "    <tr>\n",
       "      <th>0</th>\n",
       "      <td>4044</td>\n",
       "      <td>C6126</td>\n",
       "      <td>Present</td>\n",
       "      <td>2021-08-13 12:30:39.749530+00:00</td>\n",
       "    </tr>\n",
       "    <tr>\n",
       "      <th>1</th>\n",
       "      <td>5361</td>\n",
       "      <td>8903W</td>\n",
       "      <td>Unoccupied</td>\n",
       "      <td>2021-08-13 12:30:39.749530+00:00</td>\n",
       "    </tr>\n",
       "    <tr>\n",
       "      <th>2</th>\n",
       "      <td>3686</td>\n",
       "      <td>7646N</td>\n",
       "      <td>Present</td>\n",
       "      <td>2021-08-13 12:30:39.749530+00:00</td>\n",
       "    </tr>\n",
       "  </tbody>\n",
       "</table>\n",
       "</div>"
      ],
      "text/plain": [
       "   bay_id st_marker_id      status                         datetime\n",
       "0    4044        C6126     Present 2021-08-13 12:30:39.749530+00:00\n",
       "1    5361        8903W  Unoccupied 2021-08-13 12:30:39.749530+00:00\n",
       "2    3686        7646N     Present 2021-08-13 12:30:39.749530+00:00"
      ]
     },
     "metadata": {},
     "execution_count": 6
    }
   ],
   "metadata": {}
  },
  {
   "cell_type": "code",
   "execution_count": 17,
   "source": [
    "print(df_baselist.shape)\n",
    "df_baselist.head(3)"
   ],
   "outputs": [
    {
     "output_type": "stream",
     "name": "stdout",
     "text": [
      "(5895, 3)\n"
     ]
    },
    {
     "output_type": "execute_result",
     "data": {
      "text/html": [
       "<div>\n",
       "<style scoped>\n",
       "    .dataframe tbody tr th:only-of-type {\n",
       "        vertical-align: middle;\n",
       "    }\n",
       "\n",
       "    .dataframe tbody tr th {\n",
       "        vertical-align: top;\n",
       "    }\n",
       "\n",
       "    .dataframe thead th {\n",
       "        text-align: right;\n",
       "    }\n",
       "</style>\n",
       "<table border=\"1\" class=\"dataframe\">\n",
       "  <thead>\n",
       "    <tr style=\"text-align: right;\">\n",
       "      <th></th>\n",
       "      <th>st_marker_id</th>\n",
       "      <th>lati</th>\n",
       "      <th>long</th>\n",
       "    </tr>\n",
       "  </thead>\n",
       "  <tbody>\n",
       "    <tr>\n",
       "      <th>0</th>\n",
       "      <td>C5010</td>\n",
       "      <td>-37.806447</td>\n",
       "      <td>144.958202</td>\n",
       "    </tr>\n",
       "    <tr>\n",
       "      <th>1</th>\n",
       "      <td>4999W</td>\n",
       "      <td>-37.806586</td>\n",
       "      <td>144.958043</td>\n",
       "    </tr>\n",
       "    <tr>\n",
       "      <th>2</th>\n",
       "      <td>1114E</td>\n",
       "      <td>-37.815324</td>\n",
       "      <td>144.960975</td>\n",
       "    </tr>\n",
       "  </tbody>\n",
       "</table>\n",
       "</div>"
      ],
      "text/plain": [
       "  st_marker_id       lati        long\n",
       "0        C5010 -37.806447  144.958202\n",
       "1        4999W -37.806586  144.958043\n",
       "2        1114E -37.815324  144.960975"
      ]
     },
     "metadata": {},
     "execution_count": 17
    }
   ],
   "metadata": {}
  },
  {
   "cell_type": "code",
   "execution_count": 19,
   "source": [
    "df_merge = pd.merge(df_baselist, df, on='st_marker_id', how='inner')\n",
    "# df_merge = df_merge[[\"st_marker_id\",\"status\",\"datetime\"]]\n",
    "print(df_merge.shape)\n",
    "df_merge.head(3)"
   ],
   "outputs": [
    {
     "output_type": "stream",
     "name": "stdout",
     "text": [
      "(2628826, 3)\n"
     ]
    },
    {
     "output_type": "execute_result",
     "data": {
      "text/html": [
       "<div>\n",
       "<style scoped>\n",
       "    .dataframe tbody tr th:only-of-type {\n",
       "        vertical-align: middle;\n",
       "    }\n",
       "\n",
       "    .dataframe tbody tr th {\n",
       "        vertical-align: top;\n",
       "    }\n",
       "\n",
       "    .dataframe thead th {\n",
       "        text-align: right;\n",
       "    }\n",
       "</style>\n",
       "<table border=\"1\" class=\"dataframe\">\n",
       "  <thead>\n",
       "    <tr style=\"text-align: right;\">\n",
       "      <th></th>\n",
       "      <th>st_marker_id</th>\n",
       "      <th>status</th>\n",
       "      <th>datetime</th>\n",
       "    </tr>\n",
       "  </thead>\n",
       "  <tbody>\n",
       "    <tr>\n",
       "      <th>0</th>\n",
       "      <td>1114E</td>\n",
       "      <td>Unoccupied</td>\n",
       "      <td>2021-08-26 19:39:52+00:00</td>\n",
       "    </tr>\n",
       "    <tr>\n",
       "      <th>1</th>\n",
       "      <td>1114E</td>\n",
       "      <td>Unoccupied</td>\n",
       "      <td>2021-08-26 19:54:53+00:00</td>\n",
       "    </tr>\n",
       "    <tr>\n",
       "      <th>2</th>\n",
       "      <td>1114E</td>\n",
       "      <td>Unoccupied</td>\n",
       "      <td>2021-08-26 20:09:53+00:00</td>\n",
       "    </tr>\n",
       "  </tbody>\n",
       "</table>\n",
       "</div>"
      ],
      "text/plain": [
       "  st_marker_id      status                  datetime\n",
       "0        1114E  Unoccupied 2021-08-26 19:39:52+00:00\n",
       "1        1114E  Unoccupied 2021-08-26 19:54:53+00:00\n",
       "2        1114E  Unoccupied 2021-08-26 20:09:53+00:00"
      ]
     },
     "metadata": {},
     "execution_count": 19
    }
   ],
   "metadata": {}
  }
 ],
 "metadata": {
  "orig_nbformat": 4,
  "language_info": {
   "name": "python",
   "version": "3.7.11",
   "mimetype": "text/x-python",
   "codemirror_mode": {
    "name": "ipython",
    "version": 3
   },
   "pygments_lexer": "ipython3",
   "nbconvert_exporter": "python",
   "file_extension": ".py"
  },
  "kernelspec": {
   "name": "python3",
   "display_name": "Python 3.7.11 64-bit"
  },
  "interpreter": {
   "hash": "fd69f43f58546b570e94fd7eba7b65e6bcc7a5bbc4eab0408017d18902915d69"
  }
 },
 "nbformat": 4,
 "nbformat_minor": 2
}