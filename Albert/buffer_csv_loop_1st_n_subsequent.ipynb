{
 "cells": [
  {
   "cell_type": "code",
   "execution_count": 12,
   "source": [
    "# buffer loop (1st read and write buffer, plus subsequent read and append buffer)\n",
    "\n",
    "import os\n",
    "import time\n",
    "from datetime import datetime\n",
    "import pandas as pd\n",
    "from sodapy import Socrata\n",
    "\n",
    "apptoken = os.environ.get(\"<apptokenhere>\")\n",
    "domain = \"data.melbourne.vic.gov.au\"\n",
    "client = Socrata(domain, apptoken)\n",
    "\n",
    "interval, hours = 15, 1*24*7*6\n",
    "runs = int(hours*(60/interval))\n",
    "ds_id, ds_no = 'vh2v-4nfs', \"003\"\n",
    "ds_fname = os.path.join('datasets', ds_no+\"_\"+ds_id+\"__bufferred\"+\".csv\")\n",
    "uq_fname = os.path.join('datasets', ds_no+\"_\"+ds_id+\"__uniqueBays\"+\".csv\")\n",
    "ds_col1 = ['st_marker_id', 'status']\n",
    "ds_col2 = ['bay_id', 'st_marker_id', 'lat', 'lon']\n",
    "log_fname = os.path.join('datasets', ds_no+\"_\"+ds_id+\"__log\"+\".txt\")\n",
    "for i in range(runs):\n",
    "    r1 = client.get_all(ds_id)  # get snapshot of dataset using sodapy api\n",
    "    df_temp = pd.DataFrame.from_dict(r1)  # read dict to dataframe\n",
    "    df_temp1 = df_temp[ds_col1]\n",
    "    df_temp2 = df_temp[ds_col2]\n",
    "    df_temp1['db_read_time'] = datetime.now()  # add timestampe column\n",
    "    if i == 0:\n",
    "        df_temp1.to_csv(ds_fname, mode='w', header=True, index=False)  # first write\n",
    "        df_temp2.to_csv(uq_fname, mode='w', header=True, index=False)\n",
    "        o = open(log_fname,'w')\n",
    "        print(f\"{datetime.now()}, dataset retrieved and written to csv\", file=o)\n",
    "        print(f\"{datetime.now()}, unique parking bays csv written\", file=o)\n",
    "        o.close()\n",
    "    else:\n",
    "        df_temp1.to_csv(ds_fname, mode='a', header=False, index=False)  # subsequent append to csv\n",
    "        df_temp2prev = pd.read_csv(uq_fname)\n",
    "        df_temp2new = pd.concat([df_temp2prev, df_temp2], axis='index').drop_duplicates(subset=['st_marker_id'])\n",
    "        df_temp2new.to_csv(uq_fname, mode='w', header=True, index=False)\n",
    "        o = open(log_fname,'a')\n",
    "        print(f\"{datetime.now()}, dataset retrieved and appended to csv\", file=o)\n",
    "        print(f\"{datetime.now()}, unique parking bays csv updated\", file=o)\n",
    "        o.close()\n",
    "    time.sleep(60*interval)  # sleep 15min before next read and append"
   ],
   "outputs": [
    {
     "output_type": "stream",
     "name": "stderr",
     "text": [
      "WARNING:root:Requests made without an app_token will be subject to strict throttling limits.\n",
      "<ipython-input-12-be1d06d613cf>:24: SettingWithCopyWarning: \n",
      "A value is trying to be set on a copy of a slice from a DataFrame.\n",
      "Try using .loc[row_indexer,col_indexer] = value instead\n",
      "\n",
      "See the caveats in the documentation: https://pandas.pydata.org/pandas-docs/stable/user_guide/indexing.html#returning-a-view-versus-a-copy\n",
      "  df_temp1['db_read_time'] = datetime.now()  # add timestampe column\n"
     ]
    }
   ],
   "metadata": {}
  }
 ],
 "metadata": {
  "orig_nbformat": 4,
  "language_info": {
   "name": "python",
   "version": "3.7.11",
   "mimetype": "text/x-python",
   "codemirror_mode": {
    "name": "ipython",
    "version": 3
   },
   "pygments_lexer": "ipython3",
   "nbconvert_exporter": "python",
   "file_extension": ".py"
  },
  "kernelspec": {
   "name": "python3",
   "display_name": "Python 3.7.11 64-bit"
  },
  "interpreter": {
   "hash": "fd69f43f58546b570e94fd7eba7b65e6bcc7a5bbc4eab0408017d18902915d69"
  }
 },
 "nbformat": 4,
 "nbformat_minor": 2
}