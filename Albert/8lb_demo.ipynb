{
 "cells": [
  {
   "attachments": {},
   "cell_type": "markdown",
   "metadata": {},
   "source": [
    "# The 3 datasets that make up the live Parking Sensors data \n",
    "<img src=\"img/parkingSensors_trio.JPG\"/>"
   ]
  },
  {
   "cell_type": "code",
   "execution_count": 45,
   "metadata": {},
   "outputs": [
    {
     "name": "stderr",
     "output_type": "stream",
     "text": [
      "WARNING:root:Requests made without an app_token will be subject to strict throttling limits.\n"
     ]
    }
   ],
   "source": [
    "import os\n",
    "import pandas as pd\n",
    "import matplotlib.pyplot as plt\n",
    "import seaborn as sns\n",
    "import geopandas\n",
    "from shapely.geometry import Polygon\n",
    "from sodapy import Socrata\n",
    "from d2i_tools import *\n",
    "\n",
    "apptoken = os.environ.get(\"SODAPY_APPTOKEN\")\n",
    "domain = \"data.melbourne.vic.gov.au\"\n",
    "\n",
    "client = Socrata(domain, apptoken)"
   ]
  },
  {
   "cell_type": "markdown",
   "metadata": {},
   "source": [
    "## [01] Randomly generate history of parking status data mimic real data"
   ]
  },
  {
   "cell_type": "code",
   "execution_count": 4,
   "metadata": {},
   "outputs": [
    {
     "name": "stdout",
     "output_type": "stream",
     "text": [
      "Generated 3030912 records between 2021-08-03 15:16:23 and 2021-09-02 15:01:23\n",
      "(with drop rate of 0.7, to simulate missing status records in real data).\n",
      "There are 2880 time periods over 31 days\n",
      "(frequency of time period = 15min).\n",
      "\n",
      "shape of artificially random generated data is (3030912, 3)\n"
     ]
    },
    {
     "data": {
      "text/html": [
       "<div>\n",
       "<style scoped>\n",
       "    .dataframe tbody tr th:only-of-type {\n",
       "        vertical-align: middle;\n",
       "    }\n",
       "\n",
       "    .dataframe tbody tr th {\n",
       "        vertical-align: top;\n",
       "    }\n",
       "\n",
       "    .dataframe thead th {\n",
       "        text-align: right;\n",
       "    }\n",
       "</style>\n",
       "<table border=\"1\" class=\"dataframe\">\n",
       "  <thead>\n",
       "    <tr style=\"text-align: right;\">\n",
       "      <th></th>\n",
       "      <th>bay_id</th>\n",
       "      <th>db_read_time</th>\n",
       "      <th>status</th>\n",
       "    </tr>\n",
       "  </thead>\n",
       "  <tbody>\n",
       "    <tr>\n",
       "      <th>0</th>\n",
       "      <td>1868</td>\n",
       "      <td>2021-08-03 15:16:23</td>\n",
       "      <td>Unoccupied</td>\n",
       "    </tr>\n",
       "    <tr>\n",
       "      <th>1</th>\n",
       "      <td>3350</td>\n",
       "      <td>2021-08-03 15:16:23</td>\n",
       "      <td>Present</td>\n",
       "    </tr>\n",
       "    <tr>\n",
       "      <th>2</th>\n",
       "      <td>3861</td>\n",
       "      <td>2021-08-03 15:16:23</td>\n",
       "      <td>Present</td>\n",
       "    </tr>\n",
       "  </tbody>\n",
       "</table>\n",
       "</div>"
      ],
      "text/plain": [
       "   bay_id        db_read_time      status\n",
       "0    1868 2021-08-03 15:16:23  Unoccupied\n",
       "1    3350 2021-08-03 15:16:23     Present\n",
       "2    3861 2021-08-03 15:16:23     Present"
      ]
     },
     "execution_count": 4,
     "metadata": {},
     "output_type": "execute_result"
    }
   ],
   "source": [
    "# specify end date time, time interval of records, periods (number of time intervals)\n",
    "# first bay id, last bay id, and a drop rate (between 0 and 1) of how much to drop in dfg\n",
    "\n",
    "dfgh = genPSdata(\"2021-09-02 15:01:23\", \"15min\", (30*24*4), 995, 4502, dropRate=0.7)\n",
    "print(f\"\\nshape of artificially random generated data is {dfgh.shape}\")\n",
    "dfgh.head(3)"
   ]
  },
  {
   "cell_type": "code",
   "execution_count": 8,
   "metadata": {},
   "outputs": [
    {
     "data": {
      "text/plain": [
       "1063"
      ]
     },
     "execution_count": 8,
     "metadata": {},
     "output_type": "execute_result"
    }
   ],
   "source": [
    "# check how many bays in this time interval\n",
    "(dfgh['db_read_time']==\"2021-08-04 15:16:23\").sum()"
   ]
  },
  {
   "cell_type": "markdown",
   "metadata": {},
   "source": [
    "## [02] Read in a short history of some real data"
   ]
  },
  {
   "cell_type": "code",
   "execution_count": 9,
   "metadata": {
    "scrolled": true
   },
   "outputs": [
    {
     "name": "stdout",
     "output_type": "stream",
     "text": [
      "shape of read in historical data is (612214, 3)\n"
     ]
    },
    {
     "data": {
      "text/html": [
       "<div>\n",
       "<style scoped>\n",
       "    .dataframe tbody tr th:only-of-type {\n",
       "        vertical-align: middle;\n",
       "    }\n",
       "\n",
       "    .dataframe tbody tr th {\n",
       "        vertical-align: top;\n",
       "    }\n",
       "\n",
       "    .dataframe thead th {\n",
       "        text-align: right;\n",
       "    }\n",
       "</style>\n",
       "<table border=\"1\" class=\"dataframe\">\n",
       "  <thead>\n",
       "    <tr style=\"text-align: right;\">\n",
       "      <th></th>\n",
       "      <th>st_marker_id</th>\n",
       "      <th>status</th>\n",
       "      <th>db_read_time</th>\n",
       "    </tr>\n",
       "  </thead>\n",
       "  <tbody>\n",
       "    <tr>\n",
       "      <th>0</th>\n",
       "      <td>15197S</td>\n",
       "      <td>Present</td>\n",
       "      <td>2021-08-27 19:20:18.571722</td>\n",
       "    </tr>\n",
       "    <tr>\n",
       "      <th>1</th>\n",
       "      <td>15199S</td>\n",
       "      <td>Unoccupied</td>\n",
       "      <td>2021-08-27 19:20:18.571722</td>\n",
       "    </tr>\n",
       "    <tr>\n",
       "      <th>2</th>\n",
       "      <td>13040N</td>\n",
       "      <td>Unoccupied</td>\n",
       "      <td>2021-08-27 19:20:18.571722</td>\n",
       "    </tr>\n",
       "  </tbody>\n",
       "</table>\n",
       "</div>"
      ],
      "text/plain": [
       "  st_marker_id      status                db_read_time\n",
       "0       15197S     Present  2021-08-27 19:20:18.571722\n",
       "1       15199S  Unoccupied  2021-08-27 19:20:18.571722\n",
       "2       13040N  Unoccupied  2021-08-27 19:20:18.571722"
      ]
     },
     "execution_count": 9,
     "metadata": {},
     "output_type": "execute_result"
    }
   ],
   "source": [
    "dfrh = pd.read_csv(\"datasets/003_vh2v-4nfs__bufferred.csv\")\n",
    "print(f\"shape of read in historical data is {dfrh.shape}\")\n",
    "dfrh.head(3)"
   ]
  },
  {
   "cell_type": "code",
   "execution_count": 10,
   "metadata": {
    "scrolled": true
   },
   "outputs": [
    {
     "data": {
      "text/plain": [
       "1035"
      ]
     },
     "execution_count": 10,
     "metadata": {},
     "output_type": "execute_result"
    }
   ],
   "source": [
    "# check how many bays in this time interval\n",
    "(dfrh['db_read_time']==\"2021-08-27 19:20:18.571722\").sum()"
   ]
  },
  {
   "cell_type": "markdown",
   "metadata": {},
   "source": [
    "## [03] Show current parking sensors status statistics"
   ]
  },
  {
   "cell_type": "code",
   "execution_count": 11,
   "metadata": {},
   "outputs": [
    {
     "name": "stdout",
     "output_type": "stream",
     "text": [
      "Number of current status records of parking sensors read : 1258\n",
      "Number of current available parking bays : 548 (43.6% of total)\n",
      "Number of current unavailable parking bays : 710 (56.4% of total)\n"
     ]
    },
    {
     "data": {
      "text/plain": [
       "(1258, 548, 710)"
      ]
     },
     "execution_count": 11,
     "metadata": {},
     "output_type": "execute_result"
    }
   ],
   "source": [
    "r1 = client.get_all('vh2v-4nfs')\n",
    "dfrc = pd.DataFrame.from_dict(r1)\n",
    "\n",
    "getCurrentPSstatus(dfrc)"
   ]
  },
  {
   "cell_type": "markdown",
   "metadata": {},
   "source": [
    "## [04] Turn historical parking status data into resampled pivoted data"
   ]
  },
  {
   "cell_type": "code",
   "execution_count": 15,
   "metadata": {
    "scrolled": true
   },
   "outputs": [
    {
     "name": "stdout",
     "output_type": "stream",
     "text": [
      "shape of resampled pivoted data is (13, 2)\n"
     ]
    },
    {
     "data": {
      "text/html": [
       "<div>\n",
       "<style scoped>\n",
       "    .dataframe tbody tr th:only-of-type {\n",
       "        vertical-align: middle;\n",
       "    }\n",
       "\n",
       "    .dataframe tbody tr th {\n",
       "        vertical-align: top;\n",
       "    }\n",
       "\n",
       "    .dataframe thead th {\n",
       "        text-align: right;\n",
       "    }\n",
       "</style>\n",
       "<table border=\"1\" class=\"dataframe\">\n",
       "  <thead>\n",
       "    <tr style=\"text-align: right;\">\n",
       "      <th></th>\n",
       "      <th>Present</th>\n",
       "      <th>Unoccupied</th>\n",
       "    </tr>\n",
       "    <tr>\n",
       "      <th>time_interval</th>\n",
       "      <th></th>\n",
       "      <th></th>\n",
       "    </tr>\n",
       "  </thead>\n",
       "  <tbody>\n",
       "    <tr>\n",
       "      <th>2021-09-01 10:00:00</th>\n",
       "      <td>729.0</td>\n",
       "      <td>411.0</td>\n",
       "    </tr>\n",
       "    <tr>\n",
       "      <th>2021-09-01 12:00:00</th>\n",
       "      <td>721.0</td>\n",
       "      <td>424.0</td>\n",
       "    </tr>\n",
       "    <tr>\n",
       "      <th>2021-09-01 14:00:00</th>\n",
       "      <td>662.0</td>\n",
       "      <td>537.0</td>\n",
       "    </tr>\n",
       "  </tbody>\n",
       "</table>\n",
       "</div>"
      ],
      "text/plain": [
       "                     Present  Unoccupied\n",
       "time_interval                           \n",
       "2021-09-01 10:00:00    729.0       411.0\n",
       "2021-09-01 12:00:00    721.0       424.0\n",
       "2021-09-01 14:00:00    662.0       537.0"
      ]
     },
     "execution_count": 15,
     "metadata": {},
     "output_type": "execute_result"
    },
    {
     "data": {
      "image/png": "[encoded data removed]",
      "text/plain": [
       "<Figure size 432x288 with 1 Axes>"
      ]
     },
     "metadata": {
      "needs_background": "light"
     },
     "output_type": "display_data"
    }
   ],
   "source": [
    "# use the little real logged historical data in dfrh to try shorter periods\n",
    "# bin specifies resampling frequency (\"15min\", \"1H, \"1D\", \"1W\", \"1M\")\n",
    "# bin_stat specifies resampled statistic for each resampled time interval\n",
    "\n",
    "startdt = \"2021-09-01 11:00:00\"\n",
    "enddt = \"2021-09-2 11:00:00\"\n",
    "\n",
    "dfts1 = timeIntStats(dfrh, startdt, enddt, bin=\"2H\", bin_stat=\"median\")\n",
    "print(f\"shape of resampled pivoted data is {dfts1.shape}\")\n",
    "\n",
    "dfts1.Present.plot(kind='bar',color='red', alpha=0.3)\n",
    "dfts1.Unoccupied.plot(kind='bar',alpha=0.3)\n",
    "\n",
    "dfts1.head(3)"
   ]
  },
  {
   "cell_type": "code",
   "execution_count": 22,
   "metadata": {},
   "outputs": [
    {
     "name": "stdout",
     "output_type": "stream",
     "text": [
      "shape of resampled pivoted data is (7, 2)\n"
     ]
    },
    {
     "data": {
      "text/html": [
       "<div>\n",
       "<style scoped>\n",
       "    .dataframe tbody tr th:only-of-type {\n",
       "        vertical-align: middle;\n",
       "    }\n",
       "\n",
       "    .dataframe tbody tr th {\n",
       "        vertical-align: top;\n",
       "    }\n",
       "\n",
       "    .dataframe thead th {\n",
       "        text-align: right;\n",
       "    }\n",
       "</style>\n",
       "<table border=\"1\" class=\"dataframe\">\n",
       "  <thead>\n",
       "    <tr style=\"text-align: right;\">\n",
       "      <th></th>\n",
       "      <th>Present</th>\n",
       "      <th>Unoccupied</th>\n",
       "    </tr>\n",
       "    <tr>\n",
       "      <th>time_interval</th>\n",
       "      <th></th>\n",
       "      <th></th>\n",
       "    </tr>\n",
       "  </thead>\n",
       "  <tbody>\n",
       "    <tr>\n",
       "      <th>2021-08-27</th>\n",
       "      <td>237.5</td>\n",
       "      <td>805.0</td>\n",
       "    </tr>\n",
       "    <tr>\n",
       "      <th>2021-08-28</th>\n",
       "      <td>275.5</td>\n",
       "      <td>750.5</td>\n",
       "    </tr>\n",
       "    <tr>\n",
       "      <th>2021-08-29</th>\n",
       "      <td>277.5</td>\n",
       "      <td>894.0</td>\n",
       "    </tr>\n",
       "  </tbody>\n",
       "</table>\n",
       "</div>"
      ],
      "text/plain": [
       "               Present  Unoccupied\n",
       "time_interval                     \n",
       "2021-08-27       237.5       805.0\n",
       "2021-08-28       275.5       750.5\n",
       "2021-08-29       277.5       894.0"
      ]
     },
     "execution_count": 22,
     "metadata": {},
     "output_type": "execute_result"
    },
    {
     "data": {
      "image/png": "[encoded data removed]",
      "text/plain": [
       "<Figure size 432x288 with 1 Axes>"
      ]
     },
     "metadata": {
      "needs_background": "light"
     },
     "output_type": "display_data"
    }
   ],
   "source": [
    "# use more abundant randomly generated data in dfgh to try out longer periods\n",
    "\n",
    "startdt = \"2021-08-27 21:00:00\"\n",
    "enddt = \"2021-09-02 11:00:00\"\n",
    "\n",
    "# dfts2 = timeIntStats(dfgh, startdt, enddt, bin=\"1D\", bin_stat=\"median\")\n",
    "dfts2 = timeIntStats(dfrh, startdt, enddt, bin=\"1D\", bin_stat=\"median\")\n",
    "\n",
    "print(f\"shape of resampled pivoted data is {dfts2.shape}\")\n",
    "\n",
    "dfts2.Present.plot(kind='line',color='red', alpha=0.3)\n",
    "dfts2.Unoccupied.plot(kind='line',alpha=0.3)\n",
    "\n",
    "dfts2.head(3)"
   ]
  },
  {
   "cell_type": "markdown",
   "metadata": {},
   "source": [
    "## [05] Filter data with id(s)"
   ]
  },
  {
   "cell_type": "code",
   "execution_count": 23,
   "metadata": {},
   "outputs": [
    {
     "name": "stdout",
     "output_type": "stream",
     "text": [
      "shape of filtered data is (873, 3)\n"
     ]
    },
    {
     "data": {
      "text/html": [
       "<div>\n",
       "<style scoped>\n",
       "    .dataframe tbody tr th:only-of-type {\n",
       "        vertical-align: middle;\n",
       "    }\n",
       "\n",
       "    .dataframe tbody tr th {\n",
       "        vertical-align: top;\n",
       "    }\n",
       "\n",
       "    .dataframe thead th {\n",
       "        text-align: right;\n",
       "    }\n",
       "</style>\n",
       "<table border=\"1\" class=\"dataframe\">\n",
       "  <thead>\n",
       "    <tr style=\"text-align: right;\">\n",
       "      <th></th>\n",
       "      <th>st_marker_id</th>\n",
       "      <th>status</th>\n",
       "      <th>db_read_time</th>\n",
       "    </tr>\n",
       "  </thead>\n",
       "  <tbody>\n",
       "    <tr>\n",
       "      <th>1</th>\n",
       "      <td>15199S</td>\n",
       "      <td>Unoccupied</td>\n",
       "      <td>2021-08-27 19:20:18.571722</td>\n",
       "    </tr>\n",
       "    <tr>\n",
       "      <th>2</th>\n",
       "      <td>13040N</td>\n",
       "      <td>Unoccupied</td>\n",
       "      <td>2021-08-27 19:20:18.571722</td>\n",
       "    </tr>\n",
       "    <tr>\n",
       "      <th>1036</th>\n",
       "      <td>15199S</td>\n",
       "      <td>Unoccupied</td>\n",
       "      <td>2021-08-27 19:35:22.087833</td>\n",
       "    </tr>\n",
       "  </tbody>\n",
       "</table>\n",
       "</div>"
      ],
      "text/plain": [
       "     st_marker_id      status               db_read_time\n",
       "1          15199S  Unoccupied 2021-08-27 19:20:18.571722\n",
       "2          13040N  Unoccupied 2021-08-27 19:20:18.571722\n",
       "1036       15199S  Unoccupied 2021-08-27 19:35:22.087833"
      ]
     },
     "execution_count": 23,
     "metadata": {},
     "output_type": "execute_result"
    }
   ],
   "source": [
    "# the id_lst can be the result of a geo-filter\n",
    "# the filtered data then be used by other functions\n",
    "\n",
    "id_lst = [\"13040N\", \"15199S\", \"13040N\"]\n",
    "\n",
    "df_filtered = filterById(id_lst, \"st_marker_id\", dfrh)\n",
    "print(f\"shape of filtered data is {df_filtered.shape}\")\n",
    "\n",
    "df_filtered.head(3)"
   ]
  },
  {
   "cell_type": "code",
   "execution_count": null,
   "metadata": {},
   "outputs": [],
   "source": []
  },
  {
   "cell_type": "markdown",
   "metadata": {},
   "source": [
    "## [06] Geo-filter Parking Bays with a polygon"
   ]
  },
  {
   "cell_type": "code",
   "execution_count": 38,
   "metadata": {
    "scrolled": true
   },
   "outputs": [
    {
     "name": "stdout",
     "output_type": "stream",
     "text": [
      "shape of read in base list gdf is (5895, 7)\n",
      "\n",
      "  rd_seg_id marker_id                                         rd_seg_dsc  \\\n",
      "0     23247     C5010  Queen Street between Therry Street and Victori...   \n",
      "1     23247     4999W  Queen Street between Therry Street and Victori...   \n",
      "2     20173     1114E  Queen Street between Little Collins Street and...   \n",
      "\n",
      "        lati        long   area_m2                     geometry  \n",
      "0 -37.806447  144.958202  9.388646  POINT (144.95820 -37.80645)  \n",
      "1 -37.806586  144.958043  8.148094  POINT (144.95804 -37.80659)  \n",
      "2 -37.815324  144.960975  6.970730  POINT (144.96098 -37.81532)  \n",
      "\n",
      "----------------\n",
      "shape of geo-filtered gdf is (420, 7)\n",
      "\n",
      "  rd_seg_id marker_id                                         rd_seg_dsc  \\\n",
      "0     23247     C5010  Queen Street between Therry Street and Victori...   \n",
      "1     23247     4999W  Queen Street between Therry Street and Victori...   \n",
      "4     23247     4995W  Queen Street between Therry Street and Victori...   \n",
      "\n",
      "        lati        long   area_m2                     geometry  \n",
      "0 -37.806447  144.958202  9.388646  POINT (144.95820 -37.80645)  \n",
      "1 -37.806586  144.958043  8.148094  POINT (144.95804 -37.80659)  \n",
      "4 -37.806634  144.958034  8.268456  POINT (144.95803 -37.80663)  \n"
     ]
    }
   ],
   "source": [
    "# set polygon to geo-filter geometries that are within\n",
    "lat1, lon1 = -37.81192120679105, 144.95628148775384\n",
    "lat2, lon2 = -37.81036832849929, 144.9616049327078\n",
    "lat3, lon3 = -37.806134720609734, 144.95972125218563\n",
    "lat4, lon4 = -37.805700253666316, 144.95569649380283\n",
    "lat5, lon5 = -37.80921289191341, 144.95508810009383\n",
    "polygon = Polygon([(lon1, lat1), (lon2, lat2), (lon3, lat3), (lon4, lat4), (lon5, lat5)])\n",
    "\n",
    "# save created polygon as geojson to visualise on map\n",
    "gdf_poly = geopandas.GeoSeries([polygon], crs=\"EPSG:4326\")\n",
    "gdf_poly.to_file(\"datasets/polygon.geojson\", driver=\"GeoJSON\")\n",
    "\n",
    "# read in parking sensors data and geometries from our extracted geojson base list\n",
    "gdf = geopandas.read_file(\"datasets/onStreetParkingBays_baselist_bayCentroid.geojson\")\n",
    "print(f\"shape of read in base list gdf is {gdf.shape}\\n\")\n",
    "print(gdf.head(3))\n",
    "\n",
    "# filter use polygon, and save filtered sensors as geojson to viualise on map\n",
    "gdf_geofiltered = geoPolyClip(gdf, polygon)\n",
    "print(f\"\\n----------------\\nshape of geo-filtered gdf is {gdf_geofiltered.shape}\\n\")\n",
    "print(gdf_geofiltered.head(3))\n",
    "gdf_geofiltered.to_file(\"datasets/geofiltered_data.geojson\", driver=\"GeoJSON\")"
   ]
  },
  {
   "cell_type": "markdown",
   "metadata": {},
   "source": [
    "## [07] Geo filter marker ids (of parking bays) using Miriam's circle"
   ]
  },
  {
   "cell_type": "code",
   "execution_count": 31,
   "metadata": {},
   "outputs": [
    {
     "name": "stdout",
     "output_type": "stream",
     "text": [
      "shape of base list data is (5895, 7)\n",
      "shape of circle filtered data is (159, 7)\n"
     ]
    }
   ],
   "source": [
    "# specify Miriam's filtering circle\n",
    "pin = (-37.812389676018476, 144.95817254056357)  # centre of Little Lonsdale St (btw William St & Queen St)\n",
    "radius_m = 150  # radius in metres\n",
    "\n",
    "# load parking bays base list as gdf\n",
    "gdf_baselist = geopandas.read_file(\"datasets/onStreetParkingBays_baselist_bayCentroid.geojson\")  # base list of 5895 marker ids\n",
    "print(f\"shape of base list gdf is {gdf_baselist.shape}\")\n",
    "\n",
    "# filter base list with Miriam's circle\n",
    "lst_marker_ids = geoCirFilter(gdf_baselist,pin,radius_m)\n",
    "\n",
    "# use fitlered list of marker ids to get geopandas records to visualise on map\n",
    "gdf_filtered = filterById(lst_marker_ids, \"marker_id\", gdf_baselist)\n",
    "print(f\"shape of Miriam's circle filtered gdf is {gdf_filtered.shape}\")\n",
    "\n",
    "# save filtered geopandas records to geojson .. so it can be viewed on map\n",
    "gdf_filtered.to_file(\"datasets/circledData.geojson\", driver=\"GeoJSON\")"
   ]
  },
  {
   "cell_type": "code",
   "execution_count": 41,
   "metadata": {},
   "outputs": [
    {
     "data": {
      "text/plain": [
       "144.95817254056357"
      ]
     },
     "execution_count": 41,
     "metadata": {},
     "output_type": "execute_result"
    }
   ],
   "source": [
    "pin[1]"
   ]
  },
  {
   "cell_type": "markdown",
   "metadata": {},
   "source": [
    "## [08] Geo filter marker ids (of parking bays using Albert's circle"
   ]
  },
  {
   "cell_type": "code",
   "execution_count": 52,
   "metadata": {},
   "outputs": [
    {
     "name": "stdout",
     "output_type": "stream",
     "text": [
      "shape of base list gdf is (5895, 7)\n",
      "shape of Albert's circle filtered gdf is (159, 7)\n"
     ]
    }
   ],
   "source": [
    "# specify Albert's filtering circle\n",
    "pin = (-37.812389676018476, 144.95817254056357)  # centre of Little Lonsdale St (btw William St & Queen St)\n",
    "radius_m = 150  # radius in metres\n",
    "\n",
    "# save created polygon as geojson to visualise on map\n",
    "circlePoly = cirp(pin[0], pin[1], radius_m)\n",
    "gdf_circlePoly = geopandas.GeoSeries([circlePoly], crs=\"EPSG:4326\")\n",
    "gdf_circlePoly.to_file(\"datasets/circlePoly.geojson\", driver=\"GeoJSON\")\n",
    "\n",
    "# load parking bays base list as gdf\n",
    "gdf_baselist = geopandas.read_file(\"datasets/onStreetParkingBays_baselist_bayCentroid.geojson\")  # base list of 5895 marker ids\n",
    "print(f\"shape of base list gdf is {gdf_baselist.shape}\")\n",
    "\n",
    "# filter base list with Albert's circle to get geopandas records to visualise on map\n",
    "gdf_filtered2 = geoCirClip(gdf_baselist,pin[0],pin[1],radius_m)\n",
    "print(f\"shape of Albert's circle filtered gdf is {gdf_filtered2.shape}\")\n",
    "\n",
    "# save filtered geopandas records to geojson .. so it can be viewed on map\n",
    "gdf_filtered2.to_file(\"datasets/circledData2.geojson\", driver=\"GeoJSON\")"
   ]
  }
 ],
 "metadata": {
  "interpreter": {
   "hash": "fd69f43f58546b570e94fd7eba7b65e6bcc7a5bbc4eab0408017d18902915d69"
  },
  "kernelspec": {
   "display_name": "Python 3",
   "language": "python",
   "name": "python3"
  },
  "language_info": {
   "codemirror_mode": {
    "name": "ipython",
    "version": 3
   },
   "file_extension": ".py",
   "mimetype": "text/x-python",
   "name": "python",
   "nbconvert_exporter": "python",
   "pygments_lexer": "ipython3",
   "version": "3.7.11"
  }
 },
 "nbformat": 4,
 "nbformat_minor": 2
}
