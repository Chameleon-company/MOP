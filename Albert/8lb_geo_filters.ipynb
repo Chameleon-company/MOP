{
 "cells": [
  {
   "cell_type": "code",
   "execution_count": 16,
   "id": "interim-summer",
   "metadata": {},
   "outputs": [],
   "source": [
    "import math\n",
    "\n",
    "# use of Haversin formula from:\n",
    "# https://www.kite.com/python/answers/how-to-find-the-distance-between-two-lat-long-coordinates-in-python\n",
    "\n",
    "def geodist1(lat1,lon1,lat2,lon2):\n",
    "    R = 6373.0  # radius of the Earth (assume Earth spherical)\n",
    "\n",
    "    la1 = math.radians(lat1)\n",
    "    lo1 = math.radians(lon1)\n",
    "    la2 = math.radians(lat2)\n",
    "    lo2 = math.radians(lon2)\n",
    "\n",
    "    dlon = lo2 - lo1\n",
    "    dlat = la2 - la1\n",
    "\n",
    "    # Haversine formula\n",
    "    a = math.sin(dlat / 2)**2 + math.cos(la1) * math.cos(la2) * math.sin(dlon / 2)**2\n",
    "    c = 2 * math.atan2(math.sqrt(a), math.sqrt(1 - a))\n",
    "    d = R * c * 1000\n",
    "        \n",
    "#     return round(d,1)  # distance in metres\n",
    "    return d"
   ]
  },
  {
   "cell_type": "code",
   "execution_count": 17,
   "id": "accompanied-browser",
   "metadata": {},
   "outputs": [],
   "source": [
    "from geopy.distance import distance\n",
    "\n",
    "# use of geopy based on:\n",
    "# https://geopy.readthedocs.io/en/stable/#module-geopy.distance\n",
    "\n",
    "def geodist2(lat1,lon1,lat2,lon2):\n",
    "    coords_1 = (lat1,lon1)\n",
    "    coords_2 = (lat2,lon2)\n",
    "    d = distance(coords_1, coords_2).m\n",
    "    \n",
    "#     return round(d,1)  # distance in metres\n",
    "    return d\n",
    "\n"
   ]
  },
  {
   "cell_type": "code",
   "execution_count": 30,
   "id": "short-wallet",
   "metadata": {},
   "outputs": [
    {
     "name": "stdout",
     "output_type": "stream",
     "text": [
      "geodist1 using haversine formula :  864515.8 m\n",
      "geodist1 using geopy library :  866486.7 m\n"
     ]
    }
   ],
   "source": [
    "lat1 = 41.49038\n",
    "lon1 = -71.312796\n",
    "lat2 = 41.499498\n",
    "lon2 = -81.695791\n",
    "\n",
    "print(\"geodist1 using haversine formula : \", geodist1(lat1,lon1,lat2,lon2),\"m\")\n",
    "print(\"geodist1 using geopy library : \", geodist2(lat1,lon1,lat2,lon2),\"m\")"
   ]
  },
  {
   "cell_type": "code",
   "execution_count": 1,
   "id": "perfect-draft",
   "metadata": {},
   "outputs": [],
   "source": [
    "## develop some geo filters using geopandas below\n",
    "\n",
    "import numpy as np\n",
    "from sodapy import Socrata\n",
    "import geopandas\n",
    "import pandas as pd\n",
    "from shapely.geometry import Polygon, Point\n",
    "\n",
    "# https://geopandas.org/docs/reference/geoseries.html"
   ]
  },
  {
   "cell_type": "code",
   "execution_count": 2,
   "id": "alpha-hudson",
   "metadata": {},
   "outputs": [
    {
     "name": "stderr",
     "output_type": "stream",
     "text": [
      "ipykernel_launcher:6: UserWarning: Geometry is in a geographic CRS. Results from 'centroid' are likely incorrect. Use 'GeoSeries.to_crs()' to re-project geometries to a projected CRS before this operation.\n",
      "\n"
     ]
    }
   ],
   "source": [
    "# create base list of parking bays with marker ids from \"On-street Parking Bays\" dataset (crvt-b4kt)\n",
    "_gdf = geopandas.read_file(\"datasets/006_crvt-b4kt_dl_at__20210808_manual.geojson\")\n",
    "_gdf['last_edit'] = pd.to_datetime(_gdf['last_edit'])\n",
    "gdf_wgs84 = _gdf.sort_values(by='last_edit', ascending=False)\n",
    "\n",
    "gdf_wgs84['centroid'] = gdf_wgs84.centroid\n",
    "gdf_wgs84['lati'] = gdf_wgs84['centroid'].y  # coordinates from geojson polygon's centroids\n",
    "gdf_wgs84['long'] = gdf_wgs84['centroid'].x\n",
    "\n",
    "gdf_7842 = gdf_wgs84.to_crs(\"EPSG:7842\")  # convert to Australian CRS projection for metric calculations\n",
    "gdf_7842['area_m2'] = gdf_7842.area\n",
    "# to WGS84, use \"EPSG:4326\"\n",
    "\n",
    "gdf2 = gdf_wgs84.drop(columns=['bay_id','meter_id','last_edit'])\n",
    "gdf3 = gdf_7842[['area_m2']]\n",
    "gdf_ = pd.concat([gdf2, gdf3], axis='columns')\n",
    "gdf_ = gdf_.fillna(value=np.nan)\n",
    "gdf_ = gdf_[gdf_['marker_id'].notna()]  # keep only rows with marker id\n",
    "gdf_baselist = gdf_.drop_duplicates('marker_id')\n",
    "\n",
    "gdf_bl_poly = gdf_baselist.drop(columns='centroid')\n",
    "gdf_bl_cen = gdf_baselist.drop(columns='geometry').set_geometry('centroid')\n",
    "\n",
    "# problem saving to geojson with both 'geometry' and 'centroid' (both geometry)\n",
    "# so save per below\n",
    "gdf_baselist.to_csv('datasets/onStreetParkingBays_baselist.csv', index=False)\n",
    "gdf_bl_poly.to_file('datasets/onStreetParkingBays_baselist_bayPolygon.geojson', driver='GeoJSON')\n",
    "gdf_bl_cen.to_file('datasets/onStreetParkingBays_baselist_bayCentroid.geojson', driver='GeoJSON')"
   ]
  },
  {
   "cell_type": "code",
   "execution_count": 3,
   "id": "thousand-camera",
   "metadata": {},
   "outputs": [],
   "source": [
    "# set polygon to filter within\n",
    "lat1, lon1 = -37.81192120679105, 144.95628148775384\n",
    "lat2, lon2 = -37.81036832849929, 144.9616049327078\n",
    "lat3, lon3 = -37.806134720609734, 144.95972125218563\n",
    "lat4, lon4 = -37.805700253666316, 144.95569649380283\n",
    "lat5, lon5 = -37.80921289191341, 144.95508810009383\n",
    "\n",
    "polygon = Polygon([(lon1, lat1), (lon2, lat2), (lon3, lat3), (lon4, lat4), (lon5, lat5)])\n",
    "\n",
    "# clip base list with polygon .. and save clipped list to geojson\n",
    "# need to have 'pip install rtree' for below clip to work\n",
    "gdf_pb_polygon_clipped = geopandas.clip(gdf_bl_cen, polygon)\n",
    "gdf_pb_polygon_clipped.to_file('datasets/pb_polygon_clipped.geojson', driver='GeoJSON')  # open geojson from map viewer\n"
   ]
  },
  {
   "cell_type": "code",
   "execution_count": 4,
   "id": "retained-millennium",
   "metadata": {},
   "outputs": [],
   "source": [
    "# define function that is adapted from:\n",
    "# https://gis.stackexchange.com/questions/367496/plot-a-circle-with-a-given-radius-around-points-on-map-using-python\n",
    "# https://gis.stackexchange.com/questions/121256/creating-a-circle-with-radius-in-metres\n",
    "# don't understand below part\n",
    "#    local_azimuthal_projection = \"+proj=aeqd +R=6371000\n",
    "# so I may be off\n",
    "# but results seem not too far off .. so find out what above means and adjust\n",
    "# the 2 CRS I am switching between are \"EPSG:4326\" (WGS84 and lat lon) <--> \"EPSG:7842\" (Aust and metric)\n",
    "\n",
    "from functools import partial\n",
    "import pyproj\n",
    "from shapely.ops import transform\n",
    "\n",
    "def cirp(lat, lon, radius):  # radius in m\n",
    "    local_azimuthal_projection = \"+proj=aeqd +R=6371000 +units=m +lat_0={} +lon_0={}\".format(lat, lon)\n",
    "    \n",
    "    wgs84_to_aeqd = partial(\n",
    "        pyproj.transform,\n",
    "        pyproj.Proj(\"+proj=longlat +datum=WGS84 +no_defs\"),\n",
    "        pyproj.Proj(local_azimuthal_projection))\n",
    "    \n",
    "    aeqd_to_wgs84 = partial(\n",
    "        pyproj.transform,\n",
    "        pyproj.Proj(local_azimuthal_projection),\n",
    "        pyproj.Proj(\"+proj=longlat +datum=WGS84 +no_defs\"))\n",
    "\n",
    "    pin = Point(lon, lat)\n",
    "    point_transformed = transform(wgs84_to_aeqd, pin)\n",
    "    buffer = point_transformed.buffer(radius)\n",
    "    \n",
    "    circle_poly = transform(aeqd_to_wgs84, buffer)\n",
    "    return circle_poly"
   ]
  },
  {
   "cell_type": "code",
   "execution_count": 5,
   "id": "conventional-toner",
   "metadata": {},
   "outputs": [
    {
     "data": {
      "text/plain": [
       "(99, 7)"
      ]
     },
     "execution_count": 5,
     "metadata": {},
     "output_type": "execute_result"
    }
   ],
   "source": [
    "# set pin and radius in metres# set pin and radius in metres\n",
    "latp, lonp = -37.81192120679105, 144.95628148775384\n",
    "radius_metres = 200  #  too small radius will not filter any parking bays\n",
    "\n",
    "circle = cirp(latp, lonp, radius_metres)\n",
    "gdf_pb_circle_clipped = geopandas.clip(gdf_bl_cen, circle)\n",
    "gdf_pb_circle_clipped.to_file('datasets/pb_circle_clipped.geojson', driver='GeoJSON') # will error if writing empty gdf\n",
    "gdf_pb_circle_clipped.shape\n"
   ]
  },
  {
   "cell_type": "code",
   "execution_count": 1,
   "id": "legendary-elizabeth",
   "metadata": {},
   "outputs": [
    {
     "data": {
      "image/svg+xml": [
       "<svg xmlns=\"http://www.w3.org/2000/svg\" xmlns:xlink=\"http://www.w3.org/1999/xlink\" width=\"100.0\" height=\"100.0\" viewBox=\"144.95505207818312 -37.81291159577254 0.002458819141764934 0.001980777963083824\" preserveAspectRatio=\"xMinYMin meet\"><g transform=\"matrix(1,0,0,-1,0,-75.623842413582)\"><path fill-rule=\"evenodd\" fill=\"#66cc99\" stroke=\"#555555\" stroke-width=\"4.9176382835298684e-05\" opacity=\"0.6\" d=\"M 144.95741982994926,-37.81192120131395 L 144.95741434987298,-37.81200935029861 L 144.95739795967626,-37.812096650464085 L 144.95737081716817,-37.81218226105757 L 144.95733318371143,-37.81226535759497 L 144.95728542170653,-37.81234513980138 L 144.95722799110285,-37.8124208393186 L 144.95716144497007,-37.812491727105275 L 144.95708642417245,-37.81255712045845 L 144.9570036511974,-37.81261638958902 L 144.95691392319782,-37.812668963687436 L 144.95681810431472,-37.81271433642164 L 144.95671711735477,-37.81275207081374 L 144.95661193490247,-37.812781803448964 L 144.95650356995256,-37.81280324797597 L 144.95639306615325,-37.812816197864954 L 144.956281487754,-37.81282052839692 L 144.95616990935477,-37.812816197864954 L 144.95605940555546,-37.81280324797597 L 144.95595104060556,-37.812781803448964 L 144.95584585815325,-37.81275207081374 L 144.9557448711933,-37.81271433642164 L 144.95564905231018,-37.812668963687436 L 144.95555932431063,-37.81261638958902 L 144.95547655133558,-37.81255712045845 L 144.95540153053796,-37.812491727105275 L 144.95533498440514,-37.8124208393186 L 144.9552775538015,-37.81234513980138 L 144.95522979179657,-37.81226535759497 L 144.95519215833986,-37.81218226105757 L 144.95516501583177,-37.812096650464085 L 144.95514862563505,-37.81200935029861 L 144.95514314555874,-37.81192120131395 L 144.95514862834005,-37.81183305243454 L 144.95516502113784,-37.81174575258073 L 144.95519216604308,-37.81166014249338 L 144.95522980160095,-37.811577046637126 L 144.95527756533016,-37.811497265260684 L 144.95533499721518,-37.81142156669037 L 144.95540154413698,-37.81135067993115 L 144.95547656520105,-37.811285287646506 L 144.95555933790965,-37.81122601958445 L 144.9556490651202,-37.81117344651348 L 144.955744882722,-37.811128074726184 L 144.9558458679576,-37.81109034116406 L 144.95595104830878,-37.81106060920998 L 144.95605941086154,-37.81103916518911 L 144.95616991205978,-37.8110262156118 L 144.956281487754,-37.81102188518508 L 144.95639306344822,-37.8110262156118 L 144.95650356464648,-37.81103916518911 L 144.95661192719925,-37.81106060920998 L 144.95671710755042,-37.81109034116406 L 144.95681809278602,-37.811128074726184 L 144.9569139103878,-37.81117344651348 L 144.95700363759838,-37.81122601958445 L 144.95708641030697,-37.811285287646506 L 144.95716143137105,-37.81135067993115 L 144.95722797829285,-37.81142156669037 L 144.95728541017783,-37.811497265260684 L 144.95733317390707,-37.811577046637126 L 144.95737080946492,-37.81166014249338 L 144.95739795437018,-37.81174575258073 L 144.95741434716794,-37.81183305243454 L 144.95741982994926,-37.81192120131395 L 144.95741982994926,-37.81192120131395 z\" /></g></svg>"
      ],
      "text/plain": [
       "<shapely.geometry.polygon.Polygon at 0x7f9589d4d9d0>"
      ]
     },
     "execution_count": 1,
     "metadata": {},
     "output_type": "execute_result"
    }
   ],
   "source": [
    "from d2i_tools import *\n",
    "\n",
    "a = cirp(-37.81192120679105, 144.95628148775384, 100)\n",
    "a"
   ]
  },
  {
   "cell_type": "code",
   "execution_count": 2,
   "id": "pretty-spectrum",
   "metadata": {},
   "outputs": [
    {
     "data": {
      "text/plain": [
       "shapely.geometry.polygon.Polygon"
      ]
     },
     "execution_count": 2,
     "metadata": {},
     "output_type": "execute_result"
    }
   ],
   "source": [
    "type(a)"
   ]
  },
  {
   "cell_type": "code",
   "execution_count": 13,
   "id": "narrative-network",
   "metadata": {},
   "outputs": [],
   "source": [
    "# adapting Miriam's geo filter\n",
    "\n",
    "from geopy.distance import geodesic\n",
    "import numpy as np\n",
    "\n",
    "def geofilter(data,pin,n):\n",
    "    lst_marker_ids = []\n",
    "    j=0\n",
    "    for i in np.arange(0,data.shape[0]):\n",
    "        d = geodesic(pin, (data.lati[i],data.long[i])).meters\n",
    "        if d<=n:\n",
    "            lst_marker_ids.append(data.marker_id[i])\n",
    "            j=j+1\n",
    "        else:\n",
    "            continue\n",
    "    return lst_marker_ids"
   ]
  },
  {
   "cell_type": "code",
   "execution_count": 2,
   "id": "strategic-lingerie",
   "metadata": {},
   "outputs": [],
   "source": [
    "import geopandas\n",
    "\n",
    "pin = (-37.812389676018476, 144.95817254056357)  # centre of Little Lonsdale St (btw William St & Queen St)\n",
    "n = 100  # radius in metres\n",
    "gdf = geopandas.read_file(\"datasets/onStreetParkingBays_baselist_bayCentroid.geojson\")  # base list of 5895 marker ids\n"
   ]
  },
  {
   "cell_type": "code",
   "execution_count": 20,
   "id": "desirable-orientation",
   "metadata": {},
   "outputs": [],
   "source": [
    "filtered = geofilter(gdf,pin,200)"
   ]
  },
  {
   "cell_type": "code",
   "execution_count": 21,
   "id": "professional-psychiatry",
   "metadata": {},
   "outputs": [
    {
     "name": "stdout",
     "output_type": "stream",
     "text": [
      "shape of filtered data is (197, 7)\n"
     ]
    },
    {
     "data": {
      "text/html": [
       "<div>\n",
       "<style scoped>\n",
       "    .dataframe tbody tr th:only-of-type {\n",
       "        vertical-align: middle;\n",
       "    }\n",
       "\n",
       "    .dataframe tbody tr th {\n",
       "        vertical-align: top;\n",
       "    }\n",
       "\n",
       "    .dataframe thead th {\n",
       "        text-align: right;\n",
       "    }\n",
       "</style>\n",
       "<table border=\"1\" class=\"dataframe\">\n",
       "  <thead>\n",
       "    <tr style=\"text-align: right;\">\n",
       "      <th></th>\n",
       "      <th>rd_seg_id</th>\n",
       "      <th>marker_id</th>\n",
       "      <th>rd_seg_dsc</th>\n",
       "      <th>lati</th>\n",
       "      <th>long</th>\n",
       "      <th>area_m2</th>\n",
       "      <th>geometry</th>\n",
       "    </tr>\n",
       "  </thead>\n",
       "  <tbody>\n",
       "    <tr>\n",
       "      <th>38</th>\n",
       "      <td>20046</td>\n",
       "      <td>3507S</td>\n",
       "      <td>Little Lonsdale Street between William Street ...</td>\n",
       "      <td>-37.812944</td>\n",
       "      <td>144.956245</td>\n",
       "      <td>9.108119</td>\n",
       "      <td>POINT (144.95624 -37.81294)</td>\n",
       "    </tr>\n",
       "    <tr>\n",
       "      <th>203</th>\n",
       "      <td>20177</td>\n",
       "      <td>1268E</td>\n",
       "      <td>Queen Street between Little Lonsdale Street an...</td>\n",
       "      <td>-37.811624</td>\n",
       "      <td>144.959284</td>\n",
       "      <td>7.888399</td>\n",
       "      <td>POINT (144.95928 -37.81162)</td>\n",
       "    </tr>\n",
       "    <tr>\n",
       "      <th>218</th>\n",
       "      <td>20177</td>\n",
       "      <td>1272E</td>\n",
       "      <td>Queen Street between Little Lonsdale Street an...</td>\n",
       "      <td>-37.811577</td>\n",
       "      <td>144.959263</td>\n",
       "      <td>6.779000</td>\n",
       "      <td>POINT (144.95926 -37.81158)</td>\n",
       "    </tr>\n",
       "  </tbody>\n",
       "</table>\n",
       "</div>"
      ],
      "text/plain": [
       "    rd_seg_id marker_id                                         rd_seg_dsc  \\\n",
       "38      20046     3507S  Little Lonsdale Street between William Street ...   \n",
       "203     20177     1268E  Queen Street between Little Lonsdale Street an...   \n",
       "218     20177     1272E  Queen Street between Little Lonsdale Street an...   \n",
       "\n",
       "          lati        long   area_m2                     geometry  \n",
       "38  -37.812944  144.956245  9.108119  POINT (144.95624 -37.81294)  \n",
       "203 -37.811624  144.959284  7.888399  POINT (144.95928 -37.81162)  \n",
       "218 -37.811577  144.959263  6.779000  POINT (144.95926 -37.81158)  "
      ]
     },
     "execution_count": 21,
     "metadata": {},
     "output_type": "execute_result"
    }
   ],
   "source": [
    "from d2i_tools import genPSdata, getCurrentPSstatus, timeIntStats, filterById, geoPolyClip\n",
    "\n",
    "df_filtered = filterById(filtered, \"marker_id\", gdf)\n",
    "print(f\"shape of filtered data is {df_filtered.shape}\")\n",
    "\n",
    "df_filtered.head(3)"
   ]
  },
  {
   "cell_type": "code",
   "execution_count": 22,
   "id": "possible-accounting",
   "metadata": {},
   "outputs": [],
   "source": [
    "df_filtered.to_file(\"datasets/circledData.geojson\", driver=\"GeoJSON\")"
   ]
  },
  {
   "cell_type": "code",
   "execution_count": 11,
   "id": "recreational-hardwood",
   "metadata": {},
   "outputs": [
    {
     "data": {
      "text/plain": [
       "-37.80644722956869"
      ]
     },
     "execution_count": 11,
     "metadata": {},
     "output_type": "execute_result"
    }
   ],
   "source": [
    "gdf.lati[0]"
   ]
  },
  {
   "cell_type": "code",
   "execution_count": 9,
   "id": "informative-switzerland",
   "metadata": {},
   "outputs": [
    {
     "data": {
      "text/html": [
       "<div>\n",
       "<style scoped>\n",
       "    .dataframe tbody tr th:only-of-type {\n",
       "        vertical-align: middle;\n",
       "    }\n",
       "\n",
       "    .dataframe tbody tr th {\n",
       "        vertical-align: top;\n",
       "    }\n",
       "\n",
       "    .dataframe thead th {\n",
       "        text-align: right;\n",
       "    }\n",
       "</style>\n",
       "<table border=\"1\" class=\"dataframe\">\n",
       "  <thead>\n",
       "    <tr style=\"text-align: right;\">\n",
       "      <th></th>\n",
       "      <th>rd_seg_id</th>\n",
       "      <th>marker_id</th>\n",
       "      <th>rd_seg_dsc</th>\n",
       "      <th>lati</th>\n",
       "      <th>long</th>\n",
       "      <th>area_m2</th>\n",
       "      <th>geometry</th>\n",
       "    </tr>\n",
       "  </thead>\n",
       "  <tbody>\n",
       "    <tr>\n",
       "      <th>0</th>\n",
       "      <td>23247</td>\n",
       "      <td>C5010</td>\n",
       "      <td>Queen Street between Therry Street and Victori...</td>\n",
       "      <td>-37.806447</td>\n",
       "      <td>144.958202</td>\n",
       "      <td>9.388646</td>\n",
       "      <td>POINT (144.95820 -37.80645)</td>\n",
       "    </tr>\n",
       "    <tr>\n",
       "      <th>1</th>\n",
       "      <td>23247</td>\n",
       "      <td>4999W</td>\n",
       "      <td>Queen Street between Therry Street and Victori...</td>\n",
       "      <td>-37.806586</td>\n",
       "      <td>144.958043</td>\n",
       "      <td>8.148094</td>\n",
       "      <td>POINT (144.95804 -37.80659)</td>\n",
       "    </tr>\n",
       "    <tr>\n",
       "      <th>2</th>\n",
       "      <td>20173</td>\n",
       "      <td>1114E</td>\n",
       "      <td>Queen Street between Little Collins Street and...</td>\n",
       "      <td>-37.815324</td>\n",
       "      <td>144.960975</td>\n",
       "      <td>6.970730</td>\n",
       "      <td>POINT (144.96098 -37.81532)</td>\n",
       "    </tr>\n",
       "  </tbody>\n",
       "</table>\n",
       "</div>"
      ],
      "text/plain": [
       "  rd_seg_id marker_id                                         rd_seg_dsc  \\\n",
       "0     23247     C5010  Queen Street between Therry Street and Victori...   \n",
       "1     23247     4999W  Queen Street between Therry Street and Victori...   \n",
       "2     20173     1114E  Queen Street between Little Collins Street and...   \n",
       "\n",
       "        lati        long   area_m2                     geometry  \n",
       "0 -37.806447  144.958202  9.388646  POINT (144.95820 -37.80645)  \n",
       "1 -37.806586  144.958043  8.148094  POINT (144.95804 -37.80659)  \n",
       "2 -37.815324  144.960975  6.970730  POINT (144.96098 -37.81532)  "
      ]
     },
     "execution_count": 9,
     "metadata": {},
     "output_type": "execute_result"
    }
   ],
   "source": [
    "gdf.head(3)"
   ]
  },
  {
   "cell_type": "code",
   "execution_count": 10,
   "id": "liberal-mentor",
   "metadata": {},
   "outputs": [
    {
     "data": {
      "text/plain": [
       "'4999W'"
      ]
     },
     "execution_count": 10,
     "metadata": {},
     "output_type": "execute_result"
    }
   ],
   "source": [
    "gdf.marker_id[1]"
   ]
  },
  {
   "cell_type": "code",
   "execution_count": 4,
   "id": "forward-plane",
   "metadata": {},
   "outputs": [
    {
     "data": {
      "text/plain": [
       "153.85537235818168"
      ]
     },
     "execution_count": 4,
     "metadata": {},
     "output_type": "execute_result"
    }
   ],
   "source": [
    "from geopy.distance import geodesic\n",
    "\n",
    "pin_t = (-37.81185179401935, 144.95978287876648)\n",
    "\n",
    "geodesic(pin,pin_t).meters\n",
    "\n"
   ]
  },
  {
   "cell_type": "code",
   "execution_count": 3,
   "id": "exciting-victim",
   "metadata": {},
   "outputs": [
    {
     "name": "stdout",
     "output_type": "stream",
     "text": [
      "<class 'geopandas.geodataframe.GeoDataFrame'>\n",
      "RangeIndex: 5895 entries, 0 to 5894\n",
      "Data columns (total 7 columns):\n",
      " #   Column      Non-Null Count  Dtype   \n",
      "---  ------      --------------  -----   \n",
      " 0   rd_seg_id   5713 non-null   object  \n",
      " 1   marker_id   5895 non-null   object  \n",
      " 2   rd_seg_dsc  5713 non-null   object  \n",
      " 3   lati        5895 non-null   float64 \n",
      " 4   long        5895 non-null   float64 \n",
      " 5   area_m2     5895 non-null   float64 \n",
      " 6   geometry    5895 non-null   geometry\n",
      "dtypes: float64(3), geometry(1), object(3)\n",
      "memory usage: 322.5+ KB\n"
     ]
    }
   ],
   "source": [
    "gdf.info()"
   ]
  }
 ],
 "metadata": {
  "interpreter": {
   "hash": "fd69f43f58546b570e94fd7eba7b65e6bcc7a5bbc4eab0408017d18902915d69"
  },
  "kernelspec": {
   "display_name": "Python 3",
   "language": "python",
   "name": "python3"
  },
  "language_info": {
   "codemirror_mode": {
    "name": "ipython",
    "version": 3
   },
   "file_extension": ".py",
   "mimetype": "text/x-python",
   "name": "python",
   "nbconvert_exporter": "python",
   "pygments_lexer": "ipython3",
   "version": "3.7.11"
  }
 },
 "nbformat": 4,
 "nbformat_minor": 5
}
