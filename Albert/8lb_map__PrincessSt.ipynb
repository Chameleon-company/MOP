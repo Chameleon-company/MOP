{
 "cells": [
  {
   "cell_type": "code",
   "execution_count": 1,
   "metadata": {},
   "outputs": [],
   "source": [
    "# https://plotly.com/python/mapbox-layers/\n",
    "# https://plotly.com/python/discrete-color/"
   ]
  },
  {
   "cell_type": "code",
   "execution_count": 2,
   "metadata": {},
   "outputs": [],
   "source": [
    "import os\n",
    "import pandas as pd\n",
    "import matplotlib.pyplot as plt\n",
    "import geopandas\n",
    "import plotly.express as px\n",
    "from shapely.geometry import Polygon, Point\n",
    "from sodapy import Socrata\n",
    "from d2i_tools import *\n",
    "pd.options.mode.chained_assignment = None  # default='warn'\n",
    "\n",
    "# read live status\n",
    "def read_current_parkingSensors():\n",
    "    cols = [\"st_marker_id\", \"status\", \n",
    "#             \"disabilityext1\",\"duration1\",\"effectiveonph1\",\n",
    "#             \"endtime1\",\"exemption1\",\"fromday1\",\"starttime1\",\"today1\",\"typedesc1\",\n",
    "#             \"description1\", \"description2\",\"description3\",\"description4\",\"description5\",\"description6\",\n",
    "            \"bay_id\"]\n",
    "\n",
    "    apptoken = os.environ.get(\"SODAPY_APPTOKEN\")\n",
    "    domain = \"data.melbourne.vic.gov.au\"\n",
    "    client = Socrata(domain, apptoken)\n",
    "\n",
    "    r1 = client.get_all('vh2v-4nfs')  # read current parking sensors snapshot available\n",
    "    r2 = client.get_all(\"ntht-5rk7\")  # read parking restrictions records of all bays\n",
    "\n",
    "    df1 = pd.DataFrame.from_dict(r1)\n",
    "    df2 = pd.DataFrame.from_dict(r2)\n",
    "    df = pd.merge(df1, df2, left_on='bay_id', right_on='bayid', how='left')\n",
    "    df = df[cols].rename(columns={'st_marker_id':'marker_id'})\n",
    "    return df\n",
    "\n",
    "def create_fullUpdate(df):\n",
    "    gdf = geopandas.read_file(\"datasets/onStreetParkingBays_baselist_bayCentroid.geojson\")\n",
    "    gdf[\"marker_id\"] = gdf[\"marker_id\"].str.upper()\n",
    "    df[\"marker_id\"] = df[\"marker_id\"].str.upper()\n",
    "    ngdf = gdf.merge(df, how=\"outer\", on=\"marker_id\")\n",
    "    ngdf[\"status\"] = ngdf[\"status\"].fillna(\"unknown\")\n",
    "    ngdf = ngdf.drop(columns=[\"rd_seg_id\",\"rd_seg_dsc\"])\n",
    "    print(f\"{ngdf.shape[0]} parking sensors in full base list.\")\n",
    "    return ngdf\n",
    "\n",
    "def plot_map(df,map_height=400,map_zoom=12, marker_max=9):\n",
    "    fig = px.scatter_mapbox(df, lat=\"lati\", lon=\"long\", hover_name=\"marker_id\", #hover_data=[\"description1\",\"description2\",\"description3\",\"description4\",\"description5\",\"description6\"],\n",
    "                                color=\"status\", size=\"area_m2\", size_max=marker_max, zoom=map_zoom, height=map_height,\n",
    "                                color_discrete_map={\n",
    "                                    \"unknown\":\"gray\", \"Unoccupied\":\"green\", \"Present\":\"red\"},\n",
    "                                category_orders={\"status\": [\"unknown\", \"Unoccupied\", \"Present\"]})\n",
    "    # fig.update_layout(mapbox_style=\"open-street-map\")\n",
    "    fig.update_layout(mapbox_style=\"carto-positron\")\n",
    "    fig.update_layout(margin={\"r\":0,\"t\":0,\"l\":0,\"b\":0})\n",
    "    fig.show()"
   ]
  },
  {
   "cell_type": "code",
   "execution_count": 3,
   "metadata": {},
   "outputs": [
    {
     "name": "stdout",
     "output_type": "stream",
     "text": [
      "5913 parking sensors in full base list.\n",
      "Number of current status records of parking sensors read : 1252\n",
      "Number of current available parking bays : 984 (78.6% of total)\n",
      "Number of current unavailable parking bays : 268 (21.4% of total)\n"
     ]
    },
    {
     "data": {
      "text/plain": [
       "(1252, 268, 984)"
      ]
     },
     "execution_count": 3,
     "metadata": {},
     "output_type": "execute_result"
    }
   ],
   "source": [
    "dfrc = read_current_parkingSensors()\n",
    "ngdf = create_fullUpdate(dfrc)\n",
    "# plot_map(ngdf,map_height=500,map_zoom=12, marker_max=9)\n",
    "getCurrentPSstatus(dfrc)"
   ]
  },
  {
   "cell_type": "code",
   "execution_count": null,
   "metadata": {},
   "outputs": [],
   "source": [
    "# Princess St (btw Peel St & Cobden St)\n",
    "lat1, lon1 = -37.80494967098651, 144.9572559077134\n",
    "lat2, lon2 = -37.80484370996895, 144.95634663888478\n",
    "lat3, lon3 = -37.80502384360835, 144.95631981679546\n",
    "lat4, lon4 = -37.80508742008207, 144.9567892033589\n",
    "lat5, lon5 = -37.80512768515377, 144.9571754414454\n",
    "polygon = Polygon([(lon1, lat1), (lon2, lat2), (lon3, lat3), (lon4, lat4), (lon5, lat5)])\n",
    "\n",
    "gdf_filtered = geoPolyClip(ngdf, polygon)\n",
    "plot_map(gdf_filtered,map_height=200,map_zoom=15, marker_max=10)\n",
    "\n",
    "dfrh = pd.read_csv(\"datasets/003_vh2v-4nfs__bufferred.csv\", parse_dates=[\"db_read_time\"])\n",
    "dfrh_filtered = dfrh[dfrh[\"st_marker_id\"].isin(gdf_filtered[\"marker_id\"])]\n",
    "startdt, enddt = \"2021-09-09 11:00:00\", \"2021-09-16 11:00:00\"\n",
    "dfts1 = timeIntStats(dfrh_filtered, startdt, enddt, bin=\"15min\", bin_stat=\"median\")\n",
    "dfts1a = dfts1.reset_index(level=0)\n",
    "# px.scatter(dfts1a, x=\"time_interval\", y=[\"Unoccupied\",\"Present\"], hover_name=\"time_interval\")\n",
    "px.bar(dfts1a, x=\"time_interval\", y=[\"Unoccupied\",\"Present\"], hover_name=\"time_interval\", \n",
    "       height=300, title=\"Number of parking bays\",\n",
    "       color_discrete_map={\"unknown\":\"gray\", \"Unoccupied\":\"green\", \"Present\":\"red\"},\n",
    "       category_orders={\"status\": [\"unknown\", \"Unoccupied\", \"Present\"]})"
   ]
  }
 ],
 "metadata": {
  "interpreter": {
   "hash": "fd69f43f58546b570e94fd7eba7b65e6bcc7a5bbc4eab0408017d18902915d69"
  },
  "kernelspec": {
   "display_name": "Python 3",
   "language": "python",
   "name": "python3"
  },
  "language_info": {
   "codemirror_mode": {
    "name": "ipython",
    "version": 3
   },
   "file_extension": ".py",
   "mimetype": "text/x-python",
   "name": "python",
   "nbconvert_exporter": "python",
   "pygments_lexer": "ipython3",
   "version": "3.7.11"
  }
 },
 "nbformat": 4,
 "nbformat_minor": 2
}
