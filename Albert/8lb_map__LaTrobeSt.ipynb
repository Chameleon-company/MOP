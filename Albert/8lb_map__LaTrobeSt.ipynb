{
 "cells": [
  {
   "cell_type": "code",
   "execution_count": 1,
   "metadata": {},
   "outputs": [],
   "source": [
    "# https://plotly.com/python/mapbox-layers/\n",
    "# https://plotly.com/python/discrete-color/"
   ]
  },
  {
   "cell_type": "code",
   "execution_count": 1,
   "metadata": {},
   "outputs": [],
   "source": [
    "import os\n",
    "import pandas as pd\n",
    "import matplotlib.pyplot as plt\n",
    "import geopandas\n",
    "import plotly.express as px\n",
    "from shapely.geometry import Polygon, Point\n",
    "from sodapy import Socrata\n",
    "from d2i_tools import *\n",
    "pd.options.mode.chained_assignment = None  # default='warn'\n",
    "\n",
    "# read live status\n",
    "def read_current_parkingSensors():\n",
    "    cols = [\"st_marker_id\", \"status\", \n",
    "#             \"disabilityext1\",\"duration1\",\"effectiveonph1\",\n",
    "#             \"endtime1\",\"exemption1\",\"fromday1\",\"starttime1\",\"today1\",\"typedesc1\",\n",
    "#             \"description1\", \"description2\",\"description3\",\"description4\",\"description5\",\"description6\",\n",
    "            \"bay_id\"]\n",
    "\n",
    "    apptoken = os.environ.get(\"SODAPY_APPTOKEN\")\n",
    "    domain = \"data.melbourne.vic.gov.au\"\n",
    "    client = Socrata(domain, apptoken)\n",
    "\n",
    "    r1 = client.get_all('vh2v-4nfs')  # read current parking sensors snapshot available\n",
    "    r2 = client.get_all(\"ntht-5rk7\")  # read parking restrictions records of all bays\n",
    "\n",
    "    df1 = pd.DataFrame.from_dict(r1)\n",
    "    df2 = pd.DataFrame.from_dict(r2)\n",
    "    df = pd.merge(df1, df2, left_on='bay_id', right_on='bayid', how='left')\n",
    "    df = df[cols].rename(columns={'st_marker_id':'marker_id'})\n",
    "    return df\n",
    "\n",
    "def create_fullUpdate(df):\n",
    "    gdf = geopandas.read_file(\"datasets/onStreetParkingBays_baselist_bayCentroid.geojson\")\n",
    "    gdf[\"marker_id\"] = gdf[\"marker_id\"].str.upper()\n",
    "    df[\"marker_id\"] = df[\"marker_id\"].str.upper()\n",
    "    ngdf = gdf.merge(df, how=\"outer\", on=\"marker_id\")\n",
    "    ngdf[\"status\"] = ngdf[\"status\"].fillna(\"unknown\")\n",
    "    ngdf = ngdf.drop(columns=[\"rd_seg_id\",\"rd_seg_dsc\"])\n",
    "    print(f\"{ngdf.shape[0]} parking sensors in full base list.\")\n",
    "    return ngdf\n",
    "\n",
    "def plot_map(df,map_height=400,map_zoom=12, marker_max=9):\n",
    "    fig = px.scatter_mapbox(df, lat=\"lati\", lon=\"long\", hover_name=\"marker_id\", #hover_data=[\"description1\",\"description2\",\"description3\",\"description4\",\"description5\",\"description6\"],\n",
    "                                color=\"status\", size=\"area_m2\", size_max=marker_max, zoom=map_zoom, height=map_height,\n",
    "                                color_discrete_map={\n",
    "                                    \"unknown\":\"gray\", \"Unoccupied\":\"green\", \"Present\":\"red\"},\n",
    "                                category_orders={\"status\": [\"unknown\", \"Unoccupied\", \"Present\"]})\n",
    "    # fig.update_layout(mapbox_style=\"open-street-map\")\n",
    "    fig.update_layout(mapbox_style=\"carto-positron\")\n",
    "    fig.update_layout(margin={\"r\":0,\"t\":0,\"l\":0,\"b\":0})\n",
    "    fig.show()"
   ]
  },
  {
   "cell_type": "code",
   "execution_count": 2,
   "metadata": {},
   "outputs": [
    {
     "name": "stdout",
     "output_type": "stream",
     "text": [
      "5909 parking sensors in full base list.\n",
      "Number of current status records of parking sensors read : 1248\n",
      "Number of current available parking bays : 975 (78.1% of total)\n",
      "Number of current unavailable parking bays : 273 (21.9% of total)\n"
     ]
    },
    {
     "data": {
      "text/plain": [
       "(1248, 273, 975)"
      ]
     },
     "execution_count": 2,
     "metadata": {},
     "output_type": "execute_result"
    }
   ],
   "source": [
    "dfrc = read_current_parkingSensors()\n",
    "ngdf = create_fullUpdate(dfrc)\n",
    "# plot_map(ngdf,map_height=500,map_zoom=12, marker_max=9)\n",
    "getCurrentPSstatus(dfrc)"
   ]
  },
  {
   "cell_type": "code",
   "execution_count": 6,
   "metadata": {},
   "outputs": [
    {
     "name": "stdout",
     "output_type": "stream",
     "text": [
      "18 parking sensors filtered.\n"
     ]
    },
    {
     "data": {
      "application/vnd.plotly.v1+json": {
       "config": {
        "plotlyServerURL": "https://plot.ly"
       },
       "data": [
        {
         "hovertemplate": "<b>%{hovertext}</b><br><br>status=unknown<br>area_m2=%{marker.size}<br>lati=%{lat}<br>long=%{lon}<extra></extra>",
         "hovertext": [
          "3932N",
          "3928N",
          "3942N",
          "3910N,3908",
          "3934N",
          "3924N",
          "3918N",
          "3920N",
          "3926N",
          "3940N",
          "3912N",
          "3916N",
          "3914N"
         ],
         "lat": [
          -37.81221281109705,
          -37.81217648708733,
          -37.81230364235618,
          -37.81197679374938,
          -37.812230941604106,
          -37.8121401357825,
          -37.812085595782854,
          -37.81210381497086,
          -37.812158248467625,
          -37.81228548828889,
          -37.812031067008576,
          -37.812067480342016,
          -37.81204916802498
         ],
         "legendgroup": "unknown",
         "lon": [
          144.954564698688,
          144.9546931101505,
          144.9542439159125,
          144.9553983012381,
          144.9545006432602,
          144.9548213650783,
          144.95501398450205,
          144.954949803168,
          144.95475736808655,
          144.95430804269188,
          144.95520661999768,
          144.9550781729071,
          144.95514232535936
         ],
         "marker": {
          "color": "gray",
          "size": [
           8.045387082555374,
           8.001256406651217,
           8.085585437414771,
           39.59649495147448,
           8.058850971376575,
           8.011587005121745,
           7.985135349366736,
           7.958447478965217,
           8.026126275811347,
           8.074762612208216,
           7.946962327197466,
           7.931509312204889,
           8.03570185828211
          ],
          "sizemode": "area",
          "sizeref": 0.3959649495147448
         },
         "mode": "markers",
         "name": "unknown",
         "showlegend": true,
         "subplot": "mapbox",
         "type": "scattermapbox"
        },
        {
         "hovertemplate": "<b>%{hovertext}</b><br><br>status=Unoccupied<br>area_m2=%{marker.size}<br>lati=%{lat}<br>long=%{lon}<extra></extra>",
         "hovertext": [
          "3936N",
          "3944N",
          "3938N"
         ],
         "lat": [
          -37.81224915653422,
          -37.81232176221891,
          -37.812267299777
         ],
         "legendgroup": "Unoccupied",
         "lon": [
          144.95443641522436,
          144.954179958035,
          144.95437227684934
         ],
         "marker": {
          "color": "green",
          "size": [
           8.044995628971975,
           8.026123174954474,
           8.066875507710376
          ],
          "sizemode": "area",
          "sizeref": 0.3959649495147448
         },
         "mode": "markers",
         "name": "Unoccupied",
         "showlegend": true,
         "subplot": "mapbox",
         "type": "scattermapbox"
        },
        {
         "hovertemplate": "<b>%{hovertext}</b><br><br>status=Present<br>area_m2=%{marker.size}<br>lati=%{lat}<br>long=%{lon}<extra></extra>",
         "hovertext": [
          "3922N",
          "3930N"
         ],
         "lat": [
          -37.812121910171044,
          -37.81219461121574
         ],
         "legendgroup": "Present",
         "lon": [
          144.9548857349683,
          144.95462899886286
         ],
         "marker": {
          "color": "red",
          "size": [
           8.001930668975248,
           8.031969624208598
          ],
          "sizemode": "area",
          "sizeref": 0.3959649495147448
         },
         "mode": "markers",
         "name": "Present",
         "showlegend": true,
         "subplot": "mapbox",
         "type": "scattermapbox"
        }
       ],
       "layout": {
        "height": 200,
        "legend": {
         "itemsizing": "constant",
         "title": {
          "text": "status"
         },
         "tracegroupgap": 0
        },
        "mapbox": {
         "center": {
          "lat": -37.812165356359955,
          "lon": 144.95473231861
         },
         "domain": {
          "x": [
           0,
           1
          ],
          "y": [
           0,
           1
          ]
         },
         "style": "carto-positron",
         "zoom": 15
        },
        "margin": {
         "b": 0,
         "l": 0,
         "r": 0,
         "t": 0
        },
        "template": {
         "data": {
          "bar": [
           {
            "error_x": {
             "color": "#2a3f5f"
            },
            "error_y": {
             "color": "#2a3f5f"
            },
            "marker": {
             "line": {
              "color": "#E5ECF6",
              "width": 0.5
             },
             "pattern": {
              "fillmode": "overlay",
              "size": 10,
              "solidity": 0.2
             }
            },
            "type": "bar"
           }
          ],
          "barpolar": [
           {
            "marker": {
             "line": {
              "color": "#E5ECF6",
              "width": 0.5
             },
             "pattern": {
              "fillmode": "overlay",
              "size": 10,
              "solidity": 0.2
             }
            },
            "type": "barpolar"
           }
          ],
          "carpet": [
           {
            "aaxis": {
             "endlinecolor": "#2a3f5f",
             "gridcolor": "white",
             "linecolor": "white",
             "minorgridcolor": "white",
             "startlinecolor": "#2a3f5f"
            },
            "baxis": {
             "endlinecolor": "#2a3f5f",
             "gridcolor": "white",
             "linecolor": "white",
             "minorgridcolor": "white",
             "startlinecolor": "#2a3f5f"
            },
            "type": "carpet"
           }
          ],
          "choropleth": [
           {
            "colorbar": {
             "outlinewidth": 0,
             "ticks": ""
            },
            "type": "choropleth"
           }
          ],
          "contour": [
           {
            "colorbar": {
             "outlinewidth": 0,
             "ticks": ""
            },
            "colorscale": [
             [
              0,
              "#0d0887"
             ],
             [
              0.1111111111111111,
              "#46039f"
             ],
             [
              0.2222222222222222,
              "#7201a8"
             ],
             [
              0.3333333333333333,
              "#9c179e"
             ],
             [
              0.4444444444444444,
              "#bd3786"
             ],
             [
              0.5555555555555556,
              "#d8576b"
             ],
             [
              0.6666666666666666,
              "#ed7953"
             ],
             [
              0.7777777777777778,
              "#fb9f3a"
             ],
             [
              0.8888888888888888,
              "#fdca26"
             ],
             [
              1,
              "#f0f921"
             ]
            ],
            "type": "contour"
           }
          ],
          "contourcarpet": [
           {
            "colorbar": {
             "outlinewidth": 0,
             "ticks": ""
            },
            "type": "contourcarpet"
           }
          ],
          "heatmap": [
           {
            "colorbar": {
             "outlinewidth": 0,
             "ticks": ""
            },
            "colorscale": [
             [
              0,
              "#0d0887"
             ],
             [
              0.1111111111111111,
              "#46039f"
             ],
             [
              0.2222222222222222,
              "#7201a8"
             ],
             [
              0.3333333333333333,
              "#9c179e"
             ],
             [
              0.4444444444444444,
              "#bd3786"
             ],
             [
              0.5555555555555556,
              "#d8576b"
             ],
             [
              0.6666666666666666,
              "#ed7953"
             ],
             [
              0.7777777777777778,
              "#fb9f3a"
             ],
             [
              0.8888888888888888,
              "#fdca26"
             ],
             [
              1,
              "#f0f921"
             ]
            ],
            "type": "heatmap"
           }
          ],
          "heatmapgl": [
           {
            "colorbar": {
             "outlinewidth": 0,
             "ticks": ""
            },
            "colorscale": [
             [
              0,
              "#0d0887"
             ],
             [
              0.1111111111111111,
              "#46039f"
             ],
             [
              0.2222222222222222,
              "#7201a8"
             ],
             [
              0.3333333333333333,
              "#9c179e"
             ],
             [
              0.4444444444444444,
              "#bd3786"
             ],
             [
              0.5555555555555556,
              "#d8576b"
             ],
             [
              0.6666666666666666,
              "#ed7953"
             ],
             [
              0.7777777777777778,
              "#fb9f3a"
             ],
             [
              0.8888888888888888,
              "#fdca26"
             ],
             [
              1,
              "#f0f921"
             ]
            ],
            "type": "heatmapgl"
           }
          ],
          "histogram": [
           {
            "marker": {
             "pattern": {
              "fillmode": "overlay",
              "size": 10,
              "solidity": 0.2
             }
            },
            "type": "histogram"
           }
          ],
          "histogram2d": [
           {
            "colorbar": {
             "outlinewidth": 0,
             "ticks": ""
            },
            "colorscale": [
             [
              0,
              "#0d0887"
             ],
             [
              0.1111111111111111,
              "#46039f"
             ],
             [
              0.2222222222222222,
              "#7201a8"
             ],
             [
              0.3333333333333333,
              "#9c179e"
             ],
             [
              0.4444444444444444,
              "#bd3786"
             ],
             [
              0.5555555555555556,
              "#d8576b"
             ],
             [
              0.6666666666666666,
              "#ed7953"
             ],
             [
              0.7777777777777778,
              "#fb9f3a"
             ],
             [
              0.8888888888888888,
              "#fdca26"
             ],
             [
              1,
              "#f0f921"
             ]
            ],
            "type": "histogram2d"
           }
          ],
          "histogram2dcontour": [
           {
            "colorbar": {
             "outlinewidth": 0,
             "ticks": ""
            },
            "colorscale": [
             [
              0,
              "#0d0887"
             ],
             [
              0.1111111111111111,
              "#46039f"
             ],
             [
              0.2222222222222222,
              "#7201a8"
             ],
             [
              0.3333333333333333,
              "#9c179e"
             ],
             [
              0.4444444444444444,
              "#bd3786"
             ],
             [
              0.5555555555555556,
              "#d8576b"
             ],
             [
              0.6666666666666666,
              "#ed7953"
             ],
             [
              0.7777777777777778,
              "#fb9f3a"
             ],
             [
              0.8888888888888888,
              "#fdca26"
             ],
             [
              1,
              "#f0f921"
             ]
            ],
            "type": "histogram2dcontour"
           }
          ],
          "mesh3d": [
           {
            "colorbar": {
             "outlinewidth": 0,
             "ticks": ""
            },
            "type": "mesh3d"
           }
          ],
          "parcoords": [
           {
            "line": {
             "colorbar": {
              "outlinewidth": 0,
              "ticks": ""
             }
            },
            "type": "parcoords"
           }
          ],
          "pie": [
           {
            "automargin": true,
            "type": "pie"
           }
          ],
          "scatter": [
           {
            "marker": {
             "colorbar": {
              "outlinewidth": 0,
              "ticks": ""
             }
            },
            "type": "scatter"
           }
          ],
          "scatter3d": [
           {
            "line": {
             "colorbar": {
              "outlinewidth": 0,
              "ticks": ""
             }
            },
            "marker": {
             "colorbar": {
              "outlinewidth": 0,
              "ticks": ""
             }
            },
            "type": "scatter3d"
           }
          ],
          "scattercarpet": [
           {
            "marker": {
             "colorbar": {
              "outlinewidth": 0,
              "ticks": ""
             }
            },
            "type": "scattercarpet"
           }
          ],
          "scattergeo": [
           {
            "marker": {
             "colorbar": {
              "outlinewidth": 0,
              "ticks": ""
             }
            },
            "type": "scattergeo"
           }
          ],
          "scattergl": [
           {
            "marker": {
             "colorbar": {
              "outlinewidth": 0,
              "ticks": ""
             }
            },
            "type": "scattergl"
           }
          ],
          "scattermapbox": [
           {
            "marker": {
             "colorbar": {
              "outlinewidth": 0,
              "ticks": ""
             }
            },
            "type": "scattermapbox"
           }
          ],
          "scatterpolar": [
           {
            "marker": {
             "colorbar": {
              "outlinewidth": 0,
              "ticks": ""
             }
            },
            "type": "scatterpolar"
           }
          ],
          "scatterpolargl": [
           {
            "marker": {
             "colorbar": {
              "outlinewidth": 0,
              "ticks": ""
             }
            },
            "type": "scatterpolargl"
           }
          ],
          "scatterternary": [
           {
            "marker": {
             "colorbar": {
              "outlinewidth": 0,
              "ticks": ""
             }
            },
            "type": "scatterternary"
           }
          ],
          "surface": [
           {
            "colorbar": {
             "outlinewidth": 0,
             "ticks": ""
            },
            "colorscale": [
             [
              0,
              "#0d0887"
             ],
             [
              0.1111111111111111,
              "#46039f"
             ],
             [
              0.2222222222222222,
              "#7201a8"
             ],
             [
              0.3333333333333333,
              "#9c179e"
             ],
             [
              0.4444444444444444,
              "#bd3786"
             ],
             [
              0.5555555555555556,
              "#d8576b"
             ],
             [
              0.6666666666666666,
              "#ed7953"
             ],
             [
              0.7777777777777778,
              "#fb9f3a"
             ],
             [
              0.8888888888888888,
              "#fdca26"
             ],
             [
              1,
              "#f0f921"
             ]
            ],
            "type": "surface"
           }
          ],
          "table": [
           {
            "cells": {
             "fill": {
              "color": "#EBF0F8"
             },
             "line": {
              "color": "white"
             }
            },
            "header": {
             "fill": {
              "color": "#C8D4E3"
             },
             "line": {
              "color": "white"
             }
            },
            "type": "table"
           }
          ]
         },
         "layout": {
          "annotationdefaults": {
           "arrowcolor": "#2a3f5f",
           "arrowhead": 0,
           "arrowwidth": 1
          },
          "autotypenumbers": "strict",
          "coloraxis": {
           "colorbar": {
            "outlinewidth": 0,
            "ticks": ""
           }
          },
          "colorscale": {
           "diverging": [
            [
             0,
             "#8e0152"
            ],
            [
             0.1,
             "#c51b7d"
            ],
            [
             0.2,
             "#de77ae"
            ],
            [
             0.3,
             "#f1b6da"
            ],
            [
             0.4,
             "#fde0ef"
            ],
            [
             0.5,
             "#f7f7f7"
            ],
            [
             0.6,
             "#e6f5d0"
            ],
            [
             0.7,
             "#b8e186"
            ],
            [
             0.8,
             "#7fbc41"
            ],
            [
             0.9,
             "#4d9221"
            ],
            [
             1,
             "#276419"
            ]
           ],
           "sequential": [
            [
             0,
             "#0d0887"
            ],
            [
             0.1111111111111111,
             "#46039f"
            ],
            [
             0.2222222222222222,
             "#7201a8"
            ],
            [
             0.3333333333333333,
             "#9c179e"
            ],
            [
             0.4444444444444444,
             "#bd3786"
            ],
            [
             0.5555555555555556,
             "#d8576b"
            ],
            [
             0.6666666666666666,
             "#ed7953"
            ],
            [
             0.7777777777777778,
             "#fb9f3a"
            ],
            [
             0.8888888888888888,
             "#fdca26"
            ],
            [
             1,
             "#f0f921"
            ]
           ],
           "sequentialminus": [
            [
             0,
             "#0d0887"
            ],
            [
             0.1111111111111111,
             "#46039f"
            ],
            [
             0.2222222222222222,
             "#7201a8"
            ],
            [
             0.3333333333333333,
             "#9c179e"
            ],
            [
             0.4444444444444444,
             "#bd3786"
            ],
            [
             0.5555555555555556,
             "#d8576b"
            ],
            [
             0.6666666666666666,
             "#ed7953"
            ],
            [
             0.7777777777777778,
             "#fb9f3a"
            ],
            [
             0.8888888888888888,
             "#fdca26"
            ],
            [
             1,
             "#f0f921"
            ]
           ]
          },
          "colorway": [
           "#636efa",
           "#EF553B",
           "#00cc96",
           "#ab63fa",
           "#FFA15A",
           "#19d3f3",
           "#FF6692",
           "#B6E880",
           "#FF97FF",
           "#FECB52"
          ],
          "font": {
           "color": "#2a3f5f"
          },
          "geo": {
           "bgcolor": "white",
           "lakecolor": "white",
           "landcolor": "#E5ECF6",
           "showlakes": true,
           "showland": true,
           "subunitcolor": "white"
          },
          "hoverlabel": {
           "align": "left"
          },
          "hovermode": "closest",
          "mapbox": {
           "style": "light"
          },
          "paper_bgcolor": "white",
          "plot_bgcolor": "#E5ECF6",
          "polar": {
           "angularaxis": {
            "gridcolor": "white",
            "linecolor": "white",
            "ticks": ""
           },
           "bgcolor": "#E5ECF6",
           "radialaxis": {
            "gridcolor": "white",
            "linecolor": "white",
            "ticks": ""
           }
          },
          "scene": {
           "xaxis": {
            "backgroundcolor": "#E5ECF6",
            "gridcolor": "white",
            "gridwidth": 2,
            "linecolor": "white",
            "showbackground": true,
            "ticks": "",
            "zerolinecolor": "white"
           },
           "yaxis": {
            "backgroundcolor": "#E5ECF6",
            "gridcolor": "white",
            "gridwidth": 2,
            "linecolor": "white",
            "showbackground": true,
            "ticks": "",
            "zerolinecolor": "white"
           },
           "zaxis": {
            "backgroundcolor": "#E5ECF6",
            "gridcolor": "white",
            "gridwidth": 2,
            "linecolor": "white",
            "showbackground": true,
            "ticks": "",
            "zerolinecolor": "white"
           }
          },
          "shapedefaults": {
           "line": {
            "color": "#2a3f5f"
           }
          },
          "ternary": {
           "aaxis": {
            "gridcolor": "white",
            "linecolor": "white",
            "ticks": ""
           },
           "baxis": {
            "gridcolor": "white",
            "linecolor": "white",
            "ticks": ""
           },
           "bgcolor": "#E5ECF6",
           "caxis": {
            "gridcolor": "white",
            "linecolor": "white",
            "ticks": ""
           }
          },
          "title": {
           "x": 0.05
          },
          "xaxis": {
           "automargin": true,
           "gridcolor": "white",
           "linecolor": "white",
           "ticks": "",
           "title": {
            "standoff": 15
           },
           "zerolinecolor": "white",
           "zerolinewidth": 2
          },
          "yaxis": {
           "automargin": true,
           "gridcolor": "white",
           "linecolor": "white",
           "ticks": "",
           "title": {
            "standoff": 15
           },
           "zerolinecolor": "white",
           "zerolinewidth": 2
          }
         }
        }
       }
      },
      "text/html": [
       "<div>                            <div id=\"3e648915-f7d1-4493-aa2b-551bcd35ff4a\" class=\"plotly-graph-div\" style=\"height:200px; width:100%;\"></div>            <script type=\"text/javascript\">                require([\"plotly\"], function(Plotly) {                    window.PLOTLYENV=window.PLOTLYENV || {};                                    if (document.getElementById(\"3e648915-f7d1-4493-aa2b-551bcd35ff4a\")) {                    Plotly.newPlot(                        \"3e648915-f7d1-4493-aa2b-551bcd35ff4a\",                        [{\"hovertemplate\":\"<b>%{hovertext}</b><br><br>status=unknown<br>area_m2=%{marker.size}<br>lati=%{lat}<br>long=%{lon}<extra></extra>\",\"hovertext\":[\"3932N\",\"3928N\",\"3942N\",\"3910N,3908\",\"3934N\",\"3924N\",\"3918N\",\"3920N\",\"3926N\",\"3940N\",\"3912N\",\"3916N\",\"3914N\"],\"lat\":[-37.81221281109705,-37.81217648708733,-37.81230364235618,-37.81197679374938,-37.812230941604106,-37.8121401357825,-37.812085595782854,-37.81210381497086,-37.812158248467625,-37.81228548828889,-37.812031067008576,-37.812067480342016,-37.81204916802498],\"legendgroup\":\"unknown\",\"lon\":[144.954564698688,144.9546931101505,144.9542439159125,144.9553983012381,144.9545006432602,144.9548213650783,144.95501398450205,144.954949803168,144.95475736808655,144.95430804269188,144.95520661999768,144.9550781729071,144.95514232535936],\"marker\":{\"color\":\"gray\",\"size\":[8.045387082555374,8.001256406651217,8.085585437414771,39.59649495147448,8.058850971376575,8.011587005121745,7.985135349366736,7.958447478965217,8.026126275811347,8.074762612208216,7.946962327197466,7.931509312204889,8.03570185828211],\"sizemode\":\"area\",\"sizeref\":0.3959649495147448},\"mode\":\"markers\",\"name\":\"unknown\",\"showlegend\":true,\"subplot\":\"mapbox\",\"type\":\"scattermapbox\"},{\"hovertemplate\":\"<b>%{hovertext}</b><br><br>status=Unoccupied<br>area_m2=%{marker.size}<br>lati=%{lat}<br>long=%{lon}<extra></extra>\",\"hovertext\":[\"3936N\",\"3944N\",\"3938N\"],\"lat\":[-37.81224915653422,-37.81232176221891,-37.812267299777],\"legendgroup\":\"Unoccupied\",\"lon\":[144.95443641522436,144.954179958035,144.95437227684934],\"marker\":{\"color\":\"green\",\"size\":[8.044995628971975,8.026123174954474,8.066875507710376],\"sizemode\":\"area\",\"sizeref\":0.3959649495147448},\"mode\":\"markers\",\"name\":\"Unoccupied\",\"showlegend\":true,\"subplot\":\"mapbox\",\"type\":\"scattermapbox\"},{\"hovertemplate\":\"<b>%{hovertext}</b><br><br>status=Present<br>area_m2=%{marker.size}<br>lati=%{lat}<br>long=%{lon}<extra></extra>\",\"hovertext\":[\"3922N\",\"3930N\"],\"lat\":[-37.812121910171044,-37.81219461121574],\"legendgroup\":\"Present\",\"lon\":[144.9548857349683,144.95462899886286],\"marker\":{\"color\":\"red\",\"size\":[8.001930668975248,8.031969624208598],\"sizemode\":\"area\",\"sizeref\":0.3959649495147448},\"mode\":\"markers\",\"name\":\"Present\",\"showlegend\":true,\"subplot\":\"mapbox\",\"type\":\"scattermapbox\"}],                        {\"height\":200,\"legend\":{\"itemsizing\":\"constant\",\"title\":{\"text\":\"status\"},\"tracegroupgap\":0},\"mapbox\":{\"center\":{\"lat\":-37.812165356359955,\"lon\":144.95473231861},\"domain\":{\"x\":[0.0,1.0],\"y\":[0.0,1.0]},\"style\":\"carto-positron\",\"zoom\":15},\"margin\":{\"b\":0,\"l\":0,\"r\":0,\"t\":0},\"template\":{\"data\":{\"bar\":[{\"error_x\":{\"color\":\"#2a3f5f\"},\"error_y\":{\"color\":\"#2a3f5f\"},\"marker\":{\"line\":{\"color\":\"#E5ECF6\",\"width\":0.5},\"pattern\":{\"fillmode\":\"overlay\",\"size\":10,\"solidity\":0.2}},\"type\":\"bar\"}],\"barpolar\":[{\"marker\":{\"line\":{\"color\":\"#E5ECF6\",\"width\":0.5},\"pattern\":{\"fillmode\":\"overlay\",\"size\":10,\"solidity\":0.2}},\"type\":\"barpolar\"}],\"carpet\":[{\"aaxis\":{\"endlinecolor\":\"#2a3f5f\",\"gridcolor\":\"white\",\"linecolor\":\"white\",\"minorgridcolor\":\"white\",\"startlinecolor\":\"#2a3f5f\"},\"baxis\":{\"endlinecolor\":\"#2a3f5f\",\"gridcolor\":\"white\",\"linecolor\":\"white\",\"minorgridcolor\":\"white\",\"startlinecolor\":\"#2a3f5f\"},\"type\":\"carpet\"}],\"choropleth\":[{\"colorbar\":{\"outlinewidth\":0,\"ticks\":\"\"},\"type\":\"choropleth\"}],\"contour\":[{\"colorbar\":{\"outlinewidth\":0,\"ticks\":\"\"},\"colorscale\":[[0.0,\"#0d0887\"],[0.1111111111111111,\"#46039f\"],[0.2222222222222222,\"#7201a8\"],[0.3333333333333333,\"#9c179e\"],[0.4444444444444444,\"#bd3786\"],[0.5555555555555556,\"#d8576b\"],[0.6666666666666666,\"#ed7953\"],[0.7777777777777778,\"#fb9f3a\"],[0.8888888888888888,\"#fdca26\"],[1.0,\"#f0f921\"]],\"type\":\"contour\"}],\"contourcarpet\":[{\"colorbar\":{\"outlinewidth\":0,\"ticks\":\"\"},\"type\":\"contourcarpet\"}],\"heatmap\":[{\"colorbar\":{\"outlinewidth\":0,\"ticks\":\"\"},\"colorscale\":[[0.0,\"#0d0887\"],[0.1111111111111111,\"#46039f\"],[0.2222222222222222,\"#7201a8\"],[0.3333333333333333,\"#9c179e\"],[0.4444444444444444,\"#bd3786\"],[0.5555555555555556,\"#d8576b\"],[0.6666666666666666,\"#ed7953\"],[0.7777777777777778,\"#fb9f3a\"],[0.8888888888888888,\"#fdca26\"],[1.0,\"#f0f921\"]],\"type\":\"heatmap\"}],\"heatmapgl\":[{\"colorbar\":{\"outlinewidth\":0,\"ticks\":\"\"},\"colorscale\":[[0.0,\"#0d0887\"],[0.1111111111111111,\"#46039f\"],[0.2222222222222222,\"#7201a8\"],[0.3333333333333333,\"#9c179e\"],[0.4444444444444444,\"#bd3786\"],[0.5555555555555556,\"#d8576b\"],[0.6666666666666666,\"#ed7953\"],[0.7777777777777778,\"#fb9f3a\"],[0.8888888888888888,\"#fdca26\"],[1.0,\"#f0f921\"]],\"type\":\"heatmapgl\"}],\"histogram\":[{\"marker\":{\"pattern\":{\"fillmode\":\"overlay\",\"size\":10,\"solidity\":0.2}},\"type\":\"histogram\"}],\"histogram2d\":[{\"colorbar\":{\"outlinewidth\":0,\"ticks\":\"\"},\"colorscale\":[[0.0,\"#0d0887\"],[0.1111111111111111,\"#46039f\"],[0.2222222222222222,\"#7201a8\"],[0.3333333333333333,\"#9c179e\"],[0.4444444444444444,\"#bd3786\"],[0.5555555555555556,\"#d8576b\"],[0.6666666666666666,\"#ed7953\"],[0.7777777777777778,\"#fb9f3a\"],[0.8888888888888888,\"#fdca26\"],[1.0,\"#f0f921\"]],\"type\":\"histogram2d\"}],\"histogram2dcontour\":[{\"colorbar\":{\"outlinewidth\":0,\"ticks\":\"\"},\"colorscale\":[[0.0,\"#0d0887\"],[0.1111111111111111,\"#46039f\"],[0.2222222222222222,\"#7201a8\"],[0.3333333333333333,\"#9c179e\"],[0.4444444444444444,\"#bd3786\"],[0.5555555555555556,\"#d8576b\"],[0.6666666666666666,\"#ed7953\"],[0.7777777777777778,\"#fb9f3a\"],[0.8888888888888888,\"#fdca26\"],[1.0,\"#f0f921\"]],\"type\":\"histogram2dcontour\"}],\"mesh3d\":[{\"colorbar\":{\"outlinewidth\":0,\"ticks\":\"\"},\"type\":\"mesh3d\"}],\"parcoords\":[{\"line\":{\"colorbar\":{\"outlinewidth\":0,\"ticks\":\"\"}},\"type\":\"parcoords\"}],\"pie\":[{\"automargin\":true,\"type\":\"pie\"}],\"scatter\":[{\"marker\":{\"colorbar\":{\"outlinewidth\":0,\"ticks\":\"\"}},\"type\":\"scatter\"}],\"scatter3d\":[{\"line\":{\"colorbar\":{\"outlinewidth\":0,\"ticks\":\"\"}},\"marker\":{\"colorbar\":{\"outlinewidth\":0,\"ticks\":\"\"}},\"type\":\"scatter3d\"}],\"scattercarpet\":[{\"marker\":{\"colorbar\":{\"outlinewidth\":0,\"ticks\":\"\"}},\"type\":\"scattercarpet\"}],\"scattergeo\":[{\"marker\":{\"colorbar\":{\"outlinewidth\":0,\"ticks\":\"\"}},\"type\":\"scattergeo\"}],\"scattergl\":[{\"marker\":{\"colorbar\":{\"outlinewidth\":0,\"ticks\":\"\"}},\"type\":\"scattergl\"}],\"scattermapbox\":[{\"marker\":{\"colorbar\":{\"outlinewidth\":0,\"ticks\":\"\"}},\"type\":\"scattermapbox\"}],\"scatterpolar\":[{\"marker\":{\"colorbar\":{\"outlinewidth\":0,\"ticks\":\"\"}},\"type\":\"scatterpolar\"}],\"scatterpolargl\":[{\"marker\":{\"colorbar\":{\"outlinewidth\":0,\"ticks\":\"\"}},\"type\":\"scatterpolargl\"}],\"scatterternary\":[{\"marker\":{\"colorbar\":{\"outlinewidth\":0,\"ticks\":\"\"}},\"type\":\"scatterternary\"}],\"surface\":[{\"colorbar\":{\"outlinewidth\":0,\"ticks\":\"\"},\"colorscale\":[[0.0,\"#0d0887\"],[0.1111111111111111,\"#46039f\"],[0.2222222222222222,\"#7201a8\"],[0.3333333333333333,\"#9c179e\"],[0.4444444444444444,\"#bd3786\"],[0.5555555555555556,\"#d8576b\"],[0.6666666666666666,\"#ed7953\"],[0.7777777777777778,\"#fb9f3a\"],[0.8888888888888888,\"#fdca26\"],[1.0,\"#f0f921\"]],\"type\":\"surface\"}],\"table\":[{\"cells\":{\"fill\":{\"color\":\"#EBF0F8\"},\"line\":{\"color\":\"white\"}},\"header\":{\"fill\":{\"color\":\"#C8D4E3\"},\"line\":{\"color\":\"white\"}},\"type\":\"table\"}]},\"layout\":{\"annotationdefaults\":{\"arrowcolor\":\"#2a3f5f\",\"arrowhead\":0,\"arrowwidth\":1},\"autotypenumbers\":\"strict\",\"coloraxis\":{\"colorbar\":{\"outlinewidth\":0,\"ticks\":\"\"}},\"colorscale\":{\"diverging\":[[0,\"#8e0152\"],[0.1,\"#c51b7d\"],[0.2,\"#de77ae\"],[0.3,\"#f1b6da\"],[0.4,\"#fde0ef\"],[0.5,\"#f7f7f7\"],[0.6,\"#e6f5d0\"],[0.7,\"#b8e186\"],[0.8,\"#7fbc41\"],[0.9,\"#4d9221\"],[1,\"#276419\"]],\"sequential\":[[0.0,\"#0d0887\"],[0.1111111111111111,\"#46039f\"],[0.2222222222222222,\"#7201a8\"],[0.3333333333333333,\"#9c179e\"],[0.4444444444444444,\"#bd3786\"],[0.5555555555555556,\"#d8576b\"],[0.6666666666666666,\"#ed7953\"],[0.7777777777777778,\"#fb9f3a\"],[0.8888888888888888,\"#fdca26\"],[1.0,\"#f0f921\"]],\"sequentialminus\":[[0.0,\"#0d0887\"],[0.1111111111111111,\"#46039f\"],[0.2222222222222222,\"#7201a8\"],[0.3333333333333333,\"#9c179e\"],[0.4444444444444444,\"#bd3786\"],[0.5555555555555556,\"#d8576b\"],[0.6666666666666666,\"#ed7953\"],[0.7777777777777778,\"#fb9f3a\"],[0.8888888888888888,\"#fdca26\"],[1.0,\"#f0f921\"]]},\"colorway\":[\"#636efa\",\"#EF553B\",\"#00cc96\",\"#ab63fa\",\"#FFA15A\",\"#19d3f3\",\"#FF6692\",\"#B6E880\",\"#FF97FF\",\"#FECB52\"],\"font\":{\"color\":\"#2a3f5f\"},\"geo\":{\"bgcolor\":\"white\",\"lakecolor\":\"white\",\"landcolor\":\"#E5ECF6\",\"showlakes\":true,\"showland\":true,\"subunitcolor\":\"white\"},\"hoverlabel\":{\"align\":\"left\"},\"hovermode\":\"closest\",\"mapbox\":{\"style\":\"light\"},\"paper_bgcolor\":\"white\",\"plot_bgcolor\":\"#E5ECF6\",\"polar\":{\"angularaxis\":{\"gridcolor\":\"white\",\"linecolor\":\"white\",\"ticks\":\"\"},\"bgcolor\":\"#E5ECF6\",\"radialaxis\":{\"gridcolor\":\"white\",\"linecolor\":\"white\",\"ticks\":\"\"}},\"scene\":{\"xaxis\":{\"backgroundcolor\":\"#E5ECF6\",\"gridcolor\":\"white\",\"gridwidth\":2,\"linecolor\":\"white\",\"showbackground\":true,\"ticks\":\"\",\"zerolinecolor\":\"white\"},\"yaxis\":{\"backgroundcolor\":\"#E5ECF6\",\"gridcolor\":\"white\",\"gridwidth\":2,\"linecolor\":\"white\",\"showbackground\":true,\"ticks\":\"\",\"zerolinecolor\":\"white\"},\"zaxis\":{\"backgroundcolor\":\"#E5ECF6\",\"gridcolor\":\"white\",\"gridwidth\":2,\"linecolor\":\"white\",\"showbackground\":true,\"ticks\":\"\",\"zerolinecolor\":\"white\"}},\"shapedefaults\":{\"line\":{\"color\":\"#2a3f5f\"}},\"ternary\":{\"aaxis\":{\"gridcolor\":\"white\",\"linecolor\":\"white\",\"ticks\":\"\"},\"baxis\":{\"gridcolor\":\"white\",\"linecolor\":\"white\",\"ticks\":\"\"},\"bgcolor\":\"#E5ECF6\",\"caxis\":{\"gridcolor\":\"white\",\"linecolor\":\"white\",\"ticks\":\"\"}},\"title\":{\"x\":0.05},\"xaxis\":{\"automargin\":true,\"gridcolor\":\"white\",\"linecolor\":\"white\",\"ticks\":\"\",\"title\":{\"standoff\":15},\"zerolinecolor\":\"white\",\"zerolinewidth\":2},\"yaxis\":{\"automargin\":true,\"gridcolor\":\"white\",\"linecolor\":\"white\",\"ticks\":\"\",\"title\":{\"standoff\":15},\"zerolinecolor\":\"white\",\"zerolinewidth\":2}}}},                        {\"responsive\": true}                    ).then(function(){\n",
       "                            \n",
       "var gd = document.getElementById('3e648915-f7d1-4493-aa2b-551bcd35ff4a');\n",
       "var x = new MutationObserver(function (mutations, observer) {{\n",
       "        var display = window.getComputedStyle(gd).display;\n",
       "        if (!display || display === 'none') {{\n",
       "            console.log([gd, 'removed!']);\n",
       "            Plotly.purge(gd);\n",
       "            observer.disconnect();\n",
       "        }}\n",
       "}});\n",
       "\n",
       "// Listen for the removal of the full notebook cells\n",
       "var notebookContainer = gd.closest('#notebook-container');\n",
       "if (notebookContainer) {{\n",
       "    x.observe(notebookContainer, {childList: true});\n",
       "}}\n",
       "\n",
       "// Listen for the clearing of the current output cell\n",
       "var outputEl = gd.closest('.output');\n",
       "if (outputEl) {{\n",
       "    x.observe(outputEl, {childList: true});\n",
       "}}\n",
       "\n",
       "                        })                };                });            </script>        </div>"
      ]
     },
     "metadata": {},
     "output_type": "display_data"
    },
    {
     "name": "stdout",
     "output_type": "stream",
     "text": [
      "536 time intervals in resampled data\n"
     ]
    },
    {
     "data": {
      "application/vnd.plotly.v1+json": {
       "config": {
        "plotlyServerURL": "https://plot.ly"
       },
       "data": [
        {
         "alignmentgroup": "True",
         "hovertemplate": "<b>%{hovertext}</b><br><br>variable=Unoccupied<br>time_interval=%{x}<br>value=%{y}<extra></extra>",
         "hovertext": [
          "2021-09-09T11:00:00",
          "2021-09-09T11:15:00",
          "2021-09-09T11:30:00",
          "2021-09-09T11:45:00",
          "2021-09-09T12:00:00",
          "2021-09-09T12:15:00",
          "2021-09-09T12:30:00",
          "2021-09-09T12:45:00",
          "2021-09-09T13:00:00",
          "2021-09-09T13:15:00",
          "2021-09-09T13:30:00",
          "2021-09-09T13:45:00",
          "2021-09-09T14:00:00",
          "2021-09-09T14:15:00",
          "2021-09-09T14:30:00",
          "2021-09-09T14:45:00",
          "2021-09-09T15:00:00",
          "2021-09-09T15:15:00",
          "2021-09-09T15:30:00",
          "2021-09-09T15:45:00",
          "2021-09-09T16:00:00",
          "2021-09-09T16:15:00",
          "2021-09-09T16:30:00",
          "2021-09-09T16:45:00",
          "2021-09-09T17:00:00",
          "2021-09-09T17:15:00",
          "2021-09-09T17:30:00",
          "2021-09-09T17:45:00",
          "2021-09-09T18:00:00",
          "2021-09-09T18:15:00",
          "2021-09-09T18:30:00",
          "2021-09-09T18:45:00",
          "2021-09-09T19:00:00",
          "2021-09-09T19:15:00",
          "2021-09-09T19:30:00",
          "2021-09-09T19:45:00",
          "2021-09-09T20:00:00",
          "2021-09-09T20:15:00",
          "2021-09-09T20:30:00",
          "2021-09-09T20:45:00",
          "2021-09-09T21:00:00",
          "2021-09-09T21:15:00",
          "2021-09-09T21:30:00",
          "2021-09-09T21:45:00",
          "2021-09-09T22:00:00",
          "2021-09-09T22:15:00",
          "2021-09-09T22:30:00",
          "2021-09-09T22:45:00",
          "2021-09-09T23:00:00",
          "2021-09-09T23:15:00",
          "2021-09-09T23:30:00",
          "2021-09-09T23:45:00",
          "2021-09-10T00:00:00",
          "2021-09-10T00:15:00",
          "2021-09-10T00:30:00",
          "2021-09-10T00:45:00",
          "2021-09-10T01:00:00",
          "2021-09-10T01:15:00",
          "2021-09-10T01:30:00",
          "2021-09-10T01:45:00",
          "2021-09-10T02:00:00",
          "2021-09-10T02:15:00",
          "2021-09-10T02:30:00",
          "2021-09-10T02:45:00",
          "2021-09-10T03:00:00",
          "2021-09-10T03:15:00",
          "2021-09-10T03:30:00",
          "2021-09-10T03:45:00",
          "2021-09-10T04:00:00",
          "2021-09-10T04:15:00",
          "2021-09-10T04:30:00",
          "2021-09-10T04:45:00",
          "2021-09-10T05:00:00",
          "2021-09-10T05:15:00",
          "2021-09-10T05:30:00",
          "2021-09-10T05:45:00",
          "2021-09-10T06:00:00",
          "2021-09-10T06:15:00",
          "2021-09-10T06:30:00",
          "2021-09-10T06:45:00",
          "2021-09-10T07:00:00",
          "2021-09-10T07:15:00",
          "2021-09-10T07:30:00",
          "2021-09-10T07:45:00",
          "2021-09-10T08:00:00",
          "2021-09-10T08:15:00",
          "2021-09-10T08:30:00",
          "2021-09-10T08:45:00",
          "2021-09-10T09:00:00",
          "2021-09-10T09:15:00",
          "2021-09-10T09:30:00",
          "2021-09-10T09:45:00",
          "2021-09-10T10:00:00",
          "2021-09-10T10:15:00",
          "2021-09-10T10:30:00",
          "2021-09-10T10:45:00",
          "2021-09-10T11:00:00",
          "2021-09-10T11:15:00",
          "2021-09-10T11:30:00",
          "2021-09-10T11:45:00",
          "2021-09-10T12:00:00",
          "2021-09-10T12:15:00",
          "2021-09-10T12:30:00",
          "2021-09-10T12:45:00",
          "2021-09-10T13:00:00",
          "2021-09-10T13:15:00",
          "2021-09-10T13:30:00",
          "2021-09-10T13:45:00",
          "2021-09-10T14:00:00",
          "2021-09-10T14:15:00",
          "2021-09-10T14:30:00",
          "2021-09-10T14:45:00",
          "2021-09-10T15:00:00",
          "2021-09-10T15:15:00",
          "2021-09-10T15:30:00",
          "2021-09-10T15:45:00",
          "2021-09-10T16:00:00",
          "2021-09-10T16:15:00",
          "2021-09-10T16:30:00",
          "2021-09-10T16:45:00",
          "2021-09-10T17:00:00",
          "2021-09-10T17:15:00",
          "2021-09-10T17:30:00",
          "2021-09-10T17:45:00",
          "2021-09-10T18:00:00",
          "2021-09-10T18:15:00",
          "2021-09-10T18:30:00",
          "2021-09-10T18:45:00",
          "2021-09-10T19:00:00",
          "2021-09-10T19:15:00",
          "2021-09-10T19:30:00",
          "2021-09-10T19:45:00",
          "2021-09-10T20:00:00",
          "2021-09-10T20:15:00",
          "2021-09-10T20:30:00",
          "2021-09-10T20:45:00",
          "2021-09-10T21:00:00",
          "2021-09-10T21:15:00",
          "2021-09-10T21:30:00",
          "2021-09-10T21:45:00",
          "2021-09-10T22:00:00",
          "2021-09-10T22:15:00",
          "2021-09-10T22:30:00",
          "2021-09-10T22:45:00",
          "2021-09-10T23:00:00",
          "2021-09-10T23:15:00",
          "2021-09-10T23:30:00",
          "2021-09-10T23:45:00",
          "2021-09-11T00:00:00",
          "2021-09-11T00:15:00",
          "2021-09-11T00:30:00",
          "2021-09-11T00:45:00",
          "2021-09-11T01:00:00",
          "2021-09-11T01:15:00",
          "2021-09-11T01:30:00",
          "2021-09-11T01:45:00",
          "2021-09-11T02:00:00",
          "2021-09-11T02:15:00",
          "2021-09-11T02:30:00",
          "2021-09-11T02:45:00",
          "2021-09-11T03:00:00",
          "2021-09-11T03:15:00",
          "2021-09-11T03:30:00",
          "2021-09-11T03:45:00",
          "2021-09-11T04:00:00",
          "2021-09-11T04:15:00",
          "2021-09-11T04:30:00",
          "2021-09-11T04:45:00",
          "2021-09-11T05:00:00",
          "2021-09-11T05:15:00",
          "2021-09-11T05:30:00",
          "2021-09-11T05:45:00",
          "2021-09-11T06:00:00",
          "2021-09-11T06:15:00",
          "2021-09-11T06:30:00",
          "2021-09-11T06:45:00",
          "2021-09-11T07:00:00",
          "2021-09-11T07:15:00",
          "2021-09-11T07:30:00",
          "2021-09-11T07:45:00",
          "2021-09-11T08:00:00",
          "2021-09-11T08:15:00",
          "2021-09-11T08:30:00",
          "2021-09-11T08:45:00",
          "2021-09-11T09:00:00",
          "2021-09-11T09:15:00",
          "2021-09-11T09:30:00",
          "2021-09-11T09:45:00",
          "2021-09-11T10:00:00",
          "2021-09-11T10:15:00",
          "2021-09-11T10:30:00",
          "2021-09-11T10:45:00",
          "2021-09-11T11:00:00",
          "2021-09-11T11:15:00",
          "2021-09-11T11:30:00",
          "2021-09-11T11:45:00",
          "2021-09-11T12:00:00",
          "2021-09-11T12:15:00",
          "2021-09-11T12:30:00",
          "2021-09-11T12:45:00",
          "2021-09-11T13:00:00",
          "2021-09-11T13:15:00",
          "2021-09-11T13:30:00",
          "2021-09-11T13:45:00",
          "2021-09-11T14:00:00",
          "2021-09-11T14:15:00",
          "2021-09-11T14:30:00",
          "2021-09-11T14:45:00",
          "2021-09-11T15:00:00",
          "2021-09-11T15:15:00",
          "2021-09-11T15:30:00",
          "2021-09-11T15:45:00",
          "2021-09-11T16:00:00",
          "2021-09-11T16:15:00",
          "2021-09-11T16:30:00",
          "2021-09-11T16:45:00",
          "2021-09-11T17:00:00",
          "2021-09-11T17:15:00",
          "2021-09-11T17:30:00",
          "2021-09-11T17:45:00",
          "2021-09-11T18:00:00",
          "2021-09-11T18:15:00",
          "2021-09-11T18:30:00",
          "2021-09-11T18:45:00",
          "2021-09-11T19:00:00",
          "2021-09-11T19:15:00",
          "2021-09-11T19:30:00",
          "2021-09-11T19:45:00",
          "2021-09-11T20:00:00",
          "2021-09-11T20:15:00",
          "2021-09-11T20:30:00",
          "2021-09-11T20:45:00",
          "2021-09-11T21:00:00",
          "2021-09-11T21:15:00",
          "2021-09-11T21:30:00",
          "2021-09-11T21:45:00",
          "2021-09-11T22:00:00",
          "2021-09-11T22:15:00",
          "2021-09-11T22:30:00",
          "2021-09-11T22:45:00",
          "2021-09-11T23:00:00",
          "2021-09-11T23:15:00",
          "2021-09-11T23:30:00",
          "2021-09-11T23:45:00",
          "2021-09-12T00:00:00",
          "2021-09-12T00:15:00",
          "2021-09-12T00:30:00",
          "2021-09-12T00:45:00",
          "2021-09-12T01:00:00",
          "2021-09-12T01:15:00",
          "2021-09-12T01:30:00",
          "2021-09-12T01:45:00",
          "2021-09-12T02:00:00",
          "2021-09-12T02:15:00",
          "2021-09-12T02:30:00",
          "2021-09-12T02:45:00",
          "2021-09-12T03:00:00",
          "2021-09-12T03:15:00",
          "2021-09-12T03:30:00",
          "2021-09-12T03:45:00",
          "2021-09-12T04:00:00",
          "2021-09-12T04:15:00",
          "2021-09-12T04:30:00",
          "2021-09-12T04:45:00",
          "2021-09-12T05:00:00",
          "2021-09-12T05:15:00",
          "2021-09-12T05:30:00",
          "2021-09-12T05:45:00",
          "2021-09-12T06:00:00",
          "2021-09-12T06:15:00",
          "2021-09-12T06:30:00",
          "2021-09-12T06:45:00",
          "2021-09-12T07:00:00",
          "2021-09-12T07:15:00",
          "2021-09-12T07:30:00",
          "2021-09-12T07:45:00",
          "2021-09-12T08:00:00",
          "2021-09-12T08:15:00",
          "2021-09-12T08:30:00",
          "2021-09-12T08:45:00",
          "2021-09-12T09:00:00",
          "2021-09-12T09:15:00",
          "2021-09-12T09:30:00",
          "2021-09-12T09:45:00",
          "2021-09-12T10:00:00",
          "2021-09-12T10:15:00",
          "2021-09-12T10:30:00",
          "2021-09-12T10:45:00",
          "2021-09-12T11:00:00",
          "2021-09-12T11:15:00",
          "2021-09-12T11:30:00",
          "2021-09-12T11:45:00",
          "2021-09-12T12:00:00",
          "2021-09-12T12:15:00",
          "2021-09-12T12:30:00",
          "2021-09-12T12:45:00",
          "2021-09-12T13:00:00",
          "2021-09-12T13:15:00",
          "2021-09-12T13:30:00",
          "2021-09-12T13:45:00",
          "2021-09-12T14:00:00",
          "2021-09-12T14:15:00",
          "2021-09-12T14:30:00",
          "2021-09-12T14:45:00",
          "2021-09-12T15:00:00",
          "2021-09-12T15:15:00",
          "2021-09-12T15:30:00",
          "2021-09-12T15:45:00",
          "2021-09-12T16:00:00",
          "2021-09-12T16:15:00",
          "2021-09-12T16:30:00",
          "2021-09-12T16:45:00",
          "2021-09-12T17:00:00",
          "2021-09-12T17:15:00",
          "2021-09-12T17:30:00",
          "2021-09-12T17:45:00",
          "2021-09-12T18:00:00",
          "2021-09-12T18:15:00",
          "2021-09-12T18:30:00",
          "2021-09-12T18:45:00",
          "2021-09-12T19:00:00",
          "2021-09-12T19:15:00",
          "2021-09-12T19:30:00",
          "2021-09-12T19:45:00",
          "2021-09-12T20:00:00",
          "2021-09-12T20:15:00",
          "2021-09-12T20:30:00",
          "2021-09-12T20:45:00",
          "2021-09-12T21:00:00",
          "2021-09-12T21:15:00",
          "2021-09-12T21:30:00",
          "2021-09-12T21:45:00",
          "2021-09-12T22:00:00",
          "2021-09-12T22:15:00",
          "2021-09-12T22:30:00",
          "2021-09-12T22:45:00",
          "2021-09-12T23:00:00",
          "2021-09-12T23:15:00",
          "2021-09-12T23:30:00",
          "2021-09-12T23:45:00",
          "2021-09-13T00:00:00",
          "2021-09-13T00:15:00",
          "2021-09-13T00:30:00",
          "2021-09-13T00:45:00",
          "2021-09-13T01:00:00",
          "2021-09-13T01:15:00",
          "2021-09-13T01:30:00",
          "2021-09-13T01:45:00",
          "2021-09-13T02:00:00",
          "2021-09-13T02:15:00",
          "2021-09-13T02:30:00",
          "2021-09-13T02:45:00",
          "2021-09-13T03:00:00",
          "2021-09-13T03:15:00",
          "2021-09-13T03:30:00",
          "2021-09-13T03:45:00",
          "2021-09-13T04:00:00",
          "2021-09-13T04:15:00",
          "2021-09-13T04:30:00",
          "2021-09-13T04:45:00",
          "2021-09-13T05:00:00",
          "2021-09-13T05:15:00",
          "2021-09-13T05:30:00",
          "2021-09-13T05:45:00",
          "2021-09-13T06:00:00",
          "2021-09-13T06:15:00",
          "2021-09-13T06:30:00",
          "2021-09-13T06:45:00",
          "2021-09-13T07:00:00",
          "2021-09-13T07:15:00",
          "2021-09-13T07:30:00",
          "2021-09-13T07:45:00",
          "2021-09-13T08:00:00",
          "2021-09-13T08:15:00",
          "2021-09-13T08:30:00",
          "2021-09-13T08:45:00",
          "2021-09-13T09:00:00",
          "2021-09-13T09:15:00",
          "2021-09-13T09:30:00",
          "2021-09-13T09:45:00",
          "2021-09-13T10:00:00",
          "2021-09-13T10:15:00",
          "2021-09-13T10:30:00",
          "2021-09-13T10:45:00",
          "2021-09-13T11:00:00",
          "2021-09-13T11:15:00",
          "2021-09-13T11:30:00",
          "2021-09-13T11:45:00",
          "2021-09-13T12:00:00",
          "2021-09-13T12:15:00",
          "2021-09-13T12:30:00",
          "2021-09-13T12:45:00",
          "2021-09-13T13:00:00",
          "2021-09-13T13:15:00",
          "2021-09-13T13:30:00",
          "2021-09-13T13:45:00",
          "2021-09-13T14:00:00",
          "2021-09-13T14:15:00",
          "2021-09-13T14:30:00",
          "2021-09-13T14:45:00",
          "2021-09-13T15:00:00",
          "2021-09-13T15:15:00",
          "2021-09-13T15:30:00",
          "2021-09-13T15:45:00",
          "2021-09-13T16:00:00",
          "2021-09-13T16:15:00",
          "2021-09-13T16:30:00",
          "2021-09-13T16:45:00",
          "2021-09-13T17:00:00",
          "2021-09-13T17:15:00",
          "2021-09-13T17:30:00",
          "2021-09-13T17:45:00",
          "2021-09-13T18:00:00",
          "2021-09-13T18:15:00",
          "2021-09-13T18:30:00",
          "2021-09-13T18:45:00",
          "2021-09-13T19:00:00",
          "2021-09-13T19:15:00",
          "2021-09-13T19:30:00",
          "2021-09-13T19:45:00",
          "2021-09-13T20:00:00",
          "2021-09-13T20:15:00",
          "2021-09-13T20:30:00",
          "2021-09-13T20:45:00",
          "2021-09-13T21:00:00",
          "2021-09-13T21:15:00",
          "2021-09-13T21:30:00",
          "2021-09-13T21:45:00",
          "2021-09-13T22:00:00",
          "2021-09-13T22:15:00",
          "2021-09-13T22:30:00",
          "2021-09-13T22:45:00",
          "2021-09-13T23:00:00",
          "2021-09-13T23:15:00",
          "2021-09-13T23:30:00",
          "2021-09-13T23:45:00",
          "2021-09-14T00:00:00",
          "2021-09-14T00:15:00",
          "2021-09-14T00:30:00",
          "2021-09-14T00:45:00",
          "2021-09-14T01:00:00",
          "2021-09-14T01:15:00",
          "2021-09-14T01:30:00",
          "2021-09-14T01:45:00",
          "2021-09-14T02:00:00",
          "2021-09-14T02:15:00",
          "2021-09-14T02:30:00",
          "2021-09-14T02:45:00",
          "2021-09-14T03:00:00",
          "2021-09-14T03:15:00",
          "2021-09-14T03:30:00",
          "2021-09-14T03:45:00",
          "2021-09-14T04:00:00",
          "2021-09-14T04:15:00",
          "2021-09-14T04:30:00",
          "2021-09-14T04:45:00",
          "2021-09-14T05:00:00",
          "2021-09-14T05:15:00",
          "2021-09-14T05:30:00",
          "2021-09-14T05:45:00",
          "2021-09-14T06:00:00",
          "2021-09-14T06:15:00",
          "2021-09-14T06:30:00",
          "2021-09-14T06:45:00",
          "2021-09-14T07:00:00",
          "2021-09-14T07:15:00",
          "2021-09-14T07:30:00",
          "2021-09-14T07:45:00",
          "2021-09-14T08:00:00",
          "2021-09-14T08:15:00",
          "2021-09-14T08:30:00",
          "2021-09-14T08:45:00",
          "2021-09-14T09:00:00",
          "2021-09-14T09:15:00",
          "2021-09-14T09:30:00",
          "2021-09-14T09:45:00",
          "2021-09-14T10:00:00",
          "2021-09-14T10:15:00",
          "2021-09-14T10:30:00",
          "2021-09-14T10:45:00",
          "2021-09-14T11:00:00",
          "2021-09-14T11:15:00",
          "2021-09-14T11:30:00",
          "2021-09-14T11:45:00",
          "2021-09-14T12:00:00",
          "2021-09-14T12:15:00",
          "2021-09-14T12:30:00",
          "2021-09-14T12:45:00",
          "2021-09-14T13:00:00",
          "2021-09-14T13:15:00",
          "2021-09-14T13:30:00",
          "2021-09-14T13:45:00",
          "2021-09-14T14:00:00",
          "2021-09-14T14:15:00",
          "2021-09-14T14:30:00",
          "2021-09-14T14:45:00",
          "2021-09-14T15:00:00",
          "2021-09-14T15:15:00",
          "2021-09-14T15:30:00",
          "2021-09-14T15:45:00",
          "2021-09-14T16:00:00",
          "2021-09-14T16:15:00",
          "2021-09-14T16:30:00",
          "2021-09-14T16:45:00",
          "2021-09-14T17:00:00",
          "2021-09-14T17:15:00",
          "2021-09-14T17:30:00",
          "2021-09-14T17:45:00",
          "2021-09-14T18:00:00",
          "2021-09-14T18:15:00",
          "2021-09-14T18:30:00",
          "2021-09-14T18:45:00",
          "2021-09-14T19:00:00",
          "2021-09-14T19:15:00",
          "2021-09-14T19:30:00",
          "2021-09-14T19:45:00",
          "2021-09-14T20:00:00",
          "2021-09-14T20:15:00",
          "2021-09-14T20:30:00",
          "2021-09-14T20:45:00",
          "2021-09-14T21:00:00",
          "2021-09-14T21:15:00",
          "2021-09-14T21:30:00",
          "2021-09-14T21:45:00",
          "2021-09-14T22:00:00",
          "2021-09-14T22:15:00",
          "2021-09-14T22:30:00",
          "2021-09-14T22:45:00",
          "2021-09-14T23:00:00",
          "2021-09-14T23:15:00",
          "2021-09-14T23:30:00",
          "2021-09-14T23:45:00",
          "2021-09-15T00:00:00",
          "2021-09-15T00:15:00",
          "2021-09-15T00:30:00",
          "2021-09-15T00:45:00"
         ],
         "legendgroup": "Unoccupied",
         "marker": {
          "color": "green",
          "pattern": {
           "shape": ""
          }
         },
         "name": "Unoccupied",
         "offsetgroup": "Unoccupied",
         "orientation": "v",
         "showlegend": true,
         "textposition": "auto",
         "type": "bar",
         "x": [
          "2021-09-09T11:00:00",
          "2021-09-09T11:15:00",
          "2021-09-09T11:30:00",
          "2021-09-09T11:45:00",
          "2021-09-09T12:00:00",
          "2021-09-09T12:15:00",
          "2021-09-09T12:30:00",
          "2021-09-09T12:45:00",
          "2021-09-09T13:00:00",
          "2021-09-09T13:15:00",
          "2021-09-09T13:30:00",
          "2021-09-09T13:45:00",
          "2021-09-09T14:00:00",
          "2021-09-09T14:15:00",
          "2021-09-09T14:30:00",
          "2021-09-09T14:45:00",
          "2021-09-09T15:00:00",
          "2021-09-09T15:15:00",
          "2021-09-09T15:30:00",
          "2021-09-09T15:45:00",
          "2021-09-09T16:00:00",
          "2021-09-09T16:15:00",
          "2021-09-09T16:30:00",
          "2021-09-09T16:45:00",
          "2021-09-09T17:00:00",
          "2021-09-09T17:15:00",
          "2021-09-09T17:30:00",
          "2021-09-09T17:45:00",
          "2021-09-09T18:00:00",
          "2021-09-09T18:15:00",
          "2021-09-09T18:30:00",
          "2021-09-09T18:45:00",
          "2021-09-09T19:00:00",
          "2021-09-09T19:15:00",
          "2021-09-09T19:30:00",
          "2021-09-09T19:45:00",
          "2021-09-09T20:00:00",
          "2021-09-09T20:15:00",
          "2021-09-09T20:30:00",
          "2021-09-09T20:45:00",
          "2021-09-09T21:00:00",
          "2021-09-09T21:15:00",
          "2021-09-09T21:30:00",
          "2021-09-09T21:45:00",
          "2021-09-09T22:00:00",
          "2021-09-09T22:15:00",
          "2021-09-09T22:30:00",
          "2021-09-09T22:45:00",
          "2021-09-09T23:00:00",
          "2021-09-09T23:15:00",
          "2021-09-09T23:30:00",
          "2021-09-09T23:45:00",
          "2021-09-10T00:00:00",
          "2021-09-10T00:15:00",
          "2021-09-10T00:30:00",
          "2021-09-10T00:45:00",
          "2021-09-10T01:00:00",
          "2021-09-10T01:15:00",
          "2021-09-10T01:30:00",
          "2021-09-10T01:45:00",
          "2021-09-10T02:00:00",
          "2021-09-10T02:15:00",
          "2021-09-10T02:30:00",
          "2021-09-10T02:45:00",
          "2021-09-10T03:00:00",
          "2021-09-10T03:15:00",
          "2021-09-10T03:30:00",
          "2021-09-10T03:45:00",
          "2021-09-10T04:00:00",
          "2021-09-10T04:15:00",
          "2021-09-10T04:30:00",
          "2021-09-10T04:45:00",
          "2021-09-10T05:00:00",
          "2021-09-10T05:15:00",
          "2021-09-10T05:30:00",
          "2021-09-10T05:45:00",
          "2021-09-10T06:00:00",
          "2021-09-10T06:15:00",
          "2021-09-10T06:30:00",
          "2021-09-10T06:45:00",
          "2021-09-10T07:00:00",
          "2021-09-10T07:15:00",
          "2021-09-10T07:30:00",
          "2021-09-10T07:45:00",
          "2021-09-10T08:00:00",
          "2021-09-10T08:15:00",
          "2021-09-10T08:30:00",
          "2021-09-10T08:45:00",
          "2021-09-10T09:00:00",
          "2021-09-10T09:15:00",
          "2021-09-10T09:30:00",
          "2021-09-10T09:45:00",
          "2021-09-10T10:00:00",
          "2021-09-10T10:15:00",
          "2021-09-10T10:30:00",
          "2021-09-10T10:45:00",
          "2021-09-10T11:00:00",
          "2021-09-10T11:15:00",
          "2021-09-10T11:30:00",
          "2021-09-10T11:45:00",
          "2021-09-10T12:00:00",
          "2021-09-10T12:15:00",
          "2021-09-10T12:30:00",
          "2021-09-10T12:45:00",
          "2021-09-10T13:00:00",
          "2021-09-10T13:15:00",
          "2021-09-10T13:30:00",
          "2021-09-10T13:45:00",
          "2021-09-10T14:00:00",
          "2021-09-10T14:15:00",
          "2021-09-10T14:30:00",
          "2021-09-10T14:45:00",
          "2021-09-10T15:00:00",
          "2021-09-10T15:15:00",
          "2021-09-10T15:30:00",
          "2021-09-10T15:45:00",
          "2021-09-10T16:00:00",
          "2021-09-10T16:15:00",
          "2021-09-10T16:30:00",
          "2021-09-10T16:45:00",
          "2021-09-10T17:00:00",
          "2021-09-10T17:15:00",
          "2021-09-10T17:30:00",
          "2021-09-10T17:45:00",
          "2021-09-10T18:00:00",
          "2021-09-10T18:15:00",
          "2021-09-10T18:30:00",
          "2021-09-10T18:45:00",
          "2021-09-10T19:00:00",
          "2021-09-10T19:15:00",
          "2021-09-10T19:30:00",
          "2021-09-10T19:45:00",
          "2021-09-10T20:00:00",
          "2021-09-10T20:15:00",
          "2021-09-10T20:30:00",
          "2021-09-10T20:45:00",
          "2021-09-10T21:00:00",
          "2021-09-10T21:15:00",
          "2021-09-10T21:30:00",
          "2021-09-10T21:45:00",
          "2021-09-10T22:00:00",
          "2021-09-10T22:15:00",
          "2021-09-10T22:30:00",
          "2021-09-10T22:45:00",
          "2021-09-10T23:00:00",
          "2021-09-10T23:15:00",
          "2021-09-10T23:30:00",
          "2021-09-10T23:45:00",
          "2021-09-11T00:00:00",
          "2021-09-11T00:15:00",
          "2021-09-11T00:30:00",
          "2021-09-11T00:45:00",
          "2021-09-11T01:00:00",
          "2021-09-11T01:15:00",
          "2021-09-11T01:30:00",
          "2021-09-11T01:45:00",
          "2021-09-11T02:00:00",
          "2021-09-11T02:15:00",
          "2021-09-11T02:30:00",
          "2021-09-11T02:45:00",
          "2021-09-11T03:00:00",
          "2021-09-11T03:15:00",
          "2021-09-11T03:30:00",
          "2021-09-11T03:45:00",
          "2021-09-11T04:00:00",
          "2021-09-11T04:15:00",
          "2021-09-11T04:30:00",
          "2021-09-11T04:45:00",
          "2021-09-11T05:00:00",
          "2021-09-11T05:15:00",
          "2021-09-11T05:30:00",
          "2021-09-11T05:45:00",
          "2021-09-11T06:00:00",
          "2021-09-11T06:15:00",
          "2021-09-11T06:30:00",
          "2021-09-11T06:45:00",
          "2021-09-11T07:00:00",
          "2021-09-11T07:15:00",
          "2021-09-11T07:30:00",
          "2021-09-11T07:45:00",
          "2021-09-11T08:00:00",
          "2021-09-11T08:15:00",
          "2021-09-11T08:30:00",
          "2021-09-11T08:45:00",
          "2021-09-11T09:00:00",
          "2021-09-11T09:15:00",
          "2021-09-11T09:30:00",
          "2021-09-11T09:45:00",
          "2021-09-11T10:00:00",
          "2021-09-11T10:15:00",
          "2021-09-11T10:30:00",
          "2021-09-11T10:45:00",
          "2021-09-11T11:00:00",
          "2021-09-11T11:15:00",
          "2021-09-11T11:30:00",
          "2021-09-11T11:45:00",
          "2021-09-11T12:00:00",
          "2021-09-11T12:15:00",
          "2021-09-11T12:30:00",
          "2021-09-11T12:45:00",
          "2021-09-11T13:00:00",
          "2021-09-11T13:15:00",
          "2021-09-11T13:30:00",
          "2021-09-11T13:45:00",
          "2021-09-11T14:00:00",
          "2021-09-11T14:15:00",
          "2021-09-11T14:30:00",
          "2021-09-11T14:45:00",
          "2021-09-11T15:00:00",
          "2021-09-11T15:15:00",
          "2021-09-11T15:30:00",
          "2021-09-11T15:45:00",
          "2021-09-11T16:00:00",
          "2021-09-11T16:15:00",
          "2021-09-11T16:30:00",
          "2021-09-11T16:45:00",
          "2021-09-11T17:00:00",
          "2021-09-11T17:15:00",
          "2021-09-11T17:30:00",
          "2021-09-11T17:45:00",
          "2021-09-11T18:00:00",
          "2021-09-11T18:15:00",
          "2021-09-11T18:30:00",
          "2021-09-11T18:45:00",
          "2021-09-11T19:00:00",
          "2021-09-11T19:15:00",
          "2021-09-11T19:30:00",
          "2021-09-11T19:45:00",
          "2021-09-11T20:00:00",
          "2021-09-11T20:15:00",
          "2021-09-11T20:30:00",
          "2021-09-11T20:45:00",
          "2021-09-11T21:00:00",
          "2021-09-11T21:15:00",
          "2021-09-11T21:30:00",
          "2021-09-11T21:45:00",
          "2021-09-11T22:00:00",
          "2021-09-11T22:15:00",
          "2021-09-11T22:30:00",
          "2021-09-11T22:45:00",
          "2021-09-11T23:00:00",
          "2021-09-11T23:15:00",
          "2021-09-11T23:30:00",
          "2021-09-11T23:45:00",
          "2021-09-12T00:00:00",
          "2021-09-12T00:15:00",
          "2021-09-12T00:30:00",
          "2021-09-12T00:45:00",
          "2021-09-12T01:00:00",
          "2021-09-12T01:15:00",
          "2021-09-12T01:30:00",
          "2021-09-12T01:45:00",
          "2021-09-12T02:00:00",
          "2021-09-12T02:15:00",
          "2021-09-12T02:30:00",
          "2021-09-12T02:45:00",
          "2021-09-12T03:00:00",
          "2021-09-12T03:15:00",
          "2021-09-12T03:30:00",
          "2021-09-12T03:45:00",
          "2021-09-12T04:00:00",
          "2021-09-12T04:15:00",
          "2021-09-12T04:30:00",
          "2021-09-12T04:45:00",
          "2021-09-12T05:00:00",
          "2021-09-12T05:15:00",
          "2021-09-12T05:30:00",
          "2021-09-12T05:45:00",
          "2021-09-12T06:00:00",
          "2021-09-12T06:15:00",
          "2021-09-12T06:30:00",
          "2021-09-12T06:45:00",
          "2021-09-12T07:00:00",
          "2021-09-12T07:15:00",
          "2021-09-12T07:30:00",
          "2021-09-12T07:45:00",
          "2021-09-12T08:00:00",
          "2021-09-12T08:15:00",
          "2021-09-12T08:30:00",
          "2021-09-12T08:45:00",
          "2021-09-12T09:00:00",
          "2021-09-12T09:15:00",
          "2021-09-12T09:30:00",
          "2021-09-12T09:45:00",
          "2021-09-12T10:00:00",
          "2021-09-12T10:15:00",
          "2021-09-12T10:30:00",
          "2021-09-12T10:45:00",
          "2021-09-12T11:00:00",
          "2021-09-12T11:15:00",
          "2021-09-12T11:30:00",
          "2021-09-12T11:45:00",
          "2021-09-12T12:00:00",
          "2021-09-12T12:15:00",
          "2021-09-12T12:30:00",
          "2021-09-12T12:45:00",
          "2021-09-12T13:00:00",
          "2021-09-12T13:15:00",
          "2021-09-12T13:30:00",
          "2021-09-12T13:45:00",
          "2021-09-12T14:00:00",
          "2021-09-12T14:15:00",
          "2021-09-12T14:30:00",
          "2021-09-12T14:45:00",
          "2021-09-12T15:00:00",
          "2021-09-12T15:15:00",
          "2021-09-12T15:30:00",
          "2021-09-12T15:45:00",
          "2021-09-12T16:00:00",
          "2021-09-12T16:15:00",
          "2021-09-12T16:30:00",
          "2021-09-12T16:45:00",
          "2021-09-12T17:00:00",
          "2021-09-12T17:15:00",
          "2021-09-12T17:30:00",
          "2021-09-12T17:45:00",
          "2021-09-12T18:00:00",
          "2021-09-12T18:15:00",
          "2021-09-12T18:30:00",
          "2021-09-12T18:45:00",
          "2021-09-12T19:00:00",
          "2021-09-12T19:15:00",
          "2021-09-12T19:30:00",
          "2021-09-12T19:45:00",
          "2021-09-12T20:00:00",
          "2021-09-12T20:15:00",
          "2021-09-12T20:30:00",
          "2021-09-12T20:45:00",
          "2021-09-12T21:00:00",
          "2021-09-12T21:15:00",
          "2021-09-12T21:30:00",
          "2021-09-12T21:45:00",
          "2021-09-12T22:00:00",
          "2021-09-12T22:15:00",
          "2021-09-12T22:30:00",
          "2021-09-12T22:45:00",
          "2021-09-12T23:00:00",
          "2021-09-12T23:15:00",
          "2021-09-12T23:30:00",
          "2021-09-12T23:45:00",
          "2021-09-13T00:00:00",
          "2021-09-13T00:15:00",
          "2021-09-13T00:30:00",
          "2021-09-13T00:45:00",
          "2021-09-13T01:00:00",
          "2021-09-13T01:15:00",
          "2021-09-13T01:30:00",
          "2021-09-13T01:45:00",
          "2021-09-13T02:00:00",
          "2021-09-13T02:15:00",
          "2021-09-13T02:30:00",
          "2021-09-13T02:45:00",
          "2021-09-13T03:00:00",
          "2021-09-13T03:15:00",
          "2021-09-13T03:30:00",
          "2021-09-13T03:45:00",
          "2021-09-13T04:00:00",
          "2021-09-13T04:15:00",
          "2021-09-13T04:30:00",
          "2021-09-13T04:45:00",
          "2021-09-13T05:00:00",
          "2021-09-13T05:15:00",
          "2021-09-13T05:30:00",
          "2021-09-13T05:45:00",
          "2021-09-13T06:00:00",
          "2021-09-13T06:15:00",
          "2021-09-13T06:30:00",
          "2021-09-13T06:45:00",
          "2021-09-13T07:00:00",
          "2021-09-13T07:15:00",
          "2021-09-13T07:30:00",
          "2021-09-13T07:45:00",
          "2021-09-13T08:00:00",
          "2021-09-13T08:15:00",
          "2021-09-13T08:30:00",
          "2021-09-13T08:45:00",
          "2021-09-13T09:00:00",
          "2021-09-13T09:15:00",
          "2021-09-13T09:30:00",
          "2021-09-13T09:45:00",
          "2021-09-13T10:00:00",
          "2021-09-13T10:15:00",
          "2021-09-13T10:30:00",
          "2021-09-13T10:45:00",
          "2021-09-13T11:00:00",
          "2021-09-13T11:15:00",
          "2021-09-13T11:30:00",
          "2021-09-13T11:45:00",
          "2021-09-13T12:00:00",
          "2021-09-13T12:15:00",
          "2021-09-13T12:30:00",
          "2021-09-13T12:45:00",
          "2021-09-13T13:00:00",
          "2021-09-13T13:15:00",
          "2021-09-13T13:30:00",
          "2021-09-13T13:45:00",
          "2021-09-13T14:00:00",
          "2021-09-13T14:15:00",
          "2021-09-13T14:30:00",
          "2021-09-13T14:45:00",
          "2021-09-13T15:00:00",
          "2021-09-13T15:15:00",
          "2021-09-13T15:30:00",
          "2021-09-13T15:45:00",
          "2021-09-13T16:00:00",
          "2021-09-13T16:15:00",
          "2021-09-13T16:30:00",
          "2021-09-13T16:45:00",
          "2021-09-13T17:00:00",
          "2021-09-13T17:15:00",
          "2021-09-13T17:30:00",
          "2021-09-13T17:45:00",
          "2021-09-13T18:00:00",
          "2021-09-13T18:15:00",
          "2021-09-13T18:30:00",
          "2021-09-13T18:45:00",
          "2021-09-13T19:00:00",
          "2021-09-13T19:15:00",
          "2021-09-13T19:30:00",
          "2021-09-13T19:45:00",
          "2021-09-13T20:00:00",
          "2021-09-13T20:15:00",
          "2021-09-13T20:30:00",
          "2021-09-13T20:45:00",
          "2021-09-13T21:00:00",
          "2021-09-13T21:15:00",
          "2021-09-13T21:30:00",
          "2021-09-13T21:45:00",
          "2021-09-13T22:00:00",
          "2021-09-13T22:15:00",
          "2021-09-13T22:30:00",
          "2021-09-13T22:45:00",
          "2021-09-13T23:00:00",
          "2021-09-13T23:15:00",
          "2021-09-13T23:30:00",
          "2021-09-13T23:45:00",
          "2021-09-14T00:00:00",
          "2021-09-14T00:15:00",
          "2021-09-14T00:30:00",
          "2021-09-14T00:45:00",
          "2021-09-14T01:00:00",
          "2021-09-14T01:15:00",
          "2021-09-14T01:30:00",
          "2021-09-14T01:45:00",
          "2021-09-14T02:00:00",
          "2021-09-14T02:15:00",
          "2021-09-14T02:30:00",
          "2021-09-14T02:45:00",
          "2021-09-14T03:00:00",
          "2021-09-14T03:15:00",
          "2021-09-14T03:30:00",
          "2021-09-14T03:45:00",
          "2021-09-14T04:00:00",
          "2021-09-14T04:15:00",
          "2021-09-14T04:30:00",
          "2021-09-14T04:45:00",
          "2021-09-14T05:00:00",
          "2021-09-14T05:15:00",
          "2021-09-14T05:30:00",
          "2021-09-14T05:45:00",
          "2021-09-14T06:00:00",
          "2021-09-14T06:15:00",
          "2021-09-14T06:30:00",
          "2021-09-14T06:45:00",
          "2021-09-14T07:00:00",
          "2021-09-14T07:15:00",
          "2021-09-14T07:30:00",
          "2021-09-14T07:45:00",
          "2021-09-14T08:00:00",
          "2021-09-14T08:15:00",
          "2021-09-14T08:30:00",
          "2021-09-14T08:45:00",
          "2021-09-14T09:00:00",
          "2021-09-14T09:15:00",
          "2021-09-14T09:30:00",
          "2021-09-14T09:45:00",
          "2021-09-14T10:00:00",
          "2021-09-14T10:15:00",
          "2021-09-14T10:30:00",
          "2021-09-14T10:45:00",
          "2021-09-14T11:00:00",
          "2021-09-14T11:15:00",
          "2021-09-14T11:30:00",
          "2021-09-14T11:45:00",
          "2021-09-14T12:00:00",
          "2021-09-14T12:15:00",
          "2021-09-14T12:30:00",
          "2021-09-14T12:45:00",
          "2021-09-14T13:00:00",
          "2021-09-14T13:15:00",
          "2021-09-14T13:30:00",
          "2021-09-14T13:45:00",
          "2021-09-14T14:00:00",
          "2021-09-14T14:15:00",
          "2021-09-14T14:30:00",
          "2021-09-14T14:45:00",
          "2021-09-14T15:00:00",
          "2021-09-14T15:15:00",
          "2021-09-14T15:30:00",
          "2021-09-14T15:45:00",
          "2021-09-14T16:00:00",
          "2021-09-14T16:15:00",
          "2021-09-14T16:30:00",
          "2021-09-14T16:45:00",
          "2021-09-14T17:00:00",
          "2021-09-14T17:15:00",
          "2021-09-14T17:30:00",
          "2021-09-14T17:45:00",
          "2021-09-14T18:00:00",
          "2021-09-14T18:15:00",
          "2021-09-14T18:30:00",
          "2021-09-14T18:45:00",
          "2021-09-14T19:00:00",
          "2021-09-14T19:15:00",
          "2021-09-14T19:30:00",
          "2021-09-14T19:45:00",
          "2021-09-14T20:00:00",
          "2021-09-14T20:15:00",
          "2021-09-14T20:30:00",
          "2021-09-14T20:45:00",
          "2021-09-14T21:00:00",
          "2021-09-14T21:15:00",
          "2021-09-14T21:30:00",
          "2021-09-14T21:45:00",
          "2021-09-14T22:00:00",
          "2021-09-14T22:15:00",
          "2021-09-14T22:30:00",
          "2021-09-14T22:45:00",
          "2021-09-14T23:00:00",
          "2021-09-14T23:15:00",
          "2021-09-14T23:30:00",
          "2021-09-14T23:45:00",
          "2021-09-15T00:00:00",
          "2021-09-15T00:15:00",
          "2021-09-15T00:30:00",
          "2021-09-15T00:45:00"
         ],
         "xaxis": "x",
         "y": [
          3,
          3,
          3,
          3,
          3,
          3,
          3,
          3,
          3,
          3,
          3,
          3,
          3,
          4,
          4,
          4,
          4,
          4,
          4,
          4,
          4,
          5,
          5,
          4,
          5,
          4,
          5,
          5,
          5,
          5,
          4,
          4,
          4,
          5,
          5,
          5,
          5,
          5,
          5,
          5,
          5,
          5,
          5,
          5,
          5,
          5,
          5,
          5,
          5,
          5,
          5,
          5,
          6,
          5,
          5,
          5,
          3,
          3,
          3,
          3,
          3,
          3,
          3,
          3,
          3,
          3,
          3,
          3,
          3,
          3,
          3,
          3,
          3,
          3,
          1,
          1,
          1,
          1,
          1,
          1,
          1,
          1,
          1,
          0,
          1,
          0,
          1,
          0,
          1,
          1,
          1,
          1,
          1,
          1,
          1,
          1,
          1,
          1,
          1,
          1,
          1,
          1,
          1,
          1,
          1,
          1,
          0,
          1,
          2,
          3,
          2,
          2,
          2,
          2,
          2,
          4,
          4,
          4,
          4,
          5,
          4,
          5,
          5,
          4,
          5,
          5,
          4,
          4,
          3,
          5,
          4,
          4,
          4,
          4,
          4,
          4,
          4,
          4,
          4,
          4,
          4,
          4,
          4,
          4,
          4,
          4,
          4,
          4,
          6,
          5,
          4,
          4,
          5,
          6,
          6,
          6,
          4,
          8,
          4,
          6,
          6,
          6,
          4,
          4,
          8,
          6,
          6,
          6,
          8,
          6,
          6,
          5,
          6,
          6,
          8,
          6,
          5,
          4,
          5,
          6,
          4,
          5,
          4,
          4,
          6,
          6,
          4,
          8,
          4,
          5,
          3,
          6,
          3,
          5,
          5,
          3,
          5,
          7,
          7,
          7,
          3,
          5,
          5,
          5,
          4,
          5,
          5,
          5,
          3,
          5,
          5,
          3,
          3,
          5,
          7,
          7,
          4,
          6,
          7,
          5,
          4,
          5,
          6,
          null,
          8,
          6,
          6,
          9,
          5,
          7,
          7,
          7,
          5,
          9,
          9,
          6,
          6,
          4,
          5,
          5,
          5,
          4,
          5,
          5,
          5,
          6,
          6,
          7,
          7,
          4,
          4,
          5,
          5,
          5,
          4,
          3,
          4,
          4,
          3,
          3,
          4,
          5,
          4,
          4,
          5,
          4,
          4,
          5,
          4,
          3,
          5,
          5,
          4,
          4,
          4,
          4,
          4,
          5,
          4,
          3,
          4,
          3,
          3,
          5,
          5,
          5,
          5,
          5,
          5,
          3,
          4,
          4,
          6,
          5,
          5,
          5,
          2,
          4,
          3,
          5,
          4,
          4,
          4,
          4,
          4,
          3,
          6,
          5,
          4,
          5,
          5,
          4,
          4,
          5,
          4,
          4,
          4,
          5,
          6,
          5,
          4,
          5,
          5,
          5,
          5,
          6,
          7,
          6,
          6,
          4,
          7,
          5,
          7,
          6,
          6,
          7,
          5,
          6,
          6,
          6,
          6,
          5,
          6,
          7,
          5,
          5,
          5,
          5,
          5,
          5,
          5,
          5,
          5,
          5,
          5,
          5,
          5,
          5,
          5,
          5,
          5,
          5,
          5,
          5,
          5,
          3,
          3,
          4,
          3,
          4,
          4,
          4,
          4,
          4,
          3,
          2,
          2,
          2,
          2,
          2,
          3,
          2,
          3,
          2,
          4,
          4,
          4,
          4,
          3,
          4,
          4,
          3,
          4,
          4,
          4,
          4,
          4,
          3,
          3,
          3,
          3,
          3,
          6,
          6,
          5,
          5,
          5,
          6,
          5,
          5,
          5,
          5,
          5,
          5,
          5,
          5,
          5,
          5,
          6,
          7,
          5,
          4,
          4,
          5,
          6,
          5,
          5,
          5,
          5,
          6,
          5,
          5,
          5,
          5,
          5,
          5,
          6,
          6,
          7,
          6,
          4,
          4,
          2,
          4,
          2,
          2,
          4,
          4,
          4,
          2,
          2,
          4,
          2,
          2,
          4,
          4,
          4,
          6,
          3,
          3,
          3,
          5,
          1,
          2,
          2,
          2,
          2,
          4,
          2,
          2,
          4,
          1,
          1,
          2,
          1,
          0,
          4,
          2,
          0,
          4,
          4,
          2,
          1,
          2,
          2,
          2,
          0,
          0,
          0,
          2,
          2,
          0,
          4,
          2,
          2,
          2,
          0,
          2,
          2,
          1,
          1,
          2,
          2,
          3,
          1,
          3,
          2,
          2,
          4,
          3,
          3,
          1,
          5,
          1,
          1,
          3,
          4,
          3,
          3,
          4,
          3,
          7,
          5,
          5,
          7,
          5,
          5,
          3,
          7,
          7,
          5,
          7,
          6,
          6,
          6,
          6
         ],
         "yaxis": "y"
        },
        {
         "alignmentgroup": "True",
         "hovertemplate": "<b>%{hovertext}</b><br><br>variable=Present<br>time_interval=%{x}<br>value=%{y}<extra></extra>",
         "hovertext": [
          "2021-09-09T11:00:00",
          "2021-09-09T11:15:00",
          "2021-09-09T11:30:00",
          "2021-09-09T11:45:00",
          "2021-09-09T12:00:00",
          "2021-09-09T12:15:00",
          "2021-09-09T12:30:00",
          "2021-09-09T12:45:00",
          "2021-09-09T13:00:00",
          "2021-09-09T13:15:00",
          "2021-09-09T13:30:00",
          "2021-09-09T13:45:00",
          "2021-09-09T14:00:00",
          "2021-09-09T14:15:00",
          "2021-09-09T14:30:00",
          "2021-09-09T14:45:00",
          "2021-09-09T15:00:00",
          "2021-09-09T15:15:00",
          "2021-09-09T15:30:00",
          "2021-09-09T15:45:00",
          "2021-09-09T16:00:00",
          "2021-09-09T16:15:00",
          "2021-09-09T16:30:00",
          "2021-09-09T16:45:00",
          "2021-09-09T17:00:00",
          "2021-09-09T17:15:00",
          "2021-09-09T17:30:00",
          "2021-09-09T17:45:00",
          "2021-09-09T18:00:00",
          "2021-09-09T18:15:00",
          "2021-09-09T18:30:00",
          "2021-09-09T18:45:00",
          "2021-09-09T19:00:00",
          "2021-09-09T19:15:00",
          "2021-09-09T19:30:00",
          "2021-09-09T19:45:00",
          "2021-09-09T20:00:00",
          "2021-09-09T20:15:00",
          "2021-09-09T20:30:00",
          "2021-09-09T20:45:00",
          "2021-09-09T21:00:00",
          "2021-09-09T21:15:00",
          "2021-09-09T21:30:00",
          "2021-09-09T21:45:00",
          "2021-09-09T22:00:00",
          "2021-09-09T22:15:00",
          "2021-09-09T22:30:00",
          "2021-09-09T22:45:00",
          "2021-09-09T23:00:00",
          "2021-09-09T23:15:00",
          "2021-09-09T23:30:00",
          "2021-09-09T23:45:00",
          "2021-09-10T00:00:00",
          "2021-09-10T00:15:00",
          "2021-09-10T00:30:00",
          "2021-09-10T00:45:00",
          "2021-09-10T01:00:00",
          "2021-09-10T01:15:00",
          "2021-09-10T01:30:00",
          "2021-09-10T01:45:00",
          "2021-09-10T02:00:00",
          "2021-09-10T02:15:00",
          "2021-09-10T02:30:00",
          "2021-09-10T02:45:00",
          "2021-09-10T03:00:00",
          "2021-09-10T03:15:00",
          "2021-09-10T03:30:00",
          "2021-09-10T03:45:00",
          "2021-09-10T04:00:00",
          "2021-09-10T04:15:00",
          "2021-09-10T04:30:00",
          "2021-09-10T04:45:00",
          "2021-09-10T05:00:00",
          "2021-09-10T05:15:00",
          "2021-09-10T05:30:00",
          "2021-09-10T05:45:00",
          "2021-09-10T06:00:00",
          "2021-09-10T06:15:00",
          "2021-09-10T06:30:00",
          "2021-09-10T06:45:00",
          "2021-09-10T07:00:00",
          "2021-09-10T07:15:00",
          "2021-09-10T07:30:00",
          "2021-09-10T07:45:00",
          "2021-09-10T08:00:00",
          "2021-09-10T08:15:00",
          "2021-09-10T08:30:00",
          "2021-09-10T08:45:00",
          "2021-09-10T09:00:00",
          "2021-09-10T09:15:00",
          "2021-09-10T09:30:00",
          "2021-09-10T09:45:00",
          "2021-09-10T10:00:00",
          "2021-09-10T10:15:00",
          "2021-09-10T10:30:00",
          "2021-09-10T10:45:00",
          "2021-09-10T11:00:00",
          "2021-09-10T11:15:00",
          "2021-09-10T11:30:00",
          "2021-09-10T11:45:00",
          "2021-09-10T12:00:00",
          "2021-09-10T12:15:00",
          "2021-09-10T12:30:00",
          "2021-09-10T12:45:00",
          "2021-09-10T13:00:00",
          "2021-09-10T13:15:00",
          "2021-09-10T13:30:00",
          "2021-09-10T13:45:00",
          "2021-09-10T14:00:00",
          "2021-09-10T14:15:00",
          "2021-09-10T14:30:00",
          "2021-09-10T14:45:00",
          "2021-09-10T15:00:00",
          "2021-09-10T15:15:00",
          "2021-09-10T15:30:00",
          "2021-09-10T15:45:00",
          "2021-09-10T16:00:00",
          "2021-09-10T16:15:00",
          "2021-09-10T16:30:00",
          "2021-09-10T16:45:00",
          "2021-09-10T17:00:00",
          "2021-09-10T17:15:00",
          "2021-09-10T17:30:00",
          "2021-09-10T17:45:00",
          "2021-09-10T18:00:00",
          "2021-09-10T18:15:00",
          "2021-09-10T18:30:00",
          "2021-09-10T18:45:00",
          "2021-09-10T19:00:00",
          "2021-09-10T19:15:00",
          "2021-09-10T19:30:00",
          "2021-09-10T19:45:00",
          "2021-09-10T20:00:00",
          "2021-09-10T20:15:00",
          "2021-09-10T20:30:00",
          "2021-09-10T20:45:00",
          "2021-09-10T21:00:00",
          "2021-09-10T21:15:00",
          "2021-09-10T21:30:00",
          "2021-09-10T21:45:00",
          "2021-09-10T22:00:00",
          "2021-09-10T22:15:00",
          "2021-09-10T22:30:00",
          "2021-09-10T22:45:00",
          "2021-09-10T23:00:00",
          "2021-09-10T23:15:00",
          "2021-09-10T23:30:00",
          "2021-09-10T23:45:00",
          "2021-09-11T00:00:00",
          "2021-09-11T00:15:00",
          "2021-09-11T00:30:00",
          "2021-09-11T00:45:00",
          "2021-09-11T01:00:00",
          "2021-09-11T01:15:00",
          "2021-09-11T01:30:00",
          "2021-09-11T01:45:00",
          "2021-09-11T02:00:00",
          "2021-09-11T02:15:00",
          "2021-09-11T02:30:00",
          "2021-09-11T02:45:00",
          "2021-09-11T03:00:00",
          "2021-09-11T03:15:00",
          "2021-09-11T03:30:00",
          "2021-09-11T03:45:00",
          "2021-09-11T04:00:00",
          "2021-09-11T04:15:00",
          "2021-09-11T04:30:00",
          "2021-09-11T04:45:00",
          "2021-09-11T05:00:00",
          "2021-09-11T05:15:00",
          "2021-09-11T05:30:00",
          "2021-09-11T05:45:00",
          "2021-09-11T06:00:00",
          "2021-09-11T06:15:00",
          "2021-09-11T06:30:00",
          "2021-09-11T06:45:00",
          "2021-09-11T07:00:00",
          "2021-09-11T07:15:00",
          "2021-09-11T07:30:00",
          "2021-09-11T07:45:00",
          "2021-09-11T08:00:00",
          "2021-09-11T08:15:00",
          "2021-09-11T08:30:00",
          "2021-09-11T08:45:00",
          "2021-09-11T09:00:00",
          "2021-09-11T09:15:00",
          "2021-09-11T09:30:00",
          "2021-09-11T09:45:00",
          "2021-09-11T10:00:00",
          "2021-09-11T10:15:00",
          "2021-09-11T10:30:00",
          "2021-09-11T10:45:00",
          "2021-09-11T11:00:00",
          "2021-09-11T11:15:00",
          "2021-09-11T11:30:00",
          "2021-09-11T11:45:00",
          "2021-09-11T12:00:00",
          "2021-09-11T12:15:00",
          "2021-09-11T12:30:00",
          "2021-09-11T12:45:00",
          "2021-09-11T13:00:00",
          "2021-09-11T13:15:00",
          "2021-09-11T13:30:00",
          "2021-09-11T13:45:00",
          "2021-09-11T14:00:00",
          "2021-09-11T14:15:00",
          "2021-09-11T14:30:00",
          "2021-09-11T14:45:00",
          "2021-09-11T15:00:00",
          "2021-09-11T15:15:00",
          "2021-09-11T15:30:00",
          "2021-09-11T15:45:00",
          "2021-09-11T16:00:00",
          "2021-09-11T16:15:00",
          "2021-09-11T16:30:00",
          "2021-09-11T16:45:00",
          "2021-09-11T17:00:00",
          "2021-09-11T17:15:00",
          "2021-09-11T17:30:00",
          "2021-09-11T17:45:00",
          "2021-09-11T18:00:00",
          "2021-09-11T18:15:00",
          "2021-09-11T18:30:00",
          "2021-09-11T18:45:00",
          "2021-09-11T19:00:00",
          "2021-09-11T19:15:00",
          "2021-09-11T19:30:00",
          "2021-09-11T19:45:00",
          "2021-09-11T20:00:00",
          "2021-09-11T20:15:00",
          "2021-09-11T20:30:00",
          "2021-09-11T20:45:00",
          "2021-09-11T21:00:00",
          "2021-09-11T21:15:00",
          "2021-09-11T21:30:00",
          "2021-09-11T21:45:00",
          "2021-09-11T22:00:00",
          "2021-09-11T22:15:00",
          "2021-09-11T22:30:00",
          "2021-09-11T22:45:00",
          "2021-09-11T23:00:00",
          "2021-09-11T23:15:00",
          "2021-09-11T23:30:00",
          "2021-09-11T23:45:00",
          "2021-09-12T00:00:00",
          "2021-09-12T00:15:00",
          "2021-09-12T00:30:00",
          "2021-09-12T00:45:00",
          "2021-09-12T01:00:00",
          "2021-09-12T01:15:00",
          "2021-09-12T01:30:00",
          "2021-09-12T01:45:00",
          "2021-09-12T02:00:00",
          "2021-09-12T02:15:00",
          "2021-09-12T02:30:00",
          "2021-09-12T02:45:00",
          "2021-09-12T03:00:00",
          "2021-09-12T03:15:00",
          "2021-09-12T03:30:00",
          "2021-09-12T03:45:00",
          "2021-09-12T04:00:00",
          "2021-09-12T04:15:00",
          "2021-09-12T04:30:00",
          "2021-09-12T04:45:00",
          "2021-09-12T05:00:00",
          "2021-09-12T05:15:00",
          "2021-09-12T05:30:00",
          "2021-09-12T05:45:00",
          "2021-09-12T06:00:00",
          "2021-09-12T06:15:00",
          "2021-09-12T06:30:00",
          "2021-09-12T06:45:00",
          "2021-09-12T07:00:00",
          "2021-09-12T07:15:00",
          "2021-09-12T07:30:00",
          "2021-09-12T07:45:00",
          "2021-09-12T08:00:00",
          "2021-09-12T08:15:00",
          "2021-09-12T08:30:00",
          "2021-09-12T08:45:00",
          "2021-09-12T09:00:00",
          "2021-09-12T09:15:00",
          "2021-09-12T09:30:00",
          "2021-09-12T09:45:00",
          "2021-09-12T10:00:00",
          "2021-09-12T10:15:00",
          "2021-09-12T10:30:00",
          "2021-09-12T10:45:00",
          "2021-09-12T11:00:00",
          "2021-09-12T11:15:00",
          "2021-09-12T11:30:00",
          "2021-09-12T11:45:00",
          "2021-09-12T12:00:00",
          "2021-09-12T12:15:00",
          "2021-09-12T12:30:00",
          "2021-09-12T12:45:00",
          "2021-09-12T13:00:00",
          "2021-09-12T13:15:00",
          "2021-09-12T13:30:00",
          "2021-09-12T13:45:00",
          "2021-09-12T14:00:00",
          "2021-09-12T14:15:00",
          "2021-09-12T14:30:00",
          "2021-09-12T14:45:00",
          "2021-09-12T15:00:00",
          "2021-09-12T15:15:00",
          "2021-09-12T15:30:00",
          "2021-09-12T15:45:00",
          "2021-09-12T16:00:00",
          "2021-09-12T16:15:00",
          "2021-09-12T16:30:00",
          "2021-09-12T16:45:00",
          "2021-09-12T17:00:00",
          "2021-09-12T17:15:00",
          "2021-09-12T17:30:00",
          "2021-09-12T17:45:00",
          "2021-09-12T18:00:00",
          "2021-09-12T18:15:00",
          "2021-09-12T18:30:00",
          "2021-09-12T18:45:00",
          "2021-09-12T19:00:00",
          "2021-09-12T19:15:00",
          "2021-09-12T19:30:00",
          "2021-09-12T19:45:00",
          "2021-09-12T20:00:00",
          "2021-09-12T20:15:00",
          "2021-09-12T20:30:00",
          "2021-09-12T20:45:00",
          "2021-09-12T21:00:00",
          "2021-09-12T21:15:00",
          "2021-09-12T21:30:00",
          "2021-09-12T21:45:00",
          "2021-09-12T22:00:00",
          "2021-09-12T22:15:00",
          "2021-09-12T22:30:00",
          "2021-09-12T22:45:00",
          "2021-09-12T23:00:00",
          "2021-09-12T23:15:00",
          "2021-09-12T23:30:00",
          "2021-09-12T23:45:00",
          "2021-09-13T00:00:00",
          "2021-09-13T00:15:00",
          "2021-09-13T00:30:00",
          "2021-09-13T00:45:00",
          "2021-09-13T01:00:00",
          "2021-09-13T01:15:00",
          "2021-09-13T01:30:00",
          "2021-09-13T01:45:00",
          "2021-09-13T02:00:00",
          "2021-09-13T02:15:00",
          "2021-09-13T02:30:00",
          "2021-09-13T02:45:00",
          "2021-09-13T03:00:00",
          "2021-09-13T03:15:00",
          "2021-09-13T03:30:00",
          "2021-09-13T03:45:00",
          "2021-09-13T04:00:00",
          "2021-09-13T04:15:00",
          "2021-09-13T04:30:00",
          "2021-09-13T04:45:00",
          "2021-09-13T05:00:00",
          "2021-09-13T05:15:00",
          "2021-09-13T05:30:00",
          "2021-09-13T05:45:00",
          "2021-09-13T06:00:00",
          "2021-09-13T06:15:00",
          "2021-09-13T06:30:00",
          "2021-09-13T06:45:00",
          "2021-09-13T07:00:00",
          "2021-09-13T07:15:00",
          "2021-09-13T07:30:00",
          "2021-09-13T07:45:00",
          "2021-09-13T08:00:00",
          "2021-09-13T08:15:00",
          "2021-09-13T08:30:00",
          "2021-09-13T08:45:00",
          "2021-09-13T09:00:00",
          "2021-09-13T09:15:00",
          "2021-09-13T09:30:00",
          "2021-09-13T09:45:00",
          "2021-09-13T10:00:00",
          "2021-09-13T10:15:00",
          "2021-09-13T10:30:00",
          "2021-09-13T10:45:00",
          "2021-09-13T11:00:00",
          "2021-09-13T11:15:00",
          "2021-09-13T11:30:00",
          "2021-09-13T11:45:00",
          "2021-09-13T12:00:00",
          "2021-09-13T12:15:00",
          "2021-09-13T12:30:00",
          "2021-09-13T12:45:00",
          "2021-09-13T13:00:00",
          "2021-09-13T13:15:00",
          "2021-09-13T13:30:00",
          "2021-09-13T13:45:00",
          "2021-09-13T14:00:00",
          "2021-09-13T14:15:00",
          "2021-09-13T14:30:00",
          "2021-09-13T14:45:00",
          "2021-09-13T15:00:00",
          "2021-09-13T15:15:00",
          "2021-09-13T15:30:00",
          "2021-09-13T15:45:00",
          "2021-09-13T16:00:00",
          "2021-09-13T16:15:00",
          "2021-09-13T16:30:00",
          "2021-09-13T16:45:00",
          "2021-09-13T17:00:00",
          "2021-09-13T17:15:00",
          "2021-09-13T17:30:00",
          "2021-09-13T17:45:00",
          "2021-09-13T18:00:00",
          "2021-09-13T18:15:00",
          "2021-09-13T18:30:00",
          "2021-09-13T18:45:00",
          "2021-09-13T19:00:00",
          "2021-09-13T19:15:00",
          "2021-09-13T19:30:00",
          "2021-09-13T19:45:00",
          "2021-09-13T20:00:00",
          "2021-09-13T20:15:00",
          "2021-09-13T20:30:00",
          "2021-09-13T20:45:00",
          "2021-09-13T21:00:00",
          "2021-09-13T21:15:00",
          "2021-09-13T21:30:00",
          "2021-09-13T21:45:00",
          "2021-09-13T22:00:00",
          "2021-09-13T22:15:00",
          "2021-09-13T22:30:00",
          "2021-09-13T22:45:00",
          "2021-09-13T23:00:00",
          "2021-09-13T23:15:00",
          "2021-09-13T23:30:00",
          "2021-09-13T23:45:00",
          "2021-09-14T00:00:00",
          "2021-09-14T00:15:00",
          "2021-09-14T00:30:00",
          "2021-09-14T00:45:00",
          "2021-09-14T01:00:00",
          "2021-09-14T01:15:00",
          "2021-09-14T01:30:00",
          "2021-09-14T01:45:00",
          "2021-09-14T02:00:00",
          "2021-09-14T02:15:00",
          "2021-09-14T02:30:00",
          "2021-09-14T02:45:00",
          "2021-09-14T03:00:00",
          "2021-09-14T03:15:00",
          "2021-09-14T03:30:00",
          "2021-09-14T03:45:00",
          "2021-09-14T04:00:00",
          "2021-09-14T04:15:00",
          "2021-09-14T04:30:00",
          "2021-09-14T04:45:00",
          "2021-09-14T05:00:00",
          "2021-09-14T05:15:00",
          "2021-09-14T05:30:00",
          "2021-09-14T05:45:00",
          "2021-09-14T06:00:00",
          "2021-09-14T06:15:00",
          "2021-09-14T06:30:00",
          "2021-09-14T06:45:00",
          "2021-09-14T07:00:00",
          "2021-09-14T07:15:00",
          "2021-09-14T07:30:00",
          "2021-09-14T07:45:00",
          "2021-09-14T08:00:00",
          "2021-09-14T08:15:00",
          "2021-09-14T08:30:00",
          "2021-09-14T08:45:00",
          "2021-09-14T09:00:00",
          "2021-09-14T09:15:00",
          "2021-09-14T09:30:00",
          "2021-09-14T09:45:00",
          "2021-09-14T10:00:00",
          "2021-09-14T10:15:00",
          "2021-09-14T10:30:00",
          "2021-09-14T10:45:00",
          "2021-09-14T11:00:00",
          "2021-09-14T11:15:00",
          "2021-09-14T11:30:00",
          "2021-09-14T11:45:00",
          "2021-09-14T12:00:00",
          "2021-09-14T12:15:00",
          "2021-09-14T12:30:00",
          "2021-09-14T12:45:00",
          "2021-09-14T13:00:00",
          "2021-09-14T13:15:00",
          "2021-09-14T13:30:00",
          "2021-09-14T13:45:00",
          "2021-09-14T14:00:00",
          "2021-09-14T14:15:00",
          "2021-09-14T14:30:00",
          "2021-09-14T14:45:00",
          "2021-09-14T15:00:00",
          "2021-09-14T15:15:00",
          "2021-09-14T15:30:00",
          "2021-09-14T15:45:00",
          "2021-09-14T16:00:00",
          "2021-09-14T16:15:00",
          "2021-09-14T16:30:00",
          "2021-09-14T16:45:00",
          "2021-09-14T17:00:00",
          "2021-09-14T17:15:00",
          "2021-09-14T17:30:00",
          "2021-09-14T17:45:00",
          "2021-09-14T18:00:00",
          "2021-09-14T18:15:00",
          "2021-09-14T18:30:00",
          "2021-09-14T18:45:00",
          "2021-09-14T19:00:00",
          "2021-09-14T19:15:00",
          "2021-09-14T19:30:00",
          "2021-09-14T19:45:00",
          "2021-09-14T20:00:00",
          "2021-09-14T20:15:00",
          "2021-09-14T20:30:00",
          "2021-09-14T20:45:00",
          "2021-09-14T21:00:00",
          "2021-09-14T21:15:00",
          "2021-09-14T21:30:00",
          "2021-09-14T21:45:00",
          "2021-09-14T22:00:00",
          "2021-09-14T22:15:00",
          "2021-09-14T22:30:00",
          "2021-09-14T22:45:00",
          "2021-09-14T23:00:00",
          "2021-09-14T23:15:00",
          "2021-09-14T23:30:00",
          "2021-09-14T23:45:00",
          "2021-09-15T00:00:00",
          "2021-09-15T00:15:00",
          "2021-09-15T00:30:00",
          "2021-09-15T00:45:00"
         ],
         "legendgroup": "Present",
         "marker": {
          "color": "red",
          "pattern": {
           "shape": ""
          }
         },
         "name": "Present",
         "offsetgroup": "Present",
         "orientation": "v",
         "showlegend": true,
         "textposition": "auto",
         "type": "bar",
         "x": [
          "2021-09-09T11:00:00",
          "2021-09-09T11:15:00",
          "2021-09-09T11:30:00",
          "2021-09-09T11:45:00",
          "2021-09-09T12:00:00",
          "2021-09-09T12:15:00",
          "2021-09-09T12:30:00",
          "2021-09-09T12:45:00",
          "2021-09-09T13:00:00",
          "2021-09-09T13:15:00",
          "2021-09-09T13:30:00",
          "2021-09-09T13:45:00",
          "2021-09-09T14:00:00",
          "2021-09-09T14:15:00",
          "2021-09-09T14:30:00",
          "2021-09-09T14:45:00",
          "2021-09-09T15:00:00",
          "2021-09-09T15:15:00",
          "2021-09-09T15:30:00",
          "2021-09-09T15:45:00",
          "2021-09-09T16:00:00",
          "2021-09-09T16:15:00",
          "2021-09-09T16:30:00",
          "2021-09-09T16:45:00",
          "2021-09-09T17:00:00",
          "2021-09-09T17:15:00",
          "2021-09-09T17:30:00",
          "2021-09-09T17:45:00",
          "2021-09-09T18:00:00",
          "2021-09-09T18:15:00",
          "2021-09-09T18:30:00",
          "2021-09-09T18:45:00",
          "2021-09-09T19:00:00",
          "2021-09-09T19:15:00",
          "2021-09-09T19:30:00",
          "2021-09-09T19:45:00",
          "2021-09-09T20:00:00",
          "2021-09-09T20:15:00",
          "2021-09-09T20:30:00",
          "2021-09-09T20:45:00",
          "2021-09-09T21:00:00",
          "2021-09-09T21:15:00",
          "2021-09-09T21:30:00",
          "2021-09-09T21:45:00",
          "2021-09-09T22:00:00",
          "2021-09-09T22:15:00",
          "2021-09-09T22:30:00",
          "2021-09-09T22:45:00",
          "2021-09-09T23:00:00",
          "2021-09-09T23:15:00",
          "2021-09-09T23:30:00",
          "2021-09-09T23:45:00",
          "2021-09-10T00:00:00",
          "2021-09-10T00:15:00",
          "2021-09-10T00:30:00",
          "2021-09-10T00:45:00",
          "2021-09-10T01:00:00",
          "2021-09-10T01:15:00",
          "2021-09-10T01:30:00",
          "2021-09-10T01:45:00",
          "2021-09-10T02:00:00",
          "2021-09-10T02:15:00",
          "2021-09-10T02:30:00",
          "2021-09-10T02:45:00",
          "2021-09-10T03:00:00",
          "2021-09-10T03:15:00",
          "2021-09-10T03:30:00",
          "2021-09-10T03:45:00",
          "2021-09-10T04:00:00",
          "2021-09-10T04:15:00",
          "2021-09-10T04:30:00",
          "2021-09-10T04:45:00",
          "2021-09-10T05:00:00",
          "2021-09-10T05:15:00",
          "2021-09-10T05:30:00",
          "2021-09-10T05:45:00",
          "2021-09-10T06:00:00",
          "2021-09-10T06:15:00",
          "2021-09-10T06:30:00",
          "2021-09-10T06:45:00",
          "2021-09-10T07:00:00",
          "2021-09-10T07:15:00",
          "2021-09-10T07:30:00",
          "2021-09-10T07:45:00",
          "2021-09-10T08:00:00",
          "2021-09-10T08:15:00",
          "2021-09-10T08:30:00",
          "2021-09-10T08:45:00",
          "2021-09-10T09:00:00",
          "2021-09-10T09:15:00",
          "2021-09-10T09:30:00",
          "2021-09-10T09:45:00",
          "2021-09-10T10:00:00",
          "2021-09-10T10:15:00",
          "2021-09-10T10:30:00",
          "2021-09-10T10:45:00",
          "2021-09-10T11:00:00",
          "2021-09-10T11:15:00",
          "2021-09-10T11:30:00",
          "2021-09-10T11:45:00",
          "2021-09-10T12:00:00",
          "2021-09-10T12:15:00",
          "2021-09-10T12:30:00",
          "2021-09-10T12:45:00",
          "2021-09-10T13:00:00",
          "2021-09-10T13:15:00",
          "2021-09-10T13:30:00",
          "2021-09-10T13:45:00",
          "2021-09-10T14:00:00",
          "2021-09-10T14:15:00",
          "2021-09-10T14:30:00",
          "2021-09-10T14:45:00",
          "2021-09-10T15:00:00",
          "2021-09-10T15:15:00",
          "2021-09-10T15:30:00",
          "2021-09-10T15:45:00",
          "2021-09-10T16:00:00",
          "2021-09-10T16:15:00",
          "2021-09-10T16:30:00",
          "2021-09-10T16:45:00",
          "2021-09-10T17:00:00",
          "2021-09-10T17:15:00",
          "2021-09-10T17:30:00",
          "2021-09-10T17:45:00",
          "2021-09-10T18:00:00",
          "2021-09-10T18:15:00",
          "2021-09-10T18:30:00",
          "2021-09-10T18:45:00",
          "2021-09-10T19:00:00",
          "2021-09-10T19:15:00",
          "2021-09-10T19:30:00",
          "2021-09-10T19:45:00",
          "2021-09-10T20:00:00",
          "2021-09-10T20:15:00",
          "2021-09-10T20:30:00",
          "2021-09-10T20:45:00",
          "2021-09-10T21:00:00",
          "2021-09-10T21:15:00",
          "2021-09-10T21:30:00",
          "2021-09-10T21:45:00",
          "2021-09-10T22:00:00",
          "2021-09-10T22:15:00",
          "2021-09-10T22:30:00",
          "2021-09-10T22:45:00",
          "2021-09-10T23:00:00",
          "2021-09-10T23:15:00",
          "2021-09-10T23:30:00",
          "2021-09-10T23:45:00",
          "2021-09-11T00:00:00",
          "2021-09-11T00:15:00",
          "2021-09-11T00:30:00",
          "2021-09-11T00:45:00",
          "2021-09-11T01:00:00",
          "2021-09-11T01:15:00",
          "2021-09-11T01:30:00",
          "2021-09-11T01:45:00",
          "2021-09-11T02:00:00",
          "2021-09-11T02:15:00",
          "2021-09-11T02:30:00",
          "2021-09-11T02:45:00",
          "2021-09-11T03:00:00",
          "2021-09-11T03:15:00",
          "2021-09-11T03:30:00",
          "2021-09-11T03:45:00",
          "2021-09-11T04:00:00",
          "2021-09-11T04:15:00",
          "2021-09-11T04:30:00",
          "2021-09-11T04:45:00",
          "2021-09-11T05:00:00",
          "2021-09-11T05:15:00",
          "2021-09-11T05:30:00",
          "2021-09-11T05:45:00",
          "2021-09-11T06:00:00",
          "2021-09-11T06:15:00",
          "2021-09-11T06:30:00",
          "2021-09-11T06:45:00",
          "2021-09-11T07:00:00",
          "2021-09-11T07:15:00",
          "2021-09-11T07:30:00",
          "2021-09-11T07:45:00",
          "2021-09-11T08:00:00",
          "2021-09-11T08:15:00",
          "2021-09-11T08:30:00",
          "2021-09-11T08:45:00",
          "2021-09-11T09:00:00",
          "2021-09-11T09:15:00",
          "2021-09-11T09:30:00",
          "2021-09-11T09:45:00",
          "2021-09-11T10:00:00",
          "2021-09-11T10:15:00",
          "2021-09-11T10:30:00",
          "2021-09-11T10:45:00",
          "2021-09-11T11:00:00",
          "2021-09-11T11:15:00",
          "2021-09-11T11:30:00",
          "2021-09-11T11:45:00",
          "2021-09-11T12:00:00",
          "2021-09-11T12:15:00",
          "2021-09-11T12:30:00",
          "2021-09-11T12:45:00",
          "2021-09-11T13:00:00",
          "2021-09-11T13:15:00",
          "2021-09-11T13:30:00",
          "2021-09-11T13:45:00",
          "2021-09-11T14:00:00",
          "2021-09-11T14:15:00",
          "2021-09-11T14:30:00",
          "2021-09-11T14:45:00",
          "2021-09-11T15:00:00",
          "2021-09-11T15:15:00",
          "2021-09-11T15:30:00",
          "2021-09-11T15:45:00",
          "2021-09-11T16:00:00",
          "2021-09-11T16:15:00",
          "2021-09-11T16:30:00",
          "2021-09-11T16:45:00",
          "2021-09-11T17:00:00",
          "2021-09-11T17:15:00",
          "2021-09-11T17:30:00",
          "2021-09-11T17:45:00",
          "2021-09-11T18:00:00",
          "2021-09-11T18:15:00",
          "2021-09-11T18:30:00",
          "2021-09-11T18:45:00",
          "2021-09-11T19:00:00",
          "2021-09-11T19:15:00",
          "2021-09-11T19:30:00",
          "2021-09-11T19:45:00",
          "2021-09-11T20:00:00",
          "2021-09-11T20:15:00",
          "2021-09-11T20:30:00",
          "2021-09-11T20:45:00",
          "2021-09-11T21:00:00",
          "2021-09-11T21:15:00",
          "2021-09-11T21:30:00",
          "2021-09-11T21:45:00",
          "2021-09-11T22:00:00",
          "2021-09-11T22:15:00",
          "2021-09-11T22:30:00",
          "2021-09-11T22:45:00",
          "2021-09-11T23:00:00",
          "2021-09-11T23:15:00",
          "2021-09-11T23:30:00",
          "2021-09-11T23:45:00",
          "2021-09-12T00:00:00",
          "2021-09-12T00:15:00",
          "2021-09-12T00:30:00",
          "2021-09-12T00:45:00",
          "2021-09-12T01:00:00",
          "2021-09-12T01:15:00",
          "2021-09-12T01:30:00",
          "2021-09-12T01:45:00",
          "2021-09-12T02:00:00",
          "2021-09-12T02:15:00",
          "2021-09-12T02:30:00",
          "2021-09-12T02:45:00",
          "2021-09-12T03:00:00",
          "2021-09-12T03:15:00",
          "2021-09-12T03:30:00",
          "2021-09-12T03:45:00",
          "2021-09-12T04:00:00",
          "2021-09-12T04:15:00",
          "2021-09-12T04:30:00",
          "2021-09-12T04:45:00",
          "2021-09-12T05:00:00",
          "2021-09-12T05:15:00",
          "2021-09-12T05:30:00",
          "2021-09-12T05:45:00",
          "2021-09-12T06:00:00",
          "2021-09-12T06:15:00",
          "2021-09-12T06:30:00",
          "2021-09-12T06:45:00",
          "2021-09-12T07:00:00",
          "2021-09-12T07:15:00",
          "2021-09-12T07:30:00",
          "2021-09-12T07:45:00",
          "2021-09-12T08:00:00",
          "2021-09-12T08:15:00",
          "2021-09-12T08:30:00",
          "2021-09-12T08:45:00",
          "2021-09-12T09:00:00",
          "2021-09-12T09:15:00",
          "2021-09-12T09:30:00",
          "2021-09-12T09:45:00",
          "2021-09-12T10:00:00",
          "2021-09-12T10:15:00",
          "2021-09-12T10:30:00",
          "2021-09-12T10:45:00",
          "2021-09-12T11:00:00",
          "2021-09-12T11:15:00",
          "2021-09-12T11:30:00",
          "2021-09-12T11:45:00",
          "2021-09-12T12:00:00",
          "2021-09-12T12:15:00",
          "2021-09-12T12:30:00",
          "2021-09-12T12:45:00",
          "2021-09-12T13:00:00",
          "2021-09-12T13:15:00",
          "2021-09-12T13:30:00",
          "2021-09-12T13:45:00",
          "2021-09-12T14:00:00",
          "2021-09-12T14:15:00",
          "2021-09-12T14:30:00",
          "2021-09-12T14:45:00",
          "2021-09-12T15:00:00",
          "2021-09-12T15:15:00",
          "2021-09-12T15:30:00",
          "2021-09-12T15:45:00",
          "2021-09-12T16:00:00",
          "2021-09-12T16:15:00",
          "2021-09-12T16:30:00",
          "2021-09-12T16:45:00",
          "2021-09-12T17:00:00",
          "2021-09-12T17:15:00",
          "2021-09-12T17:30:00",
          "2021-09-12T17:45:00",
          "2021-09-12T18:00:00",
          "2021-09-12T18:15:00",
          "2021-09-12T18:30:00",
          "2021-09-12T18:45:00",
          "2021-09-12T19:00:00",
          "2021-09-12T19:15:00",
          "2021-09-12T19:30:00",
          "2021-09-12T19:45:00",
          "2021-09-12T20:00:00",
          "2021-09-12T20:15:00",
          "2021-09-12T20:30:00",
          "2021-09-12T20:45:00",
          "2021-09-12T21:00:00",
          "2021-09-12T21:15:00",
          "2021-09-12T21:30:00",
          "2021-09-12T21:45:00",
          "2021-09-12T22:00:00",
          "2021-09-12T22:15:00",
          "2021-09-12T22:30:00",
          "2021-09-12T22:45:00",
          "2021-09-12T23:00:00",
          "2021-09-12T23:15:00",
          "2021-09-12T23:30:00",
          "2021-09-12T23:45:00",
          "2021-09-13T00:00:00",
          "2021-09-13T00:15:00",
          "2021-09-13T00:30:00",
          "2021-09-13T00:45:00",
          "2021-09-13T01:00:00",
          "2021-09-13T01:15:00",
          "2021-09-13T01:30:00",
          "2021-09-13T01:45:00",
          "2021-09-13T02:00:00",
          "2021-09-13T02:15:00",
          "2021-09-13T02:30:00",
          "2021-09-13T02:45:00",
          "2021-09-13T03:00:00",
          "2021-09-13T03:15:00",
          "2021-09-13T03:30:00",
          "2021-09-13T03:45:00",
          "2021-09-13T04:00:00",
          "2021-09-13T04:15:00",
          "2021-09-13T04:30:00",
          "2021-09-13T04:45:00",
          "2021-09-13T05:00:00",
          "2021-09-13T05:15:00",
          "2021-09-13T05:30:00",
          "2021-09-13T05:45:00",
          "2021-09-13T06:00:00",
          "2021-09-13T06:15:00",
          "2021-09-13T06:30:00",
          "2021-09-13T06:45:00",
          "2021-09-13T07:00:00",
          "2021-09-13T07:15:00",
          "2021-09-13T07:30:00",
          "2021-09-13T07:45:00",
          "2021-09-13T08:00:00",
          "2021-09-13T08:15:00",
          "2021-09-13T08:30:00",
          "2021-09-13T08:45:00",
          "2021-09-13T09:00:00",
          "2021-09-13T09:15:00",
          "2021-09-13T09:30:00",
          "2021-09-13T09:45:00",
          "2021-09-13T10:00:00",
          "2021-09-13T10:15:00",
          "2021-09-13T10:30:00",
          "2021-09-13T10:45:00",
          "2021-09-13T11:00:00",
          "2021-09-13T11:15:00",
          "2021-09-13T11:30:00",
          "2021-09-13T11:45:00",
          "2021-09-13T12:00:00",
          "2021-09-13T12:15:00",
          "2021-09-13T12:30:00",
          "2021-09-13T12:45:00",
          "2021-09-13T13:00:00",
          "2021-09-13T13:15:00",
          "2021-09-13T13:30:00",
          "2021-09-13T13:45:00",
          "2021-09-13T14:00:00",
          "2021-09-13T14:15:00",
          "2021-09-13T14:30:00",
          "2021-09-13T14:45:00",
          "2021-09-13T15:00:00",
          "2021-09-13T15:15:00",
          "2021-09-13T15:30:00",
          "2021-09-13T15:45:00",
          "2021-09-13T16:00:00",
          "2021-09-13T16:15:00",
          "2021-09-13T16:30:00",
          "2021-09-13T16:45:00",
          "2021-09-13T17:00:00",
          "2021-09-13T17:15:00",
          "2021-09-13T17:30:00",
          "2021-09-13T17:45:00",
          "2021-09-13T18:00:00",
          "2021-09-13T18:15:00",
          "2021-09-13T18:30:00",
          "2021-09-13T18:45:00",
          "2021-09-13T19:00:00",
          "2021-09-13T19:15:00",
          "2021-09-13T19:30:00",
          "2021-09-13T19:45:00",
          "2021-09-13T20:00:00",
          "2021-09-13T20:15:00",
          "2021-09-13T20:30:00",
          "2021-09-13T20:45:00",
          "2021-09-13T21:00:00",
          "2021-09-13T21:15:00",
          "2021-09-13T21:30:00",
          "2021-09-13T21:45:00",
          "2021-09-13T22:00:00",
          "2021-09-13T22:15:00",
          "2021-09-13T22:30:00",
          "2021-09-13T22:45:00",
          "2021-09-13T23:00:00",
          "2021-09-13T23:15:00",
          "2021-09-13T23:30:00",
          "2021-09-13T23:45:00",
          "2021-09-14T00:00:00",
          "2021-09-14T00:15:00",
          "2021-09-14T00:30:00",
          "2021-09-14T00:45:00",
          "2021-09-14T01:00:00",
          "2021-09-14T01:15:00",
          "2021-09-14T01:30:00",
          "2021-09-14T01:45:00",
          "2021-09-14T02:00:00",
          "2021-09-14T02:15:00",
          "2021-09-14T02:30:00",
          "2021-09-14T02:45:00",
          "2021-09-14T03:00:00",
          "2021-09-14T03:15:00",
          "2021-09-14T03:30:00",
          "2021-09-14T03:45:00",
          "2021-09-14T04:00:00",
          "2021-09-14T04:15:00",
          "2021-09-14T04:30:00",
          "2021-09-14T04:45:00",
          "2021-09-14T05:00:00",
          "2021-09-14T05:15:00",
          "2021-09-14T05:30:00",
          "2021-09-14T05:45:00",
          "2021-09-14T06:00:00",
          "2021-09-14T06:15:00",
          "2021-09-14T06:30:00",
          "2021-09-14T06:45:00",
          "2021-09-14T07:00:00",
          "2021-09-14T07:15:00",
          "2021-09-14T07:30:00",
          "2021-09-14T07:45:00",
          "2021-09-14T08:00:00",
          "2021-09-14T08:15:00",
          "2021-09-14T08:30:00",
          "2021-09-14T08:45:00",
          "2021-09-14T09:00:00",
          "2021-09-14T09:15:00",
          "2021-09-14T09:30:00",
          "2021-09-14T09:45:00",
          "2021-09-14T10:00:00",
          "2021-09-14T10:15:00",
          "2021-09-14T10:30:00",
          "2021-09-14T10:45:00",
          "2021-09-14T11:00:00",
          "2021-09-14T11:15:00",
          "2021-09-14T11:30:00",
          "2021-09-14T11:45:00",
          "2021-09-14T12:00:00",
          "2021-09-14T12:15:00",
          "2021-09-14T12:30:00",
          "2021-09-14T12:45:00",
          "2021-09-14T13:00:00",
          "2021-09-14T13:15:00",
          "2021-09-14T13:30:00",
          "2021-09-14T13:45:00",
          "2021-09-14T14:00:00",
          "2021-09-14T14:15:00",
          "2021-09-14T14:30:00",
          "2021-09-14T14:45:00",
          "2021-09-14T15:00:00",
          "2021-09-14T15:15:00",
          "2021-09-14T15:30:00",
          "2021-09-14T15:45:00",
          "2021-09-14T16:00:00",
          "2021-09-14T16:15:00",
          "2021-09-14T16:30:00",
          "2021-09-14T16:45:00",
          "2021-09-14T17:00:00",
          "2021-09-14T17:15:00",
          "2021-09-14T17:30:00",
          "2021-09-14T17:45:00",
          "2021-09-14T18:00:00",
          "2021-09-14T18:15:00",
          "2021-09-14T18:30:00",
          "2021-09-14T18:45:00",
          "2021-09-14T19:00:00",
          "2021-09-14T19:15:00",
          "2021-09-14T19:30:00",
          "2021-09-14T19:45:00",
          "2021-09-14T20:00:00",
          "2021-09-14T20:15:00",
          "2021-09-14T20:30:00",
          "2021-09-14T20:45:00",
          "2021-09-14T21:00:00",
          "2021-09-14T21:15:00",
          "2021-09-14T21:30:00",
          "2021-09-14T21:45:00",
          "2021-09-14T22:00:00",
          "2021-09-14T22:15:00",
          "2021-09-14T22:30:00",
          "2021-09-14T22:45:00",
          "2021-09-14T23:00:00",
          "2021-09-14T23:15:00",
          "2021-09-14T23:30:00",
          "2021-09-14T23:45:00",
          "2021-09-15T00:00:00",
          "2021-09-15T00:15:00",
          "2021-09-15T00:30:00",
          "2021-09-15T00:45:00"
         ],
         "xaxis": "x",
         "y": [
          3,
          3,
          3,
          3,
          3,
          3,
          3,
          3,
          3,
          3,
          3,
          3,
          3,
          2,
          2,
          2,
          2,
          2,
          2,
          2,
          2,
          1,
          1,
          2,
          1,
          2,
          1,
          1,
          1,
          1,
          2,
          2,
          2,
          1,
          1,
          1,
          1,
          1,
          1,
          1,
          1,
          1,
          1,
          1,
          1,
          1,
          1,
          1,
          1,
          1,
          1,
          1,
          0,
          1,
          1,
          1,
          1,
          1,
          1,
          1,
          1,
          1,
          1,
          1,
          1,
          1,
          1,
          1,
          1,
          1,
          1,
          1,
          1,
          1,
          3,
          3,
          3,
          3,
          3,
          3,
          3,
          3,
          3,
          4,
          3,
          4,
          3,
          4,
          3,
          3,
          3,
          3,
          3,
          3,
          3,
          3,
          3,
          3,
          3,
          3,
          3,
          3,
          3,
          3,
          3,
          3,
          4,
          3,
          2,
          2,
          2,
          2,
          2,
          2,
          2,
          1,
          2,
          2,
          1,
          1,
          2,
          1,
          2,
          1,
          1,
          1,
          2,
          4,
          3,
          1,
          2,
          2,
          0,
          0,
          2,
          2,
          0,
          0,
          0,
          0,
          4,
          2,
          2,
          4,
          2,
          4,
          0,
          0,
          2,
          1,
          0,
          0,
          1,
          0,
          0,
          0,
          0,
          0,
          0,
          0,
          0,
          0,
          0,
          0,
          0,
          0,
          0,
          0,
          0,
          0,
          0,
          1,
          0,
          0,
          0,
          2,
          1,
          0,
          1,
          2,
          0,
          1,
          0,
          0,
          2,
          0,
          0,
          0,
          0,
          1,
          1,
          0,
          1,
          1,
          1,
          1,
          1,
          1,
          1,
          1,
          1,
          1,
          1,
          1,
          2,
          1,
          1,
          1,
          1,
          1,
          1,
          1,
          1,
          1,
          1,
          1,
          1,
          1,
          2,
          2,
          1,
          2,
          1,
          null,
          1,
          1,
          1,
          0,
          0,
          0,
          0,
          0,
          0,
          0,
          0,
          3,
          3,
          1,
          1,
          1,
          3,
          3,
          2,
          1,
          3,
          0,
          0,
          0,
          0,
          0,
          0,
          0,
          0,
          0,
          0,
          0,
          0,
          0,
          0,
          0,
          0,
          0,
          0,
          0,
          0,
          0,
          0,
          0,
          0,
          0,
          0,
          0,
          0,
          0,
          0,
          0,
          0,
          0,
          0,
          0,
          0,
          0,
          0,
          0,
          0,
          0,
          0,
          0,
          1,
          3,
          0,
          0,
          0,
          0,
          1,
          1,
          3,
          2,
          2,
          2,
          3,
          3,
          3,
          3,
          3,
          3,
          2,
          2,
          2,
          2,
          2,
          2,
          2,
          2,
          2,
          2,
          2,
          2,
          2,
          2,
          2,
          2,
          2,
          2,
          2,
          1,
          1,
          1,
          1,
          2,
          1,
          1,
          1,
          1,
          1,
          1,
          2,
          1,
          1,
          1,
          1,
          1,
          1,
          1,
          1,
          1,
          1,
          1,
          1,
          1,
          1,
          1,
          1,
          1,
          1,
          1,
          1,
          1,
          1,
          1,
          1,
          1,
          1,
          1,
          1,
          3,
          4,
          3,
          2,
          2,
          2,
          2,
          3,
          2,
          2,
          3,
          4,
          4,
          4,
          4,
          4,
          4,
          2,
          3,
          2,
          2,
          3,
          3,
          3,
          1,
          3,
          2,
          2,
          3,
          3,
          1,
          3,
          3,
          3,
          4,
          3,
          4,
          1,
          1,
          1,
          0,
          0,
          0,
          1,
          2,
          2,
          1,
          1,
          1,
          1,
          1,
          1,
          0,
          0,
          0,
          0,
          2,
          1,
          1,
          1,
          1,
          1,
          1,
          1,
          1,
          1,
          1,
          1,
          1,
          1,
          1,
          0,
          0,
          0,
          0,
          0,
          0,
          0,
          0,
          0,
          0,
          0,
          0,
          0,
          0,
          0,
          0,
          0,
          0,
          0,
          0,
          0,
          0,
          1,
          1,
          1,
          1,
          1,
          2,
          4,
          4,
          4,
          2,
          2,
          2,
          2,
          3,
          3,
          4,
          3,
          2,
          2,
          2,
          2,
          2,
          2,
          2,
          3,
          4,
          2,
          2,
          2,
          2,
          2,
          2,
          2,
          2,
          2,
          2,
          2,
          2,
          2,
          2,
          4,
          3,
          3,
          4,
          4,
          4,
          2,
          4,
          1,
          5,
          3,
          4,
          2,
          2,
          2,
          3,
          3,
          3,
          2,
          3,
          3,
          2,
          1,
          1,
          1,
          1,
          1,
          1,
          1,
          1,
          1,
          1,
          1,
          1,
          0,
          0,
          0,
          0
         ],
         "yaxis": "y"
        }
       ],
       "layout": {
        "barmode": "relative",
        "height": 300,
        "legend": {
         "title": {
          "text": "variable"
         },
         "tracegroupgap": 0
        },
        "template": {
         "data": {
          "bar": [
           {
            "error_x": {
             "color": "#2a3f5f"
            },
            "error_y": {
             "color": "#2a3f5f"
            },
            "marker": {
             "line": {
              "color": "#E5ECF6",
              "width": 0.5
             },
             "pattern": {
              "fillmode": "overlay",
              "size": 10,
              "solidity": 0.2
             }
            },
            "type": "bar"
           }
          ],
          "barpolar": [
           {
            "marker": {
             "line": {
              "color": "#E5ECF6",
              "width": 0.5
             },
             "pattern": {
              "fillmode": "overlay",
              "size": 10,
              "solidity": 0.2
             }
            },
            "type": "barpolar"
           }
          ],
          "carpet": [
           {
            "aaxis": {
             "endlinecolor": "#2a3f5f",
             "gridcolor": "white",
             "linecolor": "white",
             "minorgridcolor": "white",
             "startlinecolor": "#2a3f5f"
            },
            "baxis": {
             "endlinecolor": "#2a3f5f",
             "gridcolor": "white",
             "linecolor": "white",
             "minorgridcolor": "white",
             "startlinecolor": "#2a3f5f"
            },
            "type": "carpet"
           }
          ],
          "choropleth": [
           {
            "colorbar": {
             "outlinewidth": 0,
             "ticks": ""
            },
            "type": "choropleth"
           }
          ],
          "contour": [
           {
            "colorbar": {
             "outlinewidth": 0,
             "ticks": ""
            },
            "colorscale": [
             [
              0,
              "#0d0887"
             ],
             [
              0.1111111111111111,
              "#46039f"
             ],
             [
              0.2222222222222222,
              "#7201a8"
             ],
             [
              0.3333333333333333,
              "#9c179e"
             ],
             [
              0.4444444444444444,
              "#bd3786"
             ],
             [
              0.5555555555555556,
              "#d8576b"
             ],
             [
              0.6666666666666666,
              "#ed7953"
             ],
             [
              0.7777777777777778,
              "#fb9f3a"
             ],
             [
              0.8888888888888888,
              "#fdca26"
             ],
             [
              1,
              "#f0f921"
             ]
            ],
            "type": "contour"
           }
          ],
          "contourcarpet": [
           {
            "colorbar": {
             "outlinewidth": 0,
             "ticks": ""
            },
            "type": "contourcarpet"
           }
          ],
          "heatmap": [
           {
            "colorbar": {
             "outlinewidth": 0,
             "ticks": ""
            },
            "colorscale": [
             [
              0,
              "#0d0887"
             ],
             [
              0.1111111111111111,
              "#46039f"
             ],
             [
              0.2222222222222222,
              "#7201a8"
             ],
             [
              0.3333333333333333,
              "#9c179e"
             ],
             [
              0.4444444444444444,
              "#bd3786"
             ],
             [
              0.5555555555555556,
              "#d8576b"
             ],
             [
              0.6666666666666666,
              "#ed7953"
             ],
             [
              0.7777777777777778,
              "#fb9f3a"
             ],
             [
              0.8888888888888888,
              "#fdca26"
             ],
             [
              1,
              "#f0f921"
             ]
            ],
            "type": "heatmap"
           }
          ],
          "heatmapgl": [
           {
            "colorbar": {
             "outlinewidth": 0,
             "ticks": ""
            },
            "colorscale": [
             [
              0,
              "#0d0887"
             ],
             [
              0.1111111111111111,
              "#46039f"
             ],
             [
              0.2222222222222222,
              "#7201a8"
             ],
             [
              0.3333333333333333,
              "#9c179e"
             ],
             [
              0.4444444444444444,
              "#bd3786"
             ],
             [
              0.5555555555555556,
              "#d8576b"
             ],
             [
              0.6666666666666666,
              "#ed7953"
             ],
             [
              0.7777777777777778,
              "#fb9f3a"
             ],
             [
              0.8888888888888888,
              "#fdca26"
             ],
             [
              1,
              "#f0f921"
             ]
            ],
            "type": "heatmapgl"
           }
          ],
          "histogram": [
           {
            "marker": {
             "pattern": {
              "fillmode": "overlay",
              "size": 10,
              "solidity": 0.2
             }
            },
            "type": "histogram"
           }
          ],
          "histogram2d": [
           {
            "colorbar": {
             "outlinewidth": 0,
             "ticks": ""
            },
            "colorscale": [
             [
              0,
              "#0d0887"
             ],
             [
              0.1111111111111111,
              "#46039f"
             ],
             [
              0.2222222222222222,
              "#7201a8"
             ],
             [
              0.3333333333333333,
              "#9c179e"
             ],
             [
              0.4444444444444444,
              "#bd3786"
             ],
             [
              0.5555555555555556,
              "#d8576b"
             ],
             [
              0.6666666666666666,
              "#ed7953"
             ],
             [
              0.7777777777777778,
              "#fb9f3a"
             ],
             [
              0.8888888888888888,
              "#fdca26"
             ],
             [
              1,
              "#f0f921"
             ]
            ],
            "type": "histogram2d"
           }
          ],
          "histogram2dcontour": [
           {
            "colorbar": {
             "outlinewidth": 0,
             "ticks": ""
            },
            "colorscale": [
             [
              0,
              "#0d0887"
             ],
             [
              0.1111111111111111,
              "#46039f"
             ],
             [
              0.2222222222222222,
              "#7201a8"
             ],
             [
              0.3333333333333333,
              "#9c179e"
             ],
             [
              0.4444444444444444,
              "#bd3786"
             ],
             [
              0.5555555555555556,
              "#d8576b"
             ],
             [
              0.6666666666666666,
              "#ed7953"
             ],
             [
              0.7777777777777778,
              "#fb9f3a"
             ],
             [
              0.8888888888888888,
              "#fdca26"
             ],
             [
              1,
              "#f0f921"
             ]
            ],
            "type": "histogram2dcontour"
           }
          ],
          "mesh3d": [
           {
            "colorbar": {
             "outlinewidth": 0,
             "ticks": ""
            },
            "type": "mesh3d"
           }
          ],
          "parcoords": [
           {
            "line": {
             "colorbar": {
              "outlinewidth": 0,
              "ticks": ""
             }
            },
            "type": "parcoords"
           }
          ],
          "pie": [
           {
            "automargin": true,
            "type": "pie"
           }
          ],
          "scatter": [
           {
            "marker": {
             "colorbar": {
              "outlinewidth": 0,
              "ticks": ""
             }
            },
            "type": "scatter"
           }
          ],
          "scatter3d": [
           {
            "line": {
             "colorbar": {
              "outlinewidth": 0,
              "ticks": ""
             }
            },
            "marker": {
             "colorbar": {
              "outlinewidth": 0,
              "ticks": ""
             }
            },
            "type": "scatter3d"
           }
          ],
          "scattercarpet": [
           {
            "marker": {
             "colorbar": {
              "outlinewidth": 0,
              "ticks": ""
             }
            },
            "type": "scattercarpet"
           }
          ],
          "scattergeo": [
           {
            "marker": {
             "colorbar": {
              "outlinewidth": 0,
              "ticks": ""
             }
            },
            "type": "scattergeo"
           }
          ],
          "scattergl": [
           {
            "marker": {
             "colorbar": {
              "outlinewidth": 0,
              "ticks": ""
             }
            },
            "type": "scattergl"
           }
          ],
          "scattermapbox": [
           {
            "marker": {
             "colorbar": {
              "outlinewidth": 0,
              "ticks": ""
             }
            },
            "type": "scattermapbox"
           }
          ],
          "scatterpolar": [
           {
            "marker": {
             "colorbar": {
              "outlinewidth": 0,
              "ticks": ""
             }
            },
            "type": "scatterpolar"
           }
          ],
          "scatterpolargl": [
           {
            "marker": {
             "colorbar": {
              "outlinewidth": 0,
              "ticks": ""
             }
            },
            "type": "scatterpolargl"
           }
          ],
          "scatterternary": [
           {
            "marker": {
             "colorbar": {
              "outlinewidth": 0,
              "ticks": ""
             }
            },
            "type": "scatterternary"
           }
          ],
          "surface": [
           {
            "colorbar": {
             "outlinewidth": 0,
             "ticks": ""
            },
            "colorscale": [
             [
              0,
              "#0d0887"
             ],
             [
              0.1111111111111111,
              "#46039f"
             ],
             [
              0.2222222222222222,
              "#7201a8"
             ],
             [
              0.3333333333333333,
              "#9c179e"
             ],
             [
              0.4444444444444444,
              "#bd3786"
             ],
             [
              0.5555555555555556,
              "#d8576b"
             ],
             [
              0.6666666666666666,
              "#ed7953"
             ],
             [
              0.7777777777777778,
              "#fb9f3a"
             ],
             [
              0.8888888888888888,
              "#fdca26"
             ],
             [
              1,
              "#f0f921"
             ]
            ],
            "type": "surface"
           }
          ],
          "table": [
           {
            "cells": {
             "fill": {
              "color": "#EBF0F8"
             },
             "line": {
              "color": "white"
             }
            },
            "header": {
             "fill": {
              "color": "#C8D4E3"
             },
             "line": {
              "color": "white"
             }
            },
            "type": "table"
           }
          ]
         },
         "layout": {
          "annotationdefaults": {
           "arrowcolor": "#2a3f5f",
           "arrowhead": 0,
           "arrowwidth": 1
          },
          "autotypenumbers": "strict",
          "coloraxis": {
           "colorbar": {
            "outlinewidth": 0,
            "ticks": ""
           }
          },
          "colorscale": {
           "diverging": [
            [
             0,
             "#8e0152"
            ],
            [
             0.1,
             "#c51b7d"
            ],
            [
             0.2,
             "#de77ae"
            ],
            [
             0.3,
             "#f1b6da"
            ],
            [
             0.4,
             "#fde0ef"
            ],
            [
             0.5,
             "#f7f7f7"
            ],
            [
             0.6,
             "#e6f5d0"
            ],
            [
             0.7,
             "#b8e186"
            ],
            [
             0.8,
             "#7fbc41"
            ],
            [
             0.9,
             "#4d9221"
            ],
            [
             1,
             "#276419"
            ]
           ],
           "sequential": [
            [
             0,
             "#0d0887"
            ],
            [
             0.1111111111111111,
             "#46039f"
            ],
            [
             0.2222222222222222,
             "#7201a8"
            ],
            [
             0.3333333333333333,
             "#9c179e"
            ],
            [
             0.4444444444444444,
             "#bd3786"
            ],
            [
             0.5555555555555556,
             "#d8576b"
            ],
            [
             0.6666666666666666,
             "#ed7953"
            ],
            [
             0.7777777777777778,
             "#fb9f3a"
            ],
            [
             0.8888888888888888,
             "#fdca26"
            ],
            [
             1,
             "#f0f921"
            ]
           ],
           "sequentialminus": [
            [
             0,
             "#0d0887"
            ],
            [
             0.1111111111111111,
             "#46039f"
            ],
            [
             0.2222222222222222,
             "#7201a8"
            ],
            [
             0.3333333333333333,
             "#9c179e"
            ],
            [
             0.4444444444444444,
             "#bd3786"
            ],
            [
             0.5555555555555556,
             "#d8576b"
            ],
            [
             0.6666666666666666,
             "#ed7953"
            ],
            [
             0.7777777777777778,
             "#fb9f3a"
            ],
            [
             0.8888888888888888,
             "#fdca26"
            ],
            [
             1,
             "#f0f921"
            ]
           ]
          },
          "colorway": [
           "#636efa",
           "#EF553B",
           "#00cc96",
           "#ab63fa",
           "#FFA15A",
           "#19d3f3",
           "#FF6692",
           "#B6E880",
           "#FF97FF",
           "#FECB52"
          ],
          "font": {
           "color": "#2a3f5f"
          },
          "geo": {
           "bgcolor": "white",
           "lakecolor": "white",
           "landcolor": "#E5ECF6",
           "showlakes": true,
           "showland": true,
           "subunitcolor": "white"
          },
          "hoverlabel": {
           "align": "left"
          },
          "hovermode": "closest",
          "mapbox": {
           "style": "light"
          },
          "paper_bgcolor": "white",
          "plot_bgcolor": "#E5ECF6",
          "polar": {
           "angularaxis": {
            "gridcolor": "white",
            "linecolor": "white",
            "ticks": ""
           },
           "bgcolor": "#E5ECF6",
           "radialaxis": {
            "gridcolor": "white",
            "linecolor": "white",
            "ticks": ""
           }
          },
          "scene": {
           "xaxis": {
            "backgroundcolor": "#E5ECF6",
            "gridcolor": "white",
            "gridwidth": 2,
            "linecolor": "white",
            "showbackground": true,
            "ticks": "",
            "zerolinecolor": "white"
           },
           "yaxis": {
            "backgroundcolor": "#E5ECF6",
            "gridcolor": "white",
            "gridwidth": 2,
            "linecolor": "white",
            "showbackground": true,
            "ticks": "",
            "zerolinecolor": "white"
           },
           "zaxis": {
            "backgroundcolor": "#E5ECF6",
            "gridcolor": "white",
            "gridwidth": 2,
            "linecolor": "white",
            "showbackground": true,
            "ticks": "",
            "zerolinecolor": "white"
           }
          },
          "shapedefaults": {
           "line": {
            "color": "#2a3f5f"
           }
          },
          "ternary": {
           "aaxis": {
            "gridcolor": "white",
            "linecolor": "white",
            "ticks": ""
           },
           "baxis": {
            "gridcolor": "white",
            "linecolor": "white",
            "ticks": ""
           },
           "bgcolor": "#E5ECF6",
           "caxis": {
            "gridcolor": "white",
            "linecolor": "white",
            "ticks": ""
           }
          },
          "title": {
           "x": 0.05
          },
          "xaxis": {
           "automargin": true,
           "gridcolor": "white",
           "linecolor": "white",
           "ticks": "",
           "title": {
            "standoff": 15
           },
           "zerolinecolor": "white",
           "zerolinewidth": 2
          },
          "yaxis": {
           "automargin": true,
           "gridcolor": "white",
           "linecolor": "white",
           "ticks": "",
           "title": {
            "standoff": 15
           },
           "zerolinecolor": "white",
           "zerolinewidth": 2
          }
         }
        },
        "title": {
         "text": "Number of parking bays"
        },
        "xaxis": {
         "anchor": "y",
         "domain": [
          0,
          1
         ],
         "title": {
          "text": "time_interval"
         }
        },
        "yaxis": {
         "anchor": "x",
         "domain": [
          0,
          1
         ],
         "title": {
          "text": "value"
         }
        }
       }
      },
      "text/html": [
       "<div>                            <div id=\"a00f5c10-b942-46c7-a86f-1f37356880d4\" class=\"plotly-graph-div\" style=\"height:300px; width:100%;\"></div>            <script type=\"text/javascript\">                require([\"plotly\"], function(Plotly) {                    window.PLOTLYENV=window.PLOTLYENV || {};                                    if (document.getElementById(\"a00f5c10-b942-46c7-a86f-1f37356880d4\")) {                    Plotly.newPlot(                        \"a00f5c10-b942-46c7-a86f-1f37356880d4\",                        [{\"alignmentgroup\":\"True\",\"hovertemplate\":\"<b>%{hovertext}</b><br><br>variable=Unoccupied<br>time_interval=%{x}<br>value=%{y}<extra></extra>\",\"hovertext\":[\"2021-09-09T11:00:00\",\"2021-09-09T11:15:00\",\"2021-09-09T11:30:00\",\"2021-09-09T11:45:00\",\"2021-09-09T12:00:00\",\"2021-09-09T12:15:00\",\"2021-09-09T12:30:00\",\"2021-09-09T12:45:00\",\"2021-09-09T13:00:00\",\"2021-09-09T13:15:00\",\"2021-09-09T13:30:00\",\"2021-09-09T13:45:00\",\"2021-09-09T14:00:00\",\"2021-09-09T14:15:00\",\"2021-09-09T14:30:00\",\"2021-09-09T14:45:00\",\"2021-09-09T15:00:00\",\"2021-09-09T15:15:00\",\"2021-09-09T15:30:00\",\"2021-09-09T15:45:00\",\"2021-09-09T16:00:00\",\"2021-09-09T16:15:00\",\"2021-09-09T16:30:00\",\"2021-09-09T16:45:00\",\"2021-09-09T17:00:00\",\"2021-09-09T17:15:00\",\"2021-09-09T17:30:00\",\"2021-09-09T17:45:00\",\"2021-09-09T18:00:00\",\"2021-09-09T18:15:00\",\"2021-09-09T18:30:00\",\"2021-09-09T18:45:00\",\"2021-09-09T19:00:00\",\"2021-09-09T19:15:00\",\"2021-09-09T19:30:00\",\"2021-09-09T19:45:00\",\"2021-09-09T20:00:00\",\"2021-09-09T20:15:00\",\"2021-09-09T20:30:00\",\"2021-09-09T20:45:00\",\"2021-09-09T21:00:00\",\"2021-09-09T21:15:00\",\"2021-09-09T21:30:00\",\"2021-09-09T21:45:00\",\"2021-09-09T22:00:00\",\"2021-09-09T22:15:00\",\"2021-09-09T22:30:00\",\"2021-09-09T22:45:00\",\"2021-09-09T23:00:00\",\"2021-09-09T23:15:00\",\"2021-09-09T23:30:00\",\"2021-09-09T23:45:00\",\"2021-09-10T00:00:00\",\"2021-09-10T00:15:00\",\"2021-09-10T00:30:00\",\"2021-09-10T00:45:00\",\"2021-09-10T01:00:00\",\"2021-09-10T01:15:00\",\"2021-09-10T01:30:00\",\"2021-09-10T01:45:00\",\"2021-09-10T02:00:00\",\"2021-09-10T02:15:00\",\"2021-09-10T02:30:00\",\"2021-09-10T02:45:00\",\"2021-09-10T03:00:00\",\"2021-09-10T03:15:00\",\"2021-09-10T03:30:00\",\"2021-09-10T03:45:00\",\"2021-09-10T04:00:00\",\"2021-09-10T04:15:00\",\"2021-09-10T04:30:00\",\"2021-09-10T04:45:00\",\"2021-09-10T05:00:00\",\"2021-09-10T05:15:00\",\"2021-09-10T05:30:00\",\"2021-09-10T05:45:00\",\"2021-09-10T06:00:00\",\"2021-09-10T06:15:00\",\"2021-09-10T06:30:00\",\"2021-09-10T06:45:00\",\"2021-09-10T07:00:00\",\"2021-09-10T07:15:00\",\"2021-09-10T07:30:00\",\"2021-09-10T07:45:00\",\"2021-09-10T08:00:00\",\"2021-09-10T08:15:00\",\"2021-09-10T08:30:00\",\"2021-09-10T08:45:00\",\"2021-09-10T09:00:00\",\"2021-09-10T09:15:00\",\"2021-09-10T09:30:00\",\"2021-09-10T09:45:00\",\"2021-09-10T10:00:00\",\"2021-09-10T10:15:00\",\"2021-09-10T10:30:00\",\"2021-09-10T10:45:00\",\"2021-09-10T11:00:00\",\"2021-09-10T11:15:00\",\"2021-09-10T11:30:00\",\"2021-09-10T11:45:00\",\"2021-09-10T12:00:00\",\"2021-09-10T12:15:00\",\"2021-09-10T12:30:00\",\"2021-09-10T12:45:00\",\"2021-09-10T13:00:00\",\"2021-09-10T13:15:00\",\"2021-09-10T13:30:00\",\"2021-09-10T13:45:00\",\"2021-09-10T14:00:00\",\"2021-09-10T14:15:00\",\"2021-09-10T14:30:00\",\"2021-09-10T14:45:00\",\"2021-09-10T15:00:00\",\"2021-09-10T15:15:00\",\"2021-09-10T15:30:00\",\"2021-09-10T15:45:00\",\"2021-09-10T16:00:00\",\"2021-09-10T16:15:00\",\"2021-09-10T16:30:00\",\"2021-09-10T16:45:00\",\"2021-09-10T17:00:00\",\"2021-09-10T17:15:00\",\"2021-09-10T17:30:00\",\"2021-09-10T17:45:00\",\"2021-09-10T18:00:00\",\"2021-09-10T18:15:00\",\"2021-09-10T18:30:00\",\"2021-09-10T18:45:00\",\"2021-09-10T19:00:00\",\"2021-09-10T19:15:00\",\"2021-09-10T19:30:00\",\"2021-09-10T19:45:00\",\"2021-09-10T20:00:00\",\"2021-09-10T20:15:00\",\"2021-09-10T20:30:00\",\"2021-09-10T20:45:00\",\"2021-09-10T21:00:00\",\"2021-09-10T21:15:00\",\"2021-09-10T21:30:00\",\"2021-09-10T21:45:00\",\"2021-09-10T22:00:00\",\"2021-09-10T22:15:00\",\"2021-09-10T22:30:00\",\"2021-09-10T22:45:00\",\"2021-09-10T23:00:00\",\"2021-09-10T23:15:00\",\"2021-09-10T23:30:00\",\"2021-09-10T23:45:00\",\"2021-09-11T00:00:00\",\"2021-09-11T00:15:00\",\"2021-09-11T00:30:00\",\"2021-09-11T00:45:00\",\"2021-09-11T01:00:00\",\"2021-09-11T01:15:00\",\"2021-09-11T01:30:00\",\"2021-09-11T01:45:00\",\"2021-09-11T02:00:00\",\"2021-09-11T02:15:00\",\"2021-09-11T02:30:00\",\"2021-09-11T02:45:00\",\"2021-09-11T03:00:00\",\"2021-09-11T03:15:00\",\"2021-09-11T03:30:00\",\"2021-09-11T03:45:00\",\"2021-09-11T04:00:00\",\"2021-09-11T04:15:00\",\"2021-09-11T04:30:00\",\"2021-09-11T04:45:00\",\"2021-09-11T05:00:00\",\"2021-09-11T05:15:00\",\"2021-09-11T05:30:00\",\"2021-09-11T05:45:00\",\"2021-09-11T06:00:00\",\"2021-09-11T06:15:00\",\"2021-09-11T06:30:00\",\"2021-09-11T06:45:00\",\"2021-09-11T07:00:00\",\"2021-09-11T07:15:00\",\"2021-09-11T07:30:00\",\"2021-09-11T07:45:00\",\"2021-09-11T08:00:00\",\"2021-09-11T08:15:00\",\"2021-09-11T08:30:00\",\"2021-09-11T08:45:00\",\"2021-09-11T09:00:00\",\"2021-09-11T09:15:00\",\"2021-09-11T09:30:00\",\"2021-09-11T09:45:00\",\"2021-09-11T10:00:00\",\"2021-09-11T10:15:00\",\"2021-09-11T10:30:00\",\"2021-09-11T10:45:00\",\"2021-09-11T11:00:00\",\"2021-09-11T11:15:00\",\"2021-09-11T11:30:00\",\"2021-09-11T11:45:00\",\"2021-09-11T12:00:00\",\"2021-09-11T12:15:00\",\"2021-09-11T12:30:00\",\"2021-09-11T12:45:00\",\"2021-09-11T13:00:00\",\"2021-09-11T13:15:00\",\"2021-09-11T13:30:00\",\"2021-09-11T13:45:00\",\"2021-09-11T14:00:00\",\"2021-09-11T14:15:00\",\"2021-09-11T14:30:00\",\"2021-09-11T14:45:00\",\"2021-09-11T15:00:00\",\"2021-09-11T15:15:00\",\"2021-09-11T15:30:00\",\"2021-09-11T15:45:00\",\"2021-09-11T16:00:00\",\"2021-09-11T16:15:00\",\"2021-09-11T16:30:00\",\"2021-09-11T16:45:00\",\"2021-09-11T17:00:00\",\"2021-09-11T17:15:00\",\"2021-09-11T17:30:00\",\"2021-09-11T17:45:00\",\"2021-09-11T18:00:00\",\"2021-09-11T18:15:00\",\"2021-09-11T18:30:00\",\"2021-09-11T18:45:00\",\"2021-09-11T19:00:00\",\"2021-09-11T19:15:00\",\"2021-09-11T19:30:00\",\"2021-09-11T19:45:00\",\"2021-09-11T20:00:00\",\"2021-09-11T20:15:00\",\"2021-09-11T20:30:00\",\"2021-09-11T20:45:00\",\"2021-09-11T21:00:00\",\"2021-09-11T21:15:00\",\"2021-09-11T21:30:00\",\"2021-09-11T21:45:00\",\"2021-09-11T22:00:00\",\"2021-09-11T22:15:00\",\"2021-09-11T22:30:00\",\"2021-09-11T22:45:00\",\"2021-09-11T23:00:00\",\"2021-09-11T23:15:00\",\"2021-09-11T23:30:00\",\"2021-09-11T23:45:00\",\"2021-09-12T00:00:00\",\"2021-09-12T00:15:00\",\"2021-09-12T00:30:00\",\"2021-09-12T00:45:00\",\"2021-09-12T01:00:00\",\"2021-09-12T01:15:00\",\"2021-09-12T01:30:00\",\"2021-09-12T01:45:00\",\"2021-09-12T02:00:00\",\"2021-09-12T02:15:00\",\"2021-09-12T02:30:00\",\"2021-09-12T02:45:00\",\"2021-09-12T03:00:00\",\"2021-09-12T03:15:00\",\"2021-09-12T03:30:00\",\"2021-09-12T03:45:00\",\"2021-09-12T04:00:00\",\"2021-09-12T04:15:00\",\"2021-09-12T04:30:00\",\"2021-09-12T04:45:00\",\"2021-09-12T05:00:00\",\"2021-09-12T05:15:00\",\"2021-09-12T05:30:00\",\"2021-09-12T05:45:00\",\"2021-09-12T06:00:00\",\"2021-09-12T06:15:00\",\"2021-09-12T06:30:00\",\"2021-09-12T06:45:00\",\"2021-09-12T07:00:00\",\"2021-09-12T07:15:00\",\"2021-09-12T07:30:00\",\"2021-09-12T07:45:00\",\"2021-09-12T08:00:00\",\"2021-09-12T08:15:00\",\"2021-09-12T08:30:00\",\"2021-09-12T08:45:00\",\"2021-09-12T09:00:00\",\"2021-09-12T09:15:00\",\"2021-09-12T09:30:00\",\"2021-09-12T09:45:00\",\"2021-09-12T10:00:00\",\"2021-09-12T10:15:00\",\"2021-09-12T10:30:00\",\"2021-09-12T10:45:00\",\"2021-09-12T11:00:00\",\"2021-09-12T11:15:00\",\"2021-09-12T11:30:00\",\"2021-09-12T11:45:00\",\"2021-09-12T12:00:00\",\"2021-09-12T12:15:00\",\"2021-09-12T12:30:00\",\"2021-09-12T12:45:00\",\"2021-09-12T13:00:00\",\"2021-09-12T13:15:00\",\"2021-09-12T13:30:00\",\"2021-09-12T13:45:00\",\"2021-09-12T14:00:00\",\"2021-09-12T14:15:00\",\"2021-09-12T14:30:00\",\"2021-09-12T14:45:00\",\"2021-09-12T15:00:00\",\"2021-09-12T15:15:00\",\"2021-09-12T15:30:00\",\"2021-09-12T15:45:00\",\"2021-09-12T16:00:00\",\"2021-09-12T16:15:00\",\"2021-09-12T16:30:00\",\"2021-09-12T16:45:00\",\"2021-09-12T17:00:00\",\"2021-09-12T17:15:00\",\"2021-09-12T17:30:00\",\"2021-09-12T17:45:00\",\"2021-09-12T18:00:00\",\"2021-09-12T18:15:00\",\"2021-09-12T18:30:00\",\"2021-09-12T18:45:00\",\"2021-09-12T19:00:00\",\"2021-09-12T19:15:00\",\"2021-09-12T19:30:00\",\"2021-09-12T19:45:00\",\"2021-09-12T20:00:00\",\"2021-09-12T20:15:00\",\"2021-09-12T20:30:00\",\"2021-09-12T20:45:00\",\"2021-09-12T21:00:00\",\"2021-09-12T21:15:00\",\"2021-09-12T21:30:00\",\"2021-09-12T21:45:00\",\"2021-09-12T22:00:00\",\"2021-09-12T22:15:00\",\"2021-09-12T22:30:00\",\"2021-09-12T22:45:00\",\"2021-09-12T23:00:00\",\"2021-09-12T23:15:00\",\"2021-09-12T23:30:00\",\"2021-09-12T23:45:00\",\"2021-09-13T00:00:00\",\"2021-09-13T00:15:00\",\"2021-09-13T00:30:00\",\"2021-09-13T00:45:00\",\"2021-09-13T01:00:00\",\"2021-09-13T01:15:00\",\"2021-09-13T01:30:00\",\"2021-09-13T01:45:00\",\"2021-09-13T02:00:00\",\"2021-09-13T02:15:00\",\"2021-09-13T02:30:00\",\"2021-09-13T02:45:00\",\"2021-09-13T03:00:00\",\"2021-09-13T03:15:00\",\"2021-09-13T03:30:00\",\"2021-09-13T03:45:00\",\"2021-09-13T04:00:00\",\"2021-09-13T04:15:00\",\"2021-09-13T04:30:00\",\"2021-09-13T04:45:00\",\"2021-09-13T05:00:00\",\"2021-09-13T05:15:00\",\"2021-09-13T05:30:00\",\"2021-09-13T05:45:00\",\"2021-09-13T06:00:00\",\"2021-09-13T06:15:00\",\"2021-09-13T06:30:00\",\"2021-09-13T06:45:00\",\"2021-09-13T07:00:00\",\"2021-09-13T07:15:00\",\"2021-09-13T07:30:00\",\"2021-09-13T07:45:00\",\"2021-09-13T08:00:00\",\"2021-09-13T08:15:00\",\"2021-09-13T08:30:00\",\"2021-09-13T08:45:00\",\"2021-09-13T09:00:00\",\"2021-09-13T09:15:00\",\"2021-09-13T09:30:00\",\"2021-09-13T09:45:00\",\"2021-09-13T10:00:00\",\"2021-09-13T10:15:00\",\"2021-09-13T10:30:00\",\"2021-09-13T10:45:00\",\"2021-09-13T11:00:00\",\"2021-09-13T11:15:00\",\"2021-09-13T11:30:00\",\"2021-09-13T11:45:00\",\"2021-09-13T12:00:00\",\"2021-09-13T12:15:00\",\"2021-09-13T12:30:00\",\"2021-09-13T12:45:00\",\"2021-09-13T13:00:00\",\"2021-09-13T13:15:00\",\"2021-09-13T13:30:00\",\"2021-09-13T13:45:00\",\"2021-09-13T14:00:00\",\"2021-09-13T14:15:00\",\"2021-09-13T14:30:00\",\"2021-09-13T14:45:00\",\"2021-09-13T15:00:00\",\"2021-09-13T15:15:00\",\"2021-09-13T15:30:00\",\"2021-09-13T15:45:00\",\"2021-09-13T16:00:00\",\"2021-09-13T16:15:00\",\"2021-09-13T16:30:00\",\"2021-09-13T16:45:00\",\"2021-09-13T17:00:00\",\"2021-09-13T17:15:00\",\"2021-09-13T17:30:00\",\"2021-09-13T17:45:00\",\"2021-09-13T18:00:00\",\"2021-09-13T18:15:00\",\"2021-09-13T18:30:00\",\"2021-09-13T18:45:00\",\"2021-09-13T19:00:00\",\"2021-09-13T19:15:00\",\"2021-09-13T19:30:00\",\"2021-09-13T19:45:00\",\"2021-09-13T20:00:00\",\"2021-09-13T20:15:00\",\"2021-09-13T20:30:00\",\"2021-09-13T20:45:00\",\"2021-09-13T21:00:00\",\"2021-09-13T21:15:00\",\"2021-09-13T21:30:00\",\"2021-09-13T21:45:00\",\"2021-09-13T22:00:00\",\"2021-09-13T22:15:00\",\"2021-09-13T22:30:00\",\"2021-09-13T22:45:00\",\"2021-09-13T23:00:00\",\"2021-09-13T23:15:00\",\"2021-09-13T23:30:00\",\"2021-09-13T23:45:00\",\"2021-09-14T00:00:00\",\"2021-09-14T00:15:00\",\"2021-09-14T00:30:00\",\"2021-09-14T00:45:00\",\"2021-09-14T01:00:00\",\"2021-09-14T01:15:00\",\"2021-09-14T01:30:00\",\"2021-09-14T01:45:00\",\"2021-09-14T02:00:00\",\"2021-09-14T02:15:00\",\"2021-09-14T02:30:00\",\"2021-09-14T02:45:00\",\"2021-09-14T03:00:00\",\"2021-09-14T03:15:00\",\"2021-09-14T03:30:00\",\"2021-09-14T03:45:00\",\"2021-09-14T04:00:00\",\"2021-09-14T04:15:00\",\"2021-09-14T04:30:00\",\"2021-09-14T04:45:00\",\"2021-09-14T05:00:00\",\"2021-09-14T05:15:00\",\"2021-09-14T05:30:00\",\"2021-09-14T05:45:00\",\"2021-09-14T06:00:00\",\"2021-09-14T06:15:00\",\"2021-09-14T06:30:00\",\"2021-09-14T06:45:00\",\"2021-09-14T07:00:00\",\"2021-09-14T07:15:00\",\"2021-09-14T07:30:00\",\"2021-09-14T07:45:00\",\"2021-09-14T08:00:00\",\"2021-09-14T08:15:00\",\"2021-09-14T08:30:00\",\"2021-09-14T08:45:00\",\"2021-09-14T09:00:00\",\"2021-09-14T09:15:00\",\"2021-09-14T09:30:00\",\"2021-09-14T09:45:00\",\"2021-09-14T10:00:00\",\"2021-09-14T10:15:00\",\"2021-09-14T10:30:00\",\"2021-09-14T10:45:00\",\"2021-09-14T11:00:00\",\"2021-09-14T11:15:00\",\"2021-09-14T11:30:00\",\"2021-09-14T11:45:00\",\"2021-09-14T12:00:00\",\"2021-09-14T12:15:00\",\"2021-09-14T12:30:00\",\"2021-09-14T12:45:00\",\"2021-09-14T13:00:00\",\"2021-09-14T13:15:00\",\"2021-09-14T13:30:00\",\"2021-09-14T13:45:00\",\"2021-09-14T14:00:00\",\"2021-09-14T14:15:00\",\"2021-09-14T14:30:00\",\"2021-09-14T14:45:00\",\"2021-09-14T15:00:00\",\"2021-09-14T15:15:00\",\"2021-09-14T15:30:00\",\"2021-09-14T15:45:00\",\"2021-09-14T16:00:00\",\"2021-09-14T16:15:00\",\"2021-09-14T16:30:00\",\"2021-09-14T16:45:00\",\"2021-09-14T17:00:00\",\"2021-09-14T17:15:00\",\"2021-09-14T17:30:00\",\"2021-09-14T17:45:00\",\"2021-09-14T18:00:00\",\"2021-09-14T18:15:00\",\"2021-09-14T18:30:00\",\"2021-09-14T18:45:00\",\"2021-09-14T19:00:00\",\"2021-09-14T19:15:00\",\"2021-09-14T19:30:00\",\"2021-09-14T19:45:00\",\"2021-09-14T20:00:00\",\"2021-09-14T20:15:00\",\"2021-09-14T20:30:00\",\"2021-09-14T20:45:00\",\"2021-09-14T21:00:00\",\"2021-09-14T21:15:00\",\"2021-09-14T21:30:00\",\"2021-09-14T21:45:00\",\"2021-09-14T22:00:00\",\"2021-09-14T22:15:00\",\"2021-09-14T22:30:00\",\"2021-09-14T22:45:00\",\"2021-09-14T23:00:00\",\"2021-09-14T23:15:00\",\"2021-09-14T23:30:00\",\"2021-09-14T23:45:00\",\"2021-09-15T00:00:00\",\"2021-09-15T00:15:00\",\"2021-09-15T00:30:00\",\"2021-09-15T00:45:00\"],\"legendgroup\":\"Unoccupied\",\"marker\":{\"color\":\"green\",\"pattern\":{\"shape\":\"\"}},\"name\":\"Unoccupied\",\"offsetgroup\":\"Unoccupied\",\"orientation\":\"v\",\"showlegend\":true,\"textposition\":\"auto\",\"type\":\"bar\",\"x\":[\"2021-09-09T11:00:00\",\"2021-09-09T11:15:00\",\"2021-09-09T11:30:00\",\"2021-09-09T11:45:00\",\"2021-09-09T12:00:00\",\"2021-09-09T12:15:00\",\"2021-09-09T12:30:00\",\"2021-09-09T12:45:00\",\"2021-09-09T13:00:00\",\"2021-09-09T13:15:00\",\"2021-09-09T13:30:00\",\"2021-09-09T13:45:00\",\"2021-09-09T14:00:00\",\"2021-09-09T14:15:00\",\"2021-09-09T14:30:00\",\"2021-09-09T14:45:00\",\"2021-09-09T15:00:00\",\"2021-09-09T15:15:00\",\"2021-09-09T15:30:00\",\"2021-09-09T15:45:00\",\"2021-09-09T16:00:00\",\"2021-09-09T16:15:00\",\"2021-09-09T16:30:00\",\"2021-09-09T16:45:00\",\"2021-09-09T17:00:00\",\"2021-09-09T17:15:00\",\"2021-09-09T17:30:00\",\"2021-09-09T17:45:00\",\"2021-09-09T18:00:00\",\"2021-09-09T18:15:00\",\"2021-09-09T18:30:00\",\"2021-09-09T18:45:00\",\"2021-09-09T19:00:00\",\"2021-09-09T19:15:00\",\"2021-09-09T19:30:00\",\"2021-09-09T19:45:00\",\"2021-09-09T20:00:00\",\"2021-09-09T20:15:00\",\"2021-09-09T20:30:00\",\"2021-09-09T20:45:00\",\"2021-09-09T21:00:00\",\"2021-09-09T21:15:00\",\"2021-09-09T21:30:00\",\"2021-09-09T21:45:00\",\"2021-09-09T22:00:00\",\"2021-09-09T22:15:00\",\"2021-09-09T22:30:00\",\"2021-09-09T22:45:00\",\"2021-09-09T23:00:00\",\"2021-09-09T23:15:00\",\"2021-09-09T23:30:00\",\"2021-09-09T23:45:00\",\"2021-09-10T00:00:00\",\"2021-09-10T00:15:00\",\"2021-09-10T00:30:00\",\"2021-09-10T00:45:00\",\"2021-09-10T01:00:00\",\"2021-09-10T01:15:00\",\"2021-09-10T01:30:00\",\"2021-09-10T01:45:00\",\"2021-09-10T02:00:00\",\"2021-09-10T02:15:00\",\"2021-09-10T02:30:00\",\"2021-09-10T02:45:00\",\"2021-09-10T03:00:00\",\"2021-09-10T03:15:00\",\"2021-09-10T03:30:00\",\"2021-09-10T03:45:00\",\"2021-09-10T04:00:00\",\"2021-09-10T04:15:00\",\"2021-09-10T04:30:00\",\"2021-09-10T04:45:00\",\"2021-09-10T05:00:00\",\"2021-09-10T05:15:00\",\"2021-09-10T05:30:00\",\"2021-09-10T05:45:00\",\"2021-09-10T06:00:00\",\"2021-09-10T06:15:00\",\"2021-09-10T06:30:00\",\"2021-09-10T06:45:00\",\"2021-09-10T07:00:00\",\"2021-09-10T07:15:00\",\"2021-09-10T07:30:00\",\"2021-09-10T07:45:00\",\"2021-09-10T08:00:00\",\"2021-09-10T08:15:00\",\"2021-09-10T08:30:00\",\"2021-09-10T08:45:00\",\"2021-09-10T09:00:00\",\"2021-09-10T09:15:00\",\"2021-09-10T09:30:00\",\"2021-09-10T09:45:00\",\"2021-09-10T10:00:00\",\"2021-09-10T10:15:00\",\"2021-09-10T10:30:00\",\"2021-09-10T10:45:00\",\"2021-09-10T11:00:00\",\"2021-09-10T11:15:00\",\"2021-09-10T11:30:00\",\"2021-09-10T11:45:00\",\"2021-09-10T12:00:00\",\"2021-09-10T12:15:00\",\"2021-09-10T12:30:00\",\"2021-09-10T12:45:00\",\"2021-09-10T13:00:00\",\"2021-09-10T13:15:00\",\"2021-09-10T13:30:00\",\"2021-09-10T13:45:00\",\"2021-09-10T14:00:00\",\"2021-09-10T14:15:00\",\"2021-09-10T14:30:00\",\"2021-09-10T14:45:00\",\"2021-09-10T15:00:00\",\"2021-09-10T15:15:00\",\"2021-09-10T15:30:00\",\"2021-09-10T15:45:00\",\"2021-09-10T16:00:00\",\"2021-09-10T16:15:00\",\"2021-09-10T16:30:00\",\"2021-09-10T16:45:00\",\"2021-09-10T17:00:00\",\"2021-09-10T17:15:00\",\"2021-09-10T17:30:00\",\"2021-09-10T17:45:00\",\"2021-09-10T18:00:00\",\"2021-09-10T18:15:00\",\"2021-09-10T18:30:00\",\"2021-09-10T18:45:00\",\"2021-09-10T19:00:00\",\"2021-09-10T19:15:00\",\"2021-09-10T19:30:00\",\"2021-09-10T19:45:00\",\"2021-09-10T20:00:00\",\"2021-09-10T20:15:00\",\"2021-09-10T20:30:00\",\"2021-09-10T20:45:00\",\"2021-09-10T21:00:00\",\"2021-09-10T21:15:00\",\"2021-09-10T21:30:00\",\"2021-09-10T21:45:00\",\"2021-09-10T22:00:00\",\"2021-09-10T22:15:00\",\"2021-09-10T22:30:00\",\"2021-09-10T22:45:00\",\"2021-09-10T23:00:00\",\"2021-09-10T23:15:00\",\"2021-09-10T23:30:00\",\"2021-09-10T23:45:00\",\"2021-09-11T00:00:00\",\"2021-09-11T00:15:00\",\"2021-09-11T00:30:00\",\"2021-09-11T00:45:00\",\"2021-09-11T01:00:00\",\"2021-09-11T01:15:00\",\"2021-09-11T01:30:00\",\"2021-09-11T01:45:00\",\"2021-09-11T02:00:00\",\"2021-09-11T02:15:00\",\"2021-09-11T02:30:00\",\"2021-09-11T02:45:00\",\"2021-09-11T03:00:00\",\"2021-09-11T03:15:00\",\"2021-09-11T03:30:00\",\"2021-09-11T03:45:00\",\"2021-09-11T04:00:00\",\"2021-09-11T04:15:00\",\"2021-09-11T04:30:00\",\"2021-09-11T04:45:00\",\"2021-09-11T05:00:00\",\"2021-09-11T05:15:00\",\"2021-09-11T05:30:00\",\"2021-09-11T05:45:00\",\"2021-09-11T06:00:00\",\"2021-09-11T06:15:00\",\"2021-09-11T06:30:00\",\"2021-09-11T06:45:00\",\"2021-09-11T07:00:00\",\"2021-09-11T07:15:00\",\"2021-09-11T07:30:00\",\"2021-09-11T07:45:00\",\"2021-09-11T08:00:00\",\"2021-09-11T08:15:00\",\"2021-09-11T08:30:00\",\"2021-09-11T08:45:00\",\"2021-09-11T09:00:00\",\"2021-09-11T09:15:00\",\"2021-09-11T09:30:00\",\"2021-09-11T09:45:00\",\"2021-09-11T10:00:00\",\"2021-09-11T10:15:00\",\"2021-09-11T10:30:00\",\"2021-09-11T10:45:00\",\"2021-09-11T11:00:00\",\"2021-09-11T11:15:00\",\"2021-09-11T11:30:00\",\"2021-09-11T11:45:00\",\"2021-09-11T12:00:00\",\"2021-09-11T12:15:00\",\"2021-09-11T12:30:00\",\"2021-09-11T12:45:00\",\"2021-09-11T13:00:00\",\"2021-09-11T13:15:00\",\"2021-09-11T13:30:00\",\"2021-09-11T13:45:00\",\"2021-09-11T14:00:00\",\"2021-09-11T14:15:00\",\"2021-09-11T14:30:00\",\"2021-09-11T14:45:00\",\"2021-09-11T15:00:00\",\"2021-09-11T15:15:00\",\"2021-09-11T15:30:00\",\"2021-09-11T15:45:00\",\"2021-09-11T16:00:00\",\"2021-09-11T16:15:00\",\"2021-09-11T16:30:00\",\"2021-09-11T16:45:00\",\"2021-09-11T17:00:00\",\"2021-09-11T17:15:00\",\"2021-09-11T17:30:00\",\"2021-09-11T17:45:00\",\"2021-09-11T18:00:00\",\"2021-09-11T18:15:00\",\"2021-09-11T18:30:00\",\"2021-09-11T18:45:00\",\"2021-09-11T19:00:00\",\"2021-09-11T19:15:00\",\"2021-09-11T19:30:00\",\"2021-09-11T19:45:00\",\"2021-09-11T20:00:00\",\"2021-09-11T20:15:00\",\"2021-09-11T20:30:00\",\"2021-09-11T20:45:00\",\"2021-09-11T21:00:00\",\"2021-09-11T21:15:00\",\"2021-09-11T21:30:00\",\"2021-09-11T21:45:00\",\"2021-09-11T22:00:00\",\"2021-09-11T22:15:00\",\"2021-09-11T22:30:00\",\"2021-09-11T22:45:00\",\"2021-09-11T23:00:00\",\"2021-09-11T23:15:00\",\"2021-09-11T23:30:00\",\"2021-09-11T23:45:00\",\"2021-09-12T00:00:00\",\"2021-09-12T00:15:00\",\"2021-09-12T00:30:00\",\"2021-09-12T00:45:00\",\"2021-09-12T01:00:00\",\"2021-09-12T01:15:00\",\"2021-09-12T01:30:00\",\"2021-09-12T01:45:00\",\"2021-09-12T02:00:00\",\"2021-09-12T02:15:00\",\"2021-09-12T02:30:00\",\"2021-09-12T02:45:00\",\"2021-09-12T03:00:00\",\"2021-09-12T03:15:00\",\"2021-09-12T03:30:00\",\"2021-09-12T03:45:00\",\"2021-09-12T04:00:00\",\"2021-09-12T04:15:00\",\"2021-09-12T04:30:00\",\"2021-09-12T04:45:00\",\"2021-09-12T05:00:00\",\"2021-09-12T05:15:00\",\"2021-09-12T05:30:00\",\"2021-09-12T05:45:00\",\"2021-09-12T06:00:00\",\"2021-09-12T06:15:00\",\"2021-09-12T06:30:00\",\"2021-09-12T06:45:00\",\"2021-09-12T07:00:00\",\"2021-09-12T07:15:00\",\"2021-09-12T07:30:00\",\"2021-09-12T07:45:00\",\"2021-09-12T08:00:00\",\"2021-09-12T08:15:00\",\"2021-09-12T08:30:00\",\"2021-09-12T08:45:00\",\"2021-09-12T09:00:00\",\"2021-09-12T09:15:00\",\"2021-09-12T09:30:00\",\"2021-09-12T09:45:00\",\"2021-09-12T10:00:00\",\"2021-09-12T10:15:00\",\"2021-09-12T10:30:00\",\"2021-09-12T10:45:00\",\"2021-09-12T11:00:00\",\"2021-09-12T11:15:00\",\"2021-09-12T11:30:00\",\"2021-09-12T11:45:00\",\"2021-09-12T12:00:00\",\"2021-09-12T12:15:00\",\"2021-09-12T12:30:00\",\"2021-09-12T12:45:00\",\"2021-09-12T13:00:00\",\"2021-09-12T13:15:00\",\"2021-09-12T13:30:00\",\"2021-09-12T13:45:00\",\"2021-09-12T14:00:00\",\"2021-09-12T14:15:00\",\"2021-09-12T14:30:00\",\"2021-09-12T14:45:00\",\"2021-09-12T15:00:00\",\"2021-09-12T15:15:00\",\"2021-09-12T15:30:00\",\"2021-09-12T15:45:00\",\"2021-09-12T16:00:00\",\"2021-09-12T16:15:00\",\"2021-09-12T16:30:00\",\"2021-09-12T16:45:00\",\"2021-09-12T17:00:00\",\"2021-09-12T17:15:00\",\"2021-09-12T17:30:00\",\"2021-09-12T17:45:00\",\"2021-09-12T18:00:00\",\"2021-09-12T18:15:00\",\"2021-09-12T18:30:00\",\"2021-09-12T18:45:00\",\"2021-09-12T19:00:00\",\"2021-09-12T19:15:00\",\"2021-09-12T19:30:00\",\"2021-09-12T19:45:00\",\"2021-09-12T20:00:00\",\"2021-09-12T20:15:00\",\"2021-09-12T20:30:00\",\"2021-09-12T20:45:00\",\"2021-09-12T21:00:00\",\"2021-09-12T21:15:00\",\"2021-09-12T21:30:00\",\"2021-09-12T21:45:00\",\"2021-09-12T22:00:00\",\"2021-09-12T22:15:00\",\"2021-09-12T22:30:00\",\"2021-09-12T22:45:00\",\"2021-09-12T23:00:00\",\"2021-09-12T23:15:00\",\"2021-09-12T23:30:00\",\"2021-09-12T23:45:00\",\"2021-09-13T00:00:00\",\"2021-09-13T00:15:00\",\"2021-09-13T00:30:00\",\"2021-09-13T00:45:00\",\"2021-09-13T01:00:00\",\"2021-09-13T01:15:00\",\"2021-09-13T01:30:00\",\"2021-09-13T01:45:00\",\"2021-09-13T02:00:00\",\"2021-09-13T02:15:00\",\"2021-09-13T02:30:00\",\"2021-09-13T02:45:00\",\"2021-09-13T03:00:00\",\"2021-09-13T03:15:00\",\"2021-09-13T03:30:00\",\"2021-09-13T03:45:00\",\"2021-09-13T04:00:00\",\"2021-09-13T04:15:00\",\"2021-09-13T04:30:00\",\"2021-09-13T04:45:00\",\"2021-09-13T05:00:00\",\"2021-09-13T05:15:00\",\"2021-09-13T05:30:00\",\"2021-09-13T05:45:00\",\"2021-09-13T06:00:00\",\"2021-09-13T06:15:00\",\"2021-09-13T06:30:00\",\"2021-09-13T06:45:00\",\"2021-09-13T07:00:00\",\"2021-09-13T07:15:00\",\"2021-09-13T07:30:00\",\"2021-09-13T07:45:00\",\"2021-09-13T08:00:00\",\"2021-09-13T08:15:00\",\"2021-09-13T08:30:00\",\"2021-09-13T08:45:00\",\"2021-09-13T09:00:00\",\"2021-09-13T09:15:00\",\"2021-09-13T09:30:00\",\"2021-09-13T09:45:00\",\"2021-09-13T10:00:00\",\"2021-09-13T10:15:00\",\"2021-09-13T10:30:00\",\"2021-09-13T10:45:00\",\"2021-09-13T11:00:00\",\"2021-09-13T11:15:00\",\"2021-09-13T11:30:00\",\"2021-09-13T11:45:00\",\"2021-09-13T12:00:00\",\"2021-09-13T12:15:00\",\"2021-09-13T12:30:00\",\"2021-09-13T12:45:00\",\"2021-09-13T13:00:00\",\"2021-09-13T13:15:00\",\"2021-09-13T13:30:00\",\"2021-09-13T13:45:00\",\"2021-09-13T14:00:00\",\"2021-09-13T14:15:00\",\"2021-09-13T14:30:00\",\"2021-09-13T14:45:00\",\"2021-09-13T15:00:00\",\"2021-09-13T15:15:00\",\"2021-09-13T15:30:00\",\"2021-09-13T15:45:00\",\"2021-09-13T16:00:00\",\"2021-09-13T16:15:00\",\"2021-09-13T16:30:00\",\"2021-09-13T16:45:00\",\"2021-09-13T17:00:00\",\"2021-09-13T17:15:00\",\"2021-09-13T17:30:00\",\"2021-09-13T17:45:00\",\"2021-09-13T18:00:00\",\"2021-09-13T18:15:00\",\"2021-09-13T18:30:00\",\"2021-09-13T18:45:00\",\"2021-09-13T19:00:00\",\"2021-09-13T19:15:00\",\"2021-09-13T19:30:00\",\"2021-09-13T19:45:00\",\"2021-09-13T20:00:00\",\"2021-09-13T20:15:00\",\"2021-09-13T20:30:00\",\"2021-09-13T20:45:00\",\"2021-09-13T21:00:00\",\"2021-09-13T21:15:00\",\"2021-09-13T21:30:00\",\"2021-09-13T21:45:00\",\"2021-09-13T22:00:00\",\"2021-09-13T22:15:00\",\"2021-09-13T22:30:00\",\"2021-09-13T22:45:00\",\"2021-09-13T23:00:00\",\"2021-09-13T23:15:00\",\"2021-09-13T23:30:00\",\"2021-09-13T23:45:00\",\"2021-09-14T00:00:00\",\"2021-09-14T00:15:00\",\"2021-09-14T00:30:00\",\"2021-09-14T00:45:00\",\"2021-09-14T01:00:00\",\"2021-09-14T01:15:00\",\"2021-09-14T01:30:00\",\"2021-09-14T01:45:00\",\"2021-09-14T02:00:00\",\"2021-09-14T02:15:00\",\"2021-09-14T02:30:00\",\"2021-09-14T02:45:00\",\"2021-09-14T03:00:00\",\"2021-09-14T03:15:00\",\"2021-09-14T03:30:00\",\"2021-09-14T03:45:00\",\"2021-09-14T04:00:00\",\"2021-09-14T04:15:00\",\"2021-09-14T04:30:00\",\"2021-09-14T04:45:00\",\"2021-09-14T05:00:00\",\"2021-09-14T05:15:00\",\"2021-09-14T05:30:00\",\"2021-09-14T05:45:00\",\"2021-09-14T06:00:00\",\"2021-09-14T06:15:00\",\"2021-09-14T06:30:00\",\"2021-09-14T06:45:00\",\"2021-09-14T07:00:00\",\"2021-09-14T07:15:00\",\"2021-09-14T07:30:00\",\"2021-09-14T07:45:00\",\"2021-09-14T08:00:00\",\"2021-09-14T08:15:00\",\"2021-09-14T08:30:00\",\"2021-09-14T08:45:00\",\"2021-09-14T09:00:00\",\"2021-09-14T09:15:00\",\"2021-09-14T09:30:00\",\"2021-09-14T09:45:00\",\"2021-09-14T10:00:00\",\"2021-09-14T10:15:00\",\"2021-09-14T10:30:00\",\"2021-09-14T10:45:00\",\"2021-09-14T11:00:00\",\"2021-09-14T11:15:00\",\"2021-09-14T11:30:00\",\"2021-09-14T11:45:00\",\"2021-09-14T12:00:00\",\"2021-09-14T12:15:00\",\"2021-09-14T12:30:00\",\"2021-09-14T12:45:00\",\"2021-09-14T13:00:00\",\"2021-09-14T13:15:00\",\"2021-09-14T13:30:00\",\"2021-09-14T13:45:00\",\"2021-09-14T14:00:00\",\"2021-09-14T14:15:00\",\"2021-09-14T14:30:00\",\"2021-09-14T14:45:00\",\"2021-09-14T15:00:00\",\"2021-09-14T15:15:00\",\"2021-09-14T15:30:00\",\"2021-09-14T15:45:00\",\"2021-09-14T16:00:00\",\"2021-09-14T16:15:00\",\"2021-09-14T16:30:00\",\"2021-09-14T16:45:00\",\"2021-09-14T17:00:00\",\"2021-09-14T17:15:00\",\"2021-09-14T17:30:00\",\"2021-09-14T17:45:00\",\"2021-09-14T18:00:00\",\"2021-09-14T18:15:00\",\"2021-09-14T18:30:00\",\"2021-09-14T18:45:00\",\"2021-09-14T19:00:00\",\"2021-09-14T19:15:00\",\"2021-09-14T19:30:00\",\"2021-09-14T19:45:00\",\"2021-09-14T20:00:00\",\"2021-09-14T20:15:00\",\"2021-09-14T20:30:00\",\"2021-09-14T20:45:00\",\"2021-09-14T21:00:00\",\"2021-09-14T21:15:00\",\"2021-09-14T21:30:00\",\"2021-09-14T21:45:00\",\"2021-09-14T22:00:00\",\"2021-09-14T22:15:00\",\"2021-09-14T22:30:00\",\"2021-09-14T22:45:00\",\"2021-09-14T23:00:00\",\"2021-09-14T23:15:00\",\"2021-09-14T23:30:00\",\"2021-09-14T23:45:00\",\"2021-09-15T00:00:00\",\"2021-09-15T00:15:00\",\"2021-09-15T00:30:00\",\"2021-09-15T00:45:00\"],\"xaxis\":\"x\",\"y\":[3.0,3.0,3.0,3.0,3.0,3.0,3.0,3.0,3.0,3.0,3.0,3.0,3.0,4.0,4.0,4.0,4.0,4.0,4.0,4.0,4.0,5.0,5.0,4.0,5.0,4.0,5.0,5.0,5.0,5.0,4.0,4.0,4.0,5.0,5.0,5.0,5.0,5.0,5.0,5.0,5.0,5.0,5.0,5.0,5.0,5.0,5.0,5.0,5.0,5.0,5.0,5.0,6.0,5.0,5.0,5.0,3.0,3.0,3.0,3.0,3.0,3.0,3.0,3.0,3.0,3.0,3.0,3.0,3.0,3.0,3.0,3.0,3.0,3.0,1.0,1.0,1.0,1.0,1.0,1.0,1.0,1.0,1.0,0.0,1.0,0.0,1.0,0.0,1.0,1.0,1.0,1.0,1.0,1.0,1.0,1.0,1.0,1.0,1.0,1.0,1.0,1.0,1.0,1.0,1.0,1.0,0.0,1.0,2.0,3.0,2.0,2.0,2.0,2.0,2.0,4.0,4.0,4.0,4.0,5.0,4.0,5.0,5.0,4.0,5.0,5.0,4.0,4.0,3.0,5.0,4.0,4.0,4.0,4.0,4.0,4.0,4.0,4.0,4.0,4.0,4.0,4.0,4.0,4.0,4.0,4.0,4.0,4.0,6.0,5.0,4.0,4.0,5.0,6.0,6.0,6.0,4.0,8.0,4.0,6.0,6.0,6.0,4.0,4.0,8.0,6.0,6.0,6.0,8.0,6.0,6.0,5.0,6.0,6.0,8.0,6.0,5.0,4.0,5.0,6.0,4.0,5.0,4.0,4.0,6.0,6.0,4.0,8.0,4.0,5.0,3.0,6.0,3.0,5.0,5.0,3.0,5.0,7.0,7.0,7.0,3.0,5.0,5.0,5.0,4.0,5.0,5.0,5.0,3.0,5.0,5.0,3.0,3.0,5.0,7.0,7.0,4.0,6.0,7.0,5.0,4.0,5.0,6.0,null,8.0,6.0,6.0,9.0,5.0,7.0,7.0,7.0,5.0,9.0,9.0,6.0,6.0,4.0,5.0,5.0,5.0,4.0,5.0,5.0,5.0,6.0,6.0,7.0,7.0,4.0,4.0,5.0,5.0,5.0,4.0,3.0,4.0,4.0,3.0,3.0,4.0,5.0,4.0,4.0,5.0,4.0,4.0,5.0,4.0,3.0,5.0,5.0,4.0,4.0,4.0,4.0,4.0,5.0,4.0,3.0,4.0,3.0,3.0,5.0,5.0,5.0,5.0,5.0,5.0,3.0,4.0,4.0,6.0,5.0,5.0,5.0,2.0,4.0,3.0,5.0,4.0,4.0,4.0,4.0,4.0,3.0,6.0,5.0,4.0,5.0,5.0,4.0,4.0,5.0,4.0,4.0,4.0,5.0,6.0,5.0,4.0,5.0,5.0,5.0,5.0,6.0,7.0,6.0,6.0,4.0,7.0,5.0,7.0,6.0,6.0,7.0,5.0,6.0,6.0,6.0,6.0,5.0,6.0,7.0,5.0,5.0,5.0,5.0,5.0,5.0,5.0,5.0,5.0,5.0,5.0,5.0,5.0,5.0,5.0,5.0,5.0,5.0,5.0,5.0,5.0,3.0,3.0,4.0,3.0,4.0,4.0,4.0,4.0,4.0,3.0,2.0,2.0,2.0,2.0,2.0,3.0,2.0,3.0,2.0,4.0,4.0,4.0,4.0,3.0,4.0,4.0,3.0,4.0,4.0,4.0,4.0,4.0,3.0,3.0,3.0,3.0,3.0,6.0,6.0,5.0,5.0,5.0,6.0,5.0,5.0,5.0,5.0,5.0,5.0,5.0,5.0,5.0,5.0,6.0,7.0,5.0,4.0,4.0,5.0,6.0,5.0,5.0,5.0,5.0,6.0,5.0,5.0,5.0,5.0,5.0,5.0,6.0,6.0,7.0,6.0,4.0,4.0,2.0,4.0,2.0,2.0,4.0,4.0,4.0,2.0,2.0,4.0,2.0,2.0,4.0,4.0,4.0,6.0,3.0,3.0,3.0,5.0,1.0,2.0,2.0,2.0,2.0,4.0,2.0,2.0,4.0,1.0,1.0,2.0,1.0,0.0,4.0,2.0,0.0,4.0,4.0,2.0,1.0,2.0,2.0,2.0,0.0,0.0,0.0,2.0,2.0,0.0,4.0,2.0,2.0,2.0,0.0,2.0,2.0,1.0,1.0,2.0,2.0,3.0,1.0,3.0,2.0,2.0,4.0,3.0,3.0,1.0,5.0,1.0,1.0,3.0,4.0,3.0,3.0,4.0,3.0,7.0,5.0,5.0,7.0,5.0,5.0,3.0,7.0,7.0,5.0,7.0,6.0,6.0,6.0,6.0],\"yaxis\":\"y\"},{\"alignmentgroup\":\"True\",\"hovertemplate\":\"<b>%{hovertext}</b><br><br>variable=Present<br>time_interval=%{x}<br>value=%{y}<extra></extra>\",\"hovertext\":[\"2021-09-09T11:00:00\",\"2021-09-09T11:15:00\",\"2021-09-09T11:30:00\",\"2021-09-09T11:45:00\",\"2021-09-09T12:00:00\",\"2021-09-09T12:15:00\",\"2021-09-09T12:30:00\",\"2021-09-09T12:45:00\",\"2021-09-09T13:00:00\",\"2021-09-09T13:15:00\",\"2021-09-09T13:30:00\",\"2021-09-09T13:45:00\",\"2021-09-09T14:00:00\",\"2021-09-09T14:15:00\",\"2021-09-09T14:30:00\",\"2021-09-09T14:45:00\",\"2021-09-09T15:00:00\",\"2021-09-09T15:15:00\",\"2021-09-09T15:30:00\",\"2021-09-09T15:45:00\",\"2021-09-09T16:00:00\",\"2021-09-09T16:15:00\",\"2021-09-09T16:30:00\",\"2021-09-09T16:45:00\",\"2021-09-09T17:00:00\",\"2021-09-09T17:15:00\",\"2021-09-09T17:30:00\",\"2021-09-09T17:45:00\",\"2021-09-09T18:00:00\",\"2021-09-09T18:15:00\",\"2021-09-09T18:30:00\",\"2021-09-09T18:45:00\",\"2021-09-09T19:00:00\",\"2021-09-09T19:15:00\",\"2021-09-09T19:30:00\",\"2021-09-09T19:45:00\",\"2021-09-09T20:00:00\",\"2021-09-09T20:15:00\",\"2021-09-09T20:30:00\",\"2021-09-09T20:45:00\",\"2021-09-09T21:00:00\",\"2021-09-09T21:15:00\",\"2021-09-09T21:30:00\",\"2021-09-09T21:45:00\",\"2021-09-09T22:00:00\",\"2021-09-09T22:15:00\",\"2021-09-09T22:30:00\",\"2021-09-09T22:45:00\",\"2021-09-09T23:00:00\",\"2021-09-09T23:15:00\",\"2021-09-09T23:30:00\",\"2021-09-09T23:45:00\",\"2021-09-10T00:00:00\",\"2021-09-10T00:15:00\",\"2021-09-10T00:30:00\",\"2021-09-10T00:45:00\",\"2021-09-10T01:00:00\",\"2021-09-10T01:15:00\",\"2021-09-10T01:30:00\",\"2021-09-10T01:45:00\",\"2021-09-10T02:00:00\",\"2021-09-10T02:15:00\",\"2021-09-10T02:30:00\",\"2021-09-10T02:45:00\",\"2021-09-10T03:00:00\",\"2021-09-10T03:15:00\",\"2021-09-10T03:30:00\",\"2021-09-10T03:45:00\",\"2021-09-10T04:00:00\",\"2021-09-10T04:15:00\",\"2021-09-10T04:30:00\",\"2021-09-10T04:45:00\",\"2021-09-10T05:00:00\",\"2021-09-10T05:15:00\",\"2021-09-10T05:30:00\",\"2021-09-10T05:45:00\",\"2021-09-10T06:00:00\",\"2021-09-10T06:15:00\",\"2021-09-10T06:30:00\",\"2021-09-10T06:45:00\",\"2021-09-10T07:00:00\",\"2021-09-10T07:15:00\",\"2021-09-10T07:30:00\",\"2021-09-10T07:45:00\",\"2021-09-10T08:00:00\",\"2021-09-10T08:15:00\",\"2021-09-10T08:30:00\",\"2021-09-10T08:45:00\",\"2021-09-10T09:00:00\",\"2021-09-10T09:15:00\",\"2021-09-10T09:30:00\",\"2021-09-10T09:45:00\",\"2021-09-10T10:00:00\",\"2021-09-10T10:15:00\",\"2021-09-10T10:30:00\",\"2021-09-10T10:45:00\",\"2021-09-10T11:00:00\",\"2021-09-10T11:15:00\",\"2021-09-10T11:30:00\",\"2021-09-10T11:45:00\",\"2021-09-10T12:00:00\",\"2021-09-10T12:15:00\",\"2021-09-10T12:30:00\",\"2021-09-10T12:45:00\",\"2021-09-10T13:00:00\",\"2021-09-10T13:15:00\",\"2021-09-10T13:30:00\",\"2021-09-10T13:45:00\",\"2021-09-10T14:00:00\",\"2021-09-10T14:15:00\",\"2021-09-10T14:30:00\",\"2021-09-10T14:45:00\",\"2021-09-10T15:00:00\",\"2021-09-10T15:15:00\",\"2021-09-10T15:30:00\",\"2021-09-10T15:45:00\",\"2021-09-10T16:00:00\",\"2021-09-10T16:15:00\",\"2021-09-10T16:30:00\",\"2021-09-10T16:45:00\",\"2021-09-10T17:00:00\",\"2021-09-10T17:15:00\",\"2021-09-10T17:30:00\",\"2021-09-10T17:45:00\",\"2021-09-10T18:00:00\",\"2021-09-10T18:15:00\",\"2021-09-10T18:30:00\",\"2021-09-10T18:45:00\",\"2021-09-10T19:00:00\",\"2021-09-10T19:15:00\",\"2021-09-10T19:30:00\",\"2021-09-10T19:45:00\",\"2021-09-10T20:00:00\",\"2021-09-10T20:15:00\",\"2021-09-10T20:30:00\",\"2021-09-10T20:45:00\",\"2021-09-10T21:00:00\",\"2021-09-10T21:15:00\",\"2021-09-10T21:30:00\",\"2021-09-10T21:45:00\",\"2021-09-10T22:00:00\",\"2021-09-10T22:15:00\",\"2021-09-10T22:30:00\",\"2021-09-10T22:45:00\",\"2021-09-10T23:00:00\",\"2021-09-10T23:15:00\",\"2021-09-10T23:30:00\",\"2021-09-10T23:45:00\",\"2021-09-11T00:00:00\",\"2021-09-11T00:15:00\",\"2021-09-11T00:30:00\",\"2021-09-11T00:45:00\",\"2021-09-11T01:00:00\",\"2021-09-11T01:15:00\",\"2021-09-11T01:30:00\",\"2021-09-11T01:45:00\",\"2021-09-11T02:00:00\",\"2021-09-11T02:15:00\",\"2021-09-11T02:30:00\",\"2021-09-11T02:45:00\",\"2021-09-11T03:00:00\",\"2021-09-11T03:15:00\",\"2021-09-11T03:30:00\",\"2021-09-11T03:45:00\",\"2021-09-11T04:00:00\",\"2021-09-11T04:15:00\",\"2021-09-11T04:30:00\",\"2021-09-11T04:45:00\",\"2021-09-11T05:00:00\",\"2021-09-11T05:15:00\",\"2021-09-11T05:30:00\",\"2021-09-11T05:45:00\",\"2021-09-11T06:00:00\",\"2021-09-11T06:15:00\",\"2021-09-11T06:30:00\",\"2021-09-11T06:45:00\",\"2021-09-11T07:00:00\",\"2021-09-11T07:15:00\",\"2021-09-11T07:30:00\",\"2021-09-11T07:45:00\",\"2021-09-11T08:00:00\",\"2021-09-11T08:15:00\",\"2021-09-11T08:30:00\",\"2021-09-11T08:45:00\",\"2021-09-11T09:00:00\",\"2021-09-11T09:15:00\",\"2021-09-11T09:30:00\",\"2021-09-11T09:45:00\",\"2021-09-11T10:00:00\",\"2021-09-11T10:15:00\",\"2021-09-11T10:30:00\",\"2021-09-11T10:45:00\",\"2021-09-11T11:00:00\",\"2021-09-11T11:15:00\",\"2021-09-11T11:30:00\",\"2021-09-11T11:45:00\",\"2021-09-11T12:00:00\",\"2021-09-11T12:15:00\",\"2021-09-11T12:30:00\",\"2021-09-11T12:45:00\",\"2021-09-11T13:00:00\",\"2021-09-11T13:15:00\",\"2021-09-11T13:30:00\",\"2021-09-11T13:45:00\",\"2021-09-11T14:00:00\",\"2021-09-11T14:15:00\",\"2021-09-11T14:30:00\",\"2021-09-11T14:45:00\",\"2021-09-11T15:00:00\",\"2021-09-11T15:15:00\",\"2021-09-11T15:30:00\",\"2021-09-11T15:45:00\",\"2021-09-11T16:00:00\",\"2021-09-11T16:15:00\",\"2021-09-11T16:30:00\",\"2021-09-11T16:45:00\",\"2021-09-11T17:00:00\",\"2021-09-11T17:15:00\",\"2021-09-11T17:30:00\",\"2021-09-11T17:45:00\",\"2021-09-11T18:00:00\",\"2021-09-11T18:15:00\",\"2021-09-11T18:30:00\",\"2021-09-11T18:45:00\",\"2021-09-11T19:00:00\",\"2021-09-11T19:15:00\",\"2021-09-11T19:30:00\",\"2021-09-11T19:45:00\",\"2021-09-11T20:00:00\",\"2021-09-11T20:15:00\",\"2021-09-11T20:30:00\",\"2021-09-11T20:45:00\",\"2021-09-11T21:00:00\",\"2021-09-11T21:15:00\",\"2021-09-11T21:30:00\",\"2021-09-11T21:45:00\",\"2021-09-11T22:00:00\",\"2021-09-11T22:15:00\",\"2021-09-11T22:30:00\",\"2021-09-11T22:45:00\",\"2021-09-11T23:00:00\",\"2021-09-11T23:15:00\",\"2021-09-11T23:30:00\",\"2021-09-11T23:45:00\",\"2021-09-12T00:00:00\",\"2021-09-12T00:15:00\",\"2021-09-12T00:30:00\",\"2021-09-12T00:45:00\",\"2021-09-12T01:00:00\",\"2021-09-12T01:15:00\",\"2021-09-12T01:30:00\",\"2021-09-12T01:45:00\",\"2021-09-12T02:00:00\",\"2021-09-12T02:15:00\",\"2021-09-12T02:30:00\",\"2021-09-12T02:45:00\",\"2021-09-12T03:00:00\",\"2021-09-12T03:15:00\",\"2021-09-12T03:30:00\",\"2021-09-12T03:45:00\",\"2021-09-12T04:00:00\",\"2021-09-12T04:15:00\",\"2021-09-12T04:30:00\",\"2021-09-12T04:45:00\",\"2021-09-12T05:00:00\",\"2021-09-12T05:15:00\",\"2021-09-12T05:30:00\",\"2021-09-12T05:45:00\",\"2021-09-12T06:00:00\",\"2021-09-12T06:15:00\",\"2021-09-12T06:30:00\",\"2021-09-12T06:45:00\",\"2021-09-12T07:00:00\",\"2021-09-12T07:15:00\",\"2021-09-12T07:30:00\",\"2021-09-12T07:45:00\",\"2021-09-12T08:00:00\",\"2021-09-12T08:15:00\",\"2021-09-12T08:30:00\",\"2021-09-12T08:45:00\",\"2021-09-12T09:00:00\",\"2021-09-12T09:15:00\",\"2021-09-12T09:30:00\",\"2021-09-12T09:45:00\",\"2021-09-12T10:00:00\",\"2021-09-12T10:15:00\",\"2021-09-12T10:30:00\",\"2021-09-12T10:45:00\",\"2021-09-12T11:00:00\",\"2021-09-12T11:15:00\",\"2021-09-12T11:30:00\",\"2021-09-12T11:45:00\",\"2021-09-12T12:00:00\",\"2021-09-12T12:15:00\",\"2021-09-12T12:30:00\",\"2021-09-12T12:45:00\",\"2021-09-12T13:00:00\",\"2021-09-12T13:15:00\",\"2021-09-12T13:30:00\",\"2021-09-12T13:45:00\",\"2021-09-12T14:00:00\",\"2021-09-12T14:15:00\",\"2021-09-12T14:30:00\",\"2021-09-12T14:45:00\",\"2021-09-12T15:00:00\",\"2021-09-12T15:15:00\",\"2021-09-12T15:30:00\",\"2021-09-12T15:45:00\",\"2021-09-12T16:00:00\",\"2021-09-12T16:15:00\",\"2021-09-12T16:30:00\",\"2021-09-12T16:45:00\",\"2021-09-12T17:00:00\",\"2021-09-12T17:15:00\",\"2021-09-12T17:30:00\",\"2021-09-12T17:45:00\",\"2021-09-12T18:00:00\",\"2021-09-12T18:15:00\",\"2021-09-12T18:30:00\",\"2021-09-12T18:45:00\",\"2021-09-12T19:00:00\",\"2021-09-12T19:15:00\",\"2021-09-12T19:30:00\",\"2021-09-12T19:45:00\",\"2021-09-12T20:00:00\",\"2021-09-12T20:15:00\",\"2021-09-12T20:30:00\",\"2021-09-12T20:45:00\",\"2021-09-12T21:00:00\",\"2021-09-12T21:15:00\",\"2021-09-12T21:30:00\",\"2021-09-12T21:45:00\",\"2021-09-12T22:00:00\",\"2021-09-12T22:15:00\",\"2021-09-12T22:30:00\",\"2021-09-12T22:45:00\",\"2021-09-12T23:00:00\",\"2021-09-12T23:15:00\",\"2021-09-12T23:30:00\",\"2021-09-12T23:45:00\",\"2021-09-13T00:00:00\",\"2021-09-13T00:15:00\",\"2021-09-13T00:30:00\",\"2021-09-13T00:45:00\",\"2021-09-13T01:00:00\",\"2021-09-13T01:15:00\",\"2021-09-13T01:30:00\",\"2021-09-13T01:45:00\",\"2021-09-13T02:00:00\",\"2021-09-13T02:15:00\",\"2021-09-13T02:30:00\",\"2021-09-13T02:45:00\",\"2021-09-13T03:00:00\",\"2021-09-13T03:15:00\",\"2021-09-13T03:30:00\",\"2021-09-13T03:45:00\",\"2021-09-13T04:00:00\",\"2021-09-13T04:15:00\",\"2021-09-13T04:30:00\",\"2021-09-13T04:45:00\",\"2021-09-13T05:00:00\",\"2021-09-13T05:15:00\",\"2021-09-13T05:30:00\",\"2021-09-13T05:45:00\",\"2021-09-13T06:00:00\",\"2021-09-13T06:15:00\",\"2021-09-13T06:30:00\",\"2021-09-13T06:45:00\",\"2021-09-13T07:00:00\",\"2021-09-13T07:15:00\",\"2021-09-13T07:30:00\",\"2021-09-13T07:45:00\",\"2021-09-13T08:00:00\",\"2021-09-13T08:15:00\",\"2021-09-13T08:30:00\",\"2021-09-13T08:45:00\",\"2021-09-13T09:00:00\",\"2021-09-13T09:15:00\",\"2021-09-13T09:30:00\",\"2021-09-13T09:45:00\",\"2021-09-13T10:00:00\",\"2021-09-13T10:15:00\",\"2021-09-13T10:30:00\",\"2021-09-13T10:45:00\",\"2021-09-13T11:00:00\",\"2021-09-13T11:15:00\",\"2021-09-13T11:30:00\",\"2021-09-13T11:45:00\",\"2021-09-13T12:00:00\",\"2021-09-13T12:15:00\",\"2021-09-13T12:30:00\",\"2021-09-13T12:45:00\",\"2021-09-13T13:00:00\",\"2021-09-13T13:15:00\",\"2021-09-13T13:30:00\",\"2021-09-13T13:45:00\",\"2021-09-13T14:00:00\",\"2021-09-13T14:15:00\",\"2021-09-13T14:30:00\",\"2021-09-13T14:45:00\",\"2021-09-13T15:00:00\",\"2021-09-13T15:15:00\",\"2021-09-13T15:30:00\",\"2021-09-13T15:45:00\",\"2021-09-13T16:00:00\",\"2021-09-13T16:15:00\",\"2021-09-13T16:30:00\",\"2021-09-13T16:45:00\",\"2021-09-13T17:00:00\",\"2021-09-13T17:15:00\",\"2021-09-13T17:30:00\",\"2021-09-13T17:45:00\",\"2021-09-13T18:00:00\",\"2021-09-13T18:15:00\",\"2021-09-13T18:30:00\",\"2021-09-13T18:45:00\",\"2021-09-13T19:00:00\",\"2021-09-13T19:15:00\",\"2021-09-13T19:30:00\",\"2021-09-13T19:45:00\",\"2021-09-13T20:00:00\",\"2021-09-13T20:15:00\",\"2021-09-13T20:30:00\",\"2021-09-13T20:45:00\",\"2021-09-13T21:00:00\",\"2021-09-13T21:15:00\",\"2021-09-13T21:30:00\",\"2021-09-13T21:45:00\",\"2021-09-13T22:00:00\",\"2021-09-13T22:15:00\",\"2021-09-13T22:30:00\",\"2021-09-13T22:45:00\",\"2021-09-13T23:00:00\",\"2021-09-13T23:15:00\",\"2021-09-13T23:30:00\",\"2021-09-13T23:45:00\",\"2021-09-14T00:00:00\",\"2021-09-14T00:15:00\",\"2021-09-14T00:30:00\",\"2021-09-14T00:45:00\",\"2021-09-14T01:00:00\",\"2021-09-14T01:15:00\",\"2021-09-14T01:30:00\",\"2021-09-14T01:45:00\",\"2021-09-14T02:00:00\",\"2021-09-14T02:15:00\",\"2021-09-14T02:30:00\",\"2021-09-14T02:45:00\",\"2021-09-14T03:00:00\",\"2021-09-14T03:15:00\",\"2021-09-14T03:30:00\",\"2021-09-14T03:45:00\",\"2021-09-14T04:00:00\",\"2021-09-14T04:15:00\",\"2021-09-14T04:30:00\",\"2021-09-14T04:45:00\",\"2021-09-14T05:00:00\",\"2021-09-14T05:15:00\",\"2021-09-14T05:30:00\",\"2021-09-14T05:45:00\",\"2021-09-14T06:00:00\",\"2021-09-14T06:15:00\",\"2021-09-14T06:30:00\",\"2021-09-14T06:45:00\",\"2021-09-14T07:00:00\",\"2021-09-14T07:15:00\",\"2021-09-14T07:30:00\",\"2021-09-14T07:45:00\",\"2021-09-14T08:00:00\",\"2021-09-14T08:15:00\",\"2021-09-14T08:30:00\",\"2021-09-14T08:45:00\",\"2021-09-14T09:00:00\",\"2021-09-14T09:15:00\",\"2021-09-14T09:30:00\",\"2021-09-14T09:45:00\",\"2021-09-14T10:00:00\",\"2021-09-14T10:15:00\",\"2021-09-14T10:30:00\",\"2021-09-14T10:45:00\",\"2021-09-14T11:00:00\",\"2021-09-14T11:15:00\",\"2021-09-14T11:30:00\",\"2021-09-14T11:45:00\",\"2021-09-14T12:00:00\",\"2021-09-14T12:15:00\",\"2021-09-14T12:30:00\",\"2021-09-14T12:45:00\",\"2021-09-14T13:00:00\",\"2021-09-14T13:15:00\",\"2021-09-14T13:30:00\",\"2021-09-14T13:45:00\",\"2021-09-14T14:00:00\",\"2021-09-14T14:15:00\",\"2021-09-14T14:30:00\",\"2021-09-14T14:45:00\",\"2021-09-14T15:00:00\",\"2021-09-14T15:15:00\",\"2021-09-14T15:30:00\",\"2021-09-14T15:45:00\",\"2021-09-14T16:00:00\",\"2021-09-14T16:15:00\",\"2021-09-14T16:30:00\",\"2021-09-14T16:45:00\",\"2021-09-14T17:00:00\",\"2021-09-14T17:15:00\",\"2021-09-14T17:30:00\",\"2021-09-14T17:45:00\",\"2021-09-14T18:00:00\",\"2021-09-14T18:15:00\",\"2021-09-14T18:30:00\",\"2021-09-14T18:45:00\",\"2021-09-14T19:00:00\",\"2021-09-14T19:15:00\",\"2021-09-14T19:30:00\",\"2021-09-14T19:45:00\",\"2021-09-14T20:00:00\",\"2021-09-14T20:15:00\",\"2021-09-14T20:30:00\",\"2021-09-14T20:45:00\",\"2021-09-14T21:00:00\",\"2021-09-14T21:15:00\",\"2021-09-14T21:30:00\",\"2021-09-14T21:45:00\",\"2021-09-14T22:00:00\",\"2021-09-14T22:15:00\",\"2021-09-14T22:30:00\",\"2021-09-14T22:45:00\",\"2021-09-14T23:00:00\",\"2021-09-14T23:15:00\",\"2021-09-14T23:30:00\",\"2021-09-14T23:45:00\",\"2021-09-15T00:00:00\",\"2021-09-15T00:15:00\",\"2021-09-15T00:30:00\",\"2021-09-15T00:45:00\"],\"legendgroup\":\"Present\",\"marker\":{\"color\":\"red\",\"pattern\":{\"shape\":\"\"}},\"name\":\"Present\",\"offsetgroup\":\"Present\",\"orientation\":\"v\",\"showlegend\":true,\"textposition\":\"auto\",\"type\":\"bar\",\"x\":[\"2021-09-09T11:00:00\",\"2021-09-09T11:15:00\",\"2021-09-09T11:30:00\",\"2021-09-09T11:45:00\",\"2021-09-09T12:00:00\",\"2021-09-09T12:15:00\",\"2021-09-09T12:30:00\",\"2021-09-09T12:45:00\",\"2021-09-09T13:00:00\",\"2021-09-09T13:15:00\",\"2021-09-09T13:30:00\",\"2021-09-09T13:45:00\",\"2021-09-09T14:00:00\",\"2021-09-09T14:15:00\",\"2021-09-09T14:30:00\",\"2021-09-09T14:45:00\",\"2021-09-09T15:00:00\",\"2021-09-09T15:15:00\",\"2021-09-09T15:30:00\",\"2021-09-09T15:45:00\",\"2021-09-09T16:00:00\",\"2021-09-09T16:15:00\",\"2021-09-09T16:30:00\",\"2021-09-09T16:45:00\",\"2021-09-09T17:00:00\",\"2021-09-09T17:15:00\",\"2021-09-09T17:30:00\",\"2021-09-09T17:45:00\",\"2021-09-09T18:00:00\",\"2021-09-09T18:15:00\",\"2021-09-09T18:30:00\",\"2021-09-09T18:45:00\",\"2021-09-09T19:00:00\",\"2021-09-09T19:15:00\",\"2021-09-09T19:30:00\",\"2021-09-09T19:45:00\",\"2021-09-09T20:00:00\",\"2021-09-09T20:15:00\",\"2021-09-09T20:30:00\",\"2021-09-09T20:45:00\",\"2021-09-09T21:00:00\",\"2021-09-09T21:15:00\",\"2021-09-09T21:30:00\",\"2021-09-09T21:45:00\",\"2021-09-09T22:00:00\",\"2021-09-09T22:15:00\",\"2021-09-09T22:30:00\",\"2021-09-09T22:45:00\",\"2021-09-09T23:00:00\",\"2021-09-09T23:15:00\",\"2021-09-09T23:30:00\",\"2021-09-09T23:45:00\",\"2021-09-10T00:00:00\",\"2021-09-10T00:15:00\",\"2021-09-10T00:30:00\",\"2021-09-10T00:45:00\",\"2021-09-10T01:00:00\",\"2021-09-10T01:15:00\",\"2021-09-10T01:30:00\",\"2021-09-10T01:45:00\",\"2021-09-10T02:00:00\",\"2021-09-10T02:15:00\",\"2021-09-10T02:30:00\",\"2021-09-10T02:45:00\",\"2021-09-10T03:00:00\",\"2021-09-10T03:15:00\",\"2021-09-10T03:30:00\",\"2021-09-10T03:45:00\",\"2021-09-10T04:00:00\",\"2021-09-10T04:15:00\",\"2021-09-10T04:30:00\",\"2021-09-10T04:45:00\",\"2021-09-10T05:00:00\",\"2021-09-10T05:15:00\",\"2021-09-10T05:30:00\",\"2021-09-10T05:45:00\",\"2021-09-10T06:00:00\",\"2021-09-10T06:15:00\",\"2021-09-10T06:30:00\",\"2021-09-10T06:45:00\",\"2021-09-10T07:00:00\",\"2021-09-10T07:15:00\",\"2021-09-10T07:30:00\",\"2021-09-10T07:45:00\",\"2021-09-10T08:00:00\",\"2021-09-10T08:15:00\",\"2021-09-10T08:30:00\",\"2021-09-10T08:45:00\",\"2021-09-10T09:00:00\",\"2021-09-10T09:15:00\",\"2021-09-10T09:30:00\",\"2021-09-10T09:45:00\",\"2021-09-10T10:00:00\",\"2021-09-10T10:15:00\",\"2021-09-10T10:30:00\",\"2021-09-10T10:45:00\",\"2021-09-10T11:00:00\",\"2021-09-10T11:15:00\",\"2021-09-10T11:30:00\",\"2021-09-10T11:45:00\",\"2021-09-10T12:00:00\",\"2021-09-10T12:15:00\",\"2021-09-10T12:30:00\",\"2021-09-10T12:45:00\",\"2021-09-10T13:00:00\",\"2021-09-10T13:15:00\",\"2021-09-10T13:30:00\",\"2021-09-10T13:45:00\",\"2021-09-10T14:00:00\",\"2021-09-10T14:15:00\",\"2021-09-10T14:30:00\",\"2021-09-10T14:45:00\",\"2021-09-10T15:00:00\",\"2021-09-10T15:15:00\",\"2021-09-10T15:30:00\",\"2021-09-10T15:45:00\",\"2021-09-10T16:00:00\",\"2021-09-10T16:15:00\",\"2021-09-10T16:30:00\",\"2021-09-10T16:45:00\",\"2021-09-10T17:00:00\",\"2021-09-10T17:15:00\",\"2021-09-10T17:30:00\",\"2021-09-10T17:45:00\",\"2021-09-10T18:00:00\",\"2021-09-10T18:15:00\",\"2021-09-10T18:30:00\",\"2021-09-10T18:45:00\",\"2021-09-10T19:00:00\",\"2021-09-10T19:15:00\",\"2021-09-10T19:30:00\",\"2021-09-10T19:45:00\",\"2021-09-10T20:00:00\",\"2021-09-10T20:15:00\",\"2021-09-10T20:30:00\",\"2021-09-10T20:45:00\",\"2021-09-10T21:00:00\",\"2021-09-10T21:15:00\",\"2021-09-10T21:30:00\",\"2021-09-10T21:45:00\",\"2021-09-10T22:00:00\",\"2021-09-10T22:15:00\",\"2021-09-10T22:30:00\",\"2021-09-10T22:45:00\",\"2021-09-10T23:00:00\",\"2021-09-10T23:15:00\",\"2021-09-10T23:30:00\",\"2021-09-10T23:45:00\",\"2021-09-11T00:00:00\",\"2021-09-11T00:15:00\",\"2021-09-11T00:30:00\",\"2021-09-11T00:45:00\",\"2021-09-11T01:00:00\",\"2021-09-11T01:15:00\",\"2021-09-11T01:30:00\",\"2021-09-11T01:45:00\",\"2021-09-11T02:00:00\",\"2021-09-11T02:15:00\",\"2021-09-11T02:30:00\",\"2021-09-11T02:45:00\",\"2021-09-11T03:00:00\",\"2021-09-11T03:15:00\",\"2021-09-11T03:30:00\",\"2021-09-11T03:45:00\",\"2021-09-11T04:00:00\",\"2021-09-11T04:15:00\",\"2021-09-11T04:30:00\",\"2021-09-11T04:45:00\",\"2021-09-11T05:00:00\",\"2021-09-11T05:15:00\",\"2021-09-11T05:30:00\",\"2021-09-11T05:45:00\",\"2021-09-11T06:00:00\",\"2021-09-11T06:15:00\",\"2021-09-11T06:30:00\",\"2021-09-11T06:45:00\",\"2021-09-11T07:00:00\",\"2021-09-11T07:15:00\",\"2021-09-11T07:30:00\",\"2021-09-11T07:45:00\",\"2021-09-11T08:00:00\",\"2021-09-11T08:15:00\",\"2021-09-11T08:30:00\",\"2021-09-11T08:45:00\",\"2021-09-11T09:00:00\",\"2021-09-11T09:15:00\",\"2021-09-11T09:30:00\",\"2021-09-11T09:45:00\",\"2021-09-11T10:00:00\",\"2021-09-11T10:15:00\",\"2021-09-11T10:30:00\",\"2021-09-11T10:45:00\",\"2021-09-11T11:00:00\",\"2021-09-11T11:15:00\",\"2021-09-11T11:30:00\",\"2021-09-11T11:45:00\",\"2021-09-11T12:00:00\",\"2021-09-11T12:15:00\",\"2021-09-11T12:30:00\",\"2021-09-11T12:45:00\",\"2021-09-11T13:00:00\",\"2021-09-11T13:15:00\",\"2021-09-11T13:30:00\",\"2021-09-11T13:45:00\",\"2021-09-11T14:00:00\",\"2021-09-11T14:15:00\",\"2021-09-11T14:30:00\",\"2021-09-11T14:45:00\",\"2021-09-11T15:00:00\",\"2021-09-11T15:15:00\",\"2021-09-11T15:30:00\",\"2021-09-11T15:45:00\",\"2021-09-11T16:00:00\",\"2021-09-11T16:15:00\",\"2021-09-11T16:30:00\",\"2021-09-11T16:45:00\",\"2021-09-11T17:00:00\",\"2021-09-11T17:15:00\",\"2021-09-11T17:30:00\",\"2021-09-11T17:45:00\",\"2021-09-11T18:00:00\",\"2021-09-11T18:15:00\",\"2021-09-11T18:30:00\",\"2021-09-11T18:45:00\",\"2021-09-11T19:00:00\",\"2021-09-11T19:15:00\",\"2021-09-11T19:30:00\",\"2021-09-11T19:45:00\",\"2021-09-11T20:00:00\",\"2021-09-11T20:15:00\",\"2021-09-11T20:30:00\",\"2021-09-11T20:45:00\",\"2021-09-11T21:00:00\",\"2021-09-11T21:15:00\",\"2021-09-11T21:30:00\",\"2021-09-11T21:45:00\",\"2021-09-11T22:00:00\",\"2021-09-11T22:15:00\",\"2021-09-11T22:30:00\",\"2021-09-11T22:45:00\",\"2021-09-11T23:00:00\",\"2021-09-11T23:15:00\",\"2021-09-11T23:30:00\",\"2021-09-11T23:45:00\",\"2021-09-12T00:00:00\",\"2021-09-12T00:15:00\",\"2021-09-12T00:30:00\",\"2021-09-12T00:45:00\",\"2021-09-12T01:00:00\",\"2021-09-12T01:15:00\",\"2021-09-12T01:30:00\",\"2021-09-12T01:45:00\",\"2021-09-12T02:00:00\",\"2021-09-12T02:15:00\",\"2021-09-12T02:30:00\",\"2021-09-12T02:45:00\",\"2021-09-12T03:00:00\",\"2021-09-12T03:15:00\",\"2021-09-12T03:30:00\",\"2021-09-12T03:45:00\",\"2021-09-12T04:00:00\",\"2021-09-12T04:15:00\",\"2021-09-12T04:30:00\",\"2021-09-12T04:45:00\",\"2021-09-12T05:00:00\",\"2021-09-12T05:15:00\",\"2021-09-12T05:30:00\",\"2021-09-12T05:45:00\",\"2021-09-12T06:00:00\",\"2021-09-12T06:15:00\",\"2021-09-12T06:30:00\",\"2021-09-12T06:45:00\",\"2021-09-12T07:00:00\",\"2021-09-12T07:15:00\",\"2021-09-12T07:30:00\",\"2021-09-12T07:45:00\",\"2021-09-12T08:00:00\",\"2021-09-12T08:15:00\",\"2021-09-12T08:30:00\",\"2021-09-12T08:45:00\",\"2021-09-12T09:00:00\",\"2021-09-12T09:15:00\",\"2021-09-12T09:30:00\",\"2021-09-12T09:45:00\",\"2021-09-12T10:00:00\",\"2021-09-12T10:15:00\",\"2021-09-12T10:30:00\",\"2021-09-12T10:45:00\",\"2021-09-12T11:00:00\",\"2021-09-12T11:15:00\",\"2021-09-12T11:30:00\",\"2021-09-12T11:45:00\",\"2021-09-12T12:00:00\",\"2021-09-12T12:15:00\",\"2021-09-12T12:30:00\",\"2021-09-12T12:45:00\",\"2021-09-12T13:00:00\",\"2021-09-12T13:15:00\",\"2021-09-12T13:30:00\",\"2021-09-12T13:45:00\",\"2021-09-12T14:00:00\",\"2021-09-12T14:15:00\",\"2021-09-12T14:30:00\",\"2021-09-12T14:45:00\",\"2021-09-12T15:00:00\",\"2021-09-12T15:15:00\",\"2021-09-12T15:30:00\",\"2021-09-12T15:45:00\",\"2021-09-12T16:00:00\",\"2021-09-12T16:15:00\",\"2021-09-12T16:30:00\",\"2021-09-12T16:45:00\",\"2021-09-12T17:00:00\",\"2021-09-12T17:15:00\",\"2021-09-12T17:30:00\",\"2021-09-12T17:45:00\",\"2021-09-12T18:00:00\",\"2021-09-12T18:15:00\",\"2021-09-12T18:30:00\",\"2021-09-12T18:45:00\",\"2021-09-12T19:00:00\",\"2021-09-12T19:15:00\",\"2021-09-12T19:30:00\",\"2021-09-12T19:45:00\",\"2021-09-12T20:00:00\",\"2021-09-12T20:15:00\",\"2021-09-12T20:30:00\",\"2021-09-12T20:45:00\",\"2021-09-12T21:00:00\",\"2021-09-12T21:15:00\",\"2021-09-12T21:30:00\",\"2021-09-12T21:45:00\",\"2021-09-12T22:00:00\",\"2021-09-12T22:15:00\",\"2021-09-12T22:30:00\",\"2021-09-12T22:45:00\",\"2021-09-12T23:00:00\",\"2021-09-12T23:15:00\",\"2021-09-12T23:30:00\",\"2021-09-12T23:45:00\",\"2021-09-13T00:00:00\",\"2021-09-13T00:15:00\",\"2021-09-13T00:30:00\",\"2021-09-13T00:45:00\",\"2021-09-13T01:00:00\",\"2021-09-13T01:15:00\",\"2021-09-13T01:30:00\",\"2021-09-13T01:45:00\",\"2021-09-13T02:00:00\",\"2021-09-13T02:15:00\",\"2021-09-13T02:30:00\",\"2021-09-13T02:45:00\",\"2021-09-13T03:00:00\",\"2021-09-13T03:15:00\",\"2021-09-13T03:30:00\",\"2021-09-13T03:45:00\",\"2021-09-13T04:00:00\",\"2021-09-13T04:15:00\",\"2021-09-13T04:30:00\",\"2021-09-13T04:45:00\",\"2021-09-13T05:00:00\",\"2021-09-13T05:15:00\",\"2021-09-13T05:30:00\",\"2021-09-13T05:45:00\",\"2021-09-13T06:00:00\",\"2021-09-13T06:15:00\",\"2021-09-13T06:30:00\",\"2021-09-13T06:45:00\",\"2021-09-13T07:00:00\",\"2021-09-13T07:15:00\",\"2021-09-13T07:30:00\",\"2021-09-13T07:45:00\",\"2021-09-13T08:00:00\",\"2021-09-13T08:15:00\",\"2021-09-13T08:30:00\",\"2021-09-13T08:45:00\",\"2021-09-13T09:00:00\",\"2021-09-13T09:15:00\",\"2021-09-13T09:30:00\",\"2021-09-13T09:45:00\",\"2021-09-13T10:00:00\",\"2021-09-13T10:15:00\",\"2021-09-13T10:30:00\",\"2021-09-13T10:45:00\",\"2021-09-13T11:00:00\",\"2021-09-13T11:15:00\",\"2021-09-13T11:30:00\",\"2021-09-13T11:45:00\",\"2021-09-13T12:00:00\",\"2021-09-13T12:15:00\",\"2021-09-13T12:30:00\",\"2021-09-13T12:45:00\",\"2021-09-13T13:00:00\",\"2021-09-13T13:15:00\",\"2021-09-13T13:30:00\",\"2021-09-13T13:45:00\",\"2021-09-13T14:00:00\",\"2021-09-13T14:15:00\",\"2021-09-13T14:30:00\",\"2021-09-13T14:45:00\",\"2021-09-13T15:00:00\",\"2021-09-13T15:15:00\",\"2021-09-13T15:30:00\",\"2021-09-13T15:45:00\",\"2021-09-13T16:00:00\",\"2021-09-13T16:15:00\",\"2021-09-13T16:30:00\",\"2021-09-13T16:45:00\",\"2021-09-13T17:00:00\",\"2021-09-13T17:15:00\",\"2021-09-13T17:30:00\",\"2021-09-13T17:45:00\",\"2021-09-13T18:00:00\",\"2021-09-13T18:15:00\",\"2021-09-13T18:30:00\",\"2021-09-13T18:45:00\",\"2021-09-13T19:00:00\",\"2021-09-13T19:15:00\",\"2021-09-13T19:30:00\",\"2021-09-13T19:45:00\",\"2021-09-13T20:00:00\",\"2021-09-13T20:15:00\",\"2021-09-13T20:30:00\",\"2021-09-13T20:45:00\",\"2021-09-13T21:00:00\",\"2021-09-13T21:15:00\",\"2021-09-13T21:30:00\",\"2021-09-13T21:45:00\",\"2021-09-13T22:00:00\",\"2021-09-13T22:15:00\",\"2021-09-13T22:30:00\",\"2021-09-13T22:45:00\",\"2021-09-13T23:00:00\",\"2021-09-13T23:15:00\",\"2021-09-13T23:30:00\",\"2021-09-13T23:45:00\",\"2021-09-14T00:00:00\",\"2021-09-14T00:15:00\",\"2021-09-14T00:30:00\",\"2021-09-14T00:45:00\",\"2021-09-14T01:00:00\",\"2021-09-14T01:15:00\",\"2021-09-14T01:30:00\",\"2021-09-14T01:45:00\",\"2021-09-14T02:00:00\",\"2021-09-14T02:15:00\",\"2021-09-14T02:30:00\",\"2021-09-14T02:45:00\",\"2021-09-14T03:00:00\",\"2021-09-14T03:15:00\",\"2021-09-14T03:30:00\",\"2021-09-14T03:45:00\",\"2021-09-14T04:00:00\",\"2021-09-14T04:15:00\",\"2021-09-14T04:30:00\",\"2021-09-14T04:45:00\",\"2021-09-14T05:00:00\",\"2021-09-14T05:15:00\",\"2021-09-14T05:30:00\",\"2021-09-14T05:45:00\",\"2021-09-14T06:00:00\",\"2021-09-14T06:15:00\",\"2021-09-14T06:30:00\",\"2021-09-14T06:45:00\",\"2021-09-14T07:00:00\",\"2021-09-14T07:15:00\",\"2021-09-14T07:30:00\",\"2021-09-14T07:45:00\",\"2021-09-14T08:00:00\",\"2021-09-14T08:15:00\",\"2021-09-14T08:30:00\",\"2021-09-14T08:45:00\",\"2021-09-14T09:00:00\",\"2021-09-14T09:15:00\",\"2021-09-14T09:30:00\",\"2021-09-14T09:45:00\",\"2021-09-14T10:00:00\",\"2021-09-14T10:15:00\",\"2021-09-14T10:30:00\",\"2021-09-14T10:45:00\",\"2021-09-14T11:00:00\",\"2021-09-14T11:15:00\",\"2021-09-14T11:30:00\",\"2021-09-14T11:45:00\",\"2021-09-14T12:00:00\",\"2021-09-14T12:15:00\",\"2021-09-14T12:30:00\",\"2021-09-14T12:45:00\",\"2021-09-14T13:00:00\",\"2021-09-14T13:15:00\",\"2021-09-14T13:30:00\",\"2021-09-14T13:45:00\",\"2021-09-14T14:00:00\",\"2021-09-14T14:15:00\",\"2021-09-14T14:30:00\",\"2021-09-14T14:45:00\",\"2021-09-14T15:00:00\",\"2021-09-14T15:15:00\",\"2021-09-14T15:30:00\",\"2021-09-14T15:45:00\",\"2021-09-14T16:00:00\",\"2021-09-14T16:15:00\",\"2021-09-14T16:30:00\",\"2021-09-14T16:45:00\",\"2021-09-14T17:00:00\",\"2021-09-14T17:15:00\",\"2021-09-14T17:30:00\",\"2021-09-14T17:45:00\",\"2021-09-14T18:00:00\",\"2021-09-14T18:15:00\",\"2021-09-14T18:30:00\",\"2021-09-14T18:45:00\",\"2021-09-14T19:00:00\",\"2021-09-14T19:15:00\",\"2021-09-14T19:30:00\",\"2021-09-14T19:45:00\",\"2021-09-14T20:00:00\",\"2021-09-14T20:15:00\",\"2021-09-14T20:30:00\",\"2021-09-14T20:45:00\",\"2021-09-14T21:00:00\",\"2021-09-14T21:15:00\",\"2021-09-14T21:30:00\",\"2021-09-14T21:45:00\",\"2021-09-14T22:00:00\",\"2021-09-14T22:15:00\",\"2021-09-14T22:30:00\",\"2021-09-14T22:45:00\",\"2021-09-14T23:00:00\",\"2021-09-14T23:15:00\",\"2021-09-14T23:30:00\",\"2021-09-14T23:45:00\",\"2021-09-15T00:00:00\",\"2021-09-15T00:15:00\",\"2021-09-15T00:30:00\",\"2021-09-15T00:45:00\"],\"xaxis\":\"x\",\"y\":[3.0,3.0,3.0,3.0,3.0,3.0,3.0,3.0,3.0,3.0,3.0,3.0,3.0,2.0,2.0,2.0,2.0,2.0,2.0,2.0,2.0,1.0,1.0,2.0,1.0,2.0,1.0,1.0,1.0,1.0,2.0,2.0,2.0,1.0,1.0,1.0,1.0,1.0,1.0,1.0,1.0,1.0,1.0,1.0,1.0,1.0,1.0,1.0,1.0,1.0,1.0,1.0,0.0,1.0,1.0,1.0,1.0,1.0,1.0,1.0,1.0,1.0,1.0,1.0,1.0,1.0,1.0,1.0,1.0,1.0,1.0,1.0,1.0,1.0,3.0,3.0,3.0,3.0,3.0,3.0,3.0,3.0,3.0,4.0,3.0,4.0,3.0,4.0,3.0,3.0,3.0,3.0,3.0,3.0,3.0,3.0,3.0,3.0,3.0,3.0,3.0,3.0,3.0,3.0,3.0,3.0,4.0,3.0,2.0,2.0,2.0,2.0,2.0,2.0,2.0,1.0,2.0,2.0,1.0,1.0,2.0,1.0,2.0,1.0,1.0,1.0,2.0,4.0,3.0,1.0,2.0,2.0,0.0,0.0,2.0,2.0,0.0,0.0,0.0,0.0,4.0,2.0,2.0,4.0,2.0,4.0,0.0,0.0,2.0,1.0,0.0,0.0,1.0,0.0,0.0,0.0,0.0,0.0,0.0,0.0,0.0,0.0,0.0,0.0,0.0,0.0,0.0,0.0,0.0,0.0,0.0,1.0,0.0,0.0,0.0,2.0,1.0,0.0,1.0,2.0,0.0,1.0,0.0,0.0,2.0,0.0,0.0,0.0,0.0,1.0,1.0,0.0,1.0,1.0,1.0,1.0,1.0,1.0,1.0,1.0,1.0,1.0,1.0,1.0,2.0,1.0,1.0,1.0,1.0,1.0,1.0,1.0,1.0,1.0,1.0,1.0,1.0,1.0,2.0,2.0,1.0,2.0,1.0,null,1.0,1.0,1.0,0.0,0.0,0.0,0.0,0.0,0.0,0.0,0.0,3.0,3.0,1.0,1.0,1.0,3.0,3.0,2.0,1.0,3.0,0.0,0.0,0.0,0.0,0.0,0.0,0.0,0.0,0.0,0.0,0.0,0.0,0.0,0.0,0.0,0.0,0.0,0.0,0.0,0.0,0.0,0.0,0.0,0.0,0.0,0.0,0.0,0.0,0.0,0.0,0.0,0.0,0.0,0.0,0.0,0.0,0.0,0.0,0.0,0.0,0.0,0.0,0.0,1.0,3.0,0.0,0.0,0.0,0.0,1.0,1.0,3.0,2.0,2.0,2.0,3.0,3.0,3.0,3.0,3.0,3.0,2.0,2.0,2.0,2.0,2.0,2.0,2.0,2.0,2.0,2.0,2.0,2.0,2.0,2.0,2.0,2.0,2.0,2.0,2.0,1.0,1.0,1.0,1.0,2.0,1.0,1.0,1.0,1.0,1.0,1.0,2.0,1.0,1.0,1.0,1.0,1.0,1.0,1.0,1.0,1.0,1.0,1.0,1.0,1.0,1.0,1.0,1.0,1.0,1.0,1.0,1.0,1.0,1.0,1.0,1.0,1.0,1.0,1.0,1.0,3.0,4.0,3.0,2.0,2.0,2.0,2.0,3.0,2.0,2.0,3.0,4.0,4.0,4.0,4.0,4.0,4.0,2.0,3.0,2.0,2.0,3.0,3.0,3.0,1.0,3.0,2.0,2.0,3.0,3.0,1.0,3.0,3.0,3.0,4.0,3.0,4.0,1.0,1.0,1.0,0.0,0.0,0.0,1.0,2.0,2.0,1.0,1.0,1.0,1.0,1.0,1.0,0.0,0.0,0.0,0.0,2.0,1.0,1.0,1.0,1.0,1.0,1.0,1.0,1.0,1.0,1.0,1.0,1.0,1.0,1.0,0.0,0.0,0.0,0.0,0.0,0.0,0.0,0.0,0.0,0.0,0.0,0.0,0.0,0.0,0.0,0.0,0.0,0.0,0.0,0.0,0.0,0.0,1.0,1.0,1.0,1.0,1.0,2.0,4.0,4.0,4.0,2.0,2.0,2.0,2.0,3.0,3.0,4.0,3.0,2.0,2.0,2.0,2.0,2.0,2.0,2.0,3.0,4.0,2.0,2.0,2.0,2.0,2.0,2.0,2.0,2.0,2.0,2.0,2.0,2.0,2.0,2.0,4.0,3.0,3.0,4.0,4.0,4.0,2.0,4.0,1.0,5.0,3.0,4.0,2.0,2.0,2.0,3.0,3.0,3.0,2.0,3.0,3.0,2.0,1.0,1.0,1.0,1.0,1.0,1.0,1.0,1.0,1.0,1.0,1.0,1.0,0.0,0.0,0.0,0.0],\"yaxis\":\"y\"}],                        {\"barmode\":\"relative\",\"height\":300,\"legend\":{\"title\":{\"text\":\"variable\"},\"tracegroupgap\":0},\"template\":{\"data\":{\"bar\":[{\"error_x\":{\"color\":\"#2a3f5f\"},\"error_y\":{\"color\":\"#2a3f5f\"},\"marker\":{\"line\":{\"color\":\"#E5ECF6\",\"width\":0.5},\"pattern\":{\"fillmode\":\"overlay\",\"size\":10,\"solidity\":0.2}},\"type\":\"bar\"}],\"barpolar\":[{\"marker\":{\"line\":{\"color\":\"#E5ECF6\",\"width\":0.5},\"pattern\":{\"fillmode\":\"overlay\",\"size\":10,\"solidity\":0.2}},\"type\":\"barpolar\"}],\"carpet\":[{\"aaxis\":{\"endlinecolor\":\"#2a3f5f\",\"gridcolor\":\"white\",\"linecolor\":\"white\",\"minorgridcolor\":\"white\",\"startlinecolor\":\"#2a3f5f\"},\"baxis\":{\"endlinecolor\":\"#2a3f5f\",\"gridcolor\":\"white\",\"linecolor\":\"white\",\"minorgridcolor\":\"white\",\"startlinecolor\":\"#2a3f5f\"},\"type\":\"carpet\"}],\"choropleth\":[{\"colorbar\":{\"outlinewidth\":0,\"ticks\":\"\"},\"type\":\"choropleth\"}],\"contour\":[{\"colorbar\":{\"outlinewidth\":0,\"ticks\":\"\"},\"colorscale\":[[0.0,\"#0d0887\"],[0.1111111111111111,\"#46039f\"],[0.2222222222222222,\"#7201a8\"],[0.3333333333333333,\"#9c179e\"],[0.4444444444444444,\"#bd3786\"],[0.5555555555555556,\"#d8576b\"],[0.6666666666666666,\"#ed7953\"],[0.7777777777777778,\"#fb9f3a\"],[0.8888888888888888,\"#fdca26\"],[1.0,\"#f0f921\"]],\"type\":\"contour\"}],\"contourcarpet\":[{\"colorbar\":{\"outlinewidth\":0,\"ticks\":\"\"},\"type\":\"contourcarpet\"}],\"heatmap\":[{\"colorbar\":{\"outlinewidth\":0,\"ticks\":\"\"},\"colorscale\":[[0.0,\"#0d0887\"],[0.1111111111111111,\"#46039f\"],[0.2222222222222222,\"#7201a8\"],[0.3333333333333333,\"#9c179e\"],[0.4444444444444444,\"#bd3786\"],[0.5555555555555556,\"#d8576b\"],[0.6666666666666666,\"#ed7953\"],[0.7777777777777778,\"#fb9f3a\"],[0.8888888888888888,\"#fdca26\"],[1.0,\"#f0f921\"]],\"type\":\"heatmap\"}],\"heatmapgl\":[{\"colorbar\":{\"outlinewidth\":0,\"ticks\":\"\"},\"colorscale\":[[0.0,\"#0d0887\"],[0.1111111111111111,\"#46039f\"],[0.2222222222222222,\"#7201a8\"],[0.3333333333333333,\"#9c179e\"],[0.4444444444444444,\"#bd3786\"],[0.5555555555555556,\"#d8576b\"],[0.6666666666666666,\"#ed7953\"],[0.7777777777777778,\"#fb9f3a\"],[0.8888888888888888,\"#fdca26\"],[1.0,\"#f0f921\"]],\"type\":\"heatmapgl\"}],\"histogram\":[{\"marker\":{\"pattern\":{\"fillmode\":\"overlay\",\"size\":10,\"solidity\":0.2}},\"type\":\"histogram\"}],\"histogram2d\":[{\"colorbar\":{\"outlinewidth\":0,\"ticks\":\"\"},\"colorscale\":[[0.0,\"#0d0887\"],[0.1111111111111111,\"#46039f\"],[0.2222222222222222,\"#7201a8\"],[0.3333333333333333,\"#9c179e\"],[0.4444444444444444,\"#bd3786\"],[0.5555555555555556,\"#d8576b\"],[0.6666666666666666,\"#ed7953\"],[0.7777777777777778,\"#fb9f3a\"],[0.8888888888888888,\"#fdca26\"],[1.0,\"#f0f921\"]],\"type\":\"histogram2d\"}],\"histogram2dcontour\":[{\"colorbar\":{\"outlinewidth\":0,\"ticks\":\"\"},\"colorscale\":[[0.0,\"#0d0887\"],[0.1111111111111111,\"#46039f\"],[0.2222222222222222,\"#7201a8\"],[0.3333333333333333,\"#9c179e\"],[0.4444444444444444,\"#bd3786\"],[0.5555555555555556,\"#d8576b\"],[0.6666666666666666,\"#ed7953\"],[0.7777777777777778,\"#fb9f3a\"],[0.8888888888888888,\"#fdca26\"],[1.0,\"#f0f921\"]],\"type\":\"histogram2dcontour\"}],\"mesh3d\":[{\"colorbar\":{\"outlinewidth\":0,\"ticks\":\"\"},\"type\":\"mesh3d\"}],\"parcoords\":[{\"line\":{\"colorbar\":{\"outlinewidth\":0,\"ticks\":\"\"}},\"type\":\"parcoords\"}],\"pie\":[{\"automargin\":true,\"type\":\"pie\"}],\"scatter\":[{\"marker\":{\"colorbar\":{\"outlinewidth\":0,\"ticks\":\"\"}},\"type\":\"scatter\"}],\"scatter3d\":[{\"line\":{\"colorbar\":{\"outlinewidth\":0,\"ticks\":\"\"}},\"marker\":{\"colorbar\":{\"outlinewidth\":0,\"ticks\":\"\"}},\"type\":\"scatter3d\"}],\"scattercarpet\":[{\"marker\":{\"colorbar\":{\"outlinewidth\":0,\"ticks\":\"\"}},\"type\":\"scattercarpet\"}],\"scattergeo\":[{\"marker\":{\"colorbar\":{\"outlinewidth\":0,\"ticks\":\"\"}},\"type\":\"scattergeo\"}],\"scattergl\":[{\"marker\":{\"colorbar\":{\"outlinewidth\":0,\"ticks\":\"\"}},\"type\":\"scattergl\"}],\"scattermapbox\":[{\"marker\":{\"colorbar\":{\"outlinewidth\":0,\"ticks\":\"\"}},\"type\":\"scattermapbox\"}],\"scatterpolar\":[{\"marker\":{\"colorbar\":{\"outlinewidth\":0,\"ticks\":\"\"}},\"type\":\"scatterpolar\"}],\"scatterpolargl\":[{\"marker\":{\"colorbar\":{\"outlinewidth\":0,\"ticks\":\"\"}},\"type\":\"scatterpolargl\"}],\"scatterternary\":[{\"marker\":{\"colorbar\":{\"outlinewidth\":0,\"ticks\":\"\"}},\"type\":\"scatterternary\"}],\"surface\":[{\"colorbar\":{\"outlinewidth\":0,\"ticks\":\"\"},\"colorscale\":[[0.0,\"#0d0887\"],[0.1111111111111111,\"#46039f\"],[0.2222222222222222,\"#7201a8\"],[0.3333333333333333,\"#9c179e\"],[0.4444444444444444,\"#bd3786\"],[0.5555555555555556,\"#d8576b\"],[0.6666666666666666,\"#ed7953\"],[0.7777777777777778,\"#fb9f3a\"],[0.8888888888888888,\"#fdca26\"],[1.0,\"#f0f921\"]],\"type\":\"surface\"}],\"table\":[{\"cells\":{\"fill\":{\"color\":\"#EBF0F8\"},\"line\":{\"color\":\"white\"}},\"header\":{\"fill\":{\"color\":\"#C8D4E3\"},\"line\":{\"color\":\"white\"}},\"type\":\"table\"}]},\"layout\":{\"annotationdefaults\":{\"arrowcolor\":\"#2a3f5f\",\"arrowhead\":0,\"arrowwidth\":1},\"autotypenumbers\":\"strict\",\"coloraxis\":{\"colorbar\":{\"outlinewidth\":0,\"ticks\":\"\"}},\"colorscale\":{\"diverging\":[[0,\"#8e0152\"],[0.1,\"#c51b7d\"],[0.2,\"#de77ae\"],[0.3,\"#f1b6da\"],[0.4,\"#fde0ef\"],[0.5,\"#f7f7f7\"],[0.6,\"#e6f5d0\"],[0.7,\"#b8e186\"],[0.8,\"#7fbc41\"],[0.9,\"#4d9221\"],[1,\"#276419\"]],\"sequential\":[[0.0,\"#0d0887\"],[0.1111111111111111,\"#46039f\"],[0.2222222222222222,\"#7201a8\"],[0.3333333333333333,\"#9c179e\"],[0.4444444444444444,\"#bd3786\"],[0.5555555555555556,\"#d8576b\"],[0.6666666666666666,\"#ed7953\"],[0.7777777777777778,\"#fb9f3a\"],[0.8888888888888888,\"#fdca26\"],[1.0,\"#f0f921\"]],\"sequentialminus\":[[0.0,\"#0d0887\"],[0.1111111111111111,\"#46039f\"],[0.2222222222222222,\"#7201a8\"],[0.3333333333333333,\"#9c179e\"],[0.4444444444444444,\"#bd3786\"],[0.5555555555555556,\"#d8576b\"],[0.6666666666666666,\"#ed7953\"],[0.7777777777777778,\"#fb9f3a\"],[0.8888888888888888,\"#fdca26\"],[1.0,\"#f0f921\"]]},\"colorway\":[\"#636efa\",\"#EF553B\",\"#00cc96\",\"#ab63fa\",\"#FFA15A\",\"#19d3f3\",\"#FF6692\",\"#B6E880\",\"#FF97FF\",\"#FECB52\"],\"font\":{\"color\":\"#2a3f5f\"},\"geo\":{\"bgcolor\":\"white\",\"lakecolor\":\"white\",\"landcolor\":\"#E5ECF6\",\"showlakes\":true,\"showland\":true,\"subunitcolor\":\"white\"},\"hoverlabel\":{\"align\":\"left\"},\"hovermode\":\"closest\",\"mapbox\":{\"style\":\"light\"},\"paper_bgcolor\":\"white\",\"plot_bgcolor\":\"#E5ECF6\",\"polar\":{\"angularaxis\":{\"gridcolor\":\"white\",\"linecolor\":\"white\",\"ticks\":\"\"},\"bgcolor\":\"#E5ECF6\",\"radialaxis\":{\"gridcolor\":\"white\",\"linecolor\":\"white\",\"ticks\":\"\"}},\"scene\":{\"xaxis\":{\"backgroundcolor\":\"#E5ECF6\",\"gridcolor\":\"white\",\"gridwidth\":2,\"linecolor\":\"white\",\"showbackground\":true,\"ticks\":\"\",\"zerolinecolor\":\"white\"},\"yaxis\":{\"backgroundcolor\":\"#E5ECF6\",\"gridcolor\":\"white\",\"gridwidth\":2,\"linecolor\":\"white\",\"showbackground\":true,\"ticks\":\"\",\"zerolinecolor\":\"white\"},\"zaxis\":{\"backgroundcolor\":\"#E5ECF6\",\"gridcolor\":\"white\",\"gridwidth\":2,\"linecolor\":\"white\",\"showbackground\":true,\"ticks\":\"\",\"zerolinecolor\":\"white\"}},\"shapedefaults\":{\"line\":{\"color\":\"#2a3f5f\"}},\"ternary\":{\"aaxis\":{\"gridcolor\":\"white\",\"linecolor\":\"white\",\"ticks\":\"\"},\"baxis\":{\"gridcolor\":\"white\",\"linecolor\":\"white\",\"ticks\":\"\"},\"bgcolor\":\"#E5ECF6\",\"caxis\":{\"gridcolor\":\"white\",\"linecolor\":\"white\",\"ticks\":\"\"}},\"title\":{\"x\":0.05},\"xaxis\":{\"automargin\":true,\"gridcolor\":\"white\",\"linecolor\":\"white\",\"ticks\":\"\",\"title\":{\"standoff\":15},\"zerolinecolor\":\"white\",\"zerolinewidth\":2},\"yaxis\":{\"automargin\":true,\"gridcolor\":\"white\",\"linecolor\":\"white\",\"ticks\":\"\",\"title\":{\"standoff\":15},\"zerolinecolor\":\"white\",\"zerolinewidth\":2}}},\"title\":{\"text\":\"Number of parking bays\"},\"xaxis\":{\"anchor\":\"y\",\"domain\":[0.0,1.0],\"title\":{\"text\":\"time_interval\"}},\"yaxis\":{\"anchor\":\"x\",\"domain\":[0.0,1.0],\"title\":{\"text\":\"value\"}}},                        {\"responsive\": true}                    ).then(function(){\n",
       "                            \n",
       "var gd = document.getElementById('a00f5c10-b942-46c7-a86f-1f37356880d4');\n",
       "var x = new MutationObserver(function (mutations, observer) {{\n",
       "        var display = window.getComputedStyle(gd).display;\n",
       "        if (!display || display === 'none') {{\n",
       "            console.log([gd, 'removed!']);\n",
       "            Plotly.purge(gd);\n",
       "            observer.disconnect();\n",
       "        }}\n",
       "}});\n",
       "\n",
       "// Listen for the removal of the full notebook cells\n",
       "var notebookContainer = gd.closest('#notebook-container');\n",
       "if (notebookContainer) {{\n",
       "    x.observe(notebookContainer, {childList: true});\n",
       "}}\n",
       "\n",
       "// Listen for the clearing of the current output cell\n",
       "var outputEl = gd.closest('.output');\n",
       "if (outputEl) {{\n",
       "    x.observe(outputEl, {childList: true});\n",
       "}}\n",
       "\n",
       "                        })                };                });            </script>        </div>"
      ]
     },
     "metadata": {},
     "output_type": "display_data"
    }
   ],
   "source": [
    "# La Trobe St (btw Princes Hwy & William St)\n",
    "lat1, lon1 = -37.81235148672834, 144.95399936793362\n",
    "lat2, lon2 = -37.81170385994913, 144.95630233273556\n",
    "lat3, lon3 = -37.811850017461786, 144.9563597473705\n",
    "lat4, lon4 = -37.812162491173545, 144.95526567960448\n",
    "lat5, lon5 = -37.81248504329533, 144.95406954137633\n",
    "polygon = Polygon([(lon1, lat1), (lon2, lat2), (lon3, lat3), (lon4, lat4), (lon5, lat5)])\n",
    "\n",
    "gdf_filtered = geoPolyClip(ngdf, polygon)\n",
    "plot_map(gdf_filtered,map_height=200,map_zoom=15, marker_max=10)\n",
    "\n",
    "dfrh = pd.read_csv(\"datasets/003_vh2v-4nfs__bufferred.csv\", parse_dates=[\"db_read_time\"])\n",
    "dfrh_filtered = dfrh[dfrh[\"st_marker_id\"].isin(gdf_filtered[\"marker_id\"])]\n",
    "startdt, enddt = \"2021-09-09 11:00:00\", \"2021-09-16 11:00:00\"\n",
    "dfts1 = timeIntStats(dfrh_filtered, startdt, enddt, bin=\"15min\", bin_stat=\"median\")\n",
    "dfts1a = dfts1.reset_index(level=0)\n",
    "# px.scatter(dfts1a, x=\"time_interval\", y=[\"Unoccupied\",\"Present\"], hover_name=\"time_interval\")\n",
    "px.bar(dfts1a, x=\"time_interval\", y=[\"Unoccupied\",\"Present\"], hover_name=\"time_interval\", \n",
    "       height=300, title=\"Number of parking bays\",\n",
    "       color_discrete_map={\"unknown\":\"gray\", \"Unoccupied\":\"green\", \"Present\":\"red\"},\n",
    "       category_orders={\"status\": [\"unknown\", \"Unoccupied\", \"Present\"]})"
   ]
  }
 ],
 "metadata": {
  "interpreter": {
   "hash": "fd69f43f58546b570e94fd7eba7b65e6bcc7a5bbc4eab0408017d18902915d69"
  },
  "kernelspec": {
   "display_name": "Python 3",
   "language": "python",
   "name": "python3"
  },
  "language_info": {
   "codemirror_mode": {
    "name": "ipython",
    "version": 3
   },
   "file_extension": ".py",
   "mimetype": "text/x-python",
   "name": "python",
   "nbconvert_exporter": "python",
   "pygments_lexer": "ipython3",
   "version": "3.7.11"
  }
 },
 "nbformat": 4,
 "nbformat_minor": 2
}
