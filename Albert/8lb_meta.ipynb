{
 "cells": [
  {
   "cell_type": "code",
   "execution_count": 66,
   "metadata": {},
   "outputs": [],
   "source": [
    "import os\n",
    "import time\n",
    "from datetime import datetime\n",
    "import numpy as np\n",
    "import pandas as pd\n",
    "from sodapy import Socrata\n",
    "\n",
    "apptoken = os.environ.get(\"SODAPY_APPTOKEN\")\n",
    "domain = \"data.melbourne.vic.gov.au\"\n",
    "client = Socrata(domain, apptoken)"
   ]
  },
  {
   "cell_type": "code",
   "execution_count": 67,
   "metadata": {},
   "outputs": [],
   "source": [
    "# function to get attributes of a column in the df about datasets\n",
    "def dseries(df, col, attrib, attrib_sub=None):  \n",
    "    ls = []\n",
    "    if attrib_sub == None:\n",
    "        for d in df[col]:\n",
    "            ls.append(d[attrib])\n",
    "    else:\n",
    "        for d in df[col]:\n",
    "            ls.append(d[attrib][attrib_sub])\n",
    "    return pd.Series(ls)\n",
    "\n",
    "# function to make dataframe of interested info\n",
    "def interesteddf(rdf):\n",
    "    a = dseries(rdf, 'resource', 'name')\n",
    "    b = dseries(rdf, 'resource', 'id')\n",
    "    c = dseries(rdf, 'resource', 'parent_fxf')\n",
    "    d = dseries(rdf, 'resource', 'description')\n",
    "    e = dseries(rdf, 'resource', 'data_updated_at')\n",
    "    f = dseries(rdf, 'resource', 'page_views', 'page_views_last_week')\n",
    "    g = dseries(rdf, 'resource', 'page_views', 'page_views_last_month')\n",
    "    h = dseries(rdf, 'resource', 'page_views', 'page_views_total')\n",
    "    i = dseries(rdf, 'resource', 'download_count')\n",
    "    j = dseries(rdf, 'classification', 'categories')\n",
    "    k = dseries(rdf, 'classification', 'domain_category')\n",
    "    l = dseries(rdf, 'classification', 'domain_tags')\n",
    "    m = dseries(rdf, 'classification', 'domain_metadata')\n",
    "\n",
    "    col =  ['name', 'id', 'parent_fxf', 'description', 'data_upd_at', 'pv_last_wk', 'pv_last_mth', 'pv_total',\n",
    "            'download_count', 'categories', 'domain_category', 'domain_tags', 'domain_metadata']\n",
    "\n",
    "    df = pd.concat([a,b,c,d,e,f,g,h,i,j,k,l,m], axis='columns')\n",
    "    df.columns = col\n",
    "\n",
    "    return df\n",
    "\n",
    "# function to tokenise description and name columns\n",
    "def tokenise2(df):\n",
    "    # tokenize by [1] making all lower case [2] removing some unwanted stop characters [3] splitting string into list of word tokens\n",
    "\n",
    "    df['description'] = df['description'].str.lower().str.replace(r'\\. ', ' ').str.replace('\\, ', ' ')\n",
    "    df['description'] = df['description'].str.replace('– ',' ').str.replace('- ',' ').str.split()\n",
    "\n",
    "    df['name'] = df['name'].str.replace('(','').str.replace(')','')\n",
    "    df['name'] = df['name'].str.lower().str.replace(r'\\. ', ' ').str.replace('\\, ', ' ')\n",
    "    df['name'] = df['name'].str.replace('– ',' ').str.replace('- ',' ').str.split()\n",
    "\n",
    "    return df"
   ]
  },
  {
   "cell_type": "code",
   "execution_count": 68,
   "metadata": {},
   "outputs": [
    {
     "data": {
      "text/html": [
       "<div>\n",
       "<style scoped>\n",
       "    .dataframe tbody tr th:only-of-type {\n",
       "        vertical-align: middle;\n",
       "    }\n",
       "\n",
       "    .dataframe tbody tr th {\n",
       "        vertical-align: top;\n",
       "    }\n",
       "\n",
       "    .dataframe thead th {\n",
       "        text-align: right;\n",
       "    }\n",
       "</style>\n",
       "<table border=\"1\" class=\"dataframe\">\n",
       "  <thead>\n",
       "    <tr style=\"text-align: right;\">\n",
       "      <th></th>\n",
       "      <th>0</th>\n",
       "      <th>1</th>\n",
       "    </tr>\n",
       "  </thead>\n",
       "  <tbody>\n",
       "    <tr>\n",
       "      <th>name</th>\n",
       "      <td>Pedestrian Counting System - Monthly (counts p...</td>\n",
       "      <td>Tree canopies 2011 (Urban Forest)</td>\n",
       "    </tr>\n",
       "    <tr>\n",
       "      <th>id</th>\n",
       "      <td>b2ak-trbp</td>\n",
       "      <td>y79a-us3f</td>\n",
       "    </tr>\n",
       "    <tr>\n",
       "      <th>parent_fxf</th>\n",
       "      <td>[]</td>\n",
       "      <td>[]</td>\n",
       "    </tr>\n",
       "    <tr>\n",
       "      <th>description</th>\n",
       "      <td>This dataset contains hourly pedestrian counts...</td>\n",
       "      <td>Tree canopy within City of Melbourne mapped us...</td>\n",
       "    </tr>\n",
       "    <tr>\n",
       "      <th>data_upd_at</th>\n",
       "      <td>2021-09-06T01:54:59.000Z</td>\n",
       "      <td>None</td>\n",
       "    </tr>\n",
       "    <tr>\n",
       "      <th>pv_last_wk</th>\n",
       "      <td>230</td>\n",
       "      <td>23</td>\n",
       "    </tr>\n",
       "    <tr>\n",
       "      <th>pv_last_mth</th>\n",
       "      <td>1251</td>\n",
       "      <td>102</td>\n",
       "    </tr>\n",
       "    <tr>\n",
       "      <th>pv_total</th>\n",
       "      <td>71864</td>\n",
       "      <td>66774</td>\n",
       "    </tr>\n",
       "    <tr>\n",
       "      <th>download_count</th>\n",
       "      <td>8507</td>\n",
       "      <td>3178</td>\n",
       "    </tr>\n",
       "    <tr>\n",
       "      <th>categories</th>\n",
       "      <td>[finance]</td>\n",
       "      <td>[environment]</td>\n",
       "    </tr>\n",
       "    <tr>\n",
       "      <th>domain_category</th>\n",
       "      <td>Transport</td>\n",
       "      <td>Environment</td>\n",
       "    </tr>\n",
       "    <tr>\n",
       "      <th>domain_tags</th>\n",
       "      <td>[accessibility, cityreactivation, covid-19, fo...</td>\n",
       "      <td>[citizenreporter, eventsplanner, forest, tree,...</td>\n",
       "    </tr>\n",
       "    <tr>\n",
       "      <th>domain_metadata</th>\n",
       "      <td>[{'key': 'Quality_What's-included', 'value': '...</td>\n",
       "      <td>[{'key': 'Quality_Update-frequency', 'value': ...</td>\n",
       "    </tr>\n",
       "  </tbody>\n",
       "</table>\n",
       "</div>"
      ],
      "text/plain": [
       "                                                                 0  \\\n",
       "name             Pedestrian Counting System - Monthly (counts p...   \n",
       "id                                                       b2ak-trbp   \n",
       "parent_fxf                                                      []   \n",
       "description      This dataset contains hourly pedestrian counts...   \n",
       "data_upd_at                               2021-09-06T01:54:59.000Z   \n",
       "pv_last_wk                                                     230   \n",
       "pv_last_mth                                                   1251   \n",
       "pv_total                                                     71864   \n",
       "download_count                                                8507   \n",
       "categories                                               [finance]   \n",
       "domain_category                                          Transport   \n",
       "domain_tags      [accessibility, cityreactivation, covid-19, fo...   \n",
       "domain_metadata  [{'key': 'Quality_What's-included', 'value': '...   \n",
       "\n",
       "                                                                 1  \n",
       "name                             Tree canopies 2011 (Urban Forest)  \n",
       "id                                                       y79a-us3f  \n",
       "parent_fxf                                                      []  \n",
       "description      Tree canopy within City of Melbourne mapped us...  \n",
       "data_upd_at                                                   None  \n",
       "pv_last_wk                                                      23  \n",
       "pv_last_mth                                                    102  \n",
       "pv_total                                                     66774  \n",
       "download_count                                                3178  \n",
       "categories                                           [environment]  \n",
       "domain_category                                        Environment  \n",
       "domain_tags      [citizenreporter, eventsplanner, forest, tree,...  \n",
       "domain_metadata  [{'key': 'Quality_Update-frequency', 'value': ...  "
      ]
     },
     "execution_count": 68,
     "metadata": {},
     "output_type": "execute_result"
    }
   ],
   "source": [
    "rds = client.datasets()\n",
    "rdf = pd.DataFrame.from_dict(rds)\n",
    "\n",
    "ds_df = interesteddf(rdf)\n",
    "ds_df.head(2).T"
   ]
  },
  {
   "cell_type": "code",
   "execution_count": 4,
   "metadata": {},
   "outputs": [
    {
     "name": "stderr",
     "output_type": "stream",
     "text": [
      "/home/honalbert/.local/lib/python3.7/site-packages/ipykernel_launcher.py:40: FutureWarning: The default value of regex will change from True to False in a future version.\n",
      "/home/honalbert/.local/lib/python3.7/site-packages/ipykernel_launcher.py:43: FutureWarning: The default value of regex will change from True to False in a future version. In addition, single character regular expressions will*not* be treated as literal strings when regex=True.\n",
      "/home/honalbert/.local/lib/python3.7/site-packages/ipykernel_launcher.py:44: FutureWarning: The default value of regex will change from True to False in a future version.\n"
     ]
    },
    {
     "data": {
      "text/html": [
       "<div>\n",
       "<style scoped>\n",
       "    .dataframe tbody tr th:only-of-type {\n",
       "        vertical-align: middle;\n",
       "    }\n",
       "\n",
       "    .dataframe tbody tr th {\n",
       "        vertical-align: top;\n",
       "    }\n",
       "\n",
       "    .dataframe thead th {\n",
       "        text-align: right;\n",
       "    }\n",
       "</style>\n",
       "<table border=\"1\" class=\"dataframe\">\n",
       "  <thead>\n",
       "    <tr style=\"text-align: right;\">\n",
       "      <th></th>\n",
       "      <th>0</th>\n",
       "      <th>1</th>\n",
       "    </tr>\n",
       "  </thead>\n",
       "  <tbody>\n",
       "    <tr>\n",
       "      <th>name</th>\n",
       "      <td>[pedestrian, counting, system, monthly, counts...</td>\n",
       "      <td>[tree, canopies, 2011, urban, forest]</td>\n",
       "    </tr>\n",
       "    <tr>\n",
       "      <th>id</th>\n",
       "      <td>b2ak-trbp</td>\n",
       "      <td>y79a-us3f</td>\n",
       "    </tr>\n",
       "    <tr>\n",
       "      <th>parent_fxf</th>\n",
       "      <td>[]</td>\n",
       "      <td>[]</td>\n",
       "    </tr>\n",
       "    <tr>\n",
       "      <th>description</th>\n",
       "      <td>[this, dataset, contains, hourly, pedestrian, ...</td>\n",
       "      <td>[tree, canopy, within, city, of, melbourne, ma...</td>\n",
       "    </tr>\n",
       "    <tr>\n",
       "      <th>data_upd_at</th>\n",
       "      <td>2021-09-06T01:54:59.000Z</td>\n",
       "      <td>None</td>\n",
       "    </tr>\n",
       "    <tr>\n",
       "      <th>pv_last_wk</th>\n",
       "      <td>229</td>\n",
       "      <td>23</td>\n",
       "    </tr>\n",
       "    <tr>\n",
       "      <th>pv_last_mth</th>\n",
       "      <td>1248</td>\n",
       "      <td>102</td>\n",
       "    </tr>\n",
       "    <tr>\n",
       "      <th>pv_total</th>\n",
       "      <td>71860</td>\n",
       "      <td>66774</td>\n",
       "    </tr>\n",
       "    <tr>\n",
       "      <th>download_count</th>\n",
       "      <td>8505</td>\n",
       "      <td>3178</td>\n",
       "    </tr>\n",
       "    <tr>\n",
       "      <th>categories</th>\n",
       "      <td>[finance]</td>\n",
       "      <td>[environment]</td>\n",
       "    </tr>\n",
       "    <tr>\n",
       "      <th>domain_category</th>\n",
       "      <td>Transport</td>\n",
       "      <td>Environment</td>\n",
       "    </tr>\n",
       "    <tr>\n",
       "      <th>domain_tags</th>\n",
       "      <td>[accessibility, cityreactivation, covid-19, fo...</td>\n",
       "      <td>[citizenreporter, eventsplanner, forest, tree,...</td>\n",
       "    </tr>\n",
       "    <tr>\n",
       "      <th>domain_metadata</th>\n",
       "      <td>[{'key': 'Quality_What's-included', 'value': '...</td>\n",
       "      <td>[{'key': 'Quality_Update-frequency', 'value': ...</td>\n",
       "    </tr>\n",
       "  </tbody>\n",
       "</table>\n",
       "</div>"
      ],
      "text/plain": [
       "                                                                 0  \\\n",
       "name             [pedestrian, counting, system, monthly, counts...   \n",
       "id                                                       b2ak-trbp   \n",
       "parent_fxf                                                      []   \n",
       "description      [this, dataset, contains, hourly, pedestrian, ...   \n",
       "data_upd_at                               2021-09-06T01:54:59.000Z   \n",
       "pv_last_wk                                                     229   \n",
       "pv_last_mth                                                   1248   \n",
       "pv_total                                                     71860   \n",
       "download_count                                                8505   \n",
       "categories                                               [finance]   \n",
       "domain_category                                          Transport   \n",
       "domain_tags      [accessibility, cityreactivation, covid-19, fo...   \n",
       "domain_metadata  [{'key': 'Quality_What's-included', 'value': '...   \n",
       "\n",
       "                                                                 1  \n",
       "name                         [tree, canopies, 2011, urban, forest]  \n",
       "id                                                       y79a-us3f  \n",
       "parent_fxf                                                      []  \n",
       "description      [tree, canopy, within, city, of, melbourne, ma...  \n",
       "data_upd_at                                                   None  \n",
       "pv_last_wk                                                      23  \n",
       "pv_last_mth                                                    102  \n",
       "pv_total                                                     66774  \n",
       "download_count                                                3178  \n",
       "categories                                           [environment]  \n",
       "domain_category                                        Environment  \n",
       "domain_tags      [citizenreporter, eventsplanner, forest, tree,...  \n",
       "domain_metadata  [{'key': 'Quality_Update-frequency', 'value': ...  "
      ]
     },
     "execution_count": 4,
     "metadata": {},
     "output_type": "execute_result"
    }
   ],
   "source": [
    "ds_df_tok = tokenise2(ds_df)\n",
    "ds_df_tok.head(2).T"
   ]
  },
  {
   "cell_type": "code",
   "execution_count": null,
   "metadata": {},
   "outputs": [],
   "source": [
    "## 000 ## other interesting info\n",
    "#\n",
    "## columns of dataset\n",
    "# rdf['resource'][0]['columns_name']\n",
    "# rdf['resource'][0]['columns_field_name']\n",
    "# rdf['resource'][0]['columns_datatype']\n",
    "# rdf['resource'][0]['columns_description']\n",
    "#"
   ]
  },
  {
   "cell_type": "code",
   "execution_count": 6,
   "metadata": {},
   "outputs": [
    {
     "name": "stdout",
     "output_type": "stream",
     "text": [
      "<class 'pandas.core.frame.DataFrame'>\n",
      "RangeIndex: 223 entries, 0 to 222\n",
      "Data columns (total 13 columns):\n",
      " #   Column           Non-Null Count  Dtype \n",
      "---  ------           --------------  ----- \n",
      " 0   name             223 non-null    object\n",
      " 1   id               223 non-null    object\n",
      " 2   parent_fxf       223 non-null    object\n",
      " 3   description      223 non-null    object\n",
      " 4   data_upd_at      201 non-null    object\n",
      " 5   pv_last_wk       223 non-null    int64 \n",
      " 6   pv_last_mth      223 non-null    int64 \n",
      " 7   pv_total         223 non-null    int64 \n",
      " 8   download_count   223 non-null    int64 \n",
      " 9   categories       223 non-null    object\n",
      " 10  domain_category  223 non-null    object\n",
      " 11  domain_tags      223 non-null    object\n",
      " 12  domain_metadata  223 non-null    object\n",
      "dtypes: int64(4), object(9)\n",
      "memory usage: 22.8+ KB\n"
     ]
    }
   ],
   "source": [
    "ds_df.info()"
   ]
  },
  {
   "cell_type": "code",
   "execution_count": 19,
   "metadata": {},
   "outputs": [
    {
     "data": {
      "text/plain": [
       "[{'key': 'Quality_Known-Issues',\n",
       "  'value': 'Date and year planted fields may have missing date values. '},\n",
       " {'key': \"Quality_What's-included\",\n",
       "  'value': 'All data held by the City of Melbourne has been included'},\n",
       " {'key': 'Quality_Update-frequency', 'value': 'Daily'},\n",
       " {'key': 'Quality_Reliability-level', 'value': 'Reliable and timely'},\n",
       " {'key': 'Data-management_Source-data-update-frequency', 'value': 'Monthly'}]"
      ]
     },
     "execution_count": 19,
     "metadata": {},
     "output_type": "execute_result"
    }
   ],
   "source": [
    "ds_df['domain_metadata'][2]"
   ]
  },
  {
   "cell_type": "code",
   "execution_count": 23,
   "metadata": {},
   "outputs": [
    {
     "name": "stdout",
     "output_type": "stream",
     "text": [
      "Quality_Known-Issues\n",
      "Quality_What's-included\n",
      "Quality_Update-frequency\n",
      "Quality_Reliability-level\n",
      "Data-management_Source-data-update-frequency\n"
     ]
    }
   ],
   "source": [
    "for kv in ds_df['domain_metadata'][2]:\n",
    "    print(kv['key'])"
   ]
  },
  {
   "cell_type": "code",
   "execution_count": 20,
   "metadata": {},
   "outputs": [
    {
     "name": "stdout",
     "output_type": "stream",
     "text": [
      "[Quality_Update-frequency] : Monthly\n",
      "[Data-management_Source-data-update-frequency] : Hourly\n"
     ]
    }
   ],
   "source": [
    "for kv in ds_df['domain_metadata'][0]:\n",
    "    if kv['key']=='Quality_Update-frequency':\n",
    "        print(f\"[{kv['key']}] : {kv['value']}\")\n",
    "    if kv['key']=='Data-management_Source-data-update-frequency':\n",
    "        print(f\"[{kv['key']}] : {kv['value']}\")"
   ]
  },
  {
   "cell_type": "code",
   "execution_count": 78,
   "metadata": {},
   "outputs": [],
   "source": [
    "keys = []\n",
    "for record in ds_df['domain_metadata']:\n",
    "    for kv in record:\n",
    "        keys.append(kv['key'])\n",
    "keys_ds = pd.Series(keys).drop_duplicates().reset_index(drop=True)"
   ]
  },
  {
   "cell_type": "code",
   "execution_count": 79,
   "metadata": {},
   "outputs": [
    {
     "data": {
      "text/plain": [
       "0                               Quality_What's-included\n",
       "1                              Quality_Update-frequency\n",
       "2                             Quality_Reliability-level\n",
       "3                                  How-to-use_Linked-to\n",
       "4          Data-management_Source-data-update-frequency\n",
       "5                                  Quality_Known-Issues\n",
       "6                        How-to-use_Further-information\n",
       "7                  Quality_Source-data-update-frequency\n",
       "8                        Quality_Data-quality-statement\n",
       "9                Melbourne-Metadata_Further-Information\n",
       "10                  Internal-management_IMGF-risk-level\n",
       "11                 Internal-management_Update-mechanism\n",
       "12    Internal-management_Source-system-(GIS,-AssetM...\n",
       "13                 How-to-use_Applicable-standard-(URL)\n",
       "dtype: object"
      ]
     },
     "execution_count": 79,
     "metadata": {},
     "output_type": "execute_result"
    }
   ],
   "source": [
    "keys_ds"
   ]
  },
  {
   "cell_type": "code",
   "execution_count": 204,
   "metadata": {},
   "outputs": [
    {
     "name": "stderr",
     "output_type": "stream",
     "text": [
      "/home/honalbert/.local/lib/python3.7/site-packages/ipykernel_launcher.py:7: SettingWithCopyWarning: \n",
      "A value is trying to be set on a copy of a slice from a DataFrame\n",
      "\n",
      "See the caveats in the documentation: https://pandas.pydata.org/pandas-docs/stable/user_guide/indexing.html#returning-a-view-versus-a-copy\n",
      "  import sys\n",
      "/home/honalbert/.local/lib/python3.7/site-packages/pandas/core/indexing.py:1637: SettingWithCopyWarning: \n",
      "A value is trying to be set on a copy of a slice from a DataFrame\n",
      "\n",
      "See the caveats in the documentation: https://pandas.pydata.org/pandas-docs/stable/user_guide/indexing.html#returning-a-view-versus-a-copy\n",
      "  self._setitem_single_block(indexer, value, name)\n"
     ]
    }
   ],
   "source": [
    "df1 = ds_df.copy()\n",
    "for key in keys_ds:\n",
    "    df1[key] = np.nan\n",
    "    for i in range(df1.shape[0]):\n",
    "        for kv in df1['domain_metadata'][i]:\n",
    "            if kv['key'] == key:\n",
    "                df1[key][i] = kv['value']"
   ]
  },
  {
   "cell_type": "code",
   "execution_count": 140,
   "metadata": {},
   "outputs": [
    {
     "name": "stdout",
     "output_type": "stream",
     "text": [
      "nan\n",
      "Date and year planted fields may have missing date values. \n",
      "Parking Sensors are not operational on Public Holidays. Parking Sensors will show car parks as vacant when blocked by construction zones. \n",
      "None\n",
      "No known issues\n",
      "Note this dataset may not contain a reading for every sensor for every 15 minutes as the sensor devices might not have a reading for each value. There may be situations where no readings are reported for all sensors or only some readings are reported at a particular site. \n",
      "Dataset contains 'duration in minutes' field which differs from other parking sensor datasets which contain 'duration in seconds'.\n",
      "Docks have since been removed after the end of the program in Nov 2019\n",
      "Dataset contains 'duration in minutes' field which differs from other parking sensor datasets which contain 'duration in seconds'. Dataset was extracted from system so some active readings may not have been received from sensors towards the end of the dataset (May 26th). \n",
      "Listed branches will be different in subsequent years due to organisational restructuring\n",
      "A number of the date fields are in ePoch date formats\n",
      "Some historical readings may not be available (April - July 2020 across some sensors)\n"
     ]
    }
   ],
   "source": [
    "for qi in df1['Quality_Known-Issues'].unique():\n",
    "    print(qi)"
   ]
  },
  {
   "cell_type": "code",
   "execution_count": 141,
   "metadata": {
    "scrolled": true
   },
   "outputs": [
    {
     "data": {
      "text/plain": [
       "array(['Monthly', 'Static (not updated)', 'Daily', '2 Minutes',\n",
       "       'Quarterly', 'Annually', '15 Minutes', 'Every two years', 'Hourly'],\n",
       "      dtype=object)"
      ]
     },
     "execution_count": 141,
     "metadata": {},
     "output_type": "execute_result"
    }
   ],
   "source": [
    "df1['Quality_Update-frequency'].unique()"
   ]
  },
  {
   "cell_type": "code",
   "execution_count": 152,
   "metadata": {},
   "outputs": [
    {
     "data": {
      "text/plain": [
       "array(['Hourly', 'Monthly', 'Real-time', 'Annually', 'Daily', 'Weekly',\n",
       "       'Static (not updated)', '15 Minutes', 'Every two years',\n",
       "       'Quarterly'], dtype=object)"
      ]
     },
     "execution_count": 152,
     "metadata": {},
     "output_type": "execute_result"
    }
   ],
   "source": [
    "df1['Data-management_Source-data-update-frequency'].unique()"
   ]
  },
  {
   "cell_type": "code",
   "execution_count": 155,
   "metadata": {},
   "outputs": [
    {
     "data": {
      "text/plain": [
       "array([nan, 'Daily', 'Monthly', 'Annually', 'Quarterly'], dtype=object)"
      ]
     },
     "execution_count": 155,
     "metadata": {},
     "output_type": "execute_result"
    }
   ],
   "source": [
    "df1['Quality_Source-data-update-frequency'].unique()"
   ]
  },
  {
   "cell_type": "code",
   "execution_count": 145,
   "metadata": {
    "scrolled": true
   },
   "outputs": [
    {
     "name": "stdout",
     "output_type": "stream",
     "text": [
      "<class 'pandas.core.frame.DataFrame'>\n",
      "RangeIndex: 223 entries, 0 to 222\n",
      "Data columns (total 27 columns):\n",
      " #   Column                                                     Non-Null Count  Dtype \n",
      "---  ------                                                     --------------  ----- \n",
      " 0   name                                                       223 non-null    object\n",
      " 1   id                                                         223 non-null    object\n",
      " 2   parent_fxf                                                 223 non-null    object\n",
      " 3   description                                                223 non-null    object\n",
      " 4   data_upd_at                                                201 non-null    object\n",
      " 5   pv_last_wk                                                 223 non-null    int64 \n",
      " 6   pv_last_mth                                                223 non-null    int64 \n",
      " 7   pv_total                                                   223 non-null    int64 \n",
      " 8   download_count                                             223 non-null    int64 \n",
      " 9   categories                                                 223 non-null    object\n",
      " 10  domain_category                                            223 non-null    object\n",
      " 11  domain_tags                                                223 non-null    object\n",
      " 12  domain_metadata                                            223 non-null    object\n",
      " 13  Quality_What's-included                                    149 non-null    object\n",
      " 14  Quality_Update-frequency                                   223 non-null    object\n",
      " 15  Quality_Reliability-level                                  185 non-null    object\n",
      " 16  How-to-use_Linked-to                                       19 non-null     object\n",
      " 17  Data-management_Source-data-update-frequency               223 non-null    object\n",
      " 18  Quality_Known-Issues                                       39 non-null     object\n",
      " 19  How-to-use_Further-information                             59 non-null     object\n",
      " 20  Quality_Source-data-update-frequency                       7 non-null      object\n",
      " 21  Quality_Data-quality-statement                             71 non-null     object\n",
      " 22  Melbourne-Metadata_Further-Information                     1 non-null      object\n",
      " 23  Internal-management_IMGF-risk-level                        1 non-null      object\n",
      " 24  Internal-management_Update-mechanism                       1 non-null      object\n",
      " 25  Internal-management_Source-system-(GIS,-AssetMaster,-etc)  1 non-null      object\n",
      " 26  How-to-use_Applicable-standard-(URL)                       2 non-null      object\n",
      "dtypes: int64(4), object(23)\n",
      "memory usage: 47.2+ KB\n"
     ]
    }
   ],
   "source": [
    "df1.info()"
   ]
  },
  {
   "cell_type": "code",
   "execution_count": null,
   "metadata": {},
   "outputs": [],
   "source": [
    "# very wordy and different for each record\n",
    "for qi in df1[\"Quality_What's-included\"].unique():\n",
    "    print(qi)"
   ]
  },
  {
   "cell_type": "code",
   "execution_count": 158,
   "metadata": {},
   "outputs": [
    {
     "data": {
      "text/plain": [
       "array(['Reliable and timely', 'Useful with caveats', nan], dtype=object)"
      ]
     },
     "execution_count": 158,
     "metadata": {},
     "output_type": "execute_result"
    }
   ],
   "source": [
    "df1['Quality_Reliability-level'].unique()"
   ]
  },
  {
   "cell_type": "code",
   "execution_count": 160,
   "metadata": {},
   "outputs": [
    {
     "name": "stdout",
     "output_type": "stream",
     "text": [
      "http://www.pedestrian.melbourne.vic.gov.au/\n",
      "nan\n",
      "Environmental Data - Assets, Environmental Data - GHG Factors\n",
      "Road Corridor\n",
      "http://cityofmelbourne.maps.arcgis.com/apps/MapSeries/index.html?appid=5c6bf1fc3f094e418e55eb1bce03953e\n",
      "https://data.melbourne.vic.gov.au/Economy/Census-of-Land-Use-and-Employment-Blocks/aia8-ryiq\n",
      "Environmental Data - Assets, Environmental Data - Billing Data\n",
      "Environmental Data - Billing, Environmental Data - GHG Factors\n",
      "https://data.melbourne.vic.gov.au/Economy/Census-Of-Land-Use-And-Employment-CLUE-Small-Areas/gei8-3w86\n",
      "http://biodiversity.melbourne.vic.gov.au/insects/#/butterflies\n",
      "https://data.melbourne.vic.gov.au/Economy/Employment-and-floor-space-forecasts-by-suburb/gb88-t7zc\n",
      "N/A\n"
     ]
    }
   ],
   "source": [
    "for hl in df1['How-to-use_Linked-to'].unique():\n",
    "    print(hl)"
   ]
  },
  {
   "cell_type": "code",
   "execution_count": 162,
   "metadata": {},
   "outputs": [
    {
     "data": {
      "text/plain": [
       "array(['Monthly', 'Static (not updated)', 'Daily', '2 Minutes',\n",
       "       'Quarterly', 'Annually', '15 Minutes', 'Every two years', 'Hourly'],\n",
       "      dtype=object)"
      ]
     },
     "execution_count": 162,
     "metadata": {},
     "output_type": "execute_result"
    }
   ],
   "source": [
    "df1[\"Quality_Update-frequency\"].unique()"
   ]
  },
  {
   "cell_type": "code",
   "execution_count": 161,
   "metadata": {},
   "outputs": [
    {
     "data": {
      "text/plain": [
       "array(['Hourly', 'Monthly', 'Real-time', 'Annually', 'Daily', 'Weekly',\n",
       "       'Static (not updated)', '15 Minutes', 'Every two years',\n",
       "       'Quarterly'], dtype=object)"
      ]
     },
     "execution_count": 161,
     "metadata": {},
     "output_type": "execute_result"
    }
   ],
   "source": [
    "df1['Data-management_Source-data-update-frequency'].unique()"
   ]
  },
  {
   "cell_type": "code",
   "execution_count": 199,
   "metadata": {},
   "outputs": [
    {
     "data": {
      "text/plain": [
       "array([nan, 'Daily', 'Monthly', 'Annually', 'Quarterly'], dtype=object)"
      ]
     },
     "execution_count": 199,
     "metadata": {},
     "output_type": "execute_result"
    }
   ],
   "source": [
    "df1['Quality_Source-data-update-frequency'].unique()"
   ]
  },
  {
   "cell_type": "code",
   "execution_count": 202,
   "metadata": {},
   "outputs": [
    {
     "data": {
      "text/html": [
       "<div>\n",
       "<style scoped>\n",
       "    .dataframe tbody tr th:only-of-type {\n",
       "        vertical-align: middle;\n",
       "    }\n",
       "\n",
       "    .dataframe tbody tr th {\n",
       "        vertical-align: top;\n",
       "    }\n",
       "\n",
       "    .dataframe thead th {\n",
       "        text-align: right;\n",
       "    }\n",
       "</style>\n",
       "<table border=\"1\" class=\"dataframe\">\n",
       "  <thead>\n",
       "    <tr style=\"text-align: right;\">\n",
       "      <th></th>\n",
       "      <th>6</th>\n",
       "      <th>11</th>\n",
       "      <th>16</th>\n",
       "      <th>57</th>\n",
       "      <th>58</th>\n",
       "      <th>85</th>\n",
       "      <th>101</th>\n",
       "    </tr>\n",
       "  </thead>\n",
       "  <tbody>\n",
       "    <tr>\n",
       "      <th>name</th>\n",
       "      <td>On-street Parking Bays</td>\n",
       "      <td>On-street Car Park Bay Restrictions</td>\n",
       "      <td>Property boundaries</td>\n",
       "      <td>On-street Car Parking Meters with Location</td>\n",
       "      <td>Public toilets</td>\n",
       "      <td>Building information 2017 map</td>\n",
       "      <td>Melbourne Visitor Contact Stats</td>\n",
       "    </tr>\n",
       "    <tr>\n",
       "      <th>id</th>\n",
       "      <td>crvt-b4kt</td>\n",
       "      <td>ntht-5rk7</td>\n",
       "      <td>e56b-j9mj</td>\n",
       "      <td>vdsi-4gtj</td>\n",
       "      <td>ru3z-44we</td>\n",
       "      <td>be3i-empa</td>\n",
       "      <td>e63d-rbu7</td>\n",
       "    </tr>\n",
       "    <tr>\n",
       "      <th>parent_fxf</th>\n",
       "      <td>[]</td>\n",
       "      <td>[]</td>\n",
       "      <td>[]</td>\n",
       "      <td>[]</td>\n",
       "      <td>[]</td>\n",
       "      <td>[pmhb-s6pn]</td>\n",
       "      <td>[]</td>\n",
       "    </tr>\n",
       "    <tr>\n",
       "      <th>description</th>\n",
       "      <td>This dataset contains spatial polygons which r...</td>\n",
       "      <td>Each row contains information about the restri...</td>\n",
       "      <td>This details the boundaries of all properties ...</td>\n",
       "      <td>This dataset shows the location and informatio...</td>\n",
       "      <td>Public toilets known about or operated by the ...</td>\n",
       "      <td>Data collected as part of the City of Melbourn...</td>\n",
       "      <td>The City of Melbourne provides visitor program...</td>\n",
       "    </tr>\n",
       "    <tr>\n",
       "      <th>data_upd_at</th>\n",
       "      <td>2021-08-23T16:04:33.000Z</td>\n",
       "      <td>2021-08-31T16:03:56.000Z</td>\n",
       "      <td>2021-08-23T16:14:32.000Z</td>\n",
       "      <td>2021-09-03T16:01:41.000Z</td>\n",
       "      <td>2021-09-08T16:07:37.000Z</td>\n",
       "      <td>2020-09-11T00:20:26.000Z</td>\n",
       "      <td>2019-01-14T00:47:27.000Z</td>\n",
       "    </tr>\n",
       "    <tr>\n",
       "      <th>pv_last_wk</th>\n",
       "      <td>125</td>\n",
       "      <td>62</td>\n",
       "      <td>34</td>\n",
       "      <td>14</td>\n",
       "      <td>22</td>\n",
       "      <td>11</td>\n",
       "      <td>4</td>\n",
       "    </tr>\n",
       "    <tr>\n",
       "      <th>pv_last_mth</th>\n",
       "      <td>558</td>\n",
       "      <td>301</td>\n",
       "      <td>178</td>\n",
       "      <td>66</td>\n",
       "      <td>88</td>\n",
       "      <td>32</td>\n",
       "      <td>32</td>\n",
       "    </tr>\n",
       "    <tr>\n",
       "      <th>pv_total</th>\n",
       "      <td>24168</td>\n",
       "      <td>17236</td>\n",
       "      <td>12448</td>\n",
       "      <td>3398</td>\n",
       "      <td>3379</td>\n",
       "      <td>2130</td>\n",
       "      <td>1768</td>\n",
       "    </tr>\n",
       "    <tr>\n",
       "      <th>download_count</th>\n",
       "      <td>39776</td>\n",
       "      <td>562971</td>\n",
       "      <td>2212262</td>\n",
       "      <td>2349</td>\n",
       "      <td>2495</td>\n",
       "      <td>252</td>\n",
       "      <td>2709</td>\n",
       "    </tr>\n",
       "    <tr>\n",
       "      <th>categories</th>\n",
       "      <td>[transportation]</td>\n",
       "      <td>[transportation, recreation, economy]</td>\n",
       "      <td>[]</td>\n",
       "      <td>[transportation]</td>\n",
       "      <td>[]</td>\n",
       "      <td>[housing &amp; development, demographics, transpor...</td>\n",
       "      <td>[demographics, infrastructure]</td>\n",
       "    </tr>\n",
       "    <tr>\n",
       "      <th>domain_category</th>\n",
       "      <td>Transport</td>\n",
       "      <td>Transport</td>\n",
       "      <td>Property</td>\n",
       "      <td>Transport</td>\n",
       "      <td>City Council</td>\n",
       "      <td>Property</td>\n",
       "      <td>City Council</td>\n",
       "    </tr>\n",
       "    <tr>\n",
       "      <th>domain_tags</th>\n",
       "      <td>[accessibility, areas, bays, cars, cityreactiv...</td>\n",
       "      <td>[accessibility, bay, car, parking, restriction...</td>\n",
       "      <td>[boundaries, cityreactivation, land, property,...</td>\n",
       "      <td>[car, machine, meters, parking, ticket, transp...</td>\n",
       "      <td>[accessibility, cityreactivation, eventsplanne...</td>\n",
       "      <td>[accessibility, bicycle, building, census of l...</td>\n",
       "      <td>[city ambassador, contacts, cooks’ cottage, cr...</td>\n",
       "    </tr>\n",
       "    <tr>\n",
       "      <th>domain_metadata</th>\n",
       "      <td>[{'key': 'Quality_Source-data-update-frequency...</td>\n",
       "      <td>[{'key': 'Quality_What's-included', 'value': '...</td>\n",
       "      <td>[{'key': 'Quality_Update-frequency', 'value': ...</td>\n",
       "      <td>[{'key': 'Quality_What's-included', 'value': '...</td>\n",
       "      <td>[{'key': 'Quality_What's-included', 'value': '...</td>\n",
       "      <td>[{'key': 'Quality_Known-Issues', 'value': 'Non...</td>\n",
       "      <td>[{'key': 'Quality_What's-included', 'value': '...</td>\n",
       "    </tr>\n",
       "    <tr>\n",
       "      <th>Quality_What's-included</th>\n",
       "      <td>All surveyed parking bay data</td>\n",
       "      <td>All parking signs that have a relevant mapped ...</td>\n",
       "      <td>NaN</td>\n",
       "      <td>All council managed parking meter assets</td>\n",
       "      <td>All data held by the City of Melbourne has bee...</td>\n",
       "      <td>All data held by the City of Melbourne has bee...</td>\n",
       "      <td>All data has been included</td>\n",
       "    </tr>\n",
       "    <tr>\n",
       "      <th>Quality_Update-frequency</th>\n",
       "      <td>Daily</td>\n",
       "      <td>Daily</td>\n",
       "      <td>Daily</td>\n",
       "      <td>Monthly</td>\n",
       "      <td>Daily</td>\n",
       "      <td>Every two years</td>\n",
       "      <td>Monthly</td>\n",
       "    </tr>\n",
       "    <tr>\n",
       "      <th>Quality_Reliability-level</th>\n",
       "      <td>Useful with caveats</td>\n",
       "      <td>Useful with caveats</td>\n",
       "      <td>NaN</td>\n",
       "      <td>Reliable and timely</td>\n",
       "      <td>Useful with caveats</td>\n",
       "      <td>Reliable and timely</td>\n",
       "      <td>NaN</td>\n",
       "    </tr>\n",
       "    <tr>\n",
       "      <th>How-to-use_Linked-to</th>\n",
       "      <td>NaN</td>\n",
       "      <td>NaN</td>\n",
       "      <td>NaN</td>\n",
       "      <td>NaN</td>\n",
       "      <td>NaN</td>\n",
       "      <td>NaN</td>\n",
       "      <td>NaN</td>\n",
       "    </tr>\n",
       "    <tr>\n",
       "      <th>Data-management_Source-data-update-frequency</th>\n",
       "      <td>Daily</td>\n",
       "      <td>Daily</td>\n",
       "      <td>Daily</td>\n",
       "      <td>Daily</td>\n",
       "      <td>Monthly</td>\n",
       "      <td>Every two years</td>\n",
       "      <td>Monthly</td>\n",
       "    </tr>\n",
       "    <tr>\n",
       "      <th>Quality_Known-Issues</th>\n",
       "      <td>NaN</td>\n",
       "      <td>NaN</td>\n",
       "      <td>NaN</td>\n",
       "      <td>NaN</td>\n",
       "      <td>NaN</td>\n",
       "      <td>None</td>\n",
       "      <td>NaN</td>\n",
       "    </tr>\n",
       "    <tr>\n",
       "      <th>How-to-use_Further-information</th>\n",
       "      <td>NaN</td>\n",
       "      <td>NaN</td>\n",
       "      <td>NaN</td>\n",
       "      <td>NaN</td>\n",
       "      <td>NaN</td>\n",
       "      <td>http://www.melbourne.vic.gov.au/clue</td>\n",
       "      <td>NaN</td>\n",
       "    </tr>\n",
       "    <tr>\n",
       "      <th>Quality_Source-data-update-frequency</th>\n",
       "      <td>Daily</td>\n",
       "      <td>Daily</td>\n",
       "      <td>Daily</td>\n",
       "      <td>Daily</td>\n",
       "      <td>Monthly</td>\n",
       "      <td>Annually</td>\n",
       "      <td>Quarterly</td>\n",
       "    </tr>\n",
       "    <tr>\n",
       "      <th>Quality_Data-quality-statement</th>\n",
       "      <td>This data contains all spatially mapped on-str...</td>\n",
       "      <td>NaN</td>\n",
       "      <td>NaN</td>\n",
       "      <td>NaN</td>\n",
       "      <td>NaN</td>\n",
       "      <td>Building accessibility data is collected to tr...</td>\n",
       "      <td>NaN</td>\n",
       "    </tr>\n",
       "  </tbody>\n",
       "</table>\n",
       "</div>"
      ],
      "text/plain": [
       "                                                                                            6    \\\n",
       "name                                                                     On-street Parking Bays   \n",
       "id                                                                                    crvt-b4kt   \n",
       "parent_fxf                                                                                   []   \n",
       "description                                   This dataset contains spatial polygons which r...   \n",
       "data_upd_at                                                            2021-08-23T16:04:33.000Z   \n",
       "pv_last_wk                                                                                  125   \n",
       "pv_last_mth                                                                                 558   \n",
       "pv_total                                                                                  24168   \n",
       "download_count                                                                            39776   \n",
       "categories                                                                     [transportation]   \n",
       "domain_category                                                                       Transport   \n",
       "domain_tags                                   [accessibility, areas, bays, cars, cityreactiv...   \n",
       "domain_metadata                               [{'key': 'Quality_Source-data-update-frequency...   \n",
       "Quality_What's-included                                           All surveyed parking bay data   \n",
       "Quality_Update-frequency                                                                  Daily   \n",
       "Quality_Reliability-level                                                   Useful with caveats   \n",
       "How-to-use_Linked-to                                                                        NaN   \n",
       "Data-management_Source-data-update-frequency                                              Daily   \n",
       "Quality_Known-Issues                                                                        NaN   \n",
       "How-to-use_Further-information                                                              NaN   \n",
       "Quality_Source-data-update-frequency                                                      Daily   \n",
       "Quality_Data-quality-statement                This data contains all spatially mapped on-str...   \n",
       "\n",
       "                                                                                            11   \\\n",
       "name                                                        On-street Car Park Bay Restrictions   \n",
       "id                                                                                    ntht-5rk7   \n",
       "parent_fxf                                                                                   []   \n",
       "description                                   Each row contains information about the restri...   \n",
       "data_upd_at                                                            2021-08-31T16:03:56.000Z   \n",
       "pv_last_wk                                                                                   62   \n",
       "pv_last_mth                                                                                 301   \n",
       "pv_total                                                                                  17236   \n",
       "download_count                                                                           562971   \n",
       "categories                                                [transportation, recreation, economy]   \n",
       "domain_category                                                                       Transport   \n",
       "domain_tags                                   [accessibility, bay, car, parking, restriction...   \n",
       "domain_metadata                               [{'key': 'Quality_What's-included', 'value': '...   \n",
       "Quality_What's-included                       All parking signs that have a relevant mapped ...   \n",
       "Quality_Update-frequency                                                                  Daily   \n",
       "Quality_Reliability-level                                                   Useful with caveats   \n",
       "How-to-use_Linked-to                                                                        NaN   \n",
       "Data-management_Source-data-update-frequency                                              Daily   \n",
       "Quality_Known-Issues                                                                        NaN   \n",
       "How-to-use_Further-information                                                              NaN   \n",
       "Quality_Source-data-update-frequency                                                      Daily   \n",
       "Quality_Data-quality-statement                                                              NaN   \n",
       "\n",
       "                                                                                            16   \\\n",
       "name                                                                        Property boundaries   \n",
       "id                                                                                    e56b-j9mj   \n",
       "parent_fxf                                                                                   []   \n",
       "description                                   This details the boundaries of all properties ...   \n",
       "data_upd_at                                                            2021-08-23T16:14:32.000Z   \n",
       "pv_last_wk                                                                                   34   \n",
       "pv_last_mth                                                                                 178   \n",
       "pv_total                                                                                  12448   \n",
       "download_count                                                                          2212262   \n",
       "categories                                                                                   []   \n",
       "domain_category                                                                        Property   \n",
       "domain_tags                                   [boundaries, cityreactivation, land, property,...   \n",
       "domain_metadata                               [{'key': 'Quality_Update-frequency', 'value': ...   \n",
       "Quality_What's-included                                                                     NaN   \n",
       "Quality_Update-frequency                                                                  Daily   \n",
       "Quality_Reliability-level                                                                   NaN   \n",
       "How-to-use_Linked-to                                                                        NaN   \n",
       "Data-management_Source-data-update-frequency                                              Daily   \n",
       "Quality_Known-Issues                                                                        NaN   \n",
       "How-to-use_Further-information                                                              NaN   \n",
       "Quality_Source-data-update-frequency                                                      Daily   \n",
       "Quality_Data-quality-statement                                                              NaN   \n",
       "\n",
       "                                                                                            57   \\\n",
       "name                                                 On-street Car Parking Meters with Location   \n",
       "id                                                                                    vdsi-4gtj   \n",
       "parent_fxf                                                                                   []   \n",
       "description                                   This dataset shows the location and informatio...   \n",
       "data_upd_at                                                            2021-09-03T16:01:41.000Z   \n",
       "pv_last_wk                                                                                   14   \n",
       "pv_last_mth                                                                                  66   \n",
       "pv_total                                                                                   3398   \n",
       "download_count                                                                             2349   \n",
       "categories                                                                     [transportation]   \n",
       "domain_category                                                                       Transport   \n",
       "domain_tags                                   [car, machine, meters, parking, ticket, transp...   \n",
       "domain_metadata                               [{'key': 'Quality_What's-included', 'value': '...   \n",
       "Quality_What's-included                                All council managed parking meter assets   \n",
       "Quality_Update-frequency                                                                Monthly   \n",
       "Quality_Reliability-level                                                   Reliable and timely   \n",
       "How-to-use_Linked-to                                                                        NaN   \n",
       "Data-management_Source-data-update-frequency                                              Daily   \n",
       "Quality_Known-Issues                                                                        NaN   \n",
       "How-to-use_Further-information                                                              NaN   \n",
       "Quality_Source-data-update-frequency                                                      Daily   \n",
       "Quality_Data-quality-statement                                                              NaN   \n",
       "\n",
       "                                                                                            58   \\\n",
       "name                                                                             Public toilets   \n",
       "id                                                                                    ru3z-44we   \n",
       "parent_fxf                                                                                   []   \n",
       "description                                   Public toilets known about or operated by the ...   \n",
       "data_upd_at                                                            2021-09-08T16:07:37.000Z   \n",
       "pv_last_wk                                                                                   22   \n",
       "pv_last_mth                                                                                  88   \n",
       "pv_total                                                                                   3379   \n",
       "download_count                                                                             2495   \n",
       "categories                                                                                   []   \n",
       "domain_category                                                                    City Council   \n",
       "domain_tags                                   [accessibility, cityreactivation, eventsplanne...   \n",
       "domain_metadata                               [{'key': 'Quality_What's-included', 'value': '...   \n",
       "Quality_What's-included                       All data held by the City of Melbourne has bee...   \n",
       "Quality_Update-frequency                                                                  Daily   \n",
       "Quality_Reliability-level                                                   Useful with caveats   \n",
       "How-to-use_Linked-to                                                                        NaN   \n",
       "Data-management_Source-data-update-frequency                                            Monthly   \n",
       "Quality_Known-Issues                                                                        NaN   \n",
       "How-to-use_Further-information                                                              NaN   \n",
       "Quality_Source-data-update-frequency                                                    Monthly   \n",
       "Quality_Data-quality-statement                                                              NaN   \n",
       "\n",
       "                                                                                            85   \\\n",
       "name                                                              Building information 2017 map   \n",
       "id                                                                                    be3i-empa   \n",
       "parent_fxf                                                                          [pmhb-s6pn]   \n",
       "description                                   Data collected as part of the City of Melbourn...   \n",
       "data_upd_at                                                            2020-09-11T00:20:26.000Z   \n",
       "pv_last_wk                                                                                   11   \n",
       "pv_last_mth                                                                                  32   \n",
       "pv_total                                                                                   2130   \n",
       "download_count                                                                              252   \n",
       "categories                                    [housing & development, demographics, transpor...   \n",
       "domain_category                                                                        Property   \n",
       "domain_tags                                   [accessibility, bicycle, building, census of l...   \n",
       "domain_metadata                               [{'key': 'Quality_Known-Issues', 'value': 'Non...   \n",
       "Quality_What's-included                       All data held by the City of Melbourne has bee...   \n",
       "Quality_Update-frequency                                                        Every two years   \n",
       "Quality_Reliability-level                                                   Reliable and timely   \n",
       "How-to-use_Linked-to                                                                        NaN   \n",
       "Data-management_Source-data-update-frequency                                    Every two years   \n",
       "Quality_Known-Issues                                                                       None   \n",
       "How-to-use_Further-information                             http://www.melbourne.vic.gov.au/clue   \n",
       "Quality_Source-data-update-frequency                                                   Annually   \n",
       "Quality_Data-quality-statement                Building accessibility data is collected to tr...   \n",
       "\n",
       "                                                                                            101  \n",
       "name                                                            Melbourne Visitor Contact Stats  \n",
       "id                                                                                    e63d-rbu7  \n",
       "parent_fxf                                                                                   []  \n",
       "description                                   The City of Melbourne provides visitor program...  \n",
       "data_upd_at                                                            2019-01-14T00:47:27.000Z  \n",
       "pv_last_wk                                                                                    4  \n",
       "pv_last_mth                                                                                  32  \n",
       "pv_total                                                                                   1768  \n",
       "download_count                                                                             2709  \n",
       "categories                                                       [demographics, infrastructure]  \n",
       "domain_category                                                                    City Council  \n",
       "domain_tags                                   [city ambassador, contacts, cooks’ cottage, cr...  \n",
       "domain_metadata                               [{'key': 'Quality_What's-included', 'value': '...  \n",
       "Quality_What's-included                                              All data has been included  \n",
       "Quality_Update-frequency                                                                Monthly  \n",
       "Quality_Reliability-level                                                                   NaN  \n",
       "How-to-use_Linked-to                                                                        NaN  \n",
       "Data-management_Source-data-update-frequency                                            Monthly  \n",
       "Quality_Known-Issues                                                                        NaN  \n",
       "How-to-use_Further-information                                                              NaN  \n",
       "Quality_Source-data-update-frequency                                                  Quarterly  \n",
       "Quality_Data-quality-statement                                                              NaN  "
      ]
     },
     "execution_count": 202,
     "metadata": {},
     "output_type": "execute_result"
    }
   ],
   "source": [
    "df1[~df1['Quality_Source-data-update-frequency'].isnull()].T"
   ]
  },
  {
   "cell_type": "code",
   "execution_count": 171,
   "metadata": {},
   "outputs": [
    {
     "name": "stdout",
     "output_type": "stream",
     "text": [
      "nan \n",
      "\n",
      "This data contains all spatially mapped on-street car parking bays. There is a large number of bays which have not yet been mapped. Data has been collected from a number of years, there may be parking bays that no longer exist that still show in dataset. Users are advised to contact council using the email listed to report data errors.  \n",
      "\n",
      "A team of 4 census officers conduct field interviews which involves visiting every establishment in every building in the Census area (City of Melbourne municipality). Every commercial property is surveyed at least once every two years. \n",
      "\n",
      "Building accessibility data is collected to track accessibility for internal City of Melbourne purposes. This data is provided as a community service by the City of Melbourne. It is not and does not purport to be a complete guide. There may be errors or omissions. Data is liable to change. The City of Melbourne accepts no responsibility in respect of any claim arising from use or reliance upon this data. \n",
      "\n",
      "Data is summarised from the City of Melbourne's property rates database.  \n",
      "\n",
      "A team of 4 census officers conduct field interviews which involves visiting every establishment in every building in the Census area (City of Melbourne municipality). Every commercial property is surveyed at least once every two years. Information about residential properties is based on the Council's property rates database. \n",
      "\n",
      "A team of up to 6 surveyors conducts a field survey which involves visiting every establishment in every building in the Census area (City of Melbourne municipality). Every commercial property is surveyed at least once every two years. \n",
      "\n",
      "Supplied survey control used for control (Madigan Surveying) – 25 cm absolute accuracy \n",
      "\n",
      " A team of 4 census officers conduct field interviews which involves visiting every establishment in every building in the Census area (City of Melbourne municipality). Every commercial property is surveyed at least once every two years. \n",
      "\n",
      "This data set has been verified by independent verifiers for accreditation under ISO. Where City of Melbourne didn't have data to report the indicators were left blank. \n",
      "\n",
      "Data may not be complete \n",
      "\n",
      "This data has been retrofitted from the original helping out booklet, please feel free to contact us to notify of any data issues \n",
      "\n",
      "This dataset is from the figures provided in the Annual plan and budget each financial year \n",
      "\n",
      "The location of these signs are completely accurate, however the dataset is not as meaningful as could be, we are continually working on improving this dataset and value your feedback \n",
      "\n",
      "Dates and locations provide approximate time and location information and may change without notice.  \n",
      "\n",
      "Actual canopy size may exceed extent of canopy polygons in some cases, particularly young trees. Polygons on private property may require verification to confirm if they represent tree canopy or other vegetation types.  \n",
      "\n",
      "A team of up to 6 surveyors conducts a field survey which involves visiting every establishment in every building in the Census area (City of Melbourne municipality).   Every commercial property is surveyed at least once every two years. \n",
      "\n",
      "All parking event data from Jan 2019 - Dec 2019 \n",
      "\n",
      "Data is complete and accurate \n",
      "\n",
      "Some of the dataset is not as meaningful as could be, we are continually working on improving this dataset and value your feedback \n",
      "\n",
      "A team of up to 6 surveyors conducts a field survey which involves visiting every establishment in every building in the Census area (City of Melbourne municipality). Every commercial property is surveyed at least once every two years. Information about residential properties is based on the Council's property rates database. \n",
      "\n",
      "This data is not exhaustive and updated on an irregular basis. The information provided is seen as a useful first step for someone interested in locating a coworking space. \n",
      "\n",
      "This data does not include events which are held in built venues, privately managed open spaces or those activities which do not require a permit from the City of Melbourne. \n",
      "\n",
      "Reliable and recent \n",
      "\n",
      "This data was produced through a joint project with the City of Melbourne and RMIT University Researchers \n",
      "\n",
      "Data has been quality assured  \n",
      "\n",
      "This dataset is not as meaningful as could be, we are continually working on improving this dataset and value your feedback \n",
      "\n",
      " team of up to 6 surveyors conducts a field survey which involves visiting every establishment in every building in the Census area (City of Melbourne municipality). Every commercial property is surveyed at least once every two years. \n",
      "\n",
      "Data is extracted from the system at the end of each month. Previous month's data is not refreshed.  \n",
      "\n",
      "Data timestamps may vary as sensors are disconnected or reconnected to the network. This data has not yet been validated. Please send feedback to opendata@melbourne.vic.gov.au \n",
      "\n",
      "Polygons are digitised through aerial imagery or lidar. Some polygons may not reflect the full extent of canopy growth.  \n",
      "\n",
      "The information is believed to be accurate, as of when the original register was published in 2014. \n",
      "\n",
      "These images were scanned for internal purposes. They are sufficient for most purposes, but are not archival quality. \n",
      "\n",
      "All parking event data from Jan 2018 - Dec 2018 \n",
      "\n",
      "Data has been quality assured \n",
      "\n"
     ]
    }
   ],
   "source": [
    "for qs in df1[\"Quality_Data-quality-statement\"].unique():\n",
    "    print(qs,\"\\n\")"
   ]
  },
  {
   "cell_type": "code",
   "execution_count": 172,
   "metadata": {},
   "outputs": [
    {
     "name": "stdout",
     "output_type": "stream",
     "text": [
      "nan \n",
      "\n",
      "https://www.melbourne.vic.gov.au/CommunityServices/SocialSupport/Documents/Helping_Out_Booklet.pdf \n",
      "\n"
     ]
    }
   ],
   "source": [
    "for mi in df1[\"Melbourne-Metadata_Further-Information\"].unique():\n",
    "    print(mi,\"\\n\")"
   ]
  },
  {
   "cell_type": "code",
   "execution_count": 165,
   "metadata": {},
   "outputs": [
    {
     "name": "stdout",
     "output_type": "stream",
     "text": [
      "nan \n",
      "\n",
      "Date and year planted fields may have missing date values.  \n",
      "\n",
      "Parking Sensors are not operational on Public Holidays. Parking Sensors will show car parks as vacant when blocked by construction zones.  \n",
      "\n",
      "None \n",
      "\n",
      "No known issues \n",
      "\n",
      "Note this dataset may not contain a reading for every sensor for every 15 minutes as the sensor devices might not have a reading for each value. There may be situations where no readings are reported for all sensors or only some readings are reported at a particular site.  \n",
      "\n",
      "Dataset contains 'duration in minutes' field which differs from other parking sensor datasets which contain 'duration in seconds'. \n",
      "\n",
      "Docks have since been removed after the end of the program in Nov 2019 \n",
      "\n",
      "Dataset contains 'duration in minutes' field which differs from other parking sensor datasets which contain 'duration in seconds'. Dataset was extracted from system so some active readings may not have been received from sensors towards the end of the dataset (May 26th).  \n",
      "\n",
      "Listed branches will be different in subsequent years due to organisational restructuring \n",
      "\n",
      "A number of the date fields are in ePoch date formats \n",
      "\n",
      "Some historical readings may not be available (April - July 2020 across some sensors) \n",
      "\n"
     ]
    }
   ],
   "source": [
    "for ki in df1['Quality_Known-Issues'].unique():\n",
    "    print(ki,\"\\n\")"
   ]
  },
  {
   "cell_type": "code",
   "execution_count": 168,
   "metadata": {},
   "outputs": [
    {
     "name": "stdout",
     "output_type": "stream",
     "text": [
      "nan \n",
      "\n",
      "http://www.melbourne.vic.gov.au/parking-and-transport/parking/Pages/parking-faqs.aspx \n",
      "\n",
      "https://data.melbourne.vic.gov.au/api/views/gh7s-qda8/files/51e3db26-a063-4825-ae6c-1a40c0259c75?download=true&filename=DAM_-_Info_-_DAM_May_2016_Meta_Data_Info.pdf \n",
      "\n",
      "http://www.melbourne.vic.gov.au/clue \n",
      "\n",
      "Data is updated yearly (but refreshed overnight) \n",
      "\n",
      "http://www.melbourne.vic.gov.au/ParkingTransportandRoads/Parking/Pages/InGroundSensors.aspx \n",
      "\n",
      "To create a spatial dataset use the road_segment and the seg_id fields to join the two datasets \n",
      "\n",
      "http://www.melbourne.vic.gov.au/Sustainability/RooftopProject/Pages/Rooftop.aspx \n",
      "\n",
      "http://open.dataforcities.org/ \n",
      "\n",
      "Data will be availible for duration of Open Innovation Competition only.  \n",
      "\n",
      "http://www.arborcarbon.com.au/ \n",
      "\n",
      "https://www.melbourne.vic.gov.au/CommunityServices/SocialSupport/Documents/Helping_Out_Booklet.pdf \n",
      "\n",
      "http://www.melbourne.vic.gov.au/AboutCouncil/financegovernance/Budget/Documents/Annual_Plan_Budget_Document_2014_2015.pdf \n",
      "\n",
      "http://imap.vic.gov.au/uploads/Meeting%20Agendas/2014%20August/Att%207a_IMAP_Energy_Map_-_CSIRO_-_Energy_Use_2011-2026_Report_-_2014June30_-Final_pdf_11.2MB.pdf \n",
      "\n",
      "City Research Branch \n",
      "\n",
      "https://www.melbourne.vic.gov.au/about-council/vision-goals/Pages/annual-plan-budget.aspx \n",
      "\n",
      "http://melbourne.vic.gov.au/clue \n",
      "\n",
      "http://www.melbourne.vic.gov.au/arts-and-culture/events-partnerships/melbourne-conversations/Pages/melbourne-conversations.aspx \n",
      "\n",
      "https://www.melbourne.vic.gov.au/business/waste-recycling/Pages/degraves-street-recycling-facility.aspx \n",
      "\n",
      " http://handle.slv.vic.gov.au/10381/126848  \n",
      "\n",
      "http://www.arborcarbon.com.au/  \n",
      "\n"
     ]
    }
   ],
   "source": [
    "for hi in df1['How-to-use_Further-information'].unique():\n",
    "    print(hi,\"\\n\")"
   ]
  },
  {
   "cell_type": "code",
   "execution_count": 178,
   "metadata": {},
   "outputs": [
    {
     "data": {
      "text/plain": [
       "array([nan, 'Low risk'], dtype=object)"
      ]
     },
     "execution_count": 178,
     "metadata": {},
     "output_type": "execute_result"
    }
   ],
   "source": [
    "df1['Internal-management_IMGF-risk-level'].unique()"
   ]
  },
  {
   "cell_type": "code",
   "execution_count": 181,
   "metadata": {},
   "outputs": [
    {
     "data": {
      "text/plain": [
       "222"
      ]
     },
     "execution_count": 181,
     "metadata": {},
     "output_type": "execute_result"
    }
   ],
   "source": [
    "df1['Internal-management_IMGF-risk-level'].isnull().sum()"
   ]
  },
  {
   "cell_type": "code",
   "execution_count": 176,
   "metadata": {},
   "outputs": [
    {
     "data": {
      "text/plain": [
       "array([nan, 'Scheduled FME job'], dtype=object)"
      ]
     },
     "execution_count": 176,
     "metadata": {},
     "output_type": "execute_result"
    }
   ],
   "source": [
    "df1['Internal-management_Update-mechanism'].unique()"
   ]
  },
  {
   "cell_type": "code",
   "execution_count": 177,
   "metadata": {},
   "outputs": [
    {
     "data": {
      "text/plain": [
       "222"
      ]
     },
     "execution_count": 177,
     "metadata": {},
     "output_type": "execute_result"
    }
   ],
   "source": [
    "df1['Internal-management_Update-mechanism'].isnull().sum()"
   ]
  },
  {
   "cell_type": "code",
   "execution_count": 173,
   "metadata": {},
   "outputs": [
    {
     "data": {
      "text/plain": [
       "array([nan, 'http://www.abs.gov.au/ausstats/abs@.nsf/mf/1292.0',\n",
       "       'http://standards.opencouncildata.org/#/dogzones'], dtype=object)"
      ]
     },
     "execution_count": 173,
     "metadata": {},
     "output_type": "execute_result"
    }
   ],
   "source": [
    "df1['How-to-use_Applicable-standard-(URL)'].unique()"
   ]
  },
  {
   "cell_type": "code",
   "execution_count": 175,
   "metadata": {},
   "outputs": [
    {
     "data": {
      "text/plain": [
       "221"
      ]
     },
     "execution_count": 175,
     "metadata": {},
     "output_type": "execute_result"
    }
   ],
   "source": [
    "df1['How-to-use_Applicable-standard-(URL)'].isnull().sum()"
   ]
  },
  {
   "cell_type": "code",
   "execution_count": 203,
   "metadata": {},
   "outputs": [],
   "source": [
    "# disinterested domain_metadata\n",
    "dis = ['How-to-use_Applicable-standard-(URL)',\\\n",
    "       'Internal-management_Source-system-(GIS,-AssetMaster,-etc)',\n",
    "       'Internal-management_Update-mechanism',\n",
    "       'Internal-management_IMGF-risk-level',\n",
    "       'Melbourne-Metadata_Further-Information',\n",
    "       'Quality_Source-data-update-frequency']"
   ]
  },
  {
   "cell_type": "code",
   "execution_count": 205,
   "metadata": {},
   "outputs": [],
   "source": [
    "df1 = df1.drop(columns=dis)"
   ]
  },
  {
   "cell_type": "code",
   "execution_count": 206,
   "metadata": {},
   "outputs": [
    {
     "name": "stdout",
     "output_type": "stream",
     "text": [
      "<class 'pandas.core.frame.DataFrame'>\n",
      "RangeIndex: 223 entries, 0 to 222\n",
      "Data columns (total 21 columns):\n",
      " #   Column                                        Non-Null Count  Dtype \n",
      "---  ------                                        --------------  ----- \n",
      " 0   name                                          223 non-null    object\n",
      " 1   id                                            223 non-null    object\n",
      " 2   parent_fxf                                    223 non-null    object\n",
      " 3   description                                   223 non-null    object\n",
      " 4   data_upd_at                                   201 non-null    object\n",
      " 5   pv_last_wk                                    223 non-null    int64 \n",
      " 6   pv_last_mth                                   223 non-null    int64 \n",
      " 7   pv_total                                      223 non-null    int64 \n",
      " 8   download_count                                223 non-null    int64 \n",
      " 9   categories                                    223 non-null    object\n",
      " 10  domain_category                               223 non-null    object\n",
      " 11  domain_tags                                   223 non-null    object\n",
      " 12  domain_metadata                               223 non-null    object\n",
      " 13  Quality_What's-included                       149 non-null    object\n",
      " 14  Quality_Update-frequency                      223 non-null    object\n",
      " 15  Quality_Reliability-level                     185 non-null    object\n",
      " 16  How-to-use_Linked-to                          19 non-null     object\n",
      " 17  Data-management_Source-data-update-frequency  223 non-null    object\n",
      " 18  Quality_Known-Issues                          39 non-null     object\n",
      " 19  How-to-use_Further-information                59 non-null     object\n",
      " 20  Quality_Data-quality-statement                71 non-null     object\n",
      "dtypes: int64(4), object(17)\n",
      "memory usage: 36.7+ KB\n"
     ]
    }
   ],
   "source": [
    "df1.info()"
   ]
  },
  {
   "cell_type": "code",
   "execution_count": 207,
   "metadata": {},
   "outputs": [
    {
     "data": {
      "text/html": [
       "<div>\n",
       "<style scoped>\n",
       "    .dataframe tbody tr th:only-of-type {\n",
       "        vertical-align: middle;\n",
       "    }\n",
       "\n",
       "    .dataframe tbody tr th {\n",
       "        vertical-align: top;\n",
       "    }\n",
       "\n",
       "    .dataframe thead th {\n",
       "        text-align: right;\n",
       "    }\n",
       "</style>\n",
       "<table border=\"1\" class=\"dataframe\">\n",
       "  <thead>\n",
       "    <tr style=\"text-align: right;\">\n",
       "      <th></th>\n",
       "      <th>0</th>\n",
       "      <th>1</th>\n",
       "      <th>2</th>\n",
       "      <th>3</th>\n",
       "    </tr>\n",
       "  </thead>\n",
       "  <tbody>\n",
       "    <tr>\n",
       "      <th>name</th>\n",
       "      <td>Pedestrian Counting System - Monthly (counts p...</td>\n",
       "      <td>Tree canopies 2011 (Urban Forest)</td>\n",
       "      <td>Trees, with species and dimensions (Urban Forest)</td>\n",
       "      <td>On-street Parking Bay Sensors</td>\n",
       "    </tr>\n",
       "    <tr>\n",
       "      <th>id</th>\n",
       "      <td>b2ak-trbp</td>\n",
       "      <td>y79a-us3f</td>\n",
       "      <td>fp38-wiyy</td>\n",
       "      <td>vh2v-4nfs</td>\n",
       "    </tr>\n",
       "    <tr>\n",
       "      <th>parent_fxf</th>\n",
       "      <td>[]</td>\n",
       "      <td>[]</td>\n",
       "      <td>[]</td>\n",
       "      <td>[]</td>\n",
       "    </tr>\n",
       "    <tr>\n",
       "      <th>description</th>\n",
       "      <td>This dataset contains hourly pedestrian counts...</td>\n",
       "      <td>Tree canopy within City of Melbourne mapped us...</td>\n",
       "      <td>The City of Melbourne maintains more than 70,0...</td>\n",
       "      <td>Contains information from in-ground car parkin...</td>\n",
       "    </tr>\n",
       "    <tr>\n",
       "      <th>data_upd_at</th>\n",
       "      <td>2021-09-06T01:54:59.000Z</td>\n",
       "      <td>None</td>\n",
       "      <td>2021-09-08T16:06:40.000Z</td>\n",
       "      <td>2021-09-09T04:15:48.000Z</td>\n",
       "    </tr>\n",
       "    <tr>\n",
       "      <th>pv_last_wk</th>\n",
       "      <td>230</td>\n",
       "      <td>23</td>\n",
       "      <td>97</td>\n",
       "      <td>135</td>\n",
       "    </tr>\n",
       "    <tr>\n",
       "      <th>pv_last_mth</th>\n",
       "      <td>1251</td>\n",
       "      <td>102</td>\n",
       "      <td>656</td>\n",
       "      <td>699</td>\n",
       "    </tr>\n",
       "    <tr>\n",
       "      <th>pv_total</th>\n",
       "      <td>71864</td>\n",
       "      <td>66774</td>\n",
       "      <td>38899</td>\n",
       "      <td>37067</td>\n",
       "    </tr>\n",
       "    <tr>\n",
       "      <th>download_count</th>\n",
       "      <td>8507</td>\n",
       "      <td>3178</td>\n",
       "      <td>6233</td>\n",
       "      <td>12079878</td>\n",
       "    </tr>\n",
       "    <tr>\n",
       "      <th>categories</th>\n",
       "      <td>[finance]</td>\n",
       "      <td>[environment]</td>\n",
       "      <td>[environment, demographics]</td>\n",
       "      <td>[transportation, economy]</td>\n",
       "    </tr>\n",
       "    <tr>\n",
       "      <th>domain_category</th>\n",
       "      <td>Transport</td>\n",
       "      <td>Environment</td>\n",
       "      <td>Environment</td>\n",
       "      <td>Transport</td>\n",
       "    </tr>\n",
       "    <tr>\n",
       "      <th>domain_tags</th>\n",
       "      <td>[accessibility, cityreactivation, covid-19, fo...</td>\n",
       "      <td>[citizenreporter, eventsplanner, forest, tree,...</td>\n",
       "      <td>[accessibility, changemaker, citizenreporter, ...</td>\n",
       "      <td>[parking, sensor, near real-time, vacancy, tra...</td>\n",
       "    </tr>\n",
       "    <tr>\n",
       "      <th>domain_metadata</th>\n",
       "      <td>[{'key': 'Quality_What's-included', 'value': '...</td>\n",
       "      <td>[{'key': 'Quality_Update-frequency', 'value': ...</td>\n",
       "      <td>[{'key': 'Quality_Known-Issues', 'value': 'Dat...</td>\n",
       "      <td>[{'key': 'Data-management_Source-data-update-f...</td>\n",
       "    </tr>\n",
       "    <tr>\n",
       "      <th>Quality_What's-included</th>\n",
       "      <td>All data held by the City of Melbourne has bee...</td>\n",
       "      <td>NaN</td>\n",
       "      <td>All data held by the City of Melbourne has bee...</td>\n",
       "      <td>All active sensor readings. Number of sensor r...</td>\n",
       "    </tr>\n",
       "    <tr>\n",
       "      <th>Quality_Update-frequency</th>\n",
       "      <td>Monthly</td>\n",
       "      <td>Static (not updated)</td>\n",
       "      <td>Daily</td>\n",
       "      <td>2 Minutes</td>\n",
       "    </tr>\n",
       "    <tr>\n",
       "      <th>Quality_Reliability-level</th>\n",
       "      <td>Reliable and timely</td>\n",
       "      <td>Useful with caveats</td>\n",
       "      <td>Reliable and timely</td>\n",
       "      <td>Useful with caveats</td>\n",
       "    </tr>\n",
       "    <tr>\n",
       "      <th>How-to-use_Linked-to</th>\n",
       "      <td>http://www.pedestrian.melbourne.vic.gov.au/</td>\n",
       "      <td>NaN</td>\n",
       "      <td>NaN</td>\n",
       "      <td>NaN</td>\n",
       "    </tr>\n",
       "    <tr>\n",
       "      <th>Data-management_Source-data-update-frequency</th>\n",
       "      <td>Hourly</td>\n",
       "      <td>Monthly</td>\n",
       "      <td>Monthly</td>\n",
       "      <td>Real-time</td>\n",
       "    </tr>\n",
       "    <tr>\n",
       "      <th>Quality_Known-Issues</th>\n",
       "      <td>NaN</td>\n",
       "      <td>NaN</td>\n",
       "      <td>Date and year planted fields may have missing ...</td>\n",
       "      <td>Parking Sensors are not operational on Public ...</td>\n",
       "    </tr>\n",
       "    <tr>\n",
       "      <th>How-to-use_Further-information</th>\n",
       "      <td>NaN</td>\n",
       "      <td>NaN</td>\n",
       "      <td>NaN</td>\n",
       "      <td>http://www.melbourne.vic.gov.au/parking-and-tr...</td>\n",
       "    </tr>\n",
       "    <tr>\n",
       "      <th>Quality_Data-quality-statement</th>\n",
       "      <td>NaN</td>\n",
       "      <td>NaN</td>\n",
       "      <td>NaN</td>\n",
       "      <td>NaN</td>\n",
       "    </tr>\n",
       "  </tbody>\n",
       "</table>\n",
       "</div>"
      ],
      "text/plain": [
       "                                                                                              0  \\\n",
       "name                                          Pedestrian Counting System - Monthly (counts p...   \n",
       "id                                                                                    b2ak-trbp   \n",
       "parent_fxf                                                                                   []   \n",
       "description                                   This dataset contains hourly pedestrian counts...   \n",
       "data_upd_at                                                            2021-09-06T01:54:59.000Z   \n",
       "pv_last_wk                                                                                  230   \n",
       "pv_last_mth                                                                                1251   \n",
       "pv_total                                                                                  71864   \n",
       "download_count                                                                             8507   \n",
       "categories                                                                            [finance]   \n",
       "domain_category                                                                       Transport   \n",
       "domain_tags                                   [accessibility, cityreactivation, covid-19, fo...   \n",
       "domain_metadata                               [{'key': 'Quality_What's-included', 'value': '...   \n",
       "Quality_What's-included                       All data held by the City of Melbourne has bee...   \n",
       "Quality_Update-frequency                                                                Monthly   \n",
       "Quality_Reliability-level                                                   Reliable and timely   \n",
       "How-to-use_Linked-to                                http://www.pedestrian.melbourne.vic.gov.au/   \n",
       "Data-management_Source-data-update-frequency                                             Hourly   \n",
       "Quality_Known-Issues                                                                        NaN   \n",
       "How-to-use_Further-information                                                              NaN   \n",
       "Quality_Data-quality-statement                                                              NaN   \n",
       "\n",
       "                                                                                              1  \\\n",
       "name                                                          Tree canopies 2011 (Urban Forest)   \n",
       "id                                                                                    y79a-us3f   \n",
       "parent_fxf                                                                                   []   \n",
       "description                                   Tree canopy within City of Melbourne mapped us...   \n",
       "data_upd_at                                                                                None   \n",
       "pv_last_wk                                                                                   23   \n",
       "pv_last_mth                                                                                 102   \n",
       "pv_total                                                                                  66774   \n",
       "download_count                                                                             3178   \n",
       "categories                                                                        [environment]   \n",
       "domain_category                                                                     Environment   \n",
       "domain_tags                                   [citizenreporter, eventsplanner, forest, tree,...   \n",
       "domain_metadata                               [{'key': 'Quality_Update-frequency', 'value': ...   \n",
       "Quality_What's-included                                                                     NaN   \n",
       "Quality_Update-frequency                                                   Static (not updated)   \n",
       "Quality_Reliability-level                                                   Useful with caveats   \n",
       "How-to-use_Linked-to                                                                        NaN   \n",
       "Data-management_Source-data-update-frequency                                            Monthly   \n",
       "Quality_Known-Issues                                                                        NaN   \n",
       "How-to-use_Further-information                                                              NaN   \n",
       "Quality_Data-quality-statement                                                              NaN   \n",
       "\n",
       "                                                                                              2  \\\n",
       "name                                          Trees, with species and dimensions (Urban Forest)   \n",
       "id                                                                                    fp38-wiyy   \n",
       "parent_fxf                                                                                   []   \n",
       "description                                   The City of Melbourne maintains more than 70,0...   \n",
       "data_upd_at                                                            2021-09-08T16:06:40.000Z   \n",
       "pv_last_wk                                                                                   97   \n",
       "pv_last_mth                                                                                 656   \n",
       "pv_total                                                                                  38899   \n",
       "download_count                                                                             6233   \n",
       "categories                                                          [environment, demographics]   \n",
       "domain_category                                                                     Environment   \n",
       "domain_tags                                   [accessibility, changemaker, citizenreporter, ...   \n",
       "domain_metadata                               [{'key': 'Quality_Known-Issues', 'value': 'Dat...   \n",
       "Quality_What's-included                       All data held by the City of Melbourne has bee...   \n",
       "Quality_Update-frequency                                                                  Daily   \n",
       "Quality_Reliability-level                                                   Reliable and timely   \n",
       "How-to-use_Linked-to                                                                        NaN   \n",
       "Data-management_Source-data-update-frequency                                            Monthly   \n",
       "Quality_Known-Issues                          Date and year planted fields may have missing ...   \n",
       "How-to-use_Further-information                                                              NaN   \n",
       "Quality_Data-quality-statement                                                              NaN   \n",
       "\n",
       "                                                                                              3  \n",
       "name                                                              On-street Parking Bay Sensors  \n",
       "id                                                                                    vh2v-4nfs  \n",
       "parent_fxf                                                                                   []  \n",
       "description                                   Contains information from in-ground car parkin...  \n",
       "data_upd_at                                                            2021-09-09T04:15:48.000Z  \n",
       "pv_last_wk                                                                                  135  \n",
       "pv_last_mth                                                                                 699  \n",
       "pv_total                                                                                  37067  \n",
       "download_count                                                                         12079878  \n",
       "categories                                                            [transportation, economy]  \n",
       "domain_category                                                                       Transport  \n",
       "domain_tags                                   [parking, sensor, near real-time, vacancy, tra...  \n",
       "domain_metadata                               [{'key': 'Data-management_Source-data-update-f...  \n",
       "Quality_What's-included                       All active sensor readings. Number of sensor r...  \n",
       "Quality_Update-frequency                                                              2 Minutes  \n",
       "Quality_Reliability-level                                                   Useful with caveats  \n",
       "How-to-use_Linked-to                                                                        NaN  \n",
       "Data-management_Source-data-update-frequency                                          Real-time  \n",
       "Quality_Known-Issues                          Parking Sensors are not operational on Public ...  \n",
       "How-to-use_Further-information                http://www.melbourne.vic.gov.au/parking-and-tr...  \n",
       "Quality_Data-quality-statement                                                              NaN  "
      ]
     },
     "execution_count": 207,
     "metadata": {},
     "output_type": "execute_result"
    }
   ],
   "source": [
    "df1.head(4).T"
   ]
  },
  {
   "cell_type": "code",
   "execution_count": null,
   "metadata": {},
   "outputs": [],
   "source": [
    "# above extraction and refinement of interested meta data on datasets retrieved\n",
    "# is consolidated in df1 above\n",
    "\n",
    "## NEXT\n",
    "\n",
    "# check Oscar's text processing / NLP / clustering code to try improve deliverable\n",
    "# try to use my df1 above with Oscar's smarts to produce useful output\n",
    "# for those users searching / looking / trying to understand CoM Open Data datasets"
   ]
  }
 ],
 "metadata": {
  "interpreter": {
   "hash": "fd69f43f58546b570e94fd7eba7b65e6bcc7a5bbc4eab0408017d18902915d69"
  },
  "kernelspec": {
   "display_name": "Python 3",
   "language": "python",
   "name": "python3"
  },
  "language_info": {
   "codemirror_mode": {
    "name": "ipython",
    "version": 3
   },
   "file_extension": ".py",
   "mimetype": "text/x-python",
   "name": "python",
   "nbconvert_exporter": "python",
   "pygments_lexer": "ipython3",
   "version": "3.7.11"
  }
 },
 "nbformat": 4,
 "nbformat_minor": 2
}
