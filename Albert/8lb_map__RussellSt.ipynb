{
 "cells": [
  {
   "cell_type": "code",
   "execution_count": 1,
   "metadata": {},
   "outputs": [],
   "source": [
    "# https://plotly.com/python/mapbox-layers/\n",
    "# https://plotly.com/python/discrete-color/"
   ]
  },
  {
   "cell_type": "code",
   "execution_count": 1,
   "metadata": {},
   "outputs": [],
   "source": [
    "import os\n",
    "import pandas as pd\n",
    "import matplotlib.pyplot as plt\n",
    "import geopandas\n",
    "import plotly.express as px\n",
    "from shapely.geometry import Polygon, Point\n",
    "from sodapy import Socrata\n",
    "from d2i_tools import *\n",
    "pd.options.mode.chained_assignment = None  # default='warn'\n",
    "\n",
    "# read live status\n",
    "def read_current_parkingSensors():\n",
    "    cols = [\"st_marker_id\", \"status\", \n",
    "#             \"disabilityext1\",\"duration1\",\"effectiveonph1\",\n",
    "#             \"endtime1\",\"exemption1\",\"fromday1\",\"starttime1\",\"today1\",\"typedesc1\",\n",
    "#             \"description1\", \"description2\",\"description3\",\"description4\",\"description5\",\"description6\",\n",
    "            \"bay_id\"]\n",
    "\n",
    "    apptoken = os.environ.get(\"SODAPY_APPTOKEN\")\n",
    "    domain = \"data.melbourne.vic.gov.au\"\n",
    "    client = Socrata(domain, apptoken)\n",
    "\n",
    "    r1 = client.get_all('vh2v-4nfs')  # read current parking sensors snapshot available\n",
    "    r2 = client.get_all(\"ntht-5rk7\")  # read parking restrictions records of all bays\n",
    "\n",
    "    df1 = pd.DataFrame.from_dict(r1)\n",
    "    df2 = pd.DataFrame.from_dict(r2)\n",
    "    df = pd.merge(df1, df2, left_on='bay_id', right_on='bayid', how='left')\n",
    "    df = df[cols].rename(columns={'st_marker_id':'marker_id'})\n",
    "    return df\n",
    "\n",
    "def create_fullUpdate(df):\n",
    "    gdf = geopandas.read_file(\"datasets/onStreetParkingBays_baselist_bayCentroid.geojson\")\n",
    "    gdf[\"marker_id\"] = gdf[\"marker_id\"].str.upper()\n",
    "    df[\"marker_id\"] = df[\"marker_id\"].str.upper()\n",
    "    ngdf = gdf.merge(df, how=\"outer\", on=\"marker_id\").drop_duplicates()\n",
    "    ngdf[\"status\"] = ngdf[\"status\"].fillna(\"unknown\")\n",
    "    ngdf = ngdf.drop(columns=[\"rd_seg_id\",\"rd_seg_dsc\"])\n",
    "    print(f\"{ngdf.shape[0]} parking sensors in full base list.\")\n",
    "    return ngdf\n",
    "\n",
    "def plot_map(df,map_height=400,map_zoom=12, marker_max=9):\n",
    "    fig = px.scatter_mapbox(df, lat=\"lati\", lon=\"long\", hover_name=\"marker_id\", #hover_data=[\"description1\",\"description2\",\"description3\",\"description4\",\"description5\",\"description6\"],\n",
    "                                color=\"status\", size=\"area_m2\", size_max=marker_max, zoom=map_zoom, height=map_height,\n",
    "                                color_discrete_map={\n",
    "                                    \"unknown\":\"gray\", \"Unoccupied\":\"green\", \"Present\":\"red\"},\n",
    "                                category_orders={\"status\": [\"unknown\", \"Unoccupied\", \"Present\"]})\n",
    "    # fig.update_layout(mapbox_style=\"open-street-map\")\n",
    "    fig.update_layout(mapbox_style=\"carto-positron\")\n",
    "    fig.update_layout(margin={\"r\":0,\"t\":0,\"l\":0,\"b\":0})\n",
    "    fig.show()"
   ]
  },
  {
   "cell_type": "code",
   "execution_count": 2,
   "metadata": {},
   "outputs": [
    {
     "name": "stderr",
     "output_type": "stream",
     "text": [
      "WARNING:root:Requests made without an app_token will be subject to strict throttling limits.\n"
     ]
    },
    {
     "name": "stdout",
     "output_type": "stream",
     "text": [
      "5895 parking sensors in full base list.\n",
      "Number of current status records of parking sensors read : 1238\n",
      "Number of current available parking bays : 969 (78.3% of total)\n",
      "Number of current unavailable parking bays : 269 (21.7% of total)\n"
     ]
    },
    {
     "data": {
      "text/plain": [
       "(1238, 269, 969)"
      ]
     },
     "execution_count": 2,
     "metadata": {},
     "output_type": "execute_result"
    }
   ],
   "source": [
    "dfrc = read_current_parkingSensors()\n",
    "ngdf = create_fullUpdate(dfrc)\n",
    "# plot_map(ngdf,map_height=500,map_zoom=12, marker_max=9)\n",
    "getCurrentPSstatus(dfrc)"
   ]
  },
  {
   "cell_type": "code",
   "execution_count": 4,
   "metadata": {},
   "outputs": [
    {
     "name": "stdout",
     "output_type": "stream",
     "text": [
      "34 parking sensors filtered.\n"
     ]
    },
    {
     "data": {
      "application/vnd.plotly.v1+json": {
       "config": {
        "plotlyServerURL": "https://plot.ly"
       },
       "data": [
        {
         "hovertemplate": "<b>%{hovertext}</b><br><br>status=unknown<br>area_m2=%{marker.size}<br>lati=%{lat}<br>long=%{lon}<extra></extra>",
         "hovertext": [
          "779W",
          "775W",
          "773W",
          "C826",
          "C794",
          "785W",
          "793W",
          "771W",
          "C782",
          "C828",
          "787W",
          "C786",
          "C814",
          "797W",
          "812E",
          "781W"
         ],
         "lat": [
          -37.812166650190164,
          -37.812217547473516,
          -37.812268425085705,
          -37.811210910839044,
          -37.81147461810485,
          -37.81165522128952,
          -37.811440707482916,
          -37.81231930146783,
          -37.811645816829966,
          -37.81118718758481,
          -37.81160148486982,
          -37.81161963951993,
          -37.81133016999849,
          -37.81133408262616,
          -37.81129715687392,
          -37.812111599696536
         ],
         "legendgroup": "unknown",
         "lon": [
          144.9676823429786,
          144.96770541667195,
          144.9677284423487,
          144.96736838871774,
          144.96748890197145,
          144.9674479981744,
          144.9673490762077,
          144.96775142816045,
          144.96756685874647,
          144.96735757458308,
          144.96742318211088,
          144.96755496941608,
          144.96742283733386,
          144.96729994191128,
          144.96753327827437,
          144.9676573353609
         ],
         "marker": {
          "color": "gray",
          "size": [
           7.889814626111494,
           7.878075996526801,
           7.890656738375341,
           9.269597439671557,
           7.944727277484621,
           8.410276581795166,
           8.22950907881124,
           7.902706855504261,
           10.790928770799855,
           9.269592300422616,
           8.24398981486797,
           9.657763180222188,
           8.938615382233877,
           8.227798887719363,
           7.866737024600014,
           9.235021311993322
          ],
          "sizemode": "area",
          "sizeref": 0.13430048490311045
         },
         "mode": "markers",
         "name": "unknown",
         "showlegend": true,
         "subplot": "mapbox",
         "type": "scattermapbox"
        },
        {
         "hovertemplate": "<b>%{hovertext}</b><br><br>status=Unoccupied<br>area_m2=%{marker.size}<br>lati=%{lat}<br>long=%{lon}<extra></extra>",
         "hovertext": [
          "C830",
          "C824",
          "C810",
          "816E",
          "791W",
          "789W",
          "C822",
          "783W",
          "767WA",
          "770E",
          "769W"
         ],
         "lat": [
          -37.811163887956,
          -37.8112342104568,
          -37.811353469455206,
          -37.81124640185975,
          -37.8114944375665,
          -37.81154816953953,
          -37.811257509886026,
          -37.81205652026344,
          -37.8124361684757,
          -37.81246045048081,
          -37.81236882798661
         ],
         "legendgroup": "Unoccupied",
         "lon": [
          144.96734695309635,
          144.96737901042167,
          144.96743345871823,
          144.967509827043,
          144.96737383701324,
          144.96739859809168,
          144.96738963162315,
          144.96763236890683,
          144.96780392803862,
          144.9680646380647,
          144.96777379580084
         ],
         "marker": {
          "color": "green",
          "size": [
           8.938581395515184,
           8.938578297388853,
           9.269504104307439,
           7.894740719105217,
           8.362079079146165,
           8.233491277513526,
           9.269343960737238,
           7.988355907880968,
           13.430048490311044,
           7.87474676182072,
           7.474788051485434
          ],
          "sizemode": "area",
          "sizeref": 0.13430048490311045
         },
         "mode": "markers",
         "name": "Unoccupied",
         "showlegend": true,
         "subplot": "mapbox",
         "type": "scattermapbox"
        },
        {
         "hovertemplate": "<b>%{hovertext}</b><br><br>status=Present<br>area_m2=%{marker.size}<br>lati=%{lat}<br>long=%{lon}<extra></extra>",
         "hovertext": [
          "C802",
          "795W",
          "C806",
          "C818",
          "C790",
          "C798",
          "780E"
         ],
         "lat": [
          -37.811401762772974,
          -37.81138739652082,
          -37.8113780395964,
          -37.81130687055893,
          -37.81157057092693,
          -37.811425485948675,
          -37.811950442755844
         ],
         "legendgroup": "Present",
         "lon": [
          144.96745547391532,
          144.96732450989526,
          144.96744465947432,
          144.96741221642878,
          144.967532343859,
          144.96746628836354,
          144.9678286317583
         ],
         "marker": {
          "color": "red",
          "size": [
           8.607422245586399,
           8.229133558442543,
           9.931775845346667,
           9.269473774669828,
           8.276653033913558,
           9.93178647451457,
           8.878629089970332
          ],
          "sizemode": "area",
          "sizeref": 0.13430048490311045
         },
         "mode": "markers",
         "name": "Present",
         "showlegend": true,
         "subplot": "mapbox",
         "type": "scattermapbox"
        }
       ],
       "layout": {
        "height": 300,
        "legend": {
         "itemsizing": "constant",
         "title": {
          "text": "status"
         },
         "tracegroupgap": 0
        },
        "mapbox": {
         "center": {
          "lat": -37.81164473949825,
          "lon": 144.96752671010236
         },
         "domain": {
          "x": [
           0,
           1
          ],
          "y": [
           0,
           1
          ]
         },
         "style": "carto-positron",
         "zoom": 15
        },
        "margin": {
         "b": 0,
         "l": 0,
         "r": 0,
         "t": 0
        },
        "template": {
         "data": {
          "bar": [
           {
            "error_x": {
             "color": "#2a3f5f"
            },
            "error_y": {
             "color": "#2a3f5f"
            },
            "marker": {
             "line": {
              "color": "#E5ECF6",
              "width": 0.5
             },
             "pattern": {
              "fillmode": "overlay",
              "size": 10,
              "solidity": 0.2
             }
            },
            "type": "bar"
           }
          ],
          "barpolar": [
           {
            "marker": {
             "line": {
              "color": "#E5ECF6",
              "width": 0.5
             },
             "pattern": {
              "fillmode": "overlay",
              "size": 10,
              "solidity": 0.2
             }
            },
            "type": "barpolar"
           }
          ],
          "carpet": [
           {
            "aaxis": {
             "endlinecolor": "#2a3f5f",
             "gridcolor": "white",
             "linecolor": "white",
             "minorgridcolor": "white",
             "startlinecolor": "#2a3f5f"
            },
            "baxis": {
             "endlinecolor": "#2a3f5f",
             "gridcolor": "white",
             "linecolor": "white",
             "minorgridcolor": "white",
             "startlinecolor": "#2a3f5f"
            },
            "type": "carpet"
           }
          ],
          "choropleth": [
           {
            "colorbar": {
             "outlinewidth": 0,
             "ticks": ""
            },
            "type": "choropleth"
           }
          ],
          "contour": [
           {
            "colorbar": {
             "outlinewidth": 0,
             "ticks": ""
            },
            "colorscale": [
             [
              0,
              "#0d0887"
             ],
             [
              0.1111111111111111,
              "#46039f"
             ],
             [
              0.2222222222222222,
              "#7201a8"
             ],
             [
              0.3333333333333333,
              "#9c179e"
             ],
             [
              0.4444444444444444,
              "#bd3786"
             ],
             [
              0.5555555555555556,
              "#d8576b"
             ],
             [
              0.6666666666666666,
              "#ed7953"
             ],
             [
              0.7777777777777778,
              "#fb9f3a"
             ],
             [
              0.8888888888888888,
              "#fdca26"
             ],
             [
              1,
              "#f0f921"
             ]
            ],
            "type": "contour"
           }
          ],
          "contourcarpet": [
           {
            "colorbar": {
             "outlinewidth": 0,
             "ticks": ""
            },
            "type": "contourcarpet"
           }
          ],
          "heatmap": [
           {
            "colorbar": {
             "outlinewidth": 0,
             "ticks": ""
            },
            "colorscale": [
             [
              0,
              "#0d0887"
             ],
             [
              0.1111111111111111,
              "#46039f"
             ],
             [
              0.2222222222222222,
              "#7201a8"
             ],
             [
              0.3333333333333333,
              "#9c179e"
             ],
             [
              0.4444444444444444,
              "#bd3786"
             ],
             [
              0.5555555555555556,
              "#d8576b"
             ],
             [
              0.6666666666666666,
              "#ed7953"
             ],
             [
              0.7777777777777778,
              "#fb9f3a"
             ],
             [
              0.8888888888888888,
              "#fdca26"
             ],
             [
              1,
              "#f0f921"
             ]
            ],
            "type": "heatmap"
           }
          ],
          "heatmapgl": [
           {
            "colorbar": {
             "outlinewidth": 0,
             "ticks": ""
            },
            "colorscale": [
             [
              0,
              "#0d0887"
             ],
             [
              0.1111111111111111,
              "#46039f"
             ],
             [
              0.2222222222222222,
              "#7201a8"
             ],
             [
              0.3333333333333333,
              "#9c179e"
             ],
             [
              0.4444444444444444,
              "#bd3786"
             ],
             [
              0.5555555555555556,
              "#d8576b"
             ],
             [
              0.6666666666666666,
              "#ed7953"
             ],
             [
              0.7777777777777778,
              "#fb9f3a"
             ],
             [
              0.8888888888888888,
              "#fdca26"
             ],
             [
              1,
              "#f0f921"
             ]
            ],
            "type": "heatmapgl"
           }
          ],
          "histogram": [
           {
            "marker": {
             "pattern": {
              "fillmode": "overlay",
              "size": 10,
              "solidity": 0.2
             }
            },
            "type": "histogram"
           }
          ],
          "histogram2d": [
           {
            "colorbar": {
             "outlinewidth": 0,
             "ticks": ""
            },
            "colorscale": [
             [
              0,
              "#0d0887"
             ],
             [
              0.1111111111111111,
              "#46039f"
             ],
             [
              0.2222222222222222,
              "#7201a8"
             ],
             [
              0.3333333333333333,
              "#9c179e"
             ],
             [
              0.4444444444444444,
              "#bd3786"
             ],
             [
              0.5555555555555556,
              "#d8576b"
             ],
             [
              0.6666666666666666,
              "#ed7953"
             ],
             [
              0.7777777777777778,
              "#fb9f3a"
             ],
             [
              0.8888888888888888,
              "#fdca26"
             ],
             [
              1,
              "#f0f921"
             ]
            ],
            "type": "histogram2d"
           }
          ],
          "histogram2dcontour": [
           {
            "colorbar": {
             "outlinewidth": 0,
             "ticks": ""
            },
            "colorscale": [
             [
              0,
              "#0d0887"
             ],
             [
              0.1111111111111111,
              "#46039f"
             ],
             [
              0.2222222222222222,
              "#7201a8"
             ],
             [
              0.3333333333333333,
              "#9c179e"
             ],
             [
              0.4444444444444444,
              "#bd3786"
             ],
             [
              0.5555555555555556,
              "#d8576b"
             ],
             [
              0.6666666666666666,
              "#ed7953"
             ],
             [
              0.7777777777777778,
              "#fb9f3a"
             ],
             [
              0.8888888888888888,
              "#fdca26"
             ],
             [
              1,
              "#f0f921"
             ]
            ],
            "type": "histogram2dcontour"
           }
          ],
          "mesh3d": [
           {
            "colorbar": {
             "outlinewidth": 0,
             "ticks": ""
            },
            "type": "mesh3d"
           }
          ],
          "parcoords": [
           {
            "line": {
             "colorbar": {
              "outlinewidth": 0,
              "ticks": ""
             }
            },
            "type": "parcoords"
           }
          ],
          "pie": [
           {
            "automargin": true,
            "type": "pie"
           }
          ],
          "scatter": [
           {
            "marker": {
             "colorbar": {
              "outlinewidth": 0,
              "ticks": ""
             }
            },
            "type": "scatter"
           }
          ],
          "scatter3d": [
           {
            "line": {
             "colorbar": {
              "outlinewidth": 0,
              "ticks": ""
             }
            },
            "marker": {
             "colorbar": {
              "outlinewidth": 0,
              "ticks": ""
             }
            },
            "type": "scatter3d"
           }
          ],
          "scattercarpet": [
           {
            "marker": {
             "colorbar": {
              "outlinewidth": 0,
              "ticks": ""
             }
            },
            "type": "scattercarpet"
           }
          ],
          "scattergeo": [
           {
            "marker": {
             "colorbar": {
              "outlinewidth": 0,
              "ticks": ""
             }
            },
            "type": "scattergeo"
           }
          ],
          "scattergl": [
           {
            "marker": {
             "colorbar": {
              "outlinewidth": 0,
              "ticks": ""
             }
            },
            "type": "scattergl"
           }
          ],
          "scattermapbox": [
           {
            "marker": {
             "colorbar": {
              "outlinewidth": 0,
              "ticks": ""
             }
            },
            "type": "scattermapbox"
           }
          ],
          "scatterpolar": [
           {
            "marker": {
             "colorbar": {
              "outlinewidth": 0,
              "ticks": ""
             }
            },
            "type": "scatterpolar"
           }
          ],
          "scatterpolargl": [
           {
            "marker": {
             "colorbar": {
              "outlinewidth": 0,
              "ticks": ""
             }
            },
            "type": "scatterpolargl"
           }
          ],
          "scatterternary": [
           {
            "marker": {
             "colorbar": {
              "outlinewidth": 0,
              "ticks": ""
             }
            },
            "type": "scatterternary"
           }
          ],
          "surface": [
           {
            "colorbar": {
             "outlinewidth": 0,
             "ticks": ""
            },
            "colorscale": [
             [
              0,
              "#0d0887"
             ],
             [
              0.1111111111111111,
              "#46039f"
             ],
             [
              0.2222222222222222,
              "#7201a8"
             ],
             [
              0.3333333333333333,
              "#9c179e"
             ],
             [
              0.4444444444444444,
              "#bd3786"
             ],
             [
              0.5555555555555556,
              "#d8576b"
             ],
             [
              0.6666666666666666,
              "#ed7953"
             ],
             [
              0.7777777777777778,
              "#fb9f3a"
             ],
             [
              0.8888888888888888,
              "#fdca26"
             ],
             [
              1,
              "#f0f921"
             ]
            ],
            "type": "surface"
           }
          ],
          "table": [
           {
            "cells": {
             "fill": {
              "color": "#EBF0F8"
             },
             "line": {
              "color": "white"
             }
            },
            "header": {
             "fill": {
              "color": "#C8D4E3"
             },
             "line": {
              "color": "white"
             }
            },
            "type": "table"
           }
          ]
         },
         "layout": {
          "annotationdefaults": {
           "arrowcolor": "#2a3f5f",
           "arrowhead": 0,
           "arrowwidth": 1
          },
          "autotypenumbers": "strict",
          "coloraxis": {
           "colorbar": {
            "outlinewidth": 0,
            "ticks": ""
           }
          },
          "colorscale": {
           "diverging": [
            [
             0,
             "#8e0152"
            ],
            [
             0.1,
             "#c51b7d"
            ],
            [
             0.2,
             "#de77ae"
            ],
            [
             0.3,
             "#f1b6da"
            ],
            [
             0.4,
             "#fde0ef"
            ],
            [
             0.5,
             "#f7f7f7"
            ],
            [
             0.6,
             "#e6f5d0"
            ],
            [
             0.7,
             "#b8e186"
            ],
            [
             0.8,
             "#7fbc41"
            ],
            [
             0.9,
             "#4d9221"
            ],
            [
             1,
             "#276419"
            ]
           ],
           "sequential": [
            [
             0,
             "#0d0887"
            ],
            [
             0.1111111111111111,
             "#46039f"
            ],
            [
             0.2222222222222222,
             "#7201a8"
            ],
            [
             0.3333333333333333,
             "#9c179e"
            ],
            [
             0.4444444444444444,
             "#bd3786"
            ],
            [
             0.5555555555555556,
             "#d8576b"
            ],
            [
             0.6666666666666666,
             "#ed7953"
            ],
            [
             0.7777777777777778,
             "#fb9f3a"
            ],
            [
             0.8888888888888888,
             "#fdca26"
            ],
            [
             1,
             "#f0f921"
            ]
           ],
           "sequentialminus": [
            [
             0,
             "#0d0887"
            ],
            [
             0.1111111111111111,
             "#46039f"
            ],
            [
             0.2222222222222222,
             "#7201a8"
            ],
            [
             0.3333333333333333,
             "#9c179e"
            ],
            [
             0.4444444444444444,
             "#bd3786"
            ],
            [
             0.5555555555555556,
             "#d8576b"
            ],
            [
             0.6666666666666666,
             "#ed7953"
            ],
            [
             0.7777777777777778,
             "#fb9f3a"
            ],
            [
             0.8888888888888888,
             "#fdca26"
            ],
            [
             1,
             "#f0f921"
            ]
           ]
          },
          "colorway": [
           "#636efa",
           "#EF553B",
           "#00cc96",
           "#ab63fa",
           "#FFA15A",
           "#19d3f3",
           "#FF6692",
           "#B6E880",
           "#FF97FF",
           "#FECB52"
          ],
          "font": {
           "color": "#2a3f5f"
          },
          "geo": {
           "bgcolor": "white",
           "lakecolor": "white",
           "landcolor": "#E5ECF6",
           "showlakes": true,
           "showland": true,
           "subunitcolor": "white"
          },
          "hoverlabel": {
           "align": "left"
          },
          "hovermode": "closest",
          "mapbox": {
           "style": "light"
          },
          "paper_bgcolor": "white",
          "plot_bgcolor": "#E5ECF6",
          "polar": {
           "angularaxis": {
            "gridcolor": "white",
            "linecolor": "white",
            "ticks": ""
           },
           "bgcolor": "#E5ECF6",
           "radialaxis": {
            "gridcolor": "white",
            "linecolor": "white",
            "ticks": ""
           }
          },
          "scene": {
           "xaxis": {
            "backgroundcolor": "#E5ECF6",
            "gridcolor": "white",
            "gridwidth": 2,
            "linecolor": "white",
            "showbackground": true,
            "ticks": "",
            "zerolinecolor": "white"
           },
           "yaxis": {
            "backgroundcolor": "#E5ECF6",
            "gridcolor": "white",
            "gridwidth": 2,
            "linecolor": "white",
            "showbackground": true,
            "ticks": "",
            "zerolinecolor": "white"
           },
           "zaxis": {
            "backgroundcolor": "#E5ECF6",
            "gridcolor": "white",
            "gridwidth": 2,
            "linecolor": "white",
            "showbackground": true,
            "ticks": "",
            "zerolinecolor": "white"
           }
          },
          "shapedefaults": {
           "line": {
            "color": "#2a3f5f"
           }
          },
          "ternary": {
           "aaxis": {
            "gridcolor": "white",
            "linecolor": "white",
            "ticks": ""
           },
           "baxis": {
            "gridcolor": "white",
            "linecolor": "white",
            "ticks": ""
           },
           "bgcolor": "#E5ECF6",
           "caxis": {
            "gridcolor": "white",
            "linecolor": "white",
            "ticks": ""
           }
          },
          "title": {
           "x": 0.05
          },
          "xaxis": {
           "automargin": true,
           "gridcolor": "white",
           "linecolor": "white",
           "ticks": "",
           "title": {
            "standoff": 15
           },
           "zerolinecolor": "white",
           "zerolinewidth": 2
          },
          "yaxis": {
           "automargin": true,
           "gridcolor": "white",
           "linecolor": "white",
           "ticks": "",
           "title": {
            "standoff": 15
           },
           "zerolinecolor": "white",
           "zerolinewidth": 2
          }
         }
        }
       }
      },
      "text/html": [
       "<div>                            <div id=\"5ff9ad8a-0e80-472e-94ea-924572ac1bb9\" class=\"plotly-graph-div\" style=\"height:300px; width:100%;\"></div>            <script type=\"text/javascript\">                require([\"plotly\"], function(Plotly) {                    window.PLOTLYENV=window.PLOTLYENV || {};                                    if (document.getElementById(\"5ff9ad8a-0e80-472e-94ea-924572ac1bb9\")) {                    Plotly.newPlot(                        \"5ff9ad8a-0e80-472e-94ea-924572ac1bb9\",                        [{\"hovertemplate\":\"<b>%{hovertext}</b><br><br>status=unknown<br>area_m2=%{marker.size}<br>lati=%{lat}<br>long=%{lon}<extra></extra>\",\"hovertext\":[\"779W\",\"775W\",\"773W\",\"C826\",\"C794\",\"785W\",\"793W\",\"771W\",\"C782\",\"C828\",\"787W\",\"C786\",\"C814\",\"797W\",\"812E\",\"781W\"],\"lat\":[-37.812166650190164,-37.812217547473516,-37.812268425085705,-37.811210910839044,-37.81147461810485,-37.81165522128952,-37.811440707482916,-37.81231930146783,-37.811645816829966,-37.81118718758481,-37.81160148486982,-37.81161963951993,-37.81133016999849,-37.81133408262616,-37.81129715687392,-37.812111599696536],\"legendgroup\":\"unknown\",\"lon\":[144.9676823429786,144.96770541667195,144.9677284423487,144.96736838871774,144.96748890197145,144.9674479981744,144.9673490762077,144.96775142816045,144.96756685874647,144.96735757458308,144.96742318211088,144.96755496941608,144.96742283733386,144.96729994191128,144.96753327827437,144.9676573353609],\"marker\":{\"color\":\"gray\",\"size\":[7.889814626111494,7.878075996526801,7.890656738375341,9.269597439671557,7.944727277484621,8.410276581795166,8.22950907881124,7.902706855504261,10.790928770799855,9.269592300422616,8.24398981486797,9.657763180222188,8.938615382233877,8.227798887719363,7.866737024600014,9.235021311993322],\"sizemode\":\"area\",\"sizeref\":0.13430048490311045},\"mode\":\"markers\",\"name\":\"unknown\",\"showlegend\":true,\"subplot\":\"mapbox\",\"type\":\"scattermapbox\"},{\"hovertemplate\":\"<b>%{hovertext}</b><br><br>status=Unoccupied<br>area_m2=%{marker.size}<br>lati=%{lat}<br>long=%{lon}<extra></extra>\",\"hovertext\":[\"C830\",\"C824\",\"C810\",\"816E\",\"791W\",\"789W\",\"C822\",\"783W\",\"767WA\",\"770E\",\"769W\"],\"lat\":[-37.811163887956,-37.8112342104568,-37.811353469455206,-37.81124640185975,-37.8114944375665,-37.81154816953953,-37.811257509886026,-37.81205652026344,-37.8124361684757,-37.81246045048081,-37.81236882798661],\"legendgroup\":\"Unoccupied\",\"lon\":[144.96734695309635,144.96737901042167,144.96743345871823,144.967509827043,144.96737383701324,144.96739859809168,144.96738963162315,144.96763236890683,144.96780392803862,144.9680646380647,144.96777379580084],\"marker\":{\"color\":\"green\",\"size\":[8.938581395515184,8.938578297388853,9.269504104307439,7.894740719105217,8.362079079146165,8.233491277513526,9.269343960737238,7.988355907880968,13.430048490311044,7.87474676182072,7.474788051485434],\"sizemode\":\"area\",\"sizeref\":0.13430048490311045},\"mode\":\"markers\",\"name\":\"Unoccupied\",\"showlegend\":true,\"subplot\":\"mapbox\",\"type\":\"scattermapbox\"},{\"hovertemplate\":\"<b>%{hovertext}</b><br><br>status=Present<br>area_m2=%{marker.size}<br>lati=%{lat}<br>long=%{lon}<extra></extra>\",\"hovertext\":[\"C802\",\"795W\",\"C806\",\"C818\",\"C790\",\"C798\",\"780E\"],\"lat\":[-37.811401762772974,-37.81138739652082,-37.8113780395964,-37.81130687055893,-37.81157057092693,-37.811425485948675,-37.811950442755844],\"legendgroup\":\"Present\",\"lon\":[144.96745547391532,144.96732450989526,144.96744465947432,144.96741221642878,144.967532343859,144.96746628836354,144.9678286317583],\"marker\":{\"color\":\"red\",\"size\":[8.607422245586399,8.229133558442543,9.931775845346667,9.269473774669828,8.276653033913558,9.93178647451457,8.878629089970332],\"sizemode\":\"area\",\"sizeref\":0.13430048490311045},\"mode\":\"markers\",\"name\":\"Present\",\"showlegend\":true,\"subplot\":\"mapbox\",\"type\":\"scattermapbox\"}],                        {\"height\":300,\"legend\":{\"itemsizing\":\"constant\",\"title\":{\"text\":\"status\"},\"tracegroupgap\":0},\"mapbox\":{\"center\":{\"lat\":-37.81164473949825,\"lon\":144.96752671010236},\"domain\":{\"x\":[0.0,1.0],\"y\":[0.0,1.0]},\"style\":\"carto-positron\",\"zoom\":15},\"margin\":{\"b\":0,\"l\":0,\"r\":0,\"t\":0},\"template\":{\"data\":{\"bar\":[{\"error_x\":{\"color\":\"#2a3f5f\"},\"error_y\":{\"color\":\"#2a3f5f\"},\"marker\":{\"line\":{\"color\":\"#E5ECF6\",\"width\":0.5},\"pattern\":{\"fillmode\":\"overlay\",\"size\":10,\"solidity\":0.2}},\"type\":\"bar\"}],\"barpolar\":[{\"marker\":{\"line\":{\"color\":\"#E5ECF6\",\"width\":0.5},\"pattern\":{\"fillmode\":\"overlay\",\"size\":10,\"solidity\":0.2}},\"type\":\"barpolar\"}],\"carpet\":[{\"aaxis\":{\"endlinecolor\":\"#2a3f5f\",\"gridcolor\":\"white\",\"linecolor\":\"white\",\"minorgridcolor\":\"white\",\"startlinecolor\":\"#2a3f5f\"},\"baxis\":{\"endlinecolor\":\"#2a3f5f\",\"gridcolor\":\"white\",\"linecolor\":\"white\",\"minorgridcolor\":\"white\",\"startlinecolor\":\"#2a3f5f\"},\"type\":\"carpet\"}],\"choropleth\":[{\"colorbar\":{\"outlinewidth\":0,\"ticks\":\"\"},\"type\":\"choropleth\"}],\"contour\":[{\"colorbar\":{\"outlinewidth\":0,\"ticks\":\"\"},\"colorscale\":[[0.0,\"#0d0887\"],[0.1111111111111111,\"#46039f\"],[0.2222222222222222,\"#7201a8\"],[0.3333333333333333,\"#9c179e\"],[0.4444444444444444,\"#bd3786\"],[0.5555555555555556,\"#d8576b\"],[0.6666666666666666,\"#ed7953\"],[0.7777777777777778,\"#fb9f3a\"],[0.8888888888888888,\"#fdca26\"],[1.0,\"#f0f921\"]],\"type\":\"contour\"}],\"contourcarpet\":[{\"colorbar\":{\"outlinewidth\":0,\"ticks\":\"\"},\"type\":\"contourcarpet\"}],\"heatmap\":[{\"colorbar\":{\"outlinewidth\":0,\"ticks\":\"\"},\"colorscale\":[[0.0,\"#0d0887\"],[0.1111111111111111,\"#46039f\"],[0.2222222222222222,\"#7201a8\"],[0.3333333333333333,\"#9c179e\"],[0.4444444444444444,\"#bd3786\"],[0.5555555555555556,\"#d8576b\"],[0.6666666666666666,\"#ed7953\"],[0.7777777777777778,\"#fb9f3a\"],[0.8888888888888888,\"#fdca26\"],[1.0,\"#f0f921\"]],\"type\":\"heatmap\"}],\"heatmapgl\":[{\"colorbar\":{\"outlinewidth\":0,\"ticks\":\"\"},\"colorscale\":[[0.0,\"#0d0887\"],[0.1111111111111111,\"#46039f\"],[0.2222222222222222,\"#7201a8\"],[0.3333333333333333,\"#9c179e\"],[0.4444444444444444,\"#bd3786\"],[0.5555555555555556,\"#d8576b\"],[0.6666666666666666,\"#ed7953\"],[0.7777777777777778,\"#fb9f3a\"],[0.8888888888888888,\"#fdca26\"],[1.0,\"#f0f921\"]],\"type\":\"heatmapgl\"}],\"histogram\":[{\"marker\":{\"pattern\":{\"fillmode\":\"overlay\",\"size\":10,\"solidity\":0.2}},\"type\":\"histogram\"}],\"histogram2d\":[{\"colorbar\":{\"outlinewidth\":0,\"ticks\":\"\"},\"colorscale\":[[0.0,\"#0d0887\"],[0.1111111111111111,\"#46039f\"],[0.2222222222222222,\"#7201a8\"],[0.3333333333333333,\"#9c179e\"],[0.4444444444444444,\"#bd3786\"],[0.5555555555555556,\"#d8576b\"],[0.6666666666666666,\"#ed7953\"],[0.7777777777777778,\"#fb9f3a\"],[0.8888888888888888,\"#fdca26\"],[1.0,\"#f0f921\"]],\"type\":\"histogram2d\"}],\"histogram2dcontour\":[{\"colorbar\":{\"outlinewidth\":0,\"ticks\":\"\"},\"colorscale\":[[0.0,\"#0d0887\"],[0.1111111111111111,\"#46039f\"],[0.2222222222222222,\"#7201a8\"],[0.3333333333333333,\"#9c179e\"],[0.4444444444444444,\"#bd3786\"],[0.5555555555555556,\"#d8576b\"],[0.6666666666666666,\"#ed7953\"],[0.7777777777777778,\"#fb9f3a\"],[0.8888888888888888,\"#fdca26\"],[1.0,\"#f0f921\"]],\"type\":\"histogram2dcontour\"}],\"mesh3d\":[{\"colorbar\":{\"outlinewidth\":0,\"ticks\":\"\"},\"type\":\"mesh3d\"}],\"parcoords\":[{\"line\":{\"colorbar\":{\"outlinewidth\":0,\"ticks\":\"\"}},\"type\":\"parcoords\"}],\"pie\":[{\"automargin\":true,\"type\":\"pie\"}],\"scatter\":[{\"marker\":{\"colorbar\":{\"outlinewidth\":0,\"ticks\":\"\"}},\"type\":\"scatter\"}],\"scatter3d\":[{\"line\":{\"colorbar\":{\"outlinewidth\":0,\"ticks\":\"\"}},\"marker\":{\"colorbar\":{\"outlinewidth\":0,\"ticks\":\"\"}},\"type\":\"scatter3d\"}],\"scattercarpet\":[{\"marker\":{\"colorbar\":{\"outlinewidth\":0,\"ticks\":\"\"}},\"type\":\"scattercarpet\"}],\"scattergeo\":[{\"marker\":{\"colorbar\":{\"outlinewidth\":0,\"ticks\":\"\"}},\"type\":\"scattergeo\"}],\"scattergl\":[{\"marker\":{\"colorbar\":{\"outlinewidth\":0,\"ticks\":\"\"}},\"type\":\"scattergl\"}],\"scattermapbox\":[{\"marker\":{\"colorbar\":{\"outlinewidth\":0,\"ticks\":\"\"}},\"type\":\"scattermapbox\"}],\"scatterpolar\":[{\"marker\":{\"colorbar\":{\"outlinewidth\":0,\"ticks\":\"\"}},\"type\":\"scatterpolar\"}],\"scatterpolargl\":[{\"marker\":{\"colorbar\":{\"outlinewidth\":0,\"ticks\":\"\"}},\"type\":\"scatterpolargl\"}],\"scatterternary\":[{\"marker\":{\"colorbar\":{\"outlinewidth\":0,\"ticks\":\"\"}},\"type\":\"scatterternary\"}],\"surface\":[{\"colorbar\":{\"outlinewidth\":0,\"ticks\":\"\"},\"colorscale\":[[0.0,\"#0d0887\"],[0.1111111111111111,\"#46039f\"],[0.2222222222222222,\"#7201a8\"],[0.3333333333333333,\"#9c179e\"],[0.4444444444444444,\"#bd3786\"],[0.5555555555555556,\"#d8576b\"],[0.6666666666666666,\"#ed7953\"],[0.7777777777777778,\"#fb9f3a\"],[0.8888888888888888,\"#fdca26\"],[1.0,\"#f0f921\"]],\"type\":\"surface\"}],\"table\":[{\"cells\":{\"fill\":{\"color\":\"#EBF0F8\"},\"line\":{\"color\":\"white\"}},\"header\":{\"fill\":{\"color\":\"#C8D4E3\"},\"line\":{\"color\":\"white\"}},\"type\":\"table\"}]},\"layout\":{\"annotationdefaults\":{\"arrowcolor\":\"#2a3f5f\",\"arrowhead\":0,\"arrowwidth\":1},\"autotypenumbers\":\"strict\",\"coloraxis\":{\"colorbar\":{\"outlinewidth\":0,\"ticks\":\"\"}},\"colorscale\":{\"diverging\":[[0,\"#8e0152\"],[0.1,\"#c51b7d\"],[0.2,\"#de77ae\"],[0.3,\"#f1b6da\"],[0.4,\"#fde0ef\"],[0.5,\"#f7f7f7\"],[0.6,\"#e6f5d0\"],[0.7,\"#b8e186\"],[0.8,\"#7fbc41\"],[0.9,\"#4d9221\"],[1,\"#276419\"]],\"sequential\":[[0.0,\"#0d0887\"],[0.1111111111111111,\"#46039f\"],[0.2222222222222222,\"#7201a8\"],[0.3333333333333333,\"#9c179e\"],[0.4444444444444444,\"#bd3786\"],[0.5555555555555556,\"#d8576b\"],[0.6666666666666666,\"#ed7953\"],[0.7777777777777778,\"#fb9f3a\"],[0.8888888888888888,\"#fdca26\"],[1.0,\"#f0f921\"]],\"sequentialminus\":[[0.0,\"#0d0887\"],[0.1111111111111111,\"#46039f\"],[0.2222222222222222,\"#7201a8\"],[0.3333333333333333,\"#9c179e\"],[0.4444444444444444,\"#bd3786\"],[0.5555555555555556,\"#d8576b\"],[0.6666666666666666,\"#ed7953\"],[0.7777777777777778,\"#fb9f3a\"],[0.8888888888888888,\"#fdca26\"],[1.0,\"#f0f921\"]]},\"colorway\":[\"#636efa\",\"#EF553B\",\"#00cc96\",\"#ab63fa\",\"#FFA15A\",\"#19d3f3\",\"#FF6692\",\"#B6E880\",\"#FF97FF\",\"#FECB52\"],\"font\":{\"color\":\"#2a3f5f\"},\"geo\":{\"bgcolor\":\"white\",\"lakecolor\":\"white\",\"landcolor\":\"#E5ECF6\",\"showlakes\":true,\"showland\":true,\"subunitcolor\":\"white\"},\"hoverlabel\":{\"align\":\"left\"},\"hovermode\":\"closest\",\"mapbox\":{\"style\":\"light\"},\"paper_bgcolor\":\"white\",\"plot_bgcolor\":\"#E5ECF6\",\"polar\":{\"angularaxis\":{\"gridcolor\":\"white\",\"linecolor\":\"white\",\"ticks\":\"\"},\"bgcolor\":\"#E5ECF6\",\"radialaxis\":{\"gridcolor\":\"white\",\"linecolor\":\"white\",\"ticks\":\"\"}},\"scene\":{\"xaxis\":{\"backgroundcolor\":\"#E5ECF6\",\"gridcolor\":\"white\",\"gridwidth\":2,\"linecolor\":\"white\",\"showbackground\":true,\"ticks\":\"\",\"zerolinecolor\":\"white\"},\"yaxis\":{\"backgroundcolor\":\"#E5ECF6\",\"gridcolor\":\"white\",\"gridwidth\":2,\"linecolor\":\"white\",\"showbackground\":true,\"ticks\":\"\",\"zerolinecolor\":\"white\"},\"zaxis\":{\"backgroundcolor\":\"#E5ECF6\",\"gridcolor\":\"white\",\"gridwidth\":2,\"linecolor\":\"white\",\"showbackground\":true,\"ticks\":\"\",\"zerolinecolor\":\"white\"}},\"shapedefaults\":{\"line\":{\"color\":\"#2a3f5f\"}},\"ternary\":{\"aaxis\":{\"gridcolor\":\"white\",\"linecolor\":\"white\",\"ticks\":\"\"},\"baxis\":{\"gridcolor\":\"white\",\"linecolor\":\"white\",\"ticks\":\"\"},\"bgcolor\":\"#E5ECF6\",\"caxis\":{\"gridcolor\":\"white\",\"linecolor\":\"white\",\"ticks\":\"\"}},\"title\":{\"x\":0.05},\"xaxis\":{\"automargin\":true,\"gridcolor\":\"white\",\"linecolor\":\"white\",\"ticks\":\"\",\"title\":{\"standoff\":15},\"zerolinecolor\":\"white\",\"zerolinewidth\":2},\"yaxis\":{\"automargin\":true,\"gridcolor\":\"white\",\"linecolor\":\"white\",\"ticks\":\"\",\"title\":{\"standoff\":15},\"zerolinecolor\":\"white\",\"zerolinewidth\":2}}}},                        {\"responsive\": true}                    ).then(function(){\n",
       "                            \n",
       "var gd = document.getElementById('5ff9ad8a-0e80-472e-94ea-924572ac1bb9');\n",
       "var x = new MutationObserver(function (mutations, observer) {{\n",
       "        var display = window.getComputedStyle(gd).display;\n",
       "        if (!display || display === 'none') {{\n",
       "            console.log([gd, 'removed!']);\n",
       "            Plotly.purge(gd);\n",
       "            observer.disconnect();\n",
       "        }}\n",
       "}});\n",
       "\n",
       "// Listen for the removal of the full notebook cells\n",
       "var notebookContainer = gd.closest('#notebook-container');\n",
       "if (notebookContainer) {{\n",
       "    x.observe(notebookContainer, {childList: true});\n",
       "}}\n",
       "\n",
       "// Listen for the clearing of the current output cell\n",
       "var outputEl = gd.closest('.output');\n",
       "if (outputEl) {{\n",
       "    x.observe(outputEl, {childList: true});\n",
       "}}\n",
       "\n",
       "                        })                };                });            </script>        </div>"
      ]
     },
     "metadata": {},
     "output_type": "display_data"
    },
    {
     "name": "stdout",
     "output_type": "stream",
     "text": [
      "540 time intervals in resampled data\n"
     ]
    },
    {
     "data": {
      "application/vnd.plotly.v1+json": {
       "config": {
        "plotlyServerURL": "https://plot.ly"
       },
       "data": [
        {
         "alignmentgroup": "True",
         "hovertemplate": "<b>%{hovertext}</b><br><br>variable=Unoccupied<br>time_interval=%{x}<br>value=%{y}<extra></extra>",
         "hovertext": [
          "2021-09-09T11:00:00",
          "2021-09-09T11:15:00",
          "2021-09-09T11:30:00",
          "2021-09-09T11:45:00",
          "2021-09-09T12:00:00",
          "2021-09-09T12:15:00",
          "2021-09-09T12:30:00",
          "2021-09-09T12:45:00",
          "2021-09-09T13:00:00",
          "2021-09-09T13:15:00",
          "2021-09-09T13:30:00",
          "2021-09-09T13:45:00",
          "2021-09-09T14:00:00",
          "2021-09-09T14:15:00",
          "2021-09-09T14:30:00",
          "2021-09-09T14:45:00",
          "2021-09-09T15:00:00",
          "2021-09-09T15:15:00",
          "2021-09-09T15:30:00",
          "2021-09-09T15:45:00",
          "2021-09-09T16:00:00",
          "2021-09-09T16:15:00",
          "2021-09-09T16:30:00",
          "2021-09-09T16:45:00",
          "2021-09-09T17:00:00",
          "2021-09-09T17:15:00",
          "2021-09-09T17:30:00",
          "2021-09-09T17:45:00",
          "2021-09-09T18:00:00",
          "2021-09-09T18:15:00",
          "2021-09-09T18:30:00",
          "2021-09-09T18:45:00",
          "2021-09-09T19:00:00",
          "2021-09-09T19:15:00",
          "2021-09-09T19:30:00",
          "2021-09-09T19:45:00",
          "2021-09-09T20:00:00",
          "2021-09-09T20:15:00",
          "2021-09-09T20:30:00",
          "2021-09-09T20:45:00",
          "2021-09-09T21:00:00",
          "2021-09-09T21:15:00",
          "2021-09-09T21:30:00",
          "2021-09-09T21:45:00",
          "2021-09-09T22:00:00",
          "2021-09-09T22:15:00",
          "2021-09-09T22:30:00",
          "2021-09-09T22:45:00",
          "2021-09-09T23:00:00",
          "2021-09-09T23:15:00",
          "2021-09-09T23:30:00",
          "2021-09-09T23:45:00",
          "2021-09-10T00:00:00",
          "2021-09-10T00:15:00",
          "2021-09-10T00:30:00",
          "2021-09-10T00:45:00",
          "2021-09-10T01:00:00",
          "2021-09-10T01:15:00",
          "2021-09-10T01:30:00",
          "2021-09-10T01:45:00",
          "2021-09-10T02:00:00",
          "2021-09-10T02:15:00",
          "2021-09-10T02:30:00",
          "2021-09-10T02:45:00",
          "2021-09-10T03:00:00",
          "2021-09-10T03:15:00",
          "2021-09-10T03:30:00",
          "2021-09-10T03:45:00",
          "2021-09-10T04:00:00",
          "2021-09-10T04:15:00",
          "2021-09-10T04:30:00",
          "2021-09-10T04:45:00",
          "2021-09-10T05:00:00",
          "2021-09-10T05:15:00",
          "2021-09-10T05:30:00",
          "2021-09-10T05:45:00",
          "2021-09-10T06:00:00",
          "2021-09-10T06:15:00",
          "2021-09-10T06:30:00",
          "2021-09-10T06:45:00",
          "2021-09-10T07:00:00",
          "2021-09-10T07:15:00",
          "2021-09-10T07:30:00",
          "2021-09-10T07:45:00",
          "2021-09-10T08:00:00",
          "2021-09-10T08:15:00",
          "2021-09-10T08:30:00",
          "2021-09-10T08:45:00",
          "2021-09-10T09:00:00",
          "2021-09-10T09:15:00",
          "2021-09-10T09:30:00",
          "2021-09-10T09:45:00",
          "2021-09-10T10:00:00",
          "2021-09-10T10:15:00",
          "2021-09-10T10:30:00",
          "2021-09-10T10:45:00",
          "2021-09-10T11:00:00",
          "2021-09-10T11:15:00",
          "2021-09-10T11:30:00",
          "2021-09-10T11:45:00",
          "2021-09-10T12:00:00",
          "2021-09-10T12:15:00",
          "2021-09-10T12:30:00",
          "2021-09-10T12:45:00",
          "2021-09-10T13:00:00",
          "2021-09-10T13:15:00",
          "2021-09-10T13:30:00",
          "2021-09-10T13:45:00",
          "2021-09-10T14:00:00",
          "2021-09-10T14:15:00",
          "2021-09-10T14:30:00",
          "2021-09-10T14:45:00",
          "2021-09-10T15:00:00",
          "2021-09-10T15:15:00",
          "2021-09-10T15:30:00",
          "2021-09-10T15:45:00",
          "2021-09-10T16:00:00",
          "2021-09-10T16:15:00",
          "2021-09-10T16:30:00",
          "2021-09-10T16:45:00",
          "2021-09-10T17:00:00",
          "2021-09-10T17:15:00",
          "2021-09-10T17:30:00",
          "2021-09-10T17:45:00",
          "2021-09-10T18:00:00",
          "2021-09-10T18:15:00",
          "2021-09-10T18:30:00",
          "2021-09-10T18:45:00",
          "2021-09-10T19:00:00",
          "2021-09-10T19:15:00",
          "2021-09-10T19:30:00",
          "2021-09-10T19:45:00",
          "2021-09-10T20:00:00",
          "2021-09-10T20:15:00",
          "2021-09-10T20:30:00",
          "2021-09-10T20:45:00",
          "2021-09-10T21:00:00",
          "2021-09-10T21:15:00",
          "2021-09-10T21:30:00",
          "2021-09-10T21:45:00",
          "2021-09-10T22:00:00",
          "2021-09-10T22:15:00",
          "2021-09-10T22:30:00",
          "2021-09-10T22:45:00",
          "2021-09-10T23:00:00",
          "2021-09-10T23:15:00",
          "2021-09-10T23:30:00",
          "2021-09-10T23:45:00",
          "2021-09-11T00:00:00",
          "2021-09-11T00:15:00",
          "2021-09-11T00:30:00",
          "2021-09-11T00:45:00",
          "2021-09-11T01:00:00",
          "2021-09-11T01:15:00",
          "2021-09-11T01:30:00",
          "2021-09-11T01:45:00",
          "2021-09-11T02:00:00",
          "2021-09-11T02:15:00",
          "2021-09-11T02:30:00",
          "2021-09-11T02:45:00",
          "2021-09-11T03:00:00",
          "2021-09-11T03:15:00",
          "2021-09-11T03:30:00",
          "2021-09-11T03:45:00",
          "2021-09-11T04:00:00",
          "2021-09-11T04:15:00",
          "2021-09-11T04:30:00",
          "2021-09-11T04:45:00",
          "2021-09-11T05:00:00",
          "2021-09-11T05:15:00",
          "2021-09-11T05:30:00",
          "2021-09-11T05:45:00",
          "2021-09-11T06:00:00",
          "2021-09-11T06:15:00",
          "2021-09-11T06:30:00",
          "2021-09-11T06:45:00",
          "2021-09-11T07:00:00",
          "2021-09-11T07:15:00",
          "2021-09-11T07:30:00",
          "2021-09-11T07:45:00",
          "2021-09-11T08:00:00",
          "2021-09-11T08:15:00",
          "2021-09-11T08:30:00",
          "2021-09-11T08:45:00",
          "2021-09-11T09:00:00",
          "2021-09-11T09:15:00",
          "2021-09-11T09:30:00",
          "2021-09-11T09:45:00",
          "2021-09-11T10:00:00",
          "2021-09-11T10:15:00",
          "2021-09-11T10:30:00",
          "2021-09-11T10:45:00",
          "2021-09-11T11:00:00",
          "2021-09-11T11:15:00",
          "2021-09-11T11:30:00",
          "2021-09-11T11:45:00",
          "2021-09-11T12:00:00",
          "2021-09-11T12:15:00",
          "2021-09-11T12:30:00",
          "2021-09-11T12:45:00",
          "2021-09-11T13:00:00",
          "2021-09-11T13:15:00",
          "2021-09-11T13:30:00",
          "2021-09-11T13:45:00",
          "2021-09-11T14:00:00",
          "2021-09-11T14:15:00",
          "2021-09-11T14:30:00",
          "2021-09-11T14:45:00",
          "2021-09-11T15:00:00",
          "2021-09-11T15:15:00",
          "2021-09-11T15:30:00",
          "2021-09-11T15:45:00",
          "2021-09-11T16:00:00",
          "2021-09-11T16:15:00",
          "2021-09-11T16:30:00",
          "2021-09-11T16:45:00",
          "2021-09-11T17:00:00",
          "2021-09-11T17:15:00",
          "2021-09-11T17:30:00",
          "2021-09-11T17:45:00",
          "2021-09-11T18:00:00",
          "2021-09-11T18:15:00",
          "2021-09-11T18:30:00",
          "2021-09-11T18:45:00",
          "2021-09-11T19:00:00",
          "2021-09-11T19:15:00",
          "2021-09-11T19:30:00",
          "2021-09-11T19:45:00",
          "2021-09-11T20:00:00",
          "2021-09-11T20:15:00",
          "2021-09-11T20:30:00",
          "2021-09-11T20:45:00",
          "2021-09-11T21:00:00",
          "2021-09-11T21:15:00",
          "2021-09-11T21:30:00",
          "2021-09-11T21:45:00",
          "2021-09-11T22:00:00",
          "2021-09-11T22:15:00",
          "2021-09-11T22:30:00",
          "2021-09-11T22:45:00",
          "2021-09-11T23:00:00",
          "2021-09-11T23:15:00",
          "2021-09-11T23:30:00",
          "2021-09-11T23:45:00",
          "2021-09-12T00:00:00",
          "2021-09-12T00:15:00",
          "2021-09-12T00:30:00",
          "2021-09-12T00:45:00",
          "2021-09-12T01:00:00",
          "2021-09-12T01:15:00",
          "2021-09-12T01:30:00",
          "2021-09-12T01:45:00",
          "2021-09-12T02:00:00",
          "2021-09-12T02:15:00",
          "2021-09-12T02:30:00",
          "2021-09-12T02:45:00",
          "2021-09-12T03:00:00",
          "2021-09-12T03:15:00",
          "2021-09-12T03:30:00",
          "2021-09-12T03:45:00",
          "2021-09-12T04:00:00",
          "2021-09-12T04:15:00",
          "2021-09-12T04:30:00",
          "2021-09-12T04:45:00",
          "2021-09-12T05:00:00",
          "2021-09-12T05:15:00",
          "2021-09-12T05:30:00",
          "2021-09-12T05:45:00",
          "2021-09-12T06:00:00",
          "2021-09-12T06:15:00",
          "2021-09-12T06:30:00",
          "2021-09-12T06:45:00",
          "2021-09-12T07:00:00",
          "2021-09-12T07:15:00",
          "2021-09-12T07:30:00",
          "2021-09-12T07:45:00",
          "2021-09-12T08:00:00",
          "2021-09-12T08:15:00",
          "2021-09-12T08:30:00",
          "2021-09-12T08:45:00",
          "2021-09-12T09:00:00",
          "2021-09-12T09:15:00",
          "2021-09-12T09:30:00",
          "2021-09-12T09:45:00",
          "2021-09-12T10:00:00",
          "2021-09-12T10:15:00",
          "2021-09-12T10:30:00",
          "2021-09-12T10:45:00",
          "2021-09-12T11:00:00",
          "2021-09-12T11:15:00",
          "2021-09-12T11:30:00",
          "2021-09-12T11:45:00",
          "2021-09-12T12:00:00",
          "2021-09-12T12:15:00",
          "2021-09-12T12:30:00",
          "2021-09-12T12:45:00",
          "2021-09-12T13:00:00",
          "2021-09-12T13:15:00",
          "2021-09-12T13:30:00",
          "2021-09-12T13:45:00",
          "2021-09-12T14:00:00",
          "2021-09-12T14:15:00",
          "2021-09-12T14:30:00",
          "2021-09-12T14:45:00",
          "2021-09-12T15:00:00",
          "2021-09-12T15:15:00",
          "2021-09-12T15:30:00",
          "2021-09-12T15:45:00",
          "2021-09-12T16:00:00",
          "2021-09-12T16:15:00",
          "2021-09-12T16:30:00",
          "2021-09-12T16:45:00",
          "2021-09-12T17:00:00",
          "2021-09-12T17:15:00",
          "2021-09-12T17:30:00",
          "2021-09-12T17:45:00",
          "2021-09-12T18:00:00",
          "2021-09-12T18:15:00",
          "2021-09-12T18:30:00",
          "2021-09-12T18:45:00",
          "2021-09-12T19:00:00",
          "2021-09-12T19:15:00",
          "2021-09-12T19:30:00",
          "2021-09-12T19:45:00",
          "2021-09-12T20:00:00",
          "2021-09-12T20:15:00",
          "2021-09-12T20:30:00",
          "2021-09-12T20:45:00",
          "2021-09-12T21:00:00",
          "2021-09-12T21:15:00",
          "2021-09-12T21:30:00",
          "2021-09-12T21:45:00",
          "2021-09-12T22:00:00",
          "2021-09-12T22:15:00",
          "2021-09-12T22:30:00",
          "2021-09-12T22:45:00",
          "2021-09-12T23:00:00",
          "2021-09-12T23:15:00",
          "2021-09-12T23:30:00",
          "2021-09-12T23:45:00",
          "2021-09-13T00:00:00",
          "2021-09-13T00:15:00",
          "2021-09-13T00:30:00",
          "2021-09-13T00:45:00",
          "2021-09-13T01:00:00",
          "2021-09-13T01:15:00",
          "2021-09-13T01:30:00",
          "2021-09-13T01:45:00",
          "2021-09-13T02:00:00",
          "2021-09-13T02:15:00",
          "2021-09-13T02:30:00",
          "2021-09-13T02:45:00",
          "2021-09-13T03:00:00",
          "2021-09-13T03:15:00",
          "2021-09-13T03:30:00",
          "2021-09-13T03:45:00",
          "2021-09-13T04:00:00",
          "2021-09-13T04:15:00",
          "2021-09-13T04:30:00",
          "2021-09-13T04:45:00",
          "2021-09-13T05:00:00",
          "2021-09-13T05:15:00",
          "2021-09-13T05:30:00",
          "2021-09-13T05:45:00",
          "2021-09-13T06:00:00",
          "2021-09-13T06:15:00",
          "2021-09-13T06:30:00",
          "2021-09-13T06:45:00",
          "2021-09-13T07:00:00",
          "2021-09-13T07:15:00",
          "2021-09-13T07:30:00",
          "2021-09-13T07:45:00",
          "2021-09-13T08:00:00",
          "2021-09-13T08:15:00",
          "2021-09-13T08:30:00",
          "2021-09-13T08:45:00",
          "2021-09-13T09:00:00",
          "2021-09-13T09:15:00",
          "2021-09-13T09:30:00",
          "2021-09-13T09:45:00",
          "2021-09-13T10:00:00",
          "2021-09-13T10:15:00",
          "2021-09-13T10:30:00",
          "2021-09-13T10:45:00",
          "2021-09-13T11:00:00",
          "2021-09-13T11:15:00",
          "2021-09-13T11:30:00",
          "2021-09-13T11:45:00",
          "2021-09-13T12:00:00",
          "2021-09-13T12:15:00",
          "2021-09-13T12:30:00",
          "2021-09-13T12:45:00",
          "2021-09-13T13:00:00",
          "2021-09-13T13:15:00",
          "2021-09-13T13:30:00",
          "2021-09-13T13:45:00",
          "2021-09-13T14:00:00",
          "2021-09-13T14:15:00",
          "2021-09-13T14:30:00",
          "2021-09-13T14:45:00",
          "2021-09-13T15:00:00",
          "2021-09-13T15:15:00",
          "2021-09-13T15:30:00",
          "2021-09-13T15:45:00",
          "2021-09-13T16:00:00",
          "2021-09-13T16:15:00",
          "2021-09-13T16:30:00",
          "2021-09-13T16:45:00",
          "2021-09-13T17:00:00",
          "2021-09-13T17:15:00",
          "2021-09-13T17:30:00",
          "2021-09-13T17:45:00",
          "2021-09-13T18:00:00",
          "2021-09-13T18:15:00",
          "2021-09-13T18:30:00",
          "2021-09-13T18:45:00",
          "2021-09-13T19:00:00",
          "2021-09-13T19:15:00",
          "2021-09-13T19:30:00",
          "2021-09-13T19:45:00",
          "2021-09-13T20:00:00",
          "2021-09-13T20:15:00",
          "2021-09-13T20:30:00",
          "2021-09-13T20:45:00",
          "2021-09-13T21:00:00",
          "2021-09-13T21:15:00",
          "2021-09-13T21:30:00",
          "2021-09-13T21:45:00",
          "2021-09-13T22:00:00",
          "2021-09-13T22:15:00",
          "2021-09-13T22:30:00",
          "2021-09-13T22:45:00",
          "2021-09-13T23:00:00",
          "2021-09-13T23:15:00",
          "2021-09-13T23:30:00",
          "2021-09-13T23:45:00",
          "2021-09-14T00:00:00",
          "2021-09-14T00:15:00",
          "2021-09-14T00:30:00",
          "2021-09-14T00:45:00",
          "2021-09-14T01:00:00",
          "2021-09-14T01:15:00",
          "2021-09-14T01:30:00",
          "2021-09-14T01:45:00",
          "2021-09-14T02:00:00",
          "2021-09-14T02:15:00",
          "2021-09-14T02:30:00",
          "2021-09-14T02:45:00",
          "2021-09-14T03:00:00",
          "2021-09-14T03:15:00",
          "2021-09-14T03:30:00",
          "2021-09-14T03:45:00",
          "2021-09-14T04:00:00",
          "2021-09-14T04:15:00",
          "2021-09-14T04:30:00",
          "2021-09-14T04:45:00",
          "2021-09-14T05:00:00",
          "2021-09-14T05:15:00",
          "2021-09-14T05:30:00",
          "2021-09-14T05:45:00",
          "2021-09-14T06:00:00",
          "2021-09-14T06:15:00",
          "2021-09-14T06:30:00",
          "2021-09-14T06:45:00",
          "2021-09-14T07:00:00",
          "2021-09-14T07:15:00",
          "2021-09-14T07:30:00",
          "2021-09-14T07:45:00",
          "2021-09-14T08:00:00",
          "2021-09-14T08:15:00",
          "2021-09-14T08:30:00",
          "2021-09-14T08:45:00",
          "2021-09-14T09:00:00",
          "2021-09-14T09:15:00",
          "2021-09-14T09:30:00",
          "2021-09-14T09:45:00",
          "2021-09-14T10:00:00",
          "2021-09-14T10:15:00",
          "2021-09-14T10:30:00",
          "2021-09-14T10:45:00",
          "2021-09-14T11:00:00",
          "2021-09-14T11:15:00",
          "2021-09-14T11:30:00",
          "2021-09-14T11:45:00",
          "2021-09-14T12:00:00",
          "2021-09-14T12:15:00",
          "2021-09-14T12:30:00",
          "2021-09-14T12:45:00",
          "2021-09-14T13:00:00",
          "2021-09-14T13:15:00",
          "2021-09-14T13:30:00",
          "2021-09-14T13:45:00",
          "2021-09-14T14:00:00",
          "2021-09-14T14:15:00",
          "2021-09-14T14:30:00",
          "2021-09-14T14:45:00",
          "2021-09-14T15:00:00",
          "2021-09-14T15:15:00",
          "2021-09-14T15:30:00",
          "2021-09-14T15:45:00",
          "2021-09-14T16:00:00",
          "2021-09-14T16:15:00",
          "2021-09-14T16:30:00",
          "2021-09-14T16:45:00",
          "2021-09-14T17:00:00",
          "2021-09-14T17:15:00",
          "2021-09-14T17:30:00",
          "2021-09-14T17:45:00",
          "2021-09-14T18:00:00",
          "2021-09-14T18:15:00",
          "2021-09-14T18:30:00",
          "2021-09-14T18:45:00",
          "2021-09-14T19:00:00",
          "2021-09-14T19:15:00",
          "2021-09-14T19:30:00",
          "2021-09-14T19:45:00",
          "2021-09-14T20:00:00",
          "2021-09-14T20:15:00",
          "2021-09-14T20:30:00",
          "2021-09-14T20:45:00",
          "2021-09-14T21:00:00",
          "2021-09-14T21:15:00",
          "2021-09-14T21:30:00",
          "2021-09-14T21:45:00",
          "2021-09-14T22:00:00",
          "2021-09-14T22:15:00",
          "2021-09-14T22:30:00",
          "2021-09-14T22:45:00",
          "2021-09-14T23:00:00",
          "2021-09-14T23:15:00",
          "2021-09-14T23:30:00",
          "2021-09-14T23:45:00",
          "2021-09-15T00:00:00",
          "2021-09-15T00:15:00",
          "2021-09-15T00:30:00",
          "2021-09-15T00:45:00",
          "2021-09-15T01:00:00",
          "2021-09-15T01:15:00",
          "2021-09-15T01:30:00",
          "2021-09-15T01:45:00"
         ],
         "legendgroup": "Unoccupied",
         "marker": {
          "color": "green",
          "pattern": {
           "shape": ""
          }
         },
         "name": "Unoccupied",
         "offsetgroup": "Unoccupied",
         "orientation": "v",
         "showlegend": true,
         "textposition": "auto",
         "type": "bar",
         "x": [
          "2021-09-09T11:00:00",
          "2021-09-09T11:15:00",
          "2021-09-09T11:30:00",
          "2021-09-09T11:45:00",
          "2021-09-09T12:00:00",
          "2021-09-09T12:15:00",
          "2021-09-09T12:30:00",
          "2021-09-09T12:45:00",
          "2021-09-09T13:00:00",
          "2021-09-09T13:15:00",
          "2021-09-09T13:30:00",
          "2021-09-09T13:45:00",
          "2021-09-09T14:00:00",
          "2021-09-09T14:15:00",
          "2021-09-09T14:30:00",
          "2021-09-09T14:45:00",
          "2021-09-09T15:00:00",
          "2021-09-09T15:15:00",
          "2021-09-09T15:30:00",
          "2021-09-09T15:45:00",
          "2021-09-09T16:00:00",
          "2021-09-09T16:15:00",
          "2021-09-09T16:30:00",
          "2021-09-09T16:45:00",
          "2021-09-09T17:00:00",
          "2021-09-09T17:15:00",
          "2021-09-09T17:30:00",
          "2021-09-09T17:45:00",
          "2021-09-09T18:00:00",
          "2021-09-09T18:15:00",
          "2021-09-09T18:30:00",
          "2021-09-09T18:45:00",
          "2021-09-09T19:00:00",
          "2021-09-09T19:15:00",
          "2021-09-09T19:30:00",
          "2021-09-09T19:45:00",
          "2021-09-09T20:00:00",
          "2021-09-09T20:15:00",
          "2021-09-09T20:30:00",
          "2021-09-09T20:45:00",
          "2021-09-09T21:00:00",
          "2021-09-09T21:15:00",
          "2021-09-09T21:30:00",
          "2021-09-09T21:45:00",
          "2021-09-09T22:00:00",
          "2021-09-09T22:15:00",
          "2021-09-09T22:30:00",
          "2021-09-09T22:45:00",
          "2021-09-09T23:00:00",
          "2021-09-09T23:15:00",
          "2021-09-09T23:30:00",
          "2021-09-09T23:45:00",
          "2021-09-10T00:00:00",
          "2021-09-10T00:15:00",
          "2021-09-10T00:30:00",
          "2021-09-10T00:45:00",
          "2021-09-10T01:00:00",
          "2021-09-10T01:15:00",
          "2021-09-10T01:30:00",
          "2021-09-10T01:45:00",
          "2021-09-10T02:00:00",
          "2021-09-10T02:15:00",
          "2021-09-10T02:30:00",
          "2021-09-10T02:45:00",
          "2021-09-10T03:00:00",
          "2021-09-10T03:15:00",
          "2021-09-10T03:30:00",
          "2021-09-10T03:45:00",
          "2021-09-10T04:00:00",
          "2021-09-10T04:15:00",
          "2021-09-10T04:30:00",
          "2021-09-10T04:45:00",
          "2021-09-10T05:00:00",
          "2021-09-10T05:15:00",
          "2021-09-10T05:30:00",
          "2021-09-10T05:45:00",
          "2021-09-10T06:00:00",
          "2021-09-10T06:15:00",
          "2021-09-10T06:30:00",
          "2021-09-10T06:45:00",
          "2021-09-10T07:00:00",
          "2021-09-10T07:15:00",
          "2021-09-10T07:30:00",
          "2021-09-10T07:45:00",
          "2021-09-10T08:00:00",
          "2021-09-10T08:15:00",
          "2021-09-10T08:30:00",
          "2021-09-10T08:45:00",
          "2021-09-10T09:00:00",
          "2021-09-10T09:15:00",
          "2021-09-10T09:30:00",
          "2021-09-10T09:45:00",
          "2021-09-10T10:00:00",
          "2021-09-10T10:15:00",
          "2021-09-10T10:30:00",
          "2021-09-10T10:45:00",
          "2021-09-10T11:00:00",
          "2021-09-10T11:15:00",
          "2021-09-10T11:30:00",
          "2021-09-10T11:45:00",
          "2021-09-10T12:00:00",
          "2021-09-10T12:15:00",
          "2021-09-10T12:30:00",
          "2021-09-10T12:45:00",
          "2021-09-10T13:00:00",
          "2021-09-10T13:15:00",
          "2021-09-10T13:30:00",
          "2021-09-10T13:45:00",
          "2021-09-10T14:00:00",
          "2021-09-10T14:15:00",
          "2021-09-10T14:30:00",
          "2021-09-10T14:45:00",
          "2021-09-10T15:00:00",
          "2021-09-10T15:15:00",
          "2021-09-10T15:30:00",
          "2021-09-10T15:45:00",
          "2021-09-10T16:00:00",
          "2021-09-10T16:15:00",
          "2021-09-10T16:30:00",
          "2021-09-10T16:45:00",
          "2021-09-10T17:00:00",
          "2021-09-10T17:15:00",
          "2021-09-10T17:30:00",
          "2021-09-10T17:45:00",
          "2021-09-10T18:00:00",
          "2021-09-10T18:15:00",
          "2021-09-10T18:30:00",
          "2021-09-10T18:45:00",
          "2021-09-10T19:00:00",
          "2021-09-10T19:15:00",
          "2021-09-10T19:30:00",
          "2021-09-10T19:45:00",
          "2021-09-10T20:00:00",
          "2021-09-10T20:15:00",
          "2021-09-10T20:30:00",
          "2021-09-10T20:45:00",
          "2021-09-10T21:00:00",
          "2021-09-10T21:15:00",
          "2021-09-10T21:30:00",
          "2021-09-10T21:45:00",
          "2021-09-10T22:00:00",
          "2021-09-10T22:15:00",
          "2021-09-10T22:30:00",
          "2021-09-10T22:45:00",
          "2021-09-10T23:00:00",
          "2021-09-10T23:15:00",
          "2021-09-10T23:30:00",
          "2021-09-10T23:45:00",
          "2021-09-11T00:00:00",
          "2021-09-11T00:15:00",
          "2021-09-11T00:30:00",
          "2021-09-11T00:45:00",
          "2021-09-11T01:00:00",
          "2021-09-11T01:15:00",
          "2021-09-11T01:30:00",
          "2021-09-11T01:45:00",
          "2021-09-11T02:00:00",
          "2021-09-11T02:15:00",
          "2021-09-11T02:30:00",
          "2021-09-11T02:45:00",
          "2021-09-11T03:00:00",
          "2021-09-11T03:15:00",
          "2021-09-11T03:30:00",
          "2021-09-11T03:45:00",
          "2021-09-11T04:00:00",
          "2021-09-11T04:15:00",
          "2021-09-11T04:30:00",
          "2021-09-11T04:45:00",
          "2021-09-11T05:00:00",
          "2021-09-11T05:15:00",
          "2021-09-11T05:30:00",
          "2021-09-11T05:45:00",
          "2021-09-11T06:00:00",
          "2021-09-11T06:15:00",
          "2021-09-11T06:30:00",
          "2021-09-11T06:45:00",
          "2021-09-11T07:00:00",
          "2021-09-11T07:15:00",
          "2021-09-11T07:30:00",
          "2021-09-11T07:45:00",
          "2021-09-11T08:00:00",
          "2021-09-11T08:15:00",
          "2021-09-11T08:30:00",
          "2021-09-11T08:45:00",
          "2021-09-11T09:00:00",
          "2021-09-11T09:15:00",
          "2021-09-11T09:30:00",
          "2021-09-11T09:45:00",
          "2021-09-11T10:00:00",
          "2021-09-11T10:15:00",
          "2021-09-11T10:30:00",
          "2021-09-11T10:45:00",
          "2021-09-11T11:00:00",
          "2021-09-11T11:15:00",
          "2021-09-11T11:30:00",
          "2021-09-11T11:45:00",
          "2021-09-11T12:00:00",
          "2021-09-11T12:15:00",
          "2021-09-11T12:30:00",
          "2021-09-11T12:45:00",
          "2021-09-11T13:00:00",
          "2021-09-11T13:15:00",
          "2021-09-11T13:30:00",
          "2021-09-11T13:45:00",
          "2021-09-11T14:00:00",
          "2021-09-11T14:15:00",
          "2021-09-11T14:30:00",
          "2021-09-11T14:45:00",
          "2021-09-11T15:00:00",
          "2021-09-11T15:15:00",
          "2021-09-11T15:30:00",
          "2021-09-11T15:45:00",
          "2021-09-11T16:00:00",
          "2021-09-11T16:15:00",
          "2021-09-11T16:30:00",
          "2021-09-11T16:45:00",
          "2021-09-11T17:00:00",
          "2021-09-11T17:15:00",
          "2021-09-11T17:30:00",
          "2021-09-11T17:45:00",
          "2021-09-11T18:00:00",
          "2021-09-11T18:15:00",
          "2021-09-11T18:30:00",
          "2021-09-11T18:45:00",
          "2021-09-11T19:00:00",
          "2021-09-11T19:15:00",
          "2021-09-11T19:30:00",
          "2021-09-11T19:45:00",
          "2021-09-11T20:00:00",
          "2021-09-11T20:15:00",
          "2021-09-11T20:30:00",
          "2021-09-11T20:45:00",
          "2021-09-11T21:00:00",
          "2021-09-11T21:15:00",
          "2021-09-11T21:30:00",
          "2021-09-11T21:45:00",
          "2021-09-11T22:00:00",
          "2021-09-11T22:15:00",
          "2021-09-11T22:30:00",
          "2021-09-11T22:45:00",
          "2021-09-11T23:00:00",
          "2021-09-11T23:15:00",
          "2021-09-11T23:30:00",
          "2021-09-11T23:45:00",
          "2021-09-12T00:00:00",
          "2021-09-12T00:15:00",
          "2021-09-12T00:30:00",
          "2021-09-12T00:45:00",
          "2021-09-12T01:00:00",
          "2021-09-12T01:15:00",
          "2021-09-12T01:30:00",
          "2021-09-12T01:45:00",
          "2021-09-12T02:00:00",
          "2021-09-12T02:15:00",
          "2021-09-12T02:30:00",
          "2021-09-12T02:45:00",
          "2021-09-12T03:00:00",
          "2021-09-12T03:15:00",
          "2021-09-12T03:30:00",
          "2021-09-12T03:45:00",
          "2021-09-12T04:00:00",
          "2021-09-12T04:15:00",
          "2021-09-12T04:30:00",
          "2021-09-12T04:45:00",
          "2021-09-12T05:00:00",
          "2021-09-12T05:15:00",
          "2021-09-12T05:30:00",
          "2021-09-12T05:45:00",
          "2021-09-12T06:00:00",
          "2021-09-12T06:15:00",
          "2021-09-12T06:30:00",
          "2021-09-12T06:45:00",
          "2021-09-12T07:00:00",
          "2021-09-12T07:15:00",
          "2021-09-12T07:30:00",
          "2021-09-12T07:45:00",
          "2021-09-12T08:00:00",
          "2021-09-12T08:15:00",
          "2021-09-12T08:30:00",
          "2021-09-12T08:45:00",
          "2021-09-12T09:00:00",
          "2021-09-12T09:15:00",
          "2021-09-12T09:30:00",
          "2021-09-12T09:45:00",
          "2021-09-12T10:00:00",
          "2021-09-12T10:15:00",
          "2021-09-12T10:30:00",
          "2021-09-12T10:45:00",
          "2021-09-12T11:00:00",
          "2021-09-12T11:15:00",
          "2021-09-12T11:30:00",
          "2021-09-12T11:45:00",
          "2021-09-12T12:00:00",
          "2021-09-12T12:15:00",
          "2021-09-12T12:30:00",
          "2021-09-12T12:45:00",
          "2021-09-12T13:00:00",
          "2021-09-12T13:15:00",
          "2021-09-12T13:30:00",
          "2021-09-12T13:45:00",
          "2021-09-12T14:00:00",
          "2021-09-12T14:15:00",
          "2021-09-12T14:30:00",
          "2021-09-12T14:45:00",
          "2021-09-12T15:00:00",
          "2021-09-12T15:15:00",
          "2021-09-12T15:30:00",
          "2021-09-12T15:45:00",
          "2021-09-12T16:00:00",
          "2021-09-12T16:15:00",
          "2021-09-12T16:30:00",
          "2021-09-12T16:45:00",
          "2021-09-12T17:00:00",
          "2021-09-12T17:15:00",
          "2021-09-12T17:30:00",
          "2021-09-12T17:45:00",
          "2021-09-12T18:00:00",
          "2021-09-12T18:15:00",
          "2021-09-12T18:30:00",
          "2021-09-12T18:45:00",
          "2021-09-12T19:00:00",
          "2021-09-12T19:15:00",
          "2021-09-12T19:30:00",
          "2021-09-12T19:45:00",
          "2021-09-12T20:00:00",
          "2021-09-12T20:15:00",
          "2021-09-12T20:30:00",
          "2021-09-12T20:45:00",
          "2021-09-12T21:00:00",
          "2021-09-12T21:15:00",
          "2021-09-12T21:30:00",
          "2021-09-12T21:45:00",
          "2021-09-12T22:00:00",
          "2021-09-12T22:15:00",
          "2021-09-12T22:30:00",
          "2021-09-12T22:45:00",
          "2021-09-12T23:00:00",
          "2021-09-12T23:15:00",
          "2021-09-12T23:30:00",
          "2021-09-12T23:45:00",
          "2021-09-13T00:00:00",
          "2021-09-13T00:15:00",
          "2021-09-13T00:30:00",
          "2021-09-13T00:45:00",
          "2021-09-13T01:00:00",
          "2021-09-13T01:15:00",
          "2021-09-13T01:30:00",
          "2021-09-13T01:45:00",
          "2021-09-13T02:00:00",
          "2021-09-13T02:15:00",
          "2021-09-13T02:30:00",
          "2021-09-13T02:45:00",
          "2021-09-13T03:00:00",
          "2021-09-13T03:15:00",
          "2021-09-13T03:30:00",
          "2021-09-13T03:45:00",
          "2021-09-13T04:00:00",
          "2021-09-13T04:15:00",
          "2021-09-13T04:30:00",
          "2021-09-13T04:45:00",
          "2021-09-13T05:00:00",
          "2021-09-13T05:15:00",
          "2021-09-13T05:30:00",
          "2021-09-13T05:45:00",
          "2021-09-13T06:00:00",
          "2021-09-13T06:15:00",
          "2021-09-13T06:30:00",
          "2021-09-13T06:45:00",
          "2021-09-13T07:00:00",
          "2021-09-13T07:15:00",
          "2021-09-13T07:30:00",
          "2021-09-13T07:45:00",
          "2021-09-13T08:00:00",
          "2021-09-13T08:15:00",
          "2021-09-13T08:30:00",
          "2021-09-13T08:45:00",
          "2021-09-13T09:00:00",
          "2021-09-13T09:15:00",
          "2021-09-13T09:30:00",
          "2021-09-13T09:45:00",
          "2021-09-13T10:00:00",
          "2021-09-13T10:15:00",
          "2021-09-13T10:30:00",
          "2021-09-13T10:45:00",
          "2021-09-13T11:00:00",
          "2021-09-13T11:15:00",
          "2021-09-13T11:30:00",
          "2021-09-13T11:45:00",
          "2021-09-13T12:00:00",
          "2021-09-13T12:15:00",
          "2021-09-13T12:30:00",
          "2021-09-13T12:45:00",
          "2021-09-13T13:00:00",
          "2021-09-13T13:15:00",
          "2021-09-13T13:30:00",
          "2021-09-13T13:45:00",
          "2021-09-13T14:00:00",
          "2021-09-13T14:15:00",
          "2021-09-13T14:30:00",
          "2021-09-13T14:45:00",
          "2021-09-13T15:00:00",
          "2021-09-13T15:15:00",
          "2021-09-13T15:30:00",
          "2021-09-13T15:45:00",
          "2021-09-13T16:00:00",
          "2021-09-13T16:15:00",
          "2021-09-13T16:30:00",
          "2021-09-13T16:45:00",
          "2021-09-13T17:00:00",
          "2021-09-13T17:15:00",
          "2021-09-13T17:30:00",
          "2021-09-13T17:45:00",
          "2021-09-13T18:00:00",
          "2021-09-13T18:15:00",
          "2021-09-13T18:30:00",
          "2021-09-13T18:45:00",
          "2021-09-13T19:00:00",
          "2021-09-13T19:15:00",
          "2021-09-13T19:30:00",
          "2021-09-13T19:45:00",
          "2021-09-13T20:00:00",
          "2021-09-13T20:15:00",
          "2021-09-13T20:30:00",
          "2021-09-13T20:45:00",
          "2021-09-13T21:00:00",
          "2021-09-13T21:15:00",
          "2021-09-13T21:30:00",
          "2021-09-13T21:45:00",
          "2021-09-13T22:00:00",
          "2021-09-13T22:15:00",
          "2021-09-13T22:30:00",
          "2021-09-13T22:45:00",
          "2021-09-13T23:00:00",
          "2021-09-13T23:15:00",
          "2021-09-13T23:30:00",
          "2021-09-13T23:45:00",
          "2021-09-14T00:00:00",
          "2021-09-14T00:15:00",
          "2021-09-14T00:30:00",
          "2021-09-14T00:45:00",
          "2021-09-14T01:00:00",
          "2021-09-14T01:15:00",
          "2021-09-14T01:30:00",
          "2021-09-14T01:45:00",
          "2021-09-14T02:00:00",
          "2021-09-14T02:15:00",
          "2021-09-14T02:30:00",
          "2021-09-14T02:45:00",
          "2021-09-14T03:00:00",
          "2021-09-14T03:15:00",
          "2021-09-14T03:30:00",
          "2021-09-14T03:45:00",
          "2021-09-14T04:00:00",
          "2021-09-14T04:15:00",
          "2021-09-14T04:30:00",
          "2021-09-14T04:45:00",
          "2021-09-14T05:00:00",
          "2021-09-14T05:15:00",
          "2021-09-14T05:30:00",
          "2021-09-14T05:45:00",
          "2021-09-14T06:00:00",
          "2021-09-14T06:15:00",
          "2021-09-14T06:30:00",
          "2021-09-14T06:45:00",
          "2021-09-14T07:00:00",
          "2021-09-14T07:15:00",
          "2021-09-14T07:30:00",
          "2021-09-14T07:45:00",
          "2021-09-14T08:00:00",
          "2021-09-14T08:15:00",
          "2021-09-14T08:30:00",
          "2021-09-14T08:45:00",
          "2021-09-14T09:00:00",
          "2021-09-14T09:15:00",
          "2021-09-14T09:30:00",
          "2021-09-14T09:45:00",
          "2021-09-14T10:00:00",
          "2021-09-14T10:15:00",
          "2021-09-14T10:30:00",
          "2021-09-14T10:45:00",
          "2021-09-14T11:00:00",
          "2021-09-14T11:15:00",
          "2021-09-14T11:30:00",
          "2021-09-14T11:45:00",
          "2021-09-14T12:00:00",
          "2021-09-14T12:15:00",
          "2021-09-14T12:30:00",
          "2021-09-14T12:45:00",
          "2021-09-14T13:00:00",
          "2021-09-14T13:15:00",
          "2021-09-14T13:30:00",
          "2021-09-14T13:45:00",
          "2021-09-14T14:00:00",
          "2021-09-14T14:15:00",
          "2021-09-14T14:30:00",
          "2021-09-14T14:45:00",
          "2021-09-14T15:00:00",
          "2021-09-14T15:15:00",
          "2021-09-14T15:30:00",
          "2021-09-14T15:45:00",
          "2021-09-14T16:00:00",
          "2021-09-14T16:15:00",
          "2021-09-14T16:30:00",
          "2021-09-14T16:45:00",
          "2021-09-14T17:00:00",
          "2021-09-14T17:15:00",
          "2021-09-14T17:30:00",
          "2021-09-14T17:45:00",
          "2021-09-14T18:00:00",
          "2021-09-14T18:15:00",
          "2021-09-14T18:30:00",
          "2021-09-14T18:45:00",
          "2021-09-14T19:00:00",
          "2021-09-14T19:15:00",
          "2021-09-14T19:30:00",
          "2021-09-14T19:45:00",
          "2021-09-14T20:00:00",
          "2021-09-14T20:15:00",
          "2021-09-14T20:30:00",
          "2021-09-14T20:45:00",
          "2021-09-14T21:00:00",
          "2021-09-14T21:15:00",
          "2021-09-14T21:30:00",
          "2021-09-14T21:45:00",
          "2021-09-14T22:00:00",
          "2021-09-14T22:15:00",
          "2021-09-14T22:30:00",
          "2021-09-14T22:45:00",
          "2021-09-14T23:00:00",
          "2021-09-14T23:15:00",
          "2021-09-14T23:30:00",
          "2021-09-14T23:45:00",
          "2021-09-15T00:00:00",
          "2021-09-15T00:15:00",
          "2021-09-15T00:30:00",
          "2021-09-15T00:45:00",
          "2021-09-15T01:00:00",
          "2021-09-15T01:15:00",
          "2021-09-15T01:30:00",
          "2021-09-15T01:45:00"
         ],
         "xaxis": "x",
         "y": [
          7,
          6,
          5,
          7,
          4,
          5,
          2,
          5,
          4,
          2,
          6,
          5,
          9,
          4,
          2,
          3,
          6,
          1,
          2,
          5,
          6,
          8,
          3,
          3,
          10,
          5,
          5,
          4,
          2,
          7,
          6,
          9,
          10,
          6,
          10,
          10,
          19,
          8,
          13,
          15,
          11,
          22,
          18,
          21,
          20,
          17,
          13,
          11,
          16,
          22,
          18,
          17,
          16,
          16,
          22,
          24,
          7,
          18,
          9,
          18,
          18,
          26,
          8,
          26,
          17,
          17,
          17,
          17,
          8,
          17,
          17,
          9,
          17,
          17,
          25,
          8,
          6,
          6,
          5,
          8,
          5,
          1,
          2,
          2,
          1,
          10,
          5,
          5,
          2,
          5,
          2,
          3,
          3,
          3,
          2,
          3,
          3,
          4,
          4,
          4,
          2,
          6,
          6,
          6,
          4,
          4,
          3,
          2,
          6,
          8,
          7,
          7,
          9,
          10,
          7,
          12,
          7,
          6,
          9,
          6,
          6,
          5,
          6,
          10,
          12,
          8,
          9,
          5,
          8,
          6,
          10,
          10,
          16,
          19,
          15,
          20,
          26,
          25,
          25,
          25,
          17,
          18,
          20,
          17,
          19,
          15,
          24,
          23,
          15,
          20,
          24,
          24,
          20,
          19,
          19,
          21,
          24,
          18,
          24,
          21,
          21,
          21,
          24,
          24,
          18,
          21,
          21,
          21,
          18,
          21,
          21,
          21,
          21,
          20,
          15,
          14,
          11,
          12,
          9,
          11,
          5,
          8,
          4,
          4,
          4,
          4,
          3,
          5,
          3,
          4,
          5,
          5,
          3,
          4,
          2,
          3,
          5,
          8,
          3,
          3,
          6,
          5,
          5,
          4,
          5,
          7,
          10,
          5,
          9,
          9,
          9,
          10,
          6,
          5,
          1,
          3,
          3,
          12,
          5,
          6,
          10,
          9,
          10,
          null,
          6,
          8,
          8,
          5,
          15,
          10,
          11,
          11,
          19,
          7,
          8,
          8,
          7,
          16,
          14,
          15,
          8,
          11,
          13,
          17,
          9,
          16,
          17,
          12,
          12,
          12,
          12,
          8,
          8,
          10,
          14,
          18,
          15,
          15,
          18,
          18,
          16,
          14,
          16,
          16,
          14,
          16,
          16,
          15,
          16,
          20,
          12,
          12,
          16,
          18,
          18,
          19,
          18,
          12,
          19,
          25,
          14,
          21,
          20,
          9,
          7,
          8,
          11,
          13,
          6,
          4,
          9,
          3,
          3,
          3,
          4,
          2,
          5,
          6,
          2,
          4,
          4,
          3,
          2,
          1,
          1,
          6,
          5,
          4,
          6,
          4,
          4,
          9,
          5,
          4,
          2,
          3,
          3,
          7,
          4,
          9,
          12,
          10,
          8,
          12,
          13,
          17,
          11,
          18,
          18,
          19,
          15,
          23,
          15,
          17,
          17,
          15,
          18,
          18,
          19,
          24,
          14,
          13,
          19,
          26,
          19,
          13,
          19,
          19,
          25,
          11,
          11,
          27,
          18,
          25,
          25,
          27,
          27,
          19,
          27,
          11,
          19,
          19,
          11,
          18,
          8,
          17,
          22,
          21,
          8,
          14,
          14,
          14,
          13,
          12,
          5,
          5,
          5,
          5,
          6,
          6,
          6,
          5,
          3,
          4,
          4,
          6,
          3,
          2,
          4,
          3,
          1,
          2,
          2,
          2,
          3,
          3,
          3,
          2,
          5,
          3,
          2,
          6,
          8,
          2,
          5,
          9,
          14,
          13,
          12,
          8,
          5,
          4,
          6,
          7,
          10,
          7,
          8,
          9,
          9,
          13,
          11,
          13,
          13,
          15,
          19,
          17,
          18,
          19,
          19,
          16,
          19,
          18,
          18,
          20,
          18,
          19,
          19,
          20,
          19,
          19,
          18,
          19,
          19,
          19,
          19,
          19,
          19,
          19,
          19,
          19,
          19,
          19,
          19,
          19,
          19,
          19,
          19,
          19,
          19,
          14,
          7,
          3,
          7,
          4,
          2,
          3,
          4,
          2,
          2,
          2,
          2,
          2,
          2,
          2,
          1,
          5,
          3,
          2,
          4,
          2,
          2,
          3,
          4,
          2,
          2,
          2,
          3,
          3,
          3,
          2,
          2,
          5,
          4,
          5,
          4,
          6,
          7,
          8,
          8,
          4,
          5,
          5,
          7,
          5,
          5,
          4,
          5,
          6,
          5,
          3,
          10,
          7,
          12,
          13,
          18,
          15,
          13,
          13,
          10,
          16,
          19,
          15,
          18,
          19,
          12,
          17,
          17,
          19,
          16,
          16,
          19,
          18,
          20,
          20,
          20,
          19,
          19,
          19,
          18,
          19
         ],
         "yaxis": "y"
        },
        {
         "alignmentgroup": "True",
         "hovertemplate": "<b>%{hovertext}</b><br><br>variable=Present<br>time_interval=%{x}<br>value=%{y}<extra></extra>",
         "hovertext": [
          "2021-09-09T11:00:00",
          "2021-09-09T11:15:00",
          "2021-09-09T11:30:00",
          "2021-09-09T11:45:00",
          "2021-09-09T12:00:00",
          "2021-09-09T12:15:00",
          "2021-09-09T12:30:00",
          "2021-09-09T12:45:00",
          "2021-09-09T13:00:00",
          "2021-09-09T13:15:00",
          "2021-09-09T13:30:00",
          "2021-09-09T13:45:00",
          "2021-09-09T14:00:00",
          "2021-09-09T14:15:00",
          "2021-09-09T14:30:00",
          "2021-09-09T14:45:00",
          "2021-09-09T15:00:00",
          "2021-09-09T15:15:00",
          "2021-09-09T15:30:00",
          "2021-09-09T15:45:00",
          "2021-09-09T16:00:00",
          "2021-09-09T16:15:00",
          "2021-09-09T16:30:00",
          "2021-09-09T16:45:00",
          "2021-09-09T17:00:00",
          "2021-09-09T17:15:00",
          "2021-09-09T17:30:00",
          "2021-09-09T17:45:00",
          "2021-09-09T18:00:00",
          "2021-09-09T18:15:00",
          "2021-09-09T18:30:00",
          "2021-09-09T18:45:00",
          "2021-09-09T19:00:00",
          "2021-09-09T19:15:00",
          "2021-09-09T19:30:00",
          "2021-09-09T19:45:00",
          "2021-09-09T20:00:00",
          "2021-09-09T20:15:00",
          "2021-09-09T20:30:00",
          "2021-09-09T20:45:00",
          "2021-09-09T21:00:00",
          "2021-09-09T21:15:00",
          "2021-09-09T21:30:00",
          "2021-09-09T21:45:00",
          "2021-09-09T22:00:00",
          "2021-09-09T22:15:00",
          "2021-09-09T22:30:00",
          "2021-09-09T22:45:00",
          "2021-09-09T23:00:00",
          "2021-09-09T23:15:00",
          "2021-09-09T23:30:00",
          "2021-09-09T23:45:00",
          "2021-09-10T00:00:00",
          "2021-09-10T00:15:00",
          "2021-09-10T00:30:00",
          "2021-09-10T00:45:00",
          "2021-09-10T01:00:00",
          "2021-09-10T01:15:00",
          "2021-09-10T01:30:00",
          "2021-09-10T01:45:00",
          "2021-09-10T02:00:00",
          "2021-09-10T02:15:00",
          "2021-09-10T02:30:00",
          "2021-09-10T02:45:00",
          "2021-09-10T03:00:00",
          "2021-09-10T03:15:00",
          "2021-09-10T03:30:00",
          "2021-09-10T03:45:00",
          "2021-09-10T04:00:00",
          "2021-09-10T04:15:00",
          "2021-09-10T04:30:00",
          "2021-09-10T04:45:00",
          "2021-09-10T05:00:00",
          "2021-09-10T05:15:00",
          "2021-09-10T05:30:00",
          "2021-09-10T05:45:00",
          "2021-09-10T06:00:00",
          "2021-09-10T06:15:00",
          "2021-09-10T06:30:00",
          "2021-09-10T06:45:00",
          "2021-09-10T07:00:00",
          "2021-09-10T07:15:00",
          "2021-09-10T07:30:00",
          "2021-09-10T07:45:00",
          "2021-09-10T08:00:00",
          "2021-09-10T08:15:00",
          "2021-09-10T08:30:00",
          "2021-09-10T08:45:00",
          "2021-09-10T09:00:00",
          "2021-09-10T09:15:00",
          "2021-09-10T09:30:00",
          "2021-09-10T09:45:00",
          "2021-09-10T10:00:00",
          "2021-09-10T10:15:00",
          "2021-09-10T10:30:00",
          "2021-09-10T10:45:00",
          "2021-09-10T11:00:00",
          "2021-09-10T11:15:00",
          "2021-09-10T11:30:00",
          "2021-09-10T11:45:00",
          "2021-09-10T12:00:00",
          "2021-09-10T12:15:00",
          "2021-09-10T12:30:00",
          "2021-09-10T12:45:00",
          "2021-09-10T13:00:00",
          "2021-09-10T13:15:00",
          "2021-09-10T13:30:00",
          "2021-09-10T13:45:00",
          "2021-09-10T14:00:00",
          "2021-09-10T14:15:00",
          "2021-09-10T14:30:00",
          "2021-09-10T14:45:00",
          "2021-09-10T15:00:00",
          "2021-09-10T15:15:00",
          "2021-09-10T15:30:00",
          "2021-09-10T15:45:00",
          "2021-09-10T16:00:00",
          "2021-09-10T16:15:00",
          "2021-09-10T16:30:00",
          "2021-09-10T16:45:00",
          "2021-09-10T17:00:00",
          "2021-09-10T17:15:00",
          "2021-09-10T17:30:00",
          "2021-09-10T17:45:00",
          "2021-09-10T18:00:00",
          "2021-09-10T18:15:00",
          "2021-09-10T18:30:00",
          "2021-09-10T18:45:00",
          "2021-09-10T19:00:00",
          "2021-09-10T19:15:00",
          "2021-09-10T19:30:00",
          "2021-09-10T19:45:00",
          "2021-09-10T20:00:00",
          "2021-09-10T20:15:00",
          "2021-09-10T20:30:00",
          "2021-09-10T20:45:00",
          "2021-09-10T21:00:00",
          "2021-09-10T21:15:00",
          "2021-09-10T21:30:00",
          "2021-09-10T21:45:00",
          "2021-09-10T22:00:00",
          "2021-09-10T22:15:00",
          "2021-09-10T22:30:00",
          "2021-09-10T22:45:00",
          "2021-09-10T23:00:00",
          "2021-09-10T23:15:00",
          "2021-09-10T23:30:00",
          "2021-09-10T23:45:00",
          "2021-09-11T00:00:00",
          "2021-09-11T00:15:00",
          "2021-09-11T00:30:00",
          "2021-09-11T00:45:00",
          "2021-09-11T01:00:00",
          "2021-09-11T01:15:00",
          "2021-09-11T01:30:00",
          "2021-09-11T01:45:00",
          "2021-09-11T02:00:00",
          "2021-09-11T02:15:00",
          "2021-09-11T02:30:00",
          "2021-09-11T02:45:00",
          "2021-09-11T03:00:00",
          "2021-09-11T03:15:00",
          "2021-09-11T03:30:00",
          "2021-09-11T03:45:00",
          "2021-09-11T04:00:00",
          "2021-09-11T04:15:00",
          "2021-09-11T04:30:00",
          "2021-09-11T04:45:00",
          "2021-09-11T05:00:00",
          "2021-09-11T05:15:00",
          "2021-09-11T05:30:00",
          "2021-09-11T05:45:00",
          "2021-09-11T06:00:00",
          "2021-09-11T06:15:00",
          "2021-09-11T06:30:00",
          "2021-09-11T06:45:00",
          "2021-09-11T07:00:00",
          "2021-09-11T07:15:00",
          "2021-09-11T07:30:00",
          "2021-09-11T07:45:00",
          "2021-09-11T08:00:00",
          "2021-09-11T08:15:00",
          "2021-09-11T08:30:00",
          "2021-09-11T08:45:00",
          "2021-09-11T09:00:00",
          "2021-09-11T09:15:00",
          "2021-09-11T09:30:00",
          "2021-09-11T09:45:00",
          "2021-09-11T10:00:00",
          "2021-09-11T10:15:00",
          "2021-09-11T10:30:00",
          "2021-09-11T10:45:00",
          "2021-09-11T11:00:00",
          "2021-09-11T11:15:00",
          "2021-09-11T11:30:00",
          "2021-09-11T11:45:00",
          "2021-09-11T12:00:00",
          "2021-09-11T12:15:00",
          "2021-09-11T12:30:00",
          "2021-09-11T12:45:00",
          "2021-09-11T13:00:00",
          "2021-09-11T13:15:00",
          "2021-09-11T13:30:00",
          "2021-09-11T13:45:00",
          "2021-09-11T14:00:00",
          "2021-09-11T14:15:00",
          "2021-09-11T14:30:00",
          "2021-09-11T14:45:00",
          "2021-09-11T15:00:00",
          "2021-09-11T15:15:00",
          "2021-09-11T15:30:00",
          "2021-09-11T15:45:00",
          "2021-09-11T16:00:00",
          "2021-09-11T16:15:00",
          "2021-09-11T16:30:00",
          "2021-09-11T16:45:00",
          "2021-09-11T17:00:00",
          "2021-09-11T17:15:00",
          "2021-09-11T17:30:00",
          "2021-09-11T17:45:00",
          "2021-09-11T18:00:00",
          "2021-09-11T18:15:00",
          "2021-09-11T18:30:00",
          "2021-09-11T18:45:00",
          "2021-09-11T19:00:00",
          "2021-09-11T19:15:00",
          "2021-09-11T19:30:00",
          "2021-09-11T19:45:00",
          "2021-09-11T20:00:00",
          "2021-09-11T20:15:00",
          "2021-09-11T20:30:00",
          "2021-09-11T20:45:00",
          "2021-09-11T21:00:00",
          "2021-09-11T21:15:00",
          "2021-09-11T21:30:00",
          "2021-09-11T21:45:00",
          "2021-09-11T22:00:00",
          "2021-09-11T22:15:00",
          "2021-09-11T22:30:00",
          "2021-09-11T22:45:00",
          "2021-09-11T23:00:00",
          "2021-09-11T23:15:00",
          "2021-09-11T23:30:00",
          "2021-09-11T23:45:00",
          "2021-09-12T00:00:00",
          "2021-09-12T00:15:00",
          "2021-09-12T00:30:00",
          "2021-09-12T00:45:00",
          "2021-09-12T01:00:00",
          "2021-09-12T01:15:00",
          "2021-09-12T01:30:00",
          "2021-09-12T01:45:00",
          "2021-09-12T02:00:00",
          "2021-09-12T02:15:00",
          "2021-09-12T02:30:00",
          "2021-09-12T02:45:00",
          "2021-09-12T03:00:00",
          "2021-09-12T03:15:00",
          "2021-09-12T03:30:00",
          "2021-09-12T03:45:00",
          "2021-09-12T04:00:00",
          "2021-09-12T04:15:00",
          "2021-09-12T04:30:00",
          "2021-09-12T04:45:00",
          "2021-09-12T05:00:00",
          "2021-09-12T05:15:00",
          "2021-09-12T05:30:00",
          "2021-09-12T05:45:00",
          "2021-09-12T06:00:00",
          "2021-09-12T06:15:00",
          "2021-09-12T06:30:00",
          "2021-09-12T06:45:00",
          "2021-09-12T07:00:00",
          "2021-09-12T07:15:00",
          "2021-09-12T07:30:00",
          "2021-09-12T07:45:00",
          "2021-09-12T08:00:00",
          "2021-09-12T08:15:00",
          "2021-09-12T08:30:00",
          "2021-09-12T08:45:00",
          "2021-09-12T09:00:00",
          "2021-09-12T09:15:00",
          "2021-09-12T09:30:00",
          "2021-09-12T09:45:00",
          "2021-09-12T10:00:00",
          "2021-09-12T10:15:00",
          "2021-09-12T10:30:00",
          "2021-09-12T10:45:00",
          "2021-09-12T11:00:00",
          "2021-09-12T11:15:00",
          "2021-09-12T11:30:00",
          "2021-09-12T11:45:00",
          "2021-09-12T12:00:00",
          "2021-09-12T12:15:00",
          "2021-09-12T12:30:00",
          "2021-09-12T12:45:00",
          "2021-09-12T13:00:00",
          "2021-09-12T13:15:00",
          "2021-09-12T13:30:00",
          "2021-09-12T13:45:00",
          "2021-09-12T14:00:00",
          "2021-09-12T14:15:00",
          "2021-09-12T14:30:00",
          "2021-09-12T14:45:00",
          "2021-09-12T15:00:00",
          "2021-09-12T15:15:00",
          "2021-09-12T15:30:00",
          "2021-09-12T15:45:00",
          "2021-09-12T16:00:00",
          "2021-09-12T16:15:00",
          "2021-09-12T16:30:00",
          "2021-09-12T16:45:00",
          "2021-09-12T17:00:00",
          "2021-09-12T17:15:00",
          "2021-09-12T17:30:00",
          "2021-09-12T17:45:00",
          "2021-09-12T18:00:00",
          "2021-09-12T18:15:00",
          "2021-09-12T18:30:00",
          "2021-09-12T18:45:00",
          "2021-09-12T19:00:00",
          "2021-09-12T19:15:00",
          "2021-09-12T19:30:00",
          "2021-09-12T19:45:00",
          "2021-09-12T20:00:00",
          "2021-09-12T20:15:00",
          "2021-09-12T20:30:00",
          "2021-09-12T20:45:00",
          "2021-09-12T21:00:00",
          "2021-09-12T21:15:00",
          "2021-09-12T21:30:00",
          "2021-09-12T21:45:00",
          "2021-09-12T22:00:00",
          "2021-09-12T22:15:00",
          "2021-09-12T22:30:00",
          "2021-09-12T22:45:00",
          "2021-09-12T23:00:00",
          "2021-09-12T23:15:00",
          "2021-09-12T23:30:00",
          "2021-09-12T23:45:00",
          "2021-09-13T00:00:00",
          "2021-09-13T00:15:00",
          "2021-09-13T00:30:00",
          "2021-09-13T00:45:00",
          "2021-09-13T01:00:00",
          "2021-09-13T01:15:00",
          "2021-09-13T01:30:00",
          "2021-09-13T01:45:00",
          "2021-09-13T02:00:00",
          "2021-09-13T02:15:00",
          "2021-09-13T02:30:00",
          "2021-09-13T02:45:00",
          "2021-09-13T03:00:00",
          "2021-09-13T03:15:00",
          "2021-09-13T03:30:00",
          "2021-09-13T03:45:00",
          "2021-09-13T04:00:00",
          "2021-09-13T04:15:00",
          "2021-09-13T04:30:00",
          "2021-09-13T04:45:00",
          "2021-09-13T05:00:00",
          "2021-09-13T05:15:00",
          "2021-09-13T05:30:00",
          "2021-09-13T05:45:00",
          "2021-09-13T06:00:00",
          "2021-09-13T06:15:00",
          "2021-09-13T06:30:00",
          "2021-09-13T06:45:00",
          "2021-09-13T07:00:00",
          "2021-09-13T07:15:00",
          "2021-09-13T07:30:00",
          "2021-09-13T07:45:00",
          "2021-09-13T08:00:00",
          "2021-09-13T08:15:00",
          "2021-09-13T08:30:00",
          "2021-09-13T08:45:00",
          "2021-09-13T09:00:00",
          "2021-09-13T09:15:00",
          "2021-09-13T09:30:00",
          "2021-09-13T09:45:00",
          "2021-09-13T10:00:00",
          "2021-09-13T10:15:00",
          "2021-09-13T10:30:00",
          "2021-09-13T10:45:00",
          "2021-09-13T11:00:00",
          "2021-09-13T11:15:00",
          "2021-09-13T11:30:00",
          "2021-09-13T11:45:00",
          "2021-09-13T12:00:00",
          "2021-09-13T12:15:00",
          "2021-09-13T12:30:00",
          "2021-09-13T12:45:00",
          "2021-09-13T13:00:00",
          "2021-09-13T13:15:00",
          "2021-09-13T13:30:00",
          "2021-09-13T13:45:00",
          "2021-09-13T14:00:00",
          "2021-09-13T14:15:00",
          "2021-09-13T14:30:00",
          "2021-09-13T14:45:00",
          "2021-09-13T15:00:00",
          "2021-09-13T15:15:00",
          "2021-09-13T15:30:00",
          "2021-09-13T15:45:00",
          "2021-09-13T16:00:00",
          "2021-09-13T16:15:00",
          "2021-09-13T16:30:00",
          "2021-09-13T16:45:00",
          "2021-09-13T17:00:00",
          "2021-09-13T17:15:00",
          "2021-09-13T17:30:00",
          "2021-09-13T17:45:00",
          "2021-09-13T18:00:00",
          "2021-09-13T18:15:00",
          "2021-09-13T18:30:00",
          "2021-09-13T18:45:00",
          "2021-09-13T19:00:00",
          "2021-09-13T19:15:00",
          "2021-09-13T19:30:00",
          "2021-09-13T19:45:00",
          "2021-09-13T20:00:00",
          "2021-09-13T20:15:00",
          "2021-09-13T20:30:00",
          "2021-09-13T20:45:00",
          "2021-09-13T21:00:00",
          "2021-09-13T21:15:00",
          "2021-09-13T21:30:00",
          "2021-09-13T21:45:00",
          "2021-09-13T22:00:00",
          "2021-09-13T22:15:00",
          "2021-09-13T22:30:00",
          "2021-09-13T22:45:00",
          "2021-09-13T23:00:00",
          "2021-09-13T23:15:00",
          "2021-09-13T23:30:00",
          "2021-09-13T23:45:00",
          "2021-09-14T00:00:00",
          "2021-09-14T00:15:00",
          "2021-09-14T00:30:00",
          "2021-09-14T00:45:00",
          "2021-09-14T01:00:00",
          "2021-09-14T01:15:00",
          "2021-09-14T01:30:00",
          "2021-09-14T01:45:00",
          "2021-09-14T02:00:00",
          "2021-09-14T02:15:00",
          "2021-09-14T02:30:00",
          "2021-09-14T02:45:00",
          "2021-09-14T03:00:00",
          "2021-09-14T03:15:00",
          "2021-09-14T03:30:00",
          "2021-09-14T03:45:00",
          "2021-09-14T04:00:00",
          "2021-09-14T04:15:00",
          "2021-09-14T04:30:00",
          "2021-09-14T04:45:00",
          "2021-09-14T05:00:00",
          "2021-09-14T05:15:00",
          "2021-09-14T05:30:00",
          "2021-09-14T05:45:00",
          "2021-09-14T06:00:00",
          "2021-09-14T06:15:00",
          "2021-09-14T06:30:00",
          "2021-09-14T06:45:00",
          "2021-09-14T07:00:00",
          "2021-09-14T07:15:00",
          "2021-09-14T07:30:00",
          "2021-09-14T07:45:00",
          "2021-09-14T08:00:00",
          "2021-09-14T08:15:00",
          "2021-09-14T08:30:00",
          "2021-09-14T08:45:00",
          "2021-09-14T09:00:00",
          "2021-09-14T09:15:00",
          "2021-09-14T09:30:00",
          "2021-09-14T09:45:00",
          "2021-09-14T10:00:00",
          "2021-09-14T10:15:00",
          "2021-09-14T10:30:00",
          "2021-09-14T10:45:00",
          "2021-09-14T11:00:00",
          "2021-09-14T11:15:00",
          "2021-09-14T11:30:00",
          "2021-09-14T11:45:00",
          "2021-09-14T12:00:00",
          "2021-09-14T12:15:00",
          "2021-09-14T12:30:00",
          "2021-09-14T12:45:00",
          "2021-09-14T13:00:00",
          "2021-09-14T13:15:00",
          "2021-09-14T13:30:00",
          "2021-09-14T13:45:00",
          "2021-09-14T14:00:00",
          "2021-09-14T14:15:00",
          "2021-09-14T14:30:00",
          "2021-09-14T14:45:00",
          "2021-09-14T15:00:00",
          "2021-09-14T15:15:00",
          "2021-09-14T15:30:00",
          "2021-09-14T15:45:00",
          "2021-09-14T16:00:00",
          "2021-09-14T16:15:00",
          "2021-09-14T16:30:00",
          "2021-09-14T16:45:00",
          "2021-09-14T17:00:00",
          "2021-09-14T17:15:00",
          "2021-09-14T17:30:00",
          "2021-09-14T17:45:00",
          "2021-09-14T18:00:00",
          "2021-09-14T18:15:00",
          "2021-09-14T18:30:00",
          "2021-09-14T18:45:00",
          "2021-09-14T19:00:00",
          "2021-09-14T19:15:00",
          "2021-09-14T19:30:00",
          "2021-09-14T19:45:00",
          "2021-09-14T20:00:00",
          "2021-09-14T20:15:00",
          "2021-09-14T20:30:00",
          "2021-09-14T20:45:00",
          "2021-09-14T21:00:00",
          "2021-09-14T21:15:00",
          "2021-09-14T21:30:00",
          "2021-09-14T21:45:00",
          "2021-09-14T22:00:00",
          "2021-09-14T22:15:00",
          "2021-09-14T22:30:00",
          "2021-09-14T22:45:00",
          "2021-09-14T23:00:00",
          "2021-09-14T23:15:00",
          "2021-09-14T23:30:00",
          "2021-09-14T23:45:00",
          "2021-09-15T00:00:00",
          "2021-09-15T00:15:00",
          "2021-09-15T00:30:00",
          "2021-09-15T00:45:00",
          "2021-09-15T01:00:00",
          "2021-09-15T01:15:00",
          "2021-09-15T01:30:00",
          "2021-09-15T01:45:00"
         ],
         "legendgroup": "Present",
         "marker": {
          "color": "red",
          "pattern": {
           "shape": ""
          }
         },
         "name": "Present",
         "offsetgroup": "Present",
         "orientation": "v",
         "showlegend": true,
         "textposition": "auto",
         "type": "bar",
         "x": [
          "2021-09-09T11:00:00",
          "2021-09-09T11:15:00",
          "2021-09-09T11:30:00",
          "2021-09-09T11:45:00",
          "2021-09-09T12:00:00",
          "2021-09-09T12:15:00",
          "2021-09-09T12:30:00",
          "2021-09-09T12:45:00",
          "2021-09-09T13:00:00",
          "2021-09-09T13:15:00",
          "2021-09-09T13:30:00",
          "2021-09-09T13:45:00",
          "2021-09-09T14:00:00",
          "2021-09-09T14:15:00",
          "2021-09-09T14:30:00",
          "2021-09-09T14:45:00",
          "2021-09-09T15:00:00",
          "2021-09-09T15:15:00",
          "2021-09-09T15:30:00",
          "2021-09-09T15:45:00",
          "2021-09-09T16:00:00",
          "2021-09-09T16:15:00",
          "2021-09-09T16:30:00",
          "2021-09-09T16:45:00",
          "2021-09-09T17:00:00",
          "2021-09-09T17:15:00",
          "2021-09-09T17:30:00",
          "2021-09-09T17:45:00",
          "2021-09-09T18:00:00",
          "2021-09-09T18:15:00",
          "2021-09-09T18:30:00",
          "2021-09-09T18:45:00",
          "2021-09-09T19:00:00",
          "2021-09-09T19:15:00",
          "2021-09-09T19:30:00",
          "2021-09-09T19:45:00",
          "2021-09-09T20:00:00",
          "2021-09-09T20:15:00",
          "2021-09-09T20:30:00",
          "2021-09-09T20:45:00",
          "2021-09-09T21:00:00",
          "2021-09-09T21:15:00",
          "2021-09-09T21:30:00",
          "2021-09-09T21:45:00",
          "2021-09-09T22:00:00",
          "2021-09-09T22:15:00",
          "2021-09-09T22:30:00",
          "2021-09-09T22:45:00",
          "2021-09-09T23:00:00",
          "2021-09-09T23:15:00",
          "2021-09-09T23:30:00",
          "2021-09-09T23:45:00",
          "2021-09-10T00:00:00",
          "2021-09-10T00:15:00",
          "2021-09-10T00:30:00",
          "2021-09-10T00:45:00",
          "2021-09-10T01:00:00",
          "2021-09-10T01:15:00",
          "2021-09-10T01:30:00",
          "2021-09-10T01:45:00",
          "2021-09-10T02:00:00",
          "2021-09-10T02:15:00",
          "2021-09-10T02:30:00",
          "2021-09-10T02:45:00",
          "2021-09-10T03:00:00",
          "2021-09-10T03:15:00",
          "2021-09-10T03:30:00",
          "2021-09-10T03:45:00",
          "2021-09-10T04:00:00",
          "2021-09-10T04:15:00",
          "2021-09-10T04:30:00",
          "2021-09-10T04:45:00",
          "2021-09-10T05:00:00",
          "2021-09-10T05:15:00",
          "2021-09-10T05:30:00",
          "2021-09-10T05:45:00",
          "2021-09-10T06:00:00",
          "2021-09-10T06:15:00",
          "2021-09-10T06:30:00",
          "2021-09-10T06:45:00",
          "2021-09-10T07:00:00",
          "2021-09-10T07:15:00",
          "2021-09-10T07:30:00",
          "2021-09-10T07:45:00",
          "2021-09-10T08:00:00",
          "2021-09-10T08:15:00",
          "2021-09-10T08:30:00",
          "2021-09-10T08:45:00",
          "2021-09-10T09:00:00",
          "2021-09-10T09:15:00",
          "2021-09-10T09:30:00",
          "2021-09-10T09:45:00",
          "2021-09-10T10:00:00",
          "2021-09-10T10:15:00",
          "2021-09-10T10:30:00",
          "2021-09-10T10:45:00",
          "2021-09-10T11:00:00",
          "2021-09-10T11:15:00",
          "2021-09-10T11:30:00",
          "2021-09-10T11:45:00",
          "2021-09-10T12:00:00",
          "2021-09-10T12:15:00",
          "2021-09-10T12:30:00",
          "2021-09-10T12:45:00",
          "2021-09-10T13:00:00",
          "2021-09-10T13:15:00",
          "2021-09-10T13:30:00",
          "2021-09-10T13:45:00",
          "2021-09-10T14:00:00",
          "2021-09-10T14:15:00",
          "2021-09-10T14:30:00",
          "2021-09-10T14:45:00",
          "2021-09-10T15:00:00",
          "2021-09-10T15:15:00",
          "2021-09-10T15:30:00",
          "2021-09-10T15:45:00",
          "2021-09-10T16:00:00",
          "2021-09-10T16:15:00",
          "2021-09-10T16:30:00",
          "2021-09-10T16:45:00",
          "2021-09-10T17:00:00",
          "2021-09-10T17:15:00",
          "2021-09-10T17:30:00",
          "2021-09-10T17:45:00",
          "2021-09-10T18:00:00",
          "2021-09-10T18:15:00",
          "2021-09-10T18:30:00",
          "2021-09-10T18:45:00",
          "2021-09-10T19:00:00",
          "2021-09-10T19:15:00",
          "2021-09-10T19:30:00",
          "2021-09-10T19:45:00",
          "2021-09-10T20:00:00",
          "2021-09-10T20:15:00",
          "2021-09-10T20:30:00",
          "2021-09-10T20:45:00",
          "2021-09-10T21:00:00",
          "2021-09-10T21:15:00",
          "2021-09-10T21:30:00",
          "2021-09-10T21:45:00",
          "2021-09-10T22:00:00",
          "2021-09-10T22:15:00",
          "2021-09-10T22:30:00",
          "2021-09-10T22:45:00",
          "2021-09-10T23:00:00",
          "2021-09-10T23:15:00",
          "2021-09-10T23:30:00",
          "2021-09-10T23:45:00",
          "2021-09-11T00:00:00",
          "2021-09-11T00:15:00",
          "2021-09-11T00:30:00",
          "2021-09-11T00:45:00",
          "2021-09-11T01:00:00",
          "2021-09-11T01:15:00",
          "2021-09-11T01:30:00",
          "2021-09-11T01:45:00",
          "2021-09-11T02:00:00",
          "2021-09-11T02:15:00",
          "2021-09-11T02:30:00",
          "2021-09-11T02:45:00",
          "2021-09-11T03:00:00",
          "2021-09-11T03:15:00",
          "2021-09-11T03:30:00",
          "2021-09-11T03:45:00",
          "2021-09-11T04:00:00",
          "2021-09-11T04:15:00",
          "2021-09-11T04:30:00",
          "2021-09-11T04:45:00",
          "2021-09-11T05:00:00",
          "2021-09-11T05:15:00",
          "2021-09-11T05:30:00",
          "2021-09-11T05:45:00",
          "2021-09-11T06:00:00",
          "2021-09-11T06:15:00",
          "2021-09-11T06:30:00",
          "2021-09-11T06:45:00",
          "2021-09-11T07:00:00",
          "2021-09-11T07:15:00",
          "2021-09-11T07:30:00",
          "2021-09-11T07:45:00",
          "2021-09-11T08:00:00",
          "2021-09-11T08:15:00",
          "2021-09-11T08:30:00",
          "2021-09-11T08:45:00",
          "2021-09-11T09:00:00",
          "2021-09-11T09:15:00",
          "2021-09-11T09:30:00",
          "2021-09-11T09:45:00",
          "2021-09-11T10:00:00",
          "2021-09-11T10:15:00",
          "2021-09-11T10:30:00",
          "2021-09-11T10:45:00",
          "2021-09-11T11:00:00",
          "2021-09-11T11:15:00",
          "2021-09-11T11:30:00",
          "2021-09-11T11:45:00",
          "2021-09-11T12:00:00",
          "2021-09-11T12:15:00",
          "2021-09-11T12:30:00",
          "2021-09-11T12:45:00",
          "2021-09-11T13:00:00",
          "2021-09-11T13:15:00",
          "2021-09-11T13:30:00",
          "2021-09-11T13:45:00",
          "2021-09-11T14:00:00",
          "2021-09-11T14:15:00",
          "2021-09-11T14:30:00",
          "2021-09-11T14:45:00",
          "2021-09-11T15:00:00",
          "2021-09-11T15:15:00",
          "2021-09-11T15:30:00",
          "2021-09-11T15:45:00",
          "2021-09-11T16:00:00",
          "2021-09-11T16:15:00",
          "2021-09-11T16:30:00",
          "2021-09-11T16:45:00",
          "2021-09-11T17:00:00",
          "2021-09-11T17:15:00",
          "2021-09-11T17:30:00",
          "2021-09-11T17:45:00",
          "2021-09-11T18:00:00",
          "2021-09-11T18:15:00",
          "2021-09-11T18:30:00",
          "2021-09-11T18:45:00",
          "2021-09-11T19:00:00",
          "2021-09-11T19:15:00",
          "2021-09-11T19:30:00",
          "2021-09-11T19:45:00",
          "2021-09-11T20:00:00",
          "2021-09-11T20:15:00",
          "2021-09-11T20:30:00",
          "2021-09-11T20:45:00",
          "2021-09-11T21:00:00",
          "2021-09-11T21:15:00",
          "2021-09-11T21:30:00",
          "2021-09-11T21:45:00",
          "2021-09-11T22:00:00",
          "2021-09-11T22:15:00",
          "2021-09-11T22:30:00",
          "2021-09-11T22:45:00",
          "2021-09-11T23:00:00",
          "2021-09-11T23:15:00",
          "2021-09-11T23:30:00",
          "2021-09-11T23:45:00",
          "2021-09-12T00:00:00",
          "2021-09-12T00:15:00",
          "2021-09-12T00:30:00",
          "2021-09-12T00:45:00",
          "2021-09-12T01:00:00",
          "2021-09-12T01:15:00",
          "2021-09-12T01:30:00",
          "2021-09-12T01:45:00",
          "2021-09-12T02:00:00",
          "2021-09-12T02:15:00",
          "2021-09-12T02:30:00",
          "2021-09-12T02:45:00",
          "2021-09-12T03:00:00",
          "2021-09-12T03:15:00",
          "2021-09-12T03:30:00",
          "2021-09-12T03:45:00",
          "2021-09-12T04:00:00",
          "2021-09-12T04:15:00",
          "2021-09-12T04:30:00",
          "2021-09-12T04:45:00",
          "2021-09-12T05:00:00",
          "2021-09-12T05:15:00",
          "2021-09-12T05:30:00",
          "2021-09-12T05:45:00",
          "2021-09-12T06:00:00",
          "2021-09-12T06:15:00",
          "2021-09-12T06:30:00",
          "2021-09-12T06:45:00",
          "2021-09-12T07:00:00",
          "2021-09-12T07:15:00",
          "2021-09-12T07:30:00",
          "2021-09-12T07:45:00",
          "2021-09-12T08:00:00",
          "2021-09-12T08:15:00",
          "2021-09-12T08:30:00",
          "2021-09-12T08:45:00",
          "2021-09-12T09:00:00",
          "2021-09-12T09:15:00",
          "2021-09-12T09:30:00",
          "2021-09-12T09:45:00",
          "2021-09-12T10:00:00",
          "2021-09-12T10:15:00",
          "2021-09-12T10:30:00",
          "2021-09-12T10:45:00",
          "2021-09-12T11:00:00",
          "2021-09-12T11:15:00",
          "2021-09-12T11:30:00",
          "2021-09-12T11:45:00",
          "2021-09-12T12:00:00",
          "2021-09-12T12:15:00",
          "2021-09-12T12:30:00",
          "2021-09-12T12:45:00",
          "2021-09-12T13:00:00",
          "2021-09-12T13:15:00",
          "2021-09-12T13:30:00",
          "2021-09-12T13:45:00",
          "2021-09-12T14:00:00",
          "2021-09-12T14:15:00",
          "2021-09-12T14:30:00",
          "2021-09-12T14:45:00",
          "2021-09-12T15:00:00",
          "2021-09-12T15:15:00",
          "2021-09-12T15:30:00",
          "2021-09-12T15:45:00",
          "2021-09-12T16:00:00",
          "2021-09-12T16:15:00",
          "2021-09-12T16:30:00",
          "2021-09-12T16:45:00",
          "2021-09-12T17:00:00",
          "2021-09-12T17:15:00",
          "2021-09-12T17:30:00",
          "2021-09-12T17:45:00",
          "2021-09-12T18:00:00",
          "2021-09-12T18:15:00",
          "2021-09-12T18:30:00",
          "2021-09-12T18:45:00",
          "2021-09-12T19:00:00",
          "2021-09-12T19:15:00",
          "2021-09-12T19:30:00",
          "2021-09-12T19:45:00",
          "2021-09-12T20:00:00",
          "2021-09-12T20:15:00",
          "2021-09-12T20:30:00",
          "2021-09-12T20:45:00",
          "2021-09-12T21:00:00",
          "2021-09-12T21:15:00",
          "2021-09-12T21:30:00",
          "2021-09-12T21:45:00",
          "2021-09-12T22:00:00",
          "2021-09-12T22:15:00",
          "2021-09-12T22:30:00",
          "2021-09-12T22:45:00",
          "2021-09-12T23:00:00",
          "2021-09-12T23:15:00",
          "2021-09-12T23:30:00",
          "2021-09-12T23:45:00",
          "2021-09-13T00:00:00",
          "2021-09-13T00:15:00",
          "2021-09-13T00:30:00",
          "2021-09-13T00:45:00",
          "2021-09-13T01:00:00",
          "2021-09-13T01:15:00",
          "2021-09-13T01:30:00",
          "2021-09-13T01:45:00",
          "2021-09-13T02:00:00",
          "2021-09-13T02:15:00",
          "2021-09-13T02:30:00",
          "2021-09-13T02:45:00",
          "2021-09-13T03:00:00",
          "2021-09-13T03:15:00",
          "2021-09-13T03:30:00",
          "2021-09-13T03:45:00",
          "2021-09-13T04:00:00",
          "2021-09-13T04:15:00",
          "2021-09-13T04:30:00",
          "2021-09-13T04:45:00",
          "2021-09-13T05:00:00",
          "2021-09-13T05:15:00",
          "2021-09-13T05:30:00",
          "2021-09-13T05:45:00",
          "2021-09-13T06:00:00",
          "2021-09-13T06:15:00",
          "2021-09-13T06:30:00",
          "2021-09-13T06:45:00",
          "2021-09-13T07:00:00",
          "2021-09-13T07:15:00",
          "2021-09-13T07:30:00",
          "2021-09-13T07:45:00",
          "2021-09-13T08:00:00",
          "2021-09-13T08:15:00",
          "2021-09-13T08:30:00",
          "2021-09-13T08:45:00",
          "2021-09-13T09:00:00",
          "2021-09-13T09:15:00",
          "2021-09-13T09:30:00",
          "2021-09-13T09:45:00",
          "2021-09-13T10:00:00",
          "2021-09-13T10:15:00",
          "2021-09-13T10:30:00",
          "2021-09-13T10:45:00",
          "2021-09-13T11:00:00",
          "2021-09-13T11:15:00",
          "2021-09-13T11:30:00",
          "2021-09-13T11:45:00",
          "2021-09-13T12:00:00",
          "2021-09-13T12:15:00",
          "2021-09-13T12:30:00",
          "2021-09-13T12:45:00",
          "2021-09-13T13:00:00",
          "2021-09-13T13:15:00",
          "2021-09-13T13:30:00",
          "2021-09-13T13:45:00",
          "2021-09-13T14:00:00",
          "2021-09-13T14:15:00",
          "2021-09-13T14:30:00",
          "2021-09-13T14:45:00",
          "2021-09-13T15:00:00",
          "2021-09-13T15:15:00",
          "2021-09-13T15:30:00",
          "2021-09-13T15:45:00",
          "2021-09-13T16:00:00",
          "2021-09-13T16:15:00",
          "2021-09-13T16:30:00",
          "2021-09-13T16:45:00",
          "2021-09-13T17:00:00",
          "2021-09-13T17:15:00",
          "2021-09-13T17:30:00",
          "2021-09-13T17:45:00",
          "2021-09-13T18:00:00",
          "2021-09-13T18:15:00",
          "2021-09-13T18:30:00",
          "2021-09-13T18:45:00",
          "2021-09-13T19:00:00",
          "2021-09-13T19:15:00",
          "2021-09-13T19:30:00",
          "2021-09-13T19:45:00",
          "2021-09-13T20:00:00",
          "2021-09-13T20:15:00",
          "2021-09-13T20:30:00",
          "2021-09-13T20:45:00",
          "2021-09-13T21:00:00",
          "2021-09-13T21:15:00",
          "2021-09-13T21:30:00",
          "2021-09-13T21:45:00",
          "2021-09-13T22:00:00",
          "2021-09-13T22:15:00",
          "2021-09-13T22:30:00",
          "2021-09-13T22:45:00",
          "2021-09-13T23:00:00",
          "2021-09-13T23:15:00",
          "2021-09-13T23:30:00",
          "2021-09-13T23:45:00",
          "2021-09-14T00:00:00",
          "2021-09-14T00:15:00",
          "2021-09-14T00:30:00",
          "2021-09-14T00:45:00",
          "2021-09-14T01:00:00",
          "2021-09-14T01:15:00",
          "2021-09-14T01:30:00",
          "2021-09-14T01:45:00",
          "2021-09-14T02:00:00",
          "2021-09-14T02:15:00",
          "2021-09-14T02:30:00",
          "2021-09-14T02:45:00",
          "2021-09-14T03:00:00",
          "2021-09-14T03:15:00",
          "2021-09-14T03:30:00",
          "2021-09-14T03:45:00",
          "2021-09-14T04:00:00",
          "2021-09-14T04:15:00",
          "2021-09-14T04:30:00",
          "2021-09-14T04:45:00",
          "2021-09-14T05:00:00",
          "2021-09-14T05:15:00",
          "2021-09-14T05:30:00",
          "2021-09-14T05:45:00",
          "2021-09-14T06:00:00",
          "2021-09-14T06:15:00",
          "2021-09-14T06:30:00",
          "2021-09-14T06:45:00",
          "2021-09-14T07:00:00",
          "2021-09-14T07:15:00",
          "2021-09-14T07:30:00",
          "2021-09-14T07:45:00",
          "2021-09-14T08:00:00",
          "2021-09-14T08:15:00",
          "2021-09-14T08:30:00",
          "2021-09-14T08:45:00",
          "2021-09-14T09:00:00",
          "2021-09-14T09:15:00",
          "2021-09-14T09:30:00",
          "2021-09-14T09:45:00",
          "2021-09-14T10:00:00",
          "2021-09-14T10:15:00",
          "2021-09-14T10:30:00",
          "2021-09-14T10:45:00",
          "2021-09-14T11:00:00",
          "2021-09-14T11:15:00",
          "2021-09-14T11:30:00",
          "2021-09-14T11:45:00",
          "2021-09-14T12:00:00",
          "2021-09-14T12:15:00",
          "2021-09-14T12:30:00",
          "2021-09-14T12:45:00",
          "2021-09-14T13:00:00",
          "2021-09-14T13:15:00",
          "2021-09-14T13:30:00",
          "2021-09-14T13:45:00",
          "2021-09-14T14:00:00",
          "2021-09-14T14:15:00",
          "2021-09-14T14:30:00",
          "2021-09-14T14:45:00",
          "2021-09-14T15:00:00",
          "2021-09-14T15:15:00",
          "2021-09-14T15:30:00",
          "2021-09-14T15:45:00",
          "2021-09-14T16:00:00",
          "2021-09-14T16:15:00",
          "2021-09-14T16:30:00",
          "2021-09-14T16:45:00",
          "2021-09-14T17:00:00",
          "2021-09-14T17:15:00",
          "2021-09-14T17:30:00",
          "2021-09-14T17:45:00",
          "2021-09-14T18:00:00",
          "2021-09-14T18:15:00",
          "2021-09-14T18:30:00",
          "2021-09-14T18:45:00",
          "2021-09-14T19:00:00",
          "2021-09-14T19:15:00",
          "2021-09-14T19:30:00",
          "2021-09-14T19:45:00",
          "2021-09-14T20:00:00",
          "2021-09-14T20:15:00",
          "2021-09-14T20:30:00",
          "2021-09-14T20:45:00",
          "2021-09-14T21:00:00",
          "2021-09-14T21:15:00",
          "2021-09-14T21:30:00",
          "2021-09-14T21:45:00",
          "2021-09-14T22:00:00",
          "2021-09-14T22:15:00",
          "2021-09-14T22:30:00",
          "2021-09-14T22:45:00",
          "2021-09-14T23:00:00",
          "2021-09-14T23:15:00",
          "2021-09-14T23:30:00",
          "2021-09-14T23:45:00",
          "2021-09-15T00:00:00",
          "2021-09-15T00:15:00",
          "2021-09-15T00:30:00",
          "2021-09-15T00:45:00",
          "2021-09-15T01:00:00",
          "2021-09-15T01:15:00",
          "2021-09-15T01:30:00",
          "2021-09-15T01:45:00"
         ],
         "xaxis": "x",
         "y": [
          30,
          31,
          21,
          29,
          32,
          21,
          13,
          21,
          22,
          14,
          20,
          21,
          27,
          22,
          14,
          13,
          20,
          15,
          15,
          21,
          20,
          27,
          23,
          15,
          16,
          13,
          21,
          22,
          24,
          28,
          11,
          17,
          16,
          20,
          16,
          16,
          15,
          10,
          13,
          11,
          6,
          13,
          16,
          13,
          14,
          9,
          5,
          7,
          10,
          12,
          8,
          9,
          10,
          10,
          12,
          10,
          9,
          8,
          7,
          8,
          8,
          10,
          8,
          10,
          9,
          9,
          9,
          9,
          8,
          9,
          9,
          8,
          9,
          9,
          10,
          9,
          11,
          30,
          21,
          28,
          21,
          15,
          14,
          14,
          15,
          26,
          21,
          31,
          14,
          31,
          24,
          33,
          23,
          23,
          14,
          13,
          14,
          22,
          22,
          22,
          15,
          29,
          28,
          28,
          14,
          14,
          23,
          16,
          28,
          26,
          26,
          19,
          17,
          16,
          19,
          16,
          19,
          20,
          16,
          21,
          20,
          21,
          16,
          21,
          14,
          18,
          17,
          16,
          18,
          20,
          16,
          16,
          16,
          13,
          11,
          6,
          6,
          7,
          7,
          7,
          3,
          8,
          6,
          3,
          7,
          5,
          8,
          9,
          5,
          6,
          8,
          8,
          5,
          6,
          6,
          4,
          5,
          3,
          5,
          4,
          4,
          4,
          5,
          5,
          3,
          4,
          4,
          4,
          3,
          4,
          4,
          4,
          4,
          5,
          6,
          7,
          14,
          17,
          16,
          11,
          23,
          17,
          24,
          24,
          18,
          21,
          25,
          17,
          25,
          21,
          24,
          20,
          26,
          21,
          23,
          26,
          20,
          13,
          18,
          18,
          23,
          20,
          20,
          21,
          20,
          18,
          15,
          20,
          21,
          16,
          16,
          20,
          24,
          20,
          19,
          17,
          28,
          13,
          15,
          19,
          20,
          16,
          15,
          null,
          11,
          17,
          17,
          13,
          17,
          15,
          14,
          14,
          14,
          10,
          9,
          9,
          10,
          17,
          19,
          18,
          9,
          14,
          12,
          16,
          8,
          16,
          15,
          13,
          13,
          13,
          13,
          11,
          11,
          10,
          11,
          12,
          10,
          10,
          12,
          14,
          9,
          4,
          9,
          9,
          4,
          9,
          9,
          4,
          9,
          11,
          7,
          7,
          9,
          7,
          7,
          6,
          7,
          6,
          6,
          7,
          11,
          11,
          12,
          9,
          11,
          17,
          14,
          12,
          12,
          14,
          23,
          29,
          15,
          22,
          14,
          16,
          27,
          19,
          30,
          21,
          21,
          22,
          23,
          24,
          24,
          26,
          13,
          21,
          25,
          21,
          21,
          22,
          26,
          21,
          29,
          28,
          28,
          18,
          14,
          16,
          19,
          15,
          17,
          13,
          12,
          8,
          7,
          7,
          7,
          13,
          3,
          9,
          3,
          8,
          8,
          3,
          7,
          7,
          6,
          8,
          4,
          5,
          6,
          7,
          6,
          4,
          6,
          6,
          9,
          5,
          5,
          7,
          7,
          9,
          9,
          7,
          7,
          6,
          7,
          5,
          6,
          6,
          5,
          7,
          8,
          8,
          11,
          12,
          9,
          11,
          11,
          11,
          18,
          13,
          14,
          15,
          20,
          20,
          19,
          19,
          22,
          20,
          19,
          18,
          21,
          19,
          25,
          26,
          21,
          19,
          27,
          20,
          23,
          26,
          25,
          19,
          25,
          23,
          20,
          25,
          23,
          22,
          19,
          22,
          20,
          17,
          12,
          12,
          13,
          17,
          21,
          21,
          19,
          18,
          15,
          18,
          17,
          15,
          16,
          12,
          16,
          14,
          14,
          10,
          8,
          8,
          7,
          6,
          6,
          7,
          6,
          7,
          7,
          5,
          7,
          6,
          6,
          5,
          4,
          6,
          6,
          5,
          5,
          5,
          5,
          5,
          5,
          5,
          5,
          5,
          5,
          5,
          5,
          5,
          5,
          5,
          5,
          5,
          5,
          10,
          17,
          20,
          18,
          20,
          21,
          20,
          19,
          21,
          22,
          22,
          21,
          22,
          22,
          21,
          23,
          21,
          21,
          23,
          22,
          22,
          22,
          22,
          21,
          22,
          23,
          23,
          23,
          23,
          23,
          23,
          23,
          21,
          20,
          20,
          21,
          19,
          19,
          17,
          16,
          21,
          20,
          19,
          17,
          19,
          21,
          20,
          21,
          18,
          19,
          21,
          15,
          19,
          12,
          13,
          8,
          10,
          12,
          12,
          15,
          9,
          7,
          9,
          7,
          6,
          12,
          8,
          8,
          7,
          8,
          8,
          6,
          6,
          5,
          5,
          5,
          6,
          6,
          6,
          7,
          6
         ],
         "yaxis": "y"
        }
       ],
       "layout": {
        "barmode": "relative",
        "height": 300,
        "legend": {
         "title": {
          "text": "variable"
         },
         "tracegroupgap": 0
        },
        "template": {
         "data": {
          "bar": [
           {
            "error_x": {
             "color": "#2a3f5f"
            },
            "error_y": {
             "color": "#2a3f5f"
            },
            "marker": {
             "line": {
              "color": "#E5ECF6",
              "width": 0.5
             },
             "pattern": {
              "fillmode": "overlay",
              "size": 10,
              "solidity": 0.2
             }
            },
            "type": "bar"
           }
          ],
          "barpolar": [
           {
            "marker": {
             "line": {
              "color": "#E5ECF6",
              "width": 0.5
             },
             "pattern": {
              "fillmode": "overlay",
              "size": 10,
              "solidity": 0.2
             }
            },
            "type": "barpolar"
           }
          ],
          "carpet": [
           {
            "aaxis": {
             "endlinecolor": "#2a3f5f",
             "gridcolor": "white",
             "linecolor": "white",
             "minorgridcolor": "white",
             "startlinecolor": "#2a3f5f"
            },
            "baxis": {
             "endlinecolor": "#2a3f5f",
             "gridcolor": "white",
             "linecolor": "white",
             "minorgridcolor": "white",
             "startlinecolor": "#2a3f5f"
            },
            "type": "carpet"
           }
          ],
          "choropleth": [
           {
            "colorbar": {
             "outlinewidth": 0,
             "ticks": ""
            },
            "type": "choropleth"
           }
          ],
          "contour": [
           {
            "colorbar": {
             "outlinewidth": 0,
             "ticks": ""
            },
            "colorscale": [
             [
              0,
              "#0d0887"
             ],
             [
              0.1111111111111111,
              "#46039f"
             ],
             [
              0.2222222222222222,
              "#7201a8"
             ],
             [
              0.3333333333333333,
              "#9c179e"
             ],
             [
              0.4444444444444444,
              "#bd3786"
             ],
             [
              0.5555555555555556,
              "#d8576b"
             ],
             [
              0.6666666666666666,
              "#ed7953"
             ],
             [
              0.7777777777777778,
              "#fb9f3a"
             ],
             [
              0.8888888888888888,
              "#fdca26"
             ],
             [
              1,
              "#f0f921"
             ]
            ],
            "type": "contour"
           }
          ],
          "contourcarpet": [
           {
            "colorbar": {
             "outlinewidth": 0,
             "ticks": ""
            },
            "type": "contourcarpet"
           }
          ],
          "heatmap": [
           {
            "colorbar": {
             "outlinewidth": 0,
             "ticks": ""
            },
            "colorscale": [
             [
              0,
              "#0d0887"
             ],
             [
              0.1111111111111111,
              "#46039f"
             ],
             [
              0.2222222222222222,
              "#7201a8"
             ],
             [
              0.3333333333333333,
              "#9c179e"
             ],
             [
              0.4444444444444444,
              "#bd3786"
             ],
             [
              0.5555555555555556,
              "#d8576b"
             ],
             [
              0.6666666666666666,
              "#ed7953"
             ],
             [
              0.7777777777777778,
              "#fb9f3a"
             ],
             [
              0.8888888888888888,
              "#fdca26"
             ],
             [
              1,
              "#f0f921"
             ]
            ],
            "type": "heatmap"
           }
          ],
          "heatmapgl": [
           {
            "colorbar": {
             "outlinewidth": 0,
             "ticks": ""
            },
            "colorscale": [
             [
              0,
              "#0d0887"
             ],
             [
              0.1111111111111111,
              "#46039f"
             ],
             [
              0.2222222222222222,
              "#7201a8"
             ],
             [
              0.3333333333333333,
              "#9c179e"
             ],
             [
              0.4444444444444444,
              "#bd3786"
             ],
             [
              0.5555555555555556,
              "#d8576b"
             ],
             [
              0.6666666666666666,
              "#ed7953"
             ],
             [
              0.7777777777777778,
              "#fb9f3a"
             ],
             [
              0.8888888888888888,
              "#fdca26"
             ],
             [
              1,
              "#f0f921"
             ]
            ],
            "type": "heatmapgl"
           }
          ],
          "histogram": [
           {
            "marker": {
             "pattern": {
              "fillmode": "overlay",
              "size": 10,
              "solidity": 0.2
             }
            },
            "type": "histogram"
           }
          ],
          "histogram2d": [
           {
            "colorbar": {
             "outlinewidth": 0,
             "ticks": ""
            },
            "colorscale": [
             [
              0,
              "#0d0887"
             ],
             [
              0.1111111111111111,
              "#46039f"
             ],
             [
              0.2222222222222222,
              "#7201a8"
             ],
             [
              0.3333333333333333,
              "#9c179e"
             ],
             [
              0.4444444444444444,
              "#bd3786"
             ],
             [
              0.5555555555555556,
              "#d8576b"
             ],
             [
              0.6666666666666666,
              "#ed7953"
             ],
             [
              0.7777777777777778,
              "#fb9f3a"
             ],
             [
              0.8888888888888888,
              "#fdca26"
             ],
             [
              1,
              "#f0f921"
             ]
            ],
            "type": "histogram2d"
           }
          ],
          "histogram2dcontour": [
           {
            "colorbar": {
             "outlinewidth": 0,
             "ticks": ""
            },
            "colorscale": [
             [
              0,
              "#0d0887"
             ],
             [
              0.1111111111111111,
              "#46039f"
             ],
             [
              0.2222222222222222,
              "#7201a8"
             ],
             [
              0.3333333333333333,
              "#9c179e"
             ],
             [
              0.4444444444444444,
              "#bd3786"
             ],
             [
              0.5555555555555556,
              "#d8576b"
             ],
             [
              0.6666666666666666,
              "#ed7953"
             ],
             [
              0.7777777777777778,
              "#fb9f3a"
             ],
             [
              0.8888888888888888,
              "#fdca26"
             ],
             [
              1,
              "#f0f921"
             ]
            ],
            "type": "histogram2dcontour"
           }
          ],
          "mesh3d": [
           {
            "colorbar": {
             "outlinewidth": 0,
             "ticks": ""
            },
            "type": "mesh3d"
           }
          ],
          "parcoords": [
           {
            "line": {
             "colorbar": {
              "outlinewidth": 0,
              "ticks": ""
             }
            },
            "type": "parcoords"
           }
          ],
          "pie": [
           {
            "automargin": true,
            "type": "pie"
           }
          ],
          "scatter": [
           {
            "marker": {
             "colorbar": {
              "outlinewidth": 0,
              "ticks": ""
             }
            },
            "type": "scatter"
           }
          ],
          "scatter3d": [
           {
            "line": {
             "colorbar": {
              "outlinewidth": 0,
              "ticks": ""
             }
            },
            "marker": {
             "colorbar": {
              "outlinewidth": 0,
              "ticks": ""
             }
            },
            "type": "scatter3d"
           }
          ],
          "scattercarpet": [
           {
            "marker": {
             "colorbar": {
              "outlinewidth": 0,
              "ticks": ""
             }
            },
            "type": "scattercarpet"
           }
          ],
          "scattergeo": [
           {
            "marker": {
             "colorbar": {
              "outlinewidth": 0,
              "ticks": ""
             }
            },
            "type": "scattergeo"
           }
          ],
          "scattergl": [
           {
            "marker": {
             "colorbar": {
              "outlinewidth": 0,
              "ticks": ""
             }
            },
            "type": "scattergl"
           }
          ],
          "scattermapbox": [
           {
            "marker": {
             "colorbar": {
              "outlinewidth": 0,
              "ticks": ""
             }
            },
            "type": "scattermapbox"
           }
          ],
          "scatterpolar": [
           {
            "marker": {
             "colorbar": {
              "outlinewidth": 0,
              "ticks": ""
             }
            },
            "type": "scatterpolar"
           }
          ],
          "scatterpolargl": [
           {
            "marker": {
             "colorbar": {
              "outlinewidth": 0,
              "ticks": ""
             }
            },
            "type": "scatterpolargl"
           }
          ],
          "scatterternary": [
           {
            "marker": {
             "colorbar": {
              "outlinewidth": 0,
              "ticks": ""
             }
            },
            "type": "scatterternary"
           }
          ],
          "surface": [
           {
            "colorbar": {
             "outlinewidth": 0,
             "ticks": ""
            },
            "colorscale": [
             [
              0,
              "#0d0887"
             ],
             [
              0.1111111111111111,
              "#46039f"
             ],
             [
              0.2222222222222222,
              "#7201a8"
             ],
             [
              0.3333333333333333,
              "#9c179e"
             ],
             [
              0.4444444444444444,
              "#bd3786"
             ],
             [
              0.5555555555555556,
              "#d8576b"
             ],
             [
              0.6666666666666666,
              "#ed7953"
             ],
             [
              0.7777777777777778,
              "#fb9f3a"
             ],
             [
              0.8888888888888888,
              "#fdca26"
             ],
             [
              1,
              "#f0f921"
             ]
            ],
            "type": "surface"
           }
          ],
          "table": [
           {
            "cells": {
             "fill": {
              "color": "#EBF0F8"
             },
             "line": {
              "color": "white"
             }
            },
            "header": {
             "fill": {
              "color": "#C8D4E3"
             },
             "line": {
              "color": "white"
             }
            },
            "type": "table"
           }
          ]
         },
         "layout": {
          "annotationdefaults": {
           "arrowcolor": "#2a3f5f",
           "arrowhead": 0,
           "arrowwidth": 1
          },
          "autotypenumbers": "strict",
          "coloraxis": {
           "colorbar": {
            "outlinewidth": 0,
            "ticks": ""
           }
          },
          "colorscale": {
           "diverging": [
            [
             0,
             "#8e0152"
            ],
            [
             0.1,
             "#c51b7d"
            ],
            [
             0.2,
             "#de77ae"
            ],
            [
             0.3,
             "#f1b6da"
            ],
            [
             0.4,
             "#fde0ef"
            ],
            [
             0.5,
             "#f7f7f7"
            ],
            [
             0.6,
             "#e6f5d0"
            ],
            [
             0.7,
             "#b8e186"
            ],
            [
             0.8,
             "#7fbc41"
            ],
            [
             0.9,
             "#4d9221"
            ],
            [
             1,
             "#276419"
            ]
           ],
           "sequential": [
            [
             0,
             "#0d0887"
            ],
            [
             0.1111111111111111,
             "#46039f"
            ],
            [
             0.2222222222222222,
             "#7201a8"
            ],
            [
             0.3333333333333333,
             "#9c179e"
            ],
            [
             0.4444444444444444,
             "#bd3786"
            ],
            [
             0.5555555555555556,
             "#d8576b"
            ],
            [
             0.6666666666666666,
             "#ed7953"
            ],
            [
             0.7777777777777778,
             "#fb9f3a"
            ],
            [
             0.8888888888888888,
             "#fdca26"
            ],
            [
             1,
             "#f0f921"
            ]
           ],
           "sequentialminus": [
            [
             0,
             "#0d0887"
            ],
            [
             0.1111111111111111,
             "#46039f"
            ],
            [
             0.2222222222222222,
             "#7201a8"
            ],
            [
             0.3333333333333333,
             "#9c179e"
            ],
            [
             0.4444444444444444,
             "#bd3786"
            ],
            [
             0.5555555555555556,
             "#d8576b"
            ],
            [
             0.6666666666666666,
             "#ed7953"
            ],
            [
             0.7777777777777778,
             "#fb9f3a"
            ],
            [
             0.8888888888888888,
             "#fdca26"
            ],
            [
             1,
             "#f0f921"
            ]
           ]
          },
          "colorway": [
           "#636efa",
           "#EF553B",
           "#00cc96",
           "#ab63fa",
           "#FFA15A",
           "#19d3f3",
           "#FF6692",
           "#B6E880",
           "#FF97FF",
           "#FECB52"
          ],
          "font": {
           "color": "#2a3f5f"
          },
          "geo": {
           "bgcolor": "white",
           "lakecolor": "white",
           "landcolor": "#E5ECF6",
           "showlakes": true,
           "showland": true,
           "subunitcolor": "white"
          },
          "hoverlabel": {
           "align": "left"
          },
          "hovermode": "closest",
          "mapbox": {
           "style": "light"
          },
          "paper_bgcolor": "white",
          "plot_bgcolor": "#E5ECF6",
          "polar": {
           "angularaxis": {
            "gridcolor": "white",
            "linecolor": "white",
            "ticks": ""
           },
           "bgcolor": "#E5ECF6",
           "radialaxis": {
            "gridcolor": "white",
            "linecolor": "white",
            "ticks": ""
           }
          },
          "scene": {
           "xaxis": {
            "backgroundcolor": "#E5ECF6",
            "gridcolor": "white",
            "gridwidth": 2,
            "linecolor": "white",
            "showbackground": true,
            "ticks": "",
            "zerolinecolor": "white"
           },
           "yaxis": {
            "backgroundcolor": "#E5ECF6",
            "gridcolor": "white",
            "gridwidth": 2,
            "linecolor": "white",
            "showbackground": true,
            "ticks": "",
            "zerolinecolor": "white"
           },
           "zaxis": {
            "backgroundcolor": "#E5ECF6",
            "gridcolor": "white",
            "gridwidth": 2,
            "linecolor": "white",
            "showbackground": true,
            "ticks": "",
            "zerolinecolor": "white"
           }
          },
          "shapedefaults": {
           "line": {
            "color": "#2a3f5f"
           }
          },
          "ternary": {
           "aaxis": {
            "gridcolor": "white",
            "linecolor": "white",
            "ticks": ""
           },
           "baxis": {
            "gridcolor": "white",
            "linecolor": "white",
            "ticks": ""
           },
           "bgcolor": "#E5ECF6",
           "caxis": {
            "gridcolor": "white",
            "linecolor": "white",
            "ticks": ""
           }
          },
          "title": {
           "x": 0.05
          },
          "xaxis": {
           "automargin": true,
           "gridcolor": "white",
           "linecolor": "white",
           "ticks": "",
           "title": {
            "standoff": 15
           },
           "zerolinecolor": "white",
           "zerolinewidth": 2
          },
          "yaxis": {
           "automargin": true,
           "gridcolor": "white",
           "linecolor": "white",
           "ticks": "",
           "title": {
            "standoff": 15
           },
           "zerolinecolor": "white",
           "zerolinewidth": 2
          }
         }
        },
        "title": {
         "text": "Number of parking bays"
        },
        "xaxis": {
         "anchor": "y",
         "domain": [
          0,
          1
         ],
         "title": {
          "text": "time_interval"
         }
        },
        "yaxis": {
         "anchor": "x",
         "domain": [
          0,
          1
         ],
         "title": {
          "text": "value"
         }
        }
       }
      },
      "text/html": [
       "<div>                            <div id=\"01021a11-ad4c-4cf9-9432-c0132a5cd27d\" class=\"plotly-graph-div\" style=\"height:300px; width:100%;\"></div>            <script type=\"text/javascript\">                require([\"plotly\"], function(Plotly) {                    window.PLOTLYENV=window.PLOTLYENV || {};                                    if (document.getElementById(\"01021a11-ad4c-4cf9-9432-c0132a5cd27d\")) {                    Plotly.newPlot(                        \"01021a11-ad4c-4cf9-9432-c0132a5cd27d\",                        [{\"alignmentgroup\":\"True\",\"hovertemplate\":\"<b>%{hovertext}</b><br><br>variable=Unoccupied<br>time_interval=%{x}<br>value=%{y}<extra></extra>\",\"hovertext\":[\"2021-09-09T11:00:00\",\"2021-09-09T11:15:00\",\"2021-09-09T11:30:00\",\"2021-09-09T11:45:00\",\"2021-09-09T12:00:00\",\"2021-09-09T12:15:00\",\"2021-09-09T12:30:00\",\"2021-09-09T12:45:00\",\"2021-09-09T13:00:00\",\"2021-09-09T13:15:00\",\"2021-09-09T13:30:00\",\"2021-09-09T13:45:00\",\"2021-09-09T14:00:00\",\"2021-09-09T14:15:00\",\"2021-09-09T14:30:00\",\"2021-09-09T14:45:00\",\"2021-09-09T15:00:00\",\"2021-09-09T15:15:00\",\"2021-09-09T15:30:00\",\"2021-09-09T15:45:00\",\"2021-09-09T16:00:00\",\"2021-09-09T16:15:00\",\"2021-09-09T16:30:00\",\"2021-09-09T16:45:00\",\"2021-09-09T17:00:00\",\"2021-09-09T17:15:00\",\"2021-09-09T17:30:00\",\"2021-09-09T17:45:00\",\"2021-09-09T18:00:00\",\"2021-09-09T18:15:00\",\"2021-09-09T18:30:00\",\"2021-09-09T18:45:00\",\"2021-09-09T19:00:00\",\"2021-09-09T19:15:00\",\"2021-09-09T19:30:00\",\"2021-09-09T19:45:00\",\"2021-09-09T20:00:00\",\"2021-09-09T20:15:00\",\"2021-09-09T20:30:00\",\"2021-09-09T20:45:00\",\"2021-09-09T21:00:00\",\"2021-09-09T21:15:00\",\"2021-09-09T21:30:00\",\"2021-09-09T21:45:00\",\"2021-09-09T22:00:00\",\"2021-09-09T22:15:00\",\"2021-09-09T22:30:00\",\"2021-09-09T22:45:00\",\"2021-09-09T23:00:00\",\"2021-09-09T23:15:00\",\"2021-09-09T23:30:00\",\"2021-09-09T23:45:00\",\"2021-09-10T00:00:00\",\"2021-09-10T00:15:00\",\"2021-09-10T00:30:00\",\"2021-09-10T00:45:00\",\"2021-09-10T01:00:00\",\"2021-09-10T01:15:00\",\"2021-09-10T01:30:00\",\"2021-09-10T01:45:00\",\"2021-09-10T02:00:00\",\"2021-09-10T02:15:00\",\"2021-09-10T02:30:00\",\"2021-09-10T02:45:00\",\"2021-09-10T03:00:00\",\"2021-09-10T03:15:00\",\"2021-09-10T03:30:00\",\"2021-09-10T03:45:00\",\"2021-09-10T04:00:00\",\"2021-09-10T04:15:00\",\"2021-09-10T04:30:00\",\"2021-09-10T04:45:00\",\"2021-09-10T05:00:00\",\"2021-09-10T05:15:00\",\"2021-09-10T05:30:00\",\"2021-09-10T05:45:00\",\"2021-09-10T06:00:00\",\"2021-09-10T06:15:00\",\"2021-09-10T06:30:00\",\"2021-09-10T06:45:00\",\"2021-09-10T07:00:00\",\"2021-09-10T07:15:00\",\"2021-09-10T07:30:00\",\"2021-09-10T07:45:00\",\"2021-09-10T08:00:00\",\"2021-09-10T08:15:00\",\"2021-09-10T08:30:00\",\"2021-09-10T08:45:00\",\"2021-09-10T09:00:00\",\"2021-09-10T09:15:00\",\"2021-09-10T09:30:00\",\"2021-09-10T09:45:00\",\"2021-09-10T10:00:00\",\"2021-09-10T10:15:00\",\"2021-09-10T10:30:00\",\"2021-09-10T10:45:00\",\"2021-09-10T11:00:00\",\"2021-09-10T11:15:00\",\"2021-09-10T11:30:00\",\"2021-09-10T11:45:00\",\"2021-09-10T12:00:00\",\"2021-09-10T12:15:00\",\"2021-09-10T12:30:00\",\"2021-09-10T12:45:00\",\"2021-09-10T13:00:00\",\"2021-09-10T13:15:00\",\"2021-09-10T13:30:00\",\"2021-09-10T13:45:00\",\"2021-09-10T14:00:00\",\"2021-09-10T14:15:00\",\"2021-09-10T14:30:00\",\"2021-09-10T14:45:00\",\"2021-09-10T15:00:00\",\"2021-09-10T15:15:00\",\"2021-09-10T15:30:00\",\"2021-09-10T15:45:00\",\"2021-09-10T16:00:00\",\"2021-09-10T16:15:00\",\"2021-09-10T16:30:00\",\"2021-09-10T16:45:00\",\"2021-09-10T17:00:00\",\"2021-09-10T17:15:00\",\"2021-09-10T17:30:00\",\"2021-09-10T17:45:00\",\"2021-09-10T18:00:00\",\"2021-09-10T18:15:00\",\"2021-09-10T18:30:00\",\"2021-09-10T18:45:00\",\"2021-09-10T19:00:00\",\"2021-09-10T19:15:00\",\"2021-09-10T19:30:00\",\"2021-09-10T19:45:00\",\"2021-09-10T20:00:00\",\"2021-09-10T20:15:00\",\"2021-09-10T20:30:00\",\"2021-09-10T20:45:00\",\"2021-09-10T21:00:00\",\"2021-09-10T21:15:00\",\"2021-09-10T21:30:00\",\"2021-09-10T21:45:00\",\"2021-09-10T22:00:00\",\"2021-09-10T22:15:00\",\"2021-09-10T22:30:00\",\"2021-09-10T22:45:00\",\"2021-09-10T23:00:00\",\"2021-09-10T23:15:00\",\"2021-09-10T23:30:00\",\"2021-09-10T23:45:00\",\"2021-09-11T00:00:00\",\"2021-09-11T00:15:00\",\"2021-09-11T00:30:00\",\"2021-09-11T00:45:00\",\"2021-09-11T01:00:00\",\"2021-09-11T01:15:00\",\"2021-09-11T01:30:00\",\"2021-09-11T01:45:00\",\"2021-09-11T02:00:00\",\"2021-09-11T02:15:00\",\"2021-09-11T02:30:00\",\"2021-09-11T02:45:00\",\"2021-09-11T03:00:00\",\"2021-09-11T03:15:00\",\"2021-09-11T03:30:00\",\"2021-09-11T03:45:00\",\"2021-09-11T04:00:00\",\"2021-09-11T04:15:00\",\"2021-09-11T04:30:00\",\"2021-09-11T04:45:00\",\"2021-09-11T05:00:00\",\"2021-09-11T05:15:00\",\"2021-09-11T05:30:00\",\"2021-09-11T05:45:00\",\"2021-09-11T06:00:00\",\"2021-09-11T06:15:00\",\"2021-09-11T06:30:00\",\"2021-09-11T06:45:00\",\"2021-09-11T07:00:00\",\"2021-09-11T07:15:00\",\"2021-09-11T07:30:00\",\"2021-09-11T07:45:00\",\"2021-09-11T08:00:00\",\"2021-09-11T08:15:00\",\"2021-09-11T08:30:00\",\"2021-09-11T08:45:00\",\"2021-09-11T09:00:00\",\"2021-09-11T09:15:00\",\"2021-09-11T09:30:00\",\"2021-09-11T09:45:00\",\"2021-09-11T10:00:00\",\"2021-09-11T10:15:00\",\"2021-09-11T10:30:00\",\"2021-09-11T10:45:00\",\"2021-09-11T11:00:00\",\"2021-09-11T11:15:00\",\"2021-09-11T11:30:00\",\"2021-09-11T11:45:00\",\"2021-09-11T12:00:00\",\"2021-09-11T12:15:00\",\"2021-09-11T12:30:00\",\"2021-09-11T12:45:00\",\"2021-09-11T13:00:00\",\"2021-09-11T13:15:00\",\"2021-09-11T13:30:00\",\"2021-09-11T13:45:00\",\"2021-09-11T14:00:00\",\"2021-09-11T14:15:00\",\"2021-09-11T14:30:00\",\"2021-09-11T14:45:00\",\"2021-09-11T15:00:00\",\"2021-09-11T15:15:00\",\"2021-09-11T15:30:00\",\"2021-09-11T15:45:00\",\"2021-09-11T16:00:00\",\"2021-09-11T16:15:00\",\"2021-09-11T16:30:00\",\"2021-09-11T16:45:00\",\"2021-09-11T17:00:00\",\"2021-09-11T17:15:00\",\"2021-09-11T17:30:00\",\"2021-09-11T17:45:00\",\"2021-09-11T18:00:00\",\"2021-09-11T18:15:00\",\"2021-09-11T18:30:00\",\"2021-09-11T18:45:00\",\"2021-09-11T19:00:00\",\"2021-09-11T19:15:00\",\"2021-09-11T19:30:00\",\"2021-09-11T19:45:00\",\"2021-09-11T20:00:00\",\"2021-09-11T20:15:00\",\"2021-09-11T20:30:00\",\"2021-09-11T20:45:00\",\"2021-09-11T21:00:00\",\"2021-09-11T21:15:00\",\"2021-09-11T21:30:00\",\"2021-09-11T21:45:00\",\"2021-09-11T22:00:00\",\"2021-09-11T22:15:00\",\"2021-09-11T22:30:00\",\"2021-09-11T22:45:00\",\"2021-09-11T23:00:00\",\"2021-09-11T23:15:00\",\"2021-09-11T23:30:00\",\"2021-09-11T23:45:00\",\"2021-09-12T00:00:00\",\"2021-09-12T00:15:00\",\"2021-09-12T00:30:00\",\"2021-09-12T00:45:00\",\"2021-09-12T01:00:00\",\"2021-09-12T01:15:00\",\"2021-09-12T01:30:00\",\"2021-09-12T01:45:00\",\"2021-09-12T02:00:00\",\"2021-09-12T02:15:00\",\"2021-09-12T02:30:00\",\"2021-09-12T02:45:00\",\"2021-09-12T03:00:00\",\"2021-09-12T03:15:00\",\"2021-09-12T03:30:00\",\"2021-09-12T03:45:00\",\"2021-09-12T04:00:00\",\"2021-09-12T04:15:00\",\"2021-09-12T04:30:00\",\"2021-09-12T04:45:00\",\"2021-09-12T05:00:00\",\"2021-09-12T05:15:00\",\"2021-09-12T05:30:00\",\"2021-09-12T05:45:00\",\"2021-09-12T06:00:00\",\"2021-09-12T06:15:00\",\"2021-09-12T06:30:00\",\"2021-09-12T06:45:00\",\"2021-09-12T07:00:00\",\"2021-09-12T07:15:00\",\"2021-09-12T07:30:00\",\"2021-09-12T07:45:00\",\"2021-09-12T08:00:00\",\"2021-09-12T08:15:00\",\"2021-09-12T08:30:00\",\"2021-09-12T08:45:00\",\"2021-09-12T09:00:00\",\"2021-09-12T09:15:00\",\"2021-09-12T09:30:00\",\"2021-09-12T09:45:00\",\"2021-09-12T10:00:00\",\"2021-09-12T10:15:00\",\"2021-09-12T10:30:00\",\"2021-09-12T10:45:00\",\"2021-09-12T11:00:00\",\"2021-09-12T11:15:00\",\"2021-09-12T11:30:00\",\"2021-09-12T11:45:00\",\"2021-09-12T12:00:00\",\"2021-09-12T12:15:00\",\"2021-09-12T12:30:00\",\"2021-09-12T12:45:00\",\"2021-09-12T13:00:00\",\"2021-09-12T13:15:00\",\"2021-09-12T13:30:00\",\"2021-09-12T13:45:00\",\"2021-09-12T14:00:00\",\"2021-09-12T14:15:00\",\"2021-09-12T14:30:00\",\"2021-09-12T14:45:00\",\"2021-09-12T15:00:00\",\"2021-09-12T15:15:00\",\"2021-09-12T15:30:00\",\"2021-09-12T15:45:00\",\"2021-09-12T16:00:00\",\"2021-09-12T16:15:00\",\"2021-09-12T16:30:00\",\"2021-09-12T16:45:00\",\"2021-09-12T17:00:00\",\"2021-09-12T17:15:00\",\"2021-09-12T17:30:00\",\"2021-09-12T17:45:00\",\"2021-09-12T18:00:00\",\"2021-09-12T18:15:00\",\"2021-09-12T18:30:00\",\"2021-09-12T18:45:00\",\"2021-09-12T19:00:00\",\"2021-09-12T19:15:00\",\"2021-09-12T19:30:00\",\"2021-09-12T19:45:00\",\"2021-09-12T20:00:00\",\"2021-09-12T20:15:00\",\"2021-09-12T20:30:00\",\"2021-09-12T20:45:00\",\"2021-09-12T21:00:00\",\"2021-09-12T21:15:00\",\"2021-09-12T21:30:00\",\"2021-09-12T21:45:00\",\"2021-09-12T22:00:00\",\"2021-09-12T22:15:00\",\"2021-09-12T22:30:00\",\"2021-09-12T22:45:00\",\"2021-09-12T23:00:00\",\"2021-09-12T23:15:00\",\"2021-09-12T23:30:00\",\"2021-09-12T23:45:00\",\"2021-09-13T00:00:00\",\"2021-09-13T00:15:00\",\"2021-09-13T00:30:00\",\"2021-09-13T00:45:00\",\"2021-09-13T01:00:00\",\"2021-09-13T01:15:00\",\"2021-09-13T01:30:00\",\"2021-09-13T01:45:00\",\"2021-09-13T02:00:00\",\"2021-09-13T02:15:00\",\"2021-09-13T02:30:00\",\"2021-09-13T02:45:00\",\"2021-09-13T03:00:00\",\"2021-09-13T03:15:00\",\"2021-09-13T03:30:00\",\"2021-09-13T03:45:00\",\"2021-09-13T04:00:00\",\"2021-09-13T04:15:00\",\"2021-09-13T04:30:00\",\"2021-09-13T04:45:00\",\"2021-09-13T05:00:00\",\"2021-09-13T05:15:00\",\"2021-09-13T05:30:00\",\"2021-09-13T05:45:00\",\"2021-09-13T06:00:00\",\"2021-09-13T06:15:00\",\"2021-09-13T06:30:00\",\"2021-09-13T06:45:00\",\"2021-09-13T07:00:00\",\"2021-09-13T07:15:00\",\"2021-09-13T07:30:00\",\"2021-09-13T07:45:00\",\"2021-09-13T08:00:00\",\"2021-09-13T08:15:00\",\"2021-09-13T08:30:00\",\"2021-09-13T08:45:00\",\"2021-09-13T09:00:00\",\"2021-09-13T09:15:00\",\"2021-09-13T09:30:00\",\"2021-09-13T09:45:00\",\"2021-09-13T10:00:00\",\"2021-09-13T10:15:00\",\"2021-09-13T10:30:00\",\"2021-09-13T10:45:00\",\"2021-09-13T11:00:00\",\"2021-09-13T11:15:00\",\"2021-09-13T11:30:00\",\"2021-09-13T11:45:00\",\"2021-09-13T12:00:00\",\"2021-09-13T12:15:00\",\"2021-09-13T12:30:00\",\"2021-09-13T12:45:00\",\"2021-09-13T13:00:00\",\"2021-09-13T13:15:00\",\"2021-09-13T13:30:00\",\"2021-09-13T13:45:00\",\"2021-09-13T14:00:00\",\"2021-09-13T14:15:00\",\"2021-09-13T14:30:00\",\"2021-09-13T14:45:00\",\"2021-09-13T15:00:00\",\"2021-09-13T15:15:00\",\"2021-09-13T15:30:00\",\"2021-09-13T15:45:00\",\"2021-09-13T16:00:00\",\"2021-09-13T16:15:00\",\"2021-09-13T16:30:00\",\"2021-09-13T16:45:00\",\"2021-09-13T17:00:00\",\"2021-09-13T17:15:00\",\"2021-09-13T17:30:00\",\"2021-09-13T17:45:00\",\"2021-09-13T18:00:00\",\"2021-09-13T18:15:00\",\"2021-09-13T18:30:00\",\"2021-09-13T18:45:00\",\"2021-09-13T19:00:00\",\"2021-09-13T19:15:00\",\"2021-09-13T19:30:00\",\"2021-09-13T19:45:00\",\"2021-09-13T20:00:00\",\"2021-09-13T20:15:00\",\"2021-09-13T20:30:00\",\"2021-09-13T20:45:00\",\"2021-09-13T21:00:00\",\"2021-09-13T21:15:00\",\"2021-09-13T21:30:00\",\"2021-09-13T21:45:00\",\"2021-09-13T22:00:00\",\"2021-09-13T22:15:00\",\"2021-09-13T22:30:00\",\"2021-09-13T22:45:00\",\"2021-09-13T23:00:00\",\"2021-09-13T23:15:00\",\"2021-09-13T23:30:00\",\"2021-09-13T23:45:00\",\"2021-09-14T00:00:00\",\"2021-09-14T00:15:00\",\"2021-09-14T00:30:00\",\"2021-09-14T00:45:00\",\"2021-09-14T01:00:00\",\"2021-09-14T01:15:00\",\"2021-09-14T01:30:00\",\"2021-09-14T01:45:00\",\"2021-09-14T02:00:00\",\"2021-09-14T02:15:00\",\"2021-09-14T02:30:00\",\"2021-09-14T02:45:00\",\"2021-09-14T03:00:00\",\"2021-09-14T03:15:00\",\"2021-09-14T03:30:00\",\"2021-09-14T03:45:00\",\"2021-09-14T04:00:00\",\"2021-09-14T04:15:00\",\"2021-09-14T04:30:00\",\"2021-09-14T04:45:00\",\"2021-09-14T05:00:00\",\"2021-09-14T05:15:00\",\"2021-09-14T05:30:00\",\"2021-09-14T05:45:00\",\"2021-09-14T06:00:00\",\"2021-09-14T06:15:00\",\"2021-09-14T06:30:00\",\"2021-09-14T06:45:00\",\"2021-09-14T07:00:00\",\"2021-09-14T07:15:00\",\"2021-09-14T07:30:00\",\"2021-09-14T07:45:00\",\"2021-09-14T08:00:00\",\"2021-09-14T08:15:00\",\"2021-09-14T08:30:00\",\"2021-09-14T08:45:00\",\"2021-09-14T09:00:00\",\"2021-09-14T09:15:00\",\"2021-09-14T09:30:00\",\"2021-09-14T09:45:00\",\"2021-09-14T10:00:00\",\"2021-09-14T10:15:00\",\"2021-09-14T10:30:00\",\"2021-09-14T10:45:00\",\"2021-09-14T11:00:00\",\"2021-09-14T11:15:00\",\"2021-09-14T11:30:00\",\"2021-09-14T11:45:00\",\"2021-09-14T12:00:00\",\"2021-09-14T12:15:00\",\"2021-09-14T12:30:00\",\"2021-09-14T12:45:00\",\"2021-09-14T13:00:00\",\"2021-09-14T13:15:00\",\"2021-09-14T13:30:00\",\"2021-09-14T13:45:00\",\"2021-09-14T14:00:00\",\"2021-09-14T14:15:00\",\"2021-09-14T14:30:00\",\"2021-09-14T14:45:00\",\"2021-09-14T15:00:00\",\"2021-09-14T15:15:00\",\"2021-09-14T15:30:00\",\"2021-09-14T15:45:00\",\"2021-09-14T16:00:00\",\"2021-09-14T16:15:00\",\"2021-09-14T16:30:00\",\"2021-09-14T16:45:00\",\"2021-09-14T17:00:00\",\"2021-09-14T17:15:00\",\"2021-09-14T17:30:00\",\"2021-09-14T17:45:00\",\"2021-09-14T18:00:00\",\"2021-09-14T18:15:00\",\"2021-09-14T18:30:00\",\"2021-09-14T18:45:00\",\"2021-09-14T19:00:00\",\"2021-09-14T19:15:00\",\"2021-09-14T19:30:00\",\"2021-09-14T19:45:00\",\"2021-09-14T20:00:00\",\"2021-09-14T20:15:00\",\"2021-09-14T20:30:00\",\"2021-09-14T20:45:00\",\"2021-09-14T21:00:00\",\"2021-09-14T21:15:00\",\"2021-09-14T21:30:00\",\"2021-09-14T21:45:00\",\"2021-09-14T22:00:00\",\"2021-09-14T22:15:00\",\"2021-09-14T22:30:00\",\"2021-09-14T22:45:00\",\"2021-09-14T23:00:00\",\"2021-09-14T23:15:00\",\"2021-09-14T23:30:00\",\"2021-09-14T23:45:00\",\"2021-09-15T00:00:00\",\"2021-09-15T00:15:00\",\"2021-09-15T00:30:00\",\"2021-09-15T00:45:00\",\"2021-09-15T01:00:00\",\"2021-09-15T01:15:00\",\"2021-09-15T01:30:00\",\"2021-09-15T01:45:00\"],\"legendgroup\":\"Unoccupied\",\"marker\":{\"color\":\"green\",\"pattern\":{\"shape\":\"\"}},\"name\":\"Unoccupied\",\"offsetgroup\":\"Unoccupied\",\"orientation\":\"v\",\"showlegend\":true,\"textposition\":\"auto\",\"type\":\"bar\",\"x\":[\"2021-09-09T11:00:00\",\"2021-09-09T11:15:00\",\"2021-09-09T11:30:00\",\"2021-09-09T11:45:00\",\"2021-09-09T12:00:00\",\"2021-09-09T12:15:00\",\"2021-09-09T12:30:00\",\"2021-09-09T12:45:00\",\"2021-09-09T13:00:00\",\"2021-09-09T13:15:00\",\"2021-09-09T13:30:00\",\"2021-09-09T13:45:00\",\"2021-09-09T14:00:00\",\"2021-09-09T14:15:00\",\"2021-09-09T14:30:00\",\"2021-09-09T14:45:00\",\"2021-09-09T15:00:00\",\"2021-09-09T15:15:00\",\"2021-09-09T15:30:00\",\"2021-09-09T15:45:00\",\"2021-09-09T16:00:00\",\"2021-09-09T16:15:00\",\"2021-09-09T16:30:00\",\"2021-09-09T16:45:00\",\"2021-09-09T17:00:00\",\"2021-09-09T17:15:00\",\"2021-09-09T17:30:00\",\"2021-09-09T17:45:00\",\"2021-09-09T18:00:00\",\"2021-09-09T18:15:00\",\"2021-09-09T18:30:00\",\"2021-09-09T18:45:00\",\"2021-09-09T19:00:00\",\"2021-09-09T19:15:00\",\"2021-09-09T19:30:00\",\"2021-09-09T19:45:00\",\"2021-09-09T20:00:00\",\"2021-09-09T20:15:00\",\"2021-09-09T20:30:00\",\"2021-09-09T20:45:00\",\"2021-09-09T21:00:00\",\"2021-09-09T21:15:00\",\"2021-09-09T21:30:00\",\"2021-09-09T21:45:00\",\"2021-09-09T22:00:00\",\"2021-09-09T22:15:00\",\"2021-09-09T22:30:00\",\"2021-09-09T22:45:00\",\"2021-09-09T23:00:00\",\"2021-09-09T23:15:00\",\"2021-09-09T23:30:00\",\"2021-09-09T23:45:00\",\"2021-09-10T00:00:00\",\"2021-09-10T00:15:00\",\"2021-09-10T00:30:00\",\"2021-09-10T00:45:00\",\"2021-09-10T01:00:00\",\"2021-09-10T01:15:00\",\"2021-09-10T01:30:00\",\"2021-09-10T01:45:00\",\"2021-09-10T02:00:00\",\"2021-09-10T02:15:00\",\"2021-09-10T02:30:00\",\"2021-09-10T02:45:00\",\"2021-09-10T03:00:00\",\"2021-09-10T03:15:00\",\"2021-09-10T03:30:00\",\"2021-09-10T03:45:00\",\"2021-09-10T04:00:00\",\"2021-09-10T04:15:00\",\"2021-09-10T04:30:00\",\"2021-09-10T04:45:00\",\"2021-09-10T05:00:00\",\"2021-09-10T05:15:00\",\"2021-09-10T05:30:00\",\"2021-09-10T05:45:00\",\"2021-09-10T06:00:00\",\"2021-09-10T06:15:00\",\"2021-09-10T06:30:00\",\"2021-09-10T06:45:00\",\"2021-09-10T07:00:00\",\"2021-09-10T07:15:00\",\"2021-09-10T07:30:00\",\"2021-09-10T07:45:00\",\"2021-09-10T08:00:00\",\"2021-09-10T08:15:00\",\"2021-09-10T08:30:00\",\"2021-09-10T08:45:00\",\"2021-09-10T09:00:00\",\"2021-09-10T09:15:00\",\"2021-09-10T09:30:00\",\"2021-09-10T09:45:00\",\"2021-09-10T10:00:00\",\"2021-09-10T10:15:00\",\"2021-09-10T10:30:00\",\"2021-09-10T10:45:00\",\"2021-09-10T11:00:00\",\"2021-09-10T11:15:00\",\"2021-09-10T11:30:00\",\"2021-09-10T11:45:00\",\"2021-09-10T12:00:00\",\"2021-09-10T12:15:00\",\"2021-09-10T12:30:00\",\"2021-09-10T12:45:00\",\"2021-09-10T13:00:00\",\"2021-09-10T13:15:00\",\"2021-09-10T13:30:00\",\"2021-09-10T13:45:00\",\"2021-09-10T14:00:00\",\"2021-09-10T14:15:00\",\"2021-09-10T14:30:00\",\"2021-09-10T14:45:00\",\"2021-09-10T15:00:00\",\"2021-09-10T15:15:00\",\"2021-09-10T15:30:00\",\"2021-09-10T15:45:00\",\"2021-09-10T16:00:00\",\"2021-09-10T16:15:00\",\"2021-09-10T16:30:00\",\"2021-09-10T16:45:00\",\"2021-09-10T17:00:00\",\"2021-09-10T17:15:00\",\"2021-09-10T17:30:00\",\"2021-09-10T17:45:00\",\"2021-09-10T18:00:00\",\"2021-09-10T18:15:00\",\"2021-09-10T18:30:00\",\"2021-09-10T18:45:00\",\"2021-09-10T19:00:00\",\"2021-09-10T19:15:00\",\"2021-09-10T19:30:00\",\"2021-09-10T19:45:00\",\"2021-09-10T20:00:00\",\"2021-09-10T20:15:00\",\"2021-09-10T20:30:00\",\"2021-09-10T20:45:00\",\"2021-09-10T21:00:00\",\"2021-09-10T21:15:00\",\"2021-09-10T21:30:00\",\"2021-09-10T21:45:00\",\"2021-09-10T22:00:00\",\"2021-09-10T22:15:00\",\"2021-09-10T22:30:00\",\"2021-09-10T22:45:00\",\"2021-09-10T23:00:00\",\"2021-09-10T23:15:00\",\"2021-09-10T23:30:00\",\"2021-09-10T23:45:00\",\"2021-09-11T00:00:00\",\"2021-09-11T00:15:00\",\"2021-09-11T00:30:00\",\"2021-09-11T00:45:00\",\"2021-09-11T01:00:00\",\"2021-09-11T01:15:00\",\"2021-09-11T01:30:00\",\"2021-09-11T01:45:00\",\"2021-09-11T02:00:00\",\"2021-09-11T02:15:00\",\"2021-09-11T02:30:00\",\"2021-09-11T02:45:00\",\"2021-09-11T03:00:00\",\"2021-09-11T03:15:00\",\"2021-09-11T03:30:00\",\"2021-09-11T03:45:00\",\"2021-09-11T04:00:00\",\"2021-09-11T04:15:00\",\"2021-09-11T04:30:00\",\"2021-09-11T04:45:00\",\"2021-09-11T05:00:00\",\"2021-09-11T05:15:00\",\"2021-09-11T05:30:00\",\"2021-09-11T05:45:00\",\"2021-09-11T06:00:00\",\"2021-09-11T06:15:00\",\"2021-09-11T06:30:00\",\"2021-09-11T06:45:00\",\"2021-09-11T07:00:00\",\"2021-09-11T07:15:00\",\"2021-09-11T07:30:00\",\"2021-09-11T07:45:00\",\"2021-09-11T08:00:00\",\"2021-09-11T08:15:00\",\"2021-09-11T08:30:00\",\"2021-09-11T08:45:00\",\"2021-09-11T09:00:00\",\"2021-09-11T09:15:00\",\"2021-09-11T09:30:00\",\"2021-09-11T09:45:00\",\"2021-09-11T10:00:00\",\"2021-09-11T10:15:00\",\"2021-09-11T10:30:00\",\"2021-09-11T10:45:00\",\"2021-09-11T11:00:00\",\"2021-09-11T11:15:00\",\"2021-09-11T11:30:00\",\"2021-09-11T11:45:00\",\"2021-09-11T12:00:00\",\"2021-09-11T12:15:00\",\"2021-09-11T12:30:00\",\"2021-09-11T12:45:00\",\"2021-09-11T13:00:00\",\"2021-09-11T13:15:00\",\"2021-09-11T13:30:00\",\"2021-09-11T13:45:00\",\"2021-09-11T14:00:00\",\"2021-09-11T14:15:00\",\"2021-09-11T14:30:00\",\"2021-09-11T14:45:00\",\"2021-09-11T15:00:00\",\"2021-09-11T15:15:00\",\"2021-09-11T15:30:00\",\"2021-09-11T15:45:00\",\"2021-09-11T16:00:00\",\"2021-09-11T16:15:00\",\"2021-09-11T16:30:00\",\"2021-09-11T16:45:00\",\"2021-09-11T17:00:00\",\"2021-09-11T17:15:00\",\"2021-09-11T17:30:00\",\"2021-09-11T17:45:00\",\"2021-09-11T18:00:00\",\"2021-09-11T18:15:00\",\"2021-09-11T18:30:00\",\"2021-09-11T18:45:00\",\"2021-09-11T19:00:00\",\"2021-09-11T19:15:00\",\"2021-09-11T19:30:00\",\"2021-09-11T19:45:00\",\"2021-09-11T20:00:00\",\"2021-09-11T20:15:00\",\"2021-09-11T20:30:00\",\"2021-09-11T20:45:00\",\"2021-09-11T21:00:00\",\"2021-09-11T21:15:00\",\"2021-09-11T21:30:00\",\"2021-09-11T21:45:00\",\"2021-09-11T22:00:00\",\"2021-09-11T22:15:00\",\"2021-09-11T22:30:00\",\"2021-09-11T22:45:00\",\"2021-09-11T23:00:00\",\"2021-09-11T23:15:00\",\"2021-09-11T23:30:00\",\"2021-09-11T23:45:00\",\"2021-09-12T00:00:00\",\"2021-09-12T00:15:00\",\"2021-09-12T00:30:00\",\"2021-09-12T00:45:00\",\"2021-09-12T01:00:00\",\"2021-09-12T01:15:00\",\"2021-09-12T01:30:00\",\"2021-09-12T01:45:00\",\"2021-09-12T02:00:00\",\"2021-09-12T02:15:00\",\"2021-09-12T02:30:00\",\"2021-09-12T02:45:00\",\"2021-09-12T03:00:00\",\"2021-09-12T03:15:00\",\"2021-09-12T03:30:00\",\"2021-09-12T03:45:00\",\"2021-09-12T04:00:00\",\"2021-09-12T04:15:00\",\"2021-09-12T04:30:00\",\"2021-09-12T04:45:00\",\"2021-09-12T05:00:00\",\"2021-09-12T05:15:00\",\"2021-09-12T05:30:00\",\"2021-09-12T05:45:00\",\"2021-09-12T06:00:00\",\"2021-09-12T06:15:00\",\"2021-09-12T06:30:00\",\"2021-09-12T06:45:00\",\"2021-09-12T07:00:00\",\"2021-09-12T07:15:00\",\"2021-09-12T07:30:00\",\"2021-09-12T07:45:00\",\"2021-09-12T08:00:00\",\"2021-09-12T08:15:00\",\"2021-09-12T08:30:00\",\"2021-09-12T08:45:00\",\"2021-09-12T09:00:00\",\"2021-09-12T09:15:00\",\"2021-09-12T09:30:00\",\"2021-09-12T09:45:00\",\"2021-09-12T10:00:00\",\"2021-09-12T10:15:00\",\"2021-09-12T10:30:00\",\"2021-09-12T10:45:00\",\"2021-09-12T11:00:00\",\"2021-09-12T11:15:00\",\"2021-09-12T11:30:00\",\"2021-09-12T11:45:00\",\"2021-09-12T12:00:00\",\"2021-09-12T12:15:00\",\"2021-09-12T12:30:00\",\"2021-09-12T12:45:00\",\"2021-09-12T13:00:00\",\"2021-09-12T13:15:00\",\"2021-09-12T13:30:00\",\"2021-09-12T13:45:00\",\"2021-09-12T14:00:00\",\"2021-09-12T14:15:00\",\"2021-09-12T14:30:00\",\"2021-09-12T14:45:00\",\"2021-09-12T15:00:00\",\"2021-09-12T15:15:00\",\"2021-09-12T15:30:00\",\"2021-09-12T15:45:00\",\"2021-09-12T16:00:00\",\"2021-09-12T16:15:00\",\"2021-09-12T16:30:00\",\"2021-09-12T16:45:00\",\"2021-09-12T17:00:00\",\"2021-09-12T17:15:00\",\"2021-09-12T17:30:00\",\"2021-09-12T17:45:00\",\"2021-09-12T18:00:00\",\"2021-09-12T18:15:00\",\"2021-09-12T18:30:00\",\"2021-09-12T18:45:00\",\"2021-09-12T19:00:00\",\"2021-09-12T19:15:00\",\"2021-09-12T19:30:00\",\"2021-09-12T19:45:00\",\"2021-09-12T20:00:00\",\"2021-09-12T20:15:00\",\"2021-09-12T20:30:00\",\"2021-09-12T20:45:00\",\"2021-09-12T21:00:00\",\"2021-09-12T21:15:00\",\"2021-09-12T21:30:00\",\"2021-09-12T21:45:00\",\"2021-09-12T22:00:00\",\"2021-09-12T22:15:00\",\"2021-09-12T22:30:00\",\"2021-09-12T22:45:00\",\"2021-09-12T23:00:00\",\"2021-09-12T23:15:00\",\"2021-09-12T23:30:00\",\"2021-09-12T23:45:00\",\"2021-09-13T00:00:00\",\"2021-09-13T00:15:00\",\"2021-09-13T00:30:00\",\"2021-09-13T00:45:00\",\"2021-09-13T01:00:00\",\"2021-09-13T01:15:00\",\"2021-09-13T01:30:00\",\"2021-09-13T01:45:00\",\"2021-09-13T02:00:00\",\"2021-09-13T02:15:00\",\"2021-09-13T02:30:00\",\"2021-09-13T02:45:00\",\"2021-09-13T03:00:00\",\"2021-09-13T03:15:00\",\"2021-09-13T03:30:00\",\"2021-09-13T03:45:00\",\"2021-09-13T04:00:00\",\"2021-09-13T04:15:00\",\"2021-09-13T04:30:00\",\"2021-09-13T04:45:00\",\"2021-09-13T05:00:00\",\"2021-09-13T05:15:00\",\"2021-09-13T05:30:00\",\"2021-09-13T05:45:00\",\"2021-09-13T06:00:00\",\"2021-09-13T06:15:00\",\"2021-09-13T06:30:00\",\"2021-09-13T06:45:00\",\"2021-09-13T07:00:00\",\"2021-09-13T07:15:00\",\"2021-09-13T07:30:00\",\"2021-09-13T07:45:00\",\"2021-09-13T08:00:00\",\"2021-09-13T08:15:00\",\"2021-09-13T08:30:00\",\"2021-09-13T08:45:00\",\"2021-09-13T09:00:00\",\"2021-09-13T09:15:00\",\"2021-09-13T09:30:00\",\"2021-09-13T09:45:00\",\"2021-09-13T10:00:00\",\"2021-09-13T10:15:00\",\"2021-09-13T10:30:00\",\"2021-09-13T10:45:00\",\"2021-09-13T11:00:00\",\"2021-09-13T11:15:00\",\"2021-09-13T11:30:00\",\"2021-09-13T11:45:00\",\"2021-09-13T12:00:00\",\"2021-09-13T12:15:00\",\"2021-09-13T12:30:00\",\"2021-09-13T12:45:00\",\"2021-09-13T13:00:00\",\"2021-09-13T13:15:00\",\"2021-09-13T13:30:00\",\"2021-09-13T13:45:00\",\"2021-09-13T14:00:00\",\"2021-09-13T14:15:00\",\"2021-09-13T14:30:00\",\"2021-09-13T14:45:00\",\"2021-09-13T15:00:00\",\"2021-09-13T15:15:00\",\"2021-09-13T15:30:00\",\"2021-09-13T15:45:00\",\"2021-09-13T16:00:00\",\"2021-09-13T16:15:00\",\"2021-09-13T16:30:00\",\"2021-09-13T16:45:00\",\"2021-09-13T17:00:00\",\"2021-09-13T17:15:00\",\"2021-09-13T17:30:00\",\"2021-09-13T17:45:00\",\"2021-09-13T18:00:00\",\"2021-09-13T18:15:00\",\"2021-09-13T18:30:00\",\"2021-09-13T18:45:00\",\"2021-09-13T19:00:00\",\"2021-09-13T19:15:00\",\"2021-09-13T19:30:00\",\"2021-09-13T19:45:00\",\"2021-09-13T20:00:00\",\"2021-09-13T20:15:00\",\"2021-09-13T20:30:00\",\"2021-09-13T20:45:00\",\"2021-09-13T21:00:00\",\"2021-09-13T21:15:00\",\"2021-09-13T21:30:00\",\"2021-09-13T21:45:00\",\"2021-09-13T22:00:00\",\"2021-09-13T22:15:00\",\"2021-09-13T22:30:00\",\"2021-09-13T22:45:00\",\"2021-09-13T23:00:00\",\"2021-09-13T23:15:00\",\"2021-09-13T23:30:00\",\"2021-09-13T23:45:00\",\"2021-09-14T00:00:00\",\"2021-09-14T00:15:00\",\"2021-09-14T00:30:00\",\"2021-09-14T00:45:00\",\"2021-09-14T01:00:00\",\"2021-09-14T01:15:00\",\"2021-09-14T01:30:00\",\"2021-09-14T01:45:00\",\"2021-09-14T02:00:00\",\"2021-09-14T02:15:00\",\"2021-09-14T02:30:00\",\"2021-09-14T02:45:00\",\"2021-09-14T03:00:00\",\"2021-09-14T03:15:00\",\"2021-09-14T03:30:00\",\"2021-09-14T03:45:00\",\"2021-09-14T04:00:00\",\"2021-09-14T04:15:00\",\"2021-09-14T04:30:00\",\"2021-09-14T04:45:00\",\"2021-09-14T05:00:00\",\"2021-09-14T05:15:00\",\"2021-09-14T05:30:00\",\"2021-09-14T05:45:00\",\"2021-09-14T06:00:00\",\"2021-09-14T06:15:00\",\"2021-09-14T06:30:00\",\"2021-09-14T06:45:00\",\"2021-09-14T07:00:00\",\"2021-09-14T07:15:00\",\"2021-09-14T07:30:00\",\"2021-09-14T07:45:00\",\"2021-09-14T08:00:00\",\"2021-09-14T08:15:00\",\"2021-09-14T08:30:00\",\"2021-09-14T08:45:00\",\"2021-09-14T09:00:00\",\"2021-09-14T09:15:00\",\"2021-09-14T09:30:00\",\"2021-09-14T09:45:00\",\"2021-09-14T10:00:00\",\"2021-09-14T10:15:00\",\"2021-09-14T10:30:00\",\"2021-09-14T10:45:00\",\"2021-09-14T11:00:00\",\"2021-09-14T11:15:00\",\"2021-09-14T11:30:00\",\"2021-09-14T11:45:00\",\"2021-09-14T12:00:00\",\"2021-09-14T12:15:00\",\"2021-09-14T12:30:00\",\"2021-09-14T12:45:00\",\"2021-09-14T13:00:00\",\"2021-09-14T13:15:00\",\"2021-09-14T13:30:00\",\"2021-09-14T13:45:00\",\"2021-09-14T14:00:00\",\"2021-09-14T14:15:00\",\"2021-09-14T14:30:00\",\"2021-09-14T14:45:00\",\"2021-09-14T15:00:00\",\"2021-09-14T15:15:00\",\"2021-09-14T15:30:00\",\"2021-09-14T15:45:00\",\"2021-09-14T16:00:00\",\"2021-09-14T16:15:00\",\"2021-09-14T16:30:00\",\"2021-09-14T16:45:00\",\"2021-09-14T17:00:00\",\"2021-09-14T17:15:00\",\"2021-09-14T17:30:00\",\"2021-09-14T17:45:00\",\"2021-09-14T18:00:00\",\"2021-09-14T18:15:00\",\"2021-09-14T18:30:00\",\"2021-09-14T18:45:00\",\"2021-09-14T19:00:00\",\"2021-09-14T19:15:00\",\"2021-09-14T19:30:00\",\"2021-09-14T19:45:00\",\"2021-09-14T20:00:00\",\"2021-09-14T20:15:00\",\"2021-09-14T20:30:00\",\"2021-09-14T20:45:00\",\"2021-09-14T21:00:00\",\"2021-09-14T21:15:00\",\"2021-09-14T21:30:00\",\"2021-09-14T21:45:00\",\"2021-09-14T22:00:00\",\"2021-09-14T22:15:00\",\"2021-09-14T22:30:00\",\"2021-09-14T22:45:00\",\"2021-09-14T23:00:00\",\"2021-09-14T23:15:00\",\"2021-09-14T23:30:00\",\"2021-09-14T23:45:00\",\"2021-09-15T00:00:00\",\"2021-09-15T00:15:00\",\"2021-09-15T00:30:00\",\"2021-09-15T00:45:00\",\"2021-09-15T01:00:00\",\"2021-09-15T01:15:00\",\"2021-09-15T01:30:00\",\"2021-09-15T01:45:00\"],\"xaxis\":\"x\",\"y\":[7.0,6.0,5.0,7.0,4.0,5.0,2.0,5.0,4.0,2.0,6.0,5.0,9.0,4.0,2.0,3.0,6.0,1.0,2.0,5.0,6.0,8.0,3.0,3.0,10.0,5.0,5.0,4.0,2.0,7.0,6.0,9.0,10.0,6.0,10.0,10.0,19.0,8.0,13.0,15.0,11.0,22.0,18.0,21.0,20.0,17.0,13.0,11.0,16.0,22.0,18.0,17.0,16.0,16.0,22.0,24.0,7.0,18.0,9.0,18.0,18.0,26.0,8.0,26.0,17.0,17.0,17.0,17.0,8.0,17.0,17.0,9.0,17.0,17.0,25.0,8.0,6.0,6.0,5.0,8.0,5.0,1.0,2.0,2.0,1.0,10.0,5.0,5.0,2.0,5.0,2.0,3.0,3.0,3.0,2.0,3.0,3.0,4.0,4.0,4.0,2.0,6.0,6.0,6.0,4.0,4.0,3.0,2.0,6.0,8.0,7.0,7.0,9.0,10.0,7.0,12.0,7.0,6.0,9.0,6.0,6.0,5.0,6.0,10.0,12.0,8.0,9.0,5.0,8.0,6.0,10.0,10.0,16.0,19.0,15.0,20.0,26.0,25.0,25.0,25.0,17.0,18.0,20.0,17.0,19.0,15.0,24.0,23.0,15.0,20.0,24.0,24.0,20.0,19.0,19.0,21.0,24.0,18.0,24.0,21.0,21.0,21.0,24.0,24.0,18.0,21.0,21.0,21.0,18.0,21.0,21.0,21.0,21.0,20.0,15.0,14.0,11.0,12.0,9.0,11.0,5.0,8.0,4.0,4.0,4.0,4.0,3.0,5.0,3.0,4.0,5.0,5.0,3.0,4.0,2.0,3.0,5.0,8.0,3.0,3.0,6.0,5.0,5.0,4.0,5.0,7.0,10.0,5.0,9.0,9.0,9.0,10.0,6.0,5.0,1.0,3.0,3.0,12.0,5.0,6.0,10.0,9.0,10.0,null,6.0,8.0,8.0,5.0,15.0,10.0,11.0,11.0,19.0,7.0,8.0,8.0,7.0,16.0,14.0,15.0,8.0,11.0,13.0,17.0,9.0,16.0,17.0,12.0,12.0,12.0,12.0,8.0,8.0,10.0,14.0,18.0,15.0,15.0,18.0,18.0,16.0,14.0,16.0,16.0,14.0,16.0,16.0,15.0,16.0,20.0,12.0,12.0,16.0,18.0,18.0,19.0,18.0,12.0,19.0,25.0,14.0,21.0,20.0,9.0,7.0,8.0,11.0,13.0,6.0,4.0,9.0,3.0,3.0,3.0,4.0,2.0,5.0,6.0,2.0,4.0,4.0,3.0,2.0,1.0,1.0,6.0,5.0,4.0,6.0,4.0,4.0,9.0,5.0,4.0,2.0,3.0,3.0,7.0,4.0,9.0,12.0,10.0,8.0,12.0,13.0,17.0,11.0,18.0,18.0,19.0,15.0,23.0,15.0,17.0,17.0,15.0,18.0,18.0,19.0,24.0,14.0,13.0,19.0,26.0,19.0,13.0,19.0,19.0,25.0,11.0,11.0,27.0,18.0,25.0,25.0,27.0,27.0,19.0,27.0,11.0,19.0,19.0,11.0,18.0,8.0,17.0,22.0,21.0,8.0,14.0,14.0,14.0,13.0,12.0,5.0,5.0,5.0,5.0,6.0,6.0,6.0,5.0,3.0,4.0,4.0,6.0,3.0,2.0,4.0,3.0,1.0,2.0,2.0,2.0,3.0,3.0,3.0,2.0,5.0,3.0,2.0,6.0,8.0,2.0,5.0,9.0,14.0,13.0,12.0,8.0,5.0,4.0,6.0,7.0,10.0,7.0,8.0,9.0,9.0,13.0,11.0,13.0,13.0,15.0,19.0,17.0,18.0,19.0,19.0,16.0,19.0,18.0,18.0,20.0,18.0,19.0,19.0,20.0,19.0,19.0,18.0,19.0,19.0,19.0,19.0,19.0,19.0,19.0,19.0,19.0,19.0,19.0,19.0,19.0,19.0,19.0,19.0,19.0,19.0,14.0,7.0,3.0,7.0,4.0,2.0,3.0,4.0,2.0,2.0,2.0,2.0,2.0,2.0,2.0,1.0,5.0,3.0,2.0,4.0,2.0,2.0,3.0,4.0,2.0,2.0,2.0,3.0,3.0,3.0,2.0,2.0,5.0,4.0,5.0,4.0,6.0,7.0,8.0,8.0,4.0,5.0,5.0,7.0,5.0,5.0,4.0,5.0,6.0,5.0,3.0,10.0,7.0,12.0,13.0,18.0,15.0,13.0,13.0,10.0,16.0,19.0,15.0,18.0,19.0,12.0,17.0,17.0,19.0,16.0,16.0,19.0,18.0,20.0,20.0,20.0,19.0,19.0,19.0,18.0,19.0],\"yaxis\":\"y\"},{\"alignmentgroup\":\"True\",\"hovertemplate\":\"<b>%{hovertext}</b><br><br>variable=Present<br>time_interval=%{x}<br>value=%{y}<extra></extra>\",\"hovertext\":[\"2021-09-09T11:00:00\",\"2021-09-09T11:15:00\",\"2021-09-09T11:30:00\",\"2021-09-09T11:45:00\",\"2021-09-09T12:00:00\",\"2021-09-09T12:15:00\",\"2021-09-09T12:30:00\",\"2021-09-09T12:45:00\",\"2021-09-09T13:00:00\",\"2021-09-09T13:15:00\",\"2021-09-09T13:30:00\",\"2021-09-09T13:45:00\",\"2021-09-09T14:00:00\",\"2021-09-09T14:15:00\",\"2021-09-09T14:30:00\",\"2021-09-09T14:45:00\",\"2021-09-09T15:00:00\",\"2021-09-09T15:15:00\",\"2021-09-09T15:30:00\",\"2021-09-09T15:45:00\",\"2021-09-09T16:00:00\",\"2021-09-09T16:15:00\",\"2021-09-09T16:30:00\",\"2021-09-09T16:45:00\",\"2021-09-09T17:00:00\",\"2021-09-09T17:15:00\",\"2021-09-09T17:30:00\",\"2021-09-09T17:45:00\",\"2021-09-09T18:00:00\",\"2021-09-09T18:15:00\",\"2021-09-09T18:30:00\",\"2021-09-09T18:45:00\",\"2021-09-09T19:00:00\",\"2021-09-09T19:15:00\",\"2021-09-09T19:30:00\",\"2021-09-09T19:45:00\",\"2021-09-09T20:00:00\",\"2021-09-09T20:15:00\",\"2021-09-09T20:30:00\",\"2021-09-09T20:45:00\",\"2021-09-09T21:00:00\",\"2021-09-09T21:15:00\",\"2021-09-09T21:30:00\",\"2021-09-09T21:45:00\",\"2021-09-09T22:00:00\",\"2021-09-09T22:15:00\",\"2021-09-09T22:30:00\",\"2021-09-09T22:45:00\",\"2021-09-09T23:00:00\",\"2021-09-09T23:15:00\",\"2021-09-09T23:30:00\",\"2021-09-09T23:45:00\",\"2021-09-10T00:00:00\",\"2021-09-10T00:15:00\",\"2021-09-10T00:30:00\",\"2021-09-10T00:45:00\",\"2021-09-10T01:00:00\",\"2021-09-10T01:15:00\",\"2021-09-10T01:30:00\",\"2021-09-10T01:45:00\",\"2021-09-10T02:00:00\",\"2021-09-10T02:15:00\",\"2021-09-10T02:30:00\",\"2021-09-10T02:45:00\",\"2021-09-10T03:00:00\",\"2021-09-10T03:15:00\",\"2021-09-10T03:30:00\",\"2021-09-10T03:45:00\",\"2021-09-10T04:00:00\",\"2021-09-10T04:15:00\",\"2021-09-10T04:30:00\",\"2021-09-10T04:45:00\",\"2021-09-10T05:00:00\",\"2021-09-10T05:15:00\",\"2021-09-10T05:30:00\",\"2021-09-10T05:45:00\",\"2021-09-10T06:00:00\",\"2021-09-10T06:15:00\",\"2021-09-10T06:30:00\",\"2021-09-10T06:45:00\",\"2021-09-10T07:00:00\",\"2021-09-10T07:15:00\",\"2021-09-10T07:30:00\",\"2021-09-10T07:45:00\",\"2021-09-10T08:00:00\",\"2021-09-10T08:15:00\",\"2021-09-10T08:30:00\",\"2021-09-10T08:45:00\",\"2021-09-10T09:00:00\",\"2021-09-10T09:15:00\",\"2021-09-10T09:30:00\",\"2021-09-10T09:45:00\",\"2021-09-10T10:00:00\",\"2021-09-10T10:15:00\",\"2021-09-10T10:30:00\",\"2021-09-10T10:45:00\",\"2021-09-10T11:00:00\",\"2021-09-10T11:15:00\",\"2021-09-10T11:30:00\",\"2021-09-10T11:45:00\",\"2021-09-10T12:00:00\",\"2021-09-10T12:15:00\",\"2021-09-10T12:30:00\",\"2021-09-10T12:45:00\",\"2021-09-10T13:00:00\",\"2021-09-10T13:15:00\",\"2021-09-10T13:30:00\",\"2021-09-10T13:45:00\",\"2021-09-10T14:00:00\",\"2021-09-10T14:15:00\",\"2021-09-10T14:30:00\",\"2021-09-10T14:45:00\",\"2021-09-10T15:00:00\",\"2021-09-10T15:15:00\",\"2021-09-10T15:30:00\",\"2021-09-10T15:45:00\",\"2021-09-10T16:00:00\",\"2021-09-10T16:15:00\",\"2021-09-10T16:30:00\",\"2021-09-10T16:45:00\",\"2021-09-10T17:00:00\",\"2021-09-10T17:15:00\",\"2021-09-10T17:30:00\",\"2021-09-10T17:45:00\",\"2021-09-10T18:00:00\",\"2021-09-10T18:15:00\",\"2021-09-10T18:30:00\",\"2021-09-10T18:45:00\",\"2021-09-10T19:00:00\",\"2021-09-10T19:15:00\",\"2021-09-10T19:30:00\",\"2021-09-10T19:45:00\",\"2021-09-10T20:00:00\",\"2021-09-10T20:15:00\",\"2021-09-10T20:30:00\",\"2021-09-10T20:45:00\",\"2021-09-10T21:00:00\",\"2021-09-10T21:15:00\",\"2021-09-10T21:30:00\",\"2021-09-10T21:45:00\",\"2021-09-10T22:00:00\",\"2021-09-10T22:15:00\",\"2021-09-10T22:30:00\",\"2021-09-10T22:45:00\",\"2021-09-10T23:00:00\",\"2021-09-10T23:15:00\",\"2021-09-10T23:30:00\",\"2021-09-10T23:45:00\",\"2021-09-11T00:00:00\",\"2021-09-11T00:15:00\",\"2021-09-11T00:30:00\",\"2021-09-11T00:45:00\",\"2021-09-11T01:00:00\",\"2021-09-11T01:15:00\",\"2021-09-11T01:30:00\",\"2021-09-11T01:45:00\",\"2021-09-11T02:00:00\",\"2021-09-11T02:15:00\",\"2021-09-11T02:30:00\",\"2021-09-11T02:45:00\",\"2021-09-11T03:00:00\",\"2021-09-11T03:15:00\",\"2021-09-11T03:30:00\",\"2021-09-11T03:45:00\",\"2021-09-11T04:00:00\",\"2021-09-11T04:15:00\",\"2021-09-11T04:30:00\",\"2021-09-11T04:45:00\",\"2021-09-11T05:00:00\",\"2021-09-11T05:15:00\",\"2021-09-11T05:30:00\",\"2021-09-11T05:45:00\",\"2021-09-11T06:00:00\",\"2021-09-11T06:15:00\",\"2021-09-11T06:30:00\",\"2021-09-11T06:45:00\",\"2021-09-11T07:00:00\",\"2021-09-11T07:15:00\",\"2021-09-11T07:30:00\",\"2021-09-11T07:45:00\",\"2021-09-11T08:00:00\",\"2021-09-11T08:15:00\",\"2021-09-11T08:30:00\",\"2021-09-11T08:45:00\",\"2021-09-11T09:00:00\",\"2021-09-11T09:15:00\",\"2021-09-11T09:30:00\",\"2021-09-11T09:45:00\",\"2021-09-11T10:00:00\",\"2021-09-11T10:15:00\",\"2021-09-11T10:30:00\",\"2021-09-11T10:45:00\",\"2021-09-11T11:00:00\",\"2021-09-11T11:15:00\",\"2021-09-11T11:30:00\",\"2021-09-11T11:45:00\",\"2021-09-11T12:00:00\",\"2021-09-11T12:15:00\",\"2021-09-11T12:30:00\",\"2021-09-11T12:45:00\",\"2021-09-11T13:00:00\",\"2021-09-11T13:15:00\",\"2021-09-11T13:30:00\",\"2021-09-11T13:45:00\",\"2021-09-11T14:00:00\",\"2021-09-11T14:15:00\",\"2021-09-11T14:30:00\",\"2021-09-11T14:45:00\",\"2021-09-11T15:00:00\",\"2021-09-11T15:15:00\",\"2021-09-11T15:30:00\",\"2021-09-11T15:45:00\",\"2021-09-11T16:00:00\",\"2021-09-11T16:15:00\",\"2021-09-11T16:30:00\",\"2021-09-11T16:45:00\",\"2021-09-11T17:00:00\",\"2021-09-11T17:15:00\",\"2021-09-11T17:30:00\",\"2021-09-11T17:45:00\",\"2021-09-11T18:00:00\",\"2021-09-11T18:15:00\",\"2021-09-11T18:30:00\",\"2021-09-11T18:45:00\",\"2021-09-11T19:00:00\",\"2021-09-11T19:15:00\",\"2021-09-11T19:30:00\",\"2021-09-11T19:45:00\",\"2021-09-11T20:00:00\",\"2021-09-11T20:15:00\",\"2021-09-11T20:30:00\",\"2021-09-11T20:45:00\",\"2021-09-11T21:00:00\",\"2021-09-11T21:15:00\",\"2021-09-11T21:30:00\",\"2021-09-11T21:45:00\",\"2021-09-11T22:00:00\",\"2021-09-11T22:15:00\",\"2021-09-11T22:30:00\",\"2021-09-11T22:45:00\",\"2021-09-11T23:00:00\",\"2021-09-11T23:15:00\",\"2021-09-11T23:30:00\",\"2021-09-11T23:45:00\",\"2021-09-12T00:00:00\",\"2021-09-12T00:15:00\",\"2021-09-12T00:30:00\",\"2021-09-12T00:45:00\",\"2021-09-12T01:00:00\",\"2021-09-12T01:15:00\",\"2021-09-12T01:30:00\",\"2021-09-12T01:45:00\",\"2021-09-12T02:00:00\",\"2021-09-12T02:15:00\",\"2021-09-12T02:30:00\",\"2021-09-12T02:45:00\",\"2021-09-12T03:00:00\",\"2021-09-12T03:15:00\",\"2021-09-12T03:30:00\",\"2021-09-12T03:45:00\",\"2021-09-12T04:00:00\",\"2021-09-12T04:15:00\",\"2021-09-12T04:30:00\",\"2021-09-12T04:45:00\",\"2021-09-12T05:00:00\",\"2021-09-12T05:15:00\",\"2021-09-12T05:30:00\",\"2021-09-12T05:45:00\",\"2021-09-12T06:00:00\",\"2021-09-12T06:15:00\",\"2021-09-12T06:30:00\",\"2021-09-12T06:45:00\",\"2021-09-12T07:00:00\",\"2021-09-12T07:15:00\",\"2021-09-12T07:30:00\",\"2021-09-12T07:45:00\",\"2021-09-12T08:00:00\",\"2021-09-12T08:15:00\",\"2021-09-12T08:30:00\",\"2021-09-12T08:45:00\",\"2021-09-12T09:00:00\",\"2021-09-12T09:15:00\",\"2021-09-12T09:30:00\",\"2021-09-12T09:45:00\",\"2021-09-12T10:00:00\",\"2021-09-12T10:15:00\",\"2021-09-12T10:30:00\",\"2021-09-12T10:45:00\",\"2021-09-12T11:00:00\",\"2021-09-12T11:15:00\",\"2021-09-12T11:30:00\",\"2021-09-12T11:45:00\",\"2021-09-12T12:00:00\",\"2021-09-12T12:15:00\",\"2021-09-12T12:30:00\",\"2021-09-12T12:45:00\",\"2021-09-12T13:00:00\",\"2021-09-12T13:15:00\",\"2021-09-12T13:30:00\",\"2021-09-12T13:45:00\",\"2021-09-12T14:00:00\",\"2021-09-12T14:15:00\",\"2021-09-12T14:30:00\",\"2021-09-12T14:45:00\",\"2021-09-12T15:00:00\",\"2021-09-12T15:15:00\",\"2021-09-12T15:30:00\",\"2021-09-12T15:45:00\",\"2021-09-12T16:00:00\",\"2021-09-12T16:15:00\",\"2021-09-12T16:30:00\",\"2021-09-12T16:45:00\",\"2021-09-12T17:00:00\",\"2021-09-12T17:15:00\",\"2021-09-12T17:30:00\",\"2021-09-12T17:45:00\",\"2021-09-12T18:00:00\",\"2021-09-12T18:15:00\",\"2021-09-12T18:30:00\",\"2021-09-12T18:45:00\",\"2021-09-12T19:00:00\",\"2021-09-12T19:15:00\",\"2021-09-12T19:30:00\",\"2021-09-12T19:45:00\",\"2021-09-12T20:00:00\",\"2021-09-12T20:15:00\",\"2021-09-12T20:30:00\",\"2021-09-12T20:45:00\",\"2021-09-12T21:00:00\",\"2021-09-12T21:15:00\",\"2021-09-12T21:30:00\",\"2021-09-12T21:45:00\",\"2021-09-12T22:00:00\",\"2021-09-12T22:15:00\",\"2021-09-12T22:30:00\",\"2021-09-12T22:45:00\",\"2021-09-12T23:00:00\",\"2021-09-12T23:15:00\",\"2021-09-12T23:30:00\",\"2021-09-12T23:45:00\",\"2021-09-13T00:00:00\",\"2021-09-13T00:15:00\",\"2021-09-13T00:30:00\",\"2021-09-13T00:45:00\",\"2021-09-13T01:00:00\",\"2021-09-13T01:15:00\",\"2021-09-13T01:30:00\",\"2021-09-13T01:45:00\",\"2021-09-13T02:00:00\",\"2021-09-13T02:15:00\",\"2021-09-13T02:30:00\",\"2021-09-13T02:45:00\",\"2021-09-13T03:00:00\",\"2021-09-13T03:15:00\",\"2021-09-13T03:30:00\",\"2021-09-13T03:45:00\",\"2021-09-13T04:00:00\",\"2021-09-13T04:15:00\",\"2021-09-13T04:30:00\",\"2021-09-13T04:45:00\",\"2021-09-13T05:00:00\",\"2021-09-13T05:15:00\",\"2021-09-13T05:30:00\",\"2021-09-13T05:45:00\",\"2021-09-13T06:00:00\",\"2021-09-13T06:15:00\",\"2021-09-13T06:30:00\",\"2021-09-13T06:45:00\",\"2021-09-13T07:00:00\",\"2021-09-13T07:15:00\",\"2021-09-13T07:30:00\",\"2021-09-13T07:45:00\",\"2021-09-13T08:00:00\",\"2021-09-13T08:15:00\",\"2021-09-13T08:30:00\",\"2021-09-13T08:45:00\",\"2021-09-13T09:00:00\",\"2021-09-13T09:15:00\",\"2021-09-13T09:30:00\",\"2021-09-13T09:45:00\",\"2021-09-13T10:00:00\",\"2021-09-13T10:15:00\",\"2021-09-13T10:30:00\",\"2021-09-13T10:45:00\",\"2021-09-13T11:00:00\",\"2021-09-13T11:15:00\",\"2021-09-13T11:30:00\",\"2021-09-13T11:45:00\",\"2021-09-13T12:00:00\",\"2021-09-13T12:15:00\",\"2021-09-13T12:30:00\",\"2021-09-13T12:45:00\",\"2021-09-13T13:00:00\",\"2021-09-13T13:15:00\",\"2021-09-13T13:30:00\",\"2021-09-13T13:45:00\",\"2021-09-13T14:00:00\",\"2021-09-13T14:15:00\",\"2021-09-13T14:30:00\",\"2021-09-13T14:45:00\",\"2021-09-13T15:00:00\",\"2021-09-13T15:15:00\",\"2021-09-13T15:30:00\",\"2021-09-13T15:45:00\",\"2021-09-13T16:00:00\",\"2021-09-13T16:15:00\",\"2021-09-13T16:30:00\",\"2021-09-13T16:45:00\",\"2021-09-13T17:00:00\",\"2021-09-13T17:15:00\",\"2021-09-13T17:30:00\",\"2021-09-13T17:45:00\",\"2021-09-13T18:00:00\",\"2021-09-13T18:15:00\",\"2021-09-13T18:30:00\",\"2021-09-13T18:45:00\",\"2021-09-13T19:00:00\",\"2021-09-13T19:15:00\",\"2021-09-13T19:30:00\",\"2021-09-13T19:45:00\",\"2021-09-13T20:00:00\",\"2021-09-13T20:15:00\",\"2021-09-13T20:30:00\",\"2021-09-13T20:45:00\",\"2021-09-13T21:00:00\",\"2021-09-13T21:15:00\",\"2021-09-13T21:30:00\",\"2021-09-13T21:45:00\",\"2021-09-13T22:00:00\",\"2021-09-13T22:15:00\",\"2021-09-13T22:30:00\",\"2021-09-13T22:45:00\",\"2021-09-13T23:00:00\",\"2021-09-13T23:15:00\",\"2021-09-13T23:30:00\",\"2021-09-13T23:45:00\",\"2021-09-14T00:00:00\",\"2021-09-14T00:15:00\",\"2021-09-14T00:30:00\",\"2021-09-14T00:45:00\",\"2021-09-14T01:00:00\",\"2021-09-14T01:15:00\",\"2021-09-14T01:30:00\",\"2021-09-14T01:45:00\",\"2021-09-14T02:00:00\",\"2021-09-14T02:15:00\",\"2021-09-14T02:30:00\",\"2021-09-14T02:45:00\",\"2021-09-14T03:00:00\",\"2021-09-14T03:15:00\",\"2021-09-14T03:30:00\",\"2021-09-14T03:45:00\",\"2021-09-14T04:00:00\",\"2021-09-14T04:15:00\",\"2021-09-14T04:30:00\",\"2021-09-14T04:45:00\",\"2021-09-14T05:00:00\",\"2021-09-14T05:15:00\",\"2021-09-14T05:30:00\",\"2021-09-14T05:45:00\",\"2021-09-14T06:00:00\",\"2021-09-14T06:15:00\",\"2021-09-14T06:30:00\",\"2021-09-14T06:45:00\",\"2021-09-14T07:00:00\",\"2021-09-14T07:15:00\",\"2021-09-14T07:30:00\",\"2021-09-14T07:45:00\",\"2021-09-14T08:00:00\",\"2021-09-14T08:15:00\",\"2021-09-14T08:30:00\",\"2021-09-14T08:45:00\",\"2021-09-14T09:00:00\",\"2021-09-14T09:15:00\",\"2021-09-14T09:30:00\",\"2021-09-14T09:45:00\",\"2021-09-14T10:00:00\",\"2021-09-14T10:15:00\",\"2021-09-14T10:30:00\",\"2021-09-14T10:45:00\",\"2021-09-14T11:00:00\",\"2021-09-14T11:15:00\",\"2021-09-14T11:30:00\",\"2021-09-14T11:45:00\",\"2021-09-14T12:00:00\",\"2021-09-14T12:15:00\",\"2021-09-14T12:30:00\",\"2021-09-14T12:45:00\",\"2021-09-14T13:00:00\",\"2021-09-14T13:15:00\",\"2021-09-14T13:30:00\",\"2021-09-14T13:45:00\",\"2021-09-14T14:00:00\",\"2021-09-14T14:15:00\",\"2021-09-14T14:30:00\",\"2021-09-14T14:45:00\",\"2021-09-14T15:00:00\",\"2021-09-14T15:15:00\",\"2021-09-14T15:30:00\",\"2021-09-14T15:45:00\",\"2021-09-14T16:00:00\",\"2021-09-14T16:15:00\",\"2021-09-14T16:30:00\",\"2021-09-14T16:45:00\",\"2021-09-14T17:00:00\",\"2021-09-14T17:15:00\",\"2021-09-14T17:30:00\",\"2021-09-14T17:45:00\",\"2021-09-14T18:00:00\",\"2021-09-14T18:15:00\",\"2021-09-14T18:30:00\",\"2021-09-14T18:45:00\",\"2021-09-14T19:00:00\",\"2021-09-14T19:15:00\",\"2021-09-14T19:30:00\",\"2021-09-14T19:45:00\",\"2021-09-14T20:00:00\",\"2021-09-14T20:15:00\",\"2021-09-14T20:30:00\",\"2021-09-14T20:45:00\",\"2021-09-14T21:00:00\",\"2021-09-14T21:15:00\",\"2021-09-14T21:30:00\",\"2021-09-14T21:45:00\",\"2021-09-14T22:00:00\",\"2021-09-14T22:15:00\",\"2021-09-14T22:30:00\",\"2021-09-14T22:45:00\",\"2021-09-14T23:00:00\",\"2021-09-14T23:15:00\",\"2021-09-14T23:30:00\",\"2021-09-14T23:45:00\",\"2021-09-15T00:00:00\",\"2021-09-15T00:15:00\",\"2021-09-15T00:30:00\",\"2021-09-15T00:45:00\",\"2021-09-15T01:00:00\",\"2021-09-15T01:15:00\",\"2021-09-15T01:30:00\",\"2021-09-15T01:45:00\"],\"legendgroup\":\"Present\",\"marker\":{\"color\":\"red\",\"pattern\":{\"shape\":\"\"}},\"name\":\"Present\",\"offsetgroup\":\"Present\",\"orientation\":\"v\",\"showlegend\":true,\"textposition\":\"auto\",\"type\":\"bar\",\"x\":[\"2021-09-09T11:00:00\",\"2021-09-09T11:15:00\",\"2021-09-09T11:30:00\",\"2021-09-09T11:45:00\",\"2021-09-09T12:00:00\",\"2021-09-09T12:15:00\",\"2021-09-09T12:30:00\",\"2021-09-09T12:45:00\",\"2021-09-09T13:00:00\",\"2021-09-09T13:15:00\",\"2021-09-09T13:30:00\",\"2021-09-09T13:45:00\",\"2021-09-09T14:00:00\",\"2021-09-09T14:15:00\",\"2021-09-09T14:30:00\",\"2021-09-09T14:45:00\",\"2021-09-09T15:00:00\",\"2021-09-09T15:15:00\",\"2021-09-09T15:30:00\",\"2021-09-09T15:45:00\",\"2021-09-09T16:00:00\",\"2021-09-09T16:15:00\",\"2021-09-09T16:30:00\",\"2021-09-09T16:45:00\",\"2021-09-09T17:00:00\",\"2021-09-09T17:15:00\",\"2021-09-09T17:30:00\",\"2021-09-09T17:45:00\",\"2021-09-09T18:00:00\",\"2021-09-09T18:15:00\",\"2021-09-09T18:30:00\",\"2021-09-09T18:45:00\",\"2021-09-09T19:00:00\",\"2021-09-09T19:15:00\",\"2021-09-09T19:30:00\",\"2021-09-09T19:45:00\",\"2021-09-09T20:00:00\",\"2021-09-09T20:15:00\",\"2021-09-09T20:30:00\",\"2021-09-09T20:45:00\",\"2021-09-09T21:00:00\",\"2021-09-09T21:15:00\",\"2021-09-09T21:30:00\",\"2021-09-09T21:45:00\",\"2021-09-09T22:00:00\",\"2021-09-09T22:15:00\",\"2021-09-09T22:30:00\",\"2021-09-09T22:45:00\",\"2021-09-09T23:00:00\",\"2021-09-09T23:15:00\",\"2021-09-09T23:30:00\",\"2021-09-09T23:45:00\",\"2021-09-10T00:00:00\",\"2021-09-10T00:15:00\",\"2021-09-10T00:30:00\",\"2021-09-10T00:45:00\",\"2021-09-10T01:00:00\",\"2021-09-10T01:15:00\",\"2021-09-10T01:30:00\",\"2021-09-10T01:45:00\",\"2021-09-10T02:00:00\",\"2021-09-10T02:15:00\",\"2021-09-10T02:30:00\",\"2021-09-10T02:45:00\",\"2021-09-10T03:00:00\",\"2021-09-10T03:15:00\",\"2021-09-10T03:30:00\",\"2021-09-10T03:45:00\",\"2021-09-10T04:00:00\",\"2021-09-10T04:15:00\",\"2021-09-10T04:30:00\",\"2021-09-10T04:45:00\",\"2021-09-10T05:00:00\",\"2021-09-10T05:15:00\",\"2021-09-10T05:30:00\",\"2021-09-10T05:45:00\",\"2021-09-10T06:00:00\",\"2021-09-10T06:15:00\",\"2021-09-10T06:30:00\",\"2021-09-10T06:45:00\",\"2021-09-10T07:00:00\",\"2021-09-10T07:15:00\",\"2021-09-10T07:30:00\",\"2021-09-10T07:45:00\",\"2021-09-10T08:00:00\",\"2021-09-10T08:15:00\",\"2021-09-10T08:30:00\",\"2021-09-10T08:45:00\",\"2021-09-10T09:00:00\",\"2021-09-10T09:15:00\",\"2021-09-10T09:30:00\",\"2021-09-10T09:45:00\",\"2021-09-10T10:00:00\",\"2021-09-10T10:15:00\",\"2021-09-10T10:30:00\",\"2021-09-10T10:45:00\",\"2021-09-10T11:00:00\",\"2021-09-10T11:15:00\",\"2021-09-10T11:30:00\",\"2021-09-10T11:45:00\",\"2021-09-10T12:00:00\",\"2021-09-10T12:15:00\",\"2021-09-10T12:30:00\",\"2021-09-10T12:45:00\",\"2021-09-10T13:00:00\",\"2021-09-10T13:15:00\",\"2021-09-10T13:30:00\",\"2021-09-10T13:45:00\",\"2021-09-10T14:00:00\",\"2021-09-10T14:15:00\",\"2021-09-10T14:30:00\",\"2021-09-10T14:45:00\",\"2021-09-10T15:00:00\",\"2021-09-10T15:15:00\",\"2021-09-10T15:30:00\",\"2021-09-10T15:45:00\",\"2021-09-10T16:00:00\",\"2021-09-10T16:15:00\",\"2021-09-10T16:30:00\",\"2021-09-10T16:45:00\",\"2021-09-10T17:00:00\",\"2021-09-10T17:15:00\",\"2021-09-10T17:30:00\",\"2021-09-10T17:45:00\",\"2021-09-10T18:00:00\",\"2021-09-10T18:15:00\",\"2021-09-10T18:30:00\",\"2021-09-10T18:45:00\",\"2021-09-10T19:00:00\",\"2021-09-10T19:15:00\",\"2021-09-10T19:30:00\",\"2021-09-10T19:45:00\",\"2021-09-10T20:00:00\",\"2021-09-10T20:15:00\",\"2021-09-10T20:30:00\",\"2021-09-10T20:45:00\",\"2021-09-10T21:00:00\",\"2021-09-10T21:15:00\",\"2021-09-10T21:30:00\",\"2021-09-10T21:45:00\",\"2021-09-10T22:00:00\",\"2021-09-10T22:15:00\",\"2021-09-10T22:30:00\",\"2021-09-10T22:45:00\",\"2021-09-10T23:00:00\",\"2021-09-10T23:15:00\",\"2021-09-10T23:30:00\",\"2021-09-10T23:45:00\",\"2021-09-11T00:00:00\",\"2021-09-11T00:15:00\",\"2021-09-11T00:30:00\",\"2021-09-11T00:45:00\",\"2021-09-11T01:00:00\",\"2021-09-11T01:15:00\",\"2021-09-11T01:30:00\",\"2021-09-11T01:45:00\",\"2021-09-11T02:00:00\",\"2021-09-11T02:15:00\",\"2021-09-11T02:30:00\",\"2021-09-11T02:45:00\",\"2021-09-11T03:00:00\",\"2021-09-11T03:15:00\",\"2021-09-11T03:30:00\",\"2021-09-11T03:45:00\",\"2021-09-11T04:00:00\",\"2021-09-11T04:15:00\",\"2021-09-11T04:30:00\",\"2021-09-11T04:45:00\",\"2021-09-11T05:00:00\",\"2021-09-11T05:15:00\",\"2021-09-11T05:30:00\",\"2021-09-11T05:45:00\",\"2021-09-11T06:00:00\",\"2021-09-11T06:15:00\",\"2021-09-11T06:30:00\",\"2021-09-11T06:45:00\",\"2021-09-11T07:00:00\",\"2021-09-11T07:15:00\",\"2021-09-11T07:30:00\",\"2021-09-11T07:45:00\",\"2021-09-11T08:00:00\",\"2021-09-11T08:15:00\",\"2021-09-11T08:30:00\",\"2021-09-11T08:45:00\",\"2021-09-11T09:00:00\",\"2021-09-11T09:15:00\",\"2021-09-11T09:30:00\",\"2021-09-11T09:45:00\",\"2021-09-11T10:00:00\",\"2021-09-11T10:15:00\",\"2021-09-11T10:30:00\",\"2021-09-11T10:45:00\",\"2021-09-11T11:00:00\",\"2021-09-11T11:15:00\",\"2021-09-11T11:30:00\",\"2021-09-11T11:45:00\",\"2021-09-11T12:00:00\",\"2021-09-11T12:15:00\",\"2021-09-11T12:30:00\",\"2021-09-11T12:45:00\",\"2021-09-11T13:00:00\",\"2021-09-11T13:15:00\",\"2021-09-11T13:30:00\",\"2021-09-11T13:45:00\",\"2021-09-11T14:00:00\",\"2021-09-11T14:15:00\",\"2021-09-11T14:30:00\",\"2021-09-11T14:45:00\",\"2021-09-11T15:00:00\",\"2021-09-11T15:15:00\",\"2021-09-11T15:30:00\",\"2021-09-11T15:45:00\",\"2021-09-11T16:00:00\",\"2021-09-11T16:15:00\",\"2021-09-11T16:30:00\",\"2021-09-11T16:45:00\",\"2021-09-11T17:00:00\",\"2021-09-11T17:15:00\",\"2021-09-11T17:30:00\",\"2021-09-11T17:45:00\",\"2021-09-11T18:00:00\",\"2021-09-11T18:15:00\",\"2021-09-11T18:30:00\",\"2021-09-11T18:45:00\",\"2021-09-11T19:00:00\",\"2021-09-11T19:15:00\",\"2021-09-11T19:30:00\",\"2021-09-11T19:45:00\",\"2021-09-11T20:00:00\",\"2021-09-11T20:15:00\",\"2021-09-11T20:30:00\",\"2021-09-11T20:45:00\",\"2021-09-11T21:00:00\",\"2021-09-11T21:15:00\",\"2021-09-11T21:30:00\",\"2021-09-11T21:45:00\",\"2021-09-11T22:00:00\",\"2021-09-11T22:15:00\",\"2021-09-11T22:30:00\",\"2021-09-11T22:45:00\",\"2021-09-11T23:00:00\",\"2021-09-11T23:15:00\",\"2021-09-11T23:30:00\",\"2021-09-11T23:45:00\",\"2021-09-12T00:00:00\",\"2021-09-12T00:15:00\",\"2021-09-12T00:30:00\",\"2021-09-12T00:45:00\",\"2021-09-12T01:00:00\",\"2021-09-12T01:15:00\",\"2021-09-12T01:30:00\",\"2021-09-12T01:45:00\",\"2021-09-12T02:00:00\",\"2021-09-12T02:15:00\",\"2021-09-12T02:30:00\",\"2021-09-12T02:45:00\",\"2021-09-12T03:00:00\",\"2021-09-12T03:15:00\",\"2021-09-12T03:30:00\",\"2021-09-12T03:45:00\",\"2021-09-12T04:00:00\",\"2021-09-12T04:15:00\",\"2021-09-12T04:30:00\",\"2021-09-12T04:45:00\",\"2021-09-12T05:00:00\",\"2021-09-12T05:15:00\",\"2021-09-12T05:30:00\",\"2021-09-12T05:45:00\",\"2021-09-12T06:00:00\",\"2021-09-12T06:15:00\",\"2021-09-12T06:30:00\",\"2021-09-12T06:45:00\",\"2021-09-12T07:00:00\",\"2021-09-12T07:15:00\",\"2021-09-12T07:30:00\",\"2021-09-12T07:45:00\",\"2021-09-12T08:00:00\",\"2021-09-12T08:15:00\",\"2021-09-12T08:30:00\",\"2021-09-12T08:45:00\",\"2021-09-12T09:00:00\",\"2021-09-12T09:15:00\",\"2021-09-12T09:30:00\",\"2021-09-12T09:45:00\",\"2021-09-12T10:00:00\",\"2021-09-12T10:15:00\",\"2021-09-12T10:30:00\",\"2021-09-12T10:45:00\",\"2021-09-12T11:00:00\",\"2021-09-12T11:15:00\",\"2021-09-12T11:30:00\",\"2021-09-12T11:45:00\",\"2021-09-12T12:00:00\",\"2021-09-12T12:15:00\",\"2021-09-12T12:30:00\",\"2021-09-12T12:45:00\",\"2021-09-12T13:00:00\",\"2021-09-12T13:15:00\",\"2021-09-12T13:30:00\",\"2021-09-12T13:45:00\",\"2021-09-12T14:00:00\",\"2021-09-12T14:15:00\",\"2021-09-12T14:30:00\",\"2021-09-12T14:45:00\",\"2021-09-12T15:00:00\",\"2021-09-12T15:15:00\",\"2021-09-12T15:30:00\",\"2021-09-12T15:45:00\",\"2021-09-12T16:00:00\",\"2021-09-12T16:15:00\",\"2021-09-12T16:30:00\",\"2021-09-12T16:45:00\",\"2021-09-12T17:00:00\",\"2021-09-12T17:15:00\",\"2021-09-12T17:30:00\",\"2021-09-12T17:45:00\",\"2021-09-12T18:00:00\",\"2021-09-12T18:15:00\",\"2021-09-12T18:30:00\",\"2021-09-12T18:45:00\",\"2021-09-12T19:00:00\",\"2021-09-12T19:15:00\",\"2021-09-12T19:30:00\",\"2021-09-12T19:45:00\",\"2021-09-12T20:00:00\",\"2021-09-12T20:15:00\",\"2021-09-12T20:30:00\",\"2021-09-12T20:45:00\",\"2021-09-12T21:00:00\",\"2021-09-12T21:15:00\",\"2021-09-12T21:30:00\",\"2021-09-12T21:45:00\",\"2021-09-12T22:00:00\",\"2021-09-12T22:15:00\",\"2021-09-12T22:30:00\",\"2021-09-12T22:45:00\",\"2021-09-12T23:00:00\",\"2021-09-12T23:15:00\",\"2021-09-12T23:30:00\",\"2021-09-12T23:45:00\",\"2021-09-13T00:00:00\",\"2021-09-13T00:15:00\",\"2021-09-13T00:30:00\",\"2021-09-13T00:45:00\",\"2021-09-13T01:00:00\",\"2021-09-13T01:15:00\",\"2021-09-13T01:30:00\",\"2021-09-13T01:45:00\",\"2021-09-13T02:00:00\",\"2021-09-13T02:15:00\",\"2021-09-13T02:30:00\",\"2021-09-13T02:45:00\",\"2021-09-13T03:00:00\",\"2021-09-13T03:15:00\",\"2021-09-13T03:30:00\",\"2021-09-13T03:45:00\",\"2021-09-13T04:00:00\",\"2021-09-13T04:15:00\",\"2021-09-13T04:30:00\",\"2021-09-13T04:45:00\",\"2021-09-13T05:00:00\",\"2021-09-13T05:15:00\",\"2021-09-13T05:30:00\",\"2021-09-13T05:45:00\",\"2021-09-13T06:00:00\",\"2021-09-13T06:15:00\",\"2021-09-13T06:30:00\",\"2021-09-13T06:45:00\",\"2021-09-13T07:00:00\",\"2021-09-13T07:15:00\",\"2021-09-13T07:30:00\",\"2021-09-13T07:45:00\",\"2021-09-13T08:00:00\",\"2021-09-13T08:15:00\",\"2021-09-13T08:30:00\",\"2021-09-13T08:45:00\",\"2021-09-13T09:00:00\",\"2021-09-13T09:15:00\",\"2021-09-13T09:30:00\",\"2021-09-13T09:45:00\",\"2021-09-13T10:00:00\",\"2021-09-13T10:15:00\",\"2021-09-13T10:30:00\",\"2021-09-13T10:45:00\",\"2021-09-13T11:00:00\",\"2021-09-13T11:15:00\",\"2021-09-13T11:30:00\",\"2021-09-13T11:45:00\",\"2021-09-13T12:00:00\",\"2021-09-13T12:15:00\",\"2021-09-13T12:30:00\",\"2021-09-13T12:45:00\",\"2021-09-13T13:00:00\",\"2021-09-13T13:15:00\",\"2021-09-13T13:30:00\",\"2021-09-13T13:45:00\",\"2021-09-13T14:00:00\",\"2021-09-13T14:15:00\",\"2021-09-13T14:30:00\",\"2021-09-13T14:45:00\",\"2021-09-13T15:00:00\",\"2021-09-13T15:15:00\",\"2021-09-13T15:30:00\",\"2021-09-13T15:45:00\",\"2021-09-13T16:00:00\",\"2021-09-13T16:15:00\",\"2021-09-13T16:30:00\",\"2021-09-13T16:45:00\",\"2021-09-13T17:00:00\",\"2021-09-13T17:15:00\",\"2021-09-13T17:30:00\",\"2021-09-13T17:45:00\",\"2021-09-13T18:00:00\",\"2021-09-13T18:15:00\",\"2021-09-13T18:30:00\",\"2021-09-13T18:45:00\",\"2021-09-13T19:00:00\",\"2021-09-13T19:15:00\",\"2021-09-13T19:30:00\",\"2021-09-13T19:45:00\",\"2021-09-13T20:00:00\",\"2021-09-13T20:15:00\",\"2021-09-13T20:30:00\",\"2021-09-13T20:45:00\",\"2021-09-13T21:00:00\",\"2021-09-13T21:15:00\",\"2021-09-13T21:30:00\",\"2021-09-13T21:45:00\",\"2021-09-13T22:00:00\",\"2021-09-13T22:15:00\",\"2021-09-13T22:30:00\",\"2021-09-13T22:45:00\",\"2021-09-13T23:00:00\",\"2021-09-13T23:15:00\",\"2021-09-13T23:30:00\",\"2021-09-13T23:45:00\",\"2021-09-14T00:00:00\",\"2021-09-14T00:15:00\",\"2021-09-14T00:30:00\",\"2021-09-14T00:45:00\",\"2021-09-14T01:00:00\",\"2021-09-14T01:15:00\",\"2021-09-14T01:30:00\",\"2021-09-14T01:45:00\",\"2021-09-14T02:00:00\",\"2021-09-14T02:15:00\",\"2021-09-14T02:30:00\",\"2021-09-14T02:45:00\",\"2021-09-14T03:00:00\",\"2021-09-14T03:15:00\",\"2021-09-14T03:30:00\",\"2021-09-14T03:45:00\",\"2021-09-14T04:00:00\",\"2021-09-14T04:15:00\",\"2021-09-14T04:30:00\",\"2021-09-14T04:45:00\",\"2021-09-14T05:00:00\",\"2021-09-14T05:15:00\",\"2021-09-14T05:30:00\",\"2021-09-14T05:45:00\",\"2021-09-14T06:00:00\",\"2021-09-14T06:15:00\",\"2021-09-14T06:30:00\",\"2021-09-14T06:45:00\",\"2021-09-14T07:00:00\",\"2021-09-14T07:15:00\",\"2021-09-14T07:30:00\",\"2021-09-14T07:45:00\",\"2021-09-14T08:00:00\",\"2021-09-14T08:15:00\",\"2021-09-14T08:30:00\",\"2021-09-14T08:45:00\",\"2021-09-14T09:00:00\",\"2021-09-14T09:15:00\",\"2021-09-14T09:30:00\",\"2021-09-14T09:45:00\",\"2021-09-14T10:00:00\",\"2021-09-14T10:15:00\",\"2021-09-14T10:30:00\",\"2021-09-14T10:45:00\",\"2021-09-14T11:00:00\",\"2021-09-14T11:15:00\",\"2021-09-14T11:30:00\",\"2021-09-14T11:45:00\",\"2021-09-14T12:00:00\",\"2021-09-14T12:15:00\",\"2021-09-14T12:30:00\",\"2021-09-14T12:45:00\",\"2021-09-14T13:00:00\",\"2021-09-14T13:15:00\",\"2021-09-14T13:30:00\",\"2021-09-14T13:45:00\",\"2021-09-14T14:00:00\",\"2021-09-14T14:15:00\",\"2021-09-14T14:30:00\",\"2021-09-14T14:45:00\",\"2021-09-14T15:00:00\",\"2021-09-14T15:15:00\",\"2021-09-14T15:30:00\",\"2021-09-14T15:45:00\",\"2021-09-14T16:00:00\",\"2021-09-14T16:15:00\",\"2021-09-14T16:30:00\",\"2021-09-14T16:45:00\",\"2021-09-14T17:00:00\",\"2021-09-14T17:15:00\",\"2021-09-14T17:30:00\",\"2021-09-14T17:45:00\",\"2021-09-14T18:00:00\",\"2021-09-14T18:15:00\",\"2021-09-14T18:30:00\",\"2021-09-14T18:45:00\",\"2021-09-14T19:00:00\",\"2021-09-14T19:15:00\",\"2021-09-14T19:30:00\",\"2021-09-14T19:45:00\",\"2021-09-14T20:00:00\",\"2021-09-14T20:15:00\",\"2021-09-14T20:30:00\",\"2021-09-14T20:45:00\",\"2021-09-14T21:00:00\",\"2021-09-14T21:15:00\",\"2021-09-14T21:30:00\",\"2021-09-14T21:45:00\",\"2021-09-14T22:00:00\",\"2021-09-14T22:15:00\",\"2021-09-14T22:30:00\",\"2021-09-14T22:45:00\",\"2021-09-14T23:00:00\",\"2021-09-14T23:15:00\",\"2021-09-14T23:30:00\",\"2021-09-14T23:45:00\",\"2021-09-15T00:00:00\",\"2021-09-15T00:15:00\",\"2021-09-15T00:30:00\",\"2021-09-15T00:45:00\",\"2021-09-15T01:00:00\",\"2021-09-15T01:15:00\",\"2021-09-15T01:30:00\",\"2021-09-15T01:45:00\"],\"xaxis\":\"x\",\"y\":[30.0,31.0,21.0,29.0,32.0,21.0,13.0,21.0,22.0,14.0,20.0,21.0,27.0,22.0,14.0,13.0,20.0,15.0,15.0,21.0,20.0,27.0,23.0,15.0,16.0,13.0,21.0,22.0,24.0,28.0,11.0,17.0,16.0,20.0,16.0,16.0,15.0,10.0,13.0,11.0,6.0,13.0,16.0,13.0,14.0,9.0,5.0,7.0,10.0,12.0,8.0,9.0,10.0,10.0,12.0,10.0,9.0,8.0,7.0,8.0,8.0,10.0,8.0,10.0,9.0,9.0,9.0,9.0,8.0,9.0,9.0,8.0,9.0,9.0,10.0,9.0,11.0,30.0,21.0,28.0,21.0,15.0,14.0,14.0,15.0,26.0,21.0,31.0,14.0,31.0,24.0,33.0,23.0,23.0,14.0,13.0,14.0,22.0,22.0,22.0,15.0,29.0,28.0,28.0,14.0,14.0,23.0,16.0,28.0,26.0,26.0,19.0,17.0,16.0,19.0,16.0,19.0,20.0,16.0,21.0,20.0,21.0,16.0,21.0,14.0,18.0,17.0,16.0,18.0,20.0,16.0,16.0,16.0,13.0,11.0,6.0,6.0,7.0,7.0,7.0,3.0,8.0,6.0,3.0,7.0,5.0,8.0,9.0,5.0,6.0,8.0,8.0,5.0,6.0,6.0,4.0,5.0,3.0,5.0,4.0,4.0,4.0,5.0,5.0,3.0,4.0,4.0,4.0,3.0,4.0,4.0,4.0,4.0,5.0,6.0,7.0,14.0,17.0,16.0,11.0,23.0,17.0,24.0,24.0,18.0,21.0,25.0,17.0,25.0,21.0,24.0,20.0,26.0,21.0,23.0,26.0,20.0,13.0,18.0,18.0,23.0,20.0,20.0,21.0,20.0,18.0,15.0,20.0,21.0,16.0,16.0,20.0,24.0,20.0,19.0,17.0,28.0,13.0,15.0,19.0,20.0,16.0,15.0,null,11.0,17.0,17.0,13.0,17.0,15.0,14.0,14.0,14.0,10.0,9.0,9.0,10.0,17.0,19.0,18.0,9.0,14.0,12.0,16.0,8.0,16.0,15.0,13.0,13.0,13.0,13.0,11.0,11.0,10.0,11.0,12.0,10.0,10.0,12.0,14.0,9.0,4.0,9.0,9.0,4.0,9.0,9.0,4.0,9.0,11.0,7.0,7.0,9.0,7.0,7.0,6.0,7.0,6.0,6.0,7.0,11.0,11.0,12.0,9.0,11.0,17.0,14.0,12.0,12.0,14.0,23.0,29.0,15.0,22.0,14.0,16.0,27.0,19.0,30.0,21.0,21.0,22.0,23.0,24.0,24.0,26.0,13.0,21.0,25.0,21.0,21.0,22.0,26.0,21.0,29.0,28.0,28.0,18.0,14.0,16.0,19.0,15.0,17.0,13.0,12.0,8.0,7.0,7.0,7.0,13.0,3.0,9.0,3.0,8.0,8.0,3.0,7.0,7.0,6.0,8.0,4.0,5.0,6.0,7.0,6.0,4.0,6.0,6.0,9.0,5.0,5.0,7.0,7.0,9.0,9.0,7.0,7.0,6.0,7.0,5.0,6.0,6.0,5.0,7.0,8.0,8.0,11.0,12.0,9.0,11.0,11.0,11.0,18.0,13.0,14.0,15.0,20.0,20.0,19.0,19.0,22.0,20.0,19.0,18.0,21.0,19.0,25.0,26.0,21.0,19.0,27.0,20.0,23.0,26.0,25.0,19.0,25.0,23.0,20.0,25.0,23.0,22.0,19.0,22.0,20.0,17.0,12.0,12.0,13.0,17.0,21.0,21.0,19.0,18.0,15.0,18.0,17.0,15.0,16.0,12.0,16.0,14.0,14.0,10.0,8.0,8.0,7.0,6.0,6.0,7.0,6.0,7.0,7.0,5.0,7.0,6.0,6.0,5.0,4.0,6.0,6.0,5.0,5.0,5.0,5.0,5.0,5.0,5.0,5.0,5.0,5.0,5.0,5.0,5.0,5.0,5.0,5.0,5.0,5.0,10.0,17.0,20.0,18.0,20.0,21.0,20.0,19.0,21.0,22.0,22.0,21.0,22.0,22.0,21.0,23.0,21.0,21.0,23.0,22.0,22.0,22.0,22.0,21.0,22.0,23.0,23.0,23.0,23.0,23.0,23.0,23.0,21.0,20.0,20.0,21.0,19.0,19.0,17.0,16.0,21.0,20.0,19.0,17.0,19.0,21.0,20.0,21.0,18.0,19.0,21.0,15.0,19.0,12.0,13.0,8.0,10.0,12.0,12.0,15.0,9.0,7.0,9.0,7.0,6.0,12.0,8.0,8.0,7.0,8.0,8.0,6.0,6.0,5.0,5.0,5.0,6.0,6.0,6.0,7.0,6.0],\"yaxis\":\"y\"}],                        {\"barmode\":\"relative\",\"height\":300,\"legend\":{\"title\":{\"text\":\"variable\"},\"tracegroupgap\":0},\"template\":{\"data\":{\"bar\":[{\"error_x\":{\"color\":\"#2a3f5f\"},\"error_y\":{\"color\":\"#2a3f5f\"},\"marker\":{\"line\":{\"color\":\"#E5ECF6\",\"width\":0.5},\"pattern\":{\"fillmode\":\"overlay\",\"size\":10,\"solidity\":0.2}},\"type\":\"bar\"}],\"barpolar\":[{\"marker\":{\"line\":{\"color\":\"#E5ECF6\",\"width\":0.5},\"pattern\":{\"fillmode\":\"overlay\",\"size\":10,\"solidity\":0.2}},\"type\":\"barpolar\"}],\"carpet\":[{\"aaxis\":{\"endlinecolor\":\"#2a3f5f\",\"gridcolor\":\"white\",\"linecolor\":\"white\",\"minorgridcolor\":\"white\",\"startlinecolor\":\"#2a3f5f\"},\"baxis\":{\"endlinecolor\":\"#2a3f5f\",\"gridcolor\":\"white\",\"linecolor\":\"white\",\"minorgridcolor\":\"white\",\"startlinecolor\":\"#2a3f5f\"},\"type\":\"carpet\"}],\"choropleth\":[{\"colorbar\":{\"outlinewidth\":0,\"ticks\":\"\"},\"type\":\"choropleth\"}],\"contour\":[{\"colorbar\":{\"outlinewidth\":0,\"ticks\":\"\"},\"colorscale\":[[0.0,\"#0d0887\"],[0.1111111111111111,\"#46039f\"],[0.2222222222222222,\"#7201a8\"],[0.3333333333333333,\"#9c179e\"],[0.4444444444444444,\"#bd3786\"],[0.5555555555555556,\"#d8576b\"],[0.6666666666666666,\"#ed7953\"],[0.7777777777777778,\"#fb9f3a\"],[0.8888888888888888,\"#fdca26\"],[1.0,\"#f0f921\"]],\"type\":\"contour\"}],\"contourcarpet\":[{\"colorbar\":{\"outlinewidth\":0,\"ticks\":\"\"},\"type\":\"contourcarpet\"}],\"heatmap\":[{\"colorbar\":{\"outlinewidth\":0,\"ticks\":\"\"},\"colorscale\":[[0.0,\"#0d0887\"],[0.1111111111111111,\"#46039f\"],[0.2222222222222222,\"#7201a8\"],[0.3333333333333333,\"#9c179e\"],[0.4444444444444444,\"#bd3786\"],[0.5555555555555556,\"#d8576b\"],[0.6666666666666666,\"#ed7953\"],[0.7777777777777778,\"#fb9f3a\"],[0.8888888888888888,\"#fdca26\"],[1.0,\"#f0f921\"]],\"type\":\"heatmap\"}],\"heatmapgl\":[{\"colorbar\":{\"outlinewidth\":0,\"ticks\":\"\"},\"colorscale\":[[0.0,\"#0d0887\"],[0.1111111111111111,\"#46039f\"],[0.2222222222222222,\"#7201a8\"],[0.3333333333333333,\"#9c179e\"],[0.4444444444444444,\"#bd3786\"],[0.5555555555555556,\"#d8576b\"],[0.6666666666666666,\"#ed7953\"],[0.7777777777777778,\"#fb9f3a\"],[0.8888888888888888,\"#fdca26\"],[1.0,\"#f0f921\"]],\"type\":\"heatmapgl\"}],\"histogram\":[{\"marker\":{\"pattern\":{\"fillmode\":\"overlay\",\"size\":10,\"solidity\":0.2}},\"type\":\"histogram\"}],\"histogram2d\":[{\"colorbar\":{\"outlinewidth\":0,\"ticks\":\"\"},\"colorscale\":[[0.0,\"#0d0887\"],[0.1111111111111111,\"#46039f\"],[0.2222222222222222,\"#7201a8\"],[0.3333333333333333,\"#9c179e\"],[0.4444444444444444,\"#bd3786\"],[0.5555555555555556,\"#d8576b\"],[0.6666666666666666,\"#ed7953\"],[0.7777777777777778,\"#fb9f3a\"],[0.8888888888888888,\"#fdca26\"],[1.0,\"#f0f921\"]],\"type\":\"histogram2d\"}],\"histogram2dcontour\":[{\"colorbar\":{\"outlinewidth\":0,\"ticks\":\"\"},\"colorscale\":[[0.0,\"#0d0887\"],[0.1111111111111111,\"#46039f\"],[0.2222222222222222,\"#7201a8\"],[0.3333333333333333,\"#9c179e\"],[0.4444444444444444,\"#bd3786\"],[0.5555555555555556,\"#d8576b\"],[0.6666666666666666,\"#ed7953\"],[0.7777777777777778,\"#fb9f3a\"],[0.8888888888888888,\"#fdca26\"],[1.0,\"#f0f921\"]],\"type\":\"histogram2dcontour\"}],\"mesh3d\":[{\"colorbar\":{\"outlinewidth\":0,\"ticks\":\"\"},\"type\":\"mesh3d\"}],\"parcoords\":[{\"line\":{\"colorbar\":{\"outlinewidth\":0,\"ticks\":\"\"}},\"type\":\"parcoords\"}],\"pie\":[{\"automargin\":true,\"type\":\"pie\"}],\"scatter\":[{\"marker\":{\"colorbar\":{\"outlinewidth\":0,\"ticks\":\"\"}},\"type\":\"scatter\"}],\"scatter3d\":[{\"line\":{\"colorbar\":{\"outlinewidth\":0,\"ticks\":\"\"}},\"marker\":{\"colorbar\":{\"outlinewidth\":0,\"ticks\":\"\"}},\"type\":\"scatter3d\"}],\"scattercarpet\":[{\"marker\":{\"colorbar\":{\"outlinewidth\":0,\"ticks\":\"\"}},\"type\":\"scattercarpet\"}],\"scattergeo\":[{\"marker\":{\"colorbar\":{\"outlinewidth\":0,\"ticks\":\"\"}},\"type\":\"scattergeo\"}],\"scattergl\":[{\"marker\":{\"colorbar\":{\"outlinewidth\":0,\"ticks\":\"\"}},\"type\":\"scattergl\"}],\"scattermapbox\":[{\"marker\":{\"colorbar\":{\"outlinewidth\":0,\"ticks\":\"\"}},\"type\":\"scattermapbox\"}],\"scatterpolar\":[{\"marker\":{\"colorbar\":{\"outlinewidth\":0,\"ticks\":\"\"}},\"type\":\"scatterpolar\"}],\"scatterpolargl\":[{\"marker\":{\"colorbar\":{\"outlinewidth\":0,\"ticks\":\"\"}},\"type\":\"scatterpolargl\"}],\"scatterternary\":[{\"marker\":{\"colorbar\":{\"outlinewidth\":0,\"ticks\":\"\"}},\"type\":\"scatterternary\"}],\"surface\":[{\"colorbar\":{\"outlinewidth\":0,\"ticks\":\"\"},\"colorscale\":[[0.0,\"#0d0887\"],[0.1111111111111111,\"#46039f\"],[0.2222222222222222,\"#7201a8\"],[0.3333333333333333,\"#9c179e\"],[0.4444444444444444,\"#bd3786\"],[0.5555555555555556,\"#d8576b\"],[0.6666666666666666,\"#ed7953\"],[0.7777777777777778,\"#fb9f3a\"],[0.8888888888888888,\"#fdca26\"],[1.0,\"#f0f921\"]],\"type\":\"surface\"}],\"table\":[{\"cells\":{\"fill\":{\"color\":\"#EBF0F8\"},\"line\":{\"color\":\"white\"}},\"header\":{\"fill\":{\"color\":\"#C8D4E3\"},\"line\":{\"color\":\"white\"}},\"type\":\"table\"}]},\"layout\":{\"annotationdefaults\":{\"arrowcolor\":\"#2a3f5f\",\"arrowhead\":0,\"arrowwidth\":1},\"autotypenumbers\":\"strict\",\"coloraxis\":{\"colorbar\":{\"outlinewidth\":0,\"ticks\":\"\"}},\"colorscale\":{\"diverging\":[[0,\"#8e0152\"],[0.1,\"#c51b7d\"],[0.2,\"#de77ae\"],[0.3,\"#f1b6da\"],[0.4,\"#fde0ef\"],[0.5,\"#f7f7f7\"],[0.6,\"#e6f5d0\"],[0.7,\"#b8e186\"],[0.8,\"#7fbc41\"],[0.9,\"#4d9221\"],[1,\"#276419\"]],\"sequential\":[[0.0,\"#0d0887\"],[0.1111111111111111,\"#46039f\"],[0.2222222222222222,\"#7201a8\"],[0.3333333333333333,\"#9c179e\"],[0.4444444444444444,\"#bd3786\"],[0.5555555555555556,\"#d8576b\"],[0.6666666666666666,\"#ed7953\"],[0.7777777777777778,\"#fb9f3a\"],[0.8888888888888888,\"#fdca26\"],[1.0,\"#f0f921\"]],\"sequentialminus\":[[0.0,\"#0d0887\"],[0.1111111111111111,\"#46039f\"],[0.2222222222222222,\"#7201a8\"],[0.3333333333333333,\"#9c179e\"],[0.4444444444444444,\"#bd3786\"],[0.5555555555555556,\"#d8576b\"],[0.6666666666666666,\"#ed7953\"],[0.7777777777777778,\"#fb9f3a\"],[0.8888888888888888,\"#fdca26\"],[1.0,\"#f0f921\"]]},\"colorway\":[\"#636efa\",\"#EF553B\",\"#00cc96\",\"#ab63fa\",\"#FFA15A\",\"#19d3f3\",\"#FF6692\",\"#B6E880\",\"#FF97FF\",\"#FECB52\"],\"font\":{\"color\":\"#2a3f5f\"},\"geo\":{\"bgcolor\":\"white\",\"lakecolor\":\"white\",\"landcolor\":\"#E5ECF6\",\"showlakes\":true,\"showland\":true,\"subunitcolor\":\"white\"},\"hoverlabel\":{\"align\":\"left\"},\"hovermode\":\"closest\",\"mapbox\":{\"style\":\"light\"},\"paper_bgcolor\":\"white\",\"plot_bgcolor\":\"#E5ECF6\",\"polar\":{\"angularaxis\":{\"gridcolor\":\"white\",\"linecolor\":\"white\",\"ticks\":\"\"},\"bgcolor\":\"#E5ECF6\",\"radialaxis\":{\"gridcolor\":\"white\",\"linecolor\":\"white\",\"ticks\":\"\"}},\"scene\":{\"xaxis\":{\"backgroundcolor\":\"#E5ECF6\",\"gridcolor\":\"white\",\"gridwidth\":2,\"linecolor\":\"white\",\"showbackground\":true,\"ticks\":\"\",\"zerolinecolor\":\"white\"},\"yaxis\":{\"backgroundcolor\":\"#E5ECF6\",\"gridcolor\":\"white\",\"gridwidth\":2,\"linecolor\":\"white\",\"showbackground\":true,\"ticks\":\"\",\"zerolinecolor\":\"white\"},\"zaxis\":{\"backgroundcolor\":\"#E5ECF6\",\"gridcolor\":\"white\",\"gridwidth\":2,\"linecolor\":\"white\",\"showbackground\":true,\"ticks\":\"\",\"zerolinecolor\":\"white\"}},\"shapedefaults\":{\"line\":{\"color\":\"#2a3f5f\"}},\"ternary\":{\"aaxis\":{\"gridcolor\":\"white\",\"linecolor\":\"white\",\"ticks\":\"\"},\"baxis\":{\"gridcolor\":\"white\",\"linecolor\":\"white\",\"ticks\":\"\"},\"bgcolor\":\"#E5ECF6\",\"caxis\":{\"gridcolor\":\"white\",\"linecolor\":\"white\",\"ticks\":\"\"}},\"title\":{\"x\":0.05},\"xaxis\":{\"automargin\":true,\"gridcolor\":\"white\",\"linecolor\":\"white\",\"ticks\":\"\",\"title\":{\"standoff\":15},\"zerolinecolor\":\"white\",\"zerolinewidth\":2},\"yaxis\":{\"automargin\":true,\"gridcolor\":\"white\",\"linecolor\":\"white\",\"ticks\":\"\",\"title\":{\"standoff\":15},\"zerolinecolor\":\"white\",\"zerolinewidth\":2}}},\"title\":{\"text\":\"Number of parking bays\"},\"xaxis\":{\"anchor\":\"y\",\"domain\":[0.0,1.0],\"title\":{\"text\":\"time_interval\"}},\"yaxis\":{\"anchor\":\"x\",\"domain\":[0.0,1.0],\"title\":{\"text\":\"value\"}}},                        {\"responsive\": true}                    ).then(function(){\n",
       "                            \n",
       "var gd = document.getElementById('01021a11-ad4c-4cf9-9432-c0132a5cd27d');\n",
       "var x = new MutationObserver(function (mutations, observer) {{\n",
       "        var display = window.getComputedStyle(gd).display;\n",
       "        if (!display || display === 'none') {{\n",
       "            console.log([gd, 'removed!']);\n",
       "            Plotly.purge(gd);\n",
       "            observer.disconnect();\n",
       "        }}\n",
       "}});\n",
       "\n",
       "// Listen for the removal of the full notebook cells\n",
       "var notebookContainer = gd.closest('#notebook-container');\n",
       "if (notebookContainer) {{\n",
       "    x.observe(notebookContainer, {childList: true});\n",
       "}}\n",
       "\n",
       "// Listen for the clearing of the current output cell\n",
       "var outputEl = gd.closest('.output');\n",
       "if (outputEl) {{\n",
       "    x.observe(outputEl, {childList: true});\n",
       "}}\n",
       "\n",
       "                        })                };                });            </script>        </div>"
      ]
     },
     "metadata": {},
     "output_type": "display_data"
    }
   ],
   "source": [
    "# Russell St (btw Lonsdale St & Bourke St)\n",
    "lat1, lon1 = -37.8109157014938, 144.96707250378861\n",
    "lat2, lon2 = -37.81086175932815, 144.9673721678719\n",
    "lat3, lon3 = -37.81274371825473, 144.96821426187805\n",
    "lat4, lon4 = -37.81280365246422, 144.96796390960594\n",
    "lat5, lon5 = -37.81184769602218, 144.96752389652164\n",
    "polygon = Polygon([(lon1, lat1), (lon2, lat2), (lon3, lat3), (lon4, lat4), (lon5, lat5)])\n",
    "\n",
    "gdf_filtered = geoPolyClip(ngdf, polygon)\n",
    "plot_map(gdf_filtered,map_height=300,map_zoom=15, marker_max=10)\n",
    "\n",
    "dfrh = pd.read_csv(\"datasets/003_vh2v-4nfs__bufferred.csv\", parse_dates=[\"db_read_time\"])\n",
    "dfrh_filtered = dfrh[dfrh[\"st_marker_id\"].isin(gdf_filtered[\"marker_id\"])]\n",
    "startdt, enddt = \"2021-09-09 11:00:00\", \"2021-09-16 11:00:00\"\n",
    "dfts1 = timeIntStats(dfrh_filtered, startdt, enddt, bin=\"15min\", bin_stat=\"median\")\n",
    "dfts1a = dfts1.reset_index(level=0)\n",
    "# px.scatter(dfts1a, x=\"time_interval\", y=[\"Unoccupied\",\"Present\"], hover_name=\"time_interval\")\n",
    "px.bar(dfts1a, x=\"time_interval\", y=[\"Unoccupied\",\"Present\"], hover_name=\"time_interval\", \n",
    "       height=300, title=\"Number of parking bays\",\n",
    "       color_discrete_map={\"unknown\":\"gray\", \"Unoccupied\":\"green\", \"Present\":\"red\"},\n",
    "       category_orders={\"status\": [\"unknown\", \"Unoccupied\", \"Present\"]})"
   ]
  }
 ],
 "metadata": {
  "interpreter": {
   "hash": "fd69f43f58546b570e94fd7eba7b65e6bcc7a5bbc4eab0408017d18902915d69"
  },
  "kernelspec": {
   "display_name": "Python 3",
   "language": "python",
   "name": "python3"
  },
  "language_info": {
   "codemirror_mode": {
    "name": "ipython",
    "version": 3
   },
   "file_extension": ".py",
   "mimetype": "text/x-python",
   "name": "python",
   "nbconvert_exporter": "python",
   "pygments_lexer": "ipython3",
   "version": "3.7.11"
  }
 },
 "nbformat": 4,
 "nbformat_minor": 2
}
